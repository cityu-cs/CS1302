{
 "cells": [
  {
   "cell_type": "markdown",
   "metadata": {
    "slideshow": {
     "slide_type": "slide"
    }
   },
   "source": [
    "# Values and Variables"
   ]
  },
  {
   "cell_type": "markdown",
   "metadata": {
    "slideshow": {
     "slide_type": "-"
    },
    "tags": [
     "remove-cell"
    ]
   },
   "source": [
    "**CS1302 Introduction to Computer Programming**\n",
    "___"
   ]
  },
  {
   "cell_type": "code",
   "execution_count": null,
   "metadata": {
    "ExecuteTime": {
     "end_time": "2020-11-27T11:20:04.656873Z",
     "start_time": "2020-11-27T11:20:04.651575Z"
    },
    "slideshow": {
     "slide_type": "fragment"
    },
    "tags": [
     "remove-cell"
    ]
   },
   "outputs": [],
   "source": [
    "import sys\n",
    "from ipywidgets import interact\n",
    "\n",
    "%reload_ext divewidgets"
   ]
  },
  {
   "cell_type": "markdown",
   "metadata": {
    "slideshow": {
     "slide_type": "slide"
    }
   },
   "source": [
    "## Integers"
   ]
  },
  {
   "cell_type": "markdown",
   "metadata": {
    "slideshow": {
     "slide_type": "subslide"
    }
   },
   "source": [
    "**How to enter an [integer](https://docs.python.org/3/reference/lexical_analysis.html#integer-literals) in a program?**"
   ]
  },
  {
   "cell_type": "code",
   "execution_count": null,
   "metadata": {
    "ExecuteTime": {
     "end_time": "2020-09-04T06:12:24.113291Z",
     "start_time": "2020-09-04T06:12:24.100412Z"
    },
    "slideshow": {
     "slide_type": "fragment"
    },
    "tags": []
   },
   "outputs": [],
   "source": [
    "# in decimal (base 10)\n",
    "15"
   ]
  },
  {
   "cell_type": "code",
   "execution_count": null,
   "metadata": {
    "ExecuteTime": {
     "end_time": "2020-09-04T06:12:24.844091Z",
     "start_time": "2020-09-04T06:12:24.838483Z"
    },
    "slideshow": {
     "slide_type": "-"
    }
   },
   "outputs": [],
   "source": [
    "# in binary (base 2)\n",
    "0b1111"
   ]
  },
  {
   "cell_type": "code",
   "execution_count": null,
   "metadata": {
    "ExecuteTime": {
     "end_time": "2020-09-04T06:12:25.306649Z",
     "start_time": "2020-09-04T06:12:25.301211Z"
    },
    "slideshow": {
     "slide_type": "-"
    }
   },
   "outputs": [],
   "source": [
    "# in hexadecimal (base 16)\n",
    "0xF"
   ]
  },
  {
   "cell_type": "markdown",
   "metadata": {
    "slideshow": {
     "slide_type": "subslide"
    }
   },
   "source": [
    "**Why all outputs are the same?**"
   ]
  },
  {
   "cell_type": "markdown",
   "metadata": {
    "slideshow": {
     "slide_type": "fragment"
    }
   },
   "source": [
    "- What you have entered are *integer literals*, namely, *integers written out literally*.\n",
    "- All the above integer literals have the same value equal to the decimal number 15.\n",
    "- By default, if the last line of a code cell has a value, the jupyter notebook (*IPython*) will store and display the value as an output. "
   ]
  },
  {
   "cell_type": "markdown",
   "metadata": {},
   "source": [
    "**What is an integer that is not a literal?**"
   ]
  },
  {
   "cell_type": "code",
   "execution_count": null,
   "metadata": {
    "ExecuteTime": {
     "end_time": "2020-09-04T06:12:37.589892Z",
     "start_time": "2020-09-04T06:12:37.583671Z"
    },
    "slideshow": {
     "slide_type": "fragment"
    }
   },
   "outputs": [],
   "source": [
    "3  # not the output of this cell\n",
    "4 + 5 + 6"
   ]
  },
  {
   "cell_type": "markdown",
   "metadata": {
    "slideshow": {
     "slide_type": "fragment"
    }
   },
   "source": [
    "- The last line above also has the same value, `15`.\n",
    "- It is an *expression* (but not a literal) that *evaluates* to the integer value."
   ]
  },
  {
   "cell_type": "markdown",
   "metadata": {
    "ExecuteTime": {
     "end_time": "2020-09-03T07:24:24.962834Z",
     "start_time": "2020-09-03T07:24:24.956011Z"
    },
    "slideshow": {
     "slide_type": "subslide"
    }
   },
   "source": [
    "**Exercise** \n",
    "\n",
    "Enter an expression that evaluates to an integer value, as big as possible.  \n",
    "(You may need to interrupt the kernel if the expression takes too long to evaluate.)"
   ]
  },
  {
   "cell_type": "code",
   "execution_count": null,
   "metadata": {
    "ExecuteTime": {
     "end_time": "2020-09-04T06:12:41.955927Z",
     "start_time": "2020-09-04T06:12:41.744204Z"
    },
    "deletable": false,
    "nbgrader": {
     "cell_type": "code",
     "checksum": "d6ce032e84f49cd962816c07606a6ff4",
     "grade": true,
     "grade_id": "big-int",
     "locked": false,
     "points": 0,
     "schema_version": 3,
     "solution": true,
     "task": false
    },
    "slideshow": {
     "slide_type": "-"
    },
    "tags": [
     "remove-output"
    ]
   },
   "outputs": [],
   "source": [
    "# YOUR CODE HERE\n",
    "raise NotImplementedError()"
   ]
  },
  {
   "cell_type": "markdown",
   "metadata": {},
   "source": [
    "```{seealso}\n",
    "Is there a maximum value for an integer for Python3?\n",
    "See the [documentation](https://docs.python.org/3.1/whatsnew/3.0.html#integers) about `sys.maxint`.\n",
    "```"
   ]
  },
  {
   "cell_type": "markdown",
   "metadata": {
    "slideshow": {
     "slide_type": "slide"
    }
   },
   "source": [
    "## Strings"
   ]
  },
  {
   "cell_type": "markdown",
   "metadata": {
    "slideshow": {
     "slide_type": "subslide"
    }
   },
   "source": [
    "**How to enter a [string](https://docs.python.org/3/reference/lexical_analysis.html#string-and-bytes-literals) in a program?**"
   ]
  },
  {
   "cell_type": "code",
   "execution_count": null,
   "metadata": {
    "ExecuteTime": {
     "end_time": "2020-09-04T06:12:49.154644Z",
     "start_time": "2020-09-04T06:12:49.148283Z"
    },
    "slideshow": {
     "slide_type": "fragment"
    }
   },
   "outputs": [],
   "source": [
    "print('\\U0001f600:\\n\\tI\\'m a string.')"
   ]
  },
  {
   "cell_type": "code",
   "execution_count": null,
   "metadata": {
    "ExecuteTime": {
     "end_time": "2020-09-04T06:12:50.937498Z",
     "start_time": "2020-09-04T06:12:50.931618Z"
    },
    "slideshow": {
     "slide_type": "fragment"
    }
   },
   "outputs": [],
   "source": [
    "print(\"\\N{grinning face}:\\n\\tI'm a string.\")"
   ]
  },
  {
   "cell_type": "code",
   "execution_count": null,
   "metadata": {
    "ExecuteTime": {
     "end_time": "2020-09-04T06:12:52.464405Z",
     "start_time": "2020-09-04T06:12:52.455900Z"
    },
    "slideshow": {
     "slide_type": "fragment"
    }
   },
   "outputs": [],
   "source": [
    "print(\"\"\"😀:\n",
    "        I'm a string.\"\"\")"
   ]
  },
  {
   "cell_type": "markdown",
   "metadata": {},
   "source": [
    "**Why are the different string literals printed in the same way?**"
   ]
  },
  {
   "cell_type": "markdown",
   "metadata": {
    "slideshow": {
     "slide_type": "fragment"
    }
   },
   "source": [
    "`\\U0001f600` and `\\N{grinning face}` are *escape sequences* representing the same grinning face emoji 😀 where\n",
    "\n",
    "- `0001f600` is the unicode in hexadecimal,\n",
    "- `grinning face` is the [name][CLDR], and\n",
    "- `\\` is called the *escape symbol*.\n",
    "\n",
    "[CLDR]: https://unicode.org/emoji/charts/full-emoji-list.html"
   ]
  },
  {
   "cell_type": "markdown",
   "metadata": {
    "slideshow": {
     "slide_type": "fragment"
    }
   },
   "source": [
    "`\\n` and `\\t` are *control code* that does not represent any symbol.\n",
    "- `\\n` creates a new line when printing the string.  \n",
    "- `\\t` creates a tab to indent the line."
   ]
  },
  {
   "cell_type": "markdown",
   "metadata": {
    "slideshow": {
     "slide_type": "fragment"
    }
   },
   "source": [
    "Using double quotes, we need not escape the single quote in `I'm`.  "
   ]
  },
  {
   "cell_type": "markdown",
   "metadata": {
    "slideshow": {
     "slide_type": "fragment"
    }
   },
   "source": [
    "Triple quotes delimit a multi-line string, so there is no need to use `\\n`.  \n",
    "E.g., you may copy and paste a multi-line string from elsewhere."
   ]
  },
  {
   "cell_type": "markdown",
   "metadata": {
    "slideshow": {
     "slide_type": "subslide"
    }
   },
   "source": [
    "In programming, there are often many ways to do the same thing.  \n",
    "The following is a one-line code ([one-liner](https://en.wikipedia.org/wiki/One-liner_program)) that prints multiple lines of strings separated by `\\n`:"
   ]
  },
  {
   "cell_type": "code",
   "execution_count": null,
   "metadata": {
    "ExecuteTime": {
     "end_time": "2020-09-04T06:13:13.697184Z",
     "start_time": "2020-09-04T06:13:13.690157Z"
    },
    "slideshow": {
     "slide_type": "fragment"
    }
   },
   "outputs": [],
   "source": [
    "print(\"\\N{grinning face}:\", \"\\tI'm a string.\", sep=\"\\n\")  # one liner"
   ]
  },
  {
   "cell_type": "markdown",
   "metadata": {
    "slideshow": {
     "slide_type": "fragment"
    }
   },
   "source": [
    "- `sep=\"\\n\"` is a *keyword argument* that specifies the separator of the list of strings.\n",
    "- By default, `sep=\" \"`, a single space character."
   ]
  },
  {
   "cell_type": "markdown",
   "metadata": {
    "slideshow": {
     "slide_type": "subslide"
    }
   },
   "source": [
    "In IPython, we can get the *docstring* (documentation) of a function conveniently using the symbol `?`."
   ]
  },
  {
   "cell_type": "code",
   "execution_count": null,
   "metadata": {
    "ExecuteTime": {
     "end_time": "2020-09-04T06:13:17.185308Z",
     "start_time": "2020-09-04T06:13:17.178027Z"
    },
    "slideshow": {
     "slide_type": "-"
    }
   },
   "outputs": [],
   "source": [
    "?print"
   ]
  },
  {
   "cell_type": "code",
   "execution_count": null,
   "metadata": {
    "ExecuteTime": {
     "end_time": "2020-09-04T06:13:22.441223Z",
     "start_time": "2020-09-04T06:13:22.435397Z"
    },
    "slideshow": {
     "slide_type": "-"
    }
   },
   "outputs": [],
   "source": [
    "print?"
   ]
  },
  {
   "cell_type": "markdown",
   "metadata": {
    "slideshow": {
     "slide_type": "subslide"
    }
   },
   "source": [
    "**Exercise** Print a cool multi-line string below."
   ]
  },
  {
   "cell_type": "code",
   "execution_count": null,
   "metadata": {
    "ExecuteTime": {
     "end_time": "2020-09-04T06:13:28.083690Z",
     "start_time": "2020-09-04T06:13:28.076808Z"
    },
    "deletable": false,
    "nbgrader": {
     "cell_type": "code",
     "checksum": "8768be1d510ea6cc2305f282e0d8c402",
     "grade": true,
     "grade_id": "multi-line",
     "locked": false,
     "points": 0,
     "schema_version": 3,
     "solution": true,
     "task": false
    },
    "slideshow": {
     "slide_type": "-"
    }
   },
   "outputs": [],
   "source": [
    "# YOUR CODE HERE\n",
    "raise NotImplementedError()"
   ]
  },
  {
   "cell_type": "markdown",
   "metadata": {
    "slideshow": {
     "slide_type": "fragment"
    },
    "tags": []
   },
   "source": [
    "```{seealso}\n",
    "\n",
    "Compare you answer with the ASCII arts below:\n",
    "- Star Wars via Telnet: http://asciimation.co.nz/\n",
    "- bashplotlib: https://github.com/glamp/bashplotlib\n",
    "```"
   ]
  },
  {
   "cell_type": "markdown",
   "metadata": {
    "slideshow": {
     "slide_type": "slide"
    }
   },
   "source": [
    "## Variables and Assignment"
   ]
  },
  {
   "cell_type": "markdown",
   "metadata": {
    "slideshow": {
     "slide_type": "subslide"
    }
   },
   "source": [
    "It is useful to store a value and retrieve it later. To do so, we assign the value to a variable:"
   ]
  },
  {
   "cell_type": "code",
   "execution_count": null,
   "metadata": {
    "ExecuteTime": {
     "end_time": "2020-09-04T06:13:39.869776Z",
     "start_time": "2020-09-04T06:13:39.862735Z"
    },
    "slideshow": {
     "slide_type": "fragment"
    }
   },
   "outputs": [],
   "source": [
    "x = 15\n",
    "x  # output the value of x"
   ]
  },
  {
   "cell_type": "markdown",
   "metadata": {
    "slideshow": {
     "slide_type": "subslide"
    }
   },
   "source": [
    "**Is assignment the same as equality?**"
   ]
  },
  {
   "cell_type": "markdown",
   "metadata": {
    "slideshow": {
     "slide_type": "fragment"
    }
   },
   "source": [
    "No because:\n",
    "- you cannot write `15 = x`, but\n",
    "- you can write `x = x + 1`, which increases the value of `x` by `1`."
   ]
  },
  {
   "cell_type": "markdown",
   "metadata": {
    "slideshow": {
     "slide_type": "fragment"
    }
   },
   "source": [
    "**Exercise** Try out the above code yourself."
   ]
  },
  {
   "cell_type": "code",
   "execution_count": null,
   "metadata": {
    "ExecuteTime": {
     "end_time": "2020-09-04T06:13:44.080017Z",
     "start_time": "2020-09-04T06:13:44.071401Z"
    },
    "deletable": false,
    "nbgrader": {
     "cell_type": "code",
     "checksum": "7ef0a697a5165082230e7acf59ebed18",
     "grade": true,
     "grade_id": "assign-vs-eq",
     "locked": false,
     "points": 0,
     "schema_version": 3,
     "solution": true,
     "task": false
    },
    "slideshow": {
     "slide_type": "-"
    }
   },
   "outputs": [],
   "source": [
    "# YOUR CODE HERE\n",
    "raise NotImplementedError()"
   ]
  },
  {
   "cell_type": "markdown",
   "metadata": {
    "slideshow": {
     "slide_type": "subslide"
    }
   },
   "source": [
    "Let's see the effect of assignment step-by-step:\n",
    "1. Run the following cell.\n",
    "1. Click `Next >` to see the next step of the execution."
   ]
  },
  {
   "cell_type": "code",
   "execution_count": null,
   "metadata": {
    "ExecuteTime": {
     "end_time": "2020-09-04T06:13:46.281847Z",
     "start_time": "2020-09-04T06:13:46.271712Z"
    },
    "slideshow": {
     "slide_type": "-"
    },
    "tags": []
   },
   "outputs": [],
   "source": [
    "%%optlite -h 300\n",
    "x = 15\n",
    "x = x + 1"
   ]
  },
  {
   "cell_type": "markdown",
   "metadata": {
    "slideshow": {
     "slide_type": "subslide"
    }
   },
   "source": [
    "The following *tuple assignment* syntax can assign multiple variables in one line."
   ]
  },
  {
   "cell_type": "code",
   "execution_count": null,
   "metadata": {
    "ExecuteTime": {
     "end_time": "2020-09-04T06:14:00.887718Z",
     "start_time": "2020-09-04T06:14:00.877785Z"
    },
    "slideshow": {
     "slide_type": "-"
    }
   },
   "outputs": [],
   "source": [
    "%%optlite -h 300\n",
    "x, y, z = '15', '30', 15"
   ]
  },
  {
   "cell_type": "markdown",
   "metadata": {
    "slideshow": {
     "slide_type": "fragment"
    }
   },
   "source": [
    "One can also use *chained assignment* to set different variables to the same value."
   ]
  },
  {
   "cell_type": "code",
   "execution_count": null,
   "metadata": {
    "ExecuteTime": {
     "end_time": "2020-09-04T06:14:20.316175Z",
     "start_time": "2020-09-04T06:14:20.306489Z"
    },
    "slideshow": {
     "slide_type": "-"
    }
   },
   "outputs": [],
   "source": [
    "%%optlite -h 300\n",
    "x = y = z = 0"
   ]
  },
  {
   "cell_type": "markdown",
   "metadata": {
    "slideshow": {
     "slide_type": "subslide"
    }
   },
   "source": [
    "Variables can be deleted using `del`. Accessing a variable before assignment raises a Name error."
   ]
  },
  {
   "cell_type": "code",
   "execution_count": null,
   "metadata": {},
   "outputs": [],
   "source": [
    "%%optlite -h 350\n",
    "x = y = 0\n",
    "del x, y\n",
    "x, y"
   ]
  },
  {
   "cell_type": "markdown",
   "metadata": {
    "slideshow": {
     "slide_type": "slide"
    }
   },
   "source": [
    "## Identifiers"
   ]
  },
  {
   "cell_type": "markdown",
   "metadata": {
    "slideshow": {
     "slide_type": "fragment"
    }
   },
   "source": [
    "*Identifiers* such as variable names are case sensitive and follow certain rules."
   ]
  },
  {
   "cell_type": "markdown",
   "metadata": {
    "slideshow": {
     "slide_type": "subslide"
    }
   },
   "source": [
    "**What is the syntax for variable names?**"
   ]
  },
  {
   "cell_type": "markdown",
   "metadata": {
    "slideshow": {
     "slide_type": "fragment"
    }
   },
   "source": [
    "1. Must start with a letter or `_` (an underscore) followed by letters, digits, or `_`.\n",
    "1. Must not be a [keyword](https://docs.python.org/3.7/reference/lexical_analysis.html#keywords) reserved by python:\n",
    "\n",
    "```python\n",
    "False      await      else       import     pass\n",
    "None       break      except     in         raise\n",
    "True       class      finally    is         return\n",
    "and        continue   for        lambda     try\n",
    "as         def        from       nonlocal   while\n",
    "assert     del        global     not        with\n",
    "async      elif       if         or         yield\n",
    "```"
   ]
  },
  {
   "cell_type": "markdown",
   "metadata": {
    "slideshow": {
     "slide_type": "fragment"
    }
   },
   "source": [
    "**Exercise** Evaluate the following cell and check if any of the rules above is violated.\n",
    "\n",
    "```{caution}\n",
    "For the code to run, you must run the initialization cell that imports ipywidgets:\n",
    "````python\n",
    "from ipywidgets import interact\n",
    "````\n",
    "```"
   ]
  },
  {
   "cell_type": "code",
   "execution_count": null,
   "metadata": {
    "ExecuteTime": {
     "end_time": "2020-09-04T07:45:48.191750Z",
     "start_time": "2020-09-04T07:45:48.134981Z"
    },
    "code_folding": [],
    "slideshow": {
     "slide_type": "-"
    }
   },
   "outputs": [],
   "source": [
    "@interact\n",
    "def identifier_syntax(\n",
    "    assignment=[\n",
    "        \"a-number = 15\",\n",
    "        \"a_number = 15\",\n",
    "        \"15 = 15\",\n",
    "        \"_15 = 15\",\n",
    "        \"del = 15\",\n",
    "        \"Del = 15\",\n",
    "        \"type = print\",\n",
    "        \"print = type\",\n",
    "        \"input = print\",\n",
    "    ]\n",
    "):\n",
    "    exec(assignment)\n",
    "    print(\"Ok.\")"
   ]
  },
  {
   "cell_type": "markdown",
   "metadata": {
    "deletable": false,
    "nbgrader": {
     "cell_type": "markdown",
     "checksum": "5ecc235f0ae5be5c77beeed2f6b6dd2e",
     "grade": true,
     "grade_id": "invalid-identifiers",
     "locked": false,
     "points": 0,
     "schema_version": 3,
     "solution": true,
     "task": false
    },
    "slideshow": {
     "slide_type": "-"
    }
   },
   "source": [
    "YOUR ANSWER HERE"
   ]
  },
  {
   "cell_type": "markdown",
   "metadata": {
    "slideshow": {
     "slide_type": "fragment"
    }
   },
   "source": [
    "```{hint}\n",
    "- `del` is a keyword and `Del` is not because identifiers are case sensitive.\n",
    "- Function names such as `print`, `input`, `type`, etc., are not keywords and can be reassigned.  \n",
    "  This can be useful if you want to modify the default implementations without changing their source code.\n",
    "```"
   ]
  },
  {
   "cell_type": "markdown",
   "metadata": {
    "slideshow": {
     "slide_type": "-"
    }
   },
   "source": [
    "```{seealso}\n",
    "To help make their code more readable, programmers follow additional style guides such as [PEP 8](https://www.python.org/dev/peps/pep-0008/#function-and-variable-names):\n",
    "- Function names should be lowercase, with words separated by underscores as necessary to improve readability.  \n",
    "- Variable names follow the same convention as function names.\n",
    "```"
   ]
  },
  {
   "cell_type": "markdown",
   "metadata": {
    "slideshow": {
     "slide_type": "subslide"
    }
   },
   "source": [
    "## User Input"
   ]
  },
  {
   "cell_type": "markdown",
   "metadata": {
    "slideshow": {
     "slide_type": "fragment"
    }
   },
   "source": [
    "**How to let the user input a value at *runtime*,  \n",
    "i.e., as the program executes?**"
   ]
  },
  {
   "cell_type": "markdown",
   "metadata": {
    "ExecuteTime": {
     "end_time": "2020-09-03T00:36:13.424771Z",
     "start_time": "2020-09-03T00:36:13.418453Z"
    },
    "slideshow": {
     "slide_type": "fragment"
    }
   },
   "source": [
    "We can use the method `input`:"
   ]
  },
  {
   "cell_type": "code",
   "execution_count": null,
   "metadata": {
    "ExecuteTime": {
     "end_time": "2020-09-04T06:16:10.739529Z",
     "start_time": "2020-09-04T06:16:07.981984Z"
    },
    "slideshow": {
     "slide_type": "-"
    },
    "tags": [
     "remove-output"
    ]
   },
   "outputs": [],
   "source": [
    "print('Your name is', input('Please input your name: '))"
   ]
  },
  {
   "cell_type": "markdown",
   "metadata": {
    "slideshow": {
     "slide_type": "fragment"
    }
   },
   "source": [
    "```{note}\n",
    "\n",
    "- The `input` method prints its argument, if any, as a [prompt](https://en.wikipedia.org/wiki/Command-line_interface#Command_prompt).  \n",
    "- It takes user's input and *returns* it as a string. `print` takes in the string and prints it.\n",
    "- There is no need to delimit the input string by quotation marks. Simply press `enter` after typing a string.\n",
    "```"
   ]
  },
  {
   "cell_type": "markdown",
   "metadata": {
    "slideshow": {
     "slide_type": "subslide"
    }
   },
   "source": [
    "**Exercise** Explain whether the following code prints `'My name is Python'`. Does `print` return a value? "
   ]
  },
  {
   "cell_type": "code",
   "execution_count": null,
   "metadata": {
    "ExecuteTime": {
     "end_time": "2020-09-04T06:16:58.364342Z",
     "start_time": "2020-09-04T06:16:58.357032Z"
    },
    "slideshow": {
     "slide_type": "-"
    }
   },
   "outputs": [],
   "source": [
    "print('My name is', print('Python'))"
   ]
  },
  {
   "cell_type": "markdown",
   "metadata": {
    "deletable": false,
    "nbgrader": {
     "cell_type": "markdown",
     "checksum": "b46e46183a992620cdad06cf2e6ac08d",
     "grade": true,
     "grade_id": "print-returns-none",
     "locked": false,
     "points": 0,
     "schema_version": 3,
     "solution": true,
     "task": false
    },
    "slideshow": {
     "slide_type": "-"
    }
   },
   "source": [
    "YOUR ANSWER HERE"
   ]
  },
  {
   "cell_type": "markdown",
   "metadata": {
    "slideshow": {
     "slide_type": "slide"
    }
   },
   "source": [
    "## Type Conversion"
   ]
  },
  {
   "cell_type": "markdown",
   "metadata": {
    "slideshow": {
     "slide_type": "subslide"
    }
   },
   "source": [
    "The following program tries to compute the sum of two numbers from user inputs:"
   ]
  },
  {
   "cell_type": "code",
   "execution_count": null,
   "metadata": {
    "ExecuteTime": {
     "end_time": "2020-09-04T06:17:10.204755Z",
     "start_time": "2020-09-04T06:17:06.438645Z"
    },
    "slideshow": {
     "slide_type": "-"
    },
    "tags": [
     "remove-output"
    ]
   },
   "outputs": [],
   "source": [
    "num1 = input('Please input an integer: ')\n",
    "num2 = input('Please input another integer: ')\n",
    "print(num1, '+', num2, 'is equal to', num1 + num2)"
   ]
  },
  {
   "cell_type": "markdown",
   "metadata": {
    "slideshow": {
     "slide_type": "fragment"
    }
   },
   "source": [
    "**Exercise** There is a [bug](https://en.wikipedia.org/wiki/Software_bug) in the above code. Can you locate the error?"
   ]
  },
  {
   "cell_type": "markdown",
   "metadata": {
    "deletable": false,
    "nbgrader": {
     "cell_type": "markdown",
     "checksum": "5242ad43e12cfbc589a2f021142b56f4",
     "grade": true,
     "grade_id": "cell-d1d22bc89eb9f7b6",
     "locked": false,
     "points": 0,
     "schema_version": 3,
     "solution": true,
     "task": false
    },
    "slideshow": {
     "slide_type": "-"
    }
   },
   "source": [
    "YOUR ANSWER HERE"
   ]
  },
  {
   "cell_type": "markdown",
   "metadata": {
    "slideshow": {
     "slide_type": "subslide"
    }
   },
   "source": [
    "`input` *returns* user input as a string.  \n",
    "E.g., if the user enters `12`, the input is\n",
    "- not treated as the integer twelve, but rather\n",
    "- treated as a string containing two characters, one followed by two."
   ]
  },
  {
   "cell_type": "markdown",
   "metadata": {
    "slideshow": {
     "slide_type": "fragment"
    }
   },
   "source": [
    "To see this, we can use `type` to return the data type of an expression."
   ]
  },
  {
   "cell_type": "code",
   "execution_count": null,
   "metadata": {
    "ExecuteTime": {
     "end_time": "2020-09-04T06:17:27.250633Z",
     "start_time": "2020-09-04T06:17:22.253068Z"
    },
    "slideshow": {
     "slide_type": "-"
    },
    "tags": [
     "remove-output"
    ]
   },
   "outputs": [],
   "source": [
    "num1 = input('Please input an integer: ')\n",
    "print('Your input is', num1, 'with type', type(num1))"
   ]
  },
  {
   "cell_type": "markdown",
   "metadata": {
    "slideshow": {
     "slide_type": "subslide"
    }
   },
   "source": [
    "**Exercise** `type` applies to any expressions. Try it out below on `15`, `print`, `print()`, `input`, and even `type` itself and `type(type)`."
   ]
  },
  {
   "cell_type": "code",
   "execution_count": null,
   "metadata": {
    "ExecuteTime": {
     "end_time": "2020-09-04T06:17:39.062596Z",
     "start_time": "2020-09-04T06:17:39.051304Z"
    },
    "deletable": false,
    "nbgrader": {
     "cell_type": "code",
     "checksum": "943fc9cf3dea00f3a08ae5e092f43f07",
     "grade": true,
     "grade_id": "type",
     "locked": false,
     "points": 0,
     "schema_version": 3,
     "solution": true,
     "task": false
    },
    "slideshow": {
     "slide_type": "-"
    }
   },
   "outputs": [],
   "source": [
    "# YOUR CODE HERE\n",
    "raise NotImplementedError()"
   ]
  },
  {
   "cell_type": "markdown",
   "metadata": {
    "slideshow": {
     "slide_type": "subslide"
    }
   },
   "source": [
    "**So what happens when we add strings together?**"
   ]
  },
  {
   "cell_type": "code",
   "execution_count": null,
   "metadata": {
    "ExecuteTime": {
     "end_time": "2020-09-04T06:17:49.789649Z",
     "start_time": "2020-09-04T06:17:49.781630Z"
    },
    "slideshow": {
     "slide_type": "-"
    }
   },
   "outputs": [],
   "source": [
    "'4' + '5' + '6'"
   ]
  },
  {
   "cell_type": "markdown",
   "metadata": {
    "slideshow": {
     "slide_type": "fragment"
    }
   },
   "source": [
    "**How to fix the bug then?**"
   ]
  },
  {
   "cell_type": "markdown",
   "metadata": {
    "slideshow": {
     "slide_type": "fragment"
    }
   },
   "source": [
    "We can convert a string to an integer using `int`."
   ]
  },
  {
   "cell_type": "code",
   "execution_count": null,
   "metadata": {
    "ExecuteTime": {
     "end_time": "2020-09-04T06:18:27.244226Z",
     "start_time": "2020-09-04T06:18:27.236901Z"
    },
    "slideshow": {
     "slide_type": "-"
    }
   },
   "outputs": [],
   "source": [
    "int('4') + int('5') + int('6')"
   ]
  },
  {
   "cell_type": "markdown",
   "metadata": {
    "slideshow": {
     "slide_type": "fragment"
    }
   },
   "source": [
    "We can also convert an integer to a string using `str`."
   ]
  },
  {
   "cell_type": "code",
   "execution_count": null,
   "metadata": {
    "ExecuteTime": {
     "end_time": "2020-09-04T06:18:45.050543Z",
     "start_time": "2020-09-04T06:18:45.044301Z"
    },
    "slideshow": {
     "slide_type": "-"
    }
   },
   "outputs": [],
   "source": [
    "str(4) + str(5) + str(6)"
   ]
  },
  {
   "cell_type": "markdown",
   "metadata": {
    "slideshow": {
     "slide_type": "subslide"
    }
   },
   "source": [
    "**Exercise** Fix the bug in the following cell."
   ]
  },
  {
   "cell_type": "code",
   "execution_count": null,
   "metadata": {
    "ExecuteTime": {
     "end_time": "2020-09-04T06:19:05.685119Z",
     "start_time": "2020-09-04T06:18:54.936526Z"
    },
    "deletable": false,
    "nbgrader": {
     "cell_type": "code",
     "checksum": "4f2b7bf4fb934329e7ea11675393eebf",
     "grade": false,
     "grade_id": "string-concat-bug",
     "locked": false,
     "schema_version": 3,
     "solution": true,
     "task": false
    },
    "slideshow": {
     "slide_type": "-"
    },
    "tags": [
     "remove-output"
    ]
   },
   "outputs": [],
   "source": [
    "num1 = input('Please input an integer: ')\n",
    "num2 = input('Please input another integer: ')\n",
    "# print(num1, '+', num2, 'is equal to', num1 + num2)  # fix this line below\n",
    "# YOUR CODE HERE\n",
    "raise NotImplementedError()"
   ]
  },
  {
   "cell_type": "markdown",
   "metadata": {
    "slideshow": {
     "slide_type": "slide"
    }
   },
   "source": [
    "## Error"
   ]
  },
  {
   "cell_type": "markdown",
   "metadata": {
    "slideshow": {
     "slide_type": "fragment"
    }
   },
   "source": [
    "In addition to writing code, a programmer spends significant time in *debugging* code that contains errors.\n"
   ]
  },
  {
   "cell_type": "markdown",
   "metadata": {
    "slideshow": {
     "slide_type": "fragment"
    }
   },
   "source": [
    "**Can an error be automatically detected by the computer?**"
   ]
  },
  {
   "cell_type": "markdown",
   "metadata": {
    "slideshow": {
     "slide_type": "fragment"
    }
   },
   "source": [
    "- You have just seen an example of *logical error*, which is due to an error in the logic.  \n",
    "- The ability to debug or even detect such error is, unfortunately, beyond python's intelligence."
   ]
  },
  {
   "cell_type": "markdown",
   "metadata": {
    "slideshow": {
     "slide_type": "fragment"
    }
   },
   "source": [
    "Other kinds of error may be detected automatically.  \n",
    "As an example, note that we can omit `+` for string concatenation, but we cannot omit it for integer summation:"
   ]
  },
  {
   "cell_type": "code",
   "execution_count": null,
   "metadata": {
    "ExecuteTime": {
     "end_time": "2020-09-04T06:19:19.006999Z",
     "start_time": "2020-09-04T06:19:18.997817Z"
    },
    "slideshow": {
     "slide_type": "fragment"
    }
   },
   "outputs": [],
   "source": [
    "print('Skipping + for string concatenation')\n",
    "'4''5' '6'"
   ]
  },
  {
   "cell_type": "code",
   "execution_count": null,
   "metadata": {
    "ExecuteTime": {
     "end_time": "2020-09-04T06:19:20.450012Z",
     "start_time": "2020-09-04T06:19:20.443547Z"
    },
    "slideshow": {
     "slide_type": "-"
    },
    "tags": []
   },
   "outputs": [],
   "source": [
    "print('Skipping + for integer summation')\n",
    "4 5 6"
   ]
  },
  {
   "cell_type": "markdown",
   "metadata": {
    "slideshow": {
     "slide_type": "fragment"
    }
   },
   "source": [
    "Python interpreter detects the bug and raises a *syntax* error."
   ]
  },
  {
   "cell_type": "markdown",
   "metadata": {
    "slideshow": {
     "slide_type": "subslide"
    }
   },
   "source": [
    "**Why Syntax error can be detected automatically?  \n",
    "Why is the print statement before the error not executed?**"
   ]
  },
  {
   "cell_type": "markdown",
   "metadata": {
    "slideshow": {
     "slide_type": "fragment"
    }
   },
   "source": [
    "- The Python interpreter can detect syntax error even before executing the code because\n",
    "- the interpreter simply fails to translate the code to lower-level executable code."
   ]
  },
  {
   "cell_type": "markdown",
   "metadata": {
    "slideshow": {
     "slide_type": "subslide"
    }
   },
   "source": [
    "The following code raises a different kind of error."
   ]
  },
  {
   "cell_type": "code",
   "execution_count": null,
   "metadata": {
    "ExecuteTime": {
     "end_time": "2020-09-04T06:19:36.771874Z",
     "start_time": "2020-09-04T06:19:36.753536Z"
    },
    "slideshow": {
     "slide_type": "-"
    }
   },
   "outputs": [],
   "source": [
    "print(\"Evaluating '4' + '5' + 6\")\n",
    "'4' + '5' + 6  # summing string with integer"
   ]
  },
  {
   "cell_type": "markdown",
   "metadata": {
    "slideshow": {
     "slide_type": "fragment"
    }
   },
   "source": [
    "**Why Python throws a TypeError when evaluating `'4' + '5' + 6`?**"
   ]
  },
  {
   "cell_type": "markdown",
   "metadata": {
    "slideshow": {
     "slide_type": "fragment"
    }
   },
   "source": [
    "There is no implementation of `+` operation on a value of type `str` and a value of type `int`. "
   ]
  },
  {
   "cell_type": "markdown",
   "metadata": {
    "slideshow": {
     "slide_type": "fragment"
    }
   },
   "source": [
    "- Unlike the syntax error, the Python interpreter can only detect a type error at runtime (when executing the code.) \n",
    "- Hence, such an error is called a *runtime error*.\n"
   ]
  },
  {
   "cell_type": "markdown",
   "metadata": {
    "slideshow": {
     "slide_type": "subslide"
    }
   },
   "source": [
    "**Do other languages work in the same way?**"
   ]
  },
  {
   "cell_type": "markdown",
   "metadata": {},
   "source": [
    "The following cell runs the corresponding javascript code using a cell magic:"
   ]
  },
  {
   "cell_type": "code",
   "execution_count": null,
   "metadata": {
    "ExecuteTime": {
     "end_time": "2020-09-04T06:19:54.842114Z",
     "start_time": "2020-09-04T06:19:54.833509Z"
    },
    "slideshow": {
     "slide_type": "-"
    }
   },
   "outputs": [],
   "source": [
    "%%javascript\n",
    "let x = '4' + '5' + 6;\n",
    "element.append(x + ' ' + typeof(x));\n",
    "// no error because 6 is converted to a str implicitly"
   ]
  },
  {
   "cell_type": "code",
   "execution_count": null,
   "metadata": {},
   "outputs": [],
   "source": [
    "%%javascript\n",
    "let x = '4' * '5' * 6;\n",
    "element.append(x + ' ' + typeof(x));\n",
    "// no error because 4 and 5 are converted to numbers implicitly"
   ]
  },
  {
   "cell_type": "markdown",
   "metadata": {},
   "source": [
    "Javascript is called is a *weakly-typed* language because it forces a type conversion to avoid a type error."
   ]
  },
  {
   "cell_type": "markdown",
   "metadata": {
    "slideshow": {
     "slide_type": "fragment"
    }
   },
   "source": [
    "Python is a [*strongly-and-dynamically-typed*](https://en.wikipedia.org/wiki/Strong_and_weak_typing) language:\n",
    "- *Strongly-typed*: Python does not force a type conversion to avoid a type error.\n",
    "- *Dynamically-typed*: Python checks data type only at runtime after translating the code to machine code."
   ]
  },
  {
   "cell_type": "markdown",
   "metadata": {
    "slideshow": {
     "slide_type": "subslide"
    },
    "tags": []
   },
   "source": [
    "In comparison, C/C++ and Java are *statically-typed* languages that checks data type during compilation."
   ]
  },
  {
   "cell_type": "code",
   "execution_count": null,
   "metadata": {},
   "outputs": [],
   "source": [
    "try:\n",
    "    !gcc 456.cpp\n",
    "except Error:\n",
    "    print('Cannot run shell command.')"
   ]
  },
  {
   "cell_type": "code",
   "execution_count": null,
   "metadata": {},
   "outputs": [],
   "source": [
    "try:\n",
    "    !javac 456.java\n",
    "except Error:\n",
    "    print('Cannot run shell command.')"
   ]
  },
  {
   "cell_type": "markdown",
   "metadata": {
    "slideshow": {
     "slide_type": "fragment"
    }
   },
   "source": [
    "```{note}\n",
    "\n",
    "A weakly-typed language may seem more robust, but it can lead to [more logical errors](https://www.oreilly.com/library/view/fluent-conference-javascript/9781449339203/oreillyvideos1220106.html).\n",
    "\n",
    "- Javascript is [tricky](https://github.com/denysdovhan/wtfjs).\n",
    "- To improve readability and avoid logical errors, [typescript](https://www.typescriptlang.org/) is a strongly-typed replacement of javascript.\n",
    "```"
   ]
  },
  {
   "cell_type": "markdown",
   "metadata": {
    "slideshow": {
     "slide_type": "subslide"
    }
   },
   "source": [
    "**Exercise** Not all the strings can be converted into integers. Try breaking the following code by providing invalid inputs and record them in the subsequent cell. Explain whether the errors are runtime errors."
   ]
  },
  {
   "cell_type": "code",
   "execution_count": null,
   "metadata": {
    "ExecuteTime": {
     "end_time": "2020-09-04T06:20:16.984476Z",
     "start_time": "2020-09-04T06:20:10.601798Z"
    },
    "slideshow": {
     "slide_type": "-"
    },
    "tags": [
     "remove-output"
    ]
   },
   "outputs": [],
   "source": [
    "num1 = input('Please input an integer: ')\n",
    "num2 = input('Please input another integer: ')\n",
    "print(num1, '+', num2, 'is equal to', int(num1) + int(num2))"
   ]
  },
  {
   "cell_type": "markdown",
   "metadata": {
    "ExecuteTime": {
     "end_time": "2020-09-03T00:03:42.085828Z",
     "start_time": "2020-09-03T00:03:42.073895Z"
    },
    "deletable": false,
    "nbgrader": {
     "cell_type": "markdown",
     "checksum": "397bf914b96707ad1a38ff53085f1c22",
     "grade": true,
     "grade_id": "invalid-input",
     "locked": false,
     "points": 0,
     "schema_version": 3,
     "solution": true,
     "task": false
    },
    "slideshow": {
     "slide_type": "-"
    }
   },
   "source": [
    "YOUR ANSWER HERE"
   ]
  },
  {
   "cell_type": "markdown",
   "metadata": {
    "slideshow": {
     "slide_type": "slide"
    }
   },
   "source": [
    "## Floating Point Numbers"
   ]
  },
  {
   "cell_type": "markdown",
   "metadata": {
    "slideshow": {
     "slide_type": "fragment"
    }
   },
   "source": [
    "Not all numbers are integers. In Enginnering, we often need to use fractions."
   ]
  },
  {
   "cell_type": "markdown",
   "metadata": {
    "slideshow": {
     "slide_type": "subslide"
    }
   },
   "source": [
    "**How to enter fractions in a program?**"
   ]
  },
  {
   "cell_type": "code",
   "execution_count": null,
   "metadata": {
    "ExecuteTime": {
     "end_time": "2020-09-04T06:22:42.771953Z",
     "start_time": "2020-09-04T06:22:42.764077Z"
    },
    "slideshow": {
     "slide_type": "fragment"
    }
   },
   "outputs": [],
   "source": [
    "x = -0.1     # decimal number\n",
    "y = -1.0e-1  # scientific notation\n",
    "z = -1 / 10  # fraction\n",
    "x, y, z, type(x), type(y), type(z)"
   ]
  },
  {
   "cell_type": "markdown",
   "metadata": {
    "slideshow": {
     "slide_type": "subslide"
    }
   },
   "source": [
    "**What is the type `float`?**"
   ]
  },
  {
   "cell_type": "markdown",
   "metadata": {
    "slideshow": {
     "slide_type": "fragment"
    }
   },
   "source": [
    "- `float` corresponds to the [*floating point* representation](https://en.wikipedia.org/wiki/Floating-point_arithmetic#Floating-point_numbers).  \n",
    "- A `float` in stored exactly the way we write it in [scientific notation](https://en.wikipedia.org/wiki/Scientific_notation): \n",
    "\n",
    "$$\n",
    "\\overbrace{-}^{\\text{sign}} \\underbrace{1.0}_{\\text{mantissa}\\kern-1em}e\\overbrace{-1}^{\\text{exponent}\\kern-1em}=-1\\times 10^{-1}\n",
    "$$"
   ]
  },
  {
   "cell_type": "markdown",
   "metadata": {},
   "source": [
    "```{seealso}\n",
    "An efficient implementation is more complicated. Try the [IEEE-754 Floating Point Converter](https://www.h-schmidt.net/FloatConverter/IEEE754.html) for *single-precision* floating point number:\n",
    "\n",
    "- Starting from the number 0, click the button `+1` to find the smallest positive number.\n",
    "- Find the largest and smallest representable floating point numbers.\n",
    "```"
   ]
  },
  {
   "cell_type": "markdown",
   "metadata": {
    "slideshow": {
     "slide_type": "subslide"
    }
   },
   "source": [
    "Integers in mathematics may be regarded as a `float` instead of `int`:"
   ]
  },
  {
   "cell_type": "code",
   "execution_count": null,
   "metadata": {
    "ExecuteTime": {
     "end_time": "2020-09-04T06:24:54.046251Z",
     "start_time": "2020-09-04T06:24:54.038091Z"
    },
    "slideshow": {
     "slide_type": "-"
    }
   },
   "outputs": [],
   "source": [
    "type(1.0), type(1e2)"
   ]
  },
  {
   "cell_type": "markdown",
   "metadata": {
    "slideshow": {
     "slide_type": "fragment"
    }
   },
   "source": [
    "You can also convert an `int` or a `str` to a `float`."
   ]
  },
  {
   "cell_type": "code",
   "execution_count": null,
   "metadata": {
    "ExecuteTime": {
     "end_time": "2020-09-04T06:24:55.743628Z",
     "start_time": "2020-09-04T06:24:55.736352Z"
    },
    "slideshow": {
     "slide_type": "-"
    }
   },
   "outputs": [],
   "source": [
    "float(1), float('1')"
   ]
  },
  {
   "cell_type": "markdown",
   "metadata": {
    "slideshow": {
     "slide_type": "subslide"
    }
   },
   "source": [
    "**Is it better to store an integer as `float`?**"
   ]
  },
  {
   "cell_type": "markdown",
   "metadata": {
    "slideshow": {
     "slide_type": "fragment"
    }
   },
   "source": [
    "Python stores a [floating point](https://docs.python.org/3/library/sys.html#sys.float_info) with finite precision, usually *64-bit/double* precision:"
   ]
  },
  {
   "cell_type": "code",
   "execution_count": null,
   "metadata": {
    "ExecuteTime": {
     "end_time": "2020-09-04T06:24:59.506258Z",
     "start_time": "2020-09-04T06:24:59.498308Z"
    },
    "slideshow": {
     "slide_type": "fragment"
    }
   },
   "outputs": [],
   "source": [
    "sys.float_info"
   ]
  },
  {
   "cell_type": "markdown",
   "metadata": {
    "slideshow": {
     "slide_type": "subslide"
    },
    "tags": []
   },
   "source": [
    "It cannot represent a number larger than the `max`:"
   ]
  },
  {
   "cell_type": "code",
   "execution_count": null,
   "metadata": {
    "ExecuteTime": {
     "end_time": "2020-09-04T06:25:01.090577Z",
     "start_time": "2020-09-04T06:25:01.084045Z"
    },
    "slideshow": {
     "slide_type": "-"
    }
   },
   "outputs": [],
   "source": [
    "sys.float_info.max * 2"
   ]
  },
  {
   "cell_type": "markdown",
   "metadata": {
    "slideshow": {
     "slide_type": "fragment"
    },
    "tags": []
   },
   "source": [
    "The precision also affects the check for equality."
   ]
  },
  {
   "cell_type": "code",
   "execution_count": null,
   "metadata": {
    "ExecuteTime": {
     "end_time": "2020-09-08T00:06:41.090541Z",
     "start_time": "2020-09-08T00:06:41.074137Z"
    },
    "slideshow": {
     "slide_type": "-"
    }
   },
   "outputs": [],
   "source": [
    "(\n",
    "    1.0 == 1.0 + sys.float_info.epsilon * 0.5,  # returns true if equal\n",
    "    1.0 == 1.0 + sys.float_info.epsilon * 0.6,\n",
    "    sys.float_info.max + 1 == sys.float_info.max,\n",
    ")"
   ]
  },
  {
   "cell_type": "markdown",
   "metadata": {
    "slideshow": {
     "slide_type": "fragment"
    }
   },
   "source": [
    "Another issue with float is that it may keep more decimal places than desired."
   ]
  },
  {
   "cell_type": "code",
   "execution_count": null,
   "metadata": {
    "ExecuteTime": {
     "end_time": "2020-09-04T06:25:05.456795Z",
     "start_time": "2020-09-04T06:25:05.449284Z"
    },
    "slideshow": {
     "slide_type": "-"
    }
   },
   "outputs": [],
   "source": [
    "1/3"
   ]
  },
  {
   "cell_type": "markdown",
   "metadata": {
    "slideshow": {
     "slide_type": "subslide"
    }
   },
   "source": [
    "**How to [round](https://docs.python.org/3/library/functions.html#round) a floating point number to the desired number of decimal places?**"
   ]
  },
  {
   "cell_type": "code",
   "execution_count": null,
   "metadata": {
    "ExecuteTime": {
     "end_time": "2020-09-04T06:25:11.466342Z",
     "start_time": "2020-09-04T06:25:11.458247Z"
    },
    "slideshow": {
     "slide_type": "fragment"
    },
    "tags": []
   },
   "outputs": [],
   "source": [
    "round(2.665, 2), round(2.675, 2)"
   ]
  },
  {
   "cell_type": "markdown",
   "metadata": {
    "slideshow": {
     "slide_type": "fragment"
    }
   },
   "source": [
    "**Why 2.675 rounds to 2.67 instead of 2.68?**"
   ]
  },
  {
   "cell_type": "markdown",
   "metadata": {
    "slideshow": {
     "slide_type": "fragment"
    }
   },
   "source": [
    "- A `float` is actually represented in binary.  \n",
    "- A decimal fraction [may not be represented exactly in binary](https://docs.python.org/3/tutorial/floatingpoint.html#tut-fp-issues)."
   ]
  },
  {
   "cell_type": "markdown",
   "metadata": {},
   "source": [
    "**Exercise** Use the [IEEE-754 Floating Point Converter](https://www.h-schmidt.net/FloatConverter/IEEE754.html) to find out the value actually stored in float for 2.675."
   ]
  },
  {
   "cell_type": "markdown",
   "metadata": {
    "deletable": false,
    "nbgrader": {
     "cell_type": "markdown",
     "checksum": "76a95741eb5749c3feb92c3e4bf95d96",
     "grade": true,
     "grade_id": "precision-round",
     "locked": false,
     "points": 0,
     "schema_version": 3,
     "solution": true,
     "task": false
    }
   },
   "source": [
    "YOUR ANSWER HERE"
   ]
  },
  {
   "cell_type": "markdown",
   "metadata": {
    "slideshow": {
     "slide_type": "subslide"
    }
   },
   "source": [
    "The `round` function can also be applied to an integer."
   ]
  },
  {
   "cell_type": "code",
   "execution_count": null,
   "metadata": {
    "ExecuteTime": {
     "end_time": "2020-09-04T06:25:18.702100Z",
     "start_time": "2020-09-04T06:25:18.695978Z"
    },
    "slideshow": {
     "slide_type": "fragment"
    }
   },
   "outputs": [],
   "source": [
    "round(150, -2), round(250, -2)"
   ]
  },
  {
   "cell_type": "markdown",
   "metadata": {
    "slideshow": {
     "slide_type": "fragment"
    }
   },
   "source": [
    "**Why 250 rounds to 200 instead of 300?**"
   ]
  },
  {
   "cell_type": "markdown",
   "metadata": {
    "slideshow": {
     "slide_type": "fragment"
    }
   },
   "source": [
    "- Python 3 implements the default rounding method in [IEEE 754](https://en.wikipedia.org/w/index.php?title=IEEE_754#Rounding_rules)."
   ]
  },
  {
   "cell_type": "markdown",
   "metadata": {
    "slideshow": {
     "slide_type": "slide"
    }
   },
   "source": [
    "## String Formatting"
   ]
  },
  {
   "cell_type": "markdown",
   "metadata": {
    "slideshow": {
     "slide_type": "subslide"
    }
   },
   "source": [
    "**Can we round a `float` or `int` for printing but not calculation?**"
   ]
  },
  {
   "cell_type": "markdown",
   "metadata": {
    "slideshow": {
     "slide_type": "fragment"
    }
   },
   "source": [
    "This is possible with format strings:"
   ]
  },
  {
   "cell_type": "code",
   "execution_count": null,
   "metadata": {
    "ExecuteTime": {
     "end_time": "2020-09-04T06:25:27.998736Z",
     "start_time": "2020-09-04T06:25:27.991428Z"
    },
    "slideshow": {
     "slide_type": "-"
    }
   },
   "outputs": [],
   "source": [
    "x = 10000/3\n",
    "print('x ≈ {:.2f} (rounded to 2 decimal places)'.format(x))\n",
    "x"
   ]
  },
  {
   "cell_type": "markdown",
   "metadata": {
    "slideshow": {
     "slide_type": "fragment"
    }
   },
   "source": [
    "- `{:.2f}` is a [*replacement field*][repf] or place holder\n",
    "- that gets replaced by a string \n",
    "- that represents the argument `x` of `format` \n",
    "- according to the [format specification][fspec] `.2f`, i.e.,  \n",
    "  a decimal floating point number rounded to 2 decimal places.\n",
    "  \n",
    "[repf]: https://docs.python.org/3/library/string.html#format-string-syntax\n",
    "[fspec]: https://docs.python.org/3/library/string.html#format-specification-mini-language"
   ]
  },
  {
   "cell_type": "markdown",
   "metadata": {
    "slideshow": {
     "slide_type": "subslide"
    }
   },
   "source": [
    "**Exercise** Play with the following widget to learn the effect of different format specifications. In particular, print `10000/3` as `3,333.33`."
   ]
  },
  {
   "cell_type": "code",
   "execution_count": null,
   "metadata": {
    "ExecuteTime": {
     "end_time": "2020-09-04T09:30:51.495136Z",
     "start_time": "2020-09-04T09:30:51.404289Z"
    },
    "code_folding": [
     7
    ],
    "slideshow": {
     "slide_type": "-"
    },
    "tags": []
   },
   "outputs": [],
   "source": [
    "@interact(\n",
    "    x=\"10000/3\",\n",
    "    align={\"None\": \"\", \"<\": \"<\", \">\": \">\", \"=\": \"=\", \"^\": \"^\"},\n",
    "    sign={\"None\": \"\", \"+\": \"+\", \"-\": \"-\", \"SPACE\": \" \"},\n",
    "    width=(0, 20),\n",
    "    grouping={\"None\": \"\", \"_\": \"_\", \",\": \",\"},\n",
    "    precision=(0, 20),\n",
    ")\n",
    "def print_float(x, sign, align, grouping, width=0, precision=2):\n",
    "    format_spec = (\n",
    "        f\"{{:{align}{sign}{'' if width==0 else width}{grouping}.{precision}f}}\"\n",
    "    )\n",
    "    print(\"Format spec:\", format_spec)\n",
    "    print(\"x ≈\", format_spec.format(eval(x)))"
   ]
  },
  {
   "cell_type": "code",
   "execution_count": null,
   "metadata": {
    "ExecuteTime": {
     "end_time": "2020-09-04T09:31:41.706086Z",
     "start_time": "2020-09-04T09:31:41.699822Z"
    },
    "deletable": false,
    "nbgrader": {
     "cell_type": "code",
     "checksum": "2d3a6cd240b70a30996852f2a8bcd7d2",
     "grade": true,
     "grade_id": "format-spec",
     "locked": false,
     "points": 0,
     "schema_version": 3,
     "solution": true,
     "task": false
    },
    "slideshow": {
     "slide_type": "-"
    }
   },
   "outputs": [],
   "source": [
    "# YOUR CODE HERE\n",
    "raise NotImplementedError()"
   ]
  },
  {
   "cell_type": "markdown",
   "metadata": {
    "slideshow": {
     "slide_type": "subslide"
    }
   },
   "source": [
    "String formatting is useful for different data types other than `float`.  \n",
    "E.g., consider the following program that prints a time specified by some variables."
   ]
  },
  {
   "cell_type": "code",
   "execution_count": null,
   "metadata": {
    "ExecuteTime": {
     "end_time": "2020-09-03T16:19:12.214797Z",
     "start_time": "2020-09-03T16:19:12.206882Z"
    },
    "slideshow": {
     "slide_type": "-"
    }
   },
   "outputs": [],
   "source": [
    "# Some specified time\n",
    "hour = 12\n",
    "minute = 34\n",
    "second = 56\n",
    "\n",
    "print(\"The time is \" + str(hour) + \":\" + str(minute) + \":\" + str(second)+\".\")"
   ]
  },
  {
   "cell_type": "markdown",
   "metadata": {
    "slideshow": {
     "slide_type": "fragment"
    }
   },
   "source": [
    "Imagine you have to show also the date in different formats.  \n",
    "The code can become very hard to read/write because \n",
    "- the message is a concatenation of multiple strings and\n",
    "- the integer variables need to be converted to strings."
   ]
  },
  {
   "cell_type": "markdown",
   "metadata": {
    "slideshow": {
     "slide_type": "fragment"
    }
   },
   "source": [
    "Omitting `+` leads to syntax error. Removing `str` as follows also does not give the desired format."
   ]
  },
  {
   "cell_type": "code",
   "execution_count": null,
   "metadata": {
    "ExecuteTime": {
     "end_time": "2020-09-03T01:34:10.916259Z",
     "start_time": "2020-09-03T01:34:10.909394Z"
    },
    "slideshow": {
     "slide_type": "-"
    }
   },
   "outputs": [],
   "source": [
    "print(\"The time is \", hour, \":\", minute, \":\", second, \".\")  # note the extra spaces"
   ]
  },
  {
   "cell_type": "markdown",
   "metadata": {
    "slideshow": {
     "slide_type": "subslide"
    }
   },
   "source": [
    "To make the code more readable, we can use the `format` function as follows."
   ]
  },
  {
   "cell_type": "code",
   "execution_count": null,
   "metadata": {
    "ExecuteTime": {
     "end_time": "2020-09-04T06:25:48.245398Z",
     "start_time": "2020-09-04T06:25:48.229809Z"
    },
    "slideshow": {
     "slide_type": "-"
    }
   },
   "outputs": [],
   "source": [
    "message = \"The time is {}:{}:{}.\"\n",
    "print(message.format(hour, minute, second))"
   ]
  },
  {
   "cell_type": "markdown",
   "metadata": {
    "slideshow": {
     "slide_type": "fragment"
    }
   },
   "source": [
    "```{note}\n",
    "\n",
    "- We can have multiple *place-holders* `{}` inside a string.\n",
    "- We can then provide the contents (any type: numbers, strings..) using the `format` function, which\n",
    "- substitutes the place-holders by the function arguments from left to right.\n",
    "```"
   ]
  },
  {
   "cell_type": "markdown",
   "metadata": {
    "slideshow": {
     "slide_type": "subslide"
    }
   },
   "source": [
    "According to the [string formatting syntax](https://docs.python.org/3/library/string.html#format-string-syntax), we can change the order of substitution using \n",
    "- indices *(0 is the first item)* or \n",
    "- names inside the placeholder `{}`:"
   ]
  },
  {
   "cell_type": "code",
   "execution_count": null,
   "metadata": {
    "ExecuteTime": {
     "end_time": "2020-09-04T06:59:48.333999Z",
     "start_time": "2020-09-04T06:59:48.328303Z"
    },
    "slideshow": {
     "slide_type": "fragment"
    },
    "tags": []
   },
   "outputs": [],
   "source": [
    "print(\"You should {0} {1} what I say instead of what I {0}.\".format(\"do\", \"only\"))\n",
    "print(\"The surname of {first} {last} is {last}.\".format(first=\"John\", last=\"Doe\"))"
   ]
  },
  {
   "cell_type": "markdown",
   "metadata": {
    "slideshow": {
     "slide_type": "subslide"
    }
   },
   "source": [
    "You can even put variables inside the format specification directly and have a nested string formatting."
   ]
  },
  {
   "cell_type": "code",
   "execution_count": null,
   "metadata": {
    "ExecuteTime": {
     "end_time": "2020-09-04T06:25:54.529244Z",
     "start_time": "2020-09-04T06:25:54.522113Z"
    },
    "slideshow": {
     "slide_type": "-"
    }
   },
   "outputs": [],
   "source": [
    "align, width = \"^\", 5\n",
    "print(f\"{{:*{align}{width}}}\".format(x))  # note the syntax f\"...\""
   ]
  },
  {
   "cell_type": "markdown",
   "metadata": {
    "slideshow": {
     "slide_type": "fragment"
    },
    "tags": []
   },
   "source": [
    "In the above, `f\"...\"` is special syntax for [formatted string](https://docs.python.org/3/library/string.html#format-string-syntax)."
   ]
  },
  {
   "cell_type": "markdown",
   "metadata": {
    "slideshow": {
     "slide_type": "subslide"
    }
   },
   "source": [
    "**Exercise** Play with the following widget to learn more about the formating specification.  \n",
    "1. What happens when `align` is none but `fill` is `*`?\n",
    "1. What happens when the `expression` is a multi-line string?"
   ]
  },
  {
   "cell_type": "code",
   "execution_count": null,
   "metadata": {
    "ExecuteTime": {
     "end_time": "2020-09-04T09:18:34.925753Z",
     "start_time": "2020-09-04T09:18:34.858335Z"
    },
    "code_folding": [],
    "slideshow": {
     "slide_type": "-"
    },
    "tags": []
   },
   "outputs": [],
   "source": [
    "@interact(\n",
    "    expression=r\"'ABC'\",\n",
    "    fill=\"*\",\n",
    "    align={\"None\": \"\", \"<\": \"<\", \">\": \">\", \"=\": \"=\", \"^\": \"^\"},\n",
    "    width=(0, 20),\n",
    ")\n",
    "def print_objectt(expression, fill, align=\"^\", width=10):\n",
    "    format_spec = f\"{{:{fill}{align}{'' if width==0 else width}}}\"\n",
    "    print(\"Format spec:\", format_spec)\n",
    "    print(\"Print:\", format_spec.format(eval(expression)))"
   ]
  },
  {
   "cell_type": "markdown",
   "metadata": {
    "ExecuteTime": {
     "end_time": "2020-09-04T09:16:52.179558Z",
     "start_time": "2020-09-04T09:16:52.172995Z"
    },
    "deletable": false,
    "nbgrader": {
     "cell_type": "markdown",
     "checksum": "7df87438b481c0581d0b7e425335d263",
     "grade": true,
     "grade_id": "string-formatting",
     "locked": false,
     "points": 0,
     "schema_version": 3,
     "solution": true,
     "task": false
    }
   },
   "source": [
    "YOUR ANSWER HERE"
   ]
  }
 ],
 "metadata": {
  "kernelspec": {
   "display_name": "Python 3 (ipykernel)",
   "language": "python",
   "name": "python3"
  },
  "language_info": {
   "codemirror_mode": {
    "name": "ipython",
    "version": 3
   },
   "file_extension": ".py",
   "mimetype": "text/x-python",
   "name": "python",
   "nbconvert_exporter": "python",
   "pygments_lexer": "ipython3",
   "version": "3.10.6"
  },
  "latex_envs": {
   "LaTeX_envs_menu_present": true,
   "autoclose": false,
   "autocomplete": true,
   "bibliofile": "biblio.bib",
   "cite_by": "apalike",
   "current_citInitial": 1,
   "eqLabelWithNumbers": true,
   "eqNumInitial": 1,
   "hotkeys": {
    "equation": "Ctrl-E",
    "itemize": "Ctrl-I"
   },
   "labels_anchors": false,
   "latex_user_defs": false,
   "report_style_numbering": false,
   "user_envs_cfg": false
  },
  "rise": {
   "enable_chalkboard": true,
   "scroll": true,
   "theme": "white"
  },
  "toc": {
   "base_numbering": 1,
   "nav_menu": {
    "height": "195px",
    "width": "330px"
   },
   "number_sections": true,
   "sideBar": true,
   "skip_h1_title": true,
   "title_cell": "Table of Contents",
   "title_sidebar": "Contents",
   "toc_cell": false,
   "toc_position": {
    "height": "454.418px",
    "left": "1533px",
    "top": "110.284px",
    "width": "435.327px"
   },
   "toc_section_display": true,
   "toc_window_display": false
  },
  "widgets": {
   "application/vnd.jupyter.widget-state+json": {
    "state": {
     "0321d640c9e3444f8df7dfcf080c1b7e": {
      "model_module": "@jupyter-widgets/controls",
      "model_module_version": "1.5.0",
      "model_name": "DescriptionStyleModel",
      "state": {
       "description_width": ""
      }
     },
     "034b543d43934b8da808622fe82b431f": {
      "model_module": "@jupyter-widgets/base",
      "model_module_version": "1.2.0",
      "model_name": "LayoutModel",
      "state": {}
     },
     "05082bd96a2345e093ecf68639ddc00b": {
      "model_module": "@jupyter-widgets/controls",
      "model_module_version": "1.5.0",
      "model_name": "IntSliderModel",
      "state": {
       "description": "width",
       "layout": "IPY_MODEL_e5ee18e8c22f4b38987fb58b45af2a6f",
       "max": 20,
       "style": "IPY_MODEL_570bc2da8525442fb12ebf396e69b3fc",
       "value": 13
      }
     },
     "0b70d8f16f1d40cbbc411899c52d9dab": {
      "model_module": "@jupyter-widgets/base",
      "model_module_version": "1.2.0",
      "model_name": "LayoutModel",
      "state": {}
     },
     "0f1519c140c14e20ada4dc6b4f72361d": {
      "model_module": "@jupyter-widgets/controls",
      "model_module_version": "1.5.0",
      "model_name": "DropdownModel",
      "state": {
       "_options_labels": [
        "None",
        "+",
        "-",
        "SPACE"
       ],
       "description": "sign",
       "index": 1,
       "layout": "IPY_MODEL_bcf2fb9c09a147269af791c0362c58fe",
       "style": "IPY_MODEL_8bec641552dc4293bf6c3f5b39fdce8d"
      }
     },
     "0f53e2ea2e86430fb3325f1f1fb4e5b9": {
      "model_module": "@jupyter-widgets/controls",
      "model_module_version": "1.5.0",
      "model_name": "SliderStyleModel",
      "state": {
       "description_width": ""
      }
     },
     "128bb48eb8ef4b75b6938ed7279fcdfb": {
      "model_module": "@jupyter-widgets/controls",
      "model_module_version": "1.5.0",
      "model_name": "VBoxModel",
      "state": {
       "_dom_classes": [
        "widget-interact"
       ],
       "children": [
        "IPY_MODEL_2d482cca820c47919b55fd13b9a5ddfa",
        "IPY_MODEL_4517e536bb97435fa158933a8d75550a"
       ],
       "layout": "IPY_MODEL_c045fe79975e434980d076fd51b56c71"
      }
     },
     "1570cf1228474ebabfdd2c4e35db89aa": {
      "model_module": "@jupyter-widgets/base",
      "model_module_version": "1.2.0",
      "model_name": "LayoutModel",
      "state": {}
     },
     "18ed9af4658c4ea7b9dd73c1d6f4ce0b": {
      "model_module": "@jupyter-widgets/controls",
      "model_module_version": "1.5.0",
      "model_name": "DropdownModel",
      "state": {
       "_options_labels": [
        "None",
        "<",
        ">",
        "=",
        "^"
       ],
       "description": "align",
       "index": 1,
       "layout": "IPY_MODEL_faeebebcb7c94f9fb3305e91fc90a765",
       "style": "IPY_MODEL_7c02563b51304d46a3224186409c97a8"
      }
     },
     "1de6ef5ab82e4c0faa9beeb29af6248a": {
      "model_module": "@jupyter-widgets/base",
      "model_module_version": "1.2.0",
      "model_name": "LayoutModel",
      "state": {}
     },
     "1f29b14d01bf4da1961c1fb3f538d35f": {
      "model_module": "@jupyter-widgets/controls",
      "model_module_version": "1.5.0",
      "model_name": "TextModel",
      "state": {
       "description": "fill",
       "layout": "IPY_MODEL_ccb7069431c24c2a92747e616c9a4d4d",
       "style": "IPY_MODEL_0321d640c9e3444f8df7dfcf080c1b7e",
       "value": "*"
      }
     },
     "28e0a288ffcd425db4e47b78218b9217": {
      "model_module": "@jupyter-widgets/base",
      "model_module_version": "1.2.0",
      "model_name": "LayoutModel",
      "state": {}
     },
     "2d482cca820c47919b55fd13b9a5ddfa": {
      "model_module": "@jupyter-widgets/controls",
      "model_module_version": "1.5.0",
      "model_name": "DropdownModel",
      "state": {
       "_options_labels": [
        "a-number = 15",
        "a_number = 15",
        "15 = 15",
        "_15 = 15",
        "del = 15",
        "Del = 15",
        "type = print",
        "print = type",
        "input = print"
       ],
       "description": "assignment",
       "index": 6,
       "layout": "IPY_MODEL_1570cf1228474ebabfdd2c4e35db89aa",
       "style": "IPY_MODEL_e44a79e7cd58477dae09373cf9865aa2"
      }
     },
     "3165aa589cf54ec4a5b33eb780b34eeb": {
      "model_module": "@jupyter-widgets/base",
      "model_module_version": "1.2.0",
      "model_name": "LayoutModel",
      "state": {}
     },
     "3db74288130e40a48bcad8207e8e7fb7": {
      "model_module": "@jupyter-widgets/base",
      "model_module_version": "1.2.0",
      "model_name": "LayoutModel",
      "state": {}
     },
     "3e99124b0ca74749b5cb04569cc7fd05": {
      "model_module": "@jupyter-widgets/controls",
      "model_module_version": "1.5.0",
      "model_name": "IntSliderModel",
      "state": {
       "description": "precision",
       "layout": "IPY_MODEL_e754ef59a6f84317adade0dbb9516623",
       "max": 20,
       "style": "IPY_MODEL_f88441c40ffb487a9c3f28985bca7ccd",
       "value": 2
      }
     },
     "4125b0a292db431d99b1c3afc194bdf1": {
      "model_module": "@jupyter-widgets/controls",
      "model_module_version": "1.5.0",
      "model_name": "DropdownModel",
      "state": {
       "_options_labels": [
        "None",
        "<",
        ">",
        "=",
        "^"
       ],
       "description": "align",
       "index": 1,
       "layout": "IPY_MODEL_9a54e2fe72a04d43a0d7fe39eb995847",
       "style": "IPY_MODEL_77539ebe219b450ea8f8eb059f32f250"
      }
     },
     "4517e536bb97435fa158933a8d75550a": {
      "model_module": "@jupyter-widgets/output",
      "model_module_version": "1.0.0",
      "model_name": "OutputModel",
      "state": {
       "layout": "IPY_MODEL_1de6ef5ab82e4c0faa9beeb29af6248a",
       "outputs": [
        {
         "name": "stdout",
         "output_type": "stream",
         "text": "Ok.\n"
        }
       ]
      }
     },
     "4f146e6230c448c78d9d20614d157f44": {
      "model_module": "@jupyter-widgets/base",
      "model_module_version": "1.2.0",
      "model_name": "LayoutModel",
      "state": {}
     },
     "55b7fc45a4fe4d698983afa7da120d26": {
      "model_module": "@jupyter-widgets/base",
      "model_module_version": "1.2.0",
      "model_name": "LayoutModel",
      "state": {}
     },
     "570bc2da8525442fb12ebf396e69b3fc": {
      "model_module": "@jupyter-widgets/controls",
      "model_module_version": "1.5.0",
      "model_name": "SliderStyleModel",
      "state": {
       "description_width": ""
      }
     },
     "5770f075339e4d0889f40b0ec18a9e90": {
      "model_module": "@jupyter-widgets/controls",
      "model_module_version": "1.5.0",
      "model_name": "VBoxModel",
      "state": {
       "_dom_classes": [
        "widget-interact"
       ],
       "children": [
        "IPY_MODEL_86fd304d7a474a16ade3913a3267bb6a",
        "IPY_MODEL_0f1519c140c14e20ada4dc6b4f72361d",
        "IPY_MODEL_18ed9af4658c4ea7b9dd73c1d6f4ce0b",
        "IPY_MODEL_6f52f90fe1fc472683bfe8d0e68ddd89",
        "IPY_MODEL_05082bd96a2345e093ecf68639ddc00b",
        "IPY_MODEL_3e99124b0ca74749b5cb04569cc7fd05",
        "IPY_MODEL_6e45c680673e47c68102b3b94ae568d3"
       ],
       "layout": "IPY_MODEL_28e0a288ffcd425db4e47b78218b9217"
      }
     },
     "5a6e54d549c941e182b54b751c35fe39": {
      "model_module": "@jupyter-widgets/controls",
      "model_module_version": "1.5.0",
      "model_name": "TextModel",
      "state": {
       "description": "expression",
       "layout": "IPY_MODEL_641a9d5517914635a5720a6c2efc5ddc",
       "style": "IPY_MODEL_c04ab768fdda429baa19c656c487ab9d",
       "value": "'ABC'"
      }
     },
     "62ebdb11f710490ea6812eef0d463c1f": {
      "model_module": "@jupyter-widgets/base",
      "model_module_version": "1.2.0",
      "model_name": "LayoutModel",
      "state": {}
     },
     "641a9d5517914635a5720a6c2efc5ddc": {
      "model_module": "@jupyter-widgets/base",
      "model_module_version": "1.2.0",
      "model_name": "LayoutModel",
      "state": {}
     },
     "69dd6576d7724d9dbaada99f8d6ee51d": {
      "model_module": "@jupyter-widgets/base",
      "model_module_version": "1.2.0",
      "model_name": "LayoutModel",
      "state": {}
     },
     "6e45c680673e47c68102b3b94ae568d3": {
      "model_module": "@jupyter-widgets/output",
      "model_module_version": "1.0.0",
      "model_name": "OutputModel",
      "state": {
       "layout": "IPY_MODEL_afe41fa26f224a5397aae99c5e566948",
       "outputs": [
        {
         "name": "stdout",
         "output_type": "stream",
         "text": "Format spec: {:<+13,.2f}\nx ≈ +3,333.33    \n"
        }
       ]
      }
     },
     "6f52f90fe1fc472683bfe8d0e68ddd89": {
      "model_module": "@jupyter-widgets/controls",
      "model_module_version": "1.5.0",
      "model_name": "DropdownModel",
      "state": {
       "_options_labels": [
        "None",
        "_",
        ","
       ],
       "description": "grouping",
       "index": 2,
       "layout": "IPY_MODEL_034b543d43934b8da808622fe82b431f",
       "style": "IPY_MODEL_727895ad1b5c40a6806eb9083598e6ca"
      }
     },
     "727895ad1b5c40a6806eb9083598e6ca": {
      "model_module": "@jupyter-widgets/controls",
      "model_module_version": "1.5.0",
      "model_name": "DescriptionStyleModel",
      "state": {
       "description_width": ""
      }
     },
     "77539ebe219b450ea8f8eb059f32f250": {
      "model_module": "@jupyter-widgets/controls",
      "model_module_version": "1.5.0",
      "model_name": "DescriptionStyleModel",
      "state": {
       "description_width": ""
      }
     },
     "7c02563b51304d46a3224186409c97a8": {
      "model_module": "@jupyter-widgets/controls",
      "model_module_version": "1.5.0",
      "model_name": "DescriptionStyleModel",
      "state": {
       "description_width": ""
      }
     },
     "86fd304d7a474a16ade3913a3267bb6a": {
      "model_module": "@jupyter-widgets/controls",
      "model_module_version": "1.5.0",
      "model_name": "TextModel",
      "state": {
       "description": "x",
       "layout": "IPY_MODEL_4f146e6230c448c78d9d20614d157f44",
       "style": "IPY_MODEL_dfed93ddf78a4f388e2fe5a8e996cbfb",
       "value": "10000/3"
      }
     },
     "8bec641552dc4293bf6c3f5b39fdce8d": {
      "model_module": "@jupyter-widgets/controls",
      "model_module_version": "1.5.0",
      "model_name": "DescriptionStyleModel",
      "state": {
       "description_width": ""
      }
     },
     "9917c5eeab78459b8276aa43ca81cadc": {
      "model_module": "@jupyter-widgets/controls",
      "model_module_version": "1.5.0",
      "model_name": "IntSliderModel",
      "state": {
       "description": "width",
       "layout": "IPY_MODEL_3165aa589cf54ec4a5b33eb780b34eeb",
       "max": 20,
       "style": "IPY_MODEL_0f53e2ea2e86430fb3325f1f1fb4e5b9",
       "value": 10
      }
     },
     "9a54e2fe72a04d43a0d7fe39eb995847": {
      "model_module": "@jupyter-widgets/base",
      "model_module_version": "1.2.0",
      "model_name": "LayoutModel",
      "state": {}
     },
     "a69e876ccd3b4bbd834df3cb8171126a": {
      "model_module": "@jupyter-widgets/output",
      "model_module_version": "1.0.0",
      "model_name": "OutputModel",
      "state": {
       "layout": "IPY_MODEL_62ebdb11f710490ea6812eef0d463c1f",
       "outputs": [
        {
         "name": "stdout",
         "output_type": "stream",
         "text": "Format spec: {:*<10}\nPrint: ABC*******\n"
        }
       ]
      }
     },
     "afe41fa26f224a5397aae99c5e566948": {
      "model_module": "@jupyter-widgets/base",
      "model_module_version": "1.2.0",
      "model_name": "LayoutModel",
      "state": {}
     },
     "bcf2fb9c09a147269af791c0362c58fe": {
      "model_module": "@jupyter-widgets/base",
      "model_module_version": "1.2.0",
      "model_name": "LayoutModel",
      "state": {}
     },
     "c045fe79975e434980d076fd51b56c71": {
      "model_module": "@jupyter-widgets/base",
      "model_module_version": "1.2.0",
      "model_name": "LayoutModel",
      "state": {}
     },
     "c04ab768fdda429baa19c656c487ab9d": {
      "model_module": "@jupyter-widgets/controls",
      "model_module_version": "1.5.0",
      "model_name": "DescriptionStyleModel",
      "state": {
       "description_width": ""
      }
     },
     "c481b4592b564fc2b8a2e37a48580b92": {
      "model_module": "@jupyter-widgets/base",
      "model_module_version": "1.2.0",
      "model_name": "LayoutModel",
      "state": {}
     },
     "ccb7069431c24c2a92747e616c9a4d4d": {
      "model_module": "@jupyter-widgets/base",
      "model_module_version": "1.2.0",
      "model_name": "LayoutModel",
      "state": {}
     },
     "d4725a16970440599180f28d77f79032": {
      "model_module": "@jupyter-widgets/controls",
      "model_module_version": "1.5.0",
      "model_name": "VBoxModel",
      "state": {
       "_dom_classes": [
        "widget-interact"
       ],
       "children": [
        "IPY_MODEL_5a6e54d549c941e182b54b751c35fe39",
        "IPY_MODEL_1f29b14d01bf4da1961c1fb3f538d35f",
        "IPY_MODEL_4125b0a292db431d99b1c3afc194bdf1",
        "IPY_MODEL_9917c5eeab78459b8276aa43ca81cadc",
        "IPY_MODEL_a69e876ccd3b4bbd834df3cb8171126a"
       ],
       "layout": "IPY_MODEL_55b7fc45a4fe4d698983afa7da120d26"
      }
     },
     "dc6975dcef6142bb8d7a3e8ee88aa0c2": {
      "model_module": "@jupyter-widgets/base",
      "model_module_version": "1.2.0",
      "model_name": "LayoutModel",
      "state": {}
     },
     "dfed93ddf78a4f388e2fe5a8e996cbfb": {
      "model_module": "@jupyter-widgets/controls",
      "model_module_version": "1.5.0",
      "model_name": "DescriptionStyleModel",
      "state": {
       "description_width": ""
      }
     },
     "e44a79e7cd58477dae09373cf9865aa2": {
      "model_module": "@jupyter-widgets/controls",
      "model_module_version": "1.5.0",
      "model_name": "DescriptionStyleModel",
      "state": {
       "description_width": ""
      }
     },
     "e4fe2d21a2e74c41b8582e78d4263736": {
      "model_module": "@jupyter-widgets/base",
      "model_module_version": "1.2.0",
      "model_name": "LayoutModel",
      "state": {}
     },
     "e5ee18e8c22f4b38987fb58b45af2a6f": {
      "model_module": "@jupyter-widgets/base",
      "model_module_version": "1.2.0",
      "model_name": "LayoutModel",
      "state": {}
     },
     "e754ef59a6f84317adade0dbb9516623": {
      "model_module": "@jupyter-widgets/base",
      "model_module_version": "1.2.0",
      "model_name": "LayoutModel",
      "state": {}
     },
     "f88441c40ffb487a9c3f28985bca7ccd": {
      "model_module": "@jupyter-widgets/controls",
      "model_module_version": "1.5.0",
      "model_name": "SliderStyleModel",
      "state": {
       "description_width": ""
      }
     },
     "faeebebcb7c94f9fb3305e91fc90a765": {
      "model_module": "@jupyter-widgets/base",
      "model_module_version": "1.2.0",
      "model_name": "LayoutModel",
      "state": {}
     }
    },
    "version_major": 2,
    "version_minor": 0
   }
  }
 },
 "nbformat": 4,
 "nbformat_minor": 4
}
