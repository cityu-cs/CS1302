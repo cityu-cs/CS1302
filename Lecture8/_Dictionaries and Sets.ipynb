{
 "cells": [
  {
   "cell_type": "code",
   "execution_count": 1,
   "metadata": {},
   "outputs": [],
   "source": [
    "# Initialization cell\n",
    "try:  # for CS1302 JupyterLite pyodide kernel\n",
    "    import piplite\n",
    "\n",
    "    with open(\"requirements.txt\") as f:\n",
    "        for package in f:\n",
    "            package = package.strip()\n",
    "            print(\"Installing\", package)\n",
    "            await piplite.install(package)\n",
    "except ModuleNotFoundError:\n",
    "    pass"
   ]
  },
  {
   "cell_type": "markdown",
   "metadata": {
    "slideshow": {
     "slide_type": "slide"
    }
   },
   "source": [
    "# Dictionaries and Sets"
   ]
  },
  {
   "cell_type": "markdown",
   "metadata": {
    "slideshow": {
     "slide_type": "-"
    },
    "tags": [
     "remove-cell"
    ]
   },
   "source": [
    "**CS1302 Introduction to Computer Programming**\n",
    "___"
   ]
  },
  {
   "cell_type": "code",
   "execution_count": 2,
   "metadata": {
    "ExecuteTime": {
     "end_time": "2020-11-27T11:20:04.656873Z",
     "start_time": "2020-11-27T11:20:04.651575Z"
    },
    "slideshow": {
     "slide_type": "fragment"
    },
    "tags": [
     "remove-cell"
    ]
   },
   "outputs": [],
   "source": [
    "import random\n",
    "import matplotlib.pyplot as plt\n",
    "%reload_ext divewidgets"
   ]
  },
  {
   "cell_type": "markdown",
   "metadata": {
    "slideshow": {
     "slide_type": "slide"
    }
   },
   "source": [
    "## Motivation for associative container"
   ]
  },
  {
   "cell_type": "markdown",
   "metadata": {
    "slideshow": {
     "slide_type": "fragment"
    }
   },
   "source": [
    "The following code simulates the outcomes of rolling a die multiple times."
   ]
  },
  {
   "cell_type": "code",
   "execution_count": 5,
   "metadata": {
    "ExecuteTime": {
     "end_time": "2020-11-06T21:06:06.648131Z",
     "start_time": "2020-11-06T21:06:06.640645Z"
    },
    "slideshow": {
     "slide_type": "-"
    }
   },
   "outputs": [],
   "source": [
    "dice_rolls = [random.randint(1, 6) for i in range(1000)]\n",
    "# print(*dice_rolls)"
   ]
  },
  {
   "cell_type": "markdown",
   "metadata": {
    "slideshow": {
     "slide_type": "fragment"
    }
   },
   "source": [
    "**What is the distribution, i.e., fractional counts?**"
   ]
  },
  {
   "cell_type": "code",
   "execution_count": 6,
   "metadata": {
    "ExecuteTime": {
     "end_time": "2020-11-06T21:06:06.960356Z",
     "start_time": "2020-11-06T21:06:06.727143Z"
    },
    "slideshow": {
     "slide_type": "-"
    }
   },
   "outputs": [
    {
     "data": {
      "text/plain": [
       "(0.0, 1.0)"
      ]
     },
     "execution_count": 6,
     "metadata": {},
     "output_type": "execute_result"
    },
    {
     "data": {
      "image/png": "[encoded data removed]",
      "text/plain": [
       "<Figure size 640x480 with 1 Axes>"
      ]
     },
     "metadata": {},
     "output_type": "display_data"
    }
   ],
   "source": [
    "distribution = [dice_rolls.count(i) / len(dice_rolls) for i in range(7)]\n",
    "plt.stem(range(7), distribution)\n",
    "plt.xlabel(\"Outcomes\")\n",
    "plt.title(\"Distribution\")\n",
    "plt.ylim(0, 1)"
   ]
  },
  {
   "cell_type": "markdown",
   "metadata": {
    "slideshow": {
     "slide_type": "fragment"
    }
   },
   "source": [
    "In the above code, `distribution[i]` stores the fractional count of outcome `i`."
   ]
  },
  {
   "cell_type": "markdown",
   "metadata": {
    "slideshow": {
     "slide_type": "fragment"
    }
   },
   "source": [
    "However, `distribution[0]` is `0` because a dice does not have outcome `0`. Can we avoid such redundancy?"
   ]
  },
  {
   "cell_type": "code",
   "execution_count": 7,
   "metadata": {
    "ExecuteTime": {
     "end_time": "2020-11-06T21:06:07.140502Z",
     "start_time": "2020-11-06T21:06:06.962531Z"
    },
    "slideshow": {
     "slide_type": "-"
    }
   },
   "outputs": [
    {
     "data": {
      "text/plain": [
       "(0.0, 1.0)"
      ]
     },
     "execution_count": 7,
     "metadata": {},
     "output_type": "execute_result"
    },
    {
     "data": {
      "image/png": "[encoded data removed]",
      "text/plain": [
       "<Figure size 640x480 with 1 Axes>"
      ]
     },
     "metadata": {},
     "output_type": "display_data"
    }
   ],
   "source": [
    "distinct_outcomes = [\n",
    "    outcome for outcome in range(1, 7) if dice_rolls.count(outcome) > 0\n",
    "]\n",
    "distribution = [\n",
    "    dice_rolls.count(distinct_outcomes[i]) / len(dice_rolls)\n",
    "    for i in range(len(distinct_outcomes))\n",
    "]\n",
    "\n",
    "plt.stem(distinct_outcomes, distribution)\n",
    "plt.xlabel(\"Outcomes\")\n",
    "plt.title(\"Distribution\")\n",
    "plt.ylim(0, 1)"
   ]
  },
  {
   "cell_type": "markdown",
   "metadata": {
    "slideshow": {
     "slide_type": "fragment"
    }
   },
   "source": [
    "In the above code, \n",
    "- `distinct_outcomes` stores the list of distinct outcomes, and\n",
    "- `distribution[distinct_outcomes[i]]` stores the fractional count of the `i`-th distinct outcome."
   ]
  },
  {
   "cell_type": "markdown",
   "metadata": {
    "slideshow": {
     "slide_type": "subslide"
    }
   },
   "source": [
    "What about finding the distribution of characters in an article?  \n",
    "There are over 1 million unicode characters. Can we:\n",
    "- Obtain the distribution efficiently without creating an entry for each unicode character?\n",
    "- Compute the set of distinct characters efficiently without iterating over the set of all unicode characters?\n",
    "- Access the fractional count of a particular character efficiently without searching through the list of distinct outcomes?\n",
    "- Index `distribution` directly by the distinct characters in the article?"
   ]
  },
  {
   "cell_type": "markdown",
   "metadata": {
    "slideshow": {
     "slide_type": "fragment"
    }
   },
   "source": [
    "It is desirable to have a composite data type that\n",
    "- can keep a set of *unique keys of different types* (such as the characters in our example), and\n",
    "- associate to different keys possibly different *values of any types* (such as the fractional counts of the characters).\n",
    "\n",
    "Such a data structure is called an [associative container](https://en.wikipedia.org/wiki/Associative_containers)."
   ]
  },
  {
   "cell_type": "markdown",
   "metadata": {
    "slideshow": {
     "slide_type": "subslide"
    }
   },
   "source": [
    "**How to use associative containers in python?**"
   ]
  },
  {
   "cell_type": "markdown",
   "metadata": {
    "slideshow": {
     "slide_type": "fragment"
    }
   },
   "source": [
    "```{important}\n",
    "\n",
    "There are two built-in classes for associative containers:\n",
    "- `set` can store unique keys of possibly different types.\n",
    "- `dict`ionary can store a set of key-value pairs.\n",
    "```"
   ]
  },
  {
   "cell_type": "markdown",
   "metadata": {
    "slideshow": {
     "slide_type": "fragment"
    }
   },
   "source": [
    "We have already used sets and dictionaries before."
   ]
  },
  {
   "cell_type": "code",
   "execution_count": 8,
   "metadata": {
    "ExecuteTime": {
     "end_time": "2020-11-06T21:06:07.407580Z",
     "start_time": "2020-11-06T21:06:07.402034Z"
    },
    "slideshow": {
     "slide_type": "-"
    }
   },
   "outputs": [
    {
     "data": {
      "application/vnd.jupyter.widget-view+json": {
       "model_id": "12d2e8c3186042d49390456a9fd54b7a",
       "version_major": 2,
       "version_minor": 0
      },
      "text/plain": [
       "OPTWidget(value=None, height=400, script='a = (lambda **kwargs: kwargs)(start=0, stop=5, step=1)\\nb = set([1, …"
      ]
     },
     "metadata": {},
     "output_type": "display_data"
    }
   ],
   "source": [
    "%%optlite -h 400\n",
    "a = (lambda **kwargs: kwargs)(start=0, stop=5, step=1)\n",
    "b = set([1, 1, 2, 3, 3, 3])\n",
    "assert len(a) == len(b)"
   ]
  },
  {
   "cell_type": "markdown",
   "metadata": {
    "slideshow": {
     "slide_type": "fragment"
    }
   },
   "source": [
    "```{note}\n",
    "\n",
    "Both `set` and `dict` \n",
    "- implement the `len` method that returns the number of keys, and\n",
    "- are mutable, so we can add/remove keys and values and modify their object references.\n",
    "```"
   ]
  },
  {
   "cell_type": "markdown",
   "metadata": {
    "slideshow": {
     "slide_type": "slide"
    }
   },
   "source": [
    "## Constructing associative containers"
   ]
  },
  {
   "cell_type": "markdown",
   "metadata": {
    "slideshow": {
     "slide_type": "subslide"
    }
   },
   "source": [
    "**How to create a set/dictionary?**"
   ]
  },
  {
   "cell_type": "markdown",
   "metadata": {
    "slideshow": {
     "slide_type": "fragment"
    }
   },
   "source": [
    "Similar to tuple/list, we can use enclosure, constructors, and comprehension."
   ]
  },
  {
   "cell_type": "markdown",
   "metadata": {
    "slideshow": {
     "slide_type": "subslide"
    }
   },
   "source": [
    "**How to create a set/dict by enumerating its keys/values?**"
   ]
  },
  {
   "cell_type": "markdown",
   "metadata": {},
   "source": [
    "For `dict`, enclose a comma-separated sequence of `key : value` pairs by braces `{` and `}`."
   ]
  },
  {
   "cell_type": "code",
   "execution_count": 9,
   "metadata": {
    "ExecuteTime": {
     "end_time": "2020-11-06T21:06:07.883687Z",
     "start_time": "2020-11-06T21:06:07.876803Z"
    },
    "slideshow": {
     "slide_type": "-"
    }
   },
   "outputs": [
    {
     "data": {
      "application/vnd.jupyter.widget-view+json": {
       "model_id": "cee030a10fad49d3846bd14e0a606624",
       "version_major": 2,
       "version_minor": 0
      },
      "text/plain": [
       "OPTWidget(value=None, height=400, script='empty_dictionary = {}\\na = {\"a\": 0, \"b\": 1}\\nb = {**a, \"c\": 0, \"d\": …"
      ]
     },
     "metadata": {},
     "output_type": "display_data"
    }
   ],
   "source": [
    "%%optlite -h 400\n",
    "empty_dictionary = {}\n",
    "a = {\"a\": 0, \"b\": 1}\n",
    "b = {**a, \"c\": 0, \"d\": 1}"
   ]
  },
  {
   "cell_type": "markdown",
   "metadata": {
    "slideshow": {
     "slide_type": "fragment"
    }
   },
   "source": [
    "For `set`, omit `: value`."
   ]
  },
  {
   "cell_type": "code",
   "execution_count": 10,
   "metadata": {
    "ExecuteTime": {
     "end_time": "2020-11-06T21:06:07.983855Z",
     "start_time": "2020-11-06T21:06:07.976591Z"
    },
    "slideshow": {
     "slide_type": "-"
    }
   },
   "outputs": [
    {
     "data": {
      "application/vnd.jupyter.widget-view+json": {
       "model_id": "9ab6847c4df448d4ab46fcb2c545ebc5",
       "version_major": 2,
       "version_minor": 0
      },
      "text/plain": [
       "OPTWidget(value=None, height=300, script='a = {(1, 2.0), print, *range(2), *\"23\"}\\nempty_set = {*()}  # Why no…"
      ]
     },
     "metadata": {},
     "output_type": "display_data"
    }
   ],
   "source": [
    "%%optlite -h 300\n",
    "a = {(1, 2.0), print, *range(2), *\"23\"}\n",
    "empty_set = {*()}  # Why not use {}?"
   ]
  },
  {
   "cell_type": "markdown",
   "metadata": {
    "slideshow": {
     "slide_type": "subslide"
    }
   },
   "source": [
    "We can also create a set/dictionary from other objects using their constructors `set`/`dict`."
   ]
  },
  {
   "cell_type": "code",
   "execution_count": 11,
   "metadata": {
    "ExecuteTime": {
     "end_time": "2020-11-06T21:06:08.067481Z",
     "start_time": "2020-11-06T21:06:08.061044Z"
    },
    "slideshow": {
     "slide_type": "-"
    }
   },
   "outputs": [
    {
     "data": {
      "application/vnd.jupyter.widget-view+json": {
       "model_id": "e9df0fde6d7e464988bbaa75a8a6db92",
       "version_major": 2,
       "version_minor": 0
      },
      "text/plain": [
       "OPTWidget(value=None, height=550, script='empty_set = set()\\nstring2set = set(\"abc\")\\nrange2set = set(range(2)…"
      ]
     },
     "metadata": {},
     "output_type": "display_data"
    }
   ],
   "source": [
    "%%optlite -l -h 550\n",
    "empty_set = set()\n",
    "string2set = set(\"abc\")\n",
    "range2set = set(range(2))\n",
    "list2set = set([\"abc\", range(2)])\n",
    "set2set = set(list2set)"
   ]
  },
  {
   "cell_type": "code",
   "execution_count": 12,
   "metadata": {
    "ExecuteTime": {
     "end_time": "2020-11-06T21:06:08.081891Z",
     "start_time": "2020-11-06T21:06:08.075946Z"
    },
    "slideshow": {
     "slide_type": "fragment"
    }
   },
   "outputs": [
    {
     "data": {
      "application/vnd.jupyter.widget-view+json": {
       "model_id": "4a40e84f44b24bd8989c176a2a02d1ce",
       "version_major": 2,
       "version_minor": 0
      },
      "text/plain": [
       "OPTWidget(value=None, height=650, script='empty_dict = dict()\\nenumerate2dict = dict(enumerate(\"abc\"))\\nzip2di…"
      ]
     },
     "metadata": {},
     "output_type": "display_data"
    }
   ],
   "source": [
    "%%optlite -l -h 650\n",
    "empty_dict = dict()\n",
    "enumerate2dict = dict(enumerate(\"abc\"))\n",
    "zip2dict = dict(zip(\"abc\", \"123\"))\n",
    "kwargs2dict = dict(one=1, two=2)\n",
    "dict2dict = dict(kwargs2dict)"
   ]
  },
  {
   "cell_type": "markdown",
   "metadata": {
    "slideshow": {
     "slide_type": "subslide"
    }
   },
   "source": [
    "**Exercise**\n",
    "\n",
    "`dict` also has a [*class method* `fromkeys`](https://docs.python.org/3/library/stdtypes.html#dict.fromkeys) to construct a dictionary with keys from iterable pointing to a default value. Create a dictionary using `fromkeys` with keys being the non-negative integers smaller than `100` and values being `0`. \n",
    "\n",
    "```{hint}\n",
    "Use `dict.fromkeys` since a class method is bound to the class rather than an object of the class.\n",
    "```"
   ]
  },
  {
   "cell_type": "code",
   "execution_count": 16,
   "metadata": {
    "ExecuteTime": {
     "end_time": "2020-11-06T21:06:08.247405Z",
     "start_time": "2020-11-06T21:06:08.177552Z"
    },
    "deletable": false,
    "nbgrader": {
     "cell_type": "code",
     "checksum": "e0a28ae5c22534453c37fded955f647b",
     "grade": false,
     "grade_id": "fromkeys",
     "locked": false,
     "schema_version": 3,
     "solution": true,
     "task": false
    }
   },
   "outputs": [
    {
     "data": {
      "text/plain": [
       "\u001b[0;31mSignature:\u001b[0m \u001b[0mdict\u001b[0m\u001b[0;34m.\u001b[0m\u001b[0mfromkeys\u001b[0m\u001b[0;34m(\u001b[0m\u001b[0miterable\u001b[0m\u001b[0;34m,\u001b[0m \u001b[0mvalue\u001b[0m\u001b[0;34m=\u001b[0m\u001b[0;32mNone\u001b[0m\u001b[0;34m,\u001b[0m \u001b[0;34m/\u001b[0m\u001b[0;34m)\u001b[0m\u001b[0;34m\u001b[0m\u001b[0;34m\u001b[0m\u001b[0m\n",
       "\u001b[0;31mDocstring:\u001b[0m Create a new dictionary with keys from iterable and values set to value.\n",
       "\u001b[0;31mType:\u001b[0m      builtin_function_or_method\n"
      ]
     },
     "metadata": {},
     "output_type": "display_data"
    }
   ],
   "source": [
    "dict.fromkeys?\n",
    "fromkeys_dict = {}.fromkeys(range(0, 100), 0)\n",
    "# print(fromkeys_dict)\n",
    "# test\n",
    "assert all(fromkeys_dict[k] == 0 for k in fromkeys_dict)"
   ]
  },
  {
   "cell_type": "markdown",
   "metadata": {
    "ExecuteTime": {
     "end_time": "2020-11-01T09:25:48.937507Z",
     "start_time": "2020-11-01T09:25:48.928030Z"
    },
    "slideshow": {
     "slide_type": "subslide"
    }
   },
   "source": [
    "**How to use a rule to construct a set/dictionary?**"
   ]
  },
  {
   "cell_type": "markdown",
   "metadata": {
    "slideshow": {
     "slide_type": "fragment"
    }
   },
   "source": [
    "The following function uses a one-line dictionary comprehension to return the distribution of items in a sequence:"
   ]
  },
  {
   "cell_type": "code",
   "execution_count": 14,
   "metadata": {
    "ExecuteTime": {
     "end_time": "2020-11-06T21:06:08.402210Z",
     "start_time": "2020-11-06T21:06:08.396535Z"
    },
    "tags": []
   },
   "outputs": [],
   "source": [
    "def distribute(seq):\n",
    "    return {k: seq.count(k) / len(seq) for k in set(seq)}"
   ]
  },
  {
   "cell_type": "code",
   "execution_count": 17,
   "metadata": {},
   "outputs": [
    {
     "data": {
      "image/png": "[encoded data removed]",
      "text/plain": [
       "<Figure size 640x480 with 1 Axes>"
      ]
     },
     "metadata": {},
     "output_type": "display_data"
    }
   ],
   "source": [
    "def plot_distribution(seq):\n",
    "    dist = distribute(seq)\n",
    "    plt.stem(\n",
    "        dist.keys(),  # set-like view of the keys\n",
    "        dist.values(),  # view of the values\n",
    "    )\n",
    "    plt.xlabel(\"Items\")\n",
    "    plt.title(\"Distribution\")\n",
    "    plt.ylim(0, 1)\n",
    "\n",
    "\n",
    "plot_distribution(\"What is the distribution of different characters?\")"
   ]
  },
  {
   "cell_type": "markdown",
   "metadata": {
    "slideshow": {
     "slide_type": "subslide"
    }
   },
   "source": [
    "- The object methods `keys` and `values` provide a dynamic [view](https://docs.python.org/3/glossary.html#term-dictionary-view) of the keys.  \n",
    "- Unlike a copy, subsequent changes to the dictionary are also reflected in a previously returned view.\n",
    "- `items` provides a set-like view of the key-value pairs."
   ]
  },
  {
   "cell_type": "code",
   "execution_count": 18,
   "metadata": {
    "ExecuteTime": {
     "end_time": "2020-11-06T21:06:08.644114Z",
     "start_time": "2020-11-06T21:06:08.639702Z"
    },
    "slideshow": {
     "slide_type": "-"
    }
   },
   "outputs": [
    {
     "data": {
      "application/vnd.jupyter.widget-view+json": {
       "model_id": "9b72287627494d6d93e3c13cb5059eb1",
       "version_major": 2,
       "version_minor": 0
      },
      "text/plain": [
       "OPTWidget(value=None, height=500, script='a = dict(enumerate(\"abc\"))\\nviews = a.keys(), a.values(), a.items()\\…"
      ]
     },
     "metadata": {},
     "output_type": "display_data"
    }
   ],
   "source": [
    "%%optlite -h 500\n",
    "a = dict(enumerate(\"abc\"))\n",
    "views = a.keys(), a.values(), a.items()\n",
    "print(a.pop(1))  # remove the key 1 and its associated value\n",
    "print(a.popitem())  # remove and return one key-value pair\n",
    "a.clear()  # clear the dictionary"
   ]
  },
  {
   "cell_type": "markdown",
   "metadata": {
    "slideshow": {
     "slide_type": "subslide"
    }
   },
   "source": [
    "`set` has `pop` and `clear` but not `popitem`. However, `set.pop` behaves like `dict.popitem` instead of `dict.pop`."
   ]
  },
  {
   "cell_type": "code",
   "execution_count": 19,
   "metadata": {
    "ExecuteTime": {
     "end_time": "2020-11-06T21:06:08.652435Z",
     "start_time": "2020-11-06T21:06:08.645934Z"
    },
    "slideshow": {
     "slide_type": "-"
    }
   },
   "outputs": [
    {
     "data": {
      "application/vnd.jupyter.widget-view+json": {
       "model_id": "28ce3012b1af4ac8be0354aa7f10eccd",
       "version_major": 2,
       "version_minor": 0
      },
      "text/plain": [
       "OPTWidget(value=None, height=250, script='a = set(\"abc\")\\nprint(a.pop())  # remove and return an element\\na.cl…"
      ]
     },
     "metadata": {},
     "output_type": "display_data"
    }
   ],
   "source": [
    "%%optlite -h 250\n",
    "a = set(\"abc\")\n",
    "print(a.pop())  # remove and return an element\n",
    "a.clear()  # clear the set"
   ]
  },
  {
   "cell_type": "markdown",
   "metadata": {
    "slideshow": {
     "slide_type": "fragment"
    }
   },
   "source": [
    "**Exercise** Use at most one comprehension in one line to return a set of composite numbers smaller than `stop`.  \n",
    "\n",
    "```{hint}\n",
    "You do not need to worry about duplicate elements for `set`.\n",
    "```"
   ]
  },
  {
   "cell_type": "code",
   "execution_count": 25,
   "metadata": {
    "ExecuteTime": {
     "end_time": "2020-11-06T21:06:08.756081Z",
     "start_time": "2020-11-06T21:06:08.737677Z"
    },
    "deletable": false,
    "nbgrader": {
     "cell_type": "code",
     "checksum": "3b83011873815689b86c110a651e1e8e",
     "grade": false,
     "grade_id": "set-comprehension",
     "locked": false,
     "schema_version": 3,
     "solution": true,
     "task": false
    },
    "slideshow": {
     "slide_type": "-"
    }
   },
   "outputs": [
    {
     "name": "stdout",
     "output_type": "stream",
     "text": [
      "4 6 8 9 10 12 14 15 16 18 20 21 22 24 25 26 27 28 30 32 33 34 35 36 38 39 40 42 44 45 46 48 49 50 51 52 54 55 56 57 58 60 62 63 64 65 66 68 69 70 72 74 75 76 77 78 80 81 82 84 85 86 87 88 90 91 92 93 94 95 96 98 99\n"
     ]
    }
   ],
   "source": [
    "def composite_set(stop):\n",
    "    comp = {*()}\n",
    "    for i in range(2, stop):\n",
    "        if i not in comp:\n",
    "            comp.update({k for k in range(2 * i, stop, i)})\n",
    "    return comp\n",
    "\n",
    "print(*sorted(composite_set(100)))"
   ]
  },
  {
   "cell_type": "markdown",
   "metadata": {
    "slideshow": {
     "slide_type": "slide"
    }
   },
   "source": [
    "## Hashability"
   ]
  },
  {
   "cell_type": "markdown",
   "metadata": {},
   "source": [
    "Why are some keys missing in the following dictionary/set?"
   ]
  },
  {
   "cell_type": "code",
   "execution_count": 26,
   "metadata": {
    "ExecuteTime": {
     "end_time": "2020-11-06T21:06:08.924986Z",
     "start_time": "2020-11-06T21:06:08.917894Z"
    },
    "slideshow": {
     "slide_type": "fragment"
    }
   },
   "outputs": [
    {
     "data": {
      "application/vnd.jupyter.widget-view+json": {
       "model_id": "3ed5dcb62a144d4989eac2986e4a4a04",
       "version_major": 2,
       "version_minor": 0
      },
      "text/plain": [
       "OPTWidget(value=None, height=350, script='a = {0: \"a\", 0.0: \"b\", 2: \"b\"}\\nb = {0j, 0, 0.0, \"\", False}\\nassert …"
      ]
     },
     "metadata": {},
     "output_type": "display_data"
    }
   ],
   "source": [
    "%%optlite -h 350\n",
    "a = {0: \"a\", 0.0: \"b\", 2: \"b\"}\n",
    "b = {0j, 0, 0.0, \"\", False}\n",
    "assert 0 == 0.0 == 0j == False != \"\""
   ]
  },
  {
   "cell_type": "markdown",
   "metadata": {
    "slideshow": {
     "slide_type": "fragment"
    }
   },
   "source": [
    "```{caution}\n",
    "\n",
    "For `set` and `dict`, identical keys are merged to the same entry even though values associated with different keys in `dict` can be the same.\n",
    "```"
   ]
  },
  {
   "cell_type": "markdown",
   "metadata": {
    "slideshow": {
     "slide_type": "fragment"
    }
   },
   "source": [
    "Associative containers are implemented as *hash tables* for efficient lookup of keys."
   ]
  },
  {
   "cell_type": "code",
   "execution_count": 27,
   "metadata": {
    "ExecuteTime": {
     "end_time": "2020-11-06T21:06:09.199204Z",
     "start_time": "2020-11-06T21:06:09.192584Z"
    },
    "slideshow": {
     "slide_type": "-"
    }
   },
   "outputs": [
    {
     "data": {
      "text/html": [
       "<iframe width=\"800\" height=\"450\" src=\"https://www.youtube.com/embed/LPzN8jgbnvA\" frameborder=\"0\" allow=\"accelerometer; autoplay; clipboard-write; encrypted-media; gyroscope; picture-in-picture\" allowfullscreen></iframe>\n"
      ],
      "text/plain": [
       "<IPython.core.display.HTML object>"
      ]
     },
     "metadata": {},
     "output_type": "display_data"
    }
   ],
   "source": [
    "%%html\n",
    "<iframe width=\"800\" height=\"450\" src=\"https://www.youtube.com/embed/LPzN8jgbnvA\" frameborder=\"0\" allow=\"accelerometer; autoplay; clipboard-write; encrypted-media; gyroscope; picture-in-picture\" allowfullscreen></iframe>"
   ]
  },
  {
   "cell_type": "markdown",
   "metadata": {
    "slideshow": {
     "slide_type": "subslide"
    }
   },
   "source": [
    "```{important}\n",
    "\n",
    "A key for `dict` or `set` must be a [hashable](https://docs.python.org/3/glossary.html#term-hashable) object which\n",
    "\n",
    "- has a hash value (returned by `__hash__` method) that never changes during its lifetime, and\n",
    "- can be compared (using `__eq__` method) to other objects.  \n",
    "  *Hashable objects which are equal must have the same hash value.*\n",
    "```"
   ]
  },
  {
   "cell_type": "markdown",
   "metadata": {
    "slideshow": {
     "slide_type": "fragment"
    }
   },
   "source": [
    "Python also uses dictionaries to implement global/local frames, and [hash collisions can slow down the lookup process](https://stackoverflow.com/questions/8271139/why-is-early-return-slower-than-else)."
   ]
  },
  {
   "cell_type": "markdown",
   "metadata": {},
   "source": [
    "**What are hashable?**"
   ]
  },
  {
   "cell_type": "code",
   "execution_count": 28,
   "metadata": {
    "ExecuteTime": {
     "end_time": "2020-11-06T21:06:09.025314Z",
     "start_time": "2020-11-06T21:06:09.014575Z"
    },
    "slideshow": {
     "slide_type": "-"
    }
   },
   "outputs": [
    {
     "name": "stdout",
     "output_type": "stream",
     "text": [
      "<class 'int'> may be hashable. E.g., hash(0) == 0\n",
      "<class 'float'> may be hashable. E.g., hash(0.0) == 0\n",
      "<class 'complex'> may be hashable. E.g., hash(0j) == 0\n",
      "<class 'str'> may be hashable. E.g., hash('') == 0\n",
      "<class 'bool'> may be hashable. E.g., hash(False) == 0\n",
      "<class 'tuple'> may be hashable. E.g., hash(()) == 5740354900026072187\n",
      "<class 'list'> may not be hashable.\n",
      "<class 'dict'> may not be hashable.\n",
      "<class 'set'> may not be hashable.\n",
      "<class 'frozenset'> may be hashable. E.g., hash(frozenset()) == 133146708735736\n",
      "<class 'tuple'> may not be hashable.\n"
     ]
    }
   ],
   "source": [
    "def hashable(obj):\n",
    "    try:\n",
    "        hash(obj)\n",
    "    except Exception:\n",
    "        return False\n",
    "    return True\n",
    "\n",
    "\n",
    "for i in 0, 0.0, 0j, \"\", False, (), [], {}, set(), frozenset(), ([],):\n",
    "    if hashable(i):\n",
    "        print(\"{} may be hashable. E.g., hash({!r}) == {}\".format(type(i), i, hash(i)))\n",
    "    else:\n",
    "        print(\"{} may not be hashable.\".format(type(i)))"
   ]
  },
  {
   "cell_type": "markdown",
   "metadata": {},
   "source": [
    "`set` has an immutable counterpart called `frozenset`, which is hashable."
   ]
  },
  {
   "cell_type": "code",
   "execution_count": 29,
   "metadata": {},
   "outputs": [
    {
     "data": {
      "text/plain": [
       "True"
      ]
     },
     "execution_count": 29,
     "metadata": {},
     "output_type": "execute_result"
    }
   ],
   "source": [
    "hashable(frozenset())"
   ]
  },
  {
   "cell_type": "markdown",
   "metadata": {
    "ExecuteTime": {
     "end_time": "2020-11-01T08:18:58.573375Z",
     "start_time": "2020-11-01T08:18:58.567390Z"
    },
    "slideshow": {
     "slide_type": "subslide"
    }
   },
   "source": [
    "**Why most mutable objects are not hashable?**"
   ]
  },
  {
   "cell_type": "markdown",
   "metadata": {
    "slideshow": {
     "slide_type": "fragment"
    }
   },
   "source": [
    "Mutating a key makes it a different key, which is [hard to track](https://hynek.me/articles/hashes-and-equality/)."
   ]
  },
  {
   "cell_type": "markdown",
   "metadata": {
    "slideshow": {
     "slide_type": "fragment"
    }
   },
   "source": [
    "**Why `dict` does not have any immutable counterpart?**"
   ]
  },
  {
   "cell_type": "markdown",
   "metadata": {},
   "source": [
    "While elements of a set must be hashable and, therefore, often immutable, dictionary values may be of mutable types."
   ]
  },
  {
   "cell_type": "markdown",
   "metadata": {
    "slideshow": {
     "slide_type": "subslide"
    }
   },
   "source": [
    "**Exercise** Why must equal objects have the same hash? Why may different objects have the same hash? For example:"
   ]
  },
  {
   "cell_type": "code",
   "execution_count": 30,
   "metadata": {
    "ExecuteTime": {
     "end_time": "2020-11-06T21:06:09.545081Z",
     "start_time": "2020-11-06T21:06:09.539538Z"
    },
    "slideshow": {
     "slide_type": "-"
    }
   },
   "outputs": [],
   "source": [
    "assert hash(0) == hash(0.0) == hash(0j) == hash(False) == hash(\"\") and False != \"\""
   ]
  },
  {
   "cell_type": "markdown",
   "metadata": {
    "deletable": false,
    "nbgrader": {
     "cell_type": "markdown",
     "checksum": "adf072b79eaf2435c5d737941c8d2820",
     "grade": true,
     "grade_id": "hash-collision",
     "locked": false,
     "points": 0,
     "schema_version": 3,
     "solution": true,
     "task": false
    },
    "slideshow": {
     "slide_type": "-"
    }
   },
   "source": [
    "YOUR ANSWER HERE"
   ]
  },
  {
   "cell_type": "markdown",
   "metadata": {
    "tags": []
   },
   "source": [
    "**Exercise** Should an immutable object always be hashable?"
   ]
  },
  {
   "cell_type": "markdown",
   "metadata": {
    "deletable": false,
    "nbgrader": {
     "cell_type": "markdown",
     "checksum": "f89abcb07d247740b1738c198917c5f3",
     "grade": true,
     "grade_id": "immutable_vs_hashable",
     "locked": false,
     "points": 0,
     "schema_version": 3,
     "solution": true,
     "task": false
    }
   },
   "source": [
    "YOUR ANSWER HERE"
   ]
  },
  {
   "cell_type": "markdown",
   "metadata": {},
   "source": [
    "**Exercise** Can we use the `id` of an object as its hash value?"
   ]
  },
  {
   "cell_type": "markdown",
   "metadata": {
    "deletable": false,
    "nbgrader": {
     "cell_type": "markdown",
     "checksum": "9b9d49c6f8e142727bd52ccd8fd93e2f",
     "grade": true,
     "grade_id": "id_vs_hash",
     "locked": false,
     "points": 0,
     "schema_version": 3,
     "solution": true,
     "task": false
    }
   },
   "source": [
    "YOUR ANSWER HERE"
   ]
  },
  {
   "cell_type": "markdown",
   "metadata": {
    "slideshow": {
     "slide_type": "slide"
    }
   },
   "source": [
    "## Accessing keys/values"
   ]
  },
  {
   "cell_type": "markdown",
   "metadata": {
    "slideshow": {
     "slide_type": "subslide"
    }
   },
   "source": [
    "**How to traverse a set/dictionary?**"
   ]
  },
  {
   "cell_type": "markdown",
   "metadata": {
    "slideshow": {
     "slide_type": "fragment"
    }
   },
   "source": [
    "Set and dictionaries are iterable:"
   ]
  },
  {
   "cell_type": "code",
   "execution_count": 31,
   "metadata": {
    "ExecuteTime": {
     "end_time": "2020-11-06T21:06:09.946276Z",
     "start_time": "2020-11-06T21:06:09.875228Z"
    },
    "slideshow": {
     "slide_type": "-"
    }
   },
   "outputs": [
    {
     "data": {
      "application/vnd.jupyter.widget-view+json": {
       "model_id": "82e29f5538ea48eeac930d8bb2ae3690",
       "version_major": 2,
       "version_minor": 0
      },
      "text/plain": [
       "OPTWidget(value=None, height=500, script='s = set(\"abcde\")\\nd = dict(enumerate(\"abcde\"))\\nprint(*(element for …"
      ]
     },
     "metadata": {},
     "output_type": "display_data"
    }
   ],
   "source": [
    "%%optlite -h 500\n",
    "s = set(\"abcde\")\n",
    "d = dict(enumerate(\"abcde\"))\n",
    "print(*(element for element in s))\n",
    "print(*((k, d[k]) for k in d))\n",
    "s[0]  # TypeError"
   ]
  },
  {
   "cell_type": "markdown",
   "metadata": {
    "slideshow": {
     "slide_type": "fragment"
    }
   },
   "source": [
    "```{note}\n",
    "\n",
    "- `set` is not ordered.\n",
    "- `dict` is insertion-ordered since python 3.7.\n",
    "- `dict` is subscriptable. E.g., `d[k]` gives the value in dictionary `d` associated with key `k`.\n",
    "- `set` does not implement [`__getitem__`](https://docs.python.org/3/reference/datamodel.html#object.__getitem__) and is therefore not subscriptable.\n",
    "```"
   ]
  },
  {
   "cell_type": "markdown",
   "metadata": {
    "slideshow": {
     "slide_type": "fragment"
    }
   },
   "source": [
    "The above raises `KeyError` because `-1` is not a key in the dictionary `b`."
   ]
  },
  {
   "cell_type": "markdown",
   "metadata": {
    "slideshow": {
     "slide_type": "fragment"
    }
   },
   "source": [
    "Dictionary implements the [`__setitem__`](https://docs.python.org/3/reference/simple_stmts.html#assignment-statements) method so we can enter a key-value pair to a dictionary using the assignment operator."
   ]
  },
  {
   "cell_type": "code",
   "execution_count": 32,
   "metadata": {
    "ExecuteTime": {
     "end_time": "2020-11-06T21:06:10.212433Z",
     "start_time": "2020-11-06T21:06:10.205926Z"
    },
    "slideshow": {
     "slide_type": "-"
    }
   },
   "outputs": [
    {
     "data": {
      "application/vnd.jupyter.widget-view+json": {
       "model_id": "517131b8144f41aeb3967e94169cb674",
       "version_major": 2,
       "version_minor": 0
      },
      "text/plain": [
       "OPTWidget(value=None, height=400, script='d = {}\\nd[-1] = d\\ndel d[-1]\\nd[-1]\\n')"
      ]
     },
     "metadata": {},
     "output_type": "display_data"
    }
   ],
   "source": [
    "%%optlite -h 400\n",
    "d = {}\n",
    "d[-1] = d\n",
    "del d[-1]\n",
    "d[-1]"
   ]
  },
  {
   "cell_type": "markdown",
   "metadata": {},
   "source": [
    "```{note}\n",
    "\n",
    "`del d[k]` deletes the object reference at `d[k]`, not the object referenced by `d[k]`. \n",
    "```"
   ]
  },
  {
   "cell_type": "markdown",
   "metadata": {
    "slideshow": {
     "slide_type": "subslide"
    }
   },
   "source": [
    "To avoid `KeyError`, we can check if a key is in a dictionary efficiently (due to hashing) using the `in` operator.  \n",
    "The following is a different implementation of `distribute`."
   ]
  },
  {
   "cell_type": "code",
   "execution_count": 33,
   "metadata": {
    "ExecuteTime": {
     "end_time": "2020-11-06T21:06:10.652024Z",
     "start_time": "2020-11-06T21:06:10.405798Z"
    },
    "slideshow": {
     "slide_type": "-"
    }
   },
   "outputs": [
    {
     "data": {
      "image/png": "[encoded data removed]",
      "text/plain": [
       "<Figure size 640x480 with 1 Axes>"
      ]
     },
     "metadata": {},
     "output_type": "display_data"
    }
   ],
   "source": [
    "def distribute(seq):\n",
    "    dist = {}\n",
    "    for i in seq:\n",
    "        dist[i] = (dist[i] if i in dist else 0) + 1 / len(seq)\n",
    "    return dist\n",
    "\n",
    "\n",
    "plot_distribution(\"What is the distribution of different characters?\")"
   ]
  },
  {
   "cell_type": "markdown",
   "metadata": {
    "slideshow": {
     "slide_type": "subslide"
    }
   },
   "source": [
    "**Exercise** Unlike the previous implementation using one-line dictionary comprehension, the above alternative implementation uses multiple lines of code to build the dictionary incrementally, starting from an empty dictionary.\n",
    "```Python\n",
    "def distribute(seq):\n",
    "    return {k : seq.count(k)/len(seq) for k in set(seq)}\n",
    "```\n",
    "Explain whether the alternative implementation is more efficient."
   ]
  },
  {
   "cell_type": "markdown",
   "metadata": {
    "deletable": false,
    "nbgrader": {
     "cell_type": "markdown",
     "checksum": "09bc91c5072c1d5d05c816039ba7a04a",
     "grade": true,
     "grade_id": "efficient-distribution",
     "locked": false,
     "points": 0,
     "schema_version": 3,
     "solution": true,
     "task": false
    },
    "slideshow": {
     "slide_type": "-"
    }
   },
   "source": [
    "**Answer**\n",
    "\n",
    "The previous implementation is more efficient."
   ]
  },
  {
   "cell_type": "markdown",
   "metadata": {
    "slideshow": {
     "slide_type": "subslide"
    }
   },
   "source": [
    "**Exercise** `dict` also has a getter method `get` that conveniently returns a default value if the key does not exist. Rewrite the alternative implementation of `distribute` to use `get` instead of `in`."
   ]
  },
  {
   "cell_type": "code",
   "execution_count": 37,
   "metadata": {
    "ExecuteTime": {
     "end_time": "2020-11-06T21:06:10.867186Z",
     "start_time": "2020-11-06T21:06:10.654346Z"
    },
    "deletable": false,
    "nbgrader": {
     "cell_type": "code",
     "checksum": "a2b091f9e43f1cfa0c5890cd3c754f2b",
     "grade": false,
     "grade_id": "get",
     "locked": false,
     "schema_version": 3,
     "solution": true,
     "task": false
    },
    "slideshow": {
     "slide_type": "-"
    }
   },
   "outputs": [
    {
     "data": {
      "image/png": "[encoded data removed]",
      "text/plain": [
       "<Figure size 640x480 with 1 Axes>"
      ]
     },
     "metadata": {},
     "output_type": "display_data"
    },
    {
     "data": {
      "text/plain": [
       "\u001b[0;31mSignature:\u001b[0m \u001b[0mdict\u001b[0m\u001b[0;34m.\u001b[0m\u001b[0mget\u001b[0m\u001b[0;34m(\u001b[0m\u001b[0mself\u001b[0m\u001b[0;34m,\u001b[0m \u001b[0mkey\u001b[0m\u001b[0;34m,\u001b[0m \u001b[0mdefault\u001b[0m\u001b[0;34m=\u001b[0m\u001b[0;32mNone\u001b[0m\u001b[0;34m,\u001b[0m \u001b[0;34m/\u001b[0m\u001b[0;34m)\u001b[0m\u001b[0;34m\u001b[0m\u001b[0;34m\u001b[0m\u001b[0m\n",
       "\u001b[0;31mDocstring:\u001b[0m Return the value for key if key is in the dictionary, else default.\n",
       "\u001b[0;31mType:\u001b[0m      method_descriptor\n"
      ]
     },
     "metadata": {},
     "output_type": "display_data"
    }
   ],
   "source": [
    "dict.get?\n",
    "def distribute(seq):\n",
    "    dist = {}\n",
    "    for i in seq:\n",
    "        dist[i] = dist.get(i, 0) + 1 / len(seq)\n",
    "    return dist\n",
    "\n",
    "\n",
    "plot_distribution(\"What is the distribution of different characters?\")"
   ]
  },
  {
   "cell_type": "markdown",
   "metadata": {
    "slideshow": {
     "slide_type": "subslide"
    }
   },
   "source": [
    "**How to traverse in ascending order of the keys?**"
   ]
  },
  {
   "cell_type": "markdown",
   "metadata": {
    "slideshow": {
     "slide_type": "fragment"
    }
   },
   "source": [
    "We can apply the function `sorted` to a set/dictionary to return a sorted list of the keys."
   ]
  },
  {
   "cell_type": "code",
   "execution_count": 38,
   "metadata": {
    "ExecuteTime": {
     "end_time": "2020-11-06T21:06:10.872969Z",
     "start_time": "2020-11-06T21:06:10.869064Z"
    },
    "slideshow": {
     "slide_type": "-"
    }
   },
   "outputs": [
    {
     "data": {
      "application/vnd.jupyter.widget-view+json": {
       "model_id": "427c8415114c4f48b6899b974a2ebb64",
       "version_major": 2,
       "version_minor": 0
      },
      "text/plain": [
       "OPTWidget(value=None, height=600, script='a = set(reversed(\"abcde\"))\\nb = dict(reversed([*enumerate(\"abcde\")])…"
      ]
     },
     "metadata": {},
     "output_type": "display_data"
    }
   ],
   "source": [
    "%%optlite -h 600\n",
    "a = set(reversed(\"abcde\"))\n",
    "b = dict(reversed([*enumerate(\"abcde\")]))\n",
    "sorted_elements = sorted(a)\n",
    "sorted_keys = sorted(b)"
   ]
  },
  {
   "cell_type": "markdown",
   "metadata": {
    "slideshow": {
     "slide_type": "subslide"
    }
   },
   "source": [
    "**Exercise** Re-implement `plot_distribution` to plot the distribution in ascending order of the keys.\n",
    "\n",
    "```{hint}\n",
    "Use the optional argument `key` of the function `sorted`.\n",
    "```"
   ]
  },
  {
   "cell_type": "code",
   "execution_count": 42,
   "metadata": {
    "ExecuteTime": {
     "end_time": "2020-11-06T21:06:10.890243Z",
     "start_time": "2020-11-06T21:06:10.874962Z"
    },
    "deletable": false,
    "nbgrader": {
     "cell_type": "code",
     "checksum": "09e401cdec4154b90f993154fb1d1cc7",
     "grade": false,
     "grade_id": "sorted-keys",
     "locked": false,
     "schema_version": 3,
     "solution": true,
     "task": false
    },
    "slideshow": {
     "slide_type": "-"
    }
   },
   "outputs": [
    {
     "data": {
      "image/png": "[encoded data removed]",
      "text/plain": [
       "<Figure size 640x480 with 1 Axes>"
      ]
     },
     "metadata": {},
     "output_type": "display_data"
    }
   ],
   "source": [
    "def plot_distribution(seq):\n",
    "    dist = distribute(seq)\n",
    "    sorted_keys = sorted(dist)\n",
    "    # print(sorted_keys)\n",
    "    new_dist = {i : dist[i] for i in sorted_keys}\n",
    "    # print(new_dist)\n",
    "    plt.stem(new_dist.keys(), new_dist.values())\n",
    "    plt.xlabel(\"Items\")\n",
    "    plt.title(\"Distribution\")\n",
    "    plt.ylim(0, 1)\n",
    "\n",
    "\n",
    "plot_distribution(\"What is the distribution of different characters?\")"
   ]
  },
  {
   "cell_type": "markdown",
   "metadata": {
    "slideshow": {
     "slide_type": "subslide"
    }
   },
   "source": [
    "**How to add an element to a set and remove an element from it?**"
   ]
  },
  {
   "cell_type": "markdown",
   "metadata": {
    "slideshow": {
     "slide_type": "fragment"
    }
   },
   "source": [
    "Instead of subscription, `set` has the `add`/`discard`/`remove` methods for adding/removing elements."
   ]
  },
  {
   "cell_type": "code",
   "execution_count": 43,
   "metadata": {
    "ExecuteTime": {
     "end_time": "2020-11-06T21:06:10.999497Z",
     "start_time": "2020-11-06T21:06:10.994027Z"
    },
    "slideshow": {
     "slide_type": "-"
    }
   },
   "outputs": [
    {
     "data": {
      "application/vnd.jupyter.widget-view+json": {
       "model_id": "07cd38a8d6d54d2281d53e8920856844",
       "version_major": 2,
       "version_minor": 0
      },
      "text/plain": [
       "OPTWidget(value=None, height=400, script='a = set(\"abc\")\\na.add(\"d\")\\na.discard(\"a\")\\na.remove(\"b\")\\na.clear()…"
      ]
     },
     "metadata": {},
     "output_type": "display_data"
    }
   ],
   "source": [
    "%%optlite -h 400\n",
    "a = set(\"abc\")\n",
    "a.add(\"d\")\n",
    "a.discard(\"a\")\n",
    "a.remove(\"b\")\n",
    "a.clear()\n",
    "a.discard(\"a\")  # no error\n",
    "a.remove(\"b\")  # KeyError"
   ]
  },
  {
   "cell_type": "markdown",
   "metadata": {
    "slideshow": {
     "slide_type": "slide"
    }
   },
   "source": [
    "## Other operators and methods"
   ]
  },
  {
   "cell_type": "markdown",
   "metadata": {
    "slideshow": {
     "slide_type": "subslide"
    }
   },
   "source": [
    "Unlike `str`/`tuple`/`list`, `set` and `dict` do not implement addition `+` and multiplication `*`:"
   ]
  },
  {
   "cell_type": "code",
   "execution_count": 44,
   "metadata": {
    "ExecuteTime": {
     "end_time": "2020-11-06T21:06:11.147475Z",
     "start_time": "2020-11-06T21:06:11.141560Z"
    },
    "slideshow": {
     "slide_type": "-"
    }
   },
   "outputs": [
    {
     "data": {
      "text/plain": [
       "False"
      ]
     },
     "execution_count": 44,
     "metadata": {},
     "output_type": "execute_result"
    }
   ],
   "source": [
    "any(\n",
    "    hasattr(container, attr)\n",
    "    for attr in (\"__add__\", \"__mult__\")\n",
    "    for container in (dict, set, frozenset)\n",
    ")"
   ]
  },
  {
   "cell_type": "markdown",
   "metadata": {
    "slideshow": {
     "slide_type": "subslide"
    }
   },
   "source": [
    "**Exercise** Use the unpacking operators `*` and `**` to concatenate two sets/dictionaries below into a new set/dictionary."
   ]
  },
  {
   "cell_type": "code",
   "execution_count": 48,
   "metadata": {
    "ExecuteTime": {
     "end_time": "2020-11-06T21:06:11.236075Z",
     "start_time": "2020-11-06T21:06:11.230787Z"
    },
    "deletable": false,
    "nbgrader": {
     "cell_type": "code",
     "checksum": "8ce190d639a9e64ddfbf12e4c66344ed",
     "grade": false,
     "grade_id": "concatenate-sets",
     "locked": false,
     "schema_version": 3,
     "solution": true,
     "task": false
    },
    "slideshow": {
     "slide_type": "-"
    }
   },
   "outputs": [
    {
     "data": {
      "text/plain": [
       "{'a', 'b', 'c', 'd', 'e'}"
      ]
     },
     "execution_count": 48,
     "metadata": {},
     "output_type": "execute_result"
    }
   ],
   "source": [
    "set1 = set(\"abc\")\n",
    "set2 = set(\"cde\")\n",
    "concatenated_set = {*set1, *set2}\n",
    "concatenated_set"
   ]
  },
  {
   "cell_type": "code",
   "execution_count": 49,
   "metadata": {
    "ExecuteTime": {
     "end_time": "2020-11-06T21:06:11.244872Z",
     "start_time": "2020-11-06T21:06:11.238068Z"
    },
    "deletable": false,
    "nbgrader": {
     "cell_type": "code",
     "checksum": "ad871df69417460020bf9d3c9b9e838e",
     "grade": false,
     "grade_id": "concatenate-dictionaries",
     "locked": false,
     "schema_version": 3,
     "solution": true,
     "task": false
    },
    "slideshow": {
     "slide_type": "-"
    }
   },
   "outputs": [
    {
     "data": {
      "text/plain": [
       "{0: 'a', 1: 'b', 2: 'd', 3: 'e', 4: 'f'}"
      ]
     },
     "execution_count": 49,
     "metadata": {},
     "output_type": "execute_result"
    }
   ],
   "source": [
    "dict1 = dict(enumerate(\"abc\"))\n",
    "dict2 = dict(enumerate(\"def\", start=2))\n",
    "concatenated_dict = {**dict1, **dict2}\n",
    "concatenated_dict"
   ]
  },
  {
   "cell_type": "markdown",
   "metadata": {
    "slideshow": {
     "slide_type": "subslide"
    }
   },
   "source": [
    "`set` overloads many other operators:"
   ]
  },
  {
   "cell_type": "code",
   "execution_count": 50,
   "metadata": {
    "ExecuteTime": {
     "end_time": "2020-11-18T03:07:40.764590Z",
     "start_time": "2020-11-18T03:07:40.753558Z"
    },
    "slideshow": {
     "slide_type": "-"
    }
   },
   "outputs": [
    {
     "data": {
      "application/vnd.jupyter.widget-view+json": {
       "model_id": "a1bb5d95f1744067bed29975f4817f9c",
       "version_major": 2,
       "version_minor": 0
      },
      "text/plain": [
       "OPTWidget(value=None, height=550, script='a, b = {1, 2}, {2, 3}\\n\\nunion = a | b\\nassert all(i in union for i …"
      ]
     },
     "metadata": {},
     "output_type": "display_data"
    }
   ],
   "source": [
    "%%optlite -h 550\n",
    "a, b = {1, 2}, {2, 3}\n",
    "\n",
    "union = a | b\n",
    "assert all(i in union for i in a) and all(i in union for i in b)\n",
    "\n",
    "intersection = a & b\n",
    "assert all(i in a and i in b for i in intersection)\n",
    "\n",
    "assert intersection <= a <= union  # subset\n",
    "assert union > b > intersection  # proper superset\n",
    "assert len(a) + len(b) == len(intersection) + len(union)\n",
    "\n",
    "symmetric_difference = a ^ b\n",
    "assert all((i in a or i in b) and not (i in a and i in b) for i in symmetric_difference)\n",
    "assert symmetric_difference == union - intersection\n",
    "assert set.isdisjoint(intersection, symmetric_difference)\n",
    "assert len(union) == len(intersection) + len(symmetric_difference)"
   ]
  },
  {
   "cell_type": "markdown",
   "metadata": {
    "slideshow": {
     "slide_type": "subslide"
    }
   },
   "source": [
    "The following uses `&` and `-` to compare the sets of public attributes for `set` and `dict`:"
   ]
  },
  {
   "cell_type": "code",
   "execution_count": 51,
   "metadata": {
    "ExecuteTime": {
     "end_time": "2020-11-06T21:06:11.422313Z",
     "start_time": "2020-11-06T21:06:11.413114Z"
    },
    "slideshow": {
     "slide_type": "-"
    }
   },
   "outputs": [
    {
     "name": "stdout",
     "output_type": "stream",
     "text": [
      "Common attributes: copy, clear, pop, update\n",
      "dict-specific attributes: values, keys, popitem, items, setdefault, get, fromkeys\n",
      "set-specific attributes: add, isdisjoint, difference_update, remove, issuperset, discard, difference, issubset, intersection, symmetric_difference, symmetric_difference_update, intersection_update, union\n"
     ]
    }
   ],
   "source": [
    "set_attributes = {attr for attr in dir(set) if attr[0] != \"_\"}\n",
    "dict_attributes = {attr for attr in dir(dict) if attr[0] != \"_\"}\n",
    "print(\"Common attributes:\", \", \".join(set_attributes & dict_attributes))\n",
    "print(\"dict-specific attributes:\", \", \".join(dict_attributes - set_attributes))\n",
    "print(\"set-specific attributes:\", \", \".join(set_attributes - dict_attributes))"
   ]
  },
  {
   "cell_type": "markdown",
   "metadata": {
    "slideshow": {
     "slide_type": "subslide"
    }
   },
   "source": [
    "For `set`, the intersection operation `&` can also be performed by\n",
    "- the class method `intersection`, which returns the intersection of its arguments, and\n",
    "- the object method `intersection_update`, which mutates a set object by intersecting the set with the arguments."
   ]
  },
  {
   "cell_type": "code",
   "execution_count": 52,
   "metadata": {
    "ExecuteTime": {
     "end_time": "2020-11-06T21:06:11.515024Z",
     "start_time": "2020-11-06T21:06:11.507575Z"
    },
    "slideshow": {
     "slide_type": "-"
    }
   },
   "outputs": [
    {
     "data": {
      "application/vnd.jupyter.widget-view+json": {
       "model_id": "050a1ccb5cc542378dfd9e1e75f1b1e1",
       "version_major": 2,
       "version_minor": 0
      },
      "text/plain": [
       "OPTWidget(value=None, height=300, script='a = {0, 1, 2}\\nb = {1, 2, 3}\\nc = set.intersection(a, b, {2, 3, 4})\\…"
      ]
     },
     "metadata": {},
     "output_type": "display_data"
    }
   ],
   "source": [
    "%%optlite -h 300\n",
    "a = {0, 1, 2}\n",
    "b = {1, 2, 3}\n",
    "c = set.intersection(a, b, {2, 3, 4})\n",
    "a.intersection_update(b, c)"
   ]
  },
  {
   "cell_type": "markdown",
   "metadata": {
    "slideshow": {
     "slide_type": "subslide"
    }
   },
   "source": [
    "- All other set-specific methods have an associated operator except `isdisjoint` as shown below.\n",
    "- The object method for `union` is `update` not `union_update`."
   ]
  },
  {
   "cell_type": "markdown",
   "metadata": {
    "slideshow": {
     "slide_type": "-"
    }
   },
   "source": [
    "|     class method       |          object method        | operator     |\n",
    "| ---------------------- | ----------------------------- | ------------ |\n",
    "| `union`                | `update`                      | `\\| `        |\n",
    "| `intersection`         | `intersection_update`         | `&`          |\n",
    "| `symmetric_difference` | `symmetric_difference_update` | `^`          |\n",
    "| `issubset`             |                               | `<=`         |\n",
    "| `issuperset`           |                               | `>=`         |\n",
    "| `isdisjoint`           |                               |              |"
   ]
  },
  {
   "cell_type": "markdown",
   "metadata": {
    "slideshow": {
     "slide_type": "fragment"
    }
   },
   "source": [
    "`dict` also has an `update` method that can update a dictionary using dictionary, iterables, and keyword arguments:"
   ]
  },
  {
   "cell_type": "code",
   "execution_count": 53,
   "metadata": {
    "ExecuteTime": {
     "end_time": "2020-11-18T03:13:27.594519Z",
     "start_time": "2020-11-18T03:13:27.586927Z"
    },
    "slideshow": {
     "slide_type": "-"
    }
   },
   "outputs": [
    {
     "data": {
      "application/vnd.jupyter.widget-view+json": {
       "model_id": "b290f5c8f01d44008d7a9370a258f1d5",
       "version_major": 2,
       "version_minor": 0
      },
      "text/plain": [
       "OPTWidget(value=None, height=300, script='a = {}\\na.update(enumerate(\"a\"), b=2)\\nb = a.copy()\\na.update(b, c=3…"
      ]
     },
     "metadata": {},
     "output_type": "display_data"
    }
   ],
   "source": [
    "%%optlite -h 300\n",
    "a = {}\n",
    "a.update(enumerate(\"a\"), b=2)\n",
    "b = a.copy()\n",
    "a.update(b, c=3)"
   ]
  },
  {
   "cell_type": "markdown",
   "metadata": {
    "slideshow": {
     "slide_type": "subslide"
    }
   },
   "source": [
    "**Exercise** For `dict`, there is also a method called [`setdefault`](https://stackoverflow.com/questions/3483520/use-cases-for-the-setdefault-dict-method). Use it to define a function `group_by_type` that \n",
    "- takes a sequence `seq` of objects and \n",
    "- returns a dictionary `d` such that `d[repr(t)]` returns the list of objects in `seq` of type `t`\n",
    "\n",
    "If there is no objects of type `t`, raise a `KeyError`."
   ]
  },
  {
   "cell_type": "code",
   "execution_count": 57,
   "metadata": {
    "ExecuteTime": {
     "end_time": "2020-11-06T21:06:11.889952Z",
     "start_time": "2020-11-06T21:06:11.876280Z"
    },
    "deletable": false,
    "nbgrader": {
     "cell_type": "code",
     "checksum": "07aacc9848616f451875201481854398",
     "grade": false,
     "grade_id": "setdefault",
     "locked": false,
     "schema_version": 3,
     "solution": true,
     "task": false
    },
    "slideshow": {
     "slide_type": "-"
    }
   },
   "outputs": [
    {
     "data": {
      "text/plain": [
       "{'0': 0,\n",
       " '1': 1,\n",
       " '2': 2,\n",
       " \"'a'\": 'a',\n",
       " \"'b'\": 'b',\n",
       " \"'c'\": 'c',\n",
       " '0.0': 0.0,\n",
       " '0.5': 0.5,\n",
       " '1.0': 1.0,\n",
       " '(0,)': (0,),\n",
       " '(1,)': (1,),\n",
       " '(2,)': (2,),\n",
       " '[0]': [0],\n",
       " '[1]': [1],\n",
       " '[2]': [2],\n",
       " '{0}': {0},\n",
       " '{1}': {1},\n",
       " '{2}': {2},\n",
       " '{0: 0}': {0: 0},\n",
       " '{1: 1}': {1: 1},\n",
       " '{2: 2}': {2: 2},\n",
       " '<built-in function print>': <function print>,\n",
       " '<built-in function hash>': <function hash(obj, /)>,\n",
       " \"<class 'int'>\": int,\n",
       " \"<class 'str'>\": str,\n",
       " \"<class 'float'>\": float,\n",
       " \"<class 'set'>\": set,\n",
       " \"<class 'dict'>\": dict,\n",
       " '<generator object <genexpr> at 0x7fde79603d10>': <generator object <genexpr> at 0x7fde79603d10>,\n",
       " '<enumerate object at 0x7fde791aab80>': <enumerate at 0x7fde791aab80>,\n",
       " 'range(0, 3)': range(0, 3),\n",
       " '<zip object at 0x7fde7917a800>': <zip at 0x7fde7917a800>,\n",
       " \"<method 'add' of 'set' objects>\": <method 'add' of 'set' objects>,\n",
       " \"<method 'copy' of 'dict' objects>\": <method 'copy' of 'dict' objects>}"
      ]
     },
     "execution_count": 57,
     "metadata": {},
     "output_type": "execute_result"
    }
   ],
   "source": [
    "def group_by_type(seq):\n",
    "    group = {}\n",
    "    for i in seq:\n",
    "        group.setdefault(repr(i), i)\n",
    "        # print(repr(i))\n",
    "    return group\n",
    "\n",
    "\n",
    "group_by_type(\n",
    "    [\n",
    "        *range(3),\n",
    "        *\"abc\",\n",
    "        *[i / 2 for i in range(3)],\n",
    "        *[(i,) for i in range(3)],\n",
    "        *[[i] for i in range(3)],\n",
    "        *[{i} for i in range(3)],\n",
    "        *[{i: i} for i in range(3)],\n",
    "        print,\n",
    "        hash,\n",
    "        int,\n",
    "        str,\n",
    "        float,\n",
    "        set,\n",
    "        dict,\n",
    "        (i for i in range(10)),\n",
    "        enumerate(\"abc\"),\n",
    "        range(3),\n",
    "        zip(),\n",
    "        set.add,\n",
    "        dict.copy,\n",
    "    ]\n",
    ")"
   ]
  },
  {
   "cell_type": "code",
   "execution_count": null,
   "metadata": {},
   "outputs": [],
   "source": []
  }
 ],
 "metadata": {
  "kernelspec": {
   "display_name": "Python 3 (ipykernel)",
   "language": "python",
   "name": "python3"
  },
  "language_info": {
   "codemirror_mode": {
    "name": "ipython",
    "version": 3
   },
   "file_extension": ".py",
   "mimetype": "text/x-python",
   "name": "python",
   "nbconvert_exporter": "python",
   "pygments_lexer": "ipython3",
   "version": "3.10.6"
  },
  "latex_envs": {
   "LaTeX_envs_menu_present": true,
   "autoclose": false,
   "autocomplete": true,
   "bibliofile": "biblio.bib",
   "cite_by": "apalike",
   "current_citInitial": 1,
   "eqLabelWithNumbers": true,
   "eqNumInitial": 1,
   "hotkeys": {
    "equation": "Ctrl-E",
    "itemize": "Ctrl-I"
   },
   "labels_anchors": false,
   "latex_user_defs": false,
   "report_style_numbering": false,
   "user_envs_cfg": false
  },
  "rise": {
   "enable_chalkboard": true,
   "scroll": true,
   "theme": "white"
  },
  "toc": {
   "base_numbering": 1,
   "nav_menu": {
    "height": "195px",
    "width": "330px"
   },
   "number_sections": true,
   "sideBar": true,
   "skip_h1_title": true,
   "title_cell": "Table of Contents",
   "title_sidebar": "Contents",
   "toc_cell": false,
   "toc_position": {
    "height": "454.418px",
    "left": "1533px",
    "top": "110.284px",
    "width": "261px"
   },
   "toc_section_display": true,
   "toc_window_display": false
  },
  "widgets": {
   "application/vnd.jupyter.widget-state+json": {
    "state": {},
    "version_major": 2,
    "version_minor": 0
   }
  }
 },
 "nbformat": 4,
 "nbformat_minor": 4
}
