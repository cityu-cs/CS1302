{
 "cells": [
  {
   "cell_type": "code",
   "execution_count": null,
   "metadata": {},
   "outputs": [],
   "source": [
    "# Initialization cell\n",
    "try:  # for CS1302 JupyterLite pyodide kernel\n",
    "    import piplite\n",
    "\n",
    "    with open(\"requirements.txt\") as f:\n",
    "        for package in f:\n",
    "            package = package.strip()\n",
    "            print(\"Installing\", package)\n",
    "            await piplite.install(package)\n",
    "except ModuleNotFoundError:\n",
    "    pass"
   ]
  },
  {
   "cell_type": "markdown",
   "metadata": {
    "slideshow": {
     "slide_type": "slide"
    }
   },
   "source": [
    "# Using Functions"
   ]
  },
  {
   "cell_type": "markdown",
   "metadata": {
    "slideshow": {
     "slide_type": "-"
    },
    "tags": [
     "remove-cell"
    ]
   },
   "source": [
    "**CS1302 Introduction to Computer Programming**\n",
    "___"
   ]
  },
  {
   "cell_type": "code",
   "execution_count": 12,
   "metadata": {
    "ExecuteTime": {
     "end_time": "2020-11-27T11:20:04.656873Z",
     "start_time": "2020-11-27T11:20:04.651575Z"
    },
    "slideshow": {
     "slide_type": "fragment"
    },
    "tags": [
     "remove-cell"
    ]
   },
   "outputs": [],
   "source": [
    "%reload_ext divewidgets"
   ]
  },
  {
   "cell_type": "markdown",
   "metadata": {
    "slideshow": {
     "slide_type": "slide"
    }
   },
   "source": [
    "## Motivation"
   ]
  },
  {
   "cell_type": "markdown",
   "metadata": {
    "slideshow": {
     "slide_type": "fragment"
    }
   },
   "source": [
    "**How to reuse code so we can write less?**"
   ]
  },
  {
   "cell_type": "markdown",
   "metadata": {
    "slideshow": {
     "slide_type": "fragment"
    }
   },
   "source": [
    "Writing a loop is a simple way of code reuse because a piece of code is executed multiple times, once for each iteration."
   ]
  },
  {
   "cell_type": "markdown",
   "metadata": {
    "slideshow": {
     "slide_type": "fragment"
    }
   },
   "source": [
    "```{important}\n",
    "\n",
    "*Code reuse* gives the code an elegant *structure* that\n",
    "- can be executed efficiently by a computer, and\n",
    "- *interpreted* easily by a programmer.\n",
    "```"
   ]
  },
  {
   "cell_type": "markdown",
   "metadata": {
    "slideshow": {
     "slide_type": "fragment"
    }
   },
   "source": [
    "**How to repeat execution at different times, in different programs, and in slightly different ways?**"
   ]
  },
  {
   "cell_type": "markdown",
   "metadata": {
    "slideshow": {
     "slide_type": "slide"
    }
   },
   "source": [
    "## Functions"
   ]
  },
  {
   "cell_type": "markdown",
   "metadata": {
    "slideshow": {
     "slide_type": "fragment"
    }
   },
   "source": [
    "**How to calculate the logarithm?**"
   ]
  },
  {
   "cell_type": "markdown",
   "metadata": {
    "slideshow": {
     "slide_type": "fragment"
    }
   },
   "source": [
    "There is no arithmetic operator for logarithm.  \n",
    "Do we have to implement it ourselves?"
   ]
  },
  {
   "cell_type": "markdown",
   "metadata": {
    "slideshow": {
     "slide_type": "subslide"
    }
   },
   "source": [
    "We can use the function `log` from the [`math` *module*](https://docs.python.org/3/library/math.html):"
   ]
  },
  {
   "cell_type": "code",
   "execution_count": 13,
   "metadata": {
    "ExecuteTime": {
     "end_time": "2020-09-26T10:36:42.539302Z",
     "start_time": "2020-09-26T10:36:42.531086Z"
    },
    "slideshow": {
     "slide_type": "-"
    }
   },
   "outputs": [
    {
     "data": {
      "text/plain": [
       "8.0"
      ]
     },
     "execution_count": 13,
     "metadata": {},
     "output_type": "execute_result"
    }
   ],
   "source": [
    "from math import log\n",
    "\n",
    "log(256, 2)  # log base 2 of 256"
   ]
  },
  {
   "cell_type": "markdown",
   "metadata": {
    "slideshow": {
     "slide_type": "fragment"
    }
   },
   "source": [
    "The above computes the base-$2$ logarithm, $\\log_2(256)$. Like functions in mathematics, a computer function `log` \n",
    "- is *called/invoked* with some input *arguments* `(256, 2)` following the function, and\n",
    "- *returns* an output value computed from the input arguments."
   ]
  },
  {
   "cell_type": "code",
   "execution_count": 14,
   "metadata": {
    "ExecuteTime": {
     "end_time": "2020-09-26T10:37:30.410063Z",
     "start_time": "2020-09-26T10:37:30.402747Z"
    },
    "slideshow": {
     "slide_type": "fragment"
    }
   },
   "outputs": [
    {
     "data": {
      "text/plain": [
       "(True, False)"
      ]
     },
     "execution_count": 14,
     "metadata": {},
     "output_type": "execute_result"
    }
   ],
   "source": [
    "# A function is callable while an integer is not\n",
    "callable(log), callable(1)"
   ]
  },
  {
   "cell_type": "markdown",
   "metadata": {
    "slideshow": {
     "slide_type": "subslide"
    }
   },
   "source": [
    "Unlike mathematical functions:\n",
    "- A python function may require no arguments, but we still need to call it with `()`. "
   ]
  },
  {
   "cell_type": "code",
   "execution_count": null,
   "metadata": {
    "ExecuteTime": {
     "end_time": "2020-09-26T10:37:52.209981Z",
     "start_time": "2020-09-26T10:37:49.292575Z"
    },
    "slideshow": {
     "slide_type": "-"
    },
    "tags": [
     "remove-output"
    ]
   },
   "outputs": [
    {
     "name": "stdout",
     "output_type": "stream",
     "text": [
      " 1\n"
     ]
    },
    {
     "data": {
      "text/plain": [
       "'1'"
      ]
     },
     "execution_count": 15,
     "metadata": {},
     "output_type": "execute_result"
    }
   ],
   "source": [
    "input()"
   ]
  },
  {
   "cell_type": "markdown",
   "metadata": {
    "slideshow": {
     "slide_type": "fragment"
    }
   },
   "source": [
    "- A python function may have *side effects* and return the value `None`."
   ]
  },
  {
   "cell_type": "code",
   "execution_count": 16,
   "metadata": {
    "ExecuteTime": {
     "end_time": "2020-09-26T10:38:06.459546Z",
     "start_time": "2020-09-26T10:38:06.454332Z"
    },
    "slideshow": {
     "slide_type": "-"
    }
   },
   "outputs": [
    {
     "name": "stdout",
     "output_type": "stream",
     "text": [
      "\n",
      "None of type <class 'NoneType'>\n"
     ]
    }
   ],
   "source": [
    "x = print()\n",
    "print(x, \"of type\", type(x))"
   ]
  },
  {
   "cell_type": "markdown",
   "metadata": {
    "slideshow": {
     "slide_type": "fragment"
    }
   },
   "source": [
    "An argument of a function call can be any expression."
   ]
  },
  {
   "cell_type": "code",
   "execution_count": 17,
   "metadata": {
    "ExecuteTime": {
     "end_time": "2020-09-26T10:38:55.805698Z",
     "start_time": "2020-09-26T10:38:50.415718Z"
    },
    "slideshow": {
     "slide_type": "-"
    },
    "tags": [
     "remove-output"
    ]
   },
   "outputs": [
    {
     "name": "stdout",
     "output_type": "stream",
     "text": [
      " 1\n",
      " 2\n"
     ]
    },
    {
     "name": "stdout",
     "output_type": "stream",
     "text": [
      "1st input: 1 \n",
      "2nd input: 2\n"
     ]
    }
   ],
   "source": [
    "print(\"1st input:\", input(), \"\\n2nd input:\", input())"
   ]
  },
  {
   "cell_type": "markdown",
   "metadata": {
    "slideshow": {
     "slide_type": "fragment"
    }
   },
   "source": [
    "```{note}\n",
    "\n",
    "- The argument can also be a function call like function composition in mathematics. \n",
    "- Before a function call is executed, its arguments are evaluated first from left to right.\n",
    "```"
   ]
  },
  {
   "cell_type": "markdown",
   "metadata": {
    "slideshow": {
     "slide_type": "subslide"
    }
   },
   "source": [
    "**Why not implement logarithm yourself?**"
   ]
  },
  {
   "cell_type": "markdown",
   "metadata": {
    "slideshow": {
     "slide_type": "fragment"
    }
   },
   "source": [
    "- The function from standard library is efficiently implemented and thoroughly tested/documented.\n",
    "- Knowing what a function does is often insufficient for an efficient implementation.  \n",
    "    (See [how to calculate logarithm](https://en.wikipedia.org/wiki/Logarithm#Calculation) as an example.)"
   ]
  },
  {
   "cell_type": "markdown",
   "metadata": {
    "slideshow": {
     "slide_type": "fragment"
    }
   },
   "source": [
    "Indeed, the `math` library does not implement `log` itself:\n",
    "> **CPython implementation detail:** The `math` module consists mostly of thin *wrappers* around the platform C math library functions. - [pydoc last paragraph](https://docs.python.org/3/library/math.html)\n",
    "\n",
    "(See the [source code wrapper for `log`](https://github.com/python/cpython/blob/e5ab0b6aa68009a3f50b141ec013dacee3676db9/Modules/mathmodule.c#L757).) "
   ]
  },
  {
   "cell_type": "markdown",
   "metadata": {
    "slideshow": {
     "slide_type": "subslide"
    }
   },
   "source": [
    "**Exercise** \n",
    "\n",
    "What is a function in programming?"
   ]
  },
  {
   "cell_type": "markdown",
   "metadata": {
    "nbgrader": {
     "grade": true,
     "grade_id": "what-is-a-function",
     "locked": false,
     "points": 0,
     "schema_version": 3,
     "solution": true,
     "task": false
    },
    "slideshow": {
     "slide_type": "-"
    }
   },
   "source": [
    "```{admonition} Solution\n",
    ":class: dropdown\n",
    "\n",
    "- A function is a structure that allows a piece of code to be reused in a program.  \n",
    "- A function can adapt its computations to different situations using input arguments.  \n",
    "```"
   ]
  },
  {
   "cell_type": "markdown",
   "metadata": {
    "slideshow": {
     "slide_type": "slide"
    }
   },
   "source": [
    "## Import Functions from Modules"
   ]
  },
  {
   "cell_type": "markdown",
   "metadata": {
    "slideshow": {
     "slide_type": "fragment"
    }
   },
   "source": [
    "**How to import functions?**"
   ]
  },
  {
   "cell_type": "markdown",
   "metadata": {
    "slideshow": {
     "slide_type": "fragment"
    }
   },
   "source": [
    "We can use the [`import` statement](https://docs.python.org/3/reference/simple_stmts.html#import) to import multiple functions into the program *global frame*."
   ]
  },
  {
   "cell_type": "code",
   "execution_count": 18,
   "metadata": {
    "ExecuteTime": {
     "end_time": "2020-09-26T10:41:22.594751Z",
     "start_time": "2020-09-26T10:41:22.588506Z"
    },
    "slideshow": {
     "slide_type": "-"
    }
   },
   "outputs": [
    {
     "data": {
      "application/vnd.jupyter.widget-view+json": {
       "model_id": "1c48d46b42a8455f849fdce2fbfb4420",
       "version_major": 2,
       "version_minor": 0
      },
      "text/plain": [
       "OPTWidget(value=None, height=300, script='from math import ceil, log10\\n\\nx = 1234\\nprint(\"Number of digits of…"
      ]
     },
     "metadata": {},
     "output_type": "display_data"
    }
   ],
   "source": [
    "%%optlite -h 300\n",
    "from math import ceil, log10\n",
    "\n",
    "x = 1234\n",
    "print(\"Number of digits of x:\", ceil(log10(x)))"
   ]
  },
  {
   "cell_type": "markdown",
   "metadata": {
    "slideshow": {
     "slide_type": "fragment"
    }
   },
   "source": [
    "The above imports both the functions `log10` and `ceil` from `math` to compute the number $\\lceil \\log_{10}(x)\\rceil$ of digits of a *strictly positive* integer $x$."
   ]
  },
  {
   "cell_type": "markdown",
   "metadata": {
    "slideshow": {
     "slide_type": "subslide"
    }
   },
   "source": [
    "**How to import all functions from a library?**"
   ]
  },
  {
   "cell_type": "code",
   "execution_count": 19,
   "metadata": {
    "ExecuteTime": {
     "end_time": "2020-09-26T10:42:54.301642Z",
     "start_time": "2020-09-26T10:42:54.293055Z"
    },
    "slideshow": {
     "slide_type": "fragment"
    }
   },
   "outputs": [
    {
     "data": {
      "application/vnd.jupyter.widget-view+json": {
       "model_id": "ad97aa8c057c49059d9e5913eee610e6",
       "version_major": 2,
       "version_minor": 0
      },
      "text/plain": [
       "OPTWidget(value=None, height=300, script='from math import *  # import all except names starting with an under…"
      ]
     },
     "metadata": {},
     "output_type": "display_data"
    }
   ],
   "source": [
    "%%optlite -h 300\n",
    "from math import *  # import all except names starting with an underscore\n",
    "\n",
    "print(\"{:.2f}, {:.2f}, {:.2f}\".format(sin(pi / 6), cos(pi / 3), tan(pi / 4)))"
   ]
  },
  {
   "cell_type": "markdown",
   "metadata": {
    "slideshow": {
     "slide_type": "fragment"
    }
   },
   "source": [
    "The above uses the wildcard `*` to import ([nearly](https://docs.python.org/3/tutorial/modules.html#more-on-modules)) all the functions/variables provided in `math`."
   ]
  },
  {
   "cell_type": "markdown",
   "metadata": {
    "slideshow": {
     "slide_type": "slide"
    }
   },
   "source": [
    "**What if different packages define the same function?**"
   ]
  },
  {
   "cell_type": "code",
   "execution_count": 21,
   "metadata": {
    "ExecuteTime": {
     "end_time": "2020-09-26T10:44:06.443022Z",
     "start_time": "2020-09-26T10:44:06.434362Z"
    },
    "slideshow": {
     "slide_type": "fragment"
    }
   },
   "outputs": [
    {
     "data": {
      "application/vnd.jupyter.widget-view+json": {
       "model_id": "fbb0a90b8aa44b4dbe84a8b65cf63c56",
       "version_major": 2,
       "version_minor": 0
      },
      "text/plain": [
       "OPTWidget(value=None, height=500, script='print(\"{}\".format(pow(-1, 2)))\\nprint(\"{:.2f}\".format(pow(-1, 1 / 2)…"
      ]
     },
     "metadata": {},
     "output_type": "display_data"
    }
   ],
   "source": [
    "%%optlite -h 500\n",
    "print(\"{}\".format(pow(-1, 2)))\n",
    "print(\"{:.2f}\".format(pow(-1, 1 / 2)))\n",
    "from math import *\n",
    "\n",
    "print(\"{}\".format(pow(-1, 2)))\n",
    "print(\"{:.2f}\".format(pow(-1, 1 / 2)))"
   ]
  },
  {
   "cell_type": "markdown",
   "metadata": {
    "slideshow": {
     "slide_type": "fragment"
    }
   },
   "source": [
    "- The function `pow` imported from `math` overwrites the built-in function `pow`.  \n",
    "- Unlike the built-in function, `pow` from `math` returns only floats but not integers or complex numbers. \n",
    "- We say that the import statement *polluted the namespace of the global frame* and caused a *name collision*. "
   ]
  },
  {
   "cell_type": "markdown",
   "metadata": {
    "slideshow": {
     "slide_type": "subslide"
    }
   },
   "source": [
    "**How to avoid name collisions?**"
   ]
  },
  {
   "cell_type": "code",
   "execution_count": 23,
   "metadata": {
    "ExecuteTime": {
     "end_time": "2020-09-26T10:45:35.988045Z",
     "start_time": "2020-09-26T10:45:35.981943Z"
    },
    "slideshow": {
     "slide_type": "-"
    }
   },
   "outputs": [
    {
     "data": {
      "application/vnd.jupyter.widget-view+json": {
       "model_id": "6251442efd7e4a5fa94a001a106bc1a7",
       "version_major": 2,
       "version_minor": 0
      },
      "text/plain": [
       "OPTWidget(value=None, height=350, script='import math\\n\\nprint(\"{:.2f}, {:.2f}\".format(math.pow(-1, 2), pow(-1…"
      ]
     },
     "metadata": {},
     "output_type": "display_data"
    }
   ],
   "source": [
    "%%optlite -h 350\n",
    "import math\n",
    "\n",
    "print(\"{:.2f}, {:.2f}\".format(math.pow(-1, 2), pow(-1, 1 / 2)))"
   ]
  },
  {
   "cell_type": "markdown",
   "metadata": {
    "slideshow": {
     "slide_type": "fragment"
    }
   },
   "source": [
    "We can use the full name (*fully-qualified name*) `math.pow` prefixed with the module name (and possibly package names containing the module)."
   ]
  },
  {
   "cell_type": "markdown",
   "metadata": {
    "slideshow": {
     "slide_type": "subslide"
    }
   },
   "source": [
    "**Can we shorten a name?**"
   ]
  },
  {
   "cell_type": "markdown",
   "metadata": {
    "slideshow": {
     "slide_type": "fragment"
    }
   },
   "source": [
    "The name of a library can be very long and there can be a hierarchical structure as well.  \n",
    "E.g., to plot a sequence using `pyplot` module from `matplotlib` package:"
   ]
  },
  {
   "cell_type": "code",
   "execution_count": 26,
   "metadata": {
    "ExecuteTime": {
     "end_time": "2020-09-14T11:29:37.606167Z",
     "start_time": "2020-09-14T11:29:37.352615Z"
    },
    "slideshow": {
     "slide_type": "-"
    }
   },
   "outputs": [
    {
     "data": {
      "application/vnd.jupyter.widget-view+json": {
       "model_id": "83ed854fab7d4071a1a01ae88bf0fcb8",
       "version_major": 2,
       "version_minor": 0
      },
      "image/png": "[encoded data removed]",
      "text/html": [
       "\n",
       "            <div style=\"display: inline-block;\">\n",
       "                <div class=\"jupyter-widgets widget-label\" style=\"text-align: center;\">\n",
       "                    Figure\n",
       "                </div>\n",
       "                <img src='data:image/png;base64,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' width=640.0/>\n",
       "            </div>\n",
       "        "
      ],
      "text/plain": [
       "Canvas(toolbar=Toolbar(toolitems=[('Home', 'Reset original view', 'home', 'home'), ('Back', 'Back to previous …"
      ]
     },
     "metadata": {},
     "output_type": "display_data"
    }
   ],
   "source": [
    "%matplotlib widget\n",
    "import matplotlib.pyplot\n",
    "\n",
    "matplotlib.pyplot.stem([4, 3, 2, 1])\n",
    "matplotlib.pyplot.ylabel(r\"$x_n$\")\n",
    "matplotlib.pyplot.xlabel(r\"$n$\")\n",
    "matplotlib.pyplot.title(\"A sequence of numbers\")\n",
    "matplotlib.pyplot.show()"
   ]
  },
  {
   "cell_type": "markdown",
   "metadata": {
    "slideshow": {
     "slide_type": "fragment"
    }
   },
   "source": [
    "It is common to rename `matplotlib.pyplot` as `plt`:"
   ]
  },
  {
   "cell_type": "code",
   "execution_count": 27,
   "metadata": {
    "ExecuteTime": {
     "end_time": "2020-09-17T02:21:42.115792Z",
     "start_time": "2020-09-17T02:21:41.849043Z"
    },
    "slideshow": {
     "slide_type": "-"
    }
   },
   "outputs": [
    {
     "data": {
      "application/vnd.jupyter.widget-view+json": {
       "model_id": "83ed854fab7d4071a1a01ae88bf0fcb8",
       "version_major": 2,
       "version_minor": 0
      },
      "image/png": "[encoded data removed]",
      "text/html": [
       "\n",
       "            <div style=\"display: inline-block;\">\n",
       "                <div class=\"jupyter-widgets widget-label\" style=\"text-align: center;\">\n",
       "                    Figure 1\n",
       "                </div>\n",
       "                <img src='data:image/png;base64,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' width=640.0/>\n",
       "            </div>\n",
       "        "
      ],
      "text/plain": [
       "Canvas(toolbar=Toolbar(toolitems=[('Home', 'Reset original view', 'home', 'home'), ('Back', 'Back to previous …"
      ]
     },
     "metadata": {},
     "output_type": "display_data"
    }
   ],
   "source": [
    "import matplotlib.pyplot as plt\n",
    "\n",
    "plt.stem([4, 3, 2, 1])\n",
    "plt.ylabel(r\"$x_n$\")\n",
    "plt.xlabel(r\"$n$\")\n",
    "plt.title(\"A sequence of numbers\")\n",
    "plt.show()"
   ]
  },
  {
   "cell_type": "markdown",
   "metadata": {
    "slideshow": {
     "slide_type": "subslide"
    }
   },
   "source": [
    "We can also rename a function as we import it to avoid name collision:"
   ]
  },
  {
   "cell_type": "code",
   "execution_count": 28,
   "metadata": {
    "ExecuteTime": {
     "end_time": "2020-09-14T12:17:46.823708Z",
     "start_time": "2020-09-14T12:17:46.815682Z"
    },
    "slideshow": {
     "slide_type": "fragment"
    }
   },
   "outputs": [
    {
     "data": {
      "text/plain": [
       "(4.0, 4)"
      ]
     },
     "execution_count": 28,
     "metadata": {},
     "output_type": "execute_result"
    }
   ],
   "source": [
    "from math import pow as fpow\n",
    "\n",
    "fpow(2, 2), pow(2, 2)"
   ]
  },
  {
   "cell_type": "markdown",
   "metadata": {
    "slideshow": {
     "slide_type": "subslide"
    }
   },
   "source": [
    "**Exercise** \n",
    "\n",
    "What is wrong with the following code?"
   ]
  },
  {
   "cell_type": "code",
   "execution_count": 29,
   "metadata": {
    "ExecuteTime": {
     "end_time": "2020-09-26T10:49:46.071860Z",
     "start_time": "2020-09-26T10:49:46.001859Z"
    },
    "slideshow": {
     "slide_type": "fragment"
    }
   },
   "outputs": [
    {
     "ename": "AttributeError",
     "evalue": "'int' object has no attribute 'pow'",
     "output_type": "error",
     "traceback": [
      "\u001b[0;31m---------------------------------------------------------------------------\u001b[0m",
      "\u001b[0;31mAttributeError\u001b[0m                            Traceback (most recent call last)",
      "Input \u001b[0;32mIn [29]\u001b[0m, in \u001b[0;36m<cell line: 3>\u001b[0;34m()\u001b[0m\n\u001b[1;32m      1\u001b[0m \u001b[38;5;28;01mimport\u001b[39;00m \u001b[38;5;21;01mmath\u001b[39;00m \u001b[38;5;28;01mas\u001b[39;00m \u001b[38;5;21;01mm\u001b[39;00m\n\u001b[1;32m      3\u001b[0m \u001b[38;5;28;01mfor\u001b[39;00m m \u001b[38;5;129;01min\u001b[39;00m \u001b[38;5;28mrange\u001b[39m(\u001b[38;5;241m5\u001b[39m):\n\u001b[0;32m----> 4\u001b[0m     \u001b[43mm\u001b[49m\u001b[38;5;241;43m.\u001b[39;49m\u001b[43mpow\u001b[49m(m, \u001b[38;5;241m2\u001b[39m)\n",
      "\u001b[0;31mAttributeError\u001b[0m: 'int' object has no attribute 'pow'"
     ]
    }
   ],
   "source": [
    "import math as m\n",
    "\n",
    "for m in range(5):\n",
    "    m.pow(m, 2)"
   ]
  },
  {
   "cell_type": "markdown",
   "metadata": {
    "nbgrader": {
     "grade": true,
     "grade_id": "name-conflict",
     "locked": false,
     "points": 0,
     "schema_version": 3,
     "solution": true,
     "task": false
    },
    "slideshow": {
     "slide_type": "-"
    }
   },
   "source": [
    "```{admonition} Solution\n",
    ":class: dropdown\n",
    "\n",
    "There is a name collision: `m` is assigned to an integer in the for loop and so it is no longer the module `math` when calling `m.pow`.\n",
    "```"
   ]
  },
  {
   "cell_type": "markdown",
   "metadata": {},
   "source": [
    "**Exercise** \n",
    "\n",
    "Use the `randint` function from `random` to simulate the rolling of a die, by printing a random integer from 1 to 6. "
   ]
  },
  {
   "cell_type": "code",
   "execution_count": 30,
   "metadata": {
    "ExecuteTime": {
     "end_time": "2020-09-17T02:38:32.718543Z",
     "start_time": "2020-09-17T02:38:32.711578Z"
    },
    "nbgrader": {
     "grade": true,
     "grade_id": "random",
     "locked": false,
     "points": 0,
     "schema_version": 3,
     "solution": true,
     "task": false
    }
   },
   "outputs": [
    {
     "name": "stdout",
     "output_type": "stream",
     "text": [
      "6\n"
     ]
    }
   ],
   "source": [
    "import random\n",
    "\n",
    "print(random.randint(1, 6))"
   ]
  },
  {
   "cell_type": "markdown",
   "metadata": {
    "slideshow": {
     "slide_type": "slide"
    }
   },
   "source": [
    "## Built-in Functions"
   ]
  },
  {
   "cell_type": "markdown",
   "metadata": {
    "slideshow": {
     "slide_type": "fragment"
    }
   },
   "source": [
    "**How to learn more about a function such as `randint`?**"
   ]
  },
  {
   "cell_type": "markdown",
   "metadata": {
    "slideshow": {
     "slide_type": "fragment"
    }
   },
   "source": [
    "There is a built-in function `help` for showing the *docstring* (documentation string). "
   ]
  },
  {
   "cell_type": "code",
   "execution_count": 31,
   "metadata": {
    "ExecuteTime": {
     "end_time": "2020-09-26T10:51:54.624111Z",
     "start_time": "2020-09-26T10:51:54.619242Z"
    },
    "slideshow": {
     "slide_type": "-"
    }
   },
   "outputs": [
    {
     "name": "stdout",
     "output_type": "stream",
     "text": [
      "Help on method randint in module random:\n",
      "\n",
      "randint(a, b) method of random.Random instance\n",
      "    Return random integer in range [a, b], including both end points.\n",
      "\n"
     ]
    }
   ],
   "source": [
    "import random\n",
    "\n",
    "help(random.randint)  # random must be imported before"
   ]
  },
  {
   "cell_type": "code",
   "execution_count": 32,
   "metadata": {
    "ExecuteTime": {
     "end_time": "2020-09-26T10:52:06.890625Z",
     "start_time": "2020-09-26T10:52:06.875177Z"
    },
    "scrolled": true,
    "slideshow": {
     "slide_type": "-"
    },
    "tags": [
     "output_scroll",
     "remove-output"
    ]
   },
   "outputs": [
    {
     "name": "stdout",
     "output_type": "stream",
     "text": [
      "Help on module random:\n",
      "\n",
      "NAME\n",
      "    random - Random variable generators.\n",
      "\n",
      "MODULE REFERENCE\n",
      "    https://docs.python.org/3.10/library/random.html\n",
      "    \n",
      "    The following documentation is automatically generated from the Python\n",
      "    source files.  It may be incomplete, incorrect or include features that\n",
      "    are considered implementation detail and may vary between Python\n",
      "    implementations.  When in doubt, consult the module reference at the\n",
      "    location listed above.\n",
      "\n",
      "DESCRIPTION\n",
      "        bytes\n",
      "        -----\n",
      "               uniform bytes (values between 0 and 255)\n",
      "    \n",
      "        integers\n",
      "        --------\n",
      "               uniform within range\n",
      "    \n",
      "        sequences\n",
      "        ---------\n",
      "               pick random element\n",
      "               pick random sample\n",
      "               pick weighted random sample\n",
      "               generate random permutation\n",
      "    \n",
      "        distributions on the real line:\n",
      "        ------------------------------\n",
      "               uniform\n",
      "               triangular\n",
      "               normal (Gaussian)\n",
      "               lognormal\n",
      "               negative exponential\n",
      "               gamma\n",
      "               beta\n",
      "               pareto\n",
      "               Weibull\n",
      "    \n",
      "        distributions on the circle (angles 0 to 2pi)\n",
      "        ---------------------------------------------\n",
      "               circular uniform\n",
      "               von Mises\n",
      "    \n",
      "    General notes on the underlying Mersenne Twister core generator:\n",
      "    \n",
      "    * The period is 2**19937-1.\n",
      "    * It is one of the most extensively tested generators in existence.\n",
      "    * The random() method is implemented in C, executes in a single Python step,\n",
      "      and is, therefore, threadsafe.\n",
      "\n",
      "CLASSES\n",
      "    _random.Random(builtins.object)\n",
      "        Random\n",
      "            SystemRandom\n",
      "    \n",
      "    class Random(_random.Random)\n",
      "     |  Random(x=None)\n",
      "     |  \n",
      "     |  Random number generator base class used by bound module functions.\n",
      "     |  \n",
      "     |  Used to instantiate instances of Random to get generators that don't\n",
      "     |  share state.\n",
      "     |  \n",
      "     |  Class Random can also be subclassed if you want to use a different basic\n",
      "     |  generator of your own devising: in that case, override the following\n",
      "     |  methods:  random(), seed(), getstate(), and setstate().\n",
      "     |  Optionally, implement a getrandbits() method so that randrange()\n",
      "     |  can cover arbitrarily large ranges.\n",
      "     |  \n",
      "     |  Method resolution order:\n",
      "     |      Random\n",
      "     |      _random.Random\n",
      "     |      builtins.object\n",
      "     |  \n",
      "     |  Methods defined here:\n",
      "     |  \n",
      "     |  __getstate__(self)\n",
      "     |      # Issue 17489: Since __reduce__ was defined to fix #759889 this is no\n",
      "     |      # longer called; we leave it here because it has been here since random was\n",
      "     |      # rewritten back in 2001 and why risk breaking something.\n",
      "     |  \n",
      "     |  __init__(self, x=None)\n",
      "     |      Initialize an instance.\n",
      "     |      \n",
      "     |      Optional argument x controls seeding, as for Random.seed().\n",
      "     |  \n",
      "     |  __reduce__(self)\n",
      "     |      Helper for pickle.\n",
      "     |  \n",
      "     |  __setstate__(self, state)\n",
      "     |  \n",
      "     |  betavariate(self, alpha, beta)\n",
      "     |      Beta distribution.\n",
      "     |      \n",
      "     |      Conditions on the parameters are alpha > 0 and beta > 0.\n",
      "     |      Returned values range between 0 and 1.\n",
      "     |  \n",
      "     |  choice(self, seq)\n",
      "     |      Choose a random element from a non-empty sequence.\n",
      "     |  \n",
      "     |  choices(self, population, weights=None, *, cum_weights=None, k=1)\n",
      "     |      Return a k sized list of population elements chosen with replacement.\n",
      "     |      \n",
      "     |      If the relative weights or cumulative weights are not specified,\n",
      "     |      the selections are made with equal probability.\n",
      "     |  \n",
      "     |  expovariate(self, lambd)\n",
      "     |      Exponential distribution.\n",
      "     |      \n",
      "     |      lambd is 1.0 divided by the desired mean.  It should be\n",
      "     |      nonzero.  (The parameter would be called \"lambda\", but that is\n",
      "     |      a reserved word in Python.)  Returned values range from 0 to\n",
      "     |      positive infinity if lambd is positive, and from negative\n",
      "     |      infinity to 0 if lambd is negative.\n",
      "     |  \n",
      "     |  gammavariate(self, alpha, beta)\n",
      "     |      Gamma distribution.  Not the gamma function!\n",
      "     |      \n",
      "     |      Conditions on the parameters are alpha > 0 and beta > 0.\n",
      "     |      \n",
      "     |      The probability distribution function is:\n",
      "     |      \n",
      "     |                  x ** (alpha - 1) * math.exp(-x / beta)\n",
      "     |        pdf(x) =  --------------------------------------\n",
      "     |                    math.gamma(alpha) * beta ** alpha\n",
      "     |  \n",
      "     |  gauss(self, mu, sigma)\n",
      "     |      Gaussian distribution.\n",
      "     |      \n",
      "     |      mu is the mean, and sigma is the standard deviation.  This is\n",
      "     |      slightly faster than the normalvariate() function.\n",
      "     |      \n",
      "     |      Not thread-safe without a lock around calls.\n",
      "     |  \n",
      "     |  getstate(self)\n",
      "     |      Return internal state; can be passed to setstate() later.\n",
      "     |  \n",
      "     |  lognormvariate(self, mu, sigma)\n",
      "     |      Log normal distribution.\n",
      "     |      \n",
      "     |      If you take the natural logarithm of this distribution, you'll get a\n",
      "     |      normal distribution with mean mu and standard deviation sigma.\n",
      "     |      mu can have any value, and sigma must be greater than zero.\n",
      "     |  \n",
      "     |  normalvariate(self, mu, sigma)\n",
      "     |      Normal distribution.\n",
      "     |      \n",
      "     |      mu is the mean, and sigma is the standard deviation.\n",
      "     |  \n",
      "     |  paretovariate(self, alpha)\n",
      "     |      Pareto distribution.  alpha is the shape parameter.\n",
      "     |  \n",
      "     |  randbytes(self, n)\n",
      "     |      Generate n random bytes.\n",
      "     |  \n",
      "     |  randint(self, a, b)\n",
      "     |      Return random integer in range [a, b], including both end points.\n",
      "     |  \n",
      "     |  randrange(self, start, stop=None, step=1)\n",
      "     |      Choose a random item from range(start, stop[, step]).\n",
      "     |      \n",
      "     |      This fixes the problem with randint() which includes the\n",
      "     |      endpoint; in Python this is usually not what you want.\n",
      "     |  \n",
      "     |  sample(self, population, k, *, counts=None)\n",
      "     |      Chooses k unique random elements from a population sequence or set.\n",
      "     |      \n",
      "     |      Returns a new list containing elements from the population while\n",
      "     |      leaving the original population unchanged.  The resulting list is\n",
      "     |      in selection order so that all sub-slices will also be valid random\n",
      "     |      samples.  This allows raffle winners (the sample) to be partitioned\n",
      "     |      into grand prize and second place winners (the subslices).\n",
      "     |      \n",
      "     |      Members of the population need not be hashable or unique.  If the\n",
      "     |      population contains repeats, then each occurrence is a possible\n",
      "     |      selection in the sample.\n",
      "     |      \n",
      "     |      Repeated elements can be specified one at a time or with the optional\n",
      "     |      counts parameter.  For example:\n",
      "     |      \n",
      "     |          sample(['red', 'blue'], counts=[4, 2], k=5)\n",
      "     |      \n",
      "     |      is equivalent to:\n",
      "     |      \n",
      "     |          sample(['red', 'red', 'red', 'red', 'blue', 'blue'], k=5)\n",
      "     |      \n",
      "     |      To choose a sample from a range of integers, use range() for the\n",
      "     |      population argument.  This is especially fast and space efficient\n",
      "     |      for sampling from a large population:\n",
      "     |      \n",
      "     |          sample(range(10000000), 60)\n",
      "     |  \n",
      "     |  seed(self, a=None, version=2)\n",
      "     |      Initialize internal state from a seed.\n",
      "     |      \n",
      "     |      The only supported seed types are None, int, float,\n",
      "     |      str, bytes, and bytearray.\n",
      "     |      \n",
      "     |      None or no argument seeds from current time or from an operating\n",
      "     |      system specific randomness source if available.\n",
      "     |      \n",
      "     |      If *a* is an int, all bits are used.\n",
      "     |      \n",
      "     |      For version 2 (the default), all of the bits are used if *a* is a str,\n",
      "     |      bytes, or bytearray.  For version 1 (provided for reproducing random\n",
      "     |      sequences from older versions of Python), the algorithm for str and\n",
      "     |      bytes generates a narrower range of seeds.\n",
      "     |  \n",
      "     |  setstate(self, state)\n",
      "     |      Restore internal state from object returned by getstate().\n",
      "     |  \n",
      "     |  shuffle(self, x, random=None)\n",
      "     |      Shuffle list x in place, and return None.\n",
      "     |      \n",
      "     |      Optional argument random is a 0-argument function returning a\n",
      "     |      random float in [0.0, 1.0); if it is the default None, the\n",
      "     |      standard random.random will be used.\n",
      "     |  \n",
      "     |  triangular(self, low=0.0, high=1.0, mode=None)\n",
      "     |      Triangular distribution.\n",
      "     |      \n",
      "     |      Continuous distribution bounded by given lower and upper limits,\n",
      "     |      and having a given mode value in-between.\n",
      "     |      \n",
      "     |      http://en.wikipedia.org/wiki/Triangular_distribution\n",
      "     |  \n",
      "     |  uniform(self, a, b)\n",
      "     |      Get a random number in the range [a, b) or [a, b] depending on rounding.\n",
      "     |  \n",
      "     |  vonmisesvariate(self, mu, kappa)\n",
      "     |      Circular data distribution.\n",
      "     |      \n",
      "     |      mu is the mean angle, expressed in radians between 0 and 2*pi, and\n",
      "     |      kappa is the concentration parameter, which must be greater than or\n",
      "     |      equal to zero.  If kappa is equal to zero, this distribution reduces\n",
      "     |      to a uniform random angle over the range 0 to 2*pi.\n",
      "     |  \n",
      "     |  weibullvariate(self, alpha, beta)\n",
      "     |      Weibull distribution.\n",
      "     |      \n",
      "     |      alpha is the scale parameter and beta is the shape parameter.\n",
      "     |  \n",
      "     |  ----------------------------------------------------------------------\n",
      "     |  Class methods defined here:\n",
      "     |  \n",
      "     |  __init_subclass__(**kwargs) from builtins.type\n",
      "     |      Control how subclasses generate random integers.\n",
      "     |      \n",
      "     |      The algorithm a subclass can use depends on the random() and/or\n",
      "     |      getrandbits() implementation available to it and determines\n",
      "     |      whether it can generate random integers from arbitrarily large\n",
      "     |      ranges.\n",
      "     |  \n",
      "     |  ----------------------------------------------------------------------\n",
      "     |  Data descriptors defined here:\n",
      "     |  \n",
      "     |  __dict__\n",
      "     |      dictionary for instance variables (if defined)\n",
      "     |  \n",
      "     |  __weakref__\n",
      "     |      list of weak references to the object (if defined)\n",
      "     |  \n",
      "     |  ----------------------------------------------------------------------\n",
      "     |  Data and other attributes defined here:\n",
      "     |  \n",
      "     |  VERSION = 3\n",
      "     |  \n",
      "     |  ----------------------------------------------------------------------\n",
      "     |  Methods inherited from _random.Random:\n",
      "     |  \n",
      "     |  getrandbits(self, k, /)\n",
      "     |      getrandbits(k) -> x.  Generates an int with k random bits.\n",
      "     |  \n",
      "     |  random(self, /)\n",
      "     |      random() -> x in the interval [0, 1).\n",
      "     |  \n",
      "     |  ----------------------------------------------------------------------\n",
      "     |  Static methods inherited from _random.Random:\n",
      "     |  \n",
      "     |  __new__(*args, **kwargs) from builtins.type\n",
      "     |      Create and return a new object.  See help(type) for accurate signature.\n",
      "    \n",
      "    class SystemRandom(Random)\n",
      "     |  SystemRandom(x=None)\n",
      "     |  \n",
      "     |  Alternate random number generator using sources provided\n",
      "     |  by the operating system (such as /dev/urandom on Unix or\n",
      "     |  CryptGenRandom on Windows).\n",
      "     |  \n",
      "     |   Not available on all systems (see os.urandom() for details).\n",
      "     |  \n",
      "     |  Method resolution order:\n",
      "     |      SystemRandom\n",
      "     |      Random\n",
      "     |      _random.Random\n",
      "     |      builtins.object\n",
      "     |  \n",
      "     |  Methods defined here:\n",
      "     |  \n",
      "     |  getrandbits(self, k)\n",
      "     |      getrandbits(k) -> x.  Generates an int with k random bits.\n",
      "     |  \n",
      "     |  getstate = _notimplemented(self, *args, **kwds)\n",
      "     |  \n",
      "     |  randbytes(self, n)\n",
      "     |      Generate n random bytes.\n",
      "     |  \n",
      "     |  random(self)\n",
      "     |      Get the next random number in the range [0.0, 1.0).\n",
      "     |  \n",
      "     |  seed(self, *args, **kwds)\n",
      "     |      Stub method.  Not used for a system random number generator.\n",
      "     |  \n",
      "     |  setstate = _notimplemented(self, *args, **kwds)\n",
      "     |  \n",
      "     |  ----------------------------------------------------------------------\n",
      "     |  Methods inherited from Random:\n",
      "     |  \n",
      "     |  __getstate__(self)\n",
      "     |      # Issue 17489: Since __reduce__ was defined to fix #759889 this is no\n",
      "     |      # longer called; we leave it here because it has been here since random was\n",
      "     |      # rewritten back in 2001 and why risk breaking something.\n",
      "     |  \n",
      "     |  __init__(self, x=None)\n",
      "     |      Initialize an instance.\n",
      "     |      \n",
      "     |      Optional argument x controls seeding, as for Random.seed().\n",
      "     |  \n",
      "     |  __reduce__(self)\n",
      "     |      Helper for pickle.\n",
      "     |  \n",
      "     |  __setstate__(self, state)\n",
      "     |  \n",
      "     |  betavariate(self, alpha, beta)\n",
      "     |      Beta distribution.\n",
      "     |      \n",
      "     |      Conditions on the parameters are alpha > 0 and beta > 0.\n",
      "     |      Returned values range between 0 and 1.\n",
      "     |  \n",
      "     |  choice(self, seq)\n",
      "     |      Choose a random element from a non-empty sequence.\n",
      "     |  \n",
      "     |  choices(self, population, weights=None, *, cum_weights=None, k=1)\n",
      "     |      Return a k sized list of population elements chosen with replacement.\n",
      "     |      \n",
      "     |      If the relative weights or cumulative weights are not specified,\n",
      "     |      the selections are made with equal probability.\n",
      "     |  \n",
      "     |  expovariate(self, lambd)\n",
      "     |      Exponential distribution.\n",
      "     |      \n",
      "     |      lambd is 1.0 divided by the desired mean.  It should be\n",
      "     |      nonzero.  (The parameter would be called \"lambda\", but that is\n",
      "     |      a reserved word in Python.)  Returned values range from 0 to\n",
      "     |      positive infinity if lambd is positive, and from negative\n",
      "     |      infinity to 0 if lambd is negative.\n",
      "     |  \n",
      "     |  gammavariate(self, alpha, beta)\n",
      "     |      Gamma distribution.  Not the gamma function!\n",
      "     |      \n",
      "     |      Conditions on the parameters are alpha > 0 and beta > 0.\n",
      "     |      \n",
      "     |      The probability distribution function is:\n",
      "     |      \n",
      "     |                  x ** (alpha - 1) * math.exp(-x / beta)\n",
      "     |        pdf(x) =  --------------------------------------\n",
      "     |                    math.gamma(alpha) * beta ** alpha\n",
      "     |  \n",
      "     |  gauss(self, mu, sigma)\n",
      "     |      Gaussian distribution.\n",
      "     |      \n",
      "     |      mu is the mean, and sigma is the standard deviation.  This is\n",
      "     |      slightly faster than the normalvariate() function.\n",
      "     |      \n",
      "     |      Not thread-safe without a lock around calls.\n",
      "     |  \n",
      "     |  lognormvariate(self, mu, sigma)\n",
      "     |      Log normal distribution.\n",
      "     |      \n",
      "     |      If you take the natural logarithm of this distribution, you'll get a\n",
      "     |      normal distribution with mean mu and standard deviation sigma.\n",
      "     |      mu can have any value, and sigma must be greater than zero.\n",
      "     |  \n",
      "     |  normalvariate(self, mu, sigma)\n",
      "     |      Normal distribution.\n",
      "     |      \n",
      "     |      mu is the mean, and sigma is the standard deviation.\n",
      "     |  \n",
      "     |  paretovariate(self, alpha)\n",
      "     |      Pareto distribution.  alpha is the shape parameter.\n",
      "     |  \n",
      "     |  randint(self, a, b)\n",
      "     |      Return random integer in range [a, b], including both end points.\n",
      "     |  \n",
      "     |  randrange(self, start, stop=None, step=1)\n",
      "     |      Choose a random item from range(start, stop[, step]).\n",
      "     |      \n",
      "     |      This fixes the problem with randint() which includes the\n",
      "     |      endpoint; in Python this is usually not what you want.\n",
      "     |  \n",
      "     |  sample(self, population, k, *, counts=None)\n",
      "     |      Chooses k unique random elements from a population sequence or set.\n",
      "     |      \n",
      "     |      Returns a new list containing elements from the population while\n",
      "     |      leaving the original population unchanged.  The resulting list is\n",
      "     |      in selection order so that all sub-slices will also be valid random\n",
      "     |      samples.  This allows raffle winners (the sample) to be partitioned\n",
      "     |      into grand prize and second place winners (the subslices).\n",
      "     |      \n",
      "     |      Members of the population need not be hashable or unique.  If the\n",
      "     |      population contains repeats, then each occurrence is a possible\n",
      "     |      selection in the sample.\n",
      "     |      \n",
      "     |      Repeated elements can be specified one at a time or with the optional\n",
      "     |      counts parameter.  For example:\n",
      "     |      \n",
      "     |          sample(['red', 'blue'], counts=[4, 2], k=5)\n",
      "     |      \n",
      "     |      is equivalent to:\n",
      "     |      \n",
      "     |          sample(['red', 'red', 'red', 'red', 'blue', 'blue'], k=5)\n",
      "     |      \n",
      "     |      To choose a sample from a range of integers, use range() for the\n",
      "     |      population argument.  This is especially fast and space efficient\n",
      "     |      for sampling from a large population:\n",
      "     |      \n",
      "     |          sample(range(10000000), 60)\n",
      "     |  \n",
      "     |  shuffle(self, x, random=None)\n",
      "     |      Shuffle list x in place, and return None.\n",
      "     |      \n",
      "     |      Optional argument random is a 0-argument function returning a\n",
      "     |      random float in [0.0, 1.0); if it is the default None, the\n",
      "     |      standard random.random will be used.\n",
      "     |  \n",
      "     |  triangular(self, low=0.0, high=1.0, mode=None)\n",
      "     |      Triangular distribution.\n",
      "     |      \n",
      "     |      Continuous distribution bounded by given lower and upper limits,\n",
      "     |      and having a given mode value in-between.\n",
      "     |      \n",
      "     |      http://en.wikipedia.org/wiki/Triangular_distribution\n",
      "     |  \n",
      "     |  uniform(self, a, b)\n",
      "     |      Get a random number in the range [a, b) or [a, b] depending on rounding.\n",
      "     |  \n",
      "     |  vonmisesvariate(self, mu, kappa)\n",
      "     |      Circular data distribution.\n",
      "     |      \n",
      "     |      mu is the mean angle, expressed in radians between 0 and 2*pi, and\n",
      "     |      kappa is the concentration parameter, which must be greater than or\n",
      "     |      equal to zero.  If kappa is equal to zero, this distribution reduces\n",
      "     |      to a uniform random angle over the range 0 to 2*pi.\n",
      "     |  \n",
      "     |  weibullvariate(self, alpha, beta)\n",
      "     |      Weibull distribution.\n",
      "     |      \n",
      "     |      alpha is the scale parameter and beta is the shape parameter.\n",
      "     |  \n",
      "     |  ----------------------------------------------------------------------\n",
      "     |  Class methods inherited from Random:\n",
      "     |  \n",
      "     |  __init_subclass__(**kwargs) from builtins.type\n",
      "     |      Control how subclasses generate random integers.\n",
      "     |      \n",
      "     |      The algorithm a subclass can use depends on the random() and/or\n",
      "     |      getrandbits() implementation available to it and determines\n",
      "     |      whether it can generate random integers from arbitrarily large\n",
      "     |      ranges.\n",
      "     |  \n",
      "     |  ----------------------------------------------------------------------\n",
      "     |  Data descriptors inherited from Random:\n",
      "     |  \n",
      "     |  __dict__\n",
      "     |      dictionary for instance variables (if defined)\n",
      "     |  \n",
      "     |  __weakref__\n",
      "     |      list of weak references to the object (if defined)\n",
      "     |  \n",
      "     |  ----------------------------------------------------------------------\n",
      "     |  Data and other attributes inherited from Random:\n",
      "     |  \n",
      "     |  VERSION = 3\n",
      "     |  \n",
      "     |  ----------------------------------------------------------------------\n",
      "     |  Static methods inherited from _random.Random:\n",
      "     |  \n",
      "     |  __new__(*args, **kwargs) from builtins.type\n",
      "     |      Create and return a new object.  See help(type) for accurate signature.\n",
      "\n",
      "FUNCTIONS\n",
      "    betavariate(alpha, beta) method of Random instance\n",
      "        Beta distribution.\n",
      "        \n",
      "        Conditions on the parameters are alpha > 0 and beta > 0.\n",
      "        Returned values range between 0 and 1.\n",
      "    \n",
      "    choice(seq) method of Random instance\n",
      "        Choose a random element from a non-empty sequence.\n",
      "    \n",
      "    choices(population, weights=None, *, cum_weights=None, k=1) method of Random instance\n",
      "        Return a k sized list of population elements chosen with replacement.\n",
      "        \n",
      "        If the relative weights or cumulative weights are not specified,\n",
      "        the selections are made with equal probability.\n",
      "    \n",
      "    expovariate(lambd) method of Random instance\n",
      "        Exponential distribution.\n",
      "        \n",
      "        lambd is 1.0 divided by the desired mean.  It should be\n",
      "        nonzero.  (The parameter would be called \"lambda\", but that is\n",
      "        a reserved word in Python.)  Returned values range from 0 to\n",
      "        positive infinity if lambd is positive, and from negative\n",
      "        infinity to 0 if lambd is negative.\n",
      "    \n",
      "    gammavariate(alpha, beta) method of Random instance\n",
      "        Gamma distribution.  Not the gamma function!\n",
      "        \n",
      "        Conditions on the parameters are alpha > 0 and beta > 0.\n",
      "        \n",
      "        The probability distribution function is:\n",
      "        \n",
      "                    x ** (alpha - 1) * math.exp(-x / beta)\n",
      "          pdf(x) =  --------------------------------------\n",
      "                      math.gamma(alpha) * beta ** alpha\n",
      "    \n",
      "    gauss(mu, sigma) method of Random instance\n",
      "        Gaussian distribution.\n",
      "        \n",
      "        mu is the mean, and sigma is the standard deviation.  This is\n",
      "        slightly faster than the normalvariate() function.\n",
      "        \n",
      "        Not thread-safe without a lock around calls.\n",
      "    \n",
      "    getrandbits(k, /) method of Random instance\n",
      "        getrandbits(k) -> x.  Generates an int with k random bits.\n",
      "    \n",
      "    getstate() method of Random instance\n",
      "        Return internal state; can be passed to setstate() later.\n",
      "    \n",
      "    lognormvariate(mu, sigma) method of Random instance\n",
      "        Log normal distribution.\n",
      "        \n",
      "        If you take the natural logarithm of this distribution, you'll get a\n",
      "        normal distribution with mean mu and standard deviation sigma.\n",
      "        mu can have any value, and sigma must be greater than zero.\n",
      "    \n",
      "    normalvariate(mu, sigma) method of Random instance\n",
      "        Normal distribution.\n",
      "        \n",
      "        mu is the mean, and sigma is the standard deviation.\n",
      "    \n",
      "    paretovariate(alpha) method of Random instance\n",
      "        Pareto distribution.  alpha is the shape parameter.\n",
      "    \n",
      "    randbytes(n) method of Random instance\n",
      "        Generate n random bytes.\n",
      "    \n",
      "    randint(a, b) method of Random instance\n",
      "        Return random integer in range [a, b], including both end points.\n",
      "    \n",
      "    random() method of Random instance\n",
      "        random() -> x in the interval [0, 1).\n",
      "    \n",
      "    randrange(start, stop=None, step=1) method of Random instance\n",
      "        Choose a random item from range(start, stop[, step]).\n",
      "        \n",
      "        This fixes the problem with randint() which includes the\n",
      "        endpoint; in Python this is usually not what you want.\n",
      "    \n",
      "    sample(population, k, *, counts=None) method of Random instance\n",
      "        Chooses k unique random elements from a population sequence or set.\n",
      "        \n",
      "        Returns a new list containing elements from the population while\n",
      "        leaving the original population unchanged.  The resulting list is\n",
      "        in selection order so that all sub-slices will also be valid random\n",
      "        samples.  This allows raffle winners (the sample) to be partitioned\n",
      "        into grand prize and second place winners (the subslices).\n",
      "        \n",
      "        Members of the population need not be hashable or unique.  If the\n",
      "        population contains repeats, then each occurrence is a possible\n",
      "        selection in the sample.\n",
      "        \n",
      "        Repeated elements can be specified one at a time or with the optional\n",
      "        counts parameter.  For example:\n",
      "        \n",
      "            sample(['red', 'blue'], counts=[4, 2], k=5)\n",
      "        \n",
      "        is equivalent to:\n",
      "        \n",
      "            sample(['red', 'red', 'red', 'red', 'blue', 'blue'], k=5)\n",
      "        \n",
      "        To choose a sample from a range of integers, use range() for the\n",
      "        population argument.  This is especially fast and space efficient\n",
      "        for sampling from a large population:\n",
      "        \n",
      "            sample(range(10000000), 60)\n",
      "    \n",
      "    seed(a=None, version=2) method of Random instance\n",
      "        Initialize internal state from a seed.\n",
      "        \n",
      "        The only supported seed types are None, int, float,\n",
      "        str, bytes, and bytearray.\n",
      "        \n",
      "        None or no argument seeds from current time or from an operating\n",
      "        system specific randomness source if available.\n",
      "        \n",
      "        If *a* is an int, all bits are used.\n",
      "        \n",
      "        For version 2 (the default), all of the bits are used if *a* is a str,\n",
      "        bytes, or bytearray.  For version 1 (provided for reproducing random\n",
      "        sequences from older versions of Python), the algorithm for str and\n",
      "        bytes generates a narrower range of seeds.\n",
      "    \n",
      "    setstate(state) method of Random instance\n",
      "        Restore internal state from object returned by getstate().\n",
      "    \n",
      "    shuffle(x, random=None) method of Random instance\n",
      "        Shuffle list x in place, and return None.\n",
      "        \n",
      "        Optional argument random is a 0-argument function returning a\n",
      "        random float in [0.0, 1.0); if it is the default None, the\n",
      "        standard random.random will be used.\n",
      "    \n",
      "    triangular(low=0.0, high=1.0, mode=None) method of Random instance\n",
      "        Triangular distribution.\n",
      "        \n",
      "        Continuous distribution bounded by given lower and upper limits,\n",
      "        and having a given mode value in-between.\n",
      "        \n",
      "        http://en.wikipedia.org/wiki/Triangular_distribution\n",
      "    \n",
      "    uniform(a, b) method of Random instance\n",
      "        Get a random number in the range [a, b) or [a, b] depending on rounding.\n",
      "    \n",
      "    vonmisesvariate(mu, kappa) method of Random instance\n",
      "        Circular data distribution.\n",
      "        \n",
      "        mu is the mean angle, expressed in radians between 0 and 2*pi, and\n",
      "        kappa is the concentration parameter, which must be greater than or\n",
      "        equal to zero.  If kappa is equal to zero, this distribution reduces\n",
      "        to a uniform random angle over the range 0 to 2*pi.\n",
      "    \n",
      "    weibullvariate(alpha, beta) method of Random instance\n",
      "        Weibull distribution.\n",
      "        \n",
      "        alpha is the scale parameter and beta is the shape parameter.\n",
      "\n",
      "DATA\n",
      "    __all__ = ['Random', 'SystemRandom', 'betavariate', 'choice', 'choices...\n",
      "\n",
      "FILE\n",
      "    /opt/conda/lib/python3.10/random.py\n",
      "\n",
      "\n"
     ]
    }
   ],
   "source": [
    "help(random)  # can also show the docstring of a module"
   ]
  },
  {
   "cell_type": "code",
   "execution_count": 29,
   "metadata": {
    "ExecuteTime": {
     "end_time": "2020-09-26T10:52:13.621351Z",
     "start_time": "2020-09-26T10:52:13.615592Z"
    },
    "scrolled": true,
    "tags": [
     "output_scroll",
     "remove-output"
    ]
   },
   "outputs": [
    {
     "name": "stdout",
     "output_type": "stream",
     "text": [
      "Help on _Helper in module _sitebuiltins object:\n",
      "\n",
      "class _Helper(builtins.object)\n",
      " |  Define the builtin 'help'.\n",
      " |  \n",
      " |  This is a wrapper around pydoc.help that provides a helpful message\n",
      " |  when 'help' is typed at the Python interactive prompt.\n",
      " |  \n",
      " |  Calling help() at the Python prompt starts an interactive help session.\n",
      " |  Calling help(thing) prints help for the python object 'thing'.\n",
      " |  \n",
      " |  Methods defined here:\n",
      " |  \n",
      " |  __call__(self, *args, **kwds)\n",
      " |      Call self as a function.\n",
      " |  \n",
      " |  __repr__(self)\n",
      " |      Return repr(self).\n",
      " |  \n",
      " |  ----------------------------------------------------------------------\n",
      " |  Data descriptors defined here:\n",
      " |  \n",
      " |  __dict__\n",
      " |      dictionary for instance variables (if defined)\n",
      " |  \n",
      " |  __weakref__\n",
      " |      list of weak references to the object (if defined)\n",
      "\n"
     ]
    }
   ],
   "source": [
    "help(help)"
   ]
  },
  {
   "cell_type": "markdown",
   "metadata": {},
   "source": [
    "We can also print the source using the inspect module:"
   ]
  },
  {
   "cell_type": "code",
   "execution_count": 63,
   "metadata": {},
   "outputs": [
    {
     "name": "stdout",
     "output_type": "stream",
     "text": [
      "    def randint(self, a, b):\n",
      "        \"\"\"Return random integer in range [a, b], including both end points.\n",
      "        \"\"\"\n",
      "\n",
      "        return self.randrange(a, b+1)\n",
      "\n"
     ]
    }
   ],
   "source": [
    "import inspect\n",
    "\n",
    "print(inspect.getsource(random.randint))"
   ]
  },
  {
   "cell_type": "markdown",
   "metadata": {
    "slideshow": {
     "slide_type": "subslide"
    }
   },
   "source": [
    "**Does built-in functions belong to a module?**"
   ]
  },
  {
   "cell_type": "markdown",
   "metadata": {
    "slideshow": {
     "slide_type": "fragment"
    }
   },
   "source": [
    "Indeed, every function must come from a module."
   ]
  },
  {
   "cell_type": "code",
   "execution_count": 67,
   "metadata": {
    "ExecuteTime": {
     "end_time": "2020-09-26T10:53:18.862516Z",
     "start_time": "2020-09-26T10:53:18.856275Z"
    },
    "slideshow": {
     "slide_type": "-"
    }
   },
   "outputs": [
    {
     "name": "stdout",
     "output_type": "stream",
     "text": [
      "I am from the __builtin__ module.\n"
     ]
    }
   ],
   "source": [
    "__builtin__.print(\"I am from the __builtin__ module.\")"
   ]
  },
  {
   "cell_type": "markdown",
   "metadata": {
    "slideshow": {
     "slide_type": "fragment"
    }
   },
   "source": [
    "`__builtin__` module is automatically loaded because it provides functions that are commonly use for all programs."
   ]
  },
  {
   "cell_type": "markdown",
   "metadata": {
    "slideshow": {
     "slide_type": "subslide"
    }
   },
   "source": [
    "**How to list everything in a module?** "
   ]
  },
  {
   "cell_type": "markdown",
   "metadata": {
    "slideshow": {
     "slide_type": "fragment"
    }
   },
   "source": [
    "We can use the built-in function `dir` (*directory*)."
   ]
  },
  {
   "cell_type": "code",
   "execution_count": 68,
   "metadata": {
    "ExecuteTime": {
     "end_time": "2020-09-26T10:53:42.536516Z",
     "start_time": "2020-09-26T10:53:42.526115Z"
    },
    "scrolled": true,
    "slideshow": {
     "slide_type": "-"
    },
    "tags": [
     "output_scroll",
     "remove-output"
    ]
   },
   "outputs": [
    {
     "data": {
      "text/plain": [
       "['ArithmeticError',\n",
       " 'AssertionError',\n",
       " 'AttributeError',\n",
       " 'BaseException',\n",
       " 'BlockingIOError',\n",
       " 'BrokenPipeError',\n",
       " 'BufferError',\n",
       " 'BytesWarning',\n",
       " 'ChildProcessError',\n",
       " 'ConnectionAbortedError',\n",
       " 'ConnectionError',\n",
       " 'ConnectionRefusedError',\n",
       " 'ConnectionResetError',\n",
       " 'DeprecationWarning',\n",
       " 'EOFError',\n",
       " 'Ellipsis',\n",
       " 'EncodingWarning',\n",
       " 'EnvironmentError',\n",
       " 'Exception',\n",
       " 'False',\n",
       " 'FileExistsError',\n",
       " 'FileNotFoundError',\n",
       " 'FloatingPointError',\n",
       " 'FutureWarning',\n",
       " 'GeneratorExit',\n",
       " 'IOError',\n",
       " 'ImportError',\n",
       " 'ImportWarning',\n",
       " 'IndentationError',\n",
       " 'IndexError',\n",
       " 'InterruptedError',\n",
       " 'IsADirectoryError',\n",
       " 'KeyError',\n",
       " 'KeyboardInterrupt',\n",
       " 'LookupError',\n",
       " 'MemoryError',\n",
       " 'ModuleNotFoundError',\n",
       " 'NameError',\n",
       " 'None',\n",
       " 'NotADirectoryError',\n",
       " 'NotImplemented',\n",
       " 'NotImplementedError',\n",
       " 'OSError',\n",
       " 'OverflowError',\n",
       " 'PendingDeprecationWarning',\n",
       " 'PermissionError',\n",
       " 'ProcessLookupError',\n",
       " 'RecursionError',\n",
       " 'ReferenceError',\n",
       " 'ResourceWarning',\n",
       " 'RuntimeError',\n",
       " 'RuntimeWarning',\n",
       " 'StopAsyncIteration',\n",
       " 'StopIteration',\n",
       " 'SyntaxError',\n",
       " 'SyntaxWarning',\n",
       " 'SystemError',\n",
       " 'SystemExit',\n",
       " 'TabError',\n",
       " 'TimeoutError',\n",
       " 'True',\n",
       " 'TypeError',\n",
       " 'UnboundLocalError',\n",
       " 'UnicodeDecodeError',\n",
       " 'UnicodeEncodeError',\n",
       " 'UnicodeError',\n",
       " 'UnicodeTranslateError',\n",
       " 'UnicodeWarning',\n",
       " 'UserWarning',\n",
       " 'ValueError',\n",
       " 'Warning',\n",
       " 'ZeroDivisionError',\n",
       " '__IPYTHON__',\n",
       " '__build_class__',\n",
       " '__debug__',\n",
       " '__doc__',\n",
       " '__import__',\n",
       " '__loader__',\n",
       " '__name__',\n",
       " '__package__',\n",
       " '__spec__',\n",
       " 'abs',\n",
       " 'aiter',\n",
       " 'all',\n",
       " 'anext',\n",
       " 'any',\n",
       " 'ascii',\n",
       " 'bin',\n",
       " 'bool',\n",
       " 'breakpoint',\n",
       " 'bytearray',\n",
       " 'bytes',\n",
       " 'callable',\n",
       " 'chr',\n",
       " 'classmethod',\n",
       " 'compile',\n",
       " 'complex',\n",
       " 'copyright',\n",
       " 'credits',\n",
       " 'delattr',\n",
       " 'dict',\n",
       " 'dir',\n",
       " 'display',\n",
       " 'divmod',\n",
       " 'enumerate',\n",
       " 'eval',\n",
       " 'exec',\n",
       " 'execfile',\n",
       " 'filter',\n",
       " 'float',\n",
       " 'format',\n",
       " 'frozenset',\n",
       " 'get_ipython',\n",
       " 'getattr',\n",
       " 'globals',\n",
       " 'hasattr',\n",
       " 'hash',\n",
       " 'help',\n",
       " 'hex',\n",
       " 'id',\n",
       " 'input',\n",
       " 'int',\n",
       " 'isinstance',\n",
       " 'issubclass',\n",
       " 'iter',\n",
       " 'len',\n",
       " 'license',\n",
       " 'list',\n",
       " 'locals',\n",
       " 'map',\n",
       " 'max',\n",
       " 'memoryview',\n",
       " 'min',\n",
       " 'next',\n",
       " 'object',\n",
       " 'oct',\n",
       " 'open',\n",
       " 'ord',\n",
       " 'pow',\n",
       " 'print',\n",
       " 'property',\n",
       " 'range',\n",
       " 'repr',\n",
       " 'reversed',\n",
       " 'round',\n",
       " 'runfile',\n",
       " 'set',\n",
       " 'setattr',\n",
       " 'slice',\n",
       " 'sorted',\n",
       " 'staticmethod',\n",
       " 'str',\n",
       " 'sum',\n",
       " 'super',\n",
       " 'tuple',\n",
       " 'type',\n",
       " 'vars',\n",
       " 'zip']"
      ]
     },
     "execution_count": 68,
     "metadata": {},
     "output_type": "execute_result"
    }
   ],
   "source": [
    "dir(__builtin__)"
   ]
  },
  {
   "cell_type": "markdown",
   "metadata": {
    "slideshow": {
     "slide_type": "subslide"
    }
   },
   "source": [
    "**Exercise** \n",
    "\n",
    "We can also call `dir` without arguments. What does it print?\n",
    "\n",
    "```{hint}\n",
    "Try `help(dir)` or `dir?` in jupyter notebook.\n",
    "```"
   ]
  },
  {
   "cell_type": "code",
   "execution_count": 69,
   "metadata": {
    "ExecuteTime": {
     "end_time": "2020-09-26T10:53:58.070284Z",
     "start_time": "2020-09-26T10:53:58.063210Z"
    },
    "scrolled": true,
    "slideshow": {
     "slide_type": "-"
    },
    "tags": [
     "output_scroll",
     "remove-output"
    ]
   },
   "outputs": [
    {
     "data": {
      "text/plain": [
       "['In',\n",
       " 'Out',\n",
       " '_',\n",
       " '_13',\n",
       " '_14',\n",
       " '_15',\n",
       " '_18',\n",
       " '_19',\n",
       " '_2',\n",
       " '_20',\n",
       " '_21',\n",
       " '_22',\n",
       " '_23',\n",
       " '_28',\n",
       " '_34',\n",
       " '_42',\n",
       " '_46',\n",
       " '_5',\n",
       " '_51',\n",
       " '_52',\n",
       " '_53',\n",
       " '_54',\n",
       " '_6',\n",
       " '_68',\n",
       " '_7',\n",
       " '__',\n",
       " '___',\n",
       " '__builtin__',\n",
       " '__builtins__',\n",
       " '__doc__',\n",
       " '__loader__',\n",
       " '__name__',\n",
       " '__package__',\n",
       " '__spec__',\n",
       " '_dh',\n",
       " '_i',\n",
       " '_i1',\n",
       " '_i10',\n",
       " '_i11',\n",
       " '_i12',\n",
       " '_i13',\n",
       " '_i14',\n",
       " '_i15',\n",
       " '_i16',\n",
       " '_i17',\n",
       " '_i18',\n",
       " '_i19',\n",
       " '_i2',\n",
       " '_i20',\n",
       " '_i21',\n",
       " '_i22',\n",
       " '_i23',\n",
       " '_i24',\n",
       " '_i25',\n",
       " '_i26',\n",
       " '_i27',\n",
       " '_i28',\n",
       " '_i29',\n",
       " '_i3',\n",
       " '_i30',\n",
       " '_i31',\n",
       " '_i32',\n",
       " '_i33',\n",
       " '_i34',\n",
       " '_i35',\n",
       " '_i36',\n",
       " '_i37',\n",
       " '_i38',\n",
       " '_i39',\n",
       " '_i4',\n",
       " '_i40',\n",
       " '_i41',\n",
       " '_i42',\n",
       " '_i43',\n",
       " '_i44',\n",
       " '_i45',\n",
       " '_i46',\n",
       " '_i47',\n",
       " '_i48',\n",
       " '_i49',\n",
       " '_i5',\n",
       " '_i50',\n",
       " '_i51',\n",
       " '_i52',\n",
       " '_i53',\n",
       " '_i54',\n",
       " '_i55',\n",
       " '_i56',\n",
       " '_i57',\n",
       " '_i58',\n",
       " '_i59',\n",
       " '_i6',\n",
       " '_i60',\n",
       " '_i61',\n",
       " '_i62',\n",
       " '_i63',\n",
       " '_i64',\n",
       " '_i65',\n",
       " '_i66',\n",
       " '_i67',\n",
       " '_i68',\n",
       " '_i69',\n",
       " '_i7',\n",
       " '_i8',\n",
       " '_i9',\n",
       " '_ih',\n",
       " '_ii',\n",
       " '_iii',\n",
       " '_oh',\n",
       " 'builtins',\n",
       " 'exit',\n",
       " 'fpow',\n",
       " 'get_ipython',\n",
       " 'inspect',\n",
       " 'log',\n",
       " 'm',\n",
       " 'matplotlib',\n",
       " 'plt',\n",
       " 'quit',\n",
       " 'random',\n",
       " 'x']"
      ]
     },
     "execution_count": 69,
     "metadata": {},
     "output_type": "execute_result"
    }
   ],
   "source": [
    "dir()"
   ]
  },
  {
   "cell_type": "code",
   "execution_count": 71,
   "metadata": {},
   "outputs": [
    {
     "data": {
      "text/plain": [
       "\u001b[0;31mDocstring:\u001b[0m\n",
       "dir([object]) -> list of strings\n",
       "\n",
       "If called without an argument, return the names in the current scope.\n",
       "Else, return an alphabetized list of names comprising (some of) the attributes\n",
       "of the given object, and of attributes reachable from it.\n",
       "If the object supplies a method named __dir__, it will be used; otherwise\n",
       "the default dir() logic is used and returns:\n",
       "  for a module object: the module's attributes.\n",
       "  for a class object:  its attributes, and recursively the attributes\n",
       "    of its bases.\n",
       "  for any other object: its attributes, its class's attributes, and\n",
       "    recursively the attributes of its class's base classes.\n",
       "\u001b[0;31mType:\u001b[0m      builtin_function_or_method\n"
      ]
     },
     "metadata": {},
     "output_type": "display_data"
    }
   ],
   "source": [
    "dir?"
   ]
  },
  {
   "cell_type": "markdown",
   "metadata": {
    "nbgrader": {
     "grade": true,
     "grade_id": "dir",
     "locked": false,
     "points": 0,
     "schema_version": 3,
     "solution": true,
     "task": false
    },
    "slideshow": {
     "slide_type": "-"
    },
    "tags": []
   },
   "source": [
    "```{admonition} Solution\n",
    ":class: dropdown\n",
    "\n",
    "In the first line of the docstring: \n",
    "> If called without an argument, return the names in the current scope.\n",
    "```"
   ]
  }
 ],
 "metadata": {
  "celltoolbar": "Slideshow",
  "kernelspec": {
   "display_name": "Python 3 (ipykernel)",
   "language": "python",
   "name": "python3"
  },
  "language_info": {
   "codemirror_mode": {
    "name": "ipython",
    "version": 3
   },
   "file_extension": ".py",
   "mimetype": "text/x-python",
   "name": "python",
   "nbconvert_exporter": "python",
   "pygments_lexer": "ipython3",
   "version": "3.10.6"
  },
  "latex_envs": {
   "LaTeX_envs_menu_present": true,
   "autoclose": false,
   "autocomplete": true,
   "bibliofile": "biblio.bib",
   "cite_by": "apalike",
   "current_citInitial": 1,
   "eqLabelWithNumbers": true,
   "eqNumInitial": 1,
   "hotkeys": {
    "equation": "Ctrl-E",
    "itemize": "Ctrl-I"
   },
   "labels_anchors": false,
   "latex_user_defs": false,
   "report_style_numbering": false,
   "user_envs_cfg": false
  },
  "rise": {
   "enable_chalkboard": true,
   "scroll": true,
   "theme": "white"
  },
  "toc": {
   "base_numbering": 1,
   "nav_menu": {
    "height": "195px",
    "width": "330px"
   },
   "number_sections": true,
   "sideBar": true,
   "skip_h1_title": true,
   "title_cell": "Table of Contents",
   "title_sidebar": "Contents",
   "toc_cell": false,
   "toc_position": {
    "height": "454.418px",
    "left": "1533px",
    "top": "110.284px",
    "width": "243.323px"
   },
   "toc_section_display": true,
   "toc_window_display": false
  },
  "widgets": {
   "application/vnd.jupyter.widget-state+json": {
    "state": {
     "026f1ee8e5b743d4b587c5cc11724299": {
      "model_module": "@jupyter-widgets/base",
      "model_module_version": "1.2.0",
      "model_name": "LayoutModel",
      "state": {}
     },
     "1c48d46b42a8455f849fdce2fbfb4420": {
      "model_module": "jupyter-divewidgets",
      "model_module_version": "^0.1.5",
      "model_name": "OPTWidgetModel",
      "state": {
       "_model_module_version": "^0.1.5",
       "_model_name": "OPTWidgetModel",
       "_view_module_version": "^0.1.5",
       "_view_name": "OPTWidgetView",
       "height": 300,
       "layout": "IPY_MODEL_026f1ee8e5b743d4b587c5cc11724299",
       "script": "from math import ceil, log10\n\nx = 1234\nprint(\"Number of digits of x:\", ceil(log10(x)))\n",
       "srcprefix": "https://dive4dec.github.io/optlite/#mode=display&code=",
       "width": 1100
      }
     },
     "2362b39881bc48349cfd00d63965ddfd": {
      "model_module": "@jupyter-widgets/base",
      "model_module_version": "1.2.0",
      "model_name": "LayoutModel",
      "state": {}
     },
     "395775b235524a5ebacec72eba452914": {
      "model_module": "@jupyter-widgets/base",
      "model_module_version": "1.2.0",
      "model_name": "LayoutModel",
      "state": {}
     },
     "451097ca265b42b58de53f0c96d03c85": {
      "model_module": "jupyter-divewidgets",
      "model_module_version": "^0.1.5",
      "model_name": "OPTWidgetModel",
      "state": {
       "_model_module_version": "^0.1.5",
       "_model_name": "OPTWidgetModel",
       "_view_module_version": "^0.1.5",
       "_view_name": "OPTWidgetView",
       "height": 250,
       "layout": "IPY_MODEL_2362b39881bc48349cfd00d63965ddfd",
       "script": "import math\n\nprint(\"{:.2f}, {:.2f}\".format(math.pow(-1, 2), pow(-1, 1 / 2)))\n",
       "srcprefix": "https://dive4dec.github.io/optlite/#mode=display&code=",
       "width": 1100
      }
     },
     "46ed42d8f9ea43d5888c65f782e3e29b": {
      "model_module": "@jupyter-widgets/base",
      "model_module_version": "1.2.0",
      "model_name": "LayoutModel",
      "state": {}
     },
     "5800f3ce98c44f13b991df7a8f653c29": {
      "model_module": "jupyter-matplotlib",
      "model_module_version": "^0.11",
      "model_name": "ToolbarModel",
      "state": {
       "_model_module_version": "^0.11",
       "_view_module_version": "^0.11",
       "collapsed": true,
       "layout": "IPY_MODEL_c7be4572e632492b888f61ae444883ae",
       "orientation": "vertical",
       "toolitems": [
        [
         "Home",
         "Reset original view",
         "home",
         "home"
        ],
        [
         "Back",
         "Back to previous view",
         "arrow-left",
         "back"
        ],
        [
         "Forward",
         "Forward to next view",
         "arrow-right",
         "forward"
        ],
        [
         "Pan",
         "Left button pans, Right button zooms\nx/y fixes axis, CTRL fixes aspect",
         "arrows",
         "pan"
        ],
        [
         "Zoom",
         "Zoom to rectangle\nx/y fixes axis",
         "square-o",
         "zoom"
        ],
        [
         "Download",
         "Download plot",
         "floppy-o",
         "save_figure"
        ]
       ]
      }
     },
     "6251442efd7e4a5fa94a001a106bc1a7": {
      "model_module": "jupyter-divewidgets",
      "model_module_version": "^0.1.5",
      "model_name": "OPTWidgetModel",
      "state": {
       "_model_module_version": "^0.1.5",
       "_model_name": "OPTWidgetModel",
       "_view_module_version": "^0.1.5",
       "_view_name": "OPTWidgetView",
       "height": 350,
       "layout": "IPY_MODEL_beee12e1e90646e88d45020d4b587fe9",
       "script": "import math\n\nprint(\"{:.2f}, {:.2f}\".format(math.pow(-1, 2), pow(-1, 1 / 2)))\n",
       "srcprefix": "https://dive4dec.github.io/optlite/#mode=display&code=",
       "width": 1100
      }
     },
     "673b54216f00460fb41b3512a43b9538": {
      "model_module": "@jupyter-widgets/base",
      "model_module_version": "1.2.0",
      "model_name": "LayoutModel",
      "state": {}
     },
     "6dd62afb05e741b88a5a568faf786a4b": {
      "model_module": "jupyter-matplotlib",
      "model_module_version": "^0.11",
      "model_name": "ToolbarModel",
      "state": {
       "_model_module_version": "^0.11",
       "_view_module_version": "^0.11",
       "collapsed": true,
       "layout": "IPY_MODEL_83561685eef44da8a4d5e9970239687e",
       "orientation": "vertical",
       "toolitems": [
        [
         "Home",
         "Reset original view",
         "home",
         "home"
        ],
        [
         "Back",
         "Back to previous view",
         "arrow-left",
         "back"
        ],
        [
         "Forward",
         "Forward to next view",
         "arrow-right",
         "forward"
        ],
        [
         "Pan",
         "Left button pans, Right button zooms\nx/y fixes axis, CTRL fixes aspect",
         "arrows",
         "pan"
        ],
        [
         "Zoom",
         "Zoom to rectangle\nx/y fixes axis",
         "square-o",
         "zoom"
        ],
        [
         "Download",
         "Download plot",
         "floppy-o",
         "save_figure"
        ]
       ]
      }
     },
     "6f2f579a48e54fea8e88b638e0d92e95": {
      "model_module": "jupyter-divewidgets",
      "model_module_version": "^0.1.5",
      "model_name": "OPTWidgetModel",
      "state": {
       "_model_module_version": "^0.1.5",
       "_model_name": "OPTWidgetModel",
       "_view_module_version": "^0.1.5",
       "_view_name": "OPTWidgetView",
       "height": 300,
       "layout": "IPY_MODEL_46ed42d8f9ea43d5888c65f782e3e29b",
       "script": "print(\"{}\".format(pow(-1, 2)))\nprint(\"{:.2f}\".format(pow(-1, 1 / 2)))\nfrom math import *\n\nprint(\"{}\".format(pow(-1, 2)))\nprint(\"{:.2f}\".format(pow(-1, 1 / 2)))\n",
       "srcprefix": "https://dive4dec.github.io/optlite/#mode=display&code=",
       "width": 1100
      }
     },
     "83561685eef44da8a4d5e9970239687e": {
      "model_module": "@jupyter-widgets/base",
      "model_module_version": "1.2.0",
      "model_name": "LayoutModel",
      "state": {}
     },
     "83ed854fab7d4071a1a01ae88bf0fcb8": {
      "model_module": "jupyter-matplotlib",
      "model_module_version": "^0.11",
      "model_name": "MPLCanvasModel",
      "state": {
       "_cursor": "default",
       "_data_url": "data:image/png;base64,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",
       "_figure_label": "Figure 1",
       "_model_module_version": "^0.11",
       "_size": [
        640,
        480
       ],
       "_view_module_version": "^0.11",
       "layout": "IPY_MODEL_b44593e0724846beb2299d75fbb28d01",
       "toolbar": "IPY_MODEL_fbefbe0506034f48a5f1ed4a53f3c7c0",
       "toolbar_position": "left"
      }
     },
     "976ade7150494c6aba5da2372ab77361": {
      "model_module": "jupyter-matplotlib",
      "model_module_version": "^0.11",
      "model_name": "ToolbarModel",
      "state": {
       "_model_module_version": "^0.11",
       "_view_module_version": "^0.11",
       "collapsed": true,
       "layout": "IPY_MODEL_395775b235524a5ebacec72eba452914",
       "orientation": "vertical",
       "toolitems": [
        [
         "Home",
         "Reset original view",
         "home",
         "home"
        ],
        [
         "Back",
         "Back to previous view",
         "arrow-left",
         "back"
        ],
        [
         "Forward",
         "Forward to next view",
         "arrow-right",
         "forward"
        ],
        [
         "Pan",
         "Left button pans, Right button zooms\nx/y fixes axis, CTRL fixes aspect",
         "arrows",
         "pan"
        ],
        [
         "Zoom",
         "Zoom to rectangle\nx/y fixes axis",
         "square-o",
         "zoom"
        ],
        [
         "Download",
         "Download plot",
         "floppy-o",
         "save_figure"
        ]
       ]
      }
     },
     "a6671022b18143d2b16f352094841060": {
      "model_module": "@jupyter-widgets/base",
      "model_module_version": "1.2.0",
      "model_name": "LayoutModel",
      "state": {}
     },
     "ad97aa8c057c49059d9e5913eee610e6": {
      "model_module": "jupyter-divewidgets",
      "model_module_version": "^0.1.5",
      "model_name": "OPTWidgetModel",
      "state": {
       "_model_module_version": "^0.1.5",
       "_model_name": "OPTWidgetModel",
       "_view_module_version": "^0.1.5",
       "_view_name": "OPTWidgetView",
       "height": 300,
       "layout": "IPY_MODEL_ef8cb15bc69c41d586c98ae19427a6ae",
       "script": "from math import *  # import all except names starting with an underscore\n\nprint(\"{:.2f}, {:.2f}, {:.2f}\".format(sin(pi / 6), cos(pi / 3), tan(pi / 4)))\n",
       "srcprefix": "https://dive4dec.github.io/optlite/#mode=display&code=",
       "width": 1100
      }
     },
     "b44593e0724846beb2299d75fbb28d01": {
      "model_module": "@jupyter-widgets/base",
      "model_module_version": "1.2.0",
      "model_name": "LayoutModel",
      "state": {}
     },
     "beee12e1e90646e88d45020d4b587fe9": {
      "model_module": "@jupyter-widgets/base",
      "model_module_version": "1.2.0",
      "model_name": "LayoutModel",
      "state": {}
     },
     "c7be4572e632492b888f61ae444883ae": {
      "model_module": "@jupyter-widgets/base",
      "model_module_version": "1.2.0",
      "model_name": "LayoutModel",
      "state": {}
     },
     "ef8cb15bc69c41d586c98ae19427a6ae": {
      "model_module": "@jupyter-widgets/base",
      "model_module_version": "1.2.0",
      "model_name": "LayoutModel",
      "state": {}
     },
     "fb3c7dada4fe46319005636288173799": {
      "model_module": "@jupyter-widgets/base",
      "model_module_version": "1.2.0",
      "model_name": "LayoutModel",
      "state": {}
     },
     "fbb0a90b8aa44b4dbe84a8b65cf63c56": {
      "model_module": "jupyter-divewidgets",
      "model_module_version": "^0.1.5",
      "model_name": "OPTWidgetModel",
      "state": {
       "_model_module_version": "^0.1.5",
       "_model_name": "OPTWidgetModel",
       "_view_module_version": "^0.1.5",
       "_view_name": "OPTWidgetView",
       "height": 500,
       "layout": "IPY_MODEL_673b54216f00460fb41b3512a43b9538",
       "script": "print(\"{}\".format(pow(-1, 2)))\nprint(\"{:.2f}\".format(pow(-1, 1 / 2)))\nfrom math import *\n\nprint(\"{}\".format(pow(-1, 2)))\nprint(\"{:.2f}\".format(pow(-1, 1 / 2)))\n",
       "srcprefix": "https://dive4dec.github.io/optlite/#mode=display&code=",
       "width": 1100
      }
     },
     "fbefbe0506034f48a5f1ed4a53f3c7c0": {
      "model_module": "jupyter-matplotlib",
      "model_module_version": "^0.11",
      "model_name": "ToolbarModel",
      "state": {
       "_model_module_version": "^0.11",
       "_view_module_version": "^0.11",
       "collapsed": true,
       "layout": "IPY_MODEL_a6671022b18143d2b16f352094841060",
       "orientation": "vertical",
       "toolitems": [
        [
         "Home",
         "Reset original view",
         "home",
         "home"
        ],
        [
         "Back",
         "Back to previous view",
         "arrow-left",
         "back"
        ],
        [
         "Forward",
         "Forward to next view",
         "arrow-right",
         "forward"
        ],
        [
         "Pan",
         "Left button pans, Right button zooms\nx/y fixes axis, CTRL fixes aspect",
         "arrows",
         "pan"
        ],
        [
         "Zoom",
         "Zoom to rectangle\nx/y fixes axis",
         "square-o",
         "zoom"
        ],
        [
         "Download",
         "Download plot",
         "floppy-o",
         "save_figure"
        ]
       ]
      }
     }
    },
    "version_major": 2,
    "version_minor": 0
   }
  }
 },
 "nbformat": 4,
 "nbformat_minor": 4
}
