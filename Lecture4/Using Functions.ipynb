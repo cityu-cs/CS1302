{
 "cells": [
  {
   "cell_type": "code",
   "execution_count": null,
   "metadata": {},
   "outputs": [],
   "source": [
    "# Initialization cell\n",
    "try:  # for CS1302 JupyterLite pyodide kernel\n",
    "    import piplite\n",
    "\n",
    "    with open(\"requirements.txt\") as f:\n",
    "        for package in f:\n",
    "            package = package.strip()\n",
    "            print(\"Installing\", package)\n",
    "            await piplite.install(package)\n",
    "except ModuleNotFoundError:\n",
    "    pass"
   ]
  },
  {
   "cell_type": "markdown",
   "metadata": {
    "slideshow": {
     "slide_type": "slide"
    }
   },
   "source": [
    "# Using Functions"
   ]
  },
  {
   "cell_type": "markdown",
   "metadata": {
    "slideshow": {
     "slide_type": "-"
    },
    "tags": [
     "remove-cell"
    ]
   },
   "source": [
    "**CS1302 Introduction to Computer Programming**\n",
    "___"
   ]
  },
  {
   "cell_type": "code",
   "execution_count": null,
   "metadata": {
    "ExecuteTime": {
     "end_time": "2020-11-27T11:20:04.656873Z",
     "start_time": "2020-11-27T11:20:04.651575Z"
    },
    "slideshow": {
     "slide_type": "fragment"
    },
    "tags": [
     "remove-cell"
    ]
   },
   "outputs": [],
   "source": [
    "%reload_ext divewidgets"
   ]
  },
  {
   "cell_type": "markdown",
   "metadata": {
    "slideshow": {
     "slide_type": "slide"
    }
   },
   "source": [
    "## Motivation"
   ]
  },
  {
   "cell_type": "markdown",
   "metadata": {
    "slideshow": {
     "slide_type": "fragment"
    }
   },
   "source": [
    "**How to reuse code so we can write less?**"
   ]
  },
  {
   "cell_type": "markdown",
   "metadata": {
    "slideshow": {
     "slide_type": "fragment"
    }
   },
   "source": [
    "Writing a loop is a simple way of code reuse because a piece of code is executed multiple times, once for each iteration."
   ]
  },
  {
   "cell_type": "markdown",
   "metadata": {
    "slideshow": {
     "slide_type": "fragment"
    }
   },
   "source": [
    "```{important}\n",
    "\n",
    "*Code reuse* gives the code an elegant *structure* that\n",
    "- can be executed efficiently by a computer, and\n",
    "- *interpreted* easily by a programmer.\n",
    "```"
   ]
  },
  {
   "cell_type": "markdown",
   "metadata": {
    "slideshow": {
     "slide_type": "fragment"
    }
   },
   "source": [
    "**How to repeat execution at different times, in different programs, and in slightly different ways?**"
   ]
  },
  {
   "cell_type": "markdown",
   "metadata": {
    "slideshow": {
     "slide_type": "slide"
    }
   },
   "source": [
    "## Functions"
   ]
  },
  {
   "cell_type": "markdown",
   "metadata": {
    "slideshow": {
     "slide_type": "fragment"
    }
   },
   "source": [
    "**How to calculate the logarithm?**"
   ]
  },
  {
   "cell_type": "markdown",
   "metadata": {
    "slideshow": {
     "slide_type": "fragment"
    }
   },
   "source": [
    "There is no arithmetic operator for logarithm.  \n",
    "Do we have to implement it ourselves?"
   ]
  },
  {
   "cell_type": "markdown",
   "metadata": {
    "slideshow": {
     "slide_type": "subslide"
    }
   },
   "source": [
    "We can use the function `log` from the [`math` *module*](https://docs.python.org/3/library/math.html):"
   ]
  },
  {
   "cell_type": "code",
   "execution_count": null,
   "metadata": {
    "ExecuteTime": {
     "end_time": "2020-09-26T10:36:42.539302Z",
     "start_time": "2020-09-26T10:36:42.531086Z"
    },
    "slideshow": {
     "slide_type": "-"
    }
   },
   "outputs": [],
   "source": [
    "from math import log\n",
    "\n",
    "log(256, 2)  # log base 2 of 256"
   ]
  },
  {
   "cell_type": "markdown",
   "metadata": {
    "slideshow": {
     "slide_type": "fragment"
    }
   },
   "source": [
    "The above computes the base-$2$ logarithm, $\\log_2(256)$. Like functions in mathematics, a computer function `log` \n",
    "- is *called/invoked* with some input *arguments* `(256, 2)` following the function, and\n",
    "- *returns* an output value computed from the input arguments."
   ]
  },
  {
   "cell_type": "code",
   "execution_count": null,
   "metadata": {
    "ExecuteTime": {
     "end_time": "2020-09-26T10:37:30.410063Z",
     "start_time": "2020-09-26T10:37:30.402747Z"
    },
    "slideshow": {
     "slide_type": "fragment"
    }
   },
   "outputs": [],
   "source": [
    "# A function is callable while an integer is not\n",
    "callable(log), callable(1)"
   ]
  },
  {
   "cell_type": "markdown",
   "metadata": {
    "slideshow": {
     "slide_type": "subslide"
    }
   },
   "source": [
    "Unlike mathematical functions:\n",
    "- A python function may require no arguments, but we still need to call it with `()`. "
   ]
  },
  {
   "cell_type": "code",
   "execution_count": null,
   "metadata": {
    "ExecuteTime": {
     "end_time": "2020-09-26T10:37:52.209981Z",
     "start_time": "2020-09-26T10:37:49.292575Z"
    },
    "slideshow": {
     "slide_type": "-"
    },
    "tags": [
     "remove-output"
    ]
   },
   "outputs": [],
   "source": [
    "input()"
   ]
  },
  {
   "cell_type": "markdown",
   "metadata": {
    "slideshow": {
     "slide_type": "fragment"
    }
   },
   "source": [
    "- A python function may have *side effects* and return the value `None`."
   ]
  },
  {
   "cell_type": "code",
   "execution_count": null,
   "metadata": {
    "ExecuteTime": {
     "end_time": "2020-09-26T10:38:06.459546Z",
     "start_time": "2020-09-26T10:38:06.454332Z"
    },
    "slideshow": {
     "slide_type": "-"
    }
   },
   "outputs": [],
   "source": [
    "x = print()\n",
    "print(x, \"of type\", type(x))"
   ]
  },
  {
   "cell_type": "markdown",
   "metadata": {
    "slideshow": {
     "slide_type": "fragment"
    }
   },
   "source": [
    "An argument of a function call can be any expression."
   ]
  },
  {
   "cell_type": "code",
   "execution_count": null,
   "metadata": {
    "ExecuteTime": {
     "end_time": "2020-09-26T10:38:55.805698Z",
     "start_time": "2020-09-26T10:38:50.415718Z"
    },
    "slideshow": {
     "slide_type": "-"
    },
    "tags": [
     "remove-output"
    ]
   },
   "outputs": [],
   "source": [
    "print(\"1st input:\", input(), \"\\n2nd input:\", input())"
   ]
  },
  {
   "cell_type": "markdown",
   "metadata": {
    "slideshow": {
     "slide_type": "fragment"
    }
   },
   "source": [
    "```{note}\n",
    "\n",
    "- The argument can also be a function call like function composition in mathematics. \n",
    "- Before a function call is executed, its arguments are evaluated first from left to right.\n",
    "```"
   ]
  },
  {
   "cell_type": "markdown",
   "metadata": {
    "slideshow": {
     "slide_type": "subslide"
    }
   },
   "source": [
    "**Why not implement logarithm yourself?**"
   ]
  },
  {
   "cell_type": "markdown",
   "metadata": {
    "slideshow": {
     "slide_type": "fragment"
    }
   },
   "source": [
    "- The function from standard library is efficiently implemented and thoroughly tested/documented.\n",
    "- Knowing what a function does is often insufficient for an efficient implementation.  \n",
    "    (See [how to calculate logarithm](https://en.wikipedia.org/wiki/Logarithm#Calculation) as an example.)"
   ]
  },
  {
   "cell_type": "markdown",
   "metadata": {
    "slideshow": {
     "slide_type": "fragment"
    }
   },
   "source": [
    "Indeed, the `math` library does not implement `log` itself:\n",
    "> **CPython implementation detail:** The `math` module consists mostly of thin *wrappers* around the platform C math library functions. - [pydoc last paragraph](https://docs.python.org/3/library/math.html)\n",
    "\n",
    "(See the [source code wrapper for `log`](https://github.com/python/cpython/blob/e5ab0b6aa68009a3f50b141ec013dacee3676db9/Modules/mathmodule.c#L757).) "
   ]
  },
  {
   "cell_type": "markdown",
   "metadata": {
    "slideshow": {
     "slide_type": "subslide"
    }
   },
   "source": [
    "**Exercise** \n",
    "\n",
    "What is a function in programming?"
   ]
  },
  {
   "cell_type": "markdown",
   "metadata": {
    "deletable": false,
    "nbgrader": {
     "cell_type": "markdown",
     "checksum": "14282d74b17eb5684868347d7230ab0e",
     "grade": true,
     "grade_id": "what-is-a-function",
     "locked": false,
     "points": 0,
     "schema_version": 3,
     "solution": true,
     "task": false
    },
    "slideshow": {
     "slide_type": "-"
    }
   },
   "source": [
    "YOUR ANSWER HERE"
   ]
  },
  {
   "cell_type": "markdown",
   "metadata": {
    "slideshow": {
     "slide_type": "slide"
    }
   },
   "source": [
    "## Import Functions from Modules"
   ]
  },
  {
   "cell_type": "markdown",
   "metadata": {
    "slideshow": {
     "slide_type": "fragment"
    }
   },
   "source": [
    "**How to import functions?**"
   ]
  },
  {
   "cell_type": "markdown",
   "metadata": {
    "slideshow": {
     "slide_type": "fragment"
    }
   },
   "source": [
    "We can use the [`import` statement](https://docs.python.org/3/reference/simple_stmts.html#import) to import multiple functions into the program *global frame*."
   ]
  },
  {
   "cell_type": "code",
   "execution_count": null,
   "metadata": {
    "ExecuteTime": {
     "end_time": "2020-09-26T10:41:22.594751Z",
     "start_time": "2020-09-26T10:41:22.588506Z"
    },
    "slideshow": {
     "slide_type": "-"
    }
   },
   "outputs": [],
   "source": [
    "%%optlite -h 300\n",
    "from math import ceil, log10\n",
    "\n",
    "x = 1234\n",
    "print(\"Number of digits of x:\", ceil(log10(x)))"
   ]
  },
  {
   "cell_type": "markdown",
   "metadata": {
    "slideshow": {
     "slide_type": "fragment"
    }
   },
   "source": [
    "The above imports both the functions `log10` and `ceil` from `math` to compute the number $\\lceil \\log_{10}(x)\\rceil$ of digits of a *strictly positive* integer $x$."
   ]
  },
  {
   "cell_type": "markdown",
   "metadata": {
    "slideshow": {
     "slide_type": "subslide"
    }
   },
   "source": [
    "**How to import all functions from a library?**"
   ]
  },
  {
   "cell_type": "code",
   "execution_count": null,
   "metadata": {
    "ExecuteTime": {
     "end_time": "2020-09-26T10:42:54.301642Z",
     "start_time": "2020-09-26T10:42:54.293055Z"
    },
    "slideshow": {
     "slide_type": "fragment"
    }
   },
   "outputs": [],
   "source": [
    "%%optlite -h 300\n",
    "from math import *  # import all except names starting with an underscore\n",
    "\n",
    "print(\"{:.2f}, {:.2f}, {:.2f}\".format(sin(pi / 6), cos(pi / 3), tan(pi / 4)))"
   ]
  },
  {
   "cell_type": "markdown",
   "metadata": {
    "slideshow": {
     "slide_type": "fragment"
    }
   },
   "source": [
    "The above uses the wildcard `*` to import ([nearly](https://docs.python.org/3/tutorial/modules.html#more-on-modules)) all the functions/variables provided in `math`."
   ]
  },
  {
   "cell_type": "markdown",
   "metadata": {
    "slideshow": {
     "slide_type": "slide"
    }
   },
   "source": [
    "**What if different packages define the same function?**"
   ]
  },
  {
   "cell_type": "code",
   "execution_count": null,
   "metadata": {
    "ExecuteTime": {
     "end_time": "2020-09-26T10:44:06.443022Z",
     "start_time": "2020-09-26T10:44:06.434362Z"
    },
    "slideshow": {
     "slide_type": "fragment"
    }
   },
   "outputs": [],
   "source": [
    "%%optlite -h 500\n",
    "print(\"{}\".format(pow(-1, 2)))\n",
    "print(\"{:.2f}\".format(pow(-1, 1 / 2)))\n",
    "from math import *\n",
    "\n",
    "print(\"{}\".format(pow(-1, 2)))\n",
    "print(\"{:.2f}\".format(pow(-1, 1 / 2)))"
   ]
  },
  {
   "cell_type": "markdown",
   "metadata": {
    "slideshow": {
     "slide_type": "fragment"
    }
   },
   "source": [
    "- The function `pow` imported from `math` overwrites the built-in function `pow`.  \n",
    "- Unlike the built-in function, `pow` from `math` returns only floats but not integers or complex numbers. \n",
    "- We say that the import statement *polluted the namespace of the global frame* and caused a *name collision*. "
   ]
  },
  {
   "cell_type": "markdown",
   "metadata": {
    "slideshow": {
     "slide_type": "subslide"
    }
   },
   "source": [
    "**How to avoid name collisions?**"
   ]
  },
  {
   "cell_type": "code",
   "execution_count": null,
   "metadata": {
    "ExecuteTime": {
     "end_time": "2020-09-26T10:45:35.988045Z",
     "start_time": "2020-09-26T10:45:35.981943Z"
    },
    "slideshow": {
     "slide_type": "-"
    }
   },
   "outputs": [],
   "source": [
    "%%optlite -h 350\n",
    "import math\n",
    "\n",
    "print(\"{:.2f}, {:.2f}\".format(math.pow(-1, 2), pow(-1, 1 / 2)))"
   ]
  },
  {
   "cell_type": "markdown",
   "metadata": {
    "slideshow": {
     "slide_type": "fragment"
    }
   },
   "source": [
    "We can use the full name (*fully-qualified name*) `math.pow` prefixed with the module name (and possibly package names containing the module)."
   ]
  },
  {
   "cell_type": "markdown",
   "metadata": {
    "slideshow": {
     "slide_type": "subslide"
    }
   },
   "source": [
    "**Can we shorten a name?**"
   ]
  },
  {
   "cell_type": "markdown",
   "metadata": {
    "slideshow": {
     "slide_type": "fragment"
    }
   },
   "source": [
    "The name of a library can be very long and there can be a hierarchical structure as well.  \n",
    "E.g., to plot a sequence using `pyplot` module from `matplotlib` package:"
   ]
  },
  {
   "cell_type": "code",
   "execution_count": null,
   "metadata": {
    "ExecuteTime": {
     "end_time": "2020-09-14T11:29:37.606167Z",
     "start_time": "2020-09-14T11:29:37.352615Z"
    },
    "slideshow": {
     "slide_type": "-"
    }
   },
   "outputs": [],
   "source": [
    "%matplotlib widget\n",
    "import matplotlib.pyplot\n",
    "\n",
    "matplotlib.pyplot.stem([4, 3, 2, 1])\n",
    "matplotlib.pyplot.ylabel(r\"$x_n$\")\n",
    "matplotlib.pyplot.xlabel(r\"$n$\")\n",
    "matplotlib.pyplot.title(\"A sequence of numbers\")\n",
    "matplotlib.pyplot.show()"
   ]
  },
  {
   "cell_type": "markdown",
   "metadata": {
    "slideshow": {
     "slide_type": "fragment"
    }
   },
   "source": [
    "It is common to rename `matplotlib.pyplot` as `plt`:"
   ]
  },
  {
   "cell_type": "code",
   "execution_count": null,
   "metadata": {
    "ExecuteTime": {
     "end_time": "2020-09-17T02:21:42.115792Z",
     "start_time": "2020-09-17T02:21:41.849043Z"
    },
    "slideshow": {
     "slide_type": "-"
    }
   },
   "outputs": [],
   "source": [
    "import matplotlib.pyplot as plt\n",
    "\n",
    "plt.stem([4, 3, 2, 1])\n",
    "plt.ylabel(r\"$x_n$\")\n",
    "plt.xlabel(r\"$n$\")\n",
    "plt.title(\"A sequence of numbers\")\n",
    "plt.show()"
   ]
  },
  {
   "cell_type": "markdown",
   "metadata": {
    "slideshow": {
     "slide_type": "subslide"
    }
   },
   "source": [
    "We can also rename a function as we import it to avoid name collision:"
   ]
  },
  {
   "cell_type": "code",
   "execution_count": null,
   "metadata": {
    "ExecuteTime": {
     "end_time": "2020-09-14T12:17:46.823708Z",
     "start_time": "2020-09-14T12:17:46.815682Z"
    },
    "slideshow": {
     "slide_type": "fragment"
    }
   },
   "outputs": [],
   "source": [
    "from math import pow as fpow\n",
    "\n",
    "fpow(2, 2), pow(2, 2)"
   ]
  },
  {
   "cell_type": "markdown",
   "metadata": {
    "slideshow": {
     "slide_type": "subslide"
    }
   },
   "source": [
    "**Exercise** \n",
    "\n",
    "What is wrong with the following code?"
   ]
  },
  {
   "cell_type": "code",
   "execution_count": null,
   "metadata": {
    "ExecuteTime": {
     "end_time": "2020-09-26T10:49:46.071860Z",
     "start_time": "2020-09-26T10:49:46.001859Z"
    },
    "slideshow": {
     "slide_type": "fragment"
    }
   },
   "outputs": [],
   "source": [
    "import math as m\n",
    "\n",
    "for m in range(5):\n",
    "    m.pow(m, 2)"
   ]
  },
  {
   "cell_type": "markdown",
   "metadata": {
    "deletable": false,
    "nbgrader": {
     "cell_type": "markdown",
     "checksum": "19569c7bfd49e9f4f471c78221131c1f",
     "grade": true,
     "grade_id": "name-conflict",
     "locked": false,
     "points": 0,
     "schema_version": 3,
     "solution": true,
     "task": false
    },
    "slideshow": {
     "slide_type": "-"
    }
   },
   "source": [
    "YOUR ANSWER HERE"
   ]
  },
  {
   "cell_type": "markdown",
   "metadata": {},
   "source": [
    "**Exercise** \n",
    "\n",
    "Use the `randint` function from `random` to simulate the rolling of a die, by printing a random integer from 1 to 6. "
   ]
  },
  {
   "cell_type": "code",
   "execution_count": null,
   "metadata": {
    "ExecuteTime": {
     "end_time": "2020-09-17T02:38:32.718543Z",
     "start_time": "2020-09-17T02:38:32.711578Z"
    },
    "deletable": false,
    "nbgrader": {
     "cell_type": "code",
     "checksum": "394f3f20ec67f7e053ad6866f04507c2",
     "grade": true,
     "grade_id": "random",
     "locked": false,
     "points": 0,
     "schema_version": 3,
     "solution": true,
     "task": false
    }
   },
   "outputs": [],
   "source": [
    "# YOUR CODE HERE\n",
    "raise NotImplementedError()"
   ]
  },
  {
   "cell_type": "markdown",
   "metadata": {
    "slideshow": {
     "slide_type": "slide"
    }
   },
   "source": [
    "## Built-in Functions"
   ]
  },
  {
   "cell_type": "markdown",
   "metadata": {
    "slideshow": {
     "slide_type": "fragment"
    }
   },
   "source": [
    "**How to learn more about a function such as `randint`?**"
   ]
  },
  {
   "cell_type": "markdown",
   "metadata": {
    "slideshow": {
     "slide_type": "fragment"
    }
   },
   "source": [
    "There is a built-in function `help` for showing the *docstring* (documentation string). "
   ]
  },
  {
   "cell_type": "code",
   "execution_count": null,
   "metadata": {
    "ExecuteTime": {
     "end_time": "2020-09-26T10:51:54.624111Z",
     "start_time": "2020-09-26T10:51:54.619242Z"
    },
    "slideshow": {
     "slide_type": "-"
    }
   },
   "outputs": [],
   "source": [
    "import random\n",
    "\n",
    "help(random.randint)  # random must be imported before"
   ]
  },
  {
   "cell_type": "code",
   "execution_count": null,
   "metadata": {
    "ExecuteTime": {
     "end_time": "2020-09-26T10:52:06.890625Z",
     "start_time": "2020-09-26T10:52:06.875177Z"
    },
    "slideshow": {
     "slide_type": "-"
    },
    "tags": [
     "output_scroll",
     "remove-output"
    ]
   },
   "outputs": [],
   "source": [
    "help(random)  # can also show the docstring of a module"
   ]
  },
  {
   "cell_type": "code",
   "execution_count": null,
   "metadata": {
    "ExecuteTime": {
     "end_time": "2020-09-26T10:52:13.621351Z",
     "start_time": "2020-09-26T10:52:13.615592Z"
    },
    "tags": [
     "output_scroll",
     "remove-output"
    ]
   },
   "outputs": [],
   "source": [
    "help(help)"
   ]
  },
  {
   "cell_type": "markdown",
   "metadata": {},
   "source": [
    "We can also print the source using the inspect module:"
   ]
  },
  {
   "cell_type": "code",
   "execution_count": null,
   "metadata": {},
   "outputs": [],
   "source": [
    "import inspect\n",
    "\n",
    "print(inspect.getsource(random.randint))"
   ]
  },
  {
   "cell_type": "markdown",
   "metadata": {
    "slideshow": {
     "slide_type": "subslide"
    }
   },
   "source": [
    "**Does built-in functions belong to a module?**"
   ]
  },
  {
   "cell_type": "markdown",
   "metadata": {
    "slideshow": {
     "slide_type": "fragment"
    }
   },
   "source": [
    "Indeed, every function must come from a module."
   ]
  },
  {
   "cell_type": "code",
   "execution_count": null,
   "metadata": {
    "ExecuteTime": {
     "end_time": "2020-09-26T10:53:18.862516Z",
     "start_time": "2020-09-26T10:53:18.856275Z"
    },
    "slideshow": {
     "slide_type": "-"
    }
   },
   "outputs": [],
   "source": [
    "__builtin__.print(\"I am from the __builtin__ module.\")"
   ]
  },
  {
   "cell_type": "markdown",
   "metadata": {
    "slideshow": {
     "slide_type": "fragment"
    }
   },
   "source": [
    "`__builtin__` module is automatically loaded because it provides functions that are commonly use for all programs."
   ]
  },
  {
   "cell_type": "markdown",
   "metadata": {
    "slideshow": {
     "slide_type": "subslide"
    }
   },
   "source": [
    "**How to list everything in a module?** "
   ]
  },
  {
   "cell_type": "markdown",
   "metadata": {
    "slideshow": {
     "slide_type": "fragment"
    }
   },
   "source": [
    "We can use the built-in function `dir` (*directory*)."
   ]
  },
  {
   "cell_type": "code",
   "execution_count": null,
   "metadata": {
    "ExecuteTime": {
     "end_time": "2020-09-26T10:53:42.536516Z",
     "start_time": "2020-09-26T10:53:42.526115Z"
    },
    "slideshow": {
     "slide_type": "-"
    },
    "tags": [
     "output_scroll",
     "remove-output"
    ]
   },
   "outputs": [],
   "source": [
    "dir(__builtin__)"
   ]
  },
  {
   "cell_type": "markdown",
   "metadata": {
    "slideshow": {
     "slide_type": "subslide"
    }
   },
   "source": [
    "**Exercise** \n",
    "\n",
    "We can also call `dir` without arguments. What does it print?\n",
    "\n",
    "```{hint}\n",
    "Try `help(dir)` or `dir?` in jupyter notebook.\n",
    "```"
   ]
  },
  {
   "cell_type": "code",
   "execution_count": null,
   "metadata": {
    "ExecuteTime": {
     "end_time": "2020-09-26T10:53:58.070284Z",
     "start_time": "2020-09-26T10:53:58.063210Z"
    },
    "slideshow": {
     "slide_type": "-"
    },
    "tags": [
     "output_scroll",
     "remove-output"
    ]
   },
   "outputs": [],
   "source": [
    "dir()"
   ]
  },
  {
   "cell_type": "code",
   "execution_count": null,
   "metadata": {},
   "outputs": [],
   "source": [
    "dir?"
   ]
  },
  {
   "cell_type": "markdown",
   "metadata": {
    "deletable": false,
    "nbgrader": {
     "cell_type": "markdown",
     "checksum": "4d8dc105fcc4543e2dde58060672b84f",
     "grade": true,
     "grade_id": "dir",
     "locked": false,
     "points": 0,
     "schema_version": 3,
     "solution": true,
     "task": false
    },
    "slideshow": {
     "slide_type": "-"
    },
    "tags": []
   },
   "source": [
    "YOUR ANSWER HERE"
   ]
  }
 ],
 "metadata": {
  "kernelspec": {
   "display_name": "Python 3 (ipykernel)",
   "language": "python",
   "name": "python3"
  },
  "language_info": {
   "codemirror_mode": {
    "name": "ipython",
    "version": 3
   },
   "file_extension": ".py",
   "mimetype": "text/x-python",
   "name": "python",
   "nbconvert_exporter": "python",
   "pygments_lexer": "ipython3",
   "version": "3.10.6"
  },
  "latex_envs": {
   "LaTeX_envs_menu_present": true,
   "autoclose": false,
   "autocomplete": true,
   "bibliofile": "biblio.bib",
   "cite_by": "apalike",
   "current_citInitial": 1,
   "eqLabelWithNumbers": true,
   "eqNumInitial": 1,
   "hotkeys": {
    "equation": "Ctrl-E",
    "itemize": "Ctrl-I"
   },
   "labels_anchors": false,
   "latex_user_defs": false,
   "report_style_numbering": false,
   "user_envs_cfg": false
  },
  "rise": {
   "enable_chalkboard": true,
   "scroll": true,
   "theme": "white"
  },
  "toc": {
   "base_numbering": 1,
   "nav_menu": {
    "height": "195px",
    "width": "330px"
   },
   "number_sections": true,
   "sideBar": true,
   "skip_h1_title": true,
   "title_cell": "Table of Contents",
   "title_sidebar": "Contents",
   "toc_cell": false,
   "toc_position": {
    "height": "454.418px",
    "left": "1533px",
    "top": "110.284px",
    "width": "243.323px"
   },
   "toc_section_display": true,
   "toc_window_display": false
  },
  "widgets": {
   "application/vnd.jupyter.widget-state+json": {
    "state": {
     "026f1ee8e5b743d4b587c5cc11724299": {
      "model_module": "@jupyter-widgets/base",
      "model_module_version": "1.2.0",
      "model_name": "LayoutModel",
      "state": {}
     },
     "1c48d46b42a8455f849fdce2fbfb4420": {
      "model_module": "jupyter-divewidgets",
      "model_module_version": "^0.1.5",
      "model_name": "OPTWidgetModel",
      "state": {
       "_model_module_version": "^0.1.5",
       "_model_name": "OPTWidgetModel",
       "_view_module_version": "^0.1.5",
       "_view_name": "OPTWidgetView",
       "height": 300,
       "layout": "IPY_MODEL_026f1ee8e5b743d4b587c5cc11724299",
       "script": "from math import ceil, log10\n\nx = 1234\nprint(\"Number of digits of x:\", ceil(log10(x)))\n",
       "srcprefix": "https://dive4dec.github.io/optlite/#mode=display&code=",
       "width": 1100
      }
     },
     "2362b39881bc48349cfd00d63965ddfd": {
      "model_module": "@jupyter-widgets/base",
      "model_module_version": "1.2.0",
      "model_name": "LayoutModel",
      "state": {}
     },
     "395775b235524a5ebacec72eba452914": {
      "model_module": "@jupyter-widgets/base",
      "model_module_version": "1.2.0",
      "model_name": "LayoutModel",
      "state": {}
     },
     "451097ca265b42b58de53f0c96d03c85": {
      "model_module": "jupyter-divewidgets",
      "model_module_version": "^0.1.5",
      "model_name": "OPTWidgetModel",
      "state": {
       "_model_module_version": "^0.1.5",
       "_model_name": "OPTWidgetModel",
       "_view_module_version": "^0.1.5",
       "_view_name": "OPTWidgetView",
       "height": 250,
       "layout": "IPY_MODEL_2362b39881bc48349cfd00d63965ddfd",
       "script": "import math\n\nprint(\"{:.2f}, {:.2f}\".format(math.pow(-1, 2), pow(-1, 1 / 2)))\n",
       "srcprefix": "https://dive4dec.github.io/optlite/#mode=display&code=",
       "width": 1100
      }
     },
     "46ed42d8f9ea43d5888c65f782e3e29b": {
      "model_module": "@jupyter-widgets/base",
      "model_module_version": "1.2.0",
      "model_name": "LayoutModel",
      "state": {}
     },
     "5800f3ce98c44f13b991df7a8f653c29": {
      "model_module": "jupyter-matplotlib",
      "model_module_version": "^0.11",
      "model_name": "ToolbarModel",
      "state": {
       "_model_module_version": "^0.11",
       "_view_module_version": "^0.11",
       "collapsed": true,
       "layout": "IPY_MODEL_c7be4572e632492b888f61ae444883ae",
       "orientation": "vertical",
       "toolitems": [
        [
         "Home",
         "Reset original view",
         "home",
         "home"
        ],
        [
         "Back",
         "Back to previous view",
         "arrow-left",
         "back"
        ],
        [
         "Forward",
         "Forward to next view",
         "arrow-right",
         "forward"
        ],
        [
         "Pan",
         "Left button pans, Right button zooms\nx/y fixes axis, CTRL fixes aspect",
         "arrows",
         "pan"
        ],
        [
         "Zoom",
         "Zoom to rectangle\nx/y fixes axis",
         "square-o",
         "zoom"
        ],
        [
         "Download",
         "Download plot",
         "floppy-o",
         "save_figure"
        ]
       ]
      }
     },
     "6251442efd7e4a5fa94a001a106bc1a7": {
      "model_module": "jupyter-divewidgets",
      "model_module_version": "^0.1.5",
      "model_name": "OPTWidgetModel",
      "state": {
       "_model_module_version": "^0.1.5",
       "_model_name": "OPTWidgetModel",
       "_view_module_version": "^0.1.5",
       "_view_name": "OPTWidgetView",
       "height": 350,
       "layout": "IPY_MODEL_beee12e1e90646e88d45020d4b587fe9",
       "script": "import math\n\nprint(\"{:.2f}, {:.2f}\".format(math.pow(-1, 2), pow(-1, 1 / 2)))\n",
       "srcprefix": "https://dive4dec.github.io/optlite/#mode=display&code=",
       "width": 1100
      }
     },
     "673b54216f00460fb41b3512a43b9538": {
      "model_module": "@jupyter-widgets/base",
      "model_module_version": "1.2.0",
      "model_name": "LayoutModel",
      "state": {}
     },
     "6dd62afb05e741b88a5a568faf786a4b": {
      "model_module": "jupyter-matplotlib",
      "model_module_version": "^0.11",
      "model_name": "ToolbarModel",
      "state": {
       "_model_module_version": "^0.11",
       "_view_module_version": "^0.11",
       "collapsed": true,
       "layout": "IPY_MODEL_83561685eef44da8a4d5e9970239687e",
       "orientation": "vertical",
       "toolitems": [
        [
         "Home",
         "Reset original view",
         "home",
         "home"
        ],
        [
         "Back",
         "Back to previous view",
         "arrow-left",
         "back"
        ],
        [
         "Forward",
         "Forward to next view",
         "arrow-right",
         "forward"
        ],
        [
         "Pan",
         "Left button pans, Right button zooms\nx/y fixes axis, CTRL fixes aspect",
         "arrows",
         "pan"
        ],
        [
         "Zoom",
         "Zoom to rectangle\nx/y fixes axis",
         "square-o",
         "zoom"
        ],
        [
         "Download",
         "Download plot",
         "floppy-o",
         "save_figure"
        ]
       ]
      }
     },
     "6f2f579a48e54fea8e88b638e0d92e95": {
      "model_module": "jupyter-divewidgets",
      "model_module_version": "^0.1.5",
      "model_name": "OPTWidgetModel",
      "state": {
       "_model_module_version": "^0.1.5",
       "_model_name": "OPTWidgetModel",
       "_view_module_version": "^0.1.5",
       "_view_name": "OPTWidgetView",
       "height": 300,
       "layout": "IPY_MODEL_46ed42d8f9ea43d5888c65f782e3e29b",
       "script": "print(\"{}\".format(pow(-1, 2)))\nprint(\"{:.2f}\".format(pow(-1, 1 / 2)))\nfrom math import *\n\nprint(\"{}\".format(pow(-1, 2)))\nprint(\"{:.2f}\".format(pow(-1, 1 / 2)))\n",
       "srcprefix": "https://dive4dec.github.io/optlite/#mode=display&code=",
       "width": 1100
      }
     },
     "83561685eef44da8a4d5e9970239687e": {
      "model_module": "@jupyter-widgets/base",
      "model_module_version": "1.2.0",
      "model_name": "LayoutModel",
      "state": {}
     },
     "83ed854fab7d4071a1a01ae88bf0fcb8": {
      "model_module": "jupyter-matplotlib",
      "model_module_version": "^0.11",
      "model_name": "MPLCanvasModel",
      "state": {
       "_cursor": "default",
       "_data_url": "data:image/png;base64,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",
       "_figure_label": "Figure 1",
       "_model_module_version": "^0.11",
       "_size": [
        640,
        480
       ],
       "_view_module_version": "^0.11",
       "layout": "IPY_MODEL_b44593e0724846beb2299d75fbb28d01",
       "toolbar": "IPY_MODEL_fbefbe0506034f48a5f1ed4a53f3c7c0",
       "toolbar_position": "left"
      }
     },
     "976ade7150494c6aba5da2372ab77361": {
      "model_module": "jupyter-matplotlib",
      "model_module_version": "^0.11",
      "model_name": "ToolbarModel",
      "state": {
       "_model_module_version": "^0.11",
       "_view_module_version": "^0.11",
       "collapsed": true,
       "layout": "IPY_MODEL_395775b235524a5ebacec72eba452914",
       "orientation": "vertical",
       "toolitems": [
        [
         "Home",
         "Reset original view",
         "home",
         "home"
        ],
        [
         "Back",
         "Back to previous view",
         "arrow-left",
         "back"
        ],
        [
         "Forward",
         "Forward to next view",
         "arrow-right",
         "forward"
        ],
        [
         "Pan",
         "Left button pans, Right button zooms\nx/y fixes axis, CTRL fixes aspect",
         "arrows",
         "pan"
        ],
        [
         "Zoom",
         "Zoom to rectangle\nx/y fixes axis",
         "square-o",
         "zoom"
        ],
        [
         "Download",
         "Download plot",
         "floppy-o",
         "save_figure"
        ]
       ]
      }
     },
     "a6671022b18143d2b16f352094841060": {
      "model_module": "@jupyter-widgets/base",
      "model_module_version": "1.2.0",
      "model_name": "LayoutModel",
      "state": {}
     },
     "ad97aa8c057c49059d9e5913eee610e6": {
      "model_module": "jupyter-divewidgets",
      "model_module_version": "^0.1.5",
      "model_name": "OPTWidgetModel",
      "state": {
       "_model_module_version": "^0.1.5",
       "_model_name": "OPTWidgetModel",
       "_view_module_version": "^0.1.5",
       "_view_name": "OPTWidgetView",
       "height": 300,
       "layout": "IPY_MODEL_ef8cb15bc69c41d586c98ae19427a6ae",
       "script": "from math import *  # import all except names starting with an underscore\n\nprint(\"{:.2f}, {:.2f}, {:.2f}\".format(sin(pi / 6), cos(pi / 3), tan(pi / 4)))\n",
       "srcprefix": "https://dive4dec.github.io/optlite/#mode=display&code=",
       "width": 1100
      }
     },
     "b44593e0724846beb2299d75fbb28d01": {
      "model_module": "@jupyter-widgets/base",
      "model_module_version": "1.2.0",
      "model_name": "LayoutModel",
      "state": {}
     },
     "beee12e1e90646e88d45020d4b587fe9": {
      "model_module": "@jupyter-widgets/base",
      "model_module_version": "1.2.0",
      "model_name": "LayoutModel",
      "state": {}
     },
     "c7be4572e632492b888f61ae444883ae": {
      "model_module": "@jupyter-widgets/base",
      "model_module_version": "1.2.0",
      "model_name": "LayoutModel",
      "state": {}
     },
     "ef8cb15bc69c41d586c98ae19427a6ae": {
      "model_module": "@jupyter-widgets/base",
      "model_module_version": "1.2.0",
      "model_name": "LayoutModel",
      "state": {}
     },
     "fb3c7dada4fe46319005636288173799": {
      "model_module": "@jupyter-widgets/base",
      "model_module_version": "1.2.0",
      "model_name": "LayoutModel",
      "state": {}
     },
     "fbb0a90b8aa44b4dbe84a8b65cf63c56": {
      "model_module": "jupyter-divewidgets",
      "model_module_version": "^0.1.5",
      "model_name": "OPTWidgetModel",
      "state": {
       "_model_module_version": "^0.1.5",
       "_model_name": "OPTWidgetModel",
       "_view_module_version": "^0.1.5",
       "_view_name": "OPTWidgetView",
       "height": 500,
       "layout": "IPY_MODEL_673b54216f00460fb41b3512a43b9538",
       "script": "print(\"{}\".format(pow(-1, 2)))\nprint(\"{:.2f}\".format(pow(-1, 1 / 2)))\nfrom math import *\n\nprint(\"{}\".format(pow(-1, 2)))\nprint(\"{:.2f}\".format(pow(-1, 1 / 2)))\n",
       "srcprefix": "https://dive4dec.github.io/optlite/#mode=display&code=",
       "width": 1100
      }
     },
     "fbefbe0506034f48a5f1ed4a53f3c7c0": {
      "model_module": "jupyter-matplotlib",
      "model_module_version": "^0.11",
      "model_name": "ToolbarModel",
      "state": {
       "_model_module_version": "^0.11",
       "_view_module_version": "^0.11",
       "collapsed": true,
       "layout": "IPY_MODEL_a6671022b18143d2b16f352094841060",
       "orientation": "vertical",
       "toolitems": [
        [
         "Home",
         "Reset original view",
         "home",
         "home"
        ],
        [
         "Back",
         "Back to previous view",
         "arrow-left",
         "back"
        ],
        [
         "Forward",
         "Forward to next view",
         "arrow-right",
         "forward"
        ],
        [
         "Pan",
         "Left button pans, Right button zooms\nx/y fixes axis, CTRL fixes aspect",
         "arrows",
         "pan"
        ],
        [
         "Zoom",
         "Zoom to rectangle\nx/y fixes axis",
         "square-o",
         "zoom"
        ],
        [
         "Download",
         "Download plot",
         "floppy-o",
         "save_figure"
        ]
       ]
      }
     }
    },
    "version_major": 2,
    "version_minor": 0
   }
  }
 },
 "nbformat": 4,
 "nbformat_minor": 4
}
