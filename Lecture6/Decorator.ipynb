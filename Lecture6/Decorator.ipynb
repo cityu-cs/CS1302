{
 "cells": [
  {
   "cell_type": "code",
   "execution_count": null,
   "metadata": {},
   "outputs": [],
   "source": [
    "# Initialization cell\n",
    "try:  # for CS1302 JupyterLite pyodide kernel\n",
    "    import piplite\n",
    "\n",
    "    with open(\"requirements.txt\") as f:\n",
    "        for package in f:\n",
    "            package = package.strip()\n",
    "            print(\"Installing\", package)\n",
    "            await piplite.install(package)\n",
    "except ModuleNotFoundError:\n",
    "    pass"
   ]
  },
  {
   "cell_type": "markdown",
   "metadata": {
    "cell_style": "center",
    "slideshow": {
     "slide_type": "slide"
    }
   },
   "source": [
    "# Decorator"
   ]
  },
  {
   "cell_type": "markdown",
   "metadata": {
    "slideshow": {
     "slide_type": "-"
    },
    "tags": [
     "remove-cell"
    ]
   },
   "source": [
    "**CS1302 Introduction to Computer Programming**\n",
    "___"
   ]
  },
  {
   "cell_type": "code",
   "execution_count": null,
   "metadata": {
    "ExecuteTime": {
     "end_time": "2020-11-27T11:20:04.656873Z",
     "start_time": "2020-11-27T11:20:04.651575Z"
    },
    "slideshow": {
     "slide_type": "fragment"
    },
    "tags": [
     "remove-cell"
    ]
   },
   "outputs": [],
   "source": [
    "%reload_ext divewidgets"
   ]
  },
  {
   "cell_type": "markdown",
   "metadata": {
    "slideshow": {
     "slide_type": "slide"
    }
   },
   "source": [
    "## Optional Arguments"
   ]
  },
  {
   "cell_type": "markdown",
   "metadata": {},
   "source": [
    "Recall the generator for Fibonacci numbers:"
   ]
  },
  {
   "cell_type": "code",
   "execution_count": null,
   "metadata": {},
   "outputs": [
    {
     "data": {
      "application/vnd.jupyter.widget-view+json": {
       "model_id": "0a5ff7d1a8c946d0b107a66b5d1240c7",
       "version_major": 2,
       "version_minor": 0
      },
      "text/plain": [
       "OPTWidget(value=None, height=450, script='def fibonacci_sequence(Fn, Fnn, stop):\\n    \"\"\"Return a generator th…"
      ]
     },
     "metadata": {},
     "output_type": "display_data"
    }
   ],
   "source": [
    "%%optlite -l -h 450\n",
    "def fibonacci_sequence(Fn, Fnn, stop):\n",
    "    \"\"\"Return a generator that generates Fibonacci numbers\n",
    "    starting from Fn and Fnn until stop (exclusive).\"\"\"\n",
    "    while Fn < stop:\n",
    "        yield Fn  # return Fn and pause execution\n",
    "        Fn, Fnn = Fnn, Fnn + Fn\n",
    "\n",
    "\n",
    "for fib in fibonacci_sequence(0, 1, 5):\n",
    "    print(fib)"
   ]
  },
  {
   "cell_type": "markdown",
   "metadata": {
    "slideshow": {
     "slide_type": "fragment"
    }
   },
   "source": [
    "Fibonacci sequence normally starts with `0` and `1` by default. Is it possible to make arguments `Fn` and `Fnn` optional with default values?"
   ]
  },
  {
   "cell_type": "markdown",
   "metadata": {
    "slideshow": {
     "slide_type": "fragment"
    }
   },
   "source": [
    "**How to give arguments default values?**"
   ]
  },
  {
   "cell_type": "code",
   "execution_count": null,
   "metadata": {
    "ExecuteTime": {
     "end_time": "2020-10-31T02:43:58.713936Z",
     "start_time": "2020-10-31T02:43:58.708189Z"
    },
    "slideshow": {
     "slide_type": "fragment"
    }
   },
   "outputs": [],
   "source": [
    "def fibonacci_sequence(Fn=0, Fnn=1, stop=None):\n",
    "    while stop is None or Fn < stop:\n",
    "        value = yield Fn\n",
    "        Fn, Fnn = Fnn, Fnn + Fn"
   ]
  },
  {
   "cell_type": "markdown",
   "metadata": {},
   "source": [
    "```{important}\n",
    "\n",
    "Arguments with default values specified by `=...` are called [default arguments](https://docs.python.org/3/tutorial/controlflow.html#default-argument-values). They are optional in the function call.\n",
    "```"
   ]
  },
  {
   "cell_type": "code",
   "execution_count": null,
   "metadata": {},
   "outputs": [
    {
     "name": "stdout",
     "output_type": "stream",
     "text": [
      "0\n",
      "1\n",
      "1\n",
      "2\n",
      "3\n"
     ]
    }
   ],
   "source": [
    "for fib in fibonacci_sequence(stop=5):\n",
    "    print(fib)  # with default Fn=0, Fnn=1"
   ]
  },
  {
   "cell_type": "markdown",
   "metadata": {
    "slideshow": {
     "slide_type": "fragment"
    }
   },
   "source": [
    "```{important}\n",
    "\n",
    "`stop=5` in the function call is called a [keyword argument](https://docs.python.org/3/glossary.html#term-keyword-argument). As supposed to [*positional arguments*](https://docs.python.org/3/glossary.html#term-argument), it specifies the name of the argument explicitly.\n",
    "```"
   ]
  },
  {
   "cell_type": "markdown",
   "metadata": {
    "slideshow": {
     "slide_type": "fragment"
    }
   },
   "source": [
    "**Exercise**\n",
    "\n",
    "Is `fibonacci_sequence(stop=5)` the same as `fibonacci_sequence(5)`? In particular, what is the behavior of the following code?"
   ]
  },
  {
   "cell_type": "code",
   "execution_count": null,
   "metadata": {
    "ExecuteTime": {
     "end_time": "2020-10-31T02:43:59.297944Z",
     "start_time": "2020-10-31T02:43:59.292358Z"
    },
    "slideshow": {
     "slide_type": "-"
    }
   },
   "outputs": [
    {
     "name": "stdout",
     "output_type": "stream",
     "text": [
      "5\n",
      "1\n",
      "6\n",
      "7\n",
      "13\n"
     ]
    }
   ],
   "source": [
    "for fib in fibonacci_sequence(5):\n",
    "    print(fib)\n",
    "    if fib > 10:  \n",
    "        break  # Will this be executed?"
   ]
  },
  {
   "cell_type": "markdown",
   "metadata": {
    "nbgrader": {
     "grade": true,
     "grade_id": "stop",
     "locked": false,
     "points": 0,
     "schema_version": 3,
     "solution": true,
     "task": false
    },
    "slideshow": {
     "slide_type": "-"
    }
   },
   "source": [
    "With `fibonacci_sequence(5)`, `Fn=5` while `Fnn=1` and `stop=None` by default. The while loop in the definition of `fibonacci_sequence` becomes an infinite loop. The generator keeps generating the next Fibonacci number without raising `StopIteration` exception, and so the for loop will be an infinite loop unless it is terminated by the break statement."
   ]
  },
  {
   "cell_type": "markdown",
   "metadata": {
    "slideshow": {
     "slide_type": "subslide"
    }
   },
   "source": [
    "```{important}\n",
    "\n",
    "Rules for specifying arguments:  \n",
    "1. Default (Keyword) arguments must be after all non-default (positional) arguments in a function definition (call).\n",
    "1. The value for an argument cannot be specified more than once in a function definition (call).\n",
    "```"
   ]
  },
  {
   "cell_type": "markdown",
   "metadata": {
    "slideshow": {
     "slide_type": "fragment"
    }
   },
   "source": [
    "E.g., the following results in an error:"
   ]
  },
  {
   "cell_type": "code",
   "execution_count": null,
   "metadata": {
    "ExecuteTime": {
     "end_time": "2020-10-31T02:44:00.150820Z",
     "start_time": "2020-10-31T02:44:00.144212Z"
    },
    "slideshow": {
     "slide_type": "-"
    }
   },
   "outputs": [
    {
     "ename": "SyntaxError",
     "evalue": "positional argument follows keyword argument (2723126621.py, line 1)",
     "output_type": "error",
     "traceback": [
      "\u001b[0;36m  Cell \u001b[0;32mIn [7], line 1\u001b[0;36m\u001b[0m\n\u001b[0;31m    fibonacci_sequence(stop=10, 1)\u001b[0m\n\u001b[0m                                 ^\u001b[0m\n\u001b[0;31mSyntaxError\u001b[0m\u001b[0;31m:\u001b[0m positional argument follows keyword argument\n"
     ]
    }
   ],
   "source": [
    "fibonacci_sequence(stop=10, 1)"
   ]
  },
  {
   "cell_type": "code",
   "execution_count": null,
   "metadata": {
    "ExecuteTime": {
     "end_time": "2020-10-31T02:44:00.153925Z",
     "start_time": "2020-10-31T02:44:00.040Z"
    },
    "slideshow": {
     "slide_type": "-"
    }
   },
   "outputs": [
    {
     "ename": "TypeError",
     "evalue": "fibonacci_sequence() got multiple values for argument 'Fn'",
     "output_type": "error",
     "traceback": [
      "\u001b[0;31m---------------------------------------------------------------------------\u001b[0m",
      "\u001b[0;31mTypeError\u001b[0m                                 Traceback (most recent call last)",
      "Cell \u001b[0;32mIn [8], line 1\u001b[0m\n\u001b[0;32m----> 1\u001b[0m fibonacci_sequence(\u001b[38;5;241m1\u001b[39m, Fn\u001b[38;5;241m=\u001b[39m\u001b[38;5;241m1\u001b[39m)\n",
      "\u001b[0;31mTypeError\u001b[0m: fibonacci_sequence() got multiple values for argument 'Fn'"
     ]
    }
   ],
   "source": [
    "fibonacci_sequence(1, Fn=1)"
   ]
  },
  {
   "cell_type": "markdown",
   "metadata": {
    "slideshow": {
     "slide_type": "subslide"
    }
   },
   "source": [
    "The following shows that the behavior of `range` is different."
   ]
  },
  {
   "cell_type": "code",
   "execution_count": null,
   "metadata": {
    "ExecuteTime": {
     "end_time": "2020-10-31T02:44:00.435983Z",
     "start_time": "2020-10-31T02:44:00.423137Z"
    },
    "slideshow": {
     "slide_type": "fragment"
    },
    "tags": []
   },
   "outputs": [
    {
     "name": "stdout",
     "output_type": "stream",
     "text": [
      "1 3 5 7 9 \n",
      "1 2 3 4 5 6 7 8 9 \n",
      "0 1 2 3 4 5 6 7 8 9 "
     ]
    },
    {
     "ename": "TypeError",
     "evalue": "range() takes no keyword arguments",
     "output_type": "error",
     "traceback": [
      "\u001b[0;31m---------------------------------------------------------------------------\u001b[0m",
      "\u001b[0;31mTypeError\u001b[0m                                 Traceback (most recent call last)",
      "Cell \u001b[0;32mIn [9], line 9\u001b[0m\n\u001b[1;32m      7\u001b[0m \u001b[38;5;28;01mfor\u001b[39;00m count \u001b[38;5;129;01min\u001b[39;00m \u001b[38;5;28mrange\u001b[39m(\u001b[38;5;241m10\u001b[39m):\n\u001b[1;32m      8\u001b[0m     \u001b[38;5;28mprint\u001b[39m(count, end\u001b[38;5;241m=\u001b[39m\u001b[38;5;124m\"\u001b[39m\u001b[38;5;124m \u001b[39m\u001b[38;5;124m\"\u001b[39m)  \u001b[38;5;66;03m# default start=0, step=1\u001b[39;00m\n\u001b[0;32m----> 9\u001b[0m \u001b[38;5;28mrange\u001b[39m(stop\u001b[38;5;241m=\u001b[39m\u001b[38;5;241m10\u001b[39m)\n",
      "\u001b[0;31mTypeError\u001b[0m: range() takes no keyword arguments"
     ]
    }
   ],
   "source": [
    "for count in range(1, 10, 2):\n",
    "    print(count, end=\" \")  # counts from 1 to 10 in steps of 2\n",
    "print()\n",
    "for count in range(1, 10):\n",
    "    print(count, end=\" \")  # default step=1\n",
    "print()\n",
    "for count in range(10):\n",
    "    print(count, end=\" \")  # default start=0, step=1\n",
    "range(stop=10)  # fails"
   ]
  },
  {
   "cell_type": "markdown",
   "metadata": {
    "slideshow": {
     "slide_type": "fragment"
    }
   },
   "source": [
    "`range` takes only positional arguments.  \n",
    "However, the first positional argument has different intepretations (`start` or `stop`) depending on the number of arguments (2 or 1)."
   ]
  },
  {
   "cell_type": "markdown",
   "metadata": {
    "slideshow": {
     "slide_type": "fragment"
    }
   },
   "source": [
    "`range` is indeed NOT a generator."
   ]
  },
  {
   "cell_type": "code",
   "execution_count": null,
   "metadata": {
    "ExecuteTime": {
     "end_time": "2020-10-31T02:44:00.927005Z",
     "start_time": "2020-10-31T02:44:00.921731Z"
    },
    "slideshow": {
     "slide_type": "fragment"
    },
    "tags": []
   },
   "outputs": [
    {
     "name": "stdout",
     "output_type": "stream",
     "text": [
      "<class 'type'> <class 'range'>\n"
     ]
    }
   ],
   "source": [
    "print(type(range), type(range(10)))"
   ]
  },
  {
   "cell_type": "markdown",
   "metadata": {
    "slideshow": {
     "slide_type": "fragment"
    },
    "tags": []
   },
   "source": [
    "**How is range implemented?**"
   ]
  },
  {
   "cell_type": "markdown",
   "metadata": {
    "slideshow": {
     "slide_type": "subslide"
    }
   },
   "source": [
    "## Variable number of arguments"
   ]
  },
  {
   "cell_type": "markdown",
   "metadata": {
    "slideshow": {
     "slide_type": "fragment"
    }
   },
   "source": [
    "[The implementation of range](https://github.com/python/cpython/blob/6afb285ff0790471a6858e44f85d143f07fda70c/Objects/rangeobject.c#L82-L123) uses a [variable number of arguments](https://docs.python.org/3.4/tutorial/controlflow.html#arbitrary-argument-lists)."
   ]
  },
  {
   "cell_type": "code",
   "execution_count": null,
   "metadata": {
    "ExecuteTime": {
     "end_time": "2020-10-31T02:44:01.642620Z",
     "start_time": "2020-10-31T02:44:01.634575Z"
    },
    "slideshow": {
     "slide_type": "fragment"
    }
   },
   "outputs": [
    {
     "name": "stdout",
     "output_type": "stream",
     "text": [
      "args (<class 'tuple'>): (0, 10, 2)\n",
      "kwargs (<class 'dict'>): {'start': 1, 'stop': 2}\n"
     ]
    }
   ],
   "source": [
    "def print_arguments(*args, **kwargs):\n",
    "    \"\"\"Take any number of arguments and prints them\"\"\"\n",
    "    print(\"args ({}): {}\".format(type(args), args))\n",
    "    print(\"kwargs ({}): {}\".format(type(kwargs), kwargs))\n",
    "\n",
    "\n",
    "print_arguments(0, 10, 2, start=1, stop=2)"
   ]
  },
  {
   "cell_type": "markdown",
   "metadata": {
    "slideshow": {
     "slide_type": "fragment"
    }
   },
   "source": [
    "- `args` is a tuple of positional arguments.\n",
    "- `kwargs` is a dictionary of keyword arguments, which is a list of values indexed by unique keys that are not necessary integers."
   ]
  },
  {
   "cell_type": "code",
   "execution_count": null,
   "metadata": {},
   "outputs": [
    {
     "data": {
      "text/plain": [
       "(1,\n",
       " 2,\n",
       " dict_keys(['start', 'stop']),\n",
       " dict_values([1, 2]),\n",
       " dict_items([('start', 1), ('stop', 2)]))"
      ]
     },
     "execution_count": 12,
     "metadata": {},
     "output_type": "execute_result"
    }
   ],
   "source": [
    "d = {'start': 1, 'stop': 2}\n",
    "d['start'], d['stop'], d.keys(), d.values(), d.items()"
   ]
  },
  {
   "cell_type": "markdown",
   "metadata": {
    "slideshow": {
     "slide_type": "fragment"
    }
   },
   "source": [
    "`*` and `**` are *unpacking operators* for tuple/list and dictionary respectively:"
   ]
  },
  {
   "cell_type": "code",
   "execution_count": null,
   "metadata": {
    "ExecuteTime": {
     "end_time": "2020-10-31T02:44:02.336627Z",
     "start_time": "2020-10-31T02:44:02.332934Z"
    },
    "slideshow": {
     "slide_type": "fragment"
    },
    "tags": []
   },
   "outputs": [
    {
     "name": "stdout",
     "output_type": "stream",
     "text": [
      "args (<class 'tuple'>): (0, 10, 2)\n",
      "kwargs (<class 'dict'>): {'start': 1, 'stop': 2}\n"
     ]
    }
   ],
   "source": [
    "args = (0, 10, 2)\n",
    "kwargs = {\"start\": 1, \"stop\": 2}\n",
    "print_arguments(*args, **kwargs)"
   ]
  },
  {
   "cell_type": "markdown",
   "metadata": {},
   "source": [
    "The following function converts all the arguments to a string, which will be useful later on."
   ]
  },
  {
   "cell_type": "code",
   "execution_count": null,
   "metadata": {
    "ExecuteTime": {
     "end_time": "2020-10-31T02:44:02.594868Z",
     "start_time": "2020-10-31T02:44:02.584464Z"
    },
    "slideshow": {
     "slide_type": "fragment"
    }
   },
   "outputs": [
    {
     "data": {
      "text/plain": [
       "'(0, 10, 2, start=1, stop=2)'"
      ]
     },
     "execution_count": 14,
     "metadata": {},
     "output_type": "execute_result"
    }
   ],
   "source": [
    "def argument_string(*args, **kwargs):\n",
    "    \"\"\"Return the string representation of the list of arguments.\"\"\"\n",
    "    return \"({})\".format(\n",
    "        \", \".join(\n",
    "            [\n",
    "                *(f\"{v!r}\" for v in args),  # arguments\n",
    "                *(f\"{k}={v!r}\" for k, v in kwargs.items()),  # keyword arguments\n",
    "            ]\n",
    "        )\n",
    "    )\n",
    "\n",
    "\n",
    "argument_string(0, 10, 2, start=1, stop=2)"
   ]
  },
  {
   "cell_type": "markdown",
   "metadata": {},
   "source": [
    "```{note}\n",
    " `!r` convert `v` to the string representation (`repr`) that can be evaluated by python `eval`. In particular, `'a'` will be converted to `\"'a'\"`, which has the quotation needed for the string literal. See [token conversion](https://docs.python.org/3/reference/lexical_analysis.html#grammar-token-conversion).\n",
    "```"
   ]
  },
  {
   "cell_type": "markdown",
   "metadata": {
    "slideshow": {
     "slide_type": "subslide"
    }
   },
   "source": [
    "**Exercise** \n",
    "\n",
    "Redefine `fibonacci_sequence` so that the positional arguments depend on the number of arguments:"
   ]
  },
  {
   "cell_type": "code",
   "execution_count": null,
   "metadata": {
    "ExecuteTime": {
     "end_time": "2020-10-31T02:44:02.842063Z",
     "start_time": "2020-10-31T02:44:02.826424Z"
    },
    "code_folding": [
     19
    ],
    "nbgrader": {
     "grade": false,
     "grade_id": "optional",
     "locked": false,
     "schema_version": 3,
     "solution": true,
     "task": false
    },
    "slideshow": {
     "slide_type": "-"
    },
    "tags": [
     "remove-output"
    ]
   },
   "outputs": [],
   "source": [
    "def fibonacci_sequence(*args):\n",
    "    \"\"\"Return a generator that generates Fibonacci numbers\n",
    "    starting from Fn and Fnn to stop (exclusive).\n",
    "    generator.send(value) sets next number to value.\n",
    "\n",
    "    fibonacci_sequence(stop)\n",
    "    fibonacci_sequence(Fn,Fnn)\n",
    "    fibonacci_sequence(Fn,Fnn,stop)\n",
    "    \"\"\"\n",
    "    Fn, Fnn, stop = 0, 1, None  # default values\n",
    "\n",
    "    # handle different number of arguments\n",
    "    if len(args) == 1:\n",
    "        ### BEGIN SOLUTION\n",
    "        stop = args[0]\n",
    "        ### END SOLUTION\n",
    "    elif len(args) == 2:\n",
    "        Fn, Fnn = args[0], args[1]\n",
    "    elif len(args) > 2:\n",
    "        Fn, Fnn, stop = args[0], args[1], args[2]\n",
    "\n",
    "    while stop is None or Fn < stop:\n",
    "        value = yield Fn\n",
    "        if value is not None:\n",
    "            Fnn = value  # set next number to the value of yield expression\n",
    "        Fn, Fnn = Fnn, Fnn + Fn"
   ]
  },
  {
   "cell_type": "code",
   "execution_count": null,
   "metadata": {
    "ExecuteTime": {
     "end_time": "2020-10-31T02:44:02.849615Z",
     "start_time": "2020-10-31T02:44:02.843656Z"
    },
    "slideshow": {
     "slide_type": "fragment"
    }
   },
   "outputs": [
    {
     "name": "stdout",
     "output_type": "stream",
     "text": [
      "0\n",
      "1\n",
      "1\n",
      "2\n",
      "3\n"
     ]
    }
   ],
   "source": [
    "for fib in fibonacci_sequence(5):  # default Fn=0, Fn=1\n",
    "    print(fib)"
   ]
  },
  {
   "cell_type": "code",
   "execution_count": null,
   "metadata": {
    "ExecuteTime": {
     "end_time": "2020-10-31T02:44:02.860976Z",
     "start_time": "2020-10-31T02:44:02.851994Z"
    },
    "slideshow": {
     "slide_type": "fragment"
    }
   },
   "outputs": [
    {
     "name": "stdout",
     "output_type": "stream",
     "text": [
      "1\n",
      "2\n",
      "3\n",
      "5\n",
      "8\n"
     ]
    }
   ],
   "source": [
    "for fib in fibonacci_sequence(1, 2):  # default stop=None\n",
    "    print(fib)\n",
    "    if fib > 5:\n",
    "        break"
   ]
  },
  {
   "cell_type": "code",
   "execution_count": null,
   "metadata": {
    "ExecuteTime": {
     "end_time": "2020-10-31T02:44:02.872022Z",
     "start_time": "2020-10-31T02:44:02.862892Z"
    },
    "slideshow": {
     "slide_type": "fragment"
    }
   },
   "outputs": [
    {
     "name": "stdout",
     "output_type": "stream",
     "text": [
      "1\n",
      "2\n",
      "3\n"
     ]
    }
   ],
   "source": [
    "args = (1, 2, 5)\n",
    "for fib in fibonacci_sequence(*args):  # default stop=None\n",
    "    print(fib)"
   ]
  },
  {
   "cell_type": "markdown",
   "metadata": {
    "slideshow": {
     "slide_type": "slide"
    }
   },
   "source": [
    "## Decorator"
   ]
  },
  {
   "cell_type": "markdown",
   "metadata": {
    "slideshow": {
     "slide_type": "subslide"
    }
   },
   "source": [
    "**What is function decoration?**  \n",
    "**Why decorate a function?**"
   ]
  },
  {
   "cell_type": "code",
   "execution_count": null,
   "metadata": {
    "ExecuteTime": {
     "end_time": "2020-10-31T02:44:03.368911Z",
     "start_time": "2020-10-31T02:44:03.348824Z"
    },
    "slideshow": {
     "slide_type": "-"
    },
    "tags": []
   },
   "outputs": [
    {
     "name": "stdout",
     "output_type": "stream",
     "text": [
      "  1: fibonacci(0)\n",
      "Done\n",
      "0\n",
      "  1: fibonacci(1)\n",
      "Done\n",
      "1\n",
      "  1: fibonacci(2)\n",
      "  2: |fibonacci(1)\n",
      "  3: |fibonacci(0)\n",
      "Done\n",
      "1\n",
      "  1: fibonacci(3)\n",
      "  2: |fibonacci(2)\n",
      "  3: ||fibonacci(1)\n",
      "  4: ||fibonacci(0)\n",
      "  5: |fibonacci(1)\n",
      "Done\n",
      "2\n",
      "  1: fibonacci(4)\n",
      "  2: |fibonacci(3)\n",
      "  3: ||fibonacci(2)\n",
      "  4: |||fibonacci(1)\n",
      "  5: |||fibonacci(0)\n",
      "  6: ||fibonacci(1)\n",
      "  7: |fibonacci(2)\n",
      "  8: ||fibonacci(1)\n",
      "  9: ||fibonacci(0)\n",
      "Done\n",
      "3\n",
      "  1: fibonacci(5)\n",
      "  2: |fibonacci(4)\n",
      "  3: ||fibonacci(3)\n",
      "  4: |||fibonacci(2)\n",
      "  5: ||||fibonacci(1)\n",
      "  6: ||||fibonacci(0)\n",
      "  7: |||fibonacci(1)\n",
      "  8: ||fibonacci(2)\n",
      "  9: |||fibonacci(1)\n",
      " 10: |||fibonacci(0)\n",
      " 11: |fibonacci(3)\n",
      " 12: ||fibonacci(2)\n",
      " 13: |||fibonacci(1)\n",
      " 14: |||fibonacci(0)\n",
      " 15: ||fibonacci(1)\n",
      "Done\n",
      "5\n"
     ]
    }
   ],
   "source": [
    "def fibonacci(n):\n",
    "    \"\"\"Returns the Fibonacci number of order n.\"\"\"\n",
    "    global count, depth\n",
    "    count += 1\n",
    "    depth += 1\n",
    "    print(\"{:>3}: {}fibonacci({!r})\".format(count, \"|\" * depth, n))\n",
    "\n",
    "    value = fibonacci(n - 1) + fibonacci(n - 2) if n > 1 else 1 if n == 1 else 0\n",
    "\n",
    "    depth -= 1\n",
    "    if depth == -1:  # recursion done\n",
    "        print(\"Done\")\n",
    "        count = 0  # reset count for subsequent recursions\n",
    "    return value\n",
    "\n",
    "\n",
    "count, depth = 0, -1\n",
    "for n in range(6):\n",
    "    print(fibonacci(n))"
   ]
  },
  {
   "cell_type": "markdown",
   "metadata": {
    "slideshow": {
     "slide_type": "fragment"
    }
   },
   "source": [
    "The code decorates the `fibonacci` function by printing each recursive call and the depth of the call stack.  \n",
    "The decoration is useful in showing the efficiency of the function, but it rewrites the function definition."
   ]
  },
  {
   "cell_type": "markdown",
   "metadata": {
    "slideshow": {
     "slide_type": "subslide"
    }
   },
   "source": [
    "**How to decorate a function without changing its implementation?**"
   ]
  },
  {
   "cell_type": "markdown",
   "metadata": {
    "slideshow": {
     "slide_type": "fragment"
    }
   },
   "source": [
    "Decorations are often temporary. Is it possible to avoid\n",
    "\n",
    "- going through the source codes to remove decorations?\n",
    "- switching back and forth between the original and decorated codes?"
   ]
  },
  {
   "cell_type": "markdown",
   "metadata": {
    "slideshow": {
     "slide_type": "subslide"
    }
   },
   "source": [
    "```{admonition} Attempt\n",
    "What about defining a new function that calls and decorates the original function?\n",
    "```"
   ]
  },
  {
   "cell_type": "code",
   "execution_count": null,
   "metadata": {
    "ExecuteTime": {
     "end_time": "2020-10-31T02:44:04.465212Z",
     "start_time": "2020-10-31T02:44:04.456584Z"
    },
    "code_folding": [
     0
    ],
    "slideshow": {
     "slide_type": "fragment"
    }
   },
   "outputs": [
    {
     "name": "stdout",
     "output_type": "stream",
     "text": [
      "  1: fibonacci(0)\n",
      "Done\n",
      "0\n",
      "  1: fibonacci(1)\n",
      "Done\n",
      "1\n",
      "  1: fibonacci(2)\n",
      "Done\n",
      "1\n",
      "  1: fibonacci(3)\n",
      "Done\n",
      "2\n",
      "  1: fibonacci(4)\n",
      "Done\n",
      "3\n",
      "  1: fibonacci(5)\n",
      "Done\n",
      "5\n"
     ]
    }
   ],
   "source": [
    "def fibonacci(n):\n",
    "    \"\"\"Returns the Fibonacci number of order n.\"\"\"\n",
    "    return fibonacci(n - 1) + fibonacci(n - 2) if n > 1 else 1 if n == 1 else 0\n",
    "\n",
    "\n",
    "def fibonacci_decorated(n):\n",
    "    \"\"\"Returns the Fibonacci number of order n.\"\"\"\n",
    "    global count, depth\n",
    "    count += 1\n",
    "    depth += 1\n",
    "    print(\"{:>3}: {}fibonacci({!r})\".format(count, \"|\" * depth, n))\n",
    "\n",
    "    value = fibonacci(n)\n",
    "\n",
    "    depth -= 1\n",
    "    if depth == -1:  # recursion done\n",
    "        print(\"Done\")\n",
    "        count = 0  # reset count for subsequent recursions\n",
    "    return value\n",
    "\n",
    "\n",
    "count, depth = 0, -1\n",
    "for n in range(6):\n",
    "    print(fibonacci_decorated(n))"
   ]
  },
  {
   "cell_type": "markdown",
   "metadata": {},
   "source": [
    "**Exercise** \n",
    "\n",
    "Explain whether the attempt works."
   ]
  },
  {
   "cell_type": "markdown",
   "metadata": {
    "nbgrader": {
     "grade": true,
     "grade_id": "decorator1",
     "locked": false,
     "points": 0,
     "schema_version": 3,
     "solution": true,
     "task": false
    },
    "tags": []
   },
   "source": [
    "```{admonition} Solution\n",
    "\n",
    "The recursive calls to `fibonacci` does not print the function calls, because `fibonacci` does not call `fibonacci_decorated`.\n",
    "```"
   ]
  },
  {
   "cell_type": "markdown",
   "metadata": {
    "slideshow": {
     "slide_type": "fragment"
    }
   },
   "source": [
    "````{admonition} Attempt\n",
    "What about renaming `fibonacci_decorated` to `fibonacci`?\n",
    "\n",
    "```Python\n",
    "fibonacci = fibonacci_decorated\n",
    "count, depth = 0, -1\n",
    "fibonacci_decorated(10)\n",
    "```\n",
    "\n",
    "(If you are faint-hearted, don't run the above code.)\n",
    "````"
   ]
  },
  {
   "cell_type": "markdown",
   "metadata": {},
   "source": [
    "**Exercise** \n",
    "\n",
    "Explain whether the attempt works."
   ]
  },
  {
   "cell_type": "markdown",
   "metadata": {
    "nbgrader": {
     "grade": true,
     "grade_id": "decorator2",
     "locked": false,
     "points": 0,
     "schema_version": 3,
     "solution": true,
     "task": false
    },
    "tags": []
   },
   "source": [
    "```{admonition} Solution\n",
    "\n",
    "The call leads to an infinite recursion. The desired recursion `fibonacci` points to originally is no longer invoked.\n",
    "```"
   ]
  },
  {
   "cell_type": "markdown",
   "metadata": {
    "slideshow": {
     "slide_type": "subslide"
    }
   },
   "source": [
    "An elegant solution is to\n",
    "\n",
    "- capture the function to be decorated in the closure of the decorated function, and\n",
    "- rename the decorated function to the same name as the function to be decorated."
   ]
  },
  {
   "cell_type": "code",
   "execution_count": null,
   "metadata": {
    "ExecuteTime": {
     "end_time": "2020-10-31T02:44:05.067305Z",
     "start_time": "2020-10-31T02:44:05.056730Z"
    },
    "code_folding": [],
    "slideshow": {
     "slide_type": "fragment"
    },
    "tags": []
   },
   "outputs": [],
   "source": [
    "def print_function_call(f):\n",
    "    def wrapper(*args, **kwargs):\n",
    "        nonlocal count, depth\n",
    "        count += 1\n",
    "        depth += 1\n",
    "        call = \"{}{}\".format(f.__name__, argument_string(*args, **kwargs))\n",
    "        print(\"{:>3}:{}{}\".format(count, \"|\" * depth, call))\n",
    "        value = f(*args, **kwargs)  # calls f\n",
    "        depth -= 1\n",
    "        if depth == -1:\n",
    "            print(\"Done\")\n",
    "            count = 0\n",
    "        return value\n",
    "    count, depth = 0, -1\n",
    "    return wrapper  # return the decorated function"
   ]
  },
  {
   "cell_type": "markdown",
   "metadata": {
    "slideshow": {
     "slide_type": "fragment"
    }
   },
   "source": [
    "The above defines a *decorator* `print_function_call` that takes in a function `f` to be decorated and returns the decorated function `wrapper` that captures and decorates `f`:\n",
    "- `wrapper` expects the same set of arguments for `f`,  \n",
    "- returns the same value returned by `f` on the arguments, but\n",
    "- can execute additional codes before and after calling `f` to print the function call."
   ]
  },
  {
   "cell_type": "markdown",
   "metadata": {
    "slideshow": {
     "slide_type": "fragment"
    }
   },
   "source": [
    "By redefining `fibonacci` as the returned `wrapper`, the original `fibonacci` captured by `wrapper` calls `wrapper` as desired."
   ]
  },
  {
   "cell_type": "code",
   "execution_count": null,
   "metadata": {
    "ExecuteTime": {
     "end_time": "2020-10-31T02:44:05.613215Z",
     "start_time": "2020-10-31T02:44:05.603533Z"
    },
    "code_folding": []
   },
   "outputs": [
    {
     "name": "stdout",
     "output_type": "stream",
     "text": [
      "  1:fibonacci(5)\n",
      "  2:|fibonacci(4)\n",
      "  3:||fibonacci(3)\n",
      "  4:|||fibonacci(2)\n",
      "  5:||||fibonacci(1)\n",
      "  6:||||fibonacci(0)\n",
      "  7:|||fibonacci(1)\n",
      "  8:||fibonacci(2)\n",
      "  9:|||fibonacci(1)\n",
      " 10:|||fibonacci(0)\n",
      " 11:|fibonacci(3)\n",
      " 12:||fibonacci(2)\n",
      " 13:|||fibonacci(1)\n",
      " 14:|||fibonacci(0)\n",
      " 15:||fibonacci(1)\n",
      "Done\n"
     ]
    },
    {
     "data": {
      "text/plain": [
       "5"
      ]
     },
     "execution_count": 22,
     "metadata": {},
     "output_type": "execute_result"
    }
   ],
   "source": [
    "def fibonacci(n):\n",
    "    return fibonacci(n - 1) + fibonacci(n - 2) if n > 1 else 1 if n == 1 else 0\n",
    "\n",
    "\n",
    "fibonacci = print_function_call(fibonacci)  # so original fibonnacci calls wrapper\n",
    "fibonacci(5)"
   ]
  },
  {
   "cell_type": "markdown",
   "metadata": {
    "slideshow": {
     "slide_type": "fragment"
    }
   },
   "source": [
    "The redefinition does not change the original `fibonacci` captured by `wrapper`."
   ]
  },
  {
   "cell_type": "code",
   "execution_count": null,
   "metadata": {
    "ExecuteTime": {
     "end_time": "2020-10-31T02:44:05.865764Z",
     "start_time": "2020-10-31T02:44:05.857623Z"
    },
    "slideshow": {
     "slide_type": "fragment"
    }
   },
   "outputs": [
    {
     "name": "stdout",
     "output_type": "stream",
     "text": [
      "def fibonacci(n):\n",
      "    return fibonacci(n - 1) + fibonacci(n - 2) if n > 1 else 1 if n == 1 else 0\n",
      "\n"
     ]
    }
   ],
   "source": [
    "import inspect\n",
    "\n",
    "for cell in fibonacci.__closure__:\n",
    "    if callable(cell.cell_contents):\n",
    "        print(inspect.getsource(cell.cell_contents))"
   ]
  },
  {
   "cell_type": "markdown",
   "metadata": {
    "slideshow": {
     "slide_type": "subslide"
    }
   },
   "source": [
    "Python provides the syntatic sugar below to simplify the redefinition."
   ]
  },
  {
   "cell_type": "code",
   "execution_count": null,
   "metadata": {
    "ExecuteTime": {
     "end_time": "2020-10-31T02:44:06.147287Z",
     "start_time": "2020-10-31T02:44:06.133616Z"
    },
    "code_folding": [],
    "slideshow": {
     "slide_type": "-"
    },
    "tags": []
   },
   "outputs": [
    {
     "name": "stdout",
     "output_type": "stream",
     "text": [
      "  1:fibonacci(5)\n",
      "  2:|fibonacci(4)\n",
      "  3:||fibonacci(3)\n",
      "  4:|||fibonacci(2)\n",
      "  5:||||fibonacci(1)\n",
      "  6:||||fibonacci(0)\n",
      "  7:|||fibonacci(1)\n",
      "  8:||fibonacci(2)\n",
      "  9:|||fibonacci(1)\n",
      " 10:|||fibonacci(0)\n",
      " 11:|fibonacci(3)\n",
      " 12:||fibonacci(2)\n",
      " 13:|||fibonacci(1)\n",
      " 14:|||fibonacci(0)\n",
      " 15:||fibonacci(1)\n",
      "Done\n"
     ]
    },
    {
     "data": {
      "text/plain": [
       "5"
      ]
     },
     "execution_count": 24,
     "metadata": {},
     "output_type": "execute_result"
    }
   ],
   "source": [
    "@print_function_call\n",
    "def fibonacci(n):\n",
    "    return fibonacci(n - 1) + fibonacci(n - 2) if n > 1 else 1 if n == 1 else 0\n",
    "\n",
    "\n",
    "fibonacci(5)"
   ]
  },
  {
   "cell_type": "markdown",
   "metadata": {},
   "source": [
    "The following visualizes the execution step-by-step:"
   ]
  },
  {
   "cell_type": "markdown",
   "metadata": {
    "slideshow": {
     "slide_type": "fragment"
    }
   },
   "source": [
    "**Exercise**\n",
    "\n",
    "Why use a variable number of arguments in `wrapper`? You may use `optlite` below to visualize the execution step-by-step."
   ]
  },
  {
   "cell_type": "code",
   "execution_count": null,
   "metadata": {},
   "outputs": [
    {
     "data": {
      "application/vnd.jupyter.widget-view+json": {
       "model_id": "552f26f57b62489bab838bbeb1c74e3c",
       "version_major": 2,
       "version_minor": 0
      },
      "text/plain": [
       "OPTWidget(value=None, script='def print_function_call(f):\\n    def wrapper(*args, **kwargs):\\n        nonlocal…"
      ]
     },
     "metadata": {},
     "output_type": "display_data"
    }
   ],
   "source": [
    "%%optlite -l\n",
    "def print_function_call(f):\n",
    "    def wrapper(*args, **kwargs):\n",
    "        nonlocal count, depth\n",
    "        count += 1\n",
    "        depth += 1\n",
    "        call = \"{}{}\".format(f.__name__, \"({})\".format(\", \".join([*(f\"{v!r}\" for v in args), *(f\"{k}={v!r}\" for k, v in kwargs.items())])))\n",
    "        print(\"{:>3}:{}{}\".format(count, \"|\" * depth, call))\n",
    "        value = f(*args, **kwargs)  # calls f\n",
    "        depth -= 1\n",
    "        if depth == -1:\n",
    "            print(\"Done\")\n",
    "            count = 0\n",
    "        return value\n",
    "\n",
    "    count, depth = 0, -1\n",
    "    return wrapper  # return the decorated function\n",
    "\n",
    "@print_function_call\n",
    "def fibonacci(n):\n",
    "    return fibonacci(n - 1) + fibonacci(n - 2) if n > 1 else 1 if n == 1 else 0\n",
    "\n",
    "fibonacci(5)"
   ]
  },
  {
   "cell_type": "markdown",
   "metadata": {
    "nbgrader": {
     "grade": true,
     "grade_id": "variable_n_args",
     "locked": false,
     "points": 0,
     "schema_version": 3,
     "solution": true,
     "task": false
    },
    "tags": []
   },
   "source": [
    "```{admonition} Solution\n",
    "\n",
    "To decorate any function with possibly different number of arguments.\n",
    "```"
   ]
  },
  {
   "cell_type": "markdown",
   "metadata": {},
   "source": [
    "## Applications of decorators"
   ]
  },
  {
   "cell_type": "markdown",
   "metadata": {},
   "source": [
    "Decorator is a software [design pattern](https://en.wikipedia.org/wiki/Software_design_pattern) that are reused in different scenarios for different applications.  "
   ]
  },
  {
   "cell_type": "markdown",
   "metadata": {},
   "source": [
    "For example, the following uses decoration to improves decoration:"
   ]
  },
  {
   "cell_type": "code",
   "execution_count": null,
   "metadata": {},
   "outputs": [
    {
     "name": "stdout",
     "output_type": "stream",
     "text": [
      "  1:fibonacci(5)\n",
      "  2:|fibonacci(4)\n",
      "  3:||fibonacci(3)\n",
      "  4:|||fibonacci(2)\n",
      "  5:||||fibonacci(1)\n",
      "  6:||||fibonacci(0)\n",
      "  7:|||fibonacci(1)\n",
      "  8:||fibonacci(2)\n",
      "  9:|||fibonacci(1)\n",
      " 10:|||fibonacci(0)\n",
      " 11:|fibonacci(3)\n",
      " 12:||fibonacci(2)\n",
      " 13:|||fibonacci(1)\n",
      " 14:|||fibonacci(0)\n",
      " 15:||fibonacci(1)\n",
      "Done\n"
     ]
    },
    {
     "data": {
      "text/plain": [
       "5"
      ]
     },
     "execution_count": 26,
     "metadata": {},
     "output_type": "execute_result"
    },
    {
     "data": {
      "application/vnd.jupyter.widget-view+json": {
       "model_id": "db12059b25cd4d88a1e96f2f424f5bcb",
       "version_major": 2,
       "version_minor": 0
      },
      "text/plain": [
       "OPTWidget(value=None, script='import functools\\n\\ndef print_function_call(f):\\n    @functools.wraps(f)  # give…"
      ]
     },
     "metadata": {},
     "output_type": "display_data"
    }
   ],
   "source": [
    "%%optlite -r -l\n",
    "import functools\n",
    "\n",
    "def print_function_call(f):\n",
    "    @functools.wraps(f)  # give wrapper the identity of f and more\n",
    "    def wrapper(*args, **kwargs):\n",
    "        nonlocal count, depth\n",
    "        count += 1\n",
    "        depth += 1\n",
    "        call = \"{}{}\".format(f.__name__, \"({})\".format(\", \".join([*(f\"{v!r}\" for v in args), *(f\"{k}={v!r}\" for k, v in kwargs.items())])))\n",
    "        print(\"{:>3}:{}{}\".format(count, \"|\" * depth, call))\n",
    "        value = f(*args, **kwargs)  # calls f\n",
    "        depth -= 1\n",
    "        if depth == -1:\n",
    "            print(\"Done\")\n",
    "            count = 0\n",
    "        return value\n",
    "\n",
    "    count, depth = 0, -1\n",
    "    return wrapper  # return the decorated function\n",
    "\n",
    "@print_function_call\n",
    "def fibonacci(n):\n",
    "    return fibonacci(n - 1) + fibonacci(n - 2) if n > 1 else 1 if n == 1 else 0\n",
    "\n",
    "fibonacci(5)"
   ]
  },
  {
   "cell_type": "markdown",
   "metadata": {},
   "source": [
    "**What is the difference?**"
   ]
  },
  {
   "cell_type": "markdown",
   "metadata": {
    "slideshow": {
     "slide_type": "fragment"
    }
   },
   "source": [
    "The decoration `@functools.wraps(f)` of the decorated function `wrapper`\n",
    "\n",
    "- makes some attributes (such as `__name__`) of the decorated function the same as those of original function, and\n",
    "- adds some useful attributes such as `__wrapped__` that points to the original function."
   ]
  },
  {
   "cell_type": "markdown",
   "metadata": {},
   "source": [
    "In the `optlite` visualization, notice that `wrapper` points to a function named `fibonacci` instead of `wrapper`."
   ]
  },
  {
   "cell_type": "markdown",
   "metadata": {},
   "source": [
    "We can also undo the decoration using `__wrapped__`."
   ]
  },
  {
   "cell_type": "code",
   "execution_count": null,
   "metadata": {
    "ExecuteTime": {
     "end_time": "2020-10-31T02:44:08.151683Z",
     "start_time": "2020-10-31T02:44:08.140353Z"
    },
    "slideshow": {
     "slide_type": "fragment"
    }
   },
   "outputs": [
    {
     "name": "stdout",
     "output_type": "stream",
     "text": [
      "original fibonacci:\n",
      "5\n",
      "decorated fibonacci:\n",
      "  1:fibonacci(5)\n",
      "  2:|fibonacci(4)\n",
      "  3:||fibonacci(3)\n",
      "  4:|||fibonacci(2)\n",
      "  5:||||fibonacci(1)\n",
      "  6:||||fibonacci(0)\n",
      "  7:|||fibonacci(1)\n",
      "  8:||fibonacci(2)\n",
      "  9:|||fibonacci(1)\n",
      " 10:|||fibonacci(0)\n",
      " 11:|fibonacci(3)\n",
      " 12:||fibonacci(2)\n",
      " 13:|||fibonacci(1)\n",
      " 14:|||fibonacci(0)\n",
      " 15:||fibonacci(1)\n",
      "Done\n",
      "5\n"
     ]
    }
   ],
   "source": [
    "fibonacci, fibonacci_decorated = fibonacci.__wrapped__, fibonacci  # recover\n",
    "print(\"original fibonacci:\")\n",
    "print(fibonacci(5))\n",
    "\n",
    "fibonacci = fibonacci_decorated  # decorate\n",
    "print(\"decorated fibonacci:\")\n",
    "print(fibonacci(5))"
   ]
  },
  {
   "cell_type": "markdown",
   "metadata": {
    "slideshow": {
     "slide_type": "subslide"
    }
   },
   "source": [
    "**How to use decorator to improve recursion?**"
   ]
  },
  {
   "cell_type": "markdown",
   "metadata": {
    "slideshow": {
     "slide_type": "fragment"
    }
   },
   "source": [
    "We can also use a decorator to make recursion more efficient by caching the return values.  \n",
    "`cache` is a dictionary where `cache[n]` stores the computed value of $F_n$ to avoid redundant computations."
   ]
  },
  {
   "cell_type": "code",
   "execution_count": null,
   "metadata": {
    "ExecuteTime": {
     "end_time": "2020-10-31T02:44:08.641679Z",
     "start_time": "2020-10-31T02:44:08.632945Z"
    },
    "scrolled": true,
    "slideshow": {
     "slide_type": "fragment"
    },
    "tags": []
   },
   "outputs": [],
   "source": [
    "def caching(f):\n",
    "    \"\"\"Cache the return value of a function that takes a single argument.\n",
    "\n",
    "    Parameters\n",
    "    ----------\n",
    "    f: Callable\n",
    "        A function that takes a single argument.\n",
    "\n",
    "    Returns\n",
    "    -------\n",
    "    Callable:\n",
    "        The function same as f but has its return valued automatically cached\n",
    "        when called. It has a method clear_cache to clear its cache.\n",
    "    \"\"\"\n",
    "\n",
    "    @functools.wraps(f)\n",
    "    def wrapper(n):\n",
    "        if n not in cache:\n",
    "            cache[n] = f(n)\n",
    "        else:\n",
    "            print(\"read from cache\")\n",
    "        return cache[n]\n",
    "\n",
    "    cache = {}\n",
    "    wrapper.clear_cache = lambda: cache.clear()  # add method to clear cache\n",
    "    return wrapper\n",
    "\n",
    "\n",
    "@print_function_call\n",
    "@caching\n",
    "def fibonacci(n):\n",
    "    return fibonacci(n - 1) + fibonacci(n - 2) if n > 1 else 1 if n == 1 else 0"
   ]
  },
  {
   "cell_type": "code",
   "execution_count": null,
   "metadata": {
    "ExecuteTime": {
     "end_time": "2020-10-31T02:44:08.660463Z",
     "start_time": "2020-10-31T02:44:08.643793Z"
    },
    "slideshow": {
     "slide_type": "fragment"
    },
    "tags": []
   },
   "outputs": [
    {
     "name": "stdout",
     "output_type": "stream",
     "text": [
      "  1:fibonacci(5)\n",
      "  2:|fibonacci(4)\n",
      "  3:||fibonacci(3)\n",
      "  4:|||fibonacci(2)\n",
      "  5:||||fibonacci(1)\n",
      "  6:||||fibonacci(0)\n",
      "  7:|||fibonacci(1)\n",
      "read from cache\n",
      "  8:||fibonacci(2)\n",
      "read from cache\n",
      "  9:|fibonacci(3)\n",
      "read from cache\n",
      "Done\n",
      "  1:fibonacci(5)\n",
      "read from cache\n",
      "Done\n",
      "  1:fibonacci(5)\n",
      "  2:|fibonacci(4)\n",
      "  3:||fibonacci(3)\n",
      "  4:|||fibonacci(2)\n",
      "  5:||||fibonacci(1)\n",
      "  6:||||fibonacci(0)\n",
      "  7:|||fibonacci(1)\n",
      "read from cache\n",
      "  8:||fibonacci(2)\n",
      "read from cache\n",
      "  9:|fibonacci(3)\n",
      "read from cache\n",
      "Done\n"
     ]
    },
    {
     "data": {
      "text/plain": [
       "5"
      ]
     },
     "execution_count": 29,
     "metadata": {},
     "output_type": "execute_result"
    }
   ],
   "source": [
    "fibonacci(5)\n",
    "fibonacci(5)\n",
    "fibonacci.clear_cache()\n",
    "fibonacci(5)"
   ]
  },
  {
   "cell_type": "markdown",
   "metadata": {
    "slideshow": {
     "slide_type": "fragment"
    }
   },
   "source": [
    "A method `clear_cache` is added to the wrapper to clear the cache.   \n",
    "`lambda <argument list> : <expression>`is called a [*lambda* expression](https://docs.python.org/3/reference/expressions.html#lambda), which conveniently defines an *anonymous function*."
   ]
  },
  {
   "cell_type": "code",
   "execution_count": null,
   "metadata": {
    "ExecuteTime": {
     "end_time": "2020-10-31T02:44:08.918456Z",
     "start_time": "2020-10-31T02:44:08.912645Z"
    },
    "slideshow": {
     "slide_type": "fragment"
    }
   },
   "outputs": [
    {
     "data": {
      "text/plain": [
       "(function, '<lambda>')"
      ]
     },
     "execution_count": 30,
     "metadata": {},
     "output_type": "execute_result"
    }
   ],
   "source": [
    "type(fibonacci.clear_cache), fibonacci.clear_cache.__name__"
   ]
  },
  {
   "cell_type": "markdown",
   "metadata": {
    "slideshow": {
     "slide_type": "slide"
    }
   },
   "source": [
    "## Module"
   ]
  },
  {
   "cell_type": "markdown",
   "metadata": {
    "slideshow": {
     "slide_type": "subslide"
    }
   },
   "source": [
    "**How to create a module?**"
   ]
  },
  {
   "cell_type": "markdown",
   "metadata": {
    "slideshow": {
     "slide_type": "fragment"
    }
   },
   "source": [
    "To create a module, simply put the code in a python source file `<module name>.py` in\n",
    "- the current directory, or\n",
    "- a python *site-packages* directory in system path."
   ]
  },
  {
   "cell_type": "code",
   "execution_count": null,
   "metadata": {
    "ExecuteTime": {
     "end_time": "2020-10-31T02:44:09.980305Z",
     "start_time": "2020-10-31T02:44:09.975970Z"
    },
    "slideshow": {
     "slide_type": "-"
    }
   },
   "outputs": [
    {
     "name": "stdout",
     "output_type": "stream",
     "text": [
      "['/home/ccha23/cs1302og/source/Lecture6', '/opt/conda/lib/python310.zip', '/opt/conda/lib/python3.10', '/opt/conda/lib/python3.10/lib-dynload', '', '/opt/conda/lib/python3.10/site-packages']\n"
     ]
    }
   ],
   "source": [
    "import sys\n",
    "\n",
    "print(sys.path)"
   ]
  },
  {
   "cell_type": "markdown",
   "metadata": {
    "slideshow": {
     "slide_type": "subslide"
    }
   },
   "source": [
    "For example, `recurtools.py` in the current directory defines the module `recurtools`."
   ]
  },
  {
   "cell_type": "code",
   "execution_count": null,
   "metadata": {
    "ExecuteTime": {
     "end_time": "2020-10-31T02:44:10.235662Z",
     "start_time": "2020-10-31T02:44:10.226972Z"
    },
    "slideshow": {
     "slide_type": "-"
    },
    "tags": [
     "output_scroll"
    ]
   },
   "outputs": [
    {
     "data": {
      "text/html": [
       "<style>pre { line-height: 125%; }\n",
       "td.linenos .normal { color: inherit; background-color: transparent; padding-left: 5px; padding-right: 5px; }\n",
       "span.linenos { color: inherit; background-color: transparent; padding-left: 5px; padding-right: 5px; }\n",
       "td.linenos .special { color: #000000; background-color: #ffffc0; padding-left: 5px; padding-right: 5px; }\n",
       "span.linenos.special { color: #000000; background-color: #ffffc0; padding-left: 5px; padding-right: 5px; }\n",
       ".output_html .hll { background-color: #ffffcc }\n",
       ".output_html { background: #f8f8f8; }\n",
       ".output_html .c { color: #3D7B7B; font-style: italic } /* Comment */\n",
       ".output_html .err { border: 1px solid #FF0000 } /* Error */\n",
       ".output_html .k { color: #008000; font-weight: bold } /* Keyword */\n",
       ".output_html .o { color: #666666 } /* Operator */\n",
       ".output_html .ch { color: #3D7B7B; font-style: italic } /* Comment.Hashbang */\n",
       ".output_html .cm { color: #3D7B7B; font-style: italic } /* Comment.Multiline */\n",
       ".output_html .cp { color: #9C6500 } /* Comment.Preproc */\n",
       ".output_html .cpf { color: #3D7B7B; font-style: italic } /* Comment.PreprocFile */\n",
       ".output_html .c1 { color: #3D7B7B; font-style: italic } /* Comment.Single */\n",
       ".output_html .cs { color: #3D7B7B; font-style: italic } /* Comment.Special */\n",
       ".output_html .gd { color: #A00000 } /* Generic.Deleted */\n",
       ".output_html .ge { font-style: italic } /* Generic.Emph */\n",
       ".output_html .gr { color: #E40000 } /* Generic.Error */\n",
       ".output_html .gh { color: #000080; font-weight: bold } /* Generic.Heading */\n",
       ".output_html .gi { color: #008400 } /* Generic.Inserted */\n",
       ".output_html .go { color: #717171 } /* Generic.Output */\n",
       ".output_html .gp { color: #000080; font-weight: bold } /* Generic.Prompt */\n",
       ".output_html .gs { font-weight: bold } /* Generic.Strong */\n",
       ".output_html .gu { color: #800080; font-weight: bold } /* Generic.Subheading */\n",
       ".output_html .gt { color: #0044DD } /* Generic.Traceback */\n",
       ".output_html .kc { color: #008000; font-weight: bold } /* Keyword.Constant */\n",
       ".output_html .kd { color: #008000; font-weight: bold } /* Keyword.Declaration */\n",
       ".output_html .kn { color: #008000; font-weight: bold } /* Keyword.Namespace */\n",
       ".output_html .kp { color: #008000 } /* Keyword.Pseudo */\n",
       ".output_html .kr { color: #008000; font-weight: bold } /* Keyword.Reserved */\n",
       ".output_html .kt { color: #B00040 } /* Keyword.Type */\n",
       ".output_html .m { color: #666666 } /* Literal.Number */\n",
       ".output_html .s { color: #BA2121 } /* Literal.String */\n",
       ".output_html .na { color: #687822 } /* Name.Attribute */\n",
       ".output_html .nb { color: #008000 } /* Name.Builtin */\n",
       ".output_html .nc { color: #0000FF; font-weight: bold } /* Name.Class */\n",
       ".output_html .no { color: #880000 } /* Name.Constant */\n",
       ".output_html .nd { color: #AA22FF } /* Name.Decorator */\n",
       ".output_html .ni { color: #717171; font-weight: bold } /* Name.Entity */\n",
       ".output_html .ne { color: #CB3F38; font-weight: bold } /* Name.Exception */\n",
       ".output_html .nf { color: #0000FF } /* Name.Function */\n",
       ".output_html .nl { color: #767600 } /* Name.Label */\n",
       ".output_html .nn { color: #0000FF; font-weight: bold } /* Name.Namespace */\n",
       ".output_html .nt { color: #008000; font-weight: bold } /* Name.Tag */\n",
       ".output_html .nv { color: #19177C } /* Name.Variable */\n",
       ".output_html .ow { color: #AA22FF; font-weight: bold } /* Operator.Word */\n",
       ".output_html .w { color: #bbbbbb } /* Text.Whitespace */\n",
       ".output_html .mb { color: #666666 } /* Literal.Number.Bin */\n",
       ".output_html .mf { color: #666666 } /* Literal.Number.Float */\n",
       ".output_html .mh { color: #666666 } /* Literal.Number.Hex */\n",
       ".output_html .mi { color: #666666 } /* Literal.Number.Integer */\n",
       ".output_html .mo { color: #666666 } /* Literal.Number.Oct */\n",
       ".output_html .sa { color: #BA2121 } /* Literal.String.Affix */\n",
       ".output_html .sb { color: #BA2121 } /* Literal.String.Backtick */\n",
       ".output_html .sc { color: #BA2121 } /* Literal.String.Char */\n",
       ".output_html .dl { color: #BA2121 } /* Literal.String.Delimiter */\n",
       ".output_html .sd { color: #BA2121; font-style: italic } /* Literal.String.Doc */\n",
       ".output_html .s2 { color: #BA2121 } /* Literal.String.Double */\n",
       ".output_html .se { color: #AA5D1F; font-weight: bold } /* Literal.String.Escape */\n",
       ".output_html .sh { color: #BA2121 } /* Literal.String.Heredoc */\n",
       ".output_html .si { color: #A45A77; font-weight: bold } /* Literal.String.Interpol */\n",
       ".output_html .sx { color: #008000 } /* Literal.String.Other */\n",
       ".output_html .sr { color: #A45A77 } /* Literal.String.Regex */\n",
       ".output_html .s1 { color: #BA2121 } /* Literal.String.Single */\n",
       ".output_html .ss { color: #19177C } /* Literal.String.Symbol */\n",
       ".output_html .bp { color: #008000 } /* Name.Builtin.Pseudo */\n",
       ".output_html .fm { color: #0000FF } /* Name.Function.Magic */\n",
       ".output_html .vc { color: #19177C } /* Name.Variable.Class */\n",
       ".output_html .vg { color: #19177C } /* Name.Variable.Global */\n",
       ".output_html .vi { color: #19177C } /* Name.Variable.Instance */\n",
       ".output_html .vm { color: #19177C } /* Name.Variable.Magic */\n",
       ".output_html .il { color: #666666 } /* Literal.Number.Integer.Long */</style><div class=\"highlight\"><pre><span></span><span class=\"sd\">&#39;&#39;&#39;</span>\n",
       "<span class=\"sd\">Recursion Tools</span>\n",
       "<span class=\"sd\">===============</span>\n",
       "\n",
       "<span class=\"sd\">Contain tools to print the call stack and cache the return values</span>\n",
       "<span class=\"sd\">of a recursive function.</span>\n",
       "<span class=\"sd\">&#39;&#39;&#39;</span>\n",
       "\n",
       "<span class=\"kn\">import</span> <span class=\"nn\">functools</span>\n",
       "\n",
       "\n",
       "<span class=\"k\">def</span> <span class=\"nf\">_argument_string</span><span class=\"p\">(</span><span class=\"o\">*</span><span class=\"n\">args</span><span class=\"p\">,</span> <span class=\"o\">**</span><span class=\"n\">kwargs</span><span class=\"p\">):</span>\n",
       "    <span class=\"sd\">&quot;&quot;&quot;Return the string representation of the list of arguments.&quot;&quot;&quot;</span>\n",
       "    <span class=\"k\">return</span> <span class=\"s2\">&quot;(</span><span class=\"si\">{}</span><span class=\"s2\">)&quot;</span><span class=\"o\">.</span><span class=\"n\">format</span><span class=\"p\">(</span>\n",
       "        <span class=\"s2\">&quot;, &quot;</span><span class=\"o\">.</span><span class=\"n\">join</span><span class=\"p\">(</span>\n",
       "            <span class=\"p\">[</span>\n",
       "                <span class=\"o\">*</span><span class=\"p\">[</span><span class=\"s2\">&quot;</span><span class=\"si\">{!r}</span><span class=\"s2\">&quot;</span><span class=\"o\">.</span><span class=\"n\">format</span><span class=\"p\">(</span><span class=\"n\">v</span><span class=\"p\">)</span> <span class=\"k\">for</span> <span class=\"n\">v</span> <span class=\"ow\">in</span> <span class=\"n\">args</span><span class=\"p\">],</span>  <span class=\"c1\"># arguments</span>\n",
       "                <span class=\"o\">*</span><span class=\"p\">[</span>\n",
       "                    <span class=\"s2\">&quot;</span><span class=\"si\">{}</span><span class=\"s2\">=</span><span class=\"si\">{!r}</span><span class=\"s2\">&quot;</span><span class=\"o\">.</span><span class=\"n\">format</span><span class=\"p\">(</span><span class=\"n\">k</span><span class=\"p\">,</span> <span class=\"n\">v</span><span class=\"p\">)</span> <span class=\"k\">for</span> <span class=\"n\">k</span><span class=\"p\">,</span> <span class=\"n\">v</span> <span class=\"ow\">in</span> <span class=\"n\">kwargs</span><span class=\"o\">.</span><span class=\"n\">items</span><span class=\"p\">()</span>\n",
       "                <span class=\"p\">],</span>  <span class=\"c1\"># keyword arguments</span>\n",
       "            <span class=\"p\">]</span>\n",
       "        <span class=\"p\">)</span>\n",
       "    <span class=\"p\">)</span>\n",
       "\n",
       "\n",
       "<span class=\"k\">def</span> <span class=\"nf\">print_function_call</span><span class=\"p\">(</span><span class=\"n\">f</span><span class=\"p\">):</span>\n",
       "    <span class=\"sd\">&quot;&quot;&quot;Decorate a recursive function to print the call stack.</span>\n",
       "\n",
       "<span class=\"sd\">    The decorator also keep tracks of the number and depth of a recursive call to print the call stack.</span>\n",
       "\n",
       "<span class=\"sd\">    Parameters</span>\n",
       "<span class=\"sd\">    ----------</span>\n",
       "<span class=\"sd\">    f: Callable</span>\n",
       "<span class=\"sd\">        A recursive function.</span>\n",
       "\n",
       "<span class=\"sd\">    Returns</span>\n",
       "<span class=\"sd\">    -------</span>\n",
       "<span class=\"sd\">    Callable:</span>\n",
       "<span class=\"sd\">        The decorated function that also prints the function call</span>\n",
       "<span class=\"sd\">        when called.</span>\n",
       "\n",
       "<span class=\"sd\">    Examples</span>\n",
       "<span class=\"sd\">    --------</span>\n",
       "<span class=\"sd\">    &gt;&gt;&gt; @print_function_call</span>\n",
       "<span class=\"sd\">    ... def fibonacci(n):</span>\n",
       "<span class=\"sd\">    ...     return fibonacci(n - 1) + fibonacci(n - 2) if n &gt; 1 else 1 if n == 1 else 0</span>\n",
       "<span class=\"sd\">    ...</span>\n",
       "<span class=\"sd\">    &gt;&gt;&gt; fibonacci(5)</span>\n",
       "<span class=\"sd\">      1:fibonacci(5)</span>\n",
       "<span class=\"sd\">      2:|fibonacci(4)</span>\n",
       "<span class=\"sd\">      3:||fibonacci(3)</span>\n",
       "<span class=\"sd\">      4:|||fibonacci(2)</span>\n",
       "<span class=\"sd\">      5:||||fibonacci(1)</span>\n",
       "<span class=\"sd\">      6:||||fibonacci(0)</span>\n",
       "<span class=\"sd\">      7:|||fibonacci(1)</span>\n",
       "<span class=\"sd\">      8:||fibonacci(2)</span>\n",
       "<span class=\"sd\">      9:|||fibonacci(1)</span>\n",
       "<span class=\"sd\">     10:|||fibonacci(0)</span>\n",
       "<span class=\"sd\">     11:|fibonacci(3)</span>\n",
       "<span class=\"sd\">     12:||fibonacci(2)</span>\n",
       "<span class=\"sd\">     13:|||fibonacci(1)</span>\n",
       "<span class=\"sd\">     14:|||fibonacci(0)</span>\n",
       "<span class=\"sd\">     15:||fibonacci(1)</span>\n",
       "<span class=\"sd\">    Done</span>\n",
       "<span class=\"sd\">    5</span>\n",
       "<span class=\"sd\">    &quot;&quot;&quot;</span>\n",
       "\n",
       "    <span class=\"nd\">@functools</span><span class=\"o\">.</span><span class=\"n\">wraps</span><span class=\"p\">(</span><span class=\"n\">f</span><span class=\"p\">)</span>  <span class=\"c1\"># give wrapper the identity of f and more</span>\n",
       "    <span class=\"k\">def</span> <span class=\"nf\">wrapper</span><span class=\"p\">(</span><span class=\"o\">*</span><span class=\"n\">args</span><span class=\"p\">,</span> <span class=\"o\">**</span><span class=\"n\">kwargs</span><span class=\"p\">):</span>\n",
       "        <span class=\"k\">nonlocal</span> <span class=\"n\">count</span><span class=\"p\">,</span> <span class=\"n\">depth</span>\n",
       "        <span class=\"n\">count</span> <span class=\"o\">+=</span> <span class=\"mi\">1</span>\n",
       "        <span class=\"n\">depth</span> <span class=\"o\">+=</span> <span class=\"mi\">1</span>\n",
       "        <span class=\"n\">call</span> <span class=\"o\">=</span> <span class=\"s2\">&quot;</span><span class=\"si\">{}{}</span><span class=\"s2\">&quot;</span><span class=\"o\">.</span><span class=\"n\">format</span><span class=\"p\">(</span><span class=\"n\">f</span><span class=\"o\">.</span><span class=\"vm\">__name__</span><span class=\"p\">,</span> <span class=\"n\">_argument_string</span><span class=\"p\">(</span><span class=\"o\">*</span><span class=\"n\">args</span><span class=\"p\">,</span> <span class=\"o\">**</span><span class=\"n\">kwargs</span><span class=\"p\">))</span>\n",
       "        <span class=\"nb\">print</span><span class=\"p\">(</span><span class=\"s2\">&quot;</span><span class=\"si\">{:&gt;3}</span><span class=\"s2\">:</span><span class=\"si\">{}{}</span><span class=\"s2\">&quot;</span><span class=\"o\">.</span><span class=\"n\">format</span><span class=\"p\">(</span><span class=\"n\">count</span><span class=\"p\">,</span> <span class=\"s2\">&quot;|&quot;</span> <span class=\"o\">*</span> <span class=\"n\">depth</span><span class=\"p\">,</span> <span class=\"n\">call</span><span class=\"p\">))</span>\n",
       "\n",
       "        <span class=\"n\">value</span> <span class=\"o\">=</span> <span class=\"n\">f</span><span class=\"p\">(</span><span class=\"o\">*</span><span class=\"n\">args</span><span class=\"p\">,</span> <span class=\"o\">**</span><span class=\"n\">kwargs</span><span class=\"p\">)</span>  <span class=\"c1\"># calls f</span>\n",
       "\n",
       "        <span class=\"n\">depth</span> <span class=\"o\">-=</span> <span class=\"mi\">1</span>\n",
       "        <span class=\"k\">if</span> <span class=\"n\">depth</span> <span class=\"o\">==</span> <span class=\"o\">-</span><span class=\"mi\">1</span><span class=\"p\">:</span>\n",
       "            <span class=\"nb\">print</span><span class=\"p\">(</span><span class=\"s2\">&quot;Done&quot;</span><span class=\"p\">)</span>\n",
       "            <span class=\"n\">count</span> <span class=\"o\">=</span> <span class=\"mi\">0</span>\n",
       "        <span class=\"k\">return</span> <span class=\"n\">value</span>\n",
       "\n",
       "    <span class=\"n\">count</span><span class=\"p\">,</span> <span class=\"n\">depth</span> <span class=\"o\">=</span> <span class=\"mi\">0</span><span class=\"p\">,</span> <span class=\"o\">-</span><span class=\"mi\">1</span>\n",
       "    <span class=\"k\">return</span> <span class=\"n\">wrapper</span>  <span class=\"c1\"># return the decorated function</span>\n",
       "\n",
       "\n",
       "<span class=\"k\">def</span> <span class=\"nf\">caching</span><span class=\"p\">(</span><span class=\"n\">f</span><span class=\"p\">):</span>\n",
       "    <span class=\"sd\">&quot;&quot;&quot;Cache the return value of a function that takes a single argument.</span>\n",
       "\n",
       "<span class=\"sd\">    Parameters</span>\n",
       "<span class=\"sd\">    ----------</span>\n",
       "<span class=\"sd\">    f: Callable</span>\n",
       "<span class=\"sd\">        A function that takes a single argument.</span>\n",
       "\n",
       "<span class=\"sd\">    Returns</span>\n",
       "<span class=\"sd\">    -------</span>\n",
       "<span class=\"sd\">    Callable:</span>\n",
       "<span class=\"sd\">        The function same as f but has its return valued automatically cached</span>\n",
       "<span class=\"sd\">        when called. It has a method clear_cache to clear its cache.</span>\n",
       "\n",
       "<span class=\"sd\">    Examples</span>\n",
       "<span class=\"sd\">    --------</span>\n",
       "<span class=\"sd\">    &gt;&gt;&gt; @print_function_call</span>\n",
       "<span class=\"sd\">    ... @caching</span>\n",
       "<span class=\"sd\">    ... def fibonacci(n):</span>\n",
       "<span class=\"sd\">    ...     return fibonacci(n - 1) + fibonacci(n - 2) if n &gt; 1 else 1 if n == 1 else 0</span>\n",
       "<span class=\"sd\">    ...</span>\n",
       "<span class=\"sd\">    &gt;&gt;&gt; fibonacci(5)</span>\n",
       "<span class=\"sd\">      1:fibonacci(5)</span>\n",
       "<span class=\"sd\">      2:|fibonacci(4)</span>\n",
       "<span class=\"sd\">      3:||fibonacci(3)</span>\n",
       "<span class=\"sd\">      4:|||fibonacci(2)</span>\n",
       "<span class=\"sd\">      5:||||fibonacci(1)</span>\n",
       "<span class=\"sd\">      6:||||fibonacci(0)</span>\n",
       "<span class=\"sd\">      7:|||fibonacci(1)</span>\n",
       "<span class=\"sd\">    read from cache</span>\n",
       "<span class=\"sd\">      8:||fibonacci(2)</span>\n",
       "<span class=\"sd\">    read from cache</span>\n",
       "<span class=\"sd\">      9:|fibonacci(3)</span>\n",
       "<span class=\"sd\">    read from cache</span>\n",
       "<span class=\"sd\">    Done</span>\n",
       "<span class=\"sd\">    5</span>\n",
       "<span class=\"sd\">    &gt;&gt;&gt; fibonacci(5)</span>\n",
       "<span class=\"sd\">      1:fibonacci(5)</span>\n",
       "<span class=\"sd\">    read from cache</span>\n",
       "<span class=\"sd\">    Done</span>\n",
       "<span class=\"sd\">    5</span>\n",
       "<span class=\"sd\">    &gt;&gt;&gt; fibonacci.clear_cache()</span>\n",
       "<span class=\"sd\">    &gt;&gt;&gt; fibonacci(5)</span>\n",
       "<span class=\"sd\">      1:fibonacci(5)</span>\n",
       "<span class=\"sd\">      2:|fibonacci(4)</span>\n",
       "<span class=\"sd\">      3:||fibonacci(3)</span>\n",
       "<span class=\"sd\">      4:|||fibonacci(2)</span>\n",
       "<span class=\"sd\">      5:||||fibonacci(1)</span>\n",
       "<span class=\"sd\">      6:||||fibonacci(0)</span>\n",
       "<span class=\"sd\">      7:|||fibonacci(1)</span>\n",
       "<span class=\"sd\">    read from cache</span>\n",
       "<span class=\"sd\">      8:||fibonacci(2)</span>\n",
       "<span class=\"sd\">    read from cache</span>\n",
       "<span class=\"sd\">      9:|fibonacci(3)</span>\n",
       "<span class=\"sd\">    read from cache</span>\n",
       "<span class=\"sd\">    Done</span>\n",
       "<span class=\"sd\">    5</span>\n",
       "<span class=\"sd\">    &quot;&quot;&quot;</span>\n",
       "\n",
       "    <span class=\"nd\">@functools</span><span class=\"o\">.</span><span class=\"n\">wraps</span><span class=\"p\">(</span><span class=\"n\">f</span><span class=\"p\">)</span>\n",
       "    <span class=\"k\">def</span> <span class=\"nf\">wrapper</span><span class=\"p\">(</span><span class=\"n\">n</span><span class=\"p\">):</span>\n",
       "        <span class=\"k\">if</span> <span class=\"n\">n</span> <span class=\"ow\">not</span> <span class=\"ow\">in</span> <span class=\"n\">cache</span><span class=\"p\">:</span>\n",
       "            <span class=\"n\">cache</span><span class=\"p\">[</span><span class=\"n\">n</span><span class=\"p\">]</span> <span class=\"o\">=</span> <span class=\"n\">f</span><span class=\"p\">(</span><span class=\"n\">n</span><span class=\"p\">)</span>\n",
       "        <span class=\"k\">else</span><span class=\"p\">:</span>\n",
       "            <span class=\"nb\">print</span><span class=\"p\">(</span><span class=\"s2\">&quot;read from cache&quot;</span><span class=\"p\">)</span>\n",
       "        <span class=\"k\">return</span> <span class=\"n\">cache</span><span class=\"p\">[</span><span class=\"n\">n</span><span class=\"p\">]</span>\n",
       "\n",
       "    <span class=\"n\">cache</span> <span class=\"o\">=</span> <span class=\"p\">{}</span>\n",
       "    <span class=\"n\">wrapper</span><span class=\"o\">.</span><span class=\"n\">clear_cache</span> <span class=\"o\">=</span> <span class=\"k\">lambda</span><span class=\"p\">:</span> <span class=\"n\">cache</span><span class=\"o\">.</span><span class=\"n\">clear</span><span class=\"p\">()</span>  <span class=\"c1\"># add method to clear cache</span>\n",
       "    <span class=\"k\">return</span> <span class=\"n\">wrapper</span>\n",
       "</pre></div>\n"
      ],
      "text/latex": [
       "\\begin{Verbatim}[commandchars=\\\\\\{\\}]\n",
       "\\PY{l+s+sd}{\\PYZsq{}\\PYZsq{}\\PYZsq{}}\n",
       "\\PY{l+s+sd}{Recursion Tools}\n",
       "\\PY{l+s+sd}{===============}\n",
       "\n",
       "\\PY{l+s+sd}{Contain tools to print the call stack and cache the return values}\n",
       "\\PY{l+s+sd}{of a recursive function.}\n",
       "\\PY{l+s+sd}{\\PYZsq{}\\PYZsq{}\\PYZsq{}}\n",
       "\n",
       "\\PY{k+kn}{import} \\PY{n+nn}{functools}\n",
       "\n",
       "\n",
       "\\PY{k}{def} \\PY{n+nf}{\\PYZus{}argument\\PYZus{}string}\\PY{p}{(}\\PY{o}{*}\\PY{n}{args}\\PY{p}{,} \\PY{o}{*}\\PY{o}{*}\\PY{n}{kwargs}\\PY{p}{)}\\PY{p}{:}\n",
       "    \\PY{l+s+sd}{\\PYZdq{}\\PYZdq{}\\PYZdq{}Return the string representation of the list of arguments.\\PYZdq{}\\PYZdq{}\\PYZdq{}}\n",
       "    \\PY{k}{return} \\PY{l+s+s2}{\\PYZdq{}}\\PY{l+s+s2}{(}\\PY{l+s+si}{\\PYZob{}\\PYZcb{}}\\PY{l+s+s2}{)}\\PY{l+s+s2}{\\PYZdq{}}\\PY{o}{.}\\PY{n}{format}\\PY{p}{(}\n",
       "        \\PY{l+s+s2}{\\PYZdq{}}\\PY{l+s+s2}{, }\\PY{l+s+s2}{\\PYZdq{}}\\PY{o}{.}\\PY{n}{join}\\PY{p}{(}\n",
       "            \\PY{p}{[}\n",
       "                \\PY{o}{*}\\PY{p}{[}\\PY{l+s+s2}{\\PYZdq{}}\\PY{l+s+si}{\\PYZob{}!r\\PYZcb{}}\\PY{l+s+s2}{\\PYZdq{}}\\PY{o}{.}\\PY{n}{format}\\PY{p}{(}\\PY{n}{v}\\PY{p}{)} \\PY{k}{for} \\PY{n}{v} \\PY{o+ow}{in} \\PY{n}{args}\\PY{p}{]}\\PY{p}{,}  \\PY{c+c1}{\\PYZsh{} arguments}\n",
       "                \\PY{o}{*}\\PY{p}{[}\n",
       "                    \\PY{l+s+s2}{\\PYZdq{}}\\PY{l+s+si}{\\PYZob{}\\PYZcb{}}\\PY{l+s+s2}{=}\\PY{l+s+si}{\\PYZob{}!r\\PYZcb{}}\\PY{l+s+s2}{\\PYZdq{}}\\PY{o}{.}\\PY{n}{format}\\PY{p}{(}\\PY{n}{k}\\PY{p}{,} \\PY{n}{v}\\PY{p}{)} \\PY{k}{for} \\PY{n}{k}\\PY{p}{,} \\PY{n}{v} \\PY{o+ow}{in} \\PY{n}{kwargs}\\PY{o}{.}\\PY{n}{items}\\PY{p}{(}\\PY{p}{)}\n",
       "                \\PY{p}{]}\\PY{p}{,}  \\PY{c+c1}{\\PYZsh{} keyword arguments}\n",
       "            \\PY{p}{]}\n",
       "        \\PY{p}{)}\n",
       "    \\PY{p}{)}\n",
       "\n",
       "\n",
       "\\PY{k}{def} \\PY{n+nf}{print\\PYZus{}function\\PYZus{}call}\\PY{p}{(}\\PY{n}{f}\\PY{p}{)}\\PY{p}{:}\n",
       "    \\PY{l+s+sd}{\\PYZdq{}\\PYZdq{}\\PYZdq{}Decorate a recursive function to print the call stack.}\n",
       "\n",
       "\\PY{l+s+sd}{    The decorator also keep tracks of the number and depth of a recursive call to print the call stack.}\n",
       "\n",
       "\\PY{l+s+sd}{    Parameters}\n",
       "\\PY{l+s+sd}{    \\PYZhy{}\\PYZhy{}\\PYZhy{}\\PYZhy{}\\PYZhy{}\\PYZhy{}\\PYZhy{}\\PYZhy{}\\PYZhy{}\\PYZhy{}}\n",
       "\\PY{l+s+sd}{    f: Callable}\n",
       "\\PY{l+s+sd}{        A recursive function.}\n",
       "\n",
       "\\PY{l+s+sd}{    Returns}\n",
       "\\PY{l+s+sd}{    \\PYZhy{}\\PYZhy{}\\PYZhy{}\\PYZhy{}\\PYZhy{}\\PYZhy{}\\PYZhy{}}\n",
       "\\PY{l+s+sd}{    Callable:}\n",
       "\\PY{l+s+sd}{        The decorated function that also prints the function call}\n",
       "\\PY{l+s+sd}{        when called.}\n",
       "\n",
       "\\PY{l+s+sd}{    Examples}\n",
       "\\PY{l+s+sd}{    \\PYZhy{}\\PYZhy{}\\PYZhy{}\\PYZhy{}\\PYZhy{}\\PYZhy{}\\PYZhy{}\\PYZhy{}}\n",
       "\\PY{l+s+sd}{    \\PYZgt{}\\PYZgt{}\\PYZgt{} @print\\PYZus{}function\\PYZus{}call}\n",
       "\\PY{l+s+sd}{    ... def fibonacci(n):}\n",
       "\\PY{l+s+sd}{    ...     return fibonacci(n \\PYZhy{} 1) + fibonacci(n \\PYZhy{} 2) if n \\PYZgt{} 1 else 1 if n == 1 else 0}\n",
       "\\PY{l+s+sd}{    ...}\n",
       "\\PY{l+s+sd}{    \\PYZgt{}\\PYZgt{}\\PYZgt{} fibonacci(5)}\n",
       "\\PY{l+s+sd}{      1:fibonacci(5)}\n",
       "\\PY{l+s+sd}{      2:|fibonacci(4)}\n",
       "\\PY{l+s+sd}{      3:||fibonacci(3)}\n",
       "\\PY{l+s+sd}{      4:|||fibonacci(2)}\n",
       "\\PY{l+s+sd}{      5:||||fibonacci(1)}\n",
       "\\PY{l+s+sd}{      6:||||fibonacci(0)}\n",
       "\\PY{l+s+sd}{      7:|||fibonacci(1)}\n",
       "\\PY{l+s+sd}{      8:||fibonacci(2)}\n",
       "\\PY{l+s+sd}{      9:|||fibonacci(1)}\n",
       "\\PY{l+s+sd}{     10:|||fibonacci(0)}\n",
       "\\PY{l+s+sd}{     11:|fibonacci(3)}\n",
       "\\PY{l+s+sd}{     12:||fibonacci(2)}\n",
       "\\PY{l+s+sd}{     13:|||fibonacci(1)}\n",
       "\\PY{l+s+sd}{     14:|||fibonacci(0)}\n",
       "\\PY{l+s+sd}{     15:||fibonacci(1)}\n",
       "\\PY{l+s+sd}{    Done}\n",
       "\\PY{l+s+sd}{    5}\n",
       "\\PY{l+s+sd}{    \\PYZdq{}\\PYZdq{}\\PYZdq{}}\n",
       "\n",
       "    \\PY{n+nd}{@functools}\\PY{o}{.}\\PY{n}{wraps}\\PY{p}{(}\\PY{n}{f}\\PY{p}{)}  \\PY{c+c1}{\\PYZsh{} give wrapper the identity of f and more}\n",
       "    \\PY{k}{def} \\PY{n+nf}{wrapper}\\PY{p}{(}\\PY{o}{*}\\PY{n}{args}\\PY{p}{,} \\PY{o}{*}\\PY{o}{*}\\PY{n}{kwargs}\\PY{p}{)}\\PY{p}{:}\n",
       "        \\PY{k}{nonlocal} \\PY{n}{count}\\PY{p}{,} \\PY{n}{depth}\n",
       "        \\PY{n}{count} \\PY{o}{+}\\PY{o}{=} \\PY{l+m+mi}{1}\n",
       "        \\PY{n}{depth} \\PY{o}{+}\\PY{o}{=} \\PY{l+m+mi}{1}\n",
       "        \\PY{n}{call} \\PY{o}{=} \\PY{l+s+s2}{\\PYZdq{}}\\PY{l+s+si}{\\PYZob{}\\PYZcb{}}\\PY{l+s+si}{\\PYZob{}\\PYZcb{}}\\PY{l+s+s2}{\\PYZdq{}}\\PY{o}{.}\\PY{n}{format}\\PY{p}{(}\\PY{n}{f}\\PY{o}{.}\\PY{n+nv+vm}{\\PYZus{}\\PYZus{}name\\PYZus{}\\PYZus{}}\\PY{p}{,} \\PY{n}{\\PYZus{}argument\\PYZus{}string}\\PY{p}{(}\\PY{o}{*}\\PY{n}{args}\\PY{p}{,} \\PY{o}{*}\\PY{o}{*}\\PY{n}{kwargs}\\PY{p}{)}\\PY{p}{)}\n",
       "        \\PY{n+nb}{print}\\PY{p}{(}\\PY{l+s+s2}{\\PYZdq{}}\\PY{l+s+si}{\\PYZob{}:\\PYZgt{}3\\PYZcb{}}\\PY{l+s+s2}{:}\\PY{l+s+si}{\\PYZob{}\\PYZcb{}}\\PY{l+s+si}{\\PYZob{}\\PYZcb{}}\\PY{l+s+s2}{\\PYZdq{}}\\PY{o}{.}\\PY{n}{format}\\PY{p}{(}\\PY{n}{count}\\PY{p}{,} \\PY{l+s+s2}{\\PYZdq{}}\\PY{l+s+s2}{|}\\PY{l+s+s2}{\\PYZdq{}} \\PY{o}{*} \\PY{n}{depth}\\PY{p}{,} \\PY{n}{call}\\PY{p}{)}\\PY{p}{)}\n",
       "\n",
       "        \\PY{n}{value} \\PY{o}{=} \\PY{n}{f}\\PY{p}{(}\\PY{o}{*}\\PY{n}{args}\\PY{p}{,} \\PY{o}{*}\\PY{o}{*}\\PY{n}{kwargs}\\PY{p}{)}  \\PY{c+c1}{\\PYZsh{} calls f}\n",
       "\n",
       "        \\PY{n}{depth} \\PY{o}{\\PYZhy{}}\\PY{o}{=} \\PY{l+m+mi}{1}\n",
       "        \\PY{k}{if} \\PY{n}{depth} \\PY{o}{==} \\PY{o}{\\PYZhy{}}\\PY{l+m+mi}{1}\\PY{p}{:}\n",
       "            \\PY{n+nb}{print}\\PY{p}{(}\\PY{l+s+s2}{\\PYZdq{}}\\PY{l+s+s2}{Done}\\PY{l+s+s2}{\\PYZdq{}}\\PY{p}{)}\n",
       "            \\PY{n}{count} \\PY{o}{=} \\PY{l+m+mi}{0}\n",
       "        \\PY{k}{return} \\PY{n}{value}\n",
       "\n",
       "    \\PY{n}{count}\\PY{p}{,} \\PY{n}{depth} \\PY{o}{=} \\PY{l+m+mi}{0}\\PY{p}{,} \\PY{o}{\\PYZhy{}}\\PY{l+m+mi}{1}\n",
       "    \\PY{k}{return} \\PY{n}{wrapper}  \\PY{c+c1}{\\PYZsh{} return the decorated function}\n",
       "\n",
       "\n",
       "\\PY{k}{def} \\PY{n+nf}{caching}\\PY{p}{(}\\PY{n}{f}\\PY{p}{)}\\PY{p}{:}\n",
       "    \\PY{l+s+sd}{\\PYZdq{}\\PYZdq{}\\PYZdq{}Cache the return value of a function that takes a single argument.}\n",
       "\n",
       "\\PY{l+s+sd}{    Parameters}\n",
       "\\PY{l+s+sd}{    \\PYZhy{}\\PYZhy{}\\PYZhy{}\\PYZhy{}\\PYZhy{}\\PYZhy{}\\PYZhy{}\\PYZhy{}\\PYZhy{}\\PYZhy{}}\n",
       "\\PY{l+s+sd}{    f: Callable}\n",
       "\\PY{l+s+sd}{        A function that takes a single argument.}\n",
       "\n",
       "\\PY{l+s+sd}{    Returns}\n",
       "\\PY{l+s+sd}{    \\PYZhy{}\\PYZhy{}\\PYZhy{}\\PYZhy{}\\PYZhy{}\\PYZhy{}\\PYZhy{}}\n",
       "\\PY{l+s+sd}{    Callable:}\n",
       "\\PY{l+s+sd}{        The function same as f but has its return valued automatically cached}\n",
       "\\PY{l+s+sd}{        when called. It has a method clear\\PYZus{}cache to clear its cache.}\n",
       "\n",
       "\\PY{l+s+sd}{    Examples}\n",
       "\\PY{l+s+sd}{    \\PYZhy{}\\PYZhy{}\\PYZhy{}\\PYZhy{}\\PYZhy{}\\PYZhy{}\\PYZhy{}\\PYZhy{}}\n",
       "\\PY{l+s+sd}{    \\PYZgt{}\\PYZgt{}\\PYZgt{} @print\\PYZus{}function\\PYZus{}call}\n",
       "\\PY{l+s+sd}{    ... @caching}\n",
       "\\PY{l+s+sd}{    ... def fibonacci(n):}\n",
       "\\PY{l+s+sd}{    ...     return fibonacci(n \\PYZhy{} 1) + fibonacci(n \\PYZhy{} 2) if n \\PYZgt{} 1 else 1 if n == 1 else 0}\n",
       "\\PY{l+s+sd}{    ...}\n",
       "\\PY{l+s+sd}{    \\PYZgt{}\\PYZgt{}\\PYZgt{} fibonacci(5)}\n",
       "\\PY{l+s+sd}{      1:fibonacci(5)}\n",
       "\\PY{l+s+sd}{      2:|fibonacci(4)}\n",
       "\\PY{l+s+sd}{      3:||fibonacci(3)}\n",
       "\\PY{l+s+sd}{      4:|||fibonacci(2)}\n",
       "\\PY{l+s+sd}{      5:||||fibonacci(1)}\n",
       "\\PY{l+s+sd}{      6:||||fibonacci(0)}\n",
       "\\PY{l+s+sd}{      7:|||fibonacci(1)}\n",
       "\\PY{l+s+sd}{    read from cache}\n",
       "\\PY{l+s+sd}{      8:||fibonacci(2)}\n",
       "\\PY{l+s+sd}{    read from cache}\n",
       "\\PY{l+s+sd}{      9:|fibonacci(3)}\n",
       "\\PY{l+s+sd}{    read from cache}\n",
       "\\PY{l+s+sd}{    Done}\n",
       "\\PY{l+s+sd}{    5}\n",
       "\\PY{l+s+sd}{    \\PYZgt{}\\PYZgt{}\\PYZgt{} fibonacci(5)}\n",
       "\\PY{l+s+sd}{      1:fibonacci(5)}\n",
       "\\PY{l+s+sd}{    read from cache}\n",
       "\\PY{l+s+sd}{    Done}\n",
       "\\PY{l+s+sd}{    5}\n",
       "\\PY{l+s+sd}{    \\PYZgt{}\\PYZgt{}\\PYZgt{} fibonacci.clear\\PYZus{}cache()}\n",
       "\\PY{l+s+sd}{    \\PYZgt{}\\PYZgt{}\\PYZgt{} fibonacci(5)}\n",
       "\\PY{l+s+sd}{      1:fibonacci(5)}\n",
       "\\PY{l+s+sd}{      2:|fibonacci(4)}\n",
       "\\PY{l+s+sd}{      3:||fibonacci(3)}\n",
       "\\PY{l+s+sd}{      4:|||fibonacci(2)}\n",
       "\\PY{l+s+sd}{      5:||||fibonacci(1)}\n",
       "\\PY{l+s+sd}{      6:||||fibonacci(0)}\n",
       "\\PY{l+s+sd}{      7:|||fibonacci(1)}\n",
       "\\PY{l+s+sd}{    read from cache}\n",
       "\\PY{l+s+sd}{      8:||fibonacci(2)}\n",
       "\\PY{l+s+sd}{    read from cache}\n",
       "\\PY{l+s+sd}{      9:|fibonacci(3)}\n",
       "\\PY{l+s+sd}{    read from cache}\n",
       "\\PY{l+s+sd}{    Done}\n",
       "\\PY{l+s+sd}{    5}\n",
       "\\PY{l+s+sd}{    \\PYZdq{}\\PYZdq{}\\PYZdq{}}\n",
       "\n",
       "    \\PY{n+nd}{@functools}\\PY{o}{.}\\PY{n}{wraps}\\PY{p}{(}\\PY{n}{f}\\PY{p}{)}\n",
       "    \\PY{k}{def} \\PY{n+nf}{wrapper}\\PY{p}{(}\\PY{n}{n}\\PY{p}{)}\\PY{p}{:}\n",
       "        \\PY{k}{if} \\PY{n}{n} \\PY{o+ow}{not} \\PY{o+ow}{in} \\PY{n}{cache}\\PY{p}{:}\n",
       "            \\PY{n}{cache}\\PY{p}{[}\\PY{n}{n}\\PY{p}{]} \\PY{o}{=} \\PY{n}{f}\\PY{p}{(}\\PY{n}{n}\\PY{p}{)}\n",
       "        \\PY{k}{else}\\PY{p}{:}\n",
       "            \\PY{n+nb}{print}\\PY{p}{(}\\PY{l+s+s2}{\\PYZdq{}}\\PY{l+s+s2}{read from cache}\\PY{l+s+s2}{\\PYZdq{}}\\PY{p}{)}\n",
       "        \\PY{k}{return} \\PY{n}{cache}\\PY{p}{[}\\PY{n}{n}\\PY{p}{]}\n",
       "\n",
       "    \\PY{n}{cache} \\PY{o}{=} \\PY{p}{\\PYZob{}}\\PY{p}{\\PYZcb{}}\n",
       "    \\PY{n}{wrapper}\\PY{o}{.}\\PY{n}{clear\\PYZus{}cache} \\PY{o}{=} \\PY{k}{lambda}\\PY{p}{:} \\PY{n}{cache}\\PY{o}{.}\\PY{n}{clear}\\PY{p}{(}\\PY{p}{)}  \\PY{c+c1}{\\PYZsh{} add method to clear cache}\n",
       "    \\PY{k}{return} \\PY{n}{wrapper}\n",
       "\\end{Verbatim}\n"
      ],
      "text/plain": [
       "'''\n",
       "Recursion Tools\n",
       "===============\n",
       "\n",
       "Contain tools to print the call stack and cache the return values\n",
       "of a recursive function.\n",
       "'''\n",
       "\n",
       "import functools\n",
       "\n",
       "\n",
       "def _argument_string(*args, **kwargs):\n",
       "    \"\"\"Return the string representation of the list of arguments.\"\"\"\n",
       "    return \"({})\".format(\n",
       "        \", \".join(\n",
       "            [\n",
       "                *[\"{!r}\".format(v) for v in args],  # arguments\n",
       "                *[\n",
       "                    \"{}={!r}\".format(k, v) for k, v in kwargs.items()\n",
       "                ],  # keyword arguments\n",
       "            ]\n",
       "        )\n",
       "    )\n",
       "\n",
       "\n",
       "def print_function_call(f):\n",
       "    \"\"\"Decorate a recursive function to print the call stack.\n",
       "\n",
       "    The decorator also keep tracks of the number and depth of a recursive call to print the call stack.\n",
       "\n",
       "    Parameters\n",
       "    ----------\n",
       "    f: Callable\n",
       "        A recursive function.\n",
       "\n",
       "    Returns\n",
       "    -------\n",
       "    Callable:\n",
       "        The decorated function that also prints the function call\n",
       "        when called.\n",
       "\n",
       "    Examples\n",
       "    --------\n",
       "    >>> @print_function_call\n",
       "    ... def fibonacci(n):\n",
       "    ...     return fibonacci(n - 1) + fibonacci(n - 2) if n > 1 else 1 if n == 1 else 0\n",
       "    ...\n",
       "    >>> fibonacci(5)\n",
       "      1:fibonacci(5)\n",
       "      2:|fibonacci(4)\n",
       "      3:||fibonacci(3)\n",
       "      4:|||fibonacci(2)\n",
       "      5:||||fibonacci(1)\n",
       "      6:||||fibonacci(0)\n",
       "      7:|||fibonacci(1)\n",
       "      8:||fibonacci(2)\n",
       "      9:|||fibonacci(1)\n",
       "     10:|||fibonacci(0)\n",
       "     11:|fibonacci(3)\n",
       "     12:||fibonacci(2)\n",
       "     13:|||fibonacci(1)\n",
       "     14:|||fibonacci(0)\n",
       "     15:||fibonacci(1)\n",
       "    Done\n",
       "    5\n",
       "    \"\"\"\n",
       "\n",
       "    @functools.wraps(f)  # give wrapper the identity of f and more\n",
       "    def wrapper(*args, **kwargs):\n",
       "        nonlocal count, depth\n",
       "        count += 1\n",
       "        depth += 1\n",
       "        call = \"{}{}\".format(f.__name__, _argument_string(*args, **kwargs))\n",
       "        print(\"{:>3}:{}{}\".format(count, \"|\" * depth, call))\n",
       "\n",
       "        value = f(*args, **kwargs)  # calls f\n",
       "\n",
       "        depth -= 1\n",
       "        if depth == -1:\n",
       "            print(\"Done\")\n",
       "            count = 0\n",
       "        return value\n",
       "\n",
       "    count, depth = 0, -1\n",
       "    return wrapper  # return the decorated function\n",
       "\n",
       "\n",
       "def caching(f):\n",
       "    \"\"\"Cache the return value of a function that takes a single argument.\n",
       "\n",
       "    Parameters\n",
       "    ----------\n",
       "    f: Callable\n",
       "        A function that takes a single argument.\n",
       "\n",
       "    Returns\n",
       "    -------\n",
       "    Callable:\n",
       "        The function same as f but has its return valued automatically cached\n",
       "        when called. It has a method clear_cache to clear its cache.\n",
       "\n",
       "    Examples\n",
       "    --------\n",
       "    >>> @print_function_call\n",
       "    ... @caching\n",
       "    ... def fibonacci(n):\n",
       "    ...     return fibonacci(n - 1) + fibonacci(n - 2) if n > 1 else 1 if n == 1 else 0\n",
       "    ...\n",
       "    >>> fibonacci(5)\n",
       "      1:fibonacci(5)\n",
       "      2:|fibonacci(4)\n",
       "      3:||fibonacci(3)\n",
       "      4:|||fibonacci(2)\n",
       "      5:||||fibonacci(1)\n",
       "      6:||||fibonacci(0)\n",
       "      7:|||fibonacci(1)\n",
       "    read from cache\n",
       "      8:||fibonacci(2)\n",
       "    read from cache\n",
       "      9:|fibonacci(3)\n",
       "    read from cache\n",
       "    Done\n",
       "    5\n",
       "    >>> fibonacci(5)\n",
       "      1:fibonacci(5)\n",
       "    read from cache\n",
       "    Done\n",
       "    5\n",
       "    >>> fibonacci.clear_cache()\n",
       "    >>> fibonacci(5)\n",
       "      1:fibonacci(5)\n",
       "      2:|fibonacci(4)\n",
       "      3:||fibonacci(3)\n",
       "      4:|||fibonacci(2)\n",
       "      5:||||fibonacci(1)\n",
       "      6:||||fibonacci(0)\n",
       "      7:|||fibonacci(1)\n",
       "    read from cache\n",
       "      8:||fibonacci(2)\n",
       "    read from cache\n",
       "      9:|fibonacci(3)\n",
       "    read from cache\n",
       "    Done\n",
       "    5\n",
       "    \"\"\"\n",
       "\n",
       "    @functools.wraps(f)\n",
       "    def wrapper(n):\n",
       "        if n not in cache:\n",
       "            cache[n] = f(n)\n",
       "        else:\n",
       "            print(\"read from cache\")\n",
       "        return cache[n]\n",
       "\n",
       "    cache = {}\n",
       "    wrapper.clear_cache = lambda: cache.clear()  # add method to clear cache\n",
       "    return wrapper"
      ]
     },
     "execution_count": 32,
     "metadata": {},
     "output_type": "execute_result"
    }
   ],
   "source": [
    "from IPython.display import Code\n",
    "\n",
    "Code(filename=\"recurtools.py\", language=\"python\")"
   ]
  },
  {
   "cell_type": "markdown",
   "metadata": {},
   "source": [
    "The module provides the decorators `print_function_call` and `caching` defined earlier."
   ]
  },
  {
   "cell_type": "code",
   "execution_count": null,
   "metadata": {
    "ExecuteTime": {
     "end_time": "2020-10-31T02:44:10.246664Z",
     "start_time": "2020-10-31T02:44:10.238773Z"
    },
    "slideshow": {
     "slide_type": "-"
    }
   },
   "outputs": [],
   "source": [
    "import recurtools as rc\n",
    "\n",
    "\n",
    "@rc.print_function_call\n",
    "@rc.caching\n",
    "def factorial(n):\n",
    "    return factorial(n - 1) if n > 1 else 1"
   ]
  },
  {
   "cell_type": "code",
   "execution_count": null,
   "metadata": {
    "ExecuteTime": {
     "end_time": "2020-10-31T02:44:10.254591Z",
     "start_time": "2020-10-31T02:44:10.249209Z"
    },
    "slideshow": {
     "slide_type": "-"
    },
    "tags": []
   },
   "outputs": [
    {
     "name": "stdout",
     "output_type": "stream",
     "text": [
      "  1:factorial(5)\n",
      "  2:|factorial(4)\n",
      "  3:||factorial(3)\n",
      "  4:|||factorial(2)\n",
      "  5:||||factorial(1)\n",
      "Done\n",
      "  1:factorial(5)\n",
      "read from cache\n",
      "Done\n",
      "  1:factorial(5)\n",
      "  2:|factorial(4)\n",
      "  3:||factorial(3)\n",
      "  4:|||factorial(2)\n",
      "  5:||||factorial(1)\n",
      "Done\n"
     ]
    },
    {
     "data": {
      "text/plain": [
       "1"
      ]
     },
     "execution_count": 34,
     "metadata": {},
     "output_type": "execute_result"
    }
   ],
   "source": [
    "factorial(5)\n",
    "factorial(5)\n",
    "factorial.clear_cache()\n",
    "factorial(5)"
   ]
  }
 ],
 "metadata": {
  "celltoolbar": "Create Assignment",
  "kernelspec": {
   "display_name": "Python 3 (ipykernel)",
   "language": "python",
   "name": "python3"
  },
  "language_info": {
   "codemirror_mode": {
    "name": "ipython",
    "version": 3
   },
   "file_extension": ".py",
   "mimetype": "text/x-python",
   "name": "python",
   "nbconvert_exporter": "python",
   "pygments_lexer": "ipython3",
   "version": "3.10.6"
  },
  "latex_envs": {
   "LaTeX_envs_menu_present": true,
   "autoclose": false,
   "autocomplete": true,
   "bibliofile": "biblio.bib",
   "cite_by": "apalike",
   "current_citInitial": 1,
   "eqLabelWithNumbers": true,
   "eqNumInitial": 1,
   "hotkeys": {
    "equation": "Ctrl-E",
    "itemize": "Ctrl-I"
   },
   "labels_anchors": false,
   "latex_user_defs": false,
   "report_style_numbering": false,
   "user_envs_cfg": false
  },
  "rise": {
   "enable_chalkboard": true,
   "scroll": true,
   "theme": "white"
  },
  "toc": {
   "base_numbering": 1,
   "nav_menu": {
    "height": "195px",
    "width": "330px"
   },
   "number_sections": true,
   "sideBar": true,
   "skip_h1_title": true,
   "title_cell": "Table of Contents",
   "title_sidebar": "Contents",
   "toc_cell": false,
   "toc_position": {
    "height": "454.418px",
    "left": "1533px",
    "top": "110.284px",
    "width": "261px"
   },
   "toc_section_display": true,
   "toc_window_display": false
  },
  "widgets": {
   "application/vnd.jupyter.widget-state+json": {
    "state": {},
    "version_major": 2,
    "version_minor": 0
   }
  }
 },
 "nbformat": 4,
 "nbformat_minor": 4
}
