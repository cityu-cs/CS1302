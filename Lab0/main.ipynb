{
 "cells": [
  {
   "cell_type": "code",
   "execution_count": null,
   "id": "0cfbdc18",
   "metadata": {
    "deletable": false,
    "editable": false,
    "tags": [
     "remove-cell"
    ]
   },
   "outputs": [],
   "source": [
    "# Initialization cell\n",
    "try:  # for CS1302 JupyterLite pyodide kernel\n",
    "    import piplite\n",
    "\n",
    "    with open(\"requirements.txt\") as f:\n",
    "        for package in f:\n",
    "            package = package.strip()\n",
    "            print(\"Installing\", package)\n",
    "            await piplite.install(package)\n",
    "except ModuleNotFoundError:\n",
    "    pass\n",
    "\n",
    "import jupytext\n",
    "import otter\n",
    "\n",
    "grader = otter.Notebook(\"main.ipynb\")"
   ]
  },
  {
   "cell_type": "markdown",
   "id": "df814c85",
   "metadata": {
    "slideshow": {
     "slide_type": "slide"
    },
    "tags": []
   },
   "source": [
    "# Lab 0"
   ]
  },
  {
   "cell_type": "markdown",
   "id": "d208821f",
   "metadata": {
    "tags": [
     "remove-cell"
    ]
   },
   "source": [
    "CS1302 Introduction to Computer Programming\n",
    "___"
   ]
  },
  {
   "cell_type": "markdown",
   "id": "cecde69f",
   "metadata": {},
   "source": [
    "## Setup"
   ]
  },
  {
   "cell_type": "markdown",
   "id": "345f46a1",
   "metadata": {
    "slideshow": {
     "slide_type": "slide"
    }
   },
   "source": [
    "### JupyterHub"
   ]
  },
  {
   "cell_type": "markdown",
   "id": "e7904152",
   "metadata": {
    "slideshow": {
     "slide_type": "subslide"
    }
   },
   "source": [
    "#### How to access the JupyterHub server?"
   ]
  },
  {
   "cell_type": "markdown",
   "id": "8cbdb7e9",
   "metadata": {
    "slideshow": {
     "slide_type": "fragment"
    }
   },
   "source": [
    "- Enter the url of the Jupyterhub server [divedeep.cs.cityu.edu.hk/cs1302](https://divedeep.cs.cityu.edu.hk/cs1302) in a web browser.\n",
    "- Enter your [EID](https://www.cityu.edu.hk/esu/eid.htm) and Password in the fields `Username` and `Password` respectively.\n",
    "- Click the `Sign in` button.  \n",
    "\n",
    "  ![log in](images/login.dio.svg)"
   ]
  },
  {
   "cell_type": "markdown",
   "id": "5526250a",
   "metadata": {
    "slideshow": {
     "slide_type": "subslide"
    }
   },
   "source": [
    "- If you are presented with the choices of servers, choose `CS1302` as the server option and click `Start`.  \n",
    "\n",
    "  ![server options](images/serveroptions.dio.svg)"
   ]
  },
  {
   "cell_type": "markdown",
   "id": "4076c2af",
   "metadata": {},
   "source": [
    "```{note}\n",
    "\n",
    "`Minimal` is only for trouble-shooting and is insufficient for running the course materials. If you accidentally choose it, you can restart your server after entering the JupyterLab interface as described below.\n",
    "\n",
    "```"
   ]
  },
  {
   "cell_type": "markdown",
   "id": "b5421b0d",
   "metadata": {
    "slideshow": {
     "slide_type": "subslide"
    }
   },
   "source": [
    "- The JupyterLab interface should appear.  \n",
    "\n",
    "  ![jupyterlab](images/jupyterlab.dio.svg)"
   ]
  },
  {
   "cell_type": "markdown",
   "id": "c4babff9",
   "metadata": {},
   "source": [
    "```{tip}\n",
    "\n",
    "**How to troubleshoot in case or error?**\n",
    "\n",
    "- Refresh the page, re-login, or clear your browser cache to reset your browser.\n",
    "- Restart your server using the `Hub Control Panel` under the `File` menu (shown above) or visit the hub home  \n",
    "  https://divedeep.cs.cityu.edu.hk/cs1302/hub/home  \n",
    "  and click `Stop My Server` and then `Start My Server`.  \n",
    "  ![Restart my server](images/restart.dio.svg)\n",
    "- Contact your instructor using the contact information on the [course homepage](https://canvas.cityu.edu.hk/courses/42868).\n",
    "\n",
    "```"
   ]
  },
  {
   "cell_type": "markdown",
   "id": "41e6132c",
   "metadata": {
    "slideshow": {
     "slide_type": "slide"
    }
   },
   "source": [
    "### Jupyter Notebook"
   ]
  },
  {
   "cell_type": "markdown",
   "id": "22b47795",
   "metadata": {
    "slideshow": {
     "slide_type": "slide"
    }
   },
   "source": [
    "#### How to access course materials?"
   ]
  },
  {
   "cell_type": "markdown",
   "id": "e01b3250",
   "metadata": {
    "slideshow": {
     "slide_type": "fragment"
    },
    "tags": []
   },
   "source": [
    "The recommended way is to follow the links to the lecture/lab notebooks on the [course homepage](https://canvas.cityu.edu.hk/courses/48943).\n",
    "\n",
    "![course homepage](images/canvas.dio.svg) "
   ]
  },
  {
   "cell_type": "markdown",
   "id": "7939a999",
   "metadata": {
    "slideshow": {
     "slide_type": "fragment"
    },
    "tags": []
   },
   "source": [
    "```{important}\n",
    "\n",
    "The recommended way to access the notebook is to use [`nbgitpuller`](https://jupyterhub.github.io/nbgitpuller/index.html) links which\n",
    "\n",
    "- [git-pull](https://git-scm.com/docs/git-pull) updates/corrections to the notebooks and \n",
    "- merge them with the notebooks stored under `cs1302` folder in your home directory but\n",
    "- without overwriting your changes.\n",
    "\n",
    "If you open the notebook directly on JupyterHub instead of following the git-pull link, updates/corrections to notebooks, if any, will not be pulled.\n",
    "\n",
    "```"
   ]
  },
  {
   "cell_type": "markdown",
   "id": "2dcdecce",
   "metadata": {
    "slideshow": {
     "slide_type": "subslide"
    }
   },
   "source": [
    "#### How to complete a lab assignment?"
   ]
  },
  {
   "cell_type": "markdown",
   "id": "388d86a9",
   "metadata": {
    "slideshow": {
     "slide_type": "fragment"
    }
   },
   "source": [
    "Learn how to edit a notebook:"
   ]
  },
  {
   "cell_type": "markdown",
   "id": "79470375",
   "metadata": {
    "slideshow": {
     "slide_type": "-"
    }
   },
   "source": [
    "1. Click `Help`$\\to$ `Welcome Tour` to learn the JupyterLab interface.  \n",
    "2. Click `Help`$\\to$ `Notebook Tour` to learn about the jupyter notebook.\n",
    "3. Watch the official [video tutorial](https://youtu.be/A5YyoCKxEOU) to JupyterLab."
   ]
  },
  {
   "cell_type": "markdown",
   "id": "4ec7d517",
   "metadata": {
    "slideshow": {
     "slide_type": "subslide"
    },
    "tags": []
   },
   "source": [
    "**Exercise** (Hello-World) \n",
    "\n",
    "In learning a new programming language, the first program to write is often the [\"Hello, World!\"](https://en.wikipedia.org/wiki/%22Hello,_World!%22_program) program, which says Hello to the world.  \n",
    "\n",
    "Type the program below and run it with `Shift+Enter`. Use <kbd>tab</kbd> or 4 spaces to indent.\n",
    "\n",
    "![Hello world program](images/hello.dio.svg) "
   ]
  },
  {
   "cell_type": "code",
   "execution_count": null,
   "id": "c72d45d4",
   "metadata": {
    "ExecuteTime": {
     "end_time": "2021-03-17T06:00:02.425532Z",
     "start_time": "2021-03-17T06:00:02.424161Z"
    },
    "code_folding": [],
    "nbgrader": {
     "grade": false,
     "grade_id": "Hello-World",
     "locked": false,
     "schema_version": 3,
     "solution": true,
     "task": false
    },
    "slideshow": {
     "slide_type": "-"
    },
    "tags": [
     "remove-output"
    ]
   },
   "outputs": [],
   "source": [
    "def say_hello():\n",
    "    ...\n",
    "\n",
    "\n",
    "say_hello()"
   ]
  },
  {
   "cell_type": "markdown",
   "id": "c4987292",
   "metadata": {
    "slideshow": {
     "slide_type": "fragment"
    }
   },
   "source": [
    "In order to check your work thoroughly, there will be both *visible* and *hidden* test cases. The following is a visible test you can run to check your answer:"
   ]
  },
  {
   "cell_type": "code",
   "execution_count": null,
   "id": "911883b6",
   "metadata": {
    "deletable": false,
    "editable": false
   },
   "outputs": [],
   "source": [
    "grader.check(\"Hello-World\")"
   ]
  },
  {
   "cell_type": "markdown",
   "id": "778a1d43",
   "metadata": {},
   "source": [
    "The test returns an assertion error if your program does not print the correct message."
   ]
  },
  {
   "cell_type": "markdown",
   "id": "52772ccf",
   "metadata": {
    "slideshow": {
     "slide_type": "subslide"
    }
   },
   "source": [
    "```{tip}\n",
    "\n",
    "1. You can repeatedly modify your solution and run the test cell until your solution passes the test. There is no mark penalty in failing the test before submission. \n",
    "1. You should try to understand the error messages from a failed test.\n",
    "1. To assess your solution thoroughly, we will run new tests hidden from you after you have submitted your notebook. Therefore, *you should ensure your solution works in general rather than just the visible tests*.\n",
    "1. If you open the same notebook multiple times in different browser windows, be careful in making changes in different windows as you may overwrite your own changes.\n",
    "1. If your notebook fails to run any code, the kernel might have died. You can restart the kernel with `Kernel`$\\to$ `Restart`. If restarting fails, check your code cells to see if there is anything that breaks the kernel.\n",
    "\n",
    "```"
   ]
  },
  {
   "cell_type": "markdown",
   "id": "433e0eaa",
   "metadata": {
    "slideshow": {
     "slide_type": "slide"
    }
   },
   "source": [
    "#### How to submit a notebook"
   ]
  },
  {
   "cell_type": "markdown",
   "id": "6ba14d14",
   "metadata": {},
   "source": [
    "Lecture notebooks under the subfolders `Lecture*/` need NOT be submitted. You only need to submit the lab notebooks under `Lab*\\`. Although the first Lab (`Lab0`) does not count towards your final grade, you should still submit it, to get familiar with the procedure."
   ]
  },
  {
   "cell_type": "markdown",
   "id": "cec98ccb",
   "metadata": {
    "slideshow": {
     "slide_type": "subslide"
    }
   },
   "source": [
    "```{important}\n",
    "\n",
    "Before you submit, make sure everything runs as expected:\n",
    "\n",
    "1. **Git-pull the notebooks** (optional): Follow any one of the link on the course homepage to a notebook, which will git-pull any updates/corrections to (all) your notebooks.\n",
    "1. **Save the notebook**: Unsaved changes are not exported, even though they are in the memory.\n",
    "1. **Restart the kernel**: `Kernel`$\\to$ `Restart Kernel...` to have a clean state before running visible tests.\n",
    "1. **run all cells**: `Run`$\\to$ `Run All Cells` which  \n",
    "    - not only checks you code, but also\n",
    "    - also generates \n",
    "        - `main.py` file for graders to check your code, and\n",
    "        - a zip file containing all your files for submission.\n",
    "1. **Upload the zip file** to the corresponding Canvas assignment page.\n",
    "1. **Enter a pseudonym**, if required, for the leaderboard.\n",
    "```"
   ]
  },
  {
   "cell_type": "markdown",
   "id": "62b81642",
   "metadata": {
    "slideshow": {
     "slide_type": "fragment"
    }
   },
   "source": [
    "```{attention}\n",
    "\n",
    "Grading policies:\n",
    "- *No late submission* will be collected without valid justifications.\n",
    "- *Double check* that you have submitted the correct Lab assignment.\n",
    "- You can repeatedly submit before the deadline without penalty, so submit your assignment in advance. You are responsible for \n",
    "  - failed submission due to network outage too close to the deadline; and\n",
    "  - make a record or backup of your submission with the submission timestamp.\n",
    "  \n",
    "You submission may not be graded in the following cases:\n",
    "\n",
    "- The notebook files are renamed, e.g., `main.ipynb` changed/copied to `main (Copy).ipynb`.\n",
    "- `main.py` does not contain your code in `main.ipynb`. `main.py` should be automatically generated for similarity check against code plagiarism.\n",
    "- An html file exists with the same name as a notebook, e.g., `Setup.html`.\n",
    "- The file size is too large, e.g, over `100MB`.\n",
    "- The code takes too long to run, e.g., over `10mins` or requires an excessive amount memory, e.g., over `500MB`.\n",
    "```"
   ]
  },
  {
   "cell_type": "markdown",
   "id": "f3e41325",
   "metadata": {
    "slideshow": {
     "slide_type": "fragment"
    }
   },
   "source": [
    "```{tip}\n",
    "\n",
    "If you believe your notebooks are corrupted, \n",
    "1. download/backup your existing notebooks,\n",
    "1. remove them from the `Lab*/` folder,\n",
    "1. click the git-pull links from the course homepage to re-pull the notebooks, and\n",
    "1. copy your solutions to the new notebooks.\n",
    "\n",
    "```"
   ]
  },
  {
   "cell_type": "markdown",
   "id": "112c4d6b",
   "metadata": {},
   "source": [
    "```{seealso}\n",
    "\n",
    "You may also run the course notebooks outside the jupyterhub server and locally on your computer. For more details, see the course homepage.\n",
    "\n",
    "```"
   ]
  },
  {
   "cell_type": "markdown",
   "id": "9484c065",
   "metadata": {
    "slideshow": {
     "slide_type": "slide"
    },
    "tags": []
   },
   "source": [
    "## Debugger"
   ]
  },
  {
   "cell_type": "markdown",
   "id": "227d9d9b",
   "metadata": {
    "slideshow": {
     "slide_type": "slide"
    },
    "tags": []
   },
   "source": [
    "### Why debuggers?"
   ]
  },
  {
   "cell_type": "markdown",
   "id": "2202dbe3",
   "metadata": {
    "slideshow": {
     "slide_type": "fragment"
    },
    "tags": []
   },
   "source": [
    "Computer programs can somtimes behave in an unexpected way due to *Errors* or *Bugs*. Finding the errors might be easy for simple programs. However, for programs consisting of many lines of code, finding errors can be very hard."
   ]
  },
  {
   "cell_type": "markdown",
   "id": "a8aa661d",
   "metadata": {
    "slideshow": {
     "slide_type": "fragment"
    },
    "tags": []
   },
   "source": [
    "A *Debugger* allows us to pause/break the execution of a program at a line, called a *breakpoint*, we specify. This allows us to find errors more easily."
   ]
  },
  {
   "cell_type": "markdown",
   "id": "a9dc97e7",
   "metadata": {
    "slideshow": {
     "slide_type": "fragment"
    },
    "tags": []
   },
   "source": [
    " In this lab, we will learn to use a visual debugger in JupyterLab. "
   ]
  },
  {
   "cell_type": "markdown",
   "id": "cac7f981",
   "metadata": {
    "slideshow": {
     "slide_type": "slide"
    },
    "tags": []
   },
   "source": [
    "### Set breakpoints"
   ]
  },
  {
   "cell_type": "markdown",
   "id": "c454156f",
   "metadata": {
    "slideshow": {
     "slide_type": "subslide"
    },
    "tags": []
   },
   "source": [
    "To use the Jupyterlab visual debugger, ensure XPython kernel is running:"
   ]
  },
  {
   "cell_type": "markdown",
   "id": "6739d4ec",
   "metadata": {},
   "source": [
    "![xpython](images/xpython.dio.svg) \n",
    "\n",
    "If you do not see XPython or a circle next to it on the top-right-hand corner, switch to the XPython kernel by clicking the name of the current kernel on the top-right-hand corner."
   ]
  },
  {
   "cell_type": "markdown",
   "id": "6a7f5611",
   "metadata": {
    "slideshow": {
     "slide_type": "subslide"
    },
    "tags": []
   },
   "source": [
    "We will use the following code as an example to set a breakpoint. First, execute the code to see the effect."
   ]
  },
  {
   "cell_type": "code",
   "execution_count": null,
   "id": "20c3574a",
   "metadata": {},
   "outputs": [],
   "source": [
    "msg = \"Hello, World!\"\n",
    "print(msg)"
   ]
  },
  {
   "cell_type": "markdown",
   "id": "02c9909e",
   "metadata": {
    "slideshow": {
     "slide_type": "subslide"
    },
    "tags": []
   },
   "source": [
    "To enter the debug mode, turn on the switch near on top right-hand corner: \n",
    "\n",
    "![jupyterlab debugger switch](images/jupyterlab-debug.dio.svg)"
   ]
  },
  {
   "cell_type": "markdown",
   "id": "e0c14306",
   "metadata": {
    "slideshow": {
     "slide_type": "fragment"
    },
    "tags": []
   },
   "source": [
    "The debugging sidebar should slide open. You can also open/close the sidebar by clicking the bug icon on the right. "
   ]
  },
  {
   "cell_type": "markdown",
   "id": "dad7b521",
   "metadata": {
    "slideshow": {
     "slide_type": "subslide"
    },
    "tags": []
   },
   "source": [
    "**Exercise** (debug-mode)\n",
    "\n",
    "Code cells also looks different in debug mode. What is the difference?\n",
    "\n",
    "![code cell](images/codecell.dio.svg)"
   ]
  },
  {
   "cell_type": "markdown",
   "id": "21ba8368",
   "metadata": {},
   "source": [
    "_Type your answer here, replacing this text._"
   ]
  },
  {
   "cell_type": "markdown",
   "id": "5237777d",
   "metadata": {
    "slideshow": {
     "slide_type": "subslide"
    },
    "tags": []
   },
   "source": [
    "To set a breakpoint, press the dot that appears as you hover to the left of line number 2. Run the cell to see what happens."
   ]
  },
  {
   "cell_type": "code",
   "execution_count": null,
   "id": "fbdc9bf3",
   "metadata": {
    "tags": [
     "remove-output"
    ]
   },
   "outputs": [],
   "source": [
    "msg = \"Hello, World!\"\n",
    "print(msg)"
   ]
  },
  {
   "cell_type": "markdown",
   "id": "3d87abf1",
   "metadata": {},
   "source": [
    "The debugger provides quite a bit of information, organized as follows:"
   ]
  },
  {
   "cell_type": "markdown",
   "id": "7f3d99fe",
   "metadata": {},
   "source": [
    "* **Orange line** is the line where the execution is paused.  \n",
    "  ![paused](images/paused.dio.svg)"
   ]
  },
  {
   "cell_type": "markdown",
   "id": "7544f867",
   "metadata": {},
   "source": [
    "* **Variables panel** shows the current values of different variables.  \n",
    "  ![variables](images/variables.dio.svg) "
   ]
  },
  {
   "cell_type": "markdown",
   "id": "c1477961",
   "metadata": {},
   "source": [
    "* **Callstack panel** provides a more detailed context of where the execution is paused. It also provides the flow control buttons to resume/stop the execution.  \n",
    "  ![callstack](images/callstack.dio.svg)"
   ]
  },
  {
   "cell_type": "markdown",
   "id": "f0330076",
   "metadata": {},
   "source": [
    "* **Breakpoints panel** shows all the breakpoints of the current debug session.  \n",
    "  ![breakpoints](images/breakpoints.dio.svg)"
   ]
  },
  {
   "cell_type": "markdown",
   "id": "739bbf71",
   "metadata": {},
   "source": [
    "* **Source panel** highlights the source of the breakpoint at which the execution is currently paused.  \n",
    "  ![source](images/source.dio.svg)"
   ]
  },
  {
   "cell_type": "markdown",
   "id": "de2bc0ce",
   "metadata": {
    "slideshow": {
     "slide_type": "subslide"
    }
   },
   "source": [
    "**Exercise** (executed)\n",
    "\n",
    "Explain whether line 1 and 2 are executed. Use the information from the debugger to support your answer."
   ]
  },
  {
   "cell_type": "markdown",
   "id": "08f85f0a",
   "metadata": {},
   "source": [
    "_Type your answer here, replacing this text._"
   ]
  },
  {
   "cell_type": "markdown",
   "id": "43df6fef",
   "metadata": {
    "slideshow": {
     "slide_type": "slide"
    }
   },
   "source": [
    "### Resume execution"
   ]
  },
  {
   "cell_type": "markdown",
   "id": "74b39df0",
   "metadata": {},
   "source": [
    "To resume/terminate the execution, use the following flow control buttons at the top of the callstack panel:  \n",
    "\n",
    "  ![callstack](images/flowcontrol.dio.svg)\n",
    "\n",
    "- **Continue** button continues the execution and pause again if it hits a breakpoint.\n",
    "- **Terminate** button stops the execution.\n",
    "- **Next/Step-over** button continues the execution of program to the next statement without entering function."
   ]
  },
  {
   "cell_type": "markdown",
   "id": "e88e6ec8",
   "metadata": {
    "slideshow": {
     "slide_type": "slide"
    }
   },
   "source": [
    "### Run temporary code"
   ]
  },
  {
   "cell_type": "markdown",
   "id": "483d6441",
   "metadata": {
    "slideshow": {
     "slide_type": "-"
    }
   },
   "source": [
    "Sometimes, we want to run temporary code without modifying the current notebook. To do so:"
   ]
  },
  {
   "cell_type": "markdown",
   "id": "45b276d9",
   "metadata": {
    "slideshow": {
     "slide_type": "-"
    }
   },
   "source": [
    "- Right click anywhere on a notebook and choose `New Console for Notebook`:\n",
    "\n",
    "  ![new console](images/newconsole.dio.svg) "
   ]
  },
  {
   "cell_type": "markdown",
   "id": "903a1957",
   "metadata": {
    "slideshow": {
     "slide_type": "subslide"
    }
   },
   "source": [
    "- Type some code such as `msg` into the console input and run it with `Shift-Enter`:\n",
    "\n",
    "  ![console](images/console.dio.svg) "
   ]
  },
  {
   "cell_type": "markdown",
   "id": "55e6a731",
   "metadata": {
    "slideshow": {
     "slide_type": "subslide"
    }
   },
   "source": [
    "**Exercise** (fn)\n",
    "\n",
    "What does the following function `f(n)` computes? Try to set a breakpoint and use the flow control to understand how the program works."
   ]
  },
  {
   "cell_type": "code",
   "execution_count": null,
   "id": "64bea683",
   "metadata": {},
   "outputs": [],
   "source": [
    "def f(n): # definition of a function\n",
    "    return n * f(n - 1) if n > 0 else 1\n",
    "\n",
    "\n",
    "f(3)"
   ]
  },
  {
   "cell_type": "markdown",
   "id": "4bc2f6bd",
   "metadata": {},
   "source": [
    "```{hint}\n",
    "\n",
    "Set the breakpoint one at a time but at different locations. If you set your breakpoint at line 5, you should use the **Step In** button to step into the execution of the function.\n",
    "\n",
    "You can also make use of the new console for notebook:\n",
    "- You can run `f(n)` for different values of `n` in the console to understand how the function works. \n",
    "- You can set a breakpoint in Line 2 of the previous code cell containing `def f(n): ...` and run `f(3)` in the console to pause at the breakpoint. The source code containing the breakpoint will also be shown in the **Source panel**. \n",
    "- You can also set a breakpoint in the console input, say `f(3)`, and then step into it.\n",
    "- While the execution is paused, you can enter a new line of code such as `print(msg)` below `f(3)` in the console and then continue the execution to run the new line of code.\n",
    "\n",
    "```"
   ]
  },
  {
   "cell_type": "markdown",
   "id": "0fdc4c99",
   "metadata": {},
   "source": [
    "_Type your answer here, replacing this text._"
   ]
  },
  {
   "cell_type": "markdown",
   "id": "4bb96b70",
   "metadata": {},
   "source": [
    "```{seealso}\n",
    "\n",
    "There are other debuggers in different interfaces. You may use the vscode interface in our JupyterHub server:  \n",
    "- `File`$\\to$ `New Launcher`$\\to$ `VS Code`\n",
    "\n",
    "Follow the [official guide](https://code.visualstudio.com/docs/datascience/jupyter-notebooks) to install the python/jupyter extension and debug a jupyter notebook. \n",
    "\n",
    "```"
   ]
  },
  {
   "cell_type": "markdown",
   "id": "3cc99be2",
   "metadata": {},
   "source": [
    "### Visualize code execution"
   ]
  },
  {
   "cell_type": "markdown",
   "id": "47fda423",
   "metadata": {},
   "source": [
    "Seeing is believing. You can also debug your code by visualizing the code execution."
   ]
  },
  {
   "cell_type": "markdown",
   "id": "21ae5090",
   "metadata": {},
   "source": [
    "First, load the `divewidgets` using a line magic:"
   ]
  },
  {
   "cell_type": "code",
   "execution_count": null,
   "id": "627cbb26",
   "metadata": {},
   "outputs": [],
   "source": [
    "%reload_ext divewidgets"
   ]
  },
  {
   "cell_type": "markdown",
   "id": "d66a9a8a",
   "metadata": {},
   "source": [
    "Then, create a cell magic with the python code you want to visualize:"
   ]
  },
  {
   "cell_type": "code",
   "execution_count": null,
   "id": "24c7c8e8",
   "metadata": {
    "tags": []
   },
   "outputs": [],
   "source": [
    "%%optlite --height 500\n",
    "def f(n): # definition of a function\n",
    "    return n * f(n - 1) if n > 0 else 1\n",
    "\n",
    "\n",
    "f(3)"
   ]
  },
  {
   "cell_type": "markdown",
   "id": "ebd1cfc2",
   "metadata": {},
   "source": [
    "Try the following:\n",
    "- Drag the slider to time-travel the code execution.\n",
    "- Click any lines with code to toggle breakpoints, and click `Next >` (`< Prev`) to go the the next (previous) breakpoint.\n",
    "- Click the `Edit the code` link to edit the code.\n",
    "- Click the `Permalink` button to generate a url of the code, and copy and paste the url to a new browser window to run the visualization there.\n",
    "- Click the `Live Edit` button to live edit the code in a new browser window, where your changes to the code are immediately visualized. You can also time-travel and generate a permalink there."
   ]
  },
  {
   "cell_type": "markdown",
   "id": "79fd0ceb",
   "metadata": {},
   "source": [
    "Run the following cell to see additional options available to the cell magic."
   ]
  },
  {
   "cell_type": "code",
   "execution_count": null,
   "id": "3b4a8072",
   "metadata": {},
   "outputs": [],
   "source": [
    "%%optlite?"
   ]
  },
  {
   "cell_type": "markdown",
   "id": "63e3d188",
   "metadata": {},
   "source": [
    "```{tip}\n",
    "\n",
    "We have developed [OPTLite](https://github.com/dive4dec/optlite) to make the popular learning tool [Online Python Tutor](https://pythontutor.com/) run locally on your browser without a server. The serverless setup work offline once the page is loaded with no advertisements/restrictions on your code. \n",
    "\n",
    "If you have difficulty understanding or debugging a piece of code yourself, use OPTLite to share a link of the code with others. An example of a permalink is:\n",
    "\n",
    "> https://dive4dec.github.io/optlite/#code=def%20f%28n%29%3A%20%23%20definition%20of%20a%20function%0A%20%20%20%20return%20n%20*%20f%28n%20-%201%29%20if%20n%20%3E%200%20else%201%0A%0A%0Af%283%29&mode=edit&origin=opt-frontend.js&rawInputLstJSON=%5B%5D\n",
    "\n",
    "If `mode=edit` in the query string is changed to `mode=display`, the visualization will start automatically:\n",
    "\n",
    "> https://dive4dec.github.io/optlite/#code=def%20f%28n%29%3A%20%23%20definition%20of%20a%20function%0A%20%20%20%20return%20n%20*%20f%28n%20-%201%29%20if%20n%20%3E%200%20else%201%0A%0A%0Af%283%29&mode=display&origin=opt-frontend.js&rawInputLstJSON=%5B%5D\n",
    "\n",
    "To enter the live editing mode automaticaslly, specify `live.html` to the path:\n",
    "\n",
    "> https://dive4dec.github.io/optlite/live.html#code=def%20f%28n%29%3A%20%23%20definition%20of%20a%20function%0A%20%20%20%20return%20n%20*%20f%28n%20-%201%29%20if%20n%20%3E%200%20else%201%0A%0A%0Af%283%29&mode=edit&origin=opt-frontend.js&rawInputLstJSON=%5B%5D\n",
    "\n",
    "```"
   ]
  },
  {
   "cell_type": "markdown",
   "id": "9f08605e",
   "metadata": {},
   "source": [
    "**Exercise** (optlite)\n",
    "\n",
    "Give a permalink that visualize the Hello World program immediately without the need to click `Visualize` button. "
   ]
  },
  {
   "cell_type": "markdown",
   "id": "ce215439",
   "metadata": {},
   "source": [
    "_Type your answer here, replacing this text._"
   ]
  },
  {
   "cell_type": "markdown",
   "id": "664fbfa2",
   "metadata": {
    "deletable": false,
    "editable": false,
    "tags": [
     "remove-cell"
    ]
   },
   "source": [
    "## Submission\n",
    "\n",
    "Make sure you have run all cells in your notebook in order before running the cell below, so that all images/graphs appear in the output. Be careful that the execution may pause for user input, which you should provide to resume the execution. The cell below will generate a zip file for you to submit. **Please save before exporting!**"
   ]
  },
  {
   "cell_type": "code",
   "execution_count": null,
   "id": "5f6c8943",
   "metadata": {
    "deletable": false,
    "editable": true,
    "tags": []
   },
   "outputs": [],
   "source": [
    "# extra files to submit\n",
    "extra_files = []"
   ]
  },
  {
   "cell_type": "code",
   "execution_count": null,
   "id": "a6db1d0d",
   "metadata": {
    "deletable": false,
    "editable": false,
    "tags": []
   },
   "outputs": [],
   "source": [
    "# Generate the source main.py necessary for grading and similarity check.\n",
    "jupytext.write(jupytext.read(\"main.ipynb\"), \"main.py\", fmt=\"py:percent\")"
   ]
  },
  {
   "cell_type": "code",
   "execution_count": null,
   "id": "b6bc7199",
   "metadata": {
    "deletable": false,
    "editable": true,
    "tags": []
   },
   "outputs": [],
   "source": [
    "# Generate the zip file to submit.\n",
    "grader.export(pdf=False, run_tests=False, files=[\"main.py\", *extra_files])"
   ]
  }
 ],
 "metadata": {
  "kernelspec": {
   "display_name": "Python 3.10 (XPython)",
   "language": "python",
   "name": "xpython"
  },
  "language_info": {
   "file_extension": ".py",
   "mimetype": "text/x-python",
   "name": "python",
   "version": "3.10.4"
  },
  "otter": {
   "OK_FORMAT": true,
   "tests": {
    "Hello-World": {
     "name": "Hello-World",
     "points": null,
     "suites": [
      {
       "cases": [
        {
         "code": ">>> # Run this test cell right after running your \"Hello, World!\" program.\n>>> import io\n>>> import sys\n>>> \n>>> old_stdout, sys.stdout = sys.stdout, io.StringIO()\n>>> say_hello()\n>>> printed = sys.stdout.getvalue()\n>>> sys.stdout = old_stdout\n>>> assert printed == \"Hello, World!\\n\"\n",
         "hidden": false,
         "locked": false
        }
       ],
       "scored": true,
       "setup": "",
       "teardown": "",
       "type": "doctest"
      }
     ]
    }
   }
  },
  "widgets": {
   "application/vnd.jupyter.widget-state+json": {
    "state": {},
    "version_major": 2,
    "version_minor": 0
   }
  }
 },
 "nbformat": 4,
 "nbformat_minor": 5
}