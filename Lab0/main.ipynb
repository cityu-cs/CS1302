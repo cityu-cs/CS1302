{
 "cells": [
  {
   "cell_type": "code",
   "execution_count": 1,
   "id": "19dd3c2e",
   "metadata": {
    "deletable": false,
    "editable": false,
    "tags": [
     "remove-cell"
    ]
   },
   "outputs": [],
   "source": [
    "# Initialization cell\n",
    "try:  # for CS1302 JupyterLite pyodide kernel\n",
    "    import piplite\n",
    "\n",
    "    with open(\"requirements.txt\") as f:\n",
    "        for package in f:\n",
    "            package = package.strip()\n",
    "            print(\"Installing\", package)\n",
    "            await piplite.install(package)\n",
    "except ModuleNotFoundError:\n",
    "    pass\n",
    "\n",
    "import jupytext\n",
    "import otter\n",
    "\n",
    "grader = otter.Notebook(\"main.ipynb\")"
   ]
  },
  {
   "cell_type": "markdown",
   "id": "01ab34f0",
   "metadata": {
    "slideshow": {
     "slide_type": "slide"
    }
   },
   "source": [
    "## Lab 0"
   ]
  },
  {
   "cell_type": "markdown",
   "id": "c43e3738",
   "metadata": {
    "tags": [
     "remove-cell"
    ]
   },
   "source": [
    "CS1302 Introduction to Computer Programming\n",
    "___"
   ]
  },
  {
   "cell_type": "markdown",
   "id": "7a3bfb8c",
   "metadata": {},
   "source": [
    "## Setup"
   ]
  },
  {
   "cell_type": "markdown",
   "id": "5016768b",
   "metadata": {
    "slideshow": {
     "slide_type": "slide"
    }
   },
   "source": [
    "### JupyterHub"
   ]
  },
  {
   "cell_type": "markdown",
   "id": "5f7299be",
   "metadata": {
    "slideshow": {
     "slide_type": "subslide"
    }
   },
   "source": [
    "#### How to access the JupyterHub server?"
   ]
  },
  {
   "cell_type": "markdown",
   "id": "ed41cd53",
   "metadata": {
    "slideshow": {
     "slide_type": "fragment"
    }
   },
   "source": [
    "- Enter the url of the Jupyterhub server [divedeep.cs.cityu.edu.hk/cs1302](https://divedeep.cs.cityu.edu.hk/cs1302) in a web browser.\n",
    "- Enter your [EID](https://www.cityu.edu.hk/esu/eid.htm) and Password in the fields `Username` and `Password` respectively.\n",
    "- Click the `Sign in` button.  \n",
    "\n",
    "  ![log in](images/login.dio.svg)"
   ]
  },
  {
   "cell_type": "markdown",
   "id": "fac7d395",
   "metadata": {
    "slideshow": {
     "slide_type": "subslide"
    }
   },
   "source": [
    "- If you are presented with the choices of servers, choose `CS1302` as the server option and click `Start`.  \n",
    "\n",
    "  ![server options](images/serveroptions.dio.svg)"
   ]
  },
  {
   "cell_type": "markdown",
   "id": "5c50874b",
   "metadata": {},
   "source": [
    "```{note}\n",
    "\n",
    "`Minimal` is only for trouble-shooting and is insufficient for running the course materials. If you accidentally choose it, you can restart your server after entering the JupyterLab interface as described below.\n",
    "\n",
    "```"
   ]
  },
  {
   "cell_type": "markdown",
   "id": "30467668",
   "metadata": {
    "slideshow": {
     "slide_type": "subslide"
    }
   },
   "source": [
    "- The JupyterLab interface should appear.  \n",
    "\n",
    "  ![jupyterlab](images/jupyterlab.dio.svg)"
   ]
  },
  {
   "cell_type": "markdown",
   "id": "a656dd24",
   "metadata": {},
   "source": [
    "```{tip}\n",
    "\n",
    "**How to troubleshoot in case or error?**\n",
    "\n",
    "- Refresh the page, re-login, or clear your browser cache to reset your browser.\n",
    "- Restart your server using the `Hub Control Panel` under the `File` menu (shown above) or visit the hub home  \n",
    "  https://divedeep.cs.cityu.edu.hk/cs1302/hub/home  \n",
    "  and click `Stop My Server` and then `Start My Server`.  \n",
    "  ![Restart my server](images/restart.dio.svg)\n",
    "- Contact your instructor using the contact information on the [course homepage](https://canvas.cityu.edu.hk/courses/42868).\n",
    "\n",
    "```"
   ]
  },
  {
   "cell_type": "markdown",
   "id": "45bd4e4a",
   "metadata": {
    "slideshow": {
     "slide_type": "slide"
    }
   },
   "source": [
    "### Jupyter Notebook"
   ]
  },
  {
   "cell_type": "markdown",
   "id": "f5760c54",
   "metadata": {
    "slideshow": {
     "slide_type": "slide"
    }
   },
   "source": [
    "#### How to access course materials?"
   ]
  },
  {
   "cell_type": "markdown",
   "id": "5f5a0af3",
   "metadata": {
    "slideshow": {
     "slide_type": "fragment"
    },
    "tags": []
   },
   "source": [
    "The recommended way is to follow the links to the lecture/lab notebooks on the [course homepage](https://canvas.cityu.edu.hk/courses/48943).\n",
    "\n",
    "![course homepage](images/canvas.dio.svg) "
   ]
  },
  {
   "cell_type": "markdown",
   "id": "e157be5f",
   "metadata": {
    "slideshow": {
     "slide_type": "fragment"
    },
    "tags": []
   },
   "source": [
    "```{important}\n",
    "\n",
    "The recommended way to access the notebook is to use [`nbgitpuller`](https://jupyterhub.github.io/nbgitpuller/index.html) links which\n",
    "\n",
    "- [git-pull](https://git-scm.com/docs/git-pull) updates/corrections to the notebooks and \n",
    "- merge them with the notebooks stored under `cs1302` folder in your home directory but\n",
    "- without overwriting your changes.\n",
    "\n",
    "If you open the notebook directly on JupyterHub instead of following the git-pull link, updates/corrections to notebooks, if any, will not be pulled.\n",
    "\n",
    "```"
   ]
  },
  {
   "cell_type": "markdown",
   "id": "b8af8ad3",
   "metadata": {
    "slideshow": {
     "slide_type": "subslide"
    }
   },
   "source": [
    "#### How to complete a lab assignment?"
   ]
  },
  {
   "cell_type": "markdown",
   "id": "4fa531ba",
   "metadata": {
    "slideshow": {
     "slide_type": "fragment"
    }
   },
   "source": [
    "Learn how to edit a notebook:"
   ]
  },
  {
   "cell_type": "markdown",
   "id": "7bef783d",
   "metadata": {
    "slideshow": {
     "slide_type": "-"
    }
   },
   "source": [
    "1. Click `Help`$\\to$ `Welcome Tour` to learn the JupyterLab interface.  \n",
    "2. Click `Help`$\\to$ `Notebook Tour` to learn about the jupyter notebook.\n",
    "3. Watch the official [video tutorial](https://youtu.be/A5YyoCKxEOU) to JupyterLab."
   ]
  },
  {
   "cell_type": "markdown",
   "id": "41c1e1a6",
   "metadata": {
    "slideshow": {
     "slide_type": "subslide"
    },
    "tags": []
   },
   "source": [
    "**Exercise** \n",
    "\n",
    "In learning a new programming language, the first program to write is often the [\"Hello, World!\"](https://en.wikipedia.org/wiki/%22Hello,_World!%22_program) program, which says Hello to the world.  \n",
    "\n",
    "Type the program below and run it with `Shift+Enter`. Use <kbd>tab</kbd> or 4 spaces to indent.\n",
    "\n",
    "![Hello world program](images/hello.dio.svg) "
   ]
  },
  {
   "cell_type": "code",
   "execution_count": 2,
   "id": "c07bf148",
   "metadata": {
    "ExecuteTime": {
     "end_time": "2021-03-17T06:00:02.425532Z",
     "start_time": "2021-03-17T06:00:02.424161Z"
    },
    "code_folding": [],
    "nbgrader": {
     "grade": false,
     "grade_id": "Hello-World",
     "locked": false,
     "schema_version": 3,
     "solution": true,
     "task": false
    },
    "slideshow": {
     "slide_type": "-"
    },
    "tags": [
     "remove-output"
    ]
   },
   "outputs": [
    {
     "name": "stdout",
     "output_type": "stream",
     "text": [
      "Hello, World!\n"
     ]
    }
   ],
   "source": [
    "def say_hello():\n",
    "    print(\"Hello, World!\")\n",
    "\n",
    "say_hello()"
   ]
  },
  {
   "cell_type": "markdown",
   "id": "7342a179",
   "metadata": {
    "slideshow": {
     "slide_type": "fragment"
    }
   },
   "source": [
    "In order to check your work thoroughly, there will be both *visible* and *hidden* test cases. The following is a visible test you can run to check your answer:"
   ]
  },
  {
   "cell_type": "code",
   "execution_count": 3,
   "id": "652fef55",
   "metadata": {
    "deletable": false,
    "editable": false
   },
   "outputs": [
    {
     "data": {
      "text/html": [
       "<p><strong><pre style='display: inline;'>Hello-World</pre></strong> passed!</p>"
      ],
      "text/plain": [
       "Hello-World results: All test cases passed!"
      ]
     },
     "execution_count": 3,
     "metadata": {},
     "output_type": "execute_result"
    }
   ],
   "source": [
    "grader.check(\"Hello-World\")"
   ]
  },
  {
   "cell_type": "markdown",
   "id": "7f816653",
   "metadata": {},
   "source": [
    "The test returns an assertion error if your program does not print the correct message."
   ]
  },
  {
   "cell_type": "markdown",
   "id": "1ad7d7de",
   "metadata": {
    "slideshow": {
     "slide_type": "subslide"
    }
   },
   "source": [
    "```{tip}\n",
    "\n",
    "1. You can repeatedly modify your solution and run the test cell until your solution passes the test. There is no mark penalty in failing the test before submission. \n",
    "1. You should try to understand the error messages from a failed test.\n",
    "1. To assess your solution thoroughly, we will run new tests hidden from you after you have submitted your notebook. Therefore, *you should ensure your solution works in general rather than just the visible tests*.\n",
    "1. If you open the same notebook multiple times in different browser windows, be careful in making changes in different windows as you may overwrite your own changes.\n",
    "1. If your notebook fails to run any code, the kernel might have died. You can restart the kernel with `Kernel`$\\to$ `Restart`. If restarting fails, check your code cells to see if there is anything that breaks the kernel.\n",
    "\n",
    "```"
   ]
  },
  {
   "cell_type": "markdown",
   "id": "326b332d",
   "metadata": {
    "slideshow": {
     "slide_type": "slide"
    }
   },
   "source": [
    "#### How to submit a notebook"
   ]
  },
  {
   "cell_type": "markdown",
   "id": "f31f14f2",
   "metadata": {},
   "source": [
    "Lecture notebooks under the subfolders `Lecture*/` need NOT be submitted. You only need to submit the lab notebooks under `Lab*\\`. Although the first Lab (`Lab0`) does not count towards your final grade, you should still submit it, to get familiar with the procedure."
   ]
  },
  {
   "cell_type": "markdown",
   "id": "52f2a156",
   "metadata": {
    "slideshow": {
     "slide_type": "subslide"
    }
   },
   "source": [
    "```{important}\n",
    "\n",
    "Before you submit, make sure everything runs as expected:\n",
    "\n",
    "1. **Git-pull the notebooks** (optional): Follow any one of the link on the course homepage to a notebook, which will git-pull any updates/corrections to (all) your notebooks.\n",
    "1. **Save the notebook**: Unsaved changes are not exported, even though they are in the memory.\n",
    "1. **Restart the kernel**: `Kernel`$\\to$ `Restart Kernel...` to have a clean state before running visible tests.\n",
    "1. **run all cells**: `Run`$\\to$ `Run All Cells` which  \n",
    "    - not only checks you code, but also\n",
    "    - also generates \n",
    "        - `main.py` file for graders to check your code, and\n",
    "        - a zip file containing all your files for submission.\n",
    "1. **Upload the zip file** to the corresponding Canvas assignment page.\n",
    "1. **Enter a pseudonym**, if required, for the leaderboard.\n",
    "```"
   ]
  },
  {
   "cell_type": "markdown",
   "id": "db7a2f47",
   "metadata": {
    "slideshow": {
     "slide_type": "fragment"
    }
   },
   "source": [
    "```{attention}\n",
    "\n",
    "Grading policies:\n",
    "- *No late submission* will be collected without valid justifications.\n",
    "- *Double check* that you have submitted the correct Lab assignment.\n",
    "- You can repeatedly submit before the deadline without penalty, so submit your assignment in advance. You are responsible for \n",
    "  - failed submission due to network outage too close to the deadline; and\n",
    "  - make a record or backup of your submission with the submission timestamp.\n",
    "  \n",
    "You submission may not be graded in the following cases:\n",
    "\n",
    "- The notebook files are renamed, e.g., `main.ipynb` changed/copied to `main (Copy).ipynb`.\n",
    "- `main.py` does not contain your code in `main.ipynb`. `main.py` should be automatically generated for similarity check against code plagiarism.\n",
    "- An html file exists with the same name as a notebook, e.g., `Setup.html`.\n",
    "- The file size is too large, e.g, over `100MB`.\n",
    "- The code takes too long to run, e.g., over `10mins` or requires an excessive amount memory, e.g., over `500MB`.\n",
    "```"
   ]
  },
  {
   "cell_type": "markdown",
   "id": "579e252e",
   "metadata": {
    "slideshow": {
     "slide_type": "fragment"
    }
   },
   "source": [
    "```{tip}\n",
    "\n",
    "If you believe your notebooks are corrupted, \n",
    "1. download/backup your existing notebooks,\n",
    "1. remove them from the `Lab*/` folder,\n",
    "1. click the git-pull links from the course homepage to re-pull the notebooks, and\n",
    "1. copy your solutions to the new notebooks.\n",
    "\n",
    "```"
   ]
  },
  {
   "cell_type": "markdown",
   "id": "9bcaecf8",
   "metadata": {},
   "source": [
    "```{seealso}\n",
    "\n",
    "You may also run the course notebooks outside the jupyterhub server and locally on your computer. For more details, see the course homepage.\n",
    "\n",
    "```"
   ]
  },
  {
   "cell_type": "markdown",
   "id": "6bb8098d",
   "metadata": {
    "slideshow": {
     "slide_type": "slide"
    },
    "tags": []
   },
   "source": [
    "## Debugger"
   ]
  },
  {
   "cell_type": "markdown",
   "id": "bd1cafc6",
   "metadata": {
    "slideshow": {
     "slide_type": "slide"
    },
    "tags": []
   },
   "source": [
    "### Why debuggers?"
   ]
  },
  {
   "cell_type": "markdown",
   "id": "99b9ce80",
   "metadata": {
    "slideshow": {
     "slide_type": "fragment"
    },
    "tags": []
   },
   "source": [
    "Computer programs can somtimes behave in an unexpected way due to *Errors* or *Bugs*. Finding the errors might be easy for simple programs. However, for programs consisting of many lines of code, finding errors can be very hard."
   ]
  },
  {
   "cell_type": "markdown",
   "id": "d24e6b73",
   "metadata": {
    "slideshow": {
     "slide_type": "fragment"
    },
    "tags": []
   },
   "source": [
    "A *Debugger* allows us to pause/break the execution of a program at a line, called a *breakpoint*, we specify. This allows us to find errors more easily."
   ]
  },
  {
   "cell_type": "markdown",
   "id": "ba38528e",
   "metadata": {
    "slideshow": {
     "slide_type": "fragment"
    },
    "tags": []
   },
   "source": [
    " In this lab, we will learn to use a visual debugger in JupyterLab. "
   ]
  },
  {
   "cell_type": "markdown",
   "id": "68b40190",
   "metadata": {
    "slideshow": {
     "slide_type": "slide"
    },
    "tags": []
   },
   "source": [
    "### Set breakpoints"
   ]
  },
  {
   "cell_type": "markdown",
   "id": "f25bae2b",
   "metadata": {
    "slideshow": {
     "slide_type": "subslide"
    },
    "tags": []
   },
   "source": [
    "To use the Jupyterlab visual debugger, ensure XPython kernel is running:"
   ]
  },
  {
   "cell_type": "markdown",
   "id": "b4f5e7ed",
   "metadata": {},
   "source": [
    "![xpython](images/xpython.dio.svg) \n",
    "\n",
    "If you do not see XPython or a circle next to it on the top-right-hand corner, switch to the XPython kernel by clicking the name of the current kernel on the top-right-hand corner."
   ]
  },
  {
   "cell_type": "markdown",
   "id": "09185e68",
   "metadata": {
    "slideshow": {
     "slide_type": "subslide"
    },
    "tags": []
   },
   "source": [
    "We will use the following code as an example to set a breakpoint. First, execute the code to see the effect."
   ]
  },
  {
   "cell_type": "code",
   "execution_count": 4,
   "id": "6ad25b86",
   "metadata": {},
   "outputs": [
    {
     "name": "stdout",
     "output_type": "stream",
     "text": [
      "Hello, World!\n"
     ]
    }
   ],
   "source": [
    "msg = \"Hello, World!\"\n",
    "print(msg)"
   ]
  },
  {
   "cell_type": "markdown",
   "id": "928ac134",
   "metadata": {
    "slideshow": {
     "slide_type": "subslide"
    },
    "tags": []
   },
   "source": [
    "To enter the debug mode, turn on the switch near on top right-hand corner: \n",
    "\n",
    "![jupyterlab debugger switch](images/jupyterlab-debug.dio.svg)"
   ]
  },
  {
   "cell_type": "markdown",
   "id": "1d0ae5e5",
   "metadata": {
    "slideshow": {
     "slide_type": "fragment"
    },
    "tags": []
   },
   "source": [
    "The debugging sidebar should slide open. You can also open/close the sidebar by clicking the bug icon on the right. "
   ]
  },
  {
   "cell_type": "markdown",
   "id": "d6fc5213",
   "metadata": {
    "slideshow": {
     "slide_type": "subslide"
    },
    "tags": []
   },
   "source": [
    "**Exercise** \n",
    "\n",
    "Code cells also looks different in debug mode. What is the difference?\n",
    "\n",
    "![code cell](images/codecell.dio.svg)"
   ]
  },
  {
   "cell_type": "markdown",
   "id": "c4f9770b",
   "metadata": {},
   "source": [
    "Under debug mode, the number of line is made visible."
   ]
  },
  {
   "cell_type": "markdown",
   "id": "c57904d4",
   "metadata": {
    "slideshow": {
     "slide_type": "subslide"
    },
    "tags": []
   },
   "source": [
    "To set a breakpoint, press the dot that appears as you hover to the left of line number 2. Run the cell to see what happens."
   ]
  },
  {
   "cell_type": "code",
   "execution_count": 5,
   "id": "3be475fd",
   "metadata": {
    "tags": [
     "remove-output"
    ]
   },
   "outputs": [
    {
     "name": "stdout",
     "output_type": "stream",
     "text": [
      "Hello, World!\n"
     ]
    }
   ],
   "source": [
    "msg = \"Hello, World!\"\n",
    "print(msg)"
   ]
  },
  {
   "cell_type": "markdown",
   "id": "e67d0ca5",
   "metadata": {},
   "source": [
    "The debugger provides quite a bit of information, organized as follows:"
   ]
  },
  {
   "cell_type": "markdown",
   "id": "4d12cee6",
   "metadata": {},
   "source": [
    "* **Orange line** is the line where the execution is paused.  \n",
    "  ![paused](images/paused.dio.svg)"
   ]
  },
  {
   "cell_type": "markdown",
   "id": "b5009bda",
   "metadata": {},
   "source": [
    "* **Variables panel** shows the current values of different variables.  \n",
    "  ![variables](images/variables.dio.svg) "
   ]
  },
  {
   "cell_type": "markdown",
   "id": "59829adc",
   "metadata": {},
   "source": [
    "* **Callstack panel** provides a more detailed context of where the execution is paused. It also provides the flow control buttons to resume/stop the execution.  \n",
    "  ![callstack](images/callstack.dio.svg)"
   ]
  },
  {
   "cell_type": "markdown",
   "id": "0fe9fdc6",
   "metadata": {},
   "source": [
    "* **Breakpoints panel** shows all the breakpoints of the current debug session.  \n",
    "  ![breakpoints](images/breakpoints.dio.svg)"
   ]
  },
  {
   "cell_type": "markdown",
   "id": "29d4df86",
   "metadata": {},
   "source": [
    "* **Source panel** highlights the source of the breakpoint at which the execution is currently paused.  \n",
    "  ![source](images/source.dio.svg)"
   ]
  },
  {
   "cell_type": "markdown",
   "id": "c9997461",
   "metadata": {
    "slideshow": {
     "slide_type": "subslide"
    }
   },
   "source": [
    "**Exercise** Explain whether line 1 and 2 are executed. Use the information from the debugger to support your answer."
   ]
  },
  {
   "cell_type": "markdown",
   "id": "e300cfc6",
   "metadata": {},
   "source": [
    "Line 1 is executed. In variables, msg has value 'Hello, World!'.\n",
    "\n",
    "Line 2 is not executed. There is no output of the program. Upon continue, Line 2 will be executed."
   ]
  },
  {
   "cell_type": "markdown",
   "id": "468e57dd",
   "metadata": {
    "slideshow": {
     "slide_type": "slide"
    }
   },
   "source": [
    "### Resume execution"
   ]
  },
  {
   "cell_type": "markdown",
   "id": "25c9b451",
   "metadata": {},
   "source": [
    "To resume/terminate the execution, use the following flow control buttons at the top of the callstack panel:  \n",
    "\n",
    "  ![callstack](images/flowcontrol.dio.svg)\n",
    "\n",
    "- **Continue** button continues the execution and pause again if it hits a breakpoint.\n",
    "- **Terminate** button stops the execution.\n",
    "- **Next/Step-over** button continues the execution of program to the next statement without entering function."
   ]
  },
  {
   "cell_type": "markdown",
   "id": "539f7a07",
   "metadata": {
    "slideshow": {
     "slide_type": "slide"
    }
   },
   "source": [
    "### Run temporary code"
   ]
  },
  {
   "cell_type": "markdown",
   "id": "a343c362",
   "metadata": {
    "slideshow": {
     "slide_type": "-"
    }
   },
   "source": [
    "Sometimes, we want to run temporary code without modifying the current notebook. To do so:"
   ]
  },
  {
   "cell_type": "markdown",
   "id": "bcc20689",
   "metadata": {
    "slideshow": {
     "slide_type": "-"
    }
   },
   "source": [
    "- Right click anywhere on a notebook and choose `New Console for Notebook`:\n",
    "\n",
    "  ![new console](images/newconsole.dio.svg) "
   ]
  },
  {
   "cell_type": "markdown",
   "id": "e79a0494",
   "metadata": {
    "slideshow": {
     "slide_type": "subslide"
    }
   },
   "source": [
    "- Type some code such as `msg` into the console input and run it with `Shift-Enter`:\n",
    "\n",
    "  ![console](images/console.dio.svg) "
   ]
  },
  {
   "cell_type": "markdown",
   "id": "cec6d614",
   "metadata": {
    "slideshow": {
     "slide_type": "subslide"
    }
   },
   "source": [
    "**Exercise** \n",
    "\n",
    "What does the following function `f(n)` computes? Try to set a breakpoint and use the flow control to understand how the program works."
   ]
  },
  {
   "cell_type": "code",
   "execution_count": 6,
   "id": "d1aed462",
   "metadata": {},
   "outputs": [
    {
     "data": {
      "text/plain": [
       "24"
      ]
     },
     "execution_count": 6,
     "metadata": {},
     "output_type": "execute_result"
    }
   ],
   "source": [
    "def f(n): # definition of a function\n",
    "    return n * f(n - 1) if n > 0 else 1\n",
    "\n",
    "\n",
    "f(4)"
   ]
  },
  {
   "cell_type": "markdown",
   "id": "a57e37fc",
   "metadata": {},
   "source": [
    "```{hint}\n",
    "\n",
    "Set the breakpoint one at a time but at different locations. If you set your breakpoint at line 5, you should use the **Step In** button to step into the execution of the function.\n",
    "\n",
    "You can also make use of the new console for notebook:\n",
    "- You can run `f(n)` for different values of `n` in the console to understand how the function works. \n",
    "- You can set a breakpoint in Line 2 of the previous code cell containing `def f(n): ...` and run `f(3)` in the console to pause at the breakpoint. The source code containing the breakpoint will also be shown in the **Source panel**. \n",
    "- You can also set a breakpoint in the console input, say `f(3)`, and then step into it.\n",
    "- While the execution is paused, you can enter a new line of code such as `print(msg)` below `f(3)` in the console and then continue the execution to run the new line of code.\n",
    "\n",
    "```"
   ]
  },
  {
   "cell_type": "markdown",
   "id": "6092cc12",
   "metadata": {},
   "source": [
    "f(n) computes the factorial of n."
   ]
  },
  {
   "cell_type": "markdown",
   "id": "d47a4f97",
   "metadata": {},
   "source": [
    "```{seealso}\n",
    "\n",
    "There are other debuggers in different interfaces. You may use the vscode interface in our JupyterHub server:  \n",
    "- `File`$\\to$ `New Launcher`$\\to$ `VS Code`\n",
    "\n",
    "Follow the [official guide](https://code.visualstudio.com/docs/datascience/jupyter-notebooks) to install the python/jupyter extension and debug a jupyter notebook. \n",
    "\n",
    "```"
   ]
  },
  {
   "cell_type": "markdown",
   "id": "3fb17917",
   "metadata": {},
   "source": [
    "### Visualize code execution"
   ]
  },
  {
   "cell_type": "markdown",
   "id": "f7fbb062",
   "metadata": {},
   "source": [
    "Seeing is believing. You can also debug your code by visualizing the code execution."
   ]
  },
  {
   "cell_type": "markdown",
   "id": "6a0a1409",
   "metadata": {},
   "source": [
    "First, load the `divewidgets` using a line magic:"
   ]
  },
  {
   "cell_type": "code",
   "execution_count": 7,
   "id": "dff9385b",
   "metadata": {},
   "outputs": [],
   "source": [
    "%reload_ext divewidgets"
   ]
  },
  {
   "cell_type": "markdown",
   "id": "81eaab38",
   "metadata": {},
   "source": [
    "Then, create a cell magic with the python code you want to visualize:"
   ]
  },
  {
   "cell_type": "code",
   "execution_count": 8,
   "id": "c6cfa6f7",
   "metadata": {
    "tags": []
   },
   "outputs": [
    {
     "data": {
      "application/vnd.jupyter.widget-view+json": {
       "model_id": "71dd448961ae438c9109b74ef37652d0",
       "version_major": 2,
       "version_minor": 0
      },
      "text/plain": [
       "OPTWidget(value=None, height=500, script='def f(n): # definition of a function\\n    return n * f(n - 1) if n >…"
      ]
     },
     "metadata": {},
     "output_type": "display_data"
    }
   ],
   "source": [
    "%%optlite --height 500\n",
    "def f(n): # definition of a function\n",
    "    return n * f(n - 1) if n > 0 else 1\n",
    "\n",
    "\n",
    "f(3)"
   ]
  },
  {
   "cell_type": "markdown",
   "id": "711398a2",
   "metadata": {},
   "source": [
    "Try the following:\n",
    "- Drag the slider to time-travel the code execution.\n",
    "- Click any lines with code to toggle breakpoints, and click `Next >` (`< Prev`) to go the the next (previous) breakpoint.\n",
    "- Click the `Edit the code` link to edit the code.\n",
    "- Click the `Permalink` button to generate a url of the code, and copy and paste the url to a new browser window to run the visualization there.\n",
    "- Click the `Live Edit` button to live edit the code in a new browser window, where your changes to the code are immediately visualized. You can also time-travel and generate a permalink there."
   ]
  },
  {
   "cell_type": "markdown",
   "id": "3c47a63b",
   "metadata": {},
   "source": [
    "Run the following cell to see additional options available to the cell magic."
   ]
  },
  {
   "cell_type": "code",
   "execution_count": 9,
   "id": "a5b7178a",
   "metadata": {},
   "outputs": [
    {
     "data": {
      "text/plain": [
       "\u001b[0;31mDocstring:\u001b[0m\n",
       "::\n",
       "\n",
       "  %optlite [-w WIDTH] [-r] [-l] [-h HEIGHT]\n",
       "\n",
       "Visualize the cell block of Python code with the serverless OPTLite.\n",
       "\n",
       "options:\n",
       "  -w WIDTH, --width WIDTH\n",
       "                        The width of the output frame (default: 1100).\n",
       "  -r, --run             Run cell in IPython.\n",
       "  -l, --live            Live edit mode.\n",
       "  -h HEIGHT, --height HEIGHT\n",
       "                        The height of the output frame (default: 700).\n",
       "\u001b[0;31mFile:\u001b[0m      /opt/conda/lib/python3.10/site-packages/divewidgets/magic.py\n"
      ]
     },
     "metadata": {},
     "output_type": "display_data"
    }
   ],
   "source": [
    "%%optlite?"
   ]
  },
  {
   "cell_type": "markdown",
   "id": "0250350d",
   "metadata": {},
   "source": [
    "```{tip}\n",
    "\n",
    "We have developed [OPTLite](https://github.com/dive4dec/optlite) to make the popular learning tool [Online Python Tutor](https://pythontutor.com/) run locally on your browser without a server. The serverless setup work offline once the page is loaded with no advertisements/restrictions on your code. \n",
    "\n",
    "If you have difficulty understanding or debugging a piece of code yourself, use OPTLite to share a link of the code with others. An example of a permalink is:\n",
    "\n",
    "> https://dive4dec.github.io/optlite/#code=def%20f%28n%29%3A%20%23%20definition%20of%20a%20function%0A%20%20%20%20return%20n%20*%20f%28n%20-%201%29%20if%20n%20%3E%200%20else%201%0A%0A%0Af%283%29&mode=edit&origin=opt-frontend.js&rawInputLstJSON=%5B%5D\n",
    "\n",
    "If `mode=edit` in the query string is changed to `mode=display`, the visualization will start automatically:\n",
    "\n",
    "> https://dive4dec.github.io/optlite/#code=def%20f%28n%29%3A%20%23%20definition%20of%20a%20function%0A%20%20%20%20return%20n%20*%20f%28n%20-%201%29%20if%20n%20%3E%200%20else%201%0A%0A%0Af%283%29&mode=display&origin=opt-frontend.js&rawInputLstJSON=%5B%5D\n",
    "\n",
    "To enter the live editing mode automaticaslly, specify `live.html` to the path:\n",
    "\n",
    "> https://dive4dec.github.io/optlite/live.html#code=def%20f%28n%29%3A%20%23%20definition%20of%20a%20function%0A%20%20%20%20return%20n%20*%20f%28n%20-%201%29%20if%20n%20%3E%200%20else%201%0A%0A%0Af%283%29&mode=edit&origin=opt-frontend.js&rawInputLstJSON=%5B%5D\n",
    "\n",
    "```"
   ]
  },
  {
   "cell_type": "markdown",
   "id": "69952982",
   "metadata": {},
   "source": [
    "**Exercise**\n",
    "\n",
    "Give a permalink that visualize the Hello World program immediately without the need to click `Visualize` button. "
   ]
  },
  {
   "cell_type": "markdown",
   "id": "1203b119",
   "metadata": {},
   "source": [
    "https://dive4dec.github.io/optlite/#code=msg%20%3D%20%22Hello,%20World!%22%0Aprint%28msg%29&mode=edit&origin=opt-frontend.js&rawInputLstJSON=%5B%5D"
   ]
  },
  {
   "cell_type": "markdown",
   "id": "f2fba6c2",
   "metadata": {
    "deletable": false,
    "editable": false,
    "tags": [
     "remove-cell"
    ]
   },
   "source": [
    "## Submission\n",
    "\n",
    "Make sure you have run all cells in your notebook in order before running the cell below, so that all images/graphs appear in the output. The cell below will generate a zip file for you to submit. **Please save before exporting!**"
   ]
  },
  {
   "cell_type": "code",
   "execution_count": 10,
   "id": "70f362f1",
   "metadata": {
    "deletable": false,
    "editable": true,
    "tags": []
   },
   "outputs": [],
   "source": [
    "# extra files to submit\n",
    "extra_files = [\"images/breakpoints.dio.svg\", \"images/callstack.dio.svg\",\n",
    "               \"images/canvas.dio.svg\", \"images/codecell.dio.svg\",\n",
    "               \"images/console.dio.svg\", \"images/flowcontrol.dio.svg\",\n",
    "               \"images/hello.dio.svg\", \"images/jupyterlab.dio.svg\",\n",
    "               \"images/jupyterlab-debug.dio.svg\", \"images/login.dio.svg\",\n",
    "               \"images/newconsole.dio.svg\", \"images/paused.dio.svg\",\n",
    "               \"images/restart.dio.svg\", \"images/serveroptions.dio.svg\",\n",
    "               \"images/source.dio.svg\", \"images/variables.dio.svg\",\n",
    "               \"images/xpython.dio.svg\"]"
   ]
  },
  {
   "cell_type": "code",
   "execution_count": 11,
   "id": "6392fd71",
   "metadata": {
    "deletable": false,
    "editable": false,
    "tags": []
   },
   "outputs": [],
   "source": [
    "# Generate the source main.py necessary for grading and similarity check.\n",
    "jupytext.write(jupytext.read(\"main.ipynb\"), \"main.py\", fmt=\"py:percent\")"
   ]
  },
  {
   "cell_type": "code",
   "execution_count": 12,
   "id": "2d9315f5",
   "metadata": {
    "deletable": false,
    "editable": true,
    "tags": []
   },
   "outputs": [
    {
     "data": {
      "text/html": [
       "\n",
       "            <p>Your submission has been exported. Click <a href=\"main_2022_08_28T20_37_44_600393.zip\" download=\"main_2022_08_28T20_37_44_600393.zip\" target=\"_blank\">here</a>\n",
       "            to download the zip file.</p>\n",
       "            "
      ],
      "text/plain": [
       "<IPython.core.display.HTML object>"
      ]
     },
     "metadata": {},
     "output_type": "display_data"
    }
   ],
   "source": [
    "# Generate the zip file to submit.\n",
    "grader.export(pdf=False, run_tests=False, files=[\"main.py\", *extra_files])"
   ]
  },
  {
   "cell_type": "code",
   "execution_count": null,
   "id": "e168ef35-70e2-42a2-bbe6-dd65d5061b09",
   "metadata": {},
   "outputs": [],
   "source": []
  }
 ],
 "metadata": {
  "kernelspec": {
   "display_name": "Python 3.10 (XPython)",
   "language": "python",
   "name": "xpython"
  },
  "language_info": {
   "file_extension": ".py",
   "mimetype": "text/x-python",
   "name": "python",
   "version": "3.10.4"
  },
  "otter": {
   "OK_FORMAT": true,
   "tests": {
    "Hello-World": {
     "name": "Hello-World",
     "points": null,
     "suites": [
      {
       "cases": [
        {
         "code": ">>> # Run this test cell right after running your \"Hello, World!\" program.\n>>> import io\n>>> import sys\n>>> \n>>> old_stdout, sys.stdout = sys.stdout, io.StringIO()\n>>> say_hello()\n>>> printed = sys.stdout.getvalue()\n>>> sys.stdout = old_stdout\n>>> assert printed == \"Hello, World!\\n\"\n",
         "hidden": false,
         "locked": false
        }
       ],
       "scored": true,
       "setup": "",
       "teardown": "",
       "type": "doctest"
      }
     ]
    }
   }
  },
  "widgets": {
   "application/vnd.jupyter.widget-state+json": {
    "state": {},
    "version_major": 2,
    "version_minor": 0
   }
  }
 },
 "nbformat": 4,
 "nbformat_minor": 5
}
