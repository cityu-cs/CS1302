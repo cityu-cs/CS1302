{
 "cells": [
  {
   "cell_type": "code",
   "execution_count": null,
   "metadata": {},
   "outputs": [],
   "source": [
    "# Initialization cell\n",
    "try:  # for CS1302 JupyterLite pyodide kernel\n",
    "    import piplite\n",
    "\n",
    "    with open(\"requirements.txt\") as f:\n",
    "        for package in f:\n",
    "            package = package.strip()\n",
    "            print(\"Installing\", package)\n",
    "            await piplite.install(package)\n",
    "except ModuleNotFoundError:\n",
    "    pass"
   ]
  },
  {
   "cell_type": "markdown",
   "metadata": {
    "slideshow": {
     "slide_type": "slide"
    }
   },
   "source": [
    "# Introduction to Computer Programming"
   ]
  },
  {
   "cell_type": "markdown",
   "metadata": {
    "slideshow": {
     "slide_type": "-"
    },
    "tags": [
     "remove-cell"
    ]
   },
   "source": [
    "**CS1302 Introduction to Computer Programming**\n",
    "___"
   ]
  },
  {
   "cell_type": "markdown",
   "metadata": {
    "slideshow": {
     "slide_type": "slide"
    }
   },
   "source": [
    "## Computer"
   ]
  },
  {
   "cell_type": "markdown",
   "metadata": {
    "slideshow": {
     "slide_type": "subslide"
    }
   },
   "source": [
    "### What is a computer?"
   ]
  },
  {
   "cell_type": "markdown",
   "metadata": {
    "slideshow": {
     "slide_type": "subslide"
    }
   },
   "source": [
    "A calculator that is bigger and more advanced?"
   ]
  },
  {
   "cell_type": "markdown",
   "metadata": {
    "slideshow": {
     "slide_type": "-"
    }
   },
   "source": [
    "<center><figure>\n",
    "<a title=\"Ccha23 / CC BY-SA (https://creativecommons.org/licenses/by-sa/4.0)\" href=\"https://commons.wikimedia.org/wiki/File:Calculator_app.png\"><img width=\"400\" alt=\"Calculator app\" src=\"https://upload.wikimedia.org/wikipedia/commons/thumb/4/48/Calculator_app.png/512px-Calculator_app.png\"></a>\n",
    "  <figcaption>A calculator on a computer.</figcaption>\n",
    "</figure>\n",
    "</center>"
   ]
  },
  {
   "cell_type": "markdown",
   "metadata": {
    "slideshow": {
     "slide_type": "subslide"
    }
   },
   "source": [
    "If so, is [abacus](https://en.wikipedia.org/wiki/Abacus) the first computer invented?  "
   ]
  },
  {
   "cell_type": "markdown",
   "metadata": {
    "slideshow": {
     "slide_type": "-"
    }
   },
   "source": [
    "<center><figure>\n",
    "<a title=\"Encyclopædia Britannica / Public domain\" href=\"https://commons.wikimedia.org/wiki/File:Abacus_6.png\"><img width=\"400\" alt=\"Abacus 6\" src=\"https://upload.wikimedia.org/wikipedia/commons/a/af/Abacus_6.png\"></a>\n",
    "  <figcaption>Abacus - an ancient mechanical computing device.</figcaption>\n",
    "</figure>\n",
    "</center>"
   ]
  },
  {
   "cell_type": "markdown",
   "metadata": {
    "slideshow": {
     "slide_type": "fragment"
    }
   },
   "source": [
    "Is your [smartphone](https://en.wikipedia.org/wiki/Samsung_DeX) a computer?  \n",
    "What defines a computer?"
   ]
  },
  {
   "cell_type": "markdown",
   "metadata": {
    "slideshow": {
     "slide_type": "fragment"
    }
   },
   "source": [
    "```{important}\n",
    "\n",
    "In addition to performing arithmetic calculations,\n",
    "- a computer can be *programmed*\n",
    "- to perform different tasks.\n",
    "```"
   ]
  },
  {
   "cell_type": "markdown",
   "metadata": {
    "slideshow": {
     "slide_type": "slide"
    }
   },
   "source": [
    "### What is the architecture of a computer?"
   ]
  },
  {
   "cell_type": "markdown",
   "metadata": {
    "slideshow": {
     "slide_type": "fragment"
    }
   },
   "source": [
    "```{important}\n",
    "A computer contains three main hardware components:\n",
    "- Input device\n",
    "- Processing unit\n",
    "- Output device\n",
    "```"
   ]
  },
  {
   "cell_type": "markdown",
   "metadata": {
    "slideshow": {
     "slide_type": "subslide"
    }
   },
   "source": [
    "#### Peripherals"
   ]
  },
  {
   "cell_type": "markdown",
   "metadata": {
    "slideshow": {
     "slide_type": "-"
    }
   },
   "source": [
    "<center><figure>\n",
    "<a title=\"Unsplash\" href=\"https://unsplash.com/photos/gyRa86ExKTw\"><img width=\"600\" alt=\"Computer peripherals\" src=\"https://images.unsplash.com/flagged/photo-1551954810-43cd6aef5b1f?ixlib=rb-1.2.1&ixid=eyJhcHBfaWQiOjEyMDd9&auto=format&fit=crop&w=3580&q=80\"></a>\n",
    "  <figcaption>Computer Peripherals.</figcaption>\n",
    "</figure>\n",
    "</center>"
   ]
  },
  {
   "cell_type": "markdown",
   "metadata": {
    "slideshow": {
     "slide_type": "fragment"
    }
   },
   "source": [
    "Input and output devices connected to a computer are called *peripherals*.  \n",
    "They allow users to interact with the computer in different ways."
   ]
  },
  {
   "cell_type": "markdown",
   "metadata": {
    "slideshow": {
     "slide_type": "subslide"
    }
   },
   "source": [
    "**Exercise** Some examples of output devices are:\n",
    "- Monitor\n",
    "- Speaker\n",
    "\n",
    "Can you give an awesome example in the following box?"
   ]
  },
  {
   "cell_type": "markdown",
   "metadata": {
    "nbgrader": {
     "grade": true,
     "grade_id": "cell-3ea9d712eccdf31c",
     "locked": false,
     "points": 0,
     "schema_version": 3,
     "solution": true,
     "task": false
    },
    "slideshow": {
     "slide_type": "-"
    }
   },
   "source": [
    "Printer"
   ]
  },
  {
   "cell_type": "markdown",
   "metadata": {
    "slideshow": {
     "slide_type": "subslide"
    }
   },
   "source": [
    "**Exercise** Some examples of input devices are:\n",
    "- Keyboard\n",
    "- Mouse\n",
    "\n",
    "Can you give an awesome example?"
   ]
  },
  {
   "cell_type": "markdown",
   "metadata": {
    "nbgrader": {
     "grade": true,
     "grade_id": "cell-1c411172f0ed411b",
     "locked": false,
     "points": 0,
     "schema_version": 3,
     "solution": true,
     "task": false
    },
    "slideshow": {
     "slide_type": "-"
    }
   },
   "source": [
    "Touchpad"
   ]
  },
  {
   "cell_type": "markdown",
   "metadata": {
    "slideshow": {
     "slide_type": "subslide"
    }
   },
   "source": [
    "**Exercise** Many devices are both input and output device. Can you give at least 3 examples?"
   ]
  },
  {
   "cell_type": "markdown",
   "metadata": {
    "nbgrader": {
     "grade": true,
     "grade_id": "cell-e1982fbce01506b3",
     "locked": false,
     "points": 0,
     "schema_version": 3,
     "solution": true,
     "task": false
    },
    "slideshow": {
     "slide_type": "-"
    }
   },
   "source": [
    "Touch Screen"
   ]
  },
  {
   "cell_type": "markdown",
   "metadata": {
    "slideshow": {
     "slide_type": "slide"
    }
   },
   "source": [
    "#### Central Processing Unit"
   ]
  },
  {
   "cell_type": "markdown",
   "metadata": {
    "slideshow": {
     "slide_type": "-"
    }
   },
   "source": [
    "<center><figure>\n",
    "<a title=\"Unsplash\" href=\"https://unsplash.com/photos/CKpBhTXvLis\"><img width=\"600\" alt=\"CPU\" src=\"https://images.unsplash.com/photo-1555617981-dac3880eac6e?ixlib=rb-1.2.1&ixid=eyJhcHBfaWQiOjEyMDd9&auto=format&fit=crop&w=1950&q=80\"></a>\n",
    "  <figcaption>An Intel CPU.</figcaption>\n",
    "</figure>\n",
    "</center>"
   ]
  },
  {
   "cell_type": "markdown",
   "metadata": {
    "slideshow": {
     "slide_type": "fragment"
    }
   },
   "source": [
    "The brain of a computer is its processor or the [**C**entral **P**rocesisng **U**nit (CPU)](https://en.wikipedia.org/wiki/Central_processing_unit).  \n",
    "It is located on the [*motherboard*](https://en.wikipedia.org/wiki/Motherboard) and connected to different peripherals using different [*connectors*](https://en.wikipedia.org/wiki/Category:Computer_connectors)."
   ]
  },
  {
   "cell_type": "markdown",
   "metadata": {
    "slideshow": {
     "slide_type": "fragment"
    }
   },
   "source": [
    "Two important components in the CPU are:\n",
    "-  **A**rithmetic and **L**ogic **U**nit (**ALU**): Performs arithmetics like a calculator (but for binary numbers)\n",
    "-  **C**ontrol **U**nit (**CU**): Directs the operations of the processor in executing a program."
   ]
  },
  {
   "cell_type": "markdown",
   "metadata": {
    "slideshow": {
     "slide_type": "subslide"
    }
   },
   "source": [
    "To visualize how CPU works, run the [CPU Simulator below](https://github.com/pddring/cpu-simulator).\n",
    "- Note that all values are zeros in the RAM (**R**andom **A**cess **M**emory) initially.\n",
    "- Under Settings, click `Examples`$\\to $`Add two numbers`. Observe that the values in the RAM have changed.\n",
    "- Click `Run` at the bottom right-hand corner."
   ]
  },
  {
   "cell_type": "code",
   "execution_count": 1,
   "metadata": {
    "ExecuteTime": {
     "end_time": "2020-08-23T03:52:31.770264Z",
     "start_time": "2020-08-23T03:52:31.753581Z"
    },
    "slideshow": {
     "slide_type": "-"
    }
   },
   "outputs": [
    {
     "data": {
      "text/html": [
       "<iframe src=\"https://tools.withcode.uk/cpu\" width=\"800\" height=\"800\">\n",
       "</iframe>\n"
      ],
      "text/plain": [
       "<IPython.core.display.HTML object>"
      ]
     },
     "metadata": {},
     "output_type": "display_data"
    }
   ],
   "source": [
    "%%html\n",
    "<iframe src=\"https://tools.withcode.uk/cpu\" width=\"800\" height=\"800\">\n",
    "</iframe>"
   ]
  },
  {
   "cell_type": "markdown",
   "metadata": {
    "slideshow": {
     "slide_type": "slide"
    }
   },
   "source": [
    "## Programming"
   ]
  },
  {
   "cell_type": "markdown",
   "metadata": {
    "slideshow": {
     "slide_type": "subslide"
    }
   },
   "source": [
    "### What is programming?"
   ]
  },
  {
   "cell_type": "markdown",
   "metadata": {
    "slideshow": {
     "slide_type": "fragment"
    }
   },
   "source": [
    "```{important}\n",
    "\n",
    "*Programming*, also called *software development*, is the process of writing programs for the computer to execute different tasks.\n",
    "```"
   ]
  },
  {
   "cell_type": "markdown",
   "metadata": {},
   "source": [
    "But what is a program?"
   ]
  },
  {
   "cell_type": "markdown",
   "metadata": {
    "nbgrader": {
     "grade": false,
     "grade_id": "cell-7675978e85548d96",
     "locked": true,
     "schema_version": 3,
     "solution": false,
     "task": false
    },
    "slideshow": {
     "slide_type": "fragment"
    }
   },
   "source": [
    "**Exercise** You have just seen a program written in [machine language](https://en.wikipedia.org/wiki/Machine_code). Where?"
   ]
  },
  {
   "cell_type": "markdown",
   "metadata": {
    "nbgrader": {
     "grade": true,
     "grade_id": "cell-08298600f10cfc25",
     "locked": false,
     "points": 0,
     "schema_version": 3,
     "solution": true,
     "task": false
    },
    "slideshow": {
     "slide_type": "-"
    }
   },
   "source": [
    "CPU Simulator"
   ]
  },
  {
   "cell_type": "markdown",
   "metadata": {
    "slideshow": {
     "slide_type": "fragment"
    }
   },
   "source": [
    "The CPU is capable of carrying out \n",
    "- a set of instructions such as `Add`, `Subtract`, `Store`, etc.,\n",
    "- for some numbers stored in the RAM."
   ]
  },
  {
   "cell_type": "markdown",
   "metadata": {},
   "source": [
    "Both the instructions and the numbers are represented as binary sequences.\n",
    "- E.g., in Intel-based CPU, the command for addition is **00000011 00000100**"
   ]
  },
  {
   "cell_type": "markdown",
   "metadata": {
    "slideshow": {
     "slide_type": "subslide"
    }
   },
   "source": [
    "### Why computer uses binary representation?"
   ]
  },
  {
   "cell_type": "code",
   "execution_count": 2,
   "metadata": {
    "ExecuteTime": {
     "end_time": "2020-11-27T05:14:52.762257Z",
     "start_time": "2020-11-27T05:14:52.758268Z"
    },
    "slideshow": {
     "slide_type": "fragment"
    }
   },
   "outputs": [
    {
     "data": {
      "text/html": [
       "<iframe width=\"800\" height=\"450\" src=\"https://www.youtube.com/embed/Xpk67YzOn5w\" allowfullscreen></iframe>\n"
      ],
      "text/plain": [
       "<IPython.core.display.HTML object>"
      ]
     },
     "metadata": {},
     "output_type": "display_data"
    }
   ],
   "source": [
    "%%html\n",
    "<iframe width=\"800\" height=\"450\" src=\"https://www.youtube.com/embed/Xpk67YzOn5w\" allowfullscreen></iframe>"
   ]
  },
  {
   "cell_type": "markdown",
   "metadata": {
    "ExecuteTime": {
     "end_time": "2020-08-23T04:12:46.028621Z",
     "start_time": "2020-08-23T04:12:46.019721Z"
    },
    "slideshow": {
     "slide_type": "fragment"
    }
   },
   "source": [
    "**Exercise** The first electronic computer, called [Electronic Numerical Integrator and Computer (ENIAC)](https://en.wikipedia.org/wiki/ENIAC), was programmed using binary circuitries, namely *switches* that can be either `On` or `Off`. \n",
    "\n",
    "<center>\n",
    "    <figure>\n",
    "<a title=\"United States Army / Public domain\" href=\"https://commons.wikimedia.org/wiki/File:Two_women_operating_ENIAC.gif\"><img width=\"512\" alt=\"Two women operating ENIAC\" src=\"https://upload.wikimedia.org/wikipedia/commons/8/8c/Two_women_operating_ENIAC_%28full_resolution%29.jpg\"></a>\n",
    "        <figcaption>Programmers controlling the switches of ENIAC.</figcaption>\n",
    "    </figure>\n",
    "</center>\n",
    "\n",
    "However, it did not represent values efficiently in binary. 10 binary digits (bits) was used to represent a decimal number 0 to 9.  \n",
    "Indeed, how many decimals can be represented by 10 bits?"
   ]
  },
  {
   "cell_type": "code",
   "execution_count": 4,
   "metadata": {
    "nbgrader": {
     "grade": true,
     "grade_id": "cell-1023083cd0aca779",
     "locked": false,
     "points": 0,
     "schema_version": 3,
     "solution": true,
     "task": false
    },
    "slideshow": {
     "slide_type": "-"
    },
    "tags": [
     "hide-cell"
    ]
   },
   "outputs": [
    {
     "name": "stdout",
     "output_type": "stream",
     "text": [
      "1024\n"
     ]
    }
   ],
   "source": [
    "print(2**10)"
   ]
  },
  {
   "cell_type": "markdown",
   "metadata": {
    "slideshow": {
     "slide_type": "fragment"
    }
   },
   "source": [
    "As mentioned in the video, there are *International Standards* for representing characters:\n",
    "- [ASCII](https://en.wikipedia.org/wiki/ASCII) (**A**merican **S**tandard **C**ode for **I**nformation **I**nterchange) maps English letters and some other symbols to 8-bits (8 binary digits, also called a byte). E.g., `A` is `01000001`.\n",
    "- [Unicode](https://en.wikipedia.org/wiki/Unicode) can also represent characters in different languages such as Chinese, Japanese...etc. "
   ]
  },
  {
   "cell_type": "markdown",
   "metadata": {
    "slideshow": {
     "slide_type": "fragment"
    }
   },
   "source": [
    "There are additional standards to represent numbers other than non-negative integers:\n",
    "- [2's complement format](https://en.wikipedia.org/wiki/Two%27s_complement) for negative integers (e.g. -123)\n",
    "- [IEEE floating point format](https://en.wikipedia.org/wiki/IEEE_754) for floating point numbers such as $1.23 x 10^{-4}$."
   ]
  },
  {
   "cell_type": "markdown",
   "metadata": {
    "slideshow": {
     "slide_type": "fragment"
    }
   },
   "source": [
    "```{note}\n",
    "**Why define different standards?**\n",
    "\n",
    "- Different standards have different benefits. ASCII requires less storage for a character, but it represents less characters.\n",
    "- Although digits are also represented in ASCII, the 2's complement format is designed for more efficient arithmetic operations.\n",
    "```"
   ]
  },
  {
   "cell_type": "markdown",
   "metadata": {
    "slideshow": {
     "slide_type": "slide"
    }
   },
   "source": [
    "## Different generations of programming languages"
   ]
  },
  {
   "cell_type": "markdown",
   "metadata": {
    "slideshow": {
     "slide_type": "fragment"
    }
   },
   "source": [
    "```{important}\n",
    "\n",
    "A *machine language* written in *binary sequences* is known as a *1st Generation Programming Language*.\n",
    "```"
   ]
  },
  {
   "cell_type": "markdown",
   "metadata": {
    "slideshow": {
     "slide_type": "fragment"
    }
   },
   "source": [
    "**Are we going to start with machine language?**\n",
    "Start with learning 2's complement and the binary codes for different instructions?"
   ]
  },
  {
   "cell_type": "markdown",
   "metadata": {
    "slideshow": {
     "slide_type": "fragment"
    }
   },
   "source": [
    "No. Programmers do not write machine codes directly because it is too hard to think in binary representations. "
   ]
  },
  {
   "cell_type": "markdown",
   "metadata": {
    "slideshow": {
     "slide_type": "fragment"
    }
   },
   "source": [
    "Instead, programmers write human-readable **mnemonics** such as `ADD`, `SUB`, ...  \n",
    "This is called the *assembly language*:"
   ]
  },
  {
   "cell_type": "markdown",
   "metadata": {
    "slideshow": {
     "slide_type": "fragment"
    }
   },
   "source": [
    "<center>\n",
    "    <figure>\n",
    "<a title=\"Swtpc6800 en:User:Swtpc6800 Michael Holley / Public domain\" href=\"https://commons.wikimedia.org/wiki/File:Motorola_6800_Assembly_Language.png\"><img width=\"600\" alt=\"Motorola 6800 Assembly Language\" src=\"https://upload.wikimedia.org/wikipedia/commons/f/f3/Motorola_6800_Assembly_Language.png\"></a>\n",
    "        <figcaption>\n",
    "            A Code written in an assembly language.\n",
    "        </figcaption>\n",
    "    </figure>\n",
    " </center>"
   ]
  },
  {
   "cell_type": "markdown",
   "metadata": {},
   "source": [
    "```{important}\n",
    "\n",
    "An *assembly language* written in *mnemonics* is the *2nd Generation Programming Language*.\n",
    "```"
   ]
  },
  {
   "cell_type": "markdown",
   "metadata": {
    "slideshow": {
     "slide_type": "subslide"
    }
   },
   "source": [
    "**Are you going to learn an assembly language?**"
   ]
  },
  {
   "cell_type": "markdown",
   "metadata": {
    "slideshow": {
     "slide_type": "fragment"
    }
   },
   "source": [
    "Both machine language and assembly language are low-level languages which are\n",
    "- difficult to write for complicated tasks (requiring many lines of code), and\n",
    "- platform-specific:\n",
    "    - the sets of instructions and their binary codes can be different for different [types of CPUs](https://en.wikipedia.org/wiki/Comparison_of_CPU_microarchitectures), and\n",
    "    - different operating systems use [different assembly languages/styles](https://en.wikipedia.org/wiki/X86_assembly_language)."
   ]
  },
  {
   "cell_type": "markdown",
   "metadata": {
    "slideshow": {
     "slide_type": "fragment"
    }
   },
   "source": [
    "Anyone wants to learn assembly languages, and write a program in many versions to support different platforms?"
   ]
  },
  {
   "cell_type": "markdown",
   "metadata": {
    "slideshow": {
     "slide_type": "fragment"
    }
   },
   "source": [
    "Probably for programmers who need to write fast or energy-efficient code such as\n",
    "- a driver that controls a 3D graphics card, and\n",
    "- a program that control a microprocessor with limited power supply."
   ]
  },
  {
   "cell_type": "markdown",
   "metadata": {
    "slideshow": {
     "slide_type": "fragment"
    }
   },
   "source": [
    "But even in the above cases, there are often better alternatives. Play with the following microprocessor simulator:\n",
    "- Click `CHOOSE A DEMO`$\\to $`LED`.\n",
    "- Click `RUN SCRIPT` and observes the LED of the board.\n",
    "- Run the demos `ASSEMBLY` and `MATH` respectively and compare their capabilities.\n"
   ]
  },
  {
   "cell_type": "code",
   "execution_count": 6,
   "metadata": {
    "ExecuteTime": {
     "end_time": "2020-08-23T12:30:45.988658Z",
     "start_time": "2020-08-23T12:30:45.980714Z"
    },
    "slideshow": {
     "slide_type": "-"
    }
   },
   "outputs": [
    {
     "data": {
      "text/html": [
       "<iframe width=\"810\", height=\"1000\" src=\"https://micropython.org/unicorn/\"></iframe>\n"
      ],
      "text/plain": [
       "<IPython.core.display.HTML object>"
      ]
     },
     "metadata": {},
     "output_type": "display_data"
    }
   ],
   "source": [
    "%%html\n",
    "<iframe width=\"810\", height=\"1000\" src=\"https://micropython.org/unicorn/\"></iframe>"
   ]
  },
  {
   "cell_type": "markdown",
   "metadata": {
    "slideshow": {
     "slide_type": "slide"
    }
   },
   "source": [
    "## High-level Language"
   ]
  },
  {
   "cell_type": "code",
   "execution_count": 7,
   "metadata": {
    "ExecuteTime": {
     "end_time": "2020-08-23T12:31:08.305383Z",
     "start_time": "2020-08-23T12:31:08.296945Z"
    },
    "slideshow": {
     "slide_type": "fragment"
    }
   },
   "outputs": [
    {
     "data": {
      "text/html": [
       "<iframe width=\"800\" height=\"450\" src=\"https://www.youtube.com/embed/QdVFvsCWXrA\" allowfullscreen></iframe>\n"
      ],
      "text/plain": [
       "<IPython.core.display.HTML object>"
      ]
     },
     "metadata": {},
     "output_type": "display_data"
    }
   ],
   "source": [
    "%%html\n",
    "<iframe width=\"800\" height=\"450\" src=\"https://www.youtube.com/embed/QdVFvsCWXrA\" allowfullscreen></iframe>"
   ]
  },
  {
   "cell_type": "markdown",
   "metadata": {
    "slideshow": {
     "slide_type": "subslide"
    }
   },
   "source": [
    "Programmer nowadays write in human-readable languages such as \n",
    "\n",
    "- C/C++\n",
    "- Java\n",
    "- JavaScript/Typescript\n",
    "- Pascal\n",
    "- Basic \n",
    "- HTML\n",
    "- PHP\n",
    "- Python\n",
    "- ...\n",
    "\n",
    "called *high-level languages*."
   ]
  },
  {
   "cell_type": "markdown",
   "metadata": {},
   "source": [
    "```{important}\n",
    "\n",
    "A *high-level language* intended to be *human understandable* is a *3rd Generation Programming Language*.\n",
    "\n",
    "```"
   ]
  },
  {
   "cell_type": "markdown",
   "metadata": {
    "slideshow": {
     "slide_type": "slide"
    }
   },
   "source": [
    "### What is a high-level language?"
   ]
  },
  {
   "cell_type": "markdown",
   "metadata": {
    "slideshow": {
     "slide_type": "fragment"
    }
   },
   "source": [
    "- A program written in a high-level language gets converted automatically to a low-level machine code for the desired platform. \n",
    "- This *abstracts* away low-level details that can be handled by the computer automatically."
   ]
  },
  {
   "cell_type": "markdown",
   "metadata": {
    "slideshow": {
     "slide_type": "fragment"
    }
   },
   "source": [
    "For instance, a programmer needs not care about where a value should be physically stored if the computer can find a free location automatically to store the value."
   ]
  },
  {
   "cell_type": "markdown",
   "metadata": {
    "slideshow": {
     "slide_type": "fragment"
    }
   },
   "source": [
    "Different high-level languages can have different implementations of the conversion processes:\n",
    "- **Compilation** means converting a program well before executing of the program.  \n",
    "  E.g., C++ and Java programs are compiled.\n",
    "- **Interpretation** means converting a program on-the-fly during the execution of a program.  \n",
    "  E.g., JavaScript and Python programs are often interpreted."
   ]
  },
  {
   "cell_type": "markdown",
   "metadata": {},
   "source": [
    "```{seealso}\n",
    "\n",
    "Roughly speaking, compiled programs run faster but interpreted programs are more flexible and can be modified at run time. The [truth](https://finematics.com/compiled-vs-interpreted-programming-languages/) is indeed more complicated.\n",
    "\n",
    "```"
   ]
  },
  {
   "cell_type": "markdown",
   "metadata": {
    "slideshow": {
     "slide_type": "slide"
    }
   },
   "source": [
    "### What programming language will you learn?"
   ]
  },
  {
   "cell_type": "markdown",
   "metadata": {
    "slideshow": {
     "slide_type": "fragment"
    }
   },
   "source": [
    "You will learn to program in *python*, covering\n",
    "-  basic topics including *values*, *variables*, *conditional*, *iterations*, *functions*, *composite data types*,\n",
    "-  advanced topics that touch on functional and object-oriented programming, and\n",
    "-  engineering topics such as *numerical methods*, *optimizations*, and *machine learning*."
   ]
  },
  {
   "cell_type": "markdown",
   "metadata": {
    "slideshow": {
     "slide_type": "subslide"
    }
   },
   "source": [
    "**Why Python?**"
   ]
  },
  {
   "cell_type": "code",
   "execution_count": 8,
   "metadata": {
    "ExecuteTime": {
     "end_time": "2020-08-23T10:59:22.898373Z",
     "start_time": "2020-08-23T10:59:22.889998Z"
    },
    "slideshow": {
     "slide_type": "fragment"
    }
   },
   "outputs": [
    {
     "data": {
      "text/html": [
       "<iframe width=\"800\" height=\"450\" src=\"https://www.youtube.com/embed/Y8Tko2YC5hA?end=200\" allowfullscreen></iframe>\n"
      ],
      "text/plain": [
       "<IPython.core.display.HTML object>"
      ]
     },
     "metadata": {},
     "output_type": "display_data"
    }
   ],
   "source": [
    "%%html\n",
    "<iframe width=\"800\" height=\"450\" src=\"https://www.youtube.com/embed/Y8Tko2YC5hA?end=200\" allowfullscreen></iframe>"
   ]
  },
  {
   "cell_type": "markdown",
   "metadata": {
    "slideshow": {
     "slide_type": "fragment"
    }
   },
   "source": [
    "```{note}\n",
    "\n",
    "Python is:\n",
    "- *expressive* and can get things done with fewer lines of code as compared to other languages.\n",
    "- *popular*. It has an extensive set of libraries for Mathematics, graphics, AI, Machine Learning, etc.\n",
    "- *free and open-source*, so you get to see everything and use it without restrictions.\n",
    "- *portable*, i.e., the same code runs in different platforms without modifications."
   ]
  },
  {
   "cell_type": "markdown",
   "metadata": {
    "slideshow": {
     "slide_type": "subslide"
    }
   },
   "source": [
    "**How does a Python program look like?**"
   ]
  },
  {
   "cell_type": "code",
   "execution_count": 8,
   "metadata": {
    "ExecuteTime": {
     "end_time": "2020-11-27T11:20:05.792756Z",
     "start_time": "2020-11-27T11:20:05.786145Z"
    },
    "slideshow": {
     "slide_type": "-"
    }
   },
   "outputs": [
    {
     "name": "stdin",
     "output_type": "stream",
     "text": [
      "In which year did you join CityU? [e.g., 2020] 2022\n"
     ]
    },
    {
     "name": "stdout",
     "output_type": "stream",
     "text": [
      "So you are a year 1 student.\n"
     ]
    }
   ],
   "source": [
    "import datetime  # library to obtain current year\n",
    "\n",
    "cohort = input(\"In which year did you join CityU? [e.g., 2020]\")\n",
    "year = datetime.datetime.now().year - int(cohort) + 1\n",
    "print(\"So you are a year\", year, \"student.\")"
   ]
  },
  {
   "cell_type": "markdown",
   "metadata": {
    "slideshow": {
     "slide_type": "fragment"
    }
   },
   "source": [
    "A Python program contains *statements* just like sentences in natural languages. E.g.,\n",
    "```python\n",
    "cohort = input(\"In which year did you join CityU? \")\n",
    "```\n",
    "which obtains some information from user input."
   ]
  },
  {
   "cell_type": "markdown",
   "metadata": {
    "slideshow": {
     "slide_type": "fragment"
    }
   },
   "source": [
    "For the purpose of computations, a statement often contains *expressions* that evaluate to certain values.  E.g.,\n",
    "```python\n",
    "input(\"In which year did you join CityU? \")\n",
    "``` \n",
    "is an expression with the value equal to what you input to the prompt.  \n",
    "That value is then given the name `cohort`."
   ]
  },
  {
   "cell_type": "markdown",
   "metadata": {
    "slideshow": {
     "slide_type": "fragment"
    }
   },
   "source": [
    "Expressions can be composed of the following objects:\n",
    "- *Functions* such as `input`, `now`, and `int`, etc., which are like math functions the return some values based on its arguments, if any.\n",
    "- *Literals* such as the string `\"In which year did you join CityU? \"` and the integer `1`. They are values you type out literally.\n",
    "- *Variables* such as `cohort` and `year`, which are meaningful names to values."
   ]
  },
  {
   "cell_type": "markdown",
   "metadata": {
    "slideshow": {
     "slide_type": "fragment"
    }
   },
   "source": [
    "To help others understand the code, there are also *comments* that start with `#`.  \n",
    "These are meant to explain the code to human but not to be executed by the computer."
   ]
  },
  {
   "cell_type": "markdown",
   "metadata": {
    "nbgrader": {
     "grade": false,
     "grade_id": "cell-6c906df220a97280",
     "locked": true,
     "schema_version": 3,
     "solution": false,
     "task": false
    },
    "slideshow": {
     "slide_type": "subslide"
    }
   },
   "source": [
    "**Exercise** What do you think the next generation programming should be?"
   ]
  },
  {
   "cell_type": "markdown",
   "metadata": {
    "nbgrader": {
     "grade": true,
     "grade_id": "cell-205d445ede20461d",
     "locked": false,
     "points": 0,
     "schema_version": 3,
     "solution": true,
     "task": false
    },
    "slideshow": {
     "slide_type": "fragment"
    }
   },
   "source": [
    "```{admonition} Solution\n",
    ":class: dropdown\n",
    "\n",
    "Perhaps programming using natural languages. Write programs that people enjoy reading, like [literate programming](https://www.youtube.com/watch?v=bTkXg2LZIMQ).  \n",
    "Indeed, Jupyter notebook is arguably a step towards this direction. \n",
    "\n",
    "````{seealso}\n",
    "See [nbdev](https://github.com/fastai/nbdev).\n",
    "````\n",
    "```"
   ]
  },
  {
   "cell_type": "code",
   "execution_count": 9,
   "metadata": {
    "ExecuteTime": {
     "end_time": "2020-08-23T12:02:59.640220Z",
     "start_time": "2020-08-23T12:02:59.630355Z"
    }
   },
   "outputs": [
    {
     "data": {
      "text/html": [
       "<iframe width=\"800\" height=\"450\" src=\"https://www.youtube.com/embed/bTkXg2LZIMQ\" allowfullscreen></iframe>\n"
      ],
      "text/plain": [
       "<IPython.core.display.HTML object>"
      ]
     },
     "metadata": {},
     "output_type": "display_data"
    }
   ],
   "source": [
    "%%html\n",
    "<iframe width=\"800\" height=\"450\" src=\"https://www.youtube.com/embed/bTkXg2LZIMQ\" allowfullscreen></iframe>"
   ]
  }
 ],
 "metadata": {
  "celltoolbar": "Slideshow",
  "kernelspec": {
   "display_name": "Python 3 (ipykernel)",
   "language": "python",
   "name": "python3"
  },
  "language_info": {
   "codemirror_mode": {
    "name": "ipython",
    "version": 3
   },
   "file_extension": ".py",
   "mimetype": "text/x-python",
   "name": "python",
   "nbconvert_exporter": "python",
   "pygments_lexer": "ipython3",
   "version": "3.10.6"
  },
  "latex_envs": {
   "LaTeX_envs_menu_present": true,
   "autoclose": false,
   "autocomplete": true,
   "bibliofile": "biblio.bib",
   "cite_by": "apalike",
   "current_citInitial": 1,
   "eqLabelWithNumbers": true,
   "eqNumInitial": 1,
   "hotkeys": {
    "equation": "Ctrl-E",
    "itemize": "Ctrl-I"
   },
   "labels_anchors": false,
   "latex_user_defs": false,
   "report_style_numbering": false,
   "user_envs_cfg": false
  },
  "rise": {
   "enable_chalkboard": true,
   "scroll": true,
   "theme": "white"
  },
  "toc": {
   "base_numbering": 1,
   "nav_menu": {
    "height": "195px",
    "width": "330px"
   },
   "number_sections": true,
   "sideBar": true,
   "skip_h1_title": true,
   "title_cell": "Table of Contents",
   "title_sidebar": "Contents",
   "toc_cell": false,
   "toc_position": {
    "height": "454.418px",
    "left": "1533px",
    "top": "110.284px",
    "width": "435.327px"
   },
   "toc_section_display": true,
   "toc_window_display": false
  },
  "widgets": {
   "application/vnd.jupyter.widget-state+json": {
    "state": {
     "6b9f642579254c33b093a56bb667f19e": {
      "model_module": "jupyter-divewidgets",
      "model_module_version": "^0.1.5",
      "model_name": "OPTWidgetModel",
      "state": {
       "_model_module_version": "^0.1.5",
       "_model_name": "OPTWidgetModel",
       "_view_module_version": "^0.1.5",
       "_view_name": "OPTWidgetView",
       "height": 400,
       "layout": "IPY_MODEL_b40521f0fbc8440695cc56a68aab64bf",
       "script": "# The program here reads the cohort and reports which year the user is in\n# Assumption: Input is integer no greater than 2020\nimport datetime  # load a library to tell the current year\n\ncohort = input(\"In which year did you join CityU? \")\nyear = datetime.datetime.now().year - int(cohort) + 1\nprint(\"So you are a year\", year, \"student.\")\n",
       "srcprefix": "https://dive4dec.github.io/optlite/#mode=display&code=",
       "width": 1100
      }
     },
     "b40521f0fbc8440695cc56a68aab64bf": {
      "model_module": "@jupyter-widgets/base",
      "model_module_version": "1.2.0",
      "model_name": "LayoutModel",
      "state": {}
     }
    },
    "version_major": 2,
    "version_minor": 0
   }
  }
 },
 "nbformat": 4,
 "nbformat_minor": 4
}
