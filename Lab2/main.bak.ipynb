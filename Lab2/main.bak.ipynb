{
 "cells": [
  {
   "cell_type": "code",
   "execution_count": 1,
   "metadata": {
    "deletable": false,
    "editable": false,
    "tags": [
     "remove-cell"
    ]
   },
   "outputs": [],
   "source": [
    "# Initialization cell\n",
    "try:  # for CS1302 JupyterLite pyodide kernel\n",
    "    import piplite\n",
    "\n",
    "    with open(\"requirements.txt\") as f:\n",
    "        for package in f:\n",
    "            package = package.strip()\n",
    "            print(\"Installing\", package)\n",
    "            await piplite.install(package)\n",
    "except ModuleNotFoundError:\n",
    "    pass\n",
    "\n",
    "import math\n",
    "from math import cos, exp, log, pi, sin, tan\n",
    "\n",
    "import jsxgraphs\n",
    "import jupytext\n",
    "import matplotlib.pyplot as plt\n",
    "import numpy as np\n",
    "import otter\n",
    "import sympy as sp\n",
    "from ipywidgets import interact\n",
    "\n",
    "grader = otter.Notebook(\"main.ipynb\")\n",
    "# interactive plot with ipympl\n",
    "%matplotlib widget"
   ]
  },
  {
   "cell_type": "markdown",
   "metadata": {
    "slideshow": {
     "slide_type": "slide"
    }
   },
   "source": [
    "# Lab 2"
   ]
  },
  {
   "cell_type": "markdown",
   "metadata": {
    "slideshow": {
     "slide_type": "-"
    },
    "tags": [
     "remove-cell"
    ]
   },
   "source": [
    "**CS1302 Introduction to Computer Programming**\n",
    "___"
   ]
  },
  {
   "cell_type": "markdown",
   "metadata": {
    "slideshow": {
     "slide_type": "fragment"
    }
   },
   "source": [
    "For this lab, you will create different calculators. We will first show you a demo. Then, it will be your turn to create the calculators."
   ]
  },
  {
   "cell_type": "markdown",
   "metadata": {
    "slideshow": {
     "slide_type": "slide"
    }
   },
   "source": [
    "## Hypotenuse Calculator"
   ]
  },
  {
   "cell_type": "markdown",
   "metadata": {
    "slideshow": {
     "slide_type": "fragment"
    }
   },
   "source": [
    "---\n",
    "\n",
    "**Proposition** \n",
    "\n",
    "By the Pythagoras theorem, given a right-angled triangle,\n",
    "\n",
    "![Right-angled triangle](images/pythagoras.dio.svg)\n",
    "\n",
    "the length of the hypotenuse is\n",
    "\n",
    "$$\n",
    "c = \\sqrt{a^2 + b^2}\n",
    "$$ (hypotenuse)\n",
    "\n",
    "where $a$ and $b$ are the lengths of the other sides of the triangle.\n",
    "\n",
    "---"
   ]
  },
  {
   "cell_type": "markdown",
   "metadata": {},
   "source": [
    "You can verify the theorem using the JSXGraph app below:"
   ]
  },
  {
   "cell_type": "code",
   "execution_count": 2,
   "metadata": {},
   "outputs": [
    {
     "data": {
      "application/vnd.jupyter.widget-view+json": {
       "model_id": "f32d98e9ce9c45688969215915b07e33",
       "version_major": 2,
       "version_minor": 0
      },
      "text/plain": [
       "JSWidget(value=None, height=600, html='<!DOCTYPE html>\\n<html>\\n    <head>\\n    <style>\\n    html, body {\\n   …"
      ]
     },
     "metadata": {},
     "output_type": "display_data"
    }
   ],
   "source": [
    "jsxgraphs.pythagorean1"
   ]
  },
  {
   "cell_type": "markdown",
   "metadata": {},
   "source": [
    "```{seealso}\n",
    "We developed `divewidgets` to run the Javascript library [JSXGraph](https://jsxgraph.uni-bayreuth.de/). You can click the button `scratch` to show and edit the Javascript code. Other mathematical illustrations created using `divewidgets` can be found [here](https://dive4dec.github.io/lab/?path=divemath%2Fdivemath.ipynb) and will be presented in an upcoming [JSXGraph conference open to the public](https://jsxgraph.uni-bayreuth.de/conf2022/registration/).\n",
    "```"
   ]
  },
  {
   "cell_type": "markdown",
   "metadata": {},
   "source": [
    "The following is an interactive graphical proof:"
   ]
  },
  {
   "cell_type": "code",
   "execution_count": 3,
   "metadata": {},
   "outputs": [
    {
     "data": {
      "application/vnd.jupyter.widget-view+json": {
       "model_id": "2540a1155f7845eea86950bfc48c4a73",
       "version_major": 2,
       "version_minor": 0
      },
      "text/plain": [
       "JSWidget(value=None, height=600, html='<!DOCTYPE html>\\n<html>\\n    <head>\\n    <style>\\n    html, body {\\n   …"
      ]
     },
     "metadata": {},
     "output_type": "display_data"
    }
   ],
   "source": [
    "jsxgraphs.pythagorean2"
   ]
  },
  {
   "cell_type": "markdown",
   "metadata": {},
   "source": [
    "Another interactive proof is as follows:"
   ]
  },
  {
   "cell_type": "code",
   "execution_count": 4,
   "metadata": {},
   "outputs": [
    {
     "data": {
      "application/vnd.jupyter.widget-view+json": {
       "model_id": "1f994a1a31284685903bda75afd750ff",
       "version_major": 2,
       "version_minor": 0
      },
      "text/plain": [
       "JSWidget(value=None, height=600, html='<!DOCTYPE html>\\n<html>\\n    <head>\\n    <style>\\n    html, body {\\n   …"
      ]
     },
     "metadata": {},
     "output_type": "display_data"
    }
   ],
   "source": [
    "jsxgraphs.pythagorean3"
   ]
  },
  {
   "cell_type": "markdown",
   "metadata": {},
   "source": [
    "We can define the following function to calculate the length `c` of the hypotenuse when given the lengths `a` and `b` of the other sides: "
   ]
  },
  {
   "cell_type": "code",
   "execution_count": 5,
   "metadata": {
    "ExecuteTime": {
     "end_time": "2021-03-20T14:24:41.414382Z",
     "start_time": "2021-03-20T14:24:41.412057Z"
    },
    "slideshow": {
     "slide_type": "fragment"
    }
   },
   "outputs": [],
   "source": [
    "def length_of_hypotenuse(a, b):\n",
    "    c = (a**2 + b**2) ** (0.5)  # Pythagoras\n",
    "    return c"
   ]
  },
  {
   "cell_type": "markdown",
   "metadata": {
    "slideshow": {
     "slide_type": "fragment"
    }
   },
   "source": [
    "```{note}\n",
    "\n",
    "In the above code,\n",
    "- the formula {eq}`hypotenuse` is written as a python expression using the exponentiation operator `**`, and\n",
    "- the variable `c` is assigned to the value of the expression using the assignment operator `=`.\n",
    "\n",
    "```"
   ]
  },
  {
   "cell_type": "markdown",
   "metadata": {
    "slideshow": {
     "slide_type": "subslide"
    }
   },
   "source": [
    "For example, you may be asked to write Line 2, while Line 1 and 3 are given to you:"
   ]
  },
  {
   "cell_type": "markdown",
   "metadata": {
    "slideshow": {
     "slide_type": "fragment"
    }
   },
   "source": [
    "**Exercise** \n",
    "\n",
    "Complete the function below to return the length `c` of the hypotenuse given the lengths `a` and `b`.\n",
    "\n",
    "```{caution}\n",
    "\n",
    "- You should still complete this exercise to get the credit even though the answer was already revealed as a demo. Instead of copy-and-paste the answer, type it yourself.\n",
    "- Note that indentation affects the execution of python code. In particular, the assignment statement must be indented to indicate that it is part of the *body* of the function. \n",
    "```"
   ]
  },
  {
   "cell_type": "code",
   "execution_count": null,
   "metadata": {
    "ExecuteTime": {
     "end_time": "2021-03-20T14:24:42.977375Z",
     "start_time": "2021-03-20T14:24:42.976117Z"
    },
    "nbgrader": {
     "grade": false,
     "grade_id": "length_of_hypotenuse",
     "locked": false,
     "schema_version": 3,
     "solution": true,
     "task": false
    },
    "slideshow": {
     "slide_type": "-"
    },
    "tags": [
     "remove-output"
    ]
   },
   "outputs": [],
   "source": [
    "def length_of_hypotenuse(a, b):\n",
    "    c = ...\n",
    "    return c"
   ]
  },
  {
   "cell_type": "code",
   "execution_count": null,
   "metadata": {
    "deletable": false,
    "editable": false
   },
   "outputs": [],
   "source": [
    "grader.check(\"length_of_hypotenuse\")"
   ]
  },
  {
   "cell_type": "markdown",
   "metadata": {
    "slideshow": {
     "slide_type": "subslide"
    }
   },
   "source": [
    "We will use `ipywidgets` to let user interact with the calculator more easily:\n",
    "\n",
    "- After running the cell, move the sliders to change the values of `a` and `b`. \n",
    "- Observer that the value of `c` is updated immediately."
   ]
  },
  {
   "cell_type": "code",
   "execution_count": 6,
   "metadata": {
    "ExecuteTime": {
     "end_time": "2021-03-20T14:24:46.386473Z",
     "start_time": "2021-03-20T14:24:46.340180Z"
    },
    "code_folding": [],
    "slideshow": {
     "slide_type": "-"
    },
    "tags": [
     "remove-output"
    ]
   },
   "outputs": [
    {
     "data": {
      "application/vnd.jupyter.widget-view+json": {
       "model_id": "e90198296b9d44d4be12a21ad820fbdf",
       "version_major": 2,
       "version_minor": 0
      },
      "text/plain": [
       "interactive(children=(IntSlider(value=3, description='a', max=10), IntSlider(value=4, description='b', max=10)…"
      ]
     },
     "metadata": {},
     "output_type": "display_data"
    }
   ],
   "source": [
    "# hypotenuse calculator\n",
    "@interact(a=(0, 10, 1), b=(0, 10, 1))\n",
    "def calculate_hypotenuse(a=3, b=4):\n",
    "    print(\"c: {:.2f}\".format(length_of_hypotenuse(a, b)))"
   ]
  },
  {
   "cell_type": "markdown",
   "metadata": {
    "slideshow": {
     "slide_type": "fragment"
    }
   },
   "source": [
    "```{note}\n",
    "\n",
    "The hypotenuse is printed up to 2 decimal places using the format specification `{:.2f}`.\n",
    "\n",
    "```"
   ]
  },
  {
   "cell_type": "markdown",
   "metadata": {
    "slideshow": {
     "slide_type": "subslide"
    }
   },
   "source": [
    "You can check your code with a few cases listed in the test cell below."
   ]
  },
  {
   "cell_type": "markdown",
   "metadata": {
    "slideshow": {
     "slide_type": "slide"
    },
    "tags": []
   },
   "source": [
    "## Quadratic equation"
   ]
  },
  {
   "cell_type": "markdown",
   "metadata": {
    "slideshow": {
     "slide_type": "subslide"
    }
   },
   "source": [
    "### Graphical calculator for parabola"
   ]
  },
  {
   "cell_type": "markdown",
   "metadata": {
    "slideshow": {
     "slide_type": "subslide"
    }
   },
   "source": [
    "---\n",
    "\n",
    "**Definition** Parabola\n",
    "\n",
    "\n",
    "The collection of points $(x,y)$ satisfying the following equation forms a *parabola*:\n",
    "\n",
    "$$\n",
    "y=ax^2+bx+c\n",
    "$$ (parabola)\n",
    "\n",
    "where $a$, $b$, and $c$ are real numbers called the *coefficients*.\n",
    "\n",
    "---"
   ]
  },
  {
   "cell_type": "markdown",
   "metadata": {},
   "source": [
    "The following plots the parabola with difference choices of coefficients. "
   ]
  },
  {
   "cell_type": "code",
   "execution_count": 7,
   "metadata": {},
   "outputs": [
    {
     "data": {
      "application/vnd.jupyter.widget-view+json": {
       "model_id": "e0128bac388b43d39d4674ca1f37ac14",
       "version_major": 2,
       "version_minor": 0
      },
      "text/plain": [
       "JSWidget(value=None, height=600, html='<!DOCTYPE html>\\n<html>\\n    <head>\\n    <style>\\n    html, body {\\n   …"
      ]
     },
     "metadata": {},
     "output_type": "display_data"
    }
   ],
   "source": [
    "jsxgraphs.parabola"
   ]
  },
  {
   "cell_type": "markdown",
   "metadata": {
    "slideshow": {
     "slide_type": "fragment"
    }
   },
   "source": [
    "**Exercise** \n",
    "\n",
    "Given the variables `x`, `a`, `b`, and `c` store the $x$-coordinate and the coefficients $a$, $b$, and $c$ respectively, assign `y` the corresponding $y$-coordinate of the parabola {eq}`parabola`."
   ]
  },
  {
   "cell_type": "code",
   "execution_count": null,
   "metadata": {
    "ExecuteTime": {
     "end_time": "2021-03-20T14:24:54.263505Z",
     "start_time": "2021-03-20T14:24:54.261046Z"
    },
    "nbgrader": {
     "grade": false,
     "grade_id": "get_y",
     "locked": false,
     "schema_version": 3,
     "solution": true,
     "task": false
    },
    "slideshow": {
     "slide_type": "-"
    },
    "tags": [
     "remove-output"
    ]
   },
   "outputs": [],
   "source": [
    "def get_y(x, a, b, c):\n",
    "    ...\n",
    "    return y"
   ]
  },
  {
   "cell_type": "markdown",
   "metadata": {},
   "source": [
    "To test your code:"
   ]
  },
  {
   "cell_type": "code",
   "execution_count": null,
   "metadata": {
    "deletable": false,
    "editable": false
   },
   "outputs": [],
   "source": [
    "grader.check(\"parabola\")"
   ]
  },
  {
   "cell_type": "markdown",
   "metadata": {},
   "source": [
    "To run the graphical calculator:"
   ]
  },
  {
   "cell_type": "code",
   "execution_count": null,
   "metadata": {
    "ExecuteTime": {
     "end_time": "2021-03-02T13:26:34.128830Z",
     "start_time": "2021-03-02T13:26:33.719638Z"
    },
    "code_folding": [],
    "slideshow": {
     "slide_type": "subslide"
    },
    "tags": [
     "remove-output"
    ]
   },
   "outputs": [],
   "source": [
    "# graphical calculator for parabola\n",
    "fig, ax = plt.subplots()\n",
    "xmin, xmax, ymin, ymax, resolution = -10, 10, -10, 10, 50\n",
    "x = np.linspace(xmin, xmax, resolution)\n",
    "ax.set_title(r\"$y=ax^2+bx+c$\")\n",
    "ax.set_xlabel(r\"$x$\")\n",
    "ax.set_ylabel(r\"$y$\")\n",
    "ax.set_xlim([xmin, xmax])\n",
    "ax.set_ylim([ymin, ymax])\n",
    "ax.grid()\n",
    "(p,) = ax.plot(x, get_y(x, 0, 0, 0))\n",
    "\n",
    "\n",
    "@interact(a=(-10, 10, 1), b=(-10, 10, 1), c=(-10, 10, 1))\n",
    "def plot_parabola(a, b, c):\n",
    "    p.set_ydata(get_y(x, a, b, c))"
   ]
  },
  {
   "cell_type": "markdown",
   "metadata": {
    "slideshow": {
     "slide_type": "slide"
    },
    "tags": []
   },
   "source": [
    "### Quadratic equation solver"
   ]
  },
  {
   "cell_type": "markdown",
   "metadata": {},
   "source": [
    "![quadratic-equation-solver](images/quadratic.dio.svg)"
   ]
  },
  {
   "cell_type": "markdown",
   "metadata": {
    "slideshow": {
     "slide_type": "subslide"
    }
   },
   "source": [
    "---\n",
    "\n",
    "**Proposition**\n",
    "\n",
    "For the quadratic equation\n",
    "\n",
    "$$\n",
    "ax^2+bx+c=0,\n",
    "$$ (quadratic)\n",
    "the *roots* (solutions for $x$) are give by\n",
    "\n",
    "$$\n",
    "\\frac{-b-\\sqrt{b^2-4ac}}{2a},\\frac{-b+\\sqrt{b^2-4ac}}{2a}.\n",
    "$$ (quadratic_roots)\n",
    "\n",
    "---"
   ]
  },
  {
   "cell_type": "markdown",
   "metadata": {
    "slideshow": {
     "slide_type": "fragment"
    }
   },
   "source": [
    "**Exercise** \n",
    "\n",
    "Assign to `root1` and `root2` the values of the first and second roots above respectively."
   ]
  },
  {
   "cell_type": "code",
   "execution_count": null,
   "metadata": {
    "ExecuteTime": {
     "end_time": "2021-03-20T14:25:25.676812Z",
     "start_time": "2021-03-20T14:25:25.673522Z"
    },
    "nbgrader": {
     "grade": false,
     "grade_id": "get_roots",
     "locked": false,
     "schema_version": 3,
     "solution": true,
     "task": false
    },
    "slideshow": {
     "slide_type": "fragment"
    },
    "tags": [
     "remove-output"
    ]
   },
   "outputs": [],
   "source": [
    "def get_roots(a, b, c):\n",
    "    ...\n",
    "    return root1, root2"
   ]
  },
  {
   "cell_type": "markdown",
   "metadata": {},
   "source": [
    "To test your code:"
   ]
  },
  {
   "cell_type": "code",
   "execution_count": null,
   "metadata": {
    "deletable": false,
    "editable": false
   },
   "outputs": [],
   "source": [
    "grader.check(\"roots\")"
   ]
  },
  {
   "cell_type": "markdown",
   "metadata": {},
   "source": [
    "To run the calculator:"
   ]
  },
  {
   "cell_type": "code",
   "execution_count": null,
   "metadata": {
    "ExecuteTime": {
     "end_time": "2021-03-20T14:25:30.720050Z",
     "start_time": "2021-03-20T14:25:30.689142Z"
    },
    "code_folding": [
     0
    ],
    "slideshow": {
     "slide_type": "fragment"
    },
    "tags": [
     "remove-output"
    ]
   },
   "outputs": [],
   "source": [
    "# quadratic equations solver\n",
    "@interact(a=(-10, 10, 1), b=(-10, 10, 1), c=(-10, 10, 1))\n",
    "def quadratic_equation_solver(a=1, b=2, c=1):\n",
    "    print(\"Roots: {}, {}\".format(*get_roots(a, b, c)))"
   ]
  },
  {
   "cell_type": "markdown",
   "metadata": {
    "slideshow": {
     "slide_type": "slide"
    },
    "tags": []
   },
   "source": [
    "## Number conversion"
   ]
  },
  {
   "cell_type": "markdown",
   "metadata": {
    "slideshow": {
     "slide_type": "subslide"
    }
   },
   "source": [
    "### Byte-to-Decimal calculator"
   ]
  },
  {
   "cell_type": "markdown",
   "metadata": {
    "slideshow": {
     "slide_type": "-"
    }
   },
   "source": [
    "![byte-to-decimal](images/byte-to-decimal.dio.svg)"
   ]
  },
  {
   "cell_type": "markdown",
   "metadata": {
    "slideshow": {
     "slide_type": "subslide"
    }
   },
   "source": [
    "Denote a binary number stored in a byte ($8$ bits) as\n",
    "\n",
    "$$ \n",
    "b_7\\circ b_6\\circ b_5\\circ b_4\\circ b_3\\circ b_2\\circ b_1\\circ b_0, \n",
    "$$\n",
    "where $\\circ$ concatenates $b_i$'s together into a binary string."
   ]
  },
  {
   "cell_type": "markdown",
   "metadata": {
    "slideshow": {
     "slide_type": "fragment"
    }
   },
   "source": [
    "The binary string can be converted to a decimal number by the formula\n",
    "\n",
    "$$ \n",
    "b_7\\cdot 2^7 + b_6\\cdot 2^6 + b_5\\cdot 2^5 + b_4\\cdot 2^4 + b_3\\cdot 2^3 + b_2\\cdot 2^2 + b_1\\cdot 2^1 + b_0\\cdot 2^0. \n",
    "$$"
   ]
  },
  {
   "cell_type": "markdown",
   "metadata": {
    "slideshow": {
     "slide_type": "fragment"
    }
   },
   "source": [
    "E.g., the binary string `'11111111'` is the largest integer represented by a byte:\n",
    "\n",
    "$$\n",
    "2^7+2^6+2^5+2^4+2^3+2^2+2^1+2^0=255=2^8-1.\n",
    "$$"
   ]
  },
  {
   "cell_type": "markdown",
   "metadata": {
    "slideshow": {
     "slide_type": "fragment"
    }
   },
   "source": [
    "**Exercise** \n",
    "\n",
    "Assign to `decimal` the *integer* value represented by the binary sequence `b7,b6,b5,b4,b3,b2,b1,b0` of *characters* `'0'` or `'1'`."
   ]
  },
  {
   "cell_type": "code",
   "execution_count": null,
   "metadata": {
    "ExecuteTime": {
     "end_time": "2021-03-20T14:25:34.448688Z",
     "start_time": "2021-03-20T14:25:34.444753Z"
    },
    "nbgrader": {
     "grade": false,
     "grade_id": "byte_to_decimal",
     "locked": false,
     "schema_version": 3,
     "solution": true,
     "task": false
    },
    "slideshow": {
     "slide_type": "fragment"
    },
    "tags": [
     "remove-output"
    ]
   },
   "outputs": [],
   "source": [
    "def byte_to_decimal(b7, b6, b5, b4, b3, b2, b1, b0):\n",
    "    \"\"\"\n",
    "    Parameters\n",
    "    ----------\n",
    "    b7, ..., b0: single characters either '0' or '1'.\n",
    "    \"\"\"\n",
    "    ...\n",
    "    return decimal"
   ]
  },
  {
   "cell_type": "markdown",
   "metadata": {},
   "source": [
    "To test your code:"
   ]
  },
  {
   "cell_type": "code",
   "execution_count": null,
   "metadata": {
    "deletable": false,
    "editable": false
   },
   "outputs": [],
   "source": [
    "grader.check(\"byte_to_decimal\")"
   ]
  },
  {
   "cell_type": "markdown",
   "metadata": {},
   "source": [
    "To run the calculator:"
   ]
  },
  {
   "cell_type": "code",
   "execution_count": null,
   "metadata": {
    "ExecuteTime": {
     "end_time": "2021-03-20T14:25:36.463010Z",
     "start_time": "2021-03-20T14:25:36.3364Z"
    },
    "code_folding": [
     0
    ],
    "tags": [
     "remove-output"
    ]
   },
   "outputs": [],
   "source": [
    "# byte-to-decimal calculator\n",
    "bit = [\"0\", \"1\"]\n",
    "\n",
    "\n",
    "@interact(b7=bit, b6=bit, b5=bit, b4=bit, b3=bit, b2=bit, b1=bit, b0=bit)\n",
    "def convert_byte_to_decimal(b7, b6, b5, b4, b3, b2, b1, b0):\n",
    "    print(\"decimal:\", byte_to_decimal(b7, b6, b5, b4, b3, b2, b1, b0))"
   ]
  },
  {
   "cell_type": "markdown",
   "metadata": {
    "slideshow": {
     "slide_type": "subslide"
    }
   },
   "source": [
    "### Decimal-to-Byte calculator"
   ]
  },
  {
   "cell_type": "markdown",
   "metadata": {
    "slideshow": {
     "slide_type": "-"
    }
   },
   "source": [
    "![decimal-to-byte](images/decimal-to-byte.dio.svg)"
   ]
  },
  {
   "cell_type": "markdown",
   "metadata": {
    "slideshow": {
     "slide_type": "subslide"
    }
   },
   "source": [
    "**Exercise** Assign to `byte` a *string of 8 bits* that represents the value of `decimal`, a non-negative decimal integer from $0$ to $2^8-1=255$.  \n",
    "\n",
    "```{hint}\n",
    "\n",
    "Use the operators `//` and `%`.\n",
    "\n",
    "```"
   ]
  },
  {
   "cell_type": "code",
   "execution_count": null,
   "metadata": {
    "ExecuteTime": {
     "end_time": "2021-03-20T14:25:40.354594Z",
     "start_time": "2021-03-20T14:25:40.350920Z"
    },
    "nbgrader": {
     "grade": false,
     "grade_id": "decimal_to_byte",
     "locked": false,
     "schema_version": 3,
     "solution": true,
     "task": false
    },
    "slideshow": {
     "slide_type": "-"
    },
    "tags": [
     "remove-output"
    ]
   },
   "outputs": [],
   "source": [
    "def decimal_to_byte(decimal):\n",
    "    ...\n",
    "    return byte"
   ]
  },
  {
   "cell_type": "markdown",
   "metadata": {},
   "source": [
    "To test your code:"
   ]
  },
  {
   "cell_type": "code",
   "execution_count": null,
   "metadata": {
    "deletable": false,
    "editable": false
   },
   "outputs": [],
   "source": [
    "grader.check(\"decimal_to_byte\")"
   ]
  },
  {
   "cell_type": "markdown",
   "metadata": {},
   "source": [
    "To run the calculator:"
   ]
  },
  {
   "cell_type": "code",
   "execution_count": null,
   "metadata": {
    "ExecuteTime": {
     "end_time": "2021-03-20T14:25:41.519031Z",
     "start_time": "2021-03-20T14:25:41.500298Z"
    },
    "code_folding": [
     0
    ],
    "slideshow": {
     "slide_type": "fragment"
    },
    "tags": [
     "remove-output"
    ]
   },
   "outputs": [],
   "source": [
    "# decimal-to-byte calculator\n",
    "@interact(decimal=(0, 255, 1))\n",
    "def convert_decimal_to_byte(decimal=0):\n",
    "    print(\"byte:\", decimal_to_byte(decimal))"
   ]
  },
  {
   "cell_type": "markdown",
   "metadata": {
    "tags": []
   },
   "source": [
    "## Symbolic calculators"
   ]
  },
  {
   "cell_type": "markdown",
   "metadata": {},
   "source": [
    "Can we do complicated arithmetics with python. What about Calculus?  "
   ]
  },
  {
   "cell_type": "markdown",
   "metadata": {},
   "source": [
    "$$\n",
    "\\int \\tan(x)\\, dx = \\color{red}{?}\n",
    "$$"
   ]
  },
  {
   "cell_type": "markdown",
   "metadata": {},
   "source": [
    "Try [SymPy Gamma](https://gamma.sympy.org/input/?i=integrate%28tan%28x%29%29) or [SymPy Beta](https://sympy-beta.vercel.app/input/integrate%28tan%28x%29%29)."
   ]
  },
  {
   "cell_type": "markdown",
   "metadata": {},
   "source": [
    "```{tip}\n",
    "\n",
    "- Take a look at the different panels to learn about the solution: `Steps`, `Plot`, and `Derivative`.\n",
    "- Try different [random examples](https://gamma.sympy.org/).\n",
    "\n",
    "```"
   ]
  },
  {
   "cell_type": "markdown",
   "metadata": {},
   "source": [
    "**How does SymPy Gamma work?**"
   ]
  },
  {
   "cell_type": "markdown",
   "metadata": {},
   "source": [
    "- [SymPy Gamma](https://gamma.sympy.org/) is a web application running [SymPy](https://docs.sympy.org/latest/index.html), which is a python library for symbolic computation.\n",
    "- [SymPy Beta](https://github.com/eagleoflqj/sympy_beta) is a fork of SymPy Gamma that can run totally in the browser."
   ]
  },
  {
   "cell_type": "markdown",
   "metadata": {},
   "source": [
    "**How to use SymPy?**"
   ]
  },
  {
   "cell_type": "markdown",
   "metadata": {},
   "source": [
    "The following line in the initialization cell imports the library:\n",
    "\n",
    "```python\n",
    "import sympy as sp\n",
    "```"
   ]
  },
  {
   "cell_type": "markdown",
   "metadata": {},
   "source": [
    "We need to define a symbolic variable and assign it to a python variable."
   ]
  },
  {
   "cell_type": "code",
   "execution_count": null,
   "metadata": {},
   "outputs": [],
   "source": [
    "x = sp.symbols(\"x\")\n",
    "x"
   ]
  },
  {
   "cell_type": "markdown",
   "metadata": {},
   "source": [
    "The SymPy expression for $\\tan(x)$ is:"
   ]
  },
  {
   "cell_type": "code",
   "execution_count": null,
   "metadata": {},
   "outputs": [],
   "source": [
    "f = sp.tan(x)\n",
    "f"
   ]
  },
  {
   "cell_type": "markdown",
   "metadata": {},
   "source": [
    "To compute the integration:\n",
    "\n",
    "$$\n",
    "\\int f(x) dx\n",
    "$$"
   ]
  },
  {
   "cell_type": "code",
   "execution_count": null,
   "metadata": {},
   "outputs": [],
   "source": [
    "g = sp.integrate(f)\n",
    "g"
   ]
  },
  {
   "cell_type": "markdown",
   "metadata": {},
   "source": [
    "To compute the derivative:\n",
    "\n",
    "$$\n",
    "\\frac{d}{dx}g(x)\n",
    "$$"
   ]
  },
  {
   "cell_type": "code",
   "execution_count": null,
   "metadata": {},
   "outputs": [],
   "source": [
    "diff_g = sp.diff(g)\n",
    "diff_g"
   ]
  },
  {
   "cell_type": "markdown",
   "metadata": {},
   "source": [
    "The answer can be simplified as expected:"
   ]
  },
  {
   "cell_type": "code",
   "execution_count": null,
   "metadata": {},
   "outputs": [],
   "source": [
    "diff_g.simplify()"
   ]
  },
  {
   "cell_type": "markdown",
   "metadata": {},
   "source": [
    "To plot the functions:"
   ]
  },
  {
   "cell_type": "code",
   "execution_count": null,
   "metadata": {},
   "outputs": [],
   "source": [
    "p = sp.plot(f, g, (x, -2 * sp.pi / 5, 2 * sp.pi / 5), ylabel=\"y\", legend=True)"
   ]
  },
  {
   "cell_type": "markdown",
   "metadata": {},
   "source": [
    "**Exercise**\n",
    "\n",
    "Using SymPy expressions\n",
    "\n",
    "- assign to `x` a SymPy variable named `\"x\"`,\n",
    "- assign to `f` the expression $\\frac{1}{\\sqrt{1 - x^2}}$ in terms of `x`,\n",
    "- assign to `g` the result of $\\int \\frac{1}{\\sqrt{1 - x^2}} dx$, and\n",
    "- *optionally*, plot `f` and `g` for $x\\in \\left[-\\frac45, \\frac45\\right]$.\n",
    "\n",
    "```{caution}\n",
    "\n",
    "Use `sp.sqrt` or `**(sp.S(1)/2)` for square root instead of `**0.5`. See [SymPy gotchas](https://docs.sympy.org/latest/gotchas.html).\n",
    "\n",
    "```"
   ]
  },
  {
   "cell_type": "code",
   "execution_count": null,
   "metadata": {
    "deletable": false,
    "editable": false,
    "tags": []
   },
   "outputs": [],
   "source": [
    "import sympy as sp"
   ]
  },
  {
   "cell_type": "code",
   "execution_count": null,
   "metadata": {
    "tags": []
   },
   "outputs": [],
   "source": [
    "x = ...\n",
    "f = ...\n",
    "g = ...\n",
    "..."
   ]
  },
  {
   "cell_type": "markdown",
   "metadata": {},
   "source": [
    "The following test should plot your expression `f` in SymPy."
   ]
  },
  {
   "cell_type": "code",
   "execution_count": null,
   "metadata": {
    "deletable": false,
    "editable": false
   },
   "outputs": [],
   "source": [
    "grader.check(\"sympy\")"
   ]
  },
  {
   "cell_type": "markdown",
   "metadata": {
    "editable": false,
    "tags": [
     "remove-cell"
    ]
   },
   "source": [
    "## Submission\n",
    "\n",
    "Make sure you have run all cells in your notebook in order before running the cell below, so that all images/graphs appear in the output. The cell below will generate a zip file for you to submit. **Please save before exporting!**"
   ]
  },
  {
   "cell_type": "code",
   "execution_count": null,
   "metadata": {
    "editable": true,
    "tags": []
   },
   "outputs": [],
   "source": [
    "# extra files to submit\n",
    "extra_files = [\"jsxgraphs.py\"]"
   ]
  },
  {
   "cell_type": "code",
   "execution_count": null,
   "metadata": {
    "editable": false,
    "tags": []
   },
   "outputs": [],
   "source": [
    "# Generate the source main.py necessary for grading and similarity check.\n",
    "jupytext.write(jupytext.read(\"main.ipynb\"), \"main.py\", fmt=\"py:percent\")"
   ]
  },
  {
   "cell_type": "code",
   "execution_count": null,
   "metadata": {
    "editable": true,
    "tags": []
   },
   "outputs": [],
   "source": [
    "# Generate the zip file to submit.\n",
    "grader.export(pdf=False, run_tests=False, files=[\"main.py\", *extra_files])"
   ]
  }
 ],
 "metadata": {
  "celltoolbar": "Create Assignment",
  "kernelspec": {
   "display_name": "Python 3 (ipykernel)",
   "language": "python",
   "name": "python3"
  },
  "language_info": {
   "codemirror_mode": {
    "name": "ipython",
    "version": 3
   },
   "file_extension": ".py",
   "mimetype": "text/x-python",
   "name": "python",
   "nbconvert_exporter": "python",
   "pygments_lexer": "ipython3",
   "version": "3.10.6"
  },
  "latex_envs": {
   "LaTeX_envs_menu_present": true,
   "autoclose": false,
   "autocomplete": true,
   "bibliofile": "biblio.bib",
   "cite_by": "apalike",
   "current_citInitial": 1,
   "eqLabelWithNumbers": true,
   "eqNumInitial": 1,
   "hotkeys": {
    "equation": "Ctrl-E",
    "itemize": "Ctrl-I"
   },
   "labels_anchors": false,
   "latex_user_defs": false,
   "report_style_numbering": false,
   "user_envs_cfg": false
  },
  "otter": {
   "OK_FORMAT": true,
   "tests": {
    "byte_to_decimal": {
     "name": "byte_to_decimal",
     "points": null,
     "suites": [
      {
       "cases": [
        {
         "code": ">>> def test_byte_to_decimal(decimal, b7, b6, b5, b4, b3, b2, b1, b0):\n...     decimal_ = byte_to_decimal(b7, b6, b5, b4, b3, b2, b1, b0)\n...     assert decimal == decimal_ and isinstance(decimal_, int)\n>>> \n>>> \n>>> test_byte_to_decimal(38, \"0\", \"0\", \"1\", \"0\", \"0\", \"1\", \"1\", \"0\")\n>>> test_byte_to_decimal(20, \"0\", \"0\", \"0\", \"1\", \"0\", \"1\", \"0\", \"0\")\n>>> test_byte_to_decimal(22, \"0\", \"0\", \"0\", \"1\", \"0\", \"1\", \"1\", \"0\")\n",
         "hidden": false,
         "locked": false
        }
       ],
       "scored": true,
       "setup": "",
       "teardown": "",
       "type": "doctest"
      }
     ]
    },
    "decimal_to_byte": {
     "name": "decimal_to_byte",
     "points": null,
     "suites": [
      {
       "cases": [
        {
         "code": ">>> def test_decimal_to_byte(byte, decimal):\n...     byte_ = decimal_to_byte(decimal)\n...     assert byte == byte_ and isinstance(byte, str) and len(byte) == 8\n>>> \n>>> \n>>> test_decimal_to_byte(\"01100111\", 103)\n>>> test_decimal_to_byte(\"00000011\", 3)\n>>> test_decimal_to_byte(\"00011100\", 28)\n",
         "hidden": false,
         "locked": false
        }
       ],
       "scored": true,
       "setup": "",
       "teardown": "",
       "type": "doctest"
      }
     ]
    },
    "length_of_hypotenuse": {
     "name": "length_of_hypotenuse",
     "points": null,
     "suites": [
      {
       "cases": [
        {
         "code": ">>> import numpy as np\n>>> \n>>> assert np.isclose(length_of_hypotenuse(0, 0), 0)\n>>> assert np.isclose(length_of_hypotenuse(3, 4), 5)\n",
         "hidden": false,
         "locked": false
        }
       ],
       "scored": true,
       "setup": "",
       "teardown": "",
       "type": "doctest"
      }
     ]
    },
    "parabola": {
     "name": "parabola",
     "points": null,
     "suites": [
      {
       "cases": [
        {
         "code": ">>> import numpy as np\n>>> \n>>> assert np.isclose(get_y(0, 0, 0, 0), 0)\n>>> assert np.isclose(get_y(0, 1, 2, 1), 1)\n",
         "hidden": false,
         "locked": false
        }
       ],
       "scored": true,
       "setup": "",
       "teardown": "",
       "type": "doctest"
      }
     ]
    },
    "roots": {
     "name": "roots",
     "points": null,
     "suites": [
      {
       "cases": [
        {
         "code": ">>> import numpy as np\n>>> \n>>> assert np.isclose(get_roots(1, 1, 0), (-1.0, 0.0)).all()\n>>> assert np.isclose(get_roots(1, 2, 1), (-1.0, -1.0)).all()\n>>> assert np.isclose(get_roots(2, 2, 1), (-0.5 - 0.5j, -0.5 + 0.5j)).all()\n",
         "hidden": false,
         "locked": false
        }
       ],
       "scored": true,
       "setup": "",
       "teardown": "",
       "type": "doctest"
      }
     ]
    },
    "sympy": {
     "name": "sympy",
     "points": null,
     "suites": [
      {
       "cases": [
        {
         "code": ">>> import sympy as sp\n>>> \n>>> assert sp.simplify(f.subs(x, 0) - 1) == 0\n>>> assert sp.simplify(f.subs(x, sp.S(1)/2) - sp.sqrt(3)*2/3) == 0\n",
         "hidden": false,
         "locked": false
        }
       ],
       "scored": true,
       "setup": "",
       "teardown": "",
       "type": "doctest"
      }
     ]
    }
   }
  },
  "rise": {
   "enable_chalkboard": true,
   "scroll": true,
   "theme": "white"
  },
  "toc": {
   "base_numbering": 1,
   "nav_menu": {
    "height": "195px",
    "width": "330px"
   },
   "number_sections": true,
   "sideBar": true,
   "skip_h1_title": true,
   "title_cell": "Table of Contents",
   "title_sidebar": "Contents",
   "toc_cell": false,
   "toc_position": {
    "height": "454.418px",
    "left": "1533px",
    "top": "110.284px",
    "width": "435.327px"
   },
   "toc_section_display": true,
   "toc_window_display": false
  },
  "widgets": {
   "application/vnd.jupyter.widget-state+json": {
    "state": {
     "1f994a1a31284685903bda75afd750ff": {
      "model_module": "jupyter-divewidgets",
      "model_module_version": "^0.1.5",
      "model_name": "JSWidgetModel",
      "state": {
       "_model_module_version": "^0.1.5",
       "_view_module_version": "^0.1.5",
       "html": "<!DOCTYPE html>\n<html>\n    <head>\n    <style>\n    html, body {\n        height: 100%;\n    }\n    body {\n        width: 100%;\n        display: flex;\n        padding: 0;\n        margin: 0;\n    }\n    .jxgbox {\n        width:100%; \n        flex-grow: 1;\n    }\n    </style>\n    <link rel=\"stylesheet\" type=\"text/css\" href=\"https://jsxgraph.org/distrib/jsxgraph.css\" />\n    <script type=\"text/javascript\" src=\"https://cdn.jsdelivr.net/npm/jsxgraph/distrib/jsxgraphcore.js\"></script>\n    <script type=\"text/javascript\" src=\"https://cdn.jsdelivr.net/npm/mathjax@3/es5/tex-chtml.js\"></script>\n    </head>\n<body>\n<div id=\"box\" class=\"jxgbox\"></div>\n</body>\n</html>",
       "js": "\nJXG.Options.text.useMathJax = true;\nvar board = JXG.JSXGraph.initBoard('box', {boundingbox: [-1, 13, 15, -3], axis:true, showCopyright:false});\nvar a = board.create('slider', [[1, -1], [5,-1], [2, 6, 7]], {name:'a', snapWidth: 0.1});\nvar b = board.create('slider', [[8, -1], [12,-1], [2, 3, 7]], {name:'b', snapWidth: 0.1});\nvar m = board.create('slider', [[1, -2], [12,-2], [0, 0, 2]], {name:'move', snapWidth: 0.1, withLabel:false});\nboard.create('text',[1+m.point2.X(),m.point2.Y(),\"move\"],{fixed: true, anchorX: 'middle'});\nvar s = board.create('point', [1,1],{face:\"\", withLabel:false});\nvar right_ab = board.create('transform', [()=>a.Value()+b.Value(),0], {type:'translate'});\nvar right_a = board.create('transform', [()=>a.Value(),0], {type:'translate'});\nvar right_b = board.create('transform', [()=>b.Value(),0], {type:'translate'});\nvar left_a = board.create('transform', [()=> -a.Value(),0], {type:'translate'});\nvar left_b = board.create('transform', [()=> -b.Value(),0], {type:'translate'});\nvar up_ab = board.create('transform', [0,()=>a.Value()+b.Value()], {type:'translate'});\nvar up_a = board.create('transform', [0,()=>a.Value()], {type:'translate'});\nvar up_b = board.create('transform', [0,()=>b.Value()], {type:'translate'});\nvar down_a = board.create('transform', [0,()=> -a.Value()], {type:'translate'});\nvar down_b = board.create('transform', [0,()=> -b.Value()], {type:'translate'});\nvar no_move = board.create('transform', [0,0], {type:'translate'});\n\n\nvar r2 = board.create('point', [s,right_ab], {visible: false});\nvar po0 =  board.create('regularpolygon',[s,r2,4], \n                        {withLines: true, fillColor:'none', highlightFillColor:'none',\n                         vertices:{face:'', withLabel: false},\n                         borders: {strokeWidth:1, strokeColor:'black'}});\n\nvar tri1 = [];\ntri1[0] = board.create('point', [s, up_b], {visible: false});\ntri1[1] = board.create('point', [tri1[0], down_b], {visible: false});\ntri1[2] = board.create('point', [tri1[0], [down_b,right_a]], {visible: false});\nvar po1 = board.create('polygon',[tri1[0],tri1[1],tri1[2]], \n                        {withLines: true, fillColor:'red', highlightFillColor:'none',\n                         vertices:{face:'', withLabel: false},\n                         borders: {strokeWidth:1, strokeColor:'black'}});\n\nboard.create('segment',[tri1[0],tri1[1]],{strokeWidth:0, withLabel: true, name:'b', label:{offset:[-10, b.Value()/2]}});\nboard.create('segment',[tri1[1],tri1[2]],{strokeWidth:0, withLabel: true, name:'a', label:{offset:[a.Value()/2, -10]}});\nboard.create('segment',[tri1[2],tri1[0]],{strokeWidth:0, withLabel: true, name:'c', label:{offset:[a.Value()/2-10, b.Value()/2-10]}});\n\nvar move_tri2 = board.create('transform', [()=>a.Value(), 0], {type:'translate'});\nvar tri2 = [];\ntri2[0] = board.create('point', [s, move_tri2], {visible: false});\ntri2[1] = board.create('point', [tri2[0], right_b], {visible: false});\ntri2[2] = board.create('point', [tri2[0], [right_b,up_a]], {visible: false});\nvar po2 = board.create('polygon',[tri2[0],tri2[1],tri2[2]], \n                        {withLines: true, fillColor:'green', highlightFillColor:'none',\n                         vertices:{face:'', withLabel: false},\n                         borders: {strokeWidth:1, strokeColor:'black'}});\n\n//anchor of tri3 should be changed\n/*\nvar move_tri3 = board.create('transform', [()=>a.Value()+b.Value(), ()=>a.Value()], {type:'translate'});\nvar tri3 = [];\ntri3[0] = board.create('point', [s, move_tri3], {visible: false});\ntri3[1] = board.create('point', [tri3[0], up_b], {visible: false});\ntri3[2] = board.create('point', [tri3[0], [up_b,left_a]], {visible: false});\nvar po3 = board.create('polygon',[tri3[0],tri3[1],tri3[2]], \n                        {withLines: true, fillColor:'blue', highlightFillColor:'none',\n                         vertices:{face:'', withLabel: false},\n                         borders: {strokeWidth:1, strokeColor:'black'}});\n*/\n\nvar move_tri3_2 = board.create('transform', [()=>b.Value(), ()=>a.Value()+b.Value()], {type:'translate'});\nvar tri3_2 = [];\ntri3_2[0] = board.create('point', [s, move_tri3_2], {visible: false});\ntri3_2[1] = board.create('point', [tri3_2[0], right_a], {visible: false});\ntri3_2[2] = board.create('point', [tri3_2[0], [right_a, down_b]], {visible: false});\nvar po3 = board.create('polygon',[tri3_2[0],tri3_2[1],tri3_2[2]], \n                        {withLines: true, fillColor:'blue', highlightFillColor:'none',\n                         vertices:{face:'', withLabel: false},\n                         borders: {strokeWidth:1, strokeColor:'black'}});\n\nvar move_tri4 = board.create('transform', [()=>b.Value(), ()=>a.Value()+b.Value()], {type:'translate'});\nvar tri4 = [];\ntri4[0] = board.create('point', [s, move_tri4], {visible: false});\ntri4[1] = board.create('point', [tri4[0], left_b], {visible: false});\ntri4[2] = board.create('point', [tri4[0], [left_b,down_a]], {visible: false});\nvar po4 = board.create('polygon',[tri4[0],tri4[1],tri4[2]], \n                        {withLines: true, fillColor:'yellow', highlightFillColor:'none',\n                         vertices:{face:'', withLabel: false},\n                         borders: {strokeWidth:1, strokeColor:'black'}});\n\nvar rot_tri2 = board.create('transform', [function(){return m.Value()*Math.PI/4;}, tri2[0]], {type:'rotate'});\nrot_tri2.bindTo([tri2[1],tri2[2]]);\n\nvar rot_tri3 = board.create('transform', [function(){return - m.Value()*Math.PI/4;}, tri3_2[0]], {type:'rotate'});\nrot_tri3.bindTo([tri3_2[1],tri3_2[2]]);\n\nboard.create('segment',[tri2[1], board.create('point', [tri2[1], right_b], {visible: false})],{visible:()=>(m.Value()>=1.99),strokeWidth:1, dash:2});\n\n\nboard.create('text',[()=>s.X()+a.Value()*1/2+b.Value(),()=>s.Y()+b.Value()+1/2*a.Value(),function(){\n        return '\\\\[ a^2 \\\\]';\n    }],{visible: ()=> {return (m.Value()>=1.99);}, anchorX: 'middle', anchorY: 'auto'});\n\nboard.create('text',[()=>s.X()+a.Value()+1/2*b.Value(),()=>s.Y()+1/2*b.Value(),function(){\n    return '\\\\[b^2\\\\]';\n    }],{visible: ()=> {return (m.Value()>=1.99);}, anchorX: 'middle', anchorY: 'auto'});\n\nboard.create('text',[()=>s.X()+1/2*(a.Value()+b.Value()),()=>s.Y()+1/2*(a.Value()+b.Value()),function(){\n    return '\\\\[c^2\\\\]';\n    }],{visible: ()=> {return (m.Value()<0.4);}, anchorX: 'middle', anchorY: 'auto'});\n",
       "layout": "IPY_MODEL_590bf3d74084479b932091f38b9a282e"
      }
     },
     "2540a1155f7845eea86950bfc48c4a73": {
      "model_module": "jupyter-divewidgets",
      "model_module_version": "^0.1.5",
      "model_name": "JSWidgetModel",
      "state": {
       "_model_module_version": "^0.1.5",
       "_view_module_version": "^0.1.5",
       "html": "<!DOCTYPE html>\n<html>\n    <head>\n    <style>\n    html, body {\n        height: 100%;\n    }\n    body {\n        width: 100%;\n        display: flex;\n        padding: 0;\n        margin: 0;\n    }\n    .jxgbox {\n        width:100%; \n        flex-grow: 1;\n    }\n    </style>\n    <link rel=\"stylesheet\" type=\"text/css\" href=\"https://jsxgraph.org/distrib/jsxgraph.css\" />\n    <script type=\"text/javascript\" src=\"https://cdn.jsdelivr.net/npm/jsxgraph/distrib/jsxgraphcore.js\"></script>\n    <script type=\"text/javascript\" src=\"https://cdn.jsdelivr.net/npm/mathjax@3/es5/tex-chtml.js\"></script>\n    </head>\n<body>\n<div id=\"box\" class=\"jxgbox\"></div>\n</body>\n</html>",
       "js": "\nJXG.Options.text.useMathJax = true;\nvar board = JXG.JSXGraph.initBoard('box', {boundingbox: [-1, 13, 15, -3], axis:true, showCopyright:false});\nvar a = board.create('slider', [[1, -1], [5,-1], [2, 6, 7]], {name:'a', snapWidth: 0.1});\nvar b = board.create('slider', [[8, -1], [12,-1], [2, 3, 7]], {name:'b', snapWidth: 0.1});\nvar m = board.create('slider', [[1, -2], [12,-2], [0, 0, 2]], {name:'move', snapWidth: 0.1, withLabel:false});\nboard.create('text',[1+m.point2.X(),m.point2.Y(),\"move\"],{fixed: true, anchorX: 'middle'});\nvar s = board.create('point', [1,1],{face:\"\", withLabel:false});\nvar right_ab = board.create('transform', [()=>a.Value()+b.Value(),0], {type:'translate'});\nvar right_a = board.create('transform', [()=>a.Value(),0], {type:'translate'});\nvar right_b = board.create('transform', [()=>b.Value(),0], {type:'translate'});\nvar left_a = board.create('transform', [()=> -a.Value(),0], {type:'translate'});\nvar left_b = board.create('transform', [()=> -b.Value(),0], {type:'translate'});\nvar up_ab = board.create('transform', [0,()=>a.Value()+b.Value()], {type:'translate'});\nvar up_a = board.create('transform', [0,()=>a.Value()], {type:'translate'});\nvar up_b = board.create('transform', [0,()=>b.Value()], {type:'translate'});\nvar down_a = board.create('transform', [0,()=> -a.Value()], {type:'translate'});\nvar down_b = board.create('transform', [0,()=> -b.Value()], {type:'translate'});\nvar no_move = board.create('transform', [0,0], {type:'translate'});\n\n\nvar r2 = board.create('point', [s,right_ab], {visible: false});\nvar po0 =  board.create('regularpolygon',[s,r2,4], \n                        {withLines: true, fillColor:'none', highlightFillColor:'none',\n                         vertices:{face:'', withLabel: false},\n                         borders: {strokeWidth:1, strokeColor:'black'}});\n\nvar tri1 = [];\ntri1[0] = board.create('point', [s, up_b], {visible: false});\ntri1[1] = board.create('point', [tri1[0], down_b], {visible: false});\ntri1[2] = board.create('point', [tri1[0], [down_b,right_a]], {visible: false});\nvar po1 = board.create('polygon',[tri1[0],tri1[1],tri1[2]], \n                        {withLines: true, fillColor:'red', highlightFillColor:'none',\n                         vertices:{face:'', withLabel: false},\n                         borders: {strokeWidth:1, strokeColor:'black'}});\n\nboard.create('segment',[tri1[0],tri1[1]],{strokeWidth:0, withLabel: true, name:'b', label:{offset:[-10, b.Value()/2]}});\nboard.create('segment',[tri1[1],tri1[2]],{strokeWidth:0, withLabel: true, name:'a', label:{offset:[a.Value()/2, -10]}});\nboard.create('segment',[tri1[2],tri1[0]],{strokeWidth:0, withLabel: true, name:'c', label:{offset:[a.Value()/2-10, b.Value()/2-10]}});\n\nvar move_tri2 = board.create('transform', [()=>a.Value(), ()=>b.Value()*(1-Math.min(m.Value(),1))], {type:'translate'});\nvar tri2 = [];\ntri2[0] = board.create('point', [s, move_tri2], {visible: false});\ntri2[1] = board.create('point', [tri2[0], right_b], {visible: false});\ntri2[2] = board.create('point', [tri2[0], [right_b,up_a]], {visible: false});\nvar po2 = board.create('polygon',[tri2[0],tri2[1],tri2[2]], \n                        {withLines: true, fillColor:'green', highlightFillColor:'none',\n                         vertices:{face:'', withLabel: false},\n                         borders: {strokeWidth:1, strokeColor:'black'}});\n\nvar move_tri3 = board.create('transform', [()=>a.Value()+b.Value()*(Math.max(m.Value(),1)-1), ()=>a.Value()*(Math.max(m.Value(),1)-1)], {type:'translate'});\nvar tri3 = [];\ntri3[0] = board.create('point', [s, move_tri3], {visible: false});\ntri3[1] = board.create('point', [tri3[0], up_b], {visible: false});\ntri3[2] = board.create('point', [tri3[0], [up_b,left_a]], {visible: false});\nvar po3 = board.create('polygon',[tri3[0],tri3[1],tri3[2]], \n                        {withLines: true, fillColor:'blue', highlightFillColor:'none',\n                         vertices:{face:'', withLabel: false},\n                         borders: {strokeWidth:1, strokeColor:'black'}});\n\n\nvar move_tri4 = board.create('transform', [()=>b.Value()+a.Value()*(1-Math.min(m.Value(),1)), ()=>a.Value()+b.Value()], {type:'translate'});\nvar tri4 = [];\ntri4[0] = board.create('point', [s, move_tri4], {visible: false});\ntri4[1] = board.create('point', [tri4[0], left_b], {visible: false});\ntri4[2] = board.create('point', [tri4[0], [left_b,down_a]], {visible: false});\nvar po4 = board.create('polygon',[tri4[0],tri4[1],tri4[2]], \n                        {withLines: true, fillColor:'yellow', highlightFillColor:'none',\n                         vertices:{face:'', withLabel: false},\n                         borders: {strokeWidth:1, strokeColor:'black'}});\n\nboard.create('text',[()=>s.X()+1/2*a.Value(),()=>s.Y()+b.Value()+1/2*a.Value(),function(){\n        return '\\\\[ a^2 \\\\]';\n    }],{visible: ()=> {return (m.Value()<0.3);}, anchorX: 'middle', anchorY: 'auto'});\n\nboard.create('text',[()=>s.X()+a.Value()+1/2*b.Value(),()=>s.Y()+1/2*b.Value(),function(){\n    return '\\\\[b^2\\\\]';\n    }],{visible: ()=> {return (m.Value()<0.3);}, anchorX: 'middle', anchorY: 'auto'});\n\nboard.create('text',[()=>s.X()+1/2*(a.Value()+b.Value()),()=>s.Y()+1/2*(a.Value()+b.Value()),function(){\n    return '\\\\[c^2\\\\]';\n    }],{visible: ()=> {return (m.Value()>1.9);}, anchorX: 'middle', anchorY: 'auto'});\n",
       "layout": "IPY_MODEL_9cb187f08795405ba3195afcdd0d7e66"
      }
     },
     "40709b1df6bf4ca0858edda9da191bd1": {
      "model_module": "@jupyter-widgets/base",
      "model_module_version": "1.2.0",
      "model_name": "LayoutModel",
      "state": {}
     },
     "590bf3d74084479b932091f38b9a282e": {
      "model_module": "@jupyter-widgets/base",
      "model_module_version": "1.2.0",
      "model_name": "LayoutModel",
      "state": {}
     },
     "731ea75ee10d4edc9bc7ebd7893afca0": {
      "model_module": "@jupyter-widgets/output",
      "model_module_version": "1.0.0",
      "model_name": "OutputModel",
      "state": {
       "layout": "IPY_MODEL_40709b1df6bf4ca0858edda9da191bd1",
       "outputs": [
        {
         "name": "stdout",
         "output_type": "stream",
         "text": "c: 5.00\n"
        }
       ]
      }
     },
     "9b65e569047245fc8d4f4b124cbbd624": {
      "model_module": "@jupyter-widgets/controls",
      "model_module_version": "1.5.0",
      "model_name": "SliderStyleModel",
      "state": {
       "description_width": ""
      }
     },
     "9cb187f08795405ba3195afcdd0d7e66": {
      "model_module": "@jupyter-widgets/base",
      "model_module_version": "1.2.0",
      "model_name": "LayoutModel",
      "state": {}
     },
     "9ce9c8ef63cd451195f4caae415b50e9": {
      "model_module": "@jupyter-widgets/base",
      "model_module_version": "1.2.0",
      "model_name": "LayoutModel",
      "state": {}
     },
     "a2379efb2507446f860afce3a0224b79": {
      "model_module": "@jupyter-widgets/base",
      "model_module_version": "1.2.0",
      "model_name": "LayoutModel",
      "state": {}
     },
     "ac2f71361ed44ae7a2a436c6d2a91885": {
      "model_module": "@jupyter-widgets/controls",
      "model_module_version": "1.5.0",
      "model_name": "IntSliderModel",
      "state": {
       "description": "b",
       "layout": "IPY_MODEL_fba04bc6f4314165b4a895e48c5304cf",
       "max": 10,
       "style": "IPY_MODEL_9b65e569047245fc8d4f4b124cbbd624",
       "value": 4
      }
     },
     "bbb153b060a240bb808134703d2c8b38": {
      "model_module": "@jupyter-widgets/base",
      "model_module_version": "1.2.0",
      "model_name": "LayoutModel",
      "state": {}
     },
     "c5806e5ae6df498c82dfb3b8a7cff32f": {
      "model_module": "@jupyter-widgets/controls",
      "model_module_version": "1.5.0",
      "model_name": "SliderStyleModel",
      "state": {
       "description_width": ""
      }
     },
     "ce337e91c6fc4fd38a124ee4f9f33e4b": {
      "model_module": "@jupyter-widgets/base",
      "model_module_version": "1.2.0",
      "model_name": "LayoutModel",
      "state": {}
     },
     "d80e2701e16e4b41b3f21958b1e74cef": {
      "model_module": "@jupyter-widgets/controls",
      "model_module_version": "1.5.0",
      "model_name": "IntSliderModel",
      "state": {
       "description": "a",
       "layout": "IPY_MODEL_a2379efb2507446f860afce3a0224b79",
       "max": 10,
       "style": "IPY_MODEL_c5806e5ae6df498c82dfb3b8a7cff32f",
       "value": 3
      }
     },
     "e0128bac388b43d39d4674ca1f37ac14": {
      "model_module": "jupyter-divewidgets",
      "model_module_version": "^0.1.5",
      "model_name": "JSWidgetModel",
      "state": {
       "_model_module_version": "^0.1.5",
       "_view_module_version": "^0.1.5",
       "html": "<!DOCTYPE html>\n<html>\n    <head>\n    <style>\n    html, body {\n        height: 100%;\n    }\n    body {\n        width: 100%;\n        display: flex;\n        padding: 0;\n        margin: 0;\n    }\n    .jxgbox {\n        width:100%; \n        flex-grow: 1;\n    }\n    </style>\n    <link rel=\"stylesheet\" type=\"text/css\" href=\"https://jsxgraph.org/distrib/jsxgraph.css\" />\n    <script type=\"text/javascript\" src=\"https://cdn.jsdelivr.net/npm/jsxgraph/distrib/jsxgraphcore.js\"></script>\n    <script type=\"text/javascript\" src=\"https://cdn.jsdelivr.net/npm/mathjax@3/es5/tex-chtml.js\"></script>\n    </head>\n<body>\n<div id=\"box\" class=\"jxgbox\"></div>\n</body>\n</html>",
       "js": "\nJXG.Options.text.useMathJax = true;\nvar brd = JXG.JSXGraph.initBoard('box', {boundingbox: [-8, 8, 8, -8], axis:true,  showCopyright:false});\nvar a = brd.create('slider', [[3, -3], [6,-3], [-3, 1, 3]], {name:'a', snapWidth: 0.1});\nvar b = brd.create('slider', [[3, -4], [6,-4], [-3, 0, 3]], {name:'b', snapWidth: 0.1});\nvar c = brd.create('slider', [[3, -5], [6,-5], [-3, 0, 3]], {name:'c', snapWidth: 0.1});\nvar graph1 = brd.create('functiongraph', [function(x){return a.Value()*x*x + b.Value()*x + c.Value();}, -10, 10]);\nvar text1 = brd.create('text',[-6,2,function(){return '\\\\[y=ax^2+bx+c\\\\]';}]);\n",
       "layout": "IPY_MODEL_bbb153b060a240bb808134703d2c8b38"
      }
     },
     "e453d56026254e4f94d1ebaf1a1c7595": {
      "model_module": "jupyter-divewidgets",
      "model_module_version": "^0.1.5",
      "model_name": "JSWidgetModel",
      "state": {
       "_model_module_version": "^0.1.5",
       "_view_module_version": "^0.1.5",
       "html": "<!DOCTYPE html>\n<html>\n    <head>\n    <style>\n    html, body {\n        height: 100%;\n    }\n    body {\n        width: 100%;\n        display: flex;\n        padding: 0;\n        margin: 0;\n    }\n    .jxgbox {\n        width:100%; \n        flex-grow: 1;\n    }\n    </style>\n    <link rel=\"stylesheet\" type=\"text/css\" href=\"https://jsxgraph.org/distrib/jsxgraph.css\" />\n    <script type=\"text/javascript\" src=\"https://cdn.jsdelivr.net/npm/jsxgraph/distrib/jsxgraphcore.js\"></script>\n    <script type=\"text/javascript\" src=\"https://cdn.jsdelivr.net/npm/mathjax@3/es5/tex-chtml.js\"></script>\n    </head>\n<body>\n<div id=\"box\" class=\"jxgbox\"></div>\n</body>\n</html>",
       "js": "\nJXG.Options.text.useMathJax = true;\nvar brd = JXG.JSXGraph.initBoard('box', {boundingbox: [-10, 10, 10, -10], axis:true,  showCopyright:false});\nvar a = brd.create('slider', [[3, -3], [6,-3], [-5, 1, 5]], {name:'a', snapWidth: 0.1});\nvar b = brd.create('slider', [[3, -4], [6,-4], [-5, 0, 5]], {name:'b', snapWidth: 0.1});\nvar c = brd.create('slider', [[3, -5], [6,-5], [-5, 0, 5]], {name:'c', snapWidth: 0.1});\nvar graph1 = brd.create('functiongraph', [function(x){return a.Value()*x*x + b.Value()*x + c.Value();}, -10, 10]);\nvar line1 = brd.create('line',[[-10,0],[10,0]], {visible: false});\nvar inter1 = brd.create('intersection',[graph1, line1, 0],{name:\"\\\\[x_1\\\\]\"});\nvar inter2 = brd.create('intersection',[graph1, line1, 1],{name:\"\\\\[x_2\\\\]\"});\nvar get_roots = function(a, b, c){\nd=Math.sqrt(b*b-4*a*c);\n\nreturn -b}\n\nvar text1 = brd.create('text',[-8,-6,function(){return '\\\\[y=ax^2+bx+c\\\\]';}]);\nvar text2 = brd.create('text',[3,-6,function(){return '\\\\[b^2-4ac='+(b.Value()*b.Value() - 4*a.Value()*c.Value()).toFixed(2)+'\\\\]'}])\nvar text3 = \n",
       "layout": "IPY_MODEL_e8aaeab5b36b417992819b441e7d1d82"
      }
     },
     "e8aaeab5b36b417992819b441e7d1d82": {
      "model_module": "@jupyter-widgets/base",
      "model_module_version": "1.2.0",
      "model_name": "LayoutModel",
      "state": {}
     },
     "e90198296b9d44d4be12a21ad820fbdf": {
      "model_module": "@jupyter-widgets/controls",
      "model_module_version": "1.5.0",
      "model_name": "VBoxModel",
      "state": {
       "_dom_classes": [
        "widget-interact"
       ],
       "children": [
        "IPY_MODEL_d80e2701e16e4b41b3f21958b1e74cef",
        "IPY_MODEL_ac2f71361ed44ae7a2a436c6d2a91885",
        "IPY_MODEL_731ea75ee10d4edc9bc7ebd7893afca0"
       ],
       "layout": "IPY_MODEL_9ce9c8ef63cd451195f4caae415b50e9"
      }
     },
     "f32d98e9ce9c45688969215915b07e33": {
      "model_module": "jupyter-divewidgets",
      "model_module_version": "^0.1.5",
      "model_name": "JSWidgetModel",
      "state": {
       "_model_module_version": "^0.1.5",
       "_view_module_version": "^0.1.5",
       "html": "<!DOCTYPE html>\n<html>\n    <head>\n    <style>\n    html, body {\n        height: 100%;\n    }\n    body {\n        width: 100%;\n        display: flex;\n        padding: 0;\n        margin: 0;\n    }\n    .jxgbox {\n        width:100%; \n        flex-grow: 1;\n    }\n    </style>\n    <link rel=\"stylesheet\" type=\"text/css\" href=\"https://jsxgraph.org/distrib/jsxgraph.css\" />\n    <script type=\"text/javascript\" src=\"https://cdn.jsdelivr.net/npm/jsxgraph/distrib/jsxgraphcore.js\"></script>\n    <script type=\"text/javascript\" src=\"https://cdn.jsdelivr.net/npm/mathjax@3/es5/tex-chtml.js\"></script>\n    </head>\n<body>\n<div id=\"box\" class=\"jxgbox\"></div>\n</body>\n</html>",
       "js": "\nJXG.Options.text.useMathJax = true;\nvar board = JXG.JSXGraph.initBoard('box', {boundingbox: [-1, 15, 17, -3], axis:true, grid:true, showCopyright:false});\nvar a = board.create('slider', [[1, -1], [5,-1], [2, 4, 7]], {name:'a', snapWidth: 0.1});\nvar b = board.create('slider', [[8, -1], [12,-1], [2, 3, 7]], {name:'b', snapWidth: 0.1});\n\nvar s = board.create('point', [6,6],{face:\"\", withLabel:false});\nvar right_ab = board.create('transform', [()=>a.Value()+b.Value(),0], {type:'translate'});\nvar right_a = board.create('transform', [()=>a.Value(),0], {type:'translate'});\nvar right_b = board.create('transform', [()=>b.Value(),0], {type:'translate'});\nvar left_a = board.create('transform', [()=> -a.Value(),0], {type:'translate'});\nvar left_b = board.create('transform', [()=> -b.Value(),0], {type:'translate'});\nvar up_ab = board.create('transform', [0,()=>a.Value()+b.Value()], {type:'translate'});\nvar up_a = board.create('transform', [0,()=>a.Value()], {type:'translate'});\nvar up_b = board.create('transform', [0,()=>b.Value()], {type:'translate'});\nvar down_a = board.create('transform', [0,()=> -a.Value()], {type:'translate'});\nvar down_b = board.create('transform', [0,()=> -b.Value()], {type:'translate'});\nvar no_move = board.create('transform', [0,0], {type:'translate'});\n\n\nvar tri1 = [];\ntri1[0] = board.create('point', [s, up_b], {visible: true, size:2, name:'A', label:{offset:[-10,10]}});\ntri1[1] = board.create('point', [tri1[0], down_b], {visible: true, size:2, name:'C', label:{offset:[-10,-10]}});\ntri1[2] = board.create('point', [tri1[0], [down_b,right_a]], {visible: true, size:2, name:'B', label:{offset:[10,0]}});\nvar po1 = board.create('polygon',[tri1[0], tri1[1],tri1[2]], \n                        {withLines: true, fillColor:'none', highlightFillColor:'none',\n                         vertices:{face:'', withLabel: false},\n                         borders: {strokeWidth:1, strokeColor:'black'}});\n\nboard.create('segment',[tri1[0],tri1[1]],{strokeWidth:0, withLabel: true, name:'b', label:{offset:[-10, b.Value()/2]}});\nboard.create('segment',[tri1[1],tri1[2]],{strokeWidth:0, withLabel: true, name:'a', label:{offset:[a.Value()/2, -10]}});\nboard.create('segment',[tri1[2],tri1[0]],{strokeWidth:0, withLabel: true, name:'c', label:{offset:[a.Value()/2-10, b.Value()/2-10]}});\n\n\nvar po_a = board.create('regularpolygon',[tri1[1],tri1[0],4], \n                        {withLines: true, fillColor:'red', highlightFillColor:'none',\n                         vertices:{face:'', withLabel: false},\n                         borders: {strokeWidth:1, strokeColor:'black'}});\n\nvar po_b = board.create('regularpolygon',[tri1[2],tri1[1],4], \n                        {withLines: true, fillColor:'green', highlightFillColor:'none',\n                         vertices:{face:'', withLabel: false},\n                         borders: {strokeWidth:1, strokeColor:'black'}});\n\nvar po_c = board.create('regularpolygon',[tri1[0],tri1[2],4], \n                        {withLines: true, fillColor:'yellow', highlightFillColor:'none',\n                         vertices:{face:'', withLabel: false},\n                         borders: {strokeWidth:1, strokeColor:'black'}});\n\n\nboard.create('text',[()=>s.X()+a.Value()/2,()=>s.Y()-a.Value()/2,function(){\n        return (po_b.Area()).toFixed(2);\n    }],{anchorX: 'middle', anchorY: 'auto'});\n\nboard.create('text',[()=>s.X()-b.Value()/2,()=>s.Y()+b.Value()/2,function(){\n        return (po_a.Area()).toFixed(2);\n    }],{anchorX: 'middle', anchorY: 'auto'});\n    \nboard.create('text',[()=>s.X()+a.Value(),()=>s.Y()+b.Value(),function(){\n        return (po_c.Area()).toFixed(2);\n    }],{anchorX: 'middle', anchorY: 'auto'});\n",
       "layout": "IPY_MODEL_ce337e91c6fc4fd38a124ee4f9f33e4b"
      }
     },
     "fba04bc6f4314165b4a895e48c5304cf": {
      "model_module": "@jupyter-widgets/base",
      "model_module_version": "1.2.0",
      "model_name": "LayoutModel",
      "state": {}
     }
    },
    "version_major": 2,
    "version_minor": 0
   }
  }
 },
 "nbformat": 4,
 "nbformat_minor": 4
}