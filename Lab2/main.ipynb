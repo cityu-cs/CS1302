{
 "cells": [
  {
   "cell_type": "code",
   "execution_count": 1,
   "metadata": {
    "deletable": false,
    "editable": false,
    "tags": [
     "remove-cell"
    ]
   },
   "outputs": [],
   "source": [
    "# Initialization cell\n",
    "try:  # for CS1302 JupyterLite pyodide kernel\n",
    "    import piplite\n",
    "\n",
    "    with open(\"requirements.txt\") as f:\n",
    "        for package in f:\n",
    "            package = package.strip()\n",
    "            print(\"Installing\", package)\n",
    "            await piplite.install(package)\n",
    "except ModuleNotFoundError:\n",
    "    pass\n",
    "\n",
    "import math\n",
    "from math import cos, exp, log, pi, sin, tan\n",
    "\n",
    "import jsxgraphs\n",
    "import jupytext\n",
    "import matplotlib.pyplot as plt\n",
    "import numpy as np\n",
    "import otter\n",
    "import sympy as sp\n",
    "from ipywidgets import interact\n",
    "\n",
    "grader = otter.Notebook(\"main.ipynb\")\n",
    "# interactive plot with ipympl\n",
    "%matplotlib widget"
   ]
  },
  {
   "cell_type": "markdown",
   "metadata": {
    "slideshow": {
     "slide_type": "slide"
    }
   },
   "source": [
    "# Lab 2"
   ]
  },
  {
   "cell_type": "markdown",
   "metadata": {
    "slideshow": {
     "slide_type": "-"
    },
    "tags": [
     "remove-cell"
    ]
   },
   "source": [
    "**CS1302 Introduction to Computer Programming**\n",
    "___"
   ]
  },
  {
   "cell_type": "markdown",
   "metadata": {
    "slideshow": {
     "slide_type": "fragment"
    }
   },
   "source": [
    "For this lab, you will create different calculators. We will first show you a demo. Then, it will be your turn to create the calculators."
   ]
  },
  {
   "cell_type": "markdown",
   "metadata": {
    "slideshow": {
     "slide_type": "slide"
    }
   },
   "source": [
    "## Hypotenuse Calculator"
   ]
  },
  {
   "cell_type": "markdown",
   "metadata": {
    "slideshow": {
     "slide_type": "fragment"
    }
   },
   "source": [
    "---\n",
    "\n",
    "**Proposition** \n",
    "\n",
    "By the Pythagoras theorem, given a right-angled triangle,\n",
    "\n",
    "![Right-angled triangle](images/pythagoras.dio.svg)\n",
    "\n",
    "the length of the hypotenuse is\n",
    "\n",
    "$$\n",
    "c = \\sqrt{a^2 + b^2}\n",
    "$$ (hypotenuse)\n",
    "\n",
    "where $a$ and $b$ are the lengths of the other sides of the triangle.\n",
    "\n",
    "---"
   ]
  },
  {
   "cell_type": "markdown",
   "metadata": {},
   "source": [
    "You can verify the theorem using the JSXGraph app below:"
   ]
  },
  {
   "cell_type": "code",
   "execution_count": 2,
   "metadata": {},
   "outputs": [
    {
     "data": {
      "application/vnd.jupyter.widget-view+json": {
       "model_id": "7a866e462b5840048fad193f51f2793e",
       "version_major": 2,
       "version_minor": 0
      },
      "text/plain": [
       "JSWidget(value=None, height=600, html='<!DOCTYPE html>\\n<html>\\n    <head>\\n    <style>\\n    html, body {\\n   …"
      ]
     },
     "metadata": {},
     "output_type": "display_data"
    }
   ],
   "source": [
    "jsxgraphs.pythagorean1"
   ]
  },
  {
   "cell_type": "markdown",
   "metadata": {},
   "source": [
    "```{seealso}\n",
    "We developed `divewidgets` to run the Javascript library [JSXGraph](https://jsxgraph.uni-bayreuth.de/). You can click the button `scratch` to show and edit the Javascript code. Other mathematical illustrations created using `divewidgets` can be found [here](https://dive4dec.github.io/lab/?path=divemath%2Fdivemath.ipynb) and will be presented in an upcoming [JSXGraph conference open to the public](https://jsxgraph.uni-bayreuth.de/conf2022/registration/).\n",
    "```"
   ]
  },
  {
   "cell_type": "markdown",
   "metadata": {},
   "source": [
    "The following is an interactive graphical proof:"
   ]
  },
  {
   "cell_type": "code",
   "execution_count": 3,
   "metadata": {},
   "outputs": [
    {
     "data": {
      "application/vnd.jupyter.widget-view+json": {
       "model_id": "5c384a85d6d043328d7a9504aa83aeb1",
       "version_major": 2,
       "version_minor": 0
      },
      "text/plain": [
       "JSWidget(value=None, height=600, html='<!DOCTYPE html>\\n<html>\\n    <head>\\n    <style>\\n    html, body {\\n   …"
      ]
     },
     "metadata": {},
     "output_type": "display_data"
    }
   ],
   "source": [
    "jsxgraphs.pythagorean2"
   ]
  },
  {
   "cell_type": "markdown",
   "metadata": {},
   "source": [
    "Another interactive proof is as follows:"
   ]
  },
  {
   "cell_type": "code",
   "execution_count": 4,
   "metadata": {},
   "outputs": [
    {
     "data": {
      "application/vnd.jupyter.widget-view+json": {
       "model_id": "fb2e550207d34850a7a6a8de761972aa",
       "version_major": 2,
       "version_minor": 0
      },
      "text/plain": [
       "JSWidget(value=None, height=600, html='<!DOCTYPE html>\\n<html>\\n    <head>\\n    <style>\\n    html, body {\\n   …"
      ]
     },
     "metadata": {},
     "output_type": "display_data"
    }
   ],
   "source": [
    "jsxgraphs.pythagorean3"
   ]
  },
  {
   "cell_type": "markdown",
   "metadata": {},
   "source": [
    "We can define the following function to calculate the length `c` of the hypotenuse when given the lengths `a` and `b` of the other sides: "
   ]
  },
  {
   "cell_type": "code",
   "execution_count": 5,
   "metadata": {
    "ExecuteTime": {
     "end_time": "2021-03-20T14:24:41.414382Z",
     "start_time": "2021-03-20T14:24:41.412057Z"
    },
    "slideshow": {
     "slide_type": "fragment"
    }
   },
   "outputs": [],
   "source": [
    "def length_of_hypotenuse(a, b):\n",
    "    c = (a**2 + b**2) ** (0.5)  # Pythagoras\n",
    "    return c"
   ]
  },
  {
   "cell_type": "markdown",
   "metadata": {
    "slideshow": {
     "slide_type": "fragment"
    }
   },
   "source": [
    "```{note}\n",
    "\n",
    "In the above code,\n",
    "- the formula {eq}`hypotenuse` is written as a python expression using the exponentiation operator `**`, and\n",
    "- the variable `c` is assigned to the value of the expression using the assignment operator `=`.\n",
    "\n",
    "```"
   ]
  },
  {
   "cell_type": "markdown",
   "metadata": {
    "slideshow": {
     "slide_type": "subslide"
    }
   },
   "source": [
    "For example, you may be asked to write Line 2, while Line 1 and 3 are given to you:"
   ]
  },
  {
   "cell_type": "markdown",
   "metadata": {
    "slideshow": {
     "slide_type": "fragment"
    }
   },
   "source": [
    "**Exercise** \n",
    "\n",
    "Complete the function below to return the length `c` of the hypotenuse given the lengths `a` and `b`.\n",
    "\n",
    "```{caution}\n",
    "\n",
    "- You should still complete this exercise to get the credit even though the answer was already revealed as a demo. Instead of copy-and-paste the answer, type it yourself.\n",
    "- Note that indentation affects the execution of python code. In particular, the assignment statement must be indented to indicate that it is part of the *body* of the function. \n",
    "```"
   ]
  },
  {
   "cell_type": "code",
   "execution_count": 6,
   "metadata": {
    "ExecuteTime": {
     "end_time": "2021-03-20T14:24:42.977375Z",
     "start_time": "2021-03-20T14:24:42.976117Z"
    },
    "nbgrader": {
     "grade": false,
     "grade_id": "length_of_hypotenuse",
     "locked": false,
     "schema_version": 3,
     "solution": true,
     "task": false
    },
    "slideshow": {
     "slide_type": "-"
    },
    "tags": [
     "remove-output"
    ]
   },
   "outputs": [],
   "source": [
    "def length_of_hypotenuse(a, b):\n",
    "    # c = math.sqrt(a ** 2 + b ** 2)\n",
    "    c = (a ** 2 + b ** 2) ** (0.5)\n",
    "    return c"
   ]
  },
  {
   "cell_type": "code",
   "execution_count": 7,
   "metadata": {
    "deletable": false,
    "editable": false
   },
   "outputs": [
    {
     "data": {
      "text/html": [
       "<p><strong><pre style='display: inline;'>length_of_hypotenuse</pre></strong> passed!</p>"
      ],
      "text/plain": [
       "length_of_hypotenuse results: All test cases passed!"
      ]
     },
     "execution_count": 7,
     "metadata": {},
     "output_type": "execute_result"
    }
   ],
   "source": [
    "grader.check(\"length_of_hypotenuse\")"
   ]
  },
  {
   "cell_type": "markdown",
   "metadata": {
    "slideshow": {
     "slide_type": "subslide"
    }
   },
   "source": [
    "We will use `ipywidgets` to let user interact with the calculator more easily:\n",
    "\n",
    "- After running the cell, move the sliders to change the values of `a` and `b`. \n",
    "- Observer that the value of `c` is updated immediately."
   ]
  },
  {
   "cell_type": "code",
   "execution_count": 8,
   "metadata": {
    "ExecuteTime": {
     "end_time": "2021-03-20T14:24:46.386473Z",
     "start_time": "2021-03-20T14:24:46.340180Z"
    },
    "code_folding": [],
    "slideshow": {
     "slide_type": "-"
    },
    "tags": [
     "remove-output"
    ]
   },
   "outputs": [
    {
     "data": {
      "application/vnd.jupyter.widget-view+json": {
       "model_id": "6c42a2bdf08b49728e813addce52ae63",
       "version_major": 2,
       "version_minor": 0
      },
      "text/plain": [
       "interactive(children=(IntSlider(value=3, description='a', max=10), IntSlider(value=4, description='b', max=10)…"
      ]
     },
     "metadata": {},
     "output_type": "display_data"
    }
   ],
   "source": [
    "# hypotenuse calculator\n",
    "@interact(a=(0, 10, 1), b=(0, 10, 1))\n",
    "def calculate_hypotenuse(a=3, b=4):\n",
    "    print(\"c: {:.2f}\".format(length_of_hypotenuse(a, b)))"
   ]
  },
  {
   "cell_type": "markdown",
   "metadata": {
    "slideshow": {
     "slide_type": "fragment"
    }
   },
   "source": [
    "```{note}\n",
    "\n",
    "The hypotenuse is printed up to 2 decimal places using the format specification `{:.2f}`.\n",
    "\n",
    "```"
   ]
  },
  {
   "cell_type": "markdown",
   "metadata": {
    "slideshow": {
     "slide_type": "subslide"
    }
   },
   "source": [
    "You can check your code with a few cases listed in the test cell below."
   ]
  },
  {
   "cell_type": "markdown",
   "metadata": {
    "slideshow": {
     "slide_type": "slide"
    },
    "tags": []
   },
   "source": [
    "## Quadratic equation"
   ]
  },
  {
   "cell_type": "markdown",
   "metadata": {
    "slideshow": {
     "slide_type": "subslide"
    }
   },
   "source": [
    "### Graphical calculator for parabola"
   ]
  },
  {
   "cell_type": "markdown",
   "metadata": {
    "slideshow": {
     "slide_type": "subslide"
    }
   },
   "source": [
    "---\n",
    "\n",
    "**Definition** Parabola\n",
    "\n",
    "\n",
    "The collection of points $(x,y)$ satisfying the following equation forms a *parabola*:\n",
    "\n",
    "$$\n",
    "y=ax^2+bx+c\n",
    "$$ (parabola)\n",
    "\n",
    "where $a$, $b$, and $c$ are real numbers called the *coefficients*.\n",
    "\n",
    "---"
   ]
  },
  {
   "cell_type": "markdown",
   "metadata": {},
   "source": [
    "The following plots the parabola with difference choices of coefficients. "
   ]
  },
  {
   "cell_type": "code",
   "execution_count": 9,
   "metadata": {},
   "outputs": [
    {
     "data": {
      "application/vnd.jupyter.widget-view+json": {
       "model_id": "16beae5e3bb34534a2dab1bcca26b93e",
       "version_major": 2,
       "version_minor": 0
      },
      "text/plain": [
       "JSWidget(value=None, height=600, html='<!DOCTYPE html>\\n<html>\\n    <head>\\n    <style>\\n    html, body {\\n   …"
      ]
     },
     "metadata": {},
     "output_type": "display_data"
    }
   ],
   "source": [
    "jsxgraphs.parabola"
   ]
  },
  {
   "cell_type": "markdown",
   "metadata": {
    "slideshow": {
     "slide_type": "fragment"
    }
   },
   "source": [
    "**Exercise** \n",
    "\n",
    "Given the variables `x`, `a`, `b`, and `c` store the $x$-coordinate and the coefficients $a$, $b$, and $c$ respectively, assign `y` the corresponding $y$-coordinate of the parabola {eq}`parabola`."
   ]
  },
  {
   "cell_type": "code",
   "execution_count": 10,
   "metadata": {
    "ExecuteTime": {
     "end_time": "2021-03-20T14:24:54.263505Z",
     "start_time": "2021-03-20T14:24:54.261046Z"
    },
    "nbgrader": {
     "grade": false,
     "grade_id": "get_y",
     "locked": false,
     "schema_version": 3,
     "solution": true,
     "task": false
    },
    "slideshow": {
     "slide_type": "-"
    },
    "tags": [
     "remove-output"
    ]
   },
   "outputs": [],
   "source": [
    "def get_y(x, a, b, c):\n",
    "    y = a * (x ** 2) + b * x + c\n",
    "    return y"
   ]
  },
  {
   "cell_type": "markdown",
   "metadata": {},
   "source": [
    "To test your code:"
   ]
  },
  {
   "cell_type": "code",
   "execution_count": 11,
   "metadata": {
    "deletable": false,
    "editable": false
   },
   "outputs": [
    {
     "data": {
      "text/html": [
       "<p><strong><pre style='display: inline;'>parabola</pre></strong> passed!</p>"
      ],
      "text/plain": [
       "parabola results: All test cases passed!"
      ]
     },
     "execution_count": 11,
     "metadata": {},
     "output_type": "execute_result"
    }
   ],
   "source": [
    "grader.check(\"parabola\")"
   ]
  },
  {
   "cell_type": "markdown",
   "metadata": {},
   "source": [
    "To run the graphical calculator:"
   ]
  },
  {
   "cell_type": "code",
   "execution_count": 12,
   "metadata": {
    "ExecuteTime": {
     "end_time": "2021-03-02T13:26:34.128830Z",
     "start_time": "2021-03-02T13:26:33.719638Z"
    },
    "code_folding": [],
    "slideshow": {
     "slide_type": "subslide"
    },
    "tags": [
     "remove-output"
    ]
   },
   "outputs": [
    {
     "data": {
      "application/vnd.jupyter.widget-view+json": {
       "model_id": "5a3003afe62145fd8702b81eca393181",
       "version_major": 2,
       "version_minor": 0
      },
      "text/plain": [
       "interactive(children=(IntSlider(value=0, description='a', max=10, min=-10), IntSlider(value=0, description='b'…"
      ]
     },
     "metadata": {},
     "output_type": "display_data"
    },
    {
     "data": {
      "application/vnd.jupyter.widget-view+json": {
       "model_id": "7a1cb94adc074ff4afd35eea8be69462",
       "version_major": 2,
       "version_minor": 0
      },
      "image/png": "[encoded data removed]",
      "text/html": [
       "\n",
       "            <div style=\"display: inline-block;\">\n",
       "                <div class=\"jupyter-widgets widget-label\" style=\"text-align: center;\">\n",
       "                    Figure\n",
       "                </div>\n",
       "                <img src='data:image/png;base64,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' width=640.0/>\n",
       "            </div>\n",
       "        "
      ],
      "text/plain": [
       "Canvas(toolbar=Toolbar(toolitems=[('Home', 'Reset original view', 'home', 'home'), ('Back', 'Back to previous …"
      ]
     },
     "metadata": {},
     "output_type": "display_data"
    }
   ],
   "source": [
    "# graphical calculator for parabola\n",
    "fig, ax = plt.subplots()\n",
    "xmin, xmax, ymin, ymax, resolution = -10, 10, -10, 10, 50\n",
    "x = np.linspace(xmin, xmax, resolution)\n",
    "ax.set_title(r\"$y=ax^2+bx+c$\")\n",
    "ax.set_xlabel(r\"$x$\")\n",
    "ax.set_ylabel(r\"$y$\")\n",
    "ax.set_xlim([xmin, xmax])\n",
    "ax.set_ylim([ymin, ymax])\n",
    "ax.grid()\n",
    "(p,) = ax.plot(x, get_y(x, 0, 0, 0))\n",
    "\n",
    "\n",
    "@interact(a=(-10, 10, 1), b=(-10, 10, 1), c=(-10, 10, 1))\n",
    "def plot_parabola(a, b, c):\n",
    "    p.set_ydata(get_y(x, a, b, c))"
   ]
  },
  {
   "cell_type": "markdown",
   "metadata": {
    "slideshow": {
     "slide_type": "slide"
    },
    "tags": []
   },
   "source": [
    "### Quadratic equation solver"
   ]
  },
  {
   "cell_type": "markdown",
   "metadata": {},
   "source": [
    "![quadratic-equation-solver](images/quadratic.dio.svg)"
   ]
  },
  {
   "cell_type": "markdown",
   "metadata": {
    "slideshow": {
     "slide_type": "subslide"
    }
   },
   "source": [
    "---\n",
    "\n",
    "**Proposition**\n",
    "\n",
    "For the quadratic equation\n",
    "\n",
    "$$\n",
    "ax^2+bx+c=0,\n",
    "$$ (quadratic)\n",
    "the *roots* (solutions for $x$) are give by\n",
    "\n",
    "$$\n",
    "\\frac{-b-\\sqrt{b^2-4ac}}{2a},\\frac{-b+\\sqrt{b^2-4ac}}{2a}.\n",
    "$$ (quadratic_roots)\n",
    "\n",
    "---"
   ]
  },
  {
   "cell_type": "markdown",
   "metadata": {
    "slideshow": {
     "slide_type": "fragment"
    }
   },
   "source": [
    "**Exercise** \n",
    "\n",
    "Assign to `root1` and `root2` the values of the first and second roots above respectively."
   ]
  },
  {
   "cell_type": "code",
   "execution_count": 13,
   "metadata": {
    "ExecuteTime": {
     "end_time": "2021-03-20T14:25:25.676812Z",
     "start_time": "2021-03-20T14:25:25.673522Z"
    },
    "nbgrader": {
     "grade": false,
     "grade_id": "get_roots",
     "locked": false,
     "schema_version": 3,
     "solution": true,
     "task": false
    },
    "slideshow": {
     "slide_type": "fragment"
    },
    "tags": [
     "remove-output"
    ]
   },
   "outputs": [],
   "source": [
    "def get_roots(a, b, c):\n",
    "    Delta = b ** 2 - 4 * a * c\n",
    "    # if Delta < 0:\n",
    "    #     return\n",
    "    root1 = (- b - Delta ** 0.5) / (2 * a)\n",
    "    root2 = (- b + Delta ** 0.5) / (2 * a)\n",
    "    return root1, root2"
   ]
  },
  {
   "cell_type": "markdown",
   "metadata": {},
   "source": [
    "To test your code:"
   ]
  },
  {
   "cell_type": "code",
   "execution_count": 14,
   "metadata": {
    "deletable": false,
    "editable": false
   },
   "outputs": [
    {
     "data": {
      "text/html": [
       "<p><strong><pre style='display: inline;'>roots</pre></strong> passed!</p>"
      ],
      "text/plain": [
       "roots results: All test cases passed!"
      ]
     },
     "execution_count": 14,
     "metadata": {},
     "output_type": "execute_result"
    }
   ],
   "source": [
    "grader.check(\"roots\")"
   ]
  },
  {
   "cell_type": "markdown",
   "metadata": {},
   "source": [
    "To run the calculator:"
   ]
  },
  {
   "cell_type": "code",
   "execution_count": 15,
   "metadata": {
    "ExecuteTime": {
     "end_time": "2021-03-20T14:25:30.720050Z",
     "start_time": "2021-03-20T14:25:30.689142Z"
    },
    "code_folding": [
     0
    ],
    "slideshow": {
     "slide_type": "fragment"
    },
    "tags": [
     "remove-output"
    ]
   },
   "outputs": [
    {
     "data": {
      "application/vnd.jupyter.widget-view+json": {
       "model_id": "d9ee964a6d984f718b31084550f6da14",
       "version_major": 2,
       "version_minor": 0
      },
      "text/plain": [
       "interactive(children=(IntSlider(value=1, description='a', max=10, min=-10), IntSlider(value=2, description='b'…"
      ]
     },
     "metadata": {},
     "output_type": "display_data"
    }
   ],
   "source": [
    "# quadratic equations solver\n",
    "@interact(a=(-10, 10, 1), b=(-10, 10, 1), c=(-10, 10, 1))\n",
    "def quadratic_equation_solver(a=1, b=2, c=1):\n",
    "    print(\"Roots: {}, {}\".format(*get_roots(a, b, c)))"
   ]
  },
  {
   "cell_type": "markdown",
   "metadata": {
    "slideshow": {
     "slide_type": "slide"
    },
    "tags": []
   },
   "source": [
    "## Number conversion"
   ]
  },
  {
   "cell_type": "markdown",
   "metadata": {
    "slideshow": {
     "slide_type": "subslide"
    }
   },
   "source": [
    "### Byte-to-Decimal calculator"
   ]
  },
  {
   "cell_type": "markdown",
   "metadata": {
    "slideshow": {
     "slide_type": "-"
    }
   },
   "source": [
    "![byte-to-decimal](images/byte-to-decimal.dio.svg)"
   ]
  },
  {
   "cell_type": "markdown",
   "metadata": {
    "slideshow": {
     "slide_type": "subslide"
    }
   },
   "source": [
    "Denote a binary number stored in a byte ($8$ bits) as\n",
    "\n",
    "$$ \n",
    "b_7\\circ b_6\\circ b_5\\circ b_4\\circ b_3\\circ b_2\\circ b_1\\circ b_0, \n",
    "$$\n",
    "where $\\circ$ concatenates $b_i$'s together into a binary string."
   ]
  },
  {
   "cell_type": "markdown",
   "metadata": {
    "slideshow": {
     "slide_type": "fragment"
    }
   },
   "source": [
    "The binary string can be converted to a decimal number by the formula\n",
    "\n",
    "$$ \n",
    "b_7\\cdot 2^7 + b_6\\cdot 2^6 + b_5\\cdot 2^5 + b_4\\cdot 2^4 + b_3\\cdot 2^3 + b_2\\cdot 2^2 + b_1\\cdot 2^1 + b_0\\cdot 2^0. \n",
    "$$"
   ]
  },
  {
   "cell_type": "markdown",
   "metadata": {
    "slideshow": {
     "slide_type": "fragment"
    }
   },
   "source": [
    "E.g., the binary string `'11111111'` is the largest integer represented by a byte:\n",
    "\n",
    "$$\n",
    "2^7+2^6+2^5+2^4+2^3+2^2+2^1+2^0=255=2^8-1.\n",
    "$$"
   ]
  },
  {
   "cell_type": "markdown",
   "metadata": {
    "slideshow": {
     "slide_type": "fragment"
    }
   },
   "source": [
    "**Exercise** \n",
    "\n",
    "Assign to `decimal` the *integer* value represented by the binary sequence `b7,b6,b5,b4,b3,b2,b1,b0` of *characters* `'0'` or `'1'`."
   ]
  },
  {
   "cell_type": "code",
   "execution_count": 16,
   "metadata": {
    "ExecuteTime": {
     "end_time": "2021-03-20T14:25:34.448688Z",
     "start_time": "2021-03-20T14:25:34.444753Z"
    },
    "nbgrader": {
     "grade": false,
     "grade_id": "byte_to_decimal",
     "locked": false,
     "schema_version": 3,
     "solution": true,
     "task": false
    },
    "slideshow": {
     "slide_type": "fragment"
    },
    "tags": [
     "remove-output"
    ]
   },
   "outputs": [],
   "source": [
    "def byte_to_decimal(b7, b6, b5, b4, b3, b2, b1, b0):\n",
    "    \"\"\"\n",
    "    Parameters\n",
    "    ----------\n",
    "    b7, ..., b0: single characters either '0' or '1'.\n",
    "    \"\"\"\n",
    "    o = lambda b: ord(b) - 48\n",
    "    decimal = (o(b7) << 7) + (o(b6) << 6) + (o(b5) << 5) + (o(b4) << 4) + \\\n",
    "        (o(b3) << 3) + (o(b2) << 2) + (o(b1) << 1) + o(b0)\n",
    "    return decimal"
   ]
  },
  {
   "cell_type": "markdown",
   "metadata": {},
   "source": [
    "To test your code:"
   ]
  },
  {
   "cell_type": "code",
   "execution_count": 17,
   "metadata": {
    "deletable": false,
    "editable": false
   },
   "outputs": [
    {
     "data": {
      "text/html": [
       "<p><strong><pre style='display: inline;'>byte_to_decimal</pre></strong> passed!</p>"
      ],
      "text/plain": [
       "byte_to_decimal results: All test cases passed!"
      ]
     },
     "execution_count": 17,
     "metadata": {},
     "output_type": "execute_result"
    }
   ],
   "source": [
    "grader.check(\"byte_to_decimal\")"
   ]
  },
  {
   "cell_type": "markdown",
   "metadata": {},
   "source": [
    "To run the calculator:"
   ]
  },
  {
   "cell_type": "code",
   "execution_count": 18,
   "metadata": {
    "ExecuteTime": {
     "end_time": "2021-03-20T14:25:36.463010Z",
     "start_time": "2021-03-20T14:25:36.3364Z"
    },
    "code_folding": [
     0
    ],
    "tags": [
     "remove-output"
    ]
   },
   "outputs": [
    {
     "data": {
      "application/vnd.jupyter.widget-view+json": {
       "model_id": "0cc8302a532a4a8383e58e378a4e2d33",
       "version_major": 2,
       "version_minor": 0
      },
      "text/plain": [
       "interactive(children=(Dropdown(description='b7', options=('0', '1'), value='0'), Dropdown(description='b6', op…"
      ]
     },
     "metadata": {},
     "output_type": "display_data"
    }
   ],
   "source": [
    "# byte-to-decimal calculator\n",
    "bit = [\"0\", \"1\"]\n",
    "\n",
    "\n",
    "@interact(b7=bit, b6=bit, b5=bit, b4=bit, b3=bit, b2=bit, b1=bit, b0=bit)\n",
    "def convert_byte_to_decimal(b7, b6, b5, b4, b3, b2, b1, b0):\n",
    "    print(\"decimal:\", byte_to_decimal(b7, b6, b5, b4, b3, b2, b1, b0))"
   ]
  },
  {
   "cell_type": "markdown",
   "metadata": {
    "slideshow": {
     "slide_type": "subslide"
    }
   },
   "source": [
    "### Decimal-to-Byte calculator"
   ]
  },
  {
   "cell_type": "markdown",
   "metadata": {
    "slideshow": {
     "slide_type": "-"
    }
   },
   "source": [
    "![decimal-to-byte](images/decimal-to-byte.dio.svg)"
   ]
  },
  {
   "cell_type": "markdown",
   "metadata": {
    "slideshow": {
     "slide_type": "subslide"
    }
   },
   "source": [
    "**Exercise** Assign to `byte` a *string of 8 bits* that represents the value of `decimal`, a non-negative decimal integer from $0$ to $2^8-1=255$.  \n",
    "\n",
    "```{hint}\n",
    "\n",
    "Use the operators `//` and `%`.\n",
    "\n",
    "```"
   ]
  },
  {
   "cell_type": "code",
   "execution_count": 19,
   "metadata": {
    "ExecuteTime": {
     "end_time": "2021-03-20T14:25:40.354594Z",
     "start_time": "2021-03-20T14:25:40.350920Z"
    },
    "nbgrader": {
     "grade": false,
     "grade_id": "decimal_to_byte",
     "locked": false,
     "schema_version": 3,
     "solution": true,
     "task": false
    },
    "slideshow": {
     "slide_type": "-"
    },
    "tags": [
     "remove-output"
    ]
   },
   "outputs": [],
   "source": [
    "def decimal_to_byte(decimal):\n",
    "    byte = \"\"\n",
    "    for i in range(8):\n",
    "        byte = chr((decimal & 1) + 48) + byte\n",
    "        decimal >>= 1\n",
    "    return byte"
   ]
  },
  {
   "cell_type": "markdown",
   "metadata": {},
   "source": [
    "To test your code:"
   ]
  },
  {
   "cell_type": "code",
   "execution_count": 20,
   "metadata": {
    "deletable": false,
    "editable": false
   },
   "outputs": [
    {
     "data": {
      "text/html": [
       "<p><strong><pre style='display: inline;'>decimal_to_byte</pre></strong> passed!</p>"
      ],
      "text/plain": [
       "decimal_to_byte results: All test cases passed!"
      ]
     },
     "execution_count": 20,
     "metadata": {},
     "output_type": "execute_result"
    }
   ],
   "source": [
    "grader.check(\"decimal_to_byte\")"
   ]
  },
  {
   "cell_type": "markdown",
   "metadata": {},
   "source": [
    "To run the calculator:"
   ]
  },
  {
   "cell_type": "code",
   "execution_count": 21,
   "metadata": {
    "ExecuteTime": {
     "end_time": "2021-03-20T14:25:41.519031Z",
     "start_time": "2021-03-20T14:25:41.500298Z"
    },
    "code_folding": [
     0
    ],
    "slideshow": {
     "slide_type": "fragment"
    },
    "tags": [
     "remove-output"
    ]
   },
   "outputs": [
    {
     "data": {
      "application/vnd.jupyter.widget-view+json": {
       "model_id": "3d89c039936149018a4714289fcbce43",
       "version_major": 2,
       "version_minor": 0
      },
      "text/plain": [
       "interactive(children=(IntSlider(value=0, description='decimal', max=255), Output()), _dom_classes=('widget-int…"
      ]
     },
     "metadata": {},
     "output_type": "display_data"
    }
   ],
   "source": [
    "# decimal-to-byte calculator\n",
    "@interact(decimal=(0, 255, 1))\n",
    "def convert_decimal_to_byte(decimal=0):\n",
    "    print(\"byte:\", decimal_to_byte(decimal))"
   ]
  },
  {
   "cell_type": "markdown",
   "metadata": {
    "tags": []
   },
   "source": [
    "## Symbolic calculators"
   ]
  },
  {
   "cell_type": "markdown",
   "metadata": {},
   "source": [
    "Can we do complicated arithmetics with python. What about Calculus?  "
   ]
  },
  {
   "cell_type": "markdown",
   "metadata": {},
   "source": [
    "$$\n",
    "\\int \\tan(x)\\, dx = \\color{red}{?}\n",
    "$$"
   ]
  },
  {
   "cell_type": "markdown",
   "metadata": {},
   "source": [
    "Try [SymPy Gamma](https://gamma.sympy.org/input/?i=integrate%28tan%28x%29%29) or [SymPy Beta](https://sympy-beta.vercel.app/input/integrate%28tan%28x%29%29)."
   ]
  },
  {
   "cell_type": "markdown",
   "metadata": {},
   "source": [
    "```{tip}\n",
    "\n",
    "- Take a look at the different panels to learn about the solution: `Steps`, `Plot`, and `Derivative`.\n",
    "- Try different [random examples](https://gamma.sympy.org/).\n",
    "\n",
    "```"
   ]
  },
  {
   "cell_type": "markdown",
   "metadata": {},
   "source": [
    "**How does SymPy Gamma work?**"
   ]
  },
  {
   "cell_type": "markdown",
   "metadata": {},
   "source": [
    "- [SymPy Gamma](https://gamma.sympy.org/) is a web application running [SymPy](https://docs.sympy.org/latest/index.html), which is a python library for symbolic computation.\n",
    "- [SymPy Beta](https://github.com/eagleoflqj/sympy_beta) is a fork of SymPy Gamma that can run totally in the browser."
   ]
  },
  {
   "cell_type": "markdown",
   "metadata": {},
   "source": [
    "**How to use SymPy?**"
   ]
  },
  {
   "cell_type": "markdown",
   "metadata": {},
   "source": [
    "The following line in the initialization cell imports the library:\n",
    "\n",
    "```python\n",
    "import sympy as sp\n",
    "```"
   ]
  },
  {
   "cell_type": "markdown",
   "metadata": {},
   "source": [
    "We need to define a symbolic variable and assign it to a python variable."
   ]
  },
  {
   "cell_type": "code",
   "execution_count": 22,
   "metadata": {},
   "outputs": [
    {
     "data": {
      "text/latex": [
       "$\\displaystyle x$"
      ],
      "text/plain": [
       "x"
      ]
     },
     "execution_count": 22,
     "metadata": {},
     "output_type": "execute_result"
    }
   ],
   "source": [
    "x = sp.symbols(\"x\")\n",
    "x"
   ]
  },
  {
   "cell_type": "markdown",
   "metadata": {},
   "source": [
    "The SymPy expression for $\\tan(x)$ is:"
   ]
  },
  {
   "cell_type": "code",
   "execution_count": 23,
   "metadata": {},
   "outputs": [
    {
     "data": {
      "text/latex": [
       "$\\displaystyle \\tan{\\left(x \\right)}$"
      ],
      "text/plain": [
       "tan(x)"
      ]
     },
     "execution_count": 23,
     "metadata": {},
     "output_type": "execute_result"
    }
   ],
   "source": [
    "f = sp.tan(x)\n",
    "f"
   ]
  },
  {
   "cell_type": "markdown",
   "metadata": {},
   "source": [
    "To compute the integration:\n",
    "\n",
    "$$\n",
    "\\int f(x) dx\n",
    "$$"
   ]
  },
  {
   "cell_type": "code",
   "execution_count": 24,
   "metadata": {},
   "outputs": [
    {
     "data": {
      "text/latex": [
       "$\\displaystyle - \\log{\\left(\\cos{\\left(x \\right)} \\right)}$"
      ],
      "text/plain": [
       "-log(cos(x))"
      ]
     },
     "execution_count": 24,
     "metadata": {},
     "output_type": "execute_result"
    }
   ],
   "source": [
    "g = sp.integrate(f)\n",
    "g"
   ]
  },
  {
   "cell_type": "markdown",
   "metadata": {},
   "source": [
    "To compute the derivative:\n",
    "\n",
    "$$\n",
    "\\frac{d}{dx}g(x)\n",
    "$$"
   ]
  },
  {
   "cell_type": "code",
   "execution_count": 25,
   "metadata": {},
   "outputs": [
    {
     "data": {
      "text/latex": [
       "$\\displaystyle \\frac{\\sin{\\left(x \\right)}}{\\cos{\\left(x \\right)}}$"
      ],
      "text/plain": [
       "sin(x)/cos(x)"
      ]
     },
     "execution_count": 25,
     "metadata": {},
     "output_type": "execute_result"
    }
   ],
   "source": [
    "diff_g = sp.diff(g)\n",
    "diff_g"
   ]
  },
  {
   "cell_type": "markdown",
   "metadata": {},
   "source": [
    "The answer can be simplified as expected:"
   ]
  },
  {
   "cell_type": "code",
   "execution_count": 26,
   "metadata": {},
   "outputs": [
    {
     "data": {
      "text/latex": [
       "$\\displaystyle \\tan{\\left(x \\right)}$"
      ],
      "text/plain": [
       "tan(x)"
      ]
     },
     "execution_count": 26,
     "metadata": {},
     "output_type": "execute_result"
    }
   ],
   "source": [
    "diff_g.simplify()"
   ]
  },
  {
   "cell_type": "markdown",
   "metadata": {},
   "source": [
    "To plot the functions:"
   ]
  },
  {
   "cell_type": "code",
   "execution_count": 27,
   "metadata": {},
   "outputs": [
    {
     "data": {
      "application/vnd.jupyter.widget-view+json": {
       "model_id": "98ed15ef92474ba088b10433c6e86990",
       "version_major": 2,
       "version_minor": 0
      },
      "image/png": "[encoded data removed]",
      "text/html": [
       "\n",
       "            <div style=\"display: inline-block;\">\n",
       "                <div class=\"jupyter-widgets widget-label\" style=\"text-align: center;\">\n",
       "                    Figure\n",
       "                </div>\n",
       "                <img src='data:image/png;base64,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' width=640.0/>\n",
       "            </div>\n",
       "        "
      ],
      "text/plain": [
       "Canvas(toolbar=Toolbar(toolitems=[('Home', 'Reset original view', 'home', 'home'), ('Back', 'Back to previous …"
      ]
     },
     "metadata": {},
     "output_type": "display_data"
    }
   ],
   "source": [
    "p = sp.plot(f, g, (x, -2 * sp.pi / 5, 2 * sp.pi / 5), ylabel=\"y\", legend=True)"
   ]
  },
  {
   "cell_type": "markdown",
   "metadata": {},
   "source": [
    "**Exercise**\n",
    "\n",
    "Using SymPy expressions\n",
    "\n",
    "- assign to `x` a SymPy variable named `\"x\"`,\n",
    "- assign to `f` the expression $\\frac{1}{\\sqrt{1 - x^2}}$ in terms of `x`,\n",
    "- assign to `g` the result of $\\int \\frac{1}{\\sqrt{1 - x^2}} dx$, and\n",
    "- *optionally*, plot `f` and `g` for $x\\in \\left[-\\frac45, \\frac45\\right]$.\n",
    "\n",
    "```{caution}\n",
    "\n",
    "Use `sp.sqrt` or `**(sp.S(1)/2)` for square root instead of `**0.5`. See [SymPy gotchas](https://docs.sympy.org/latest/gotchas.html).\n",
    "\n",
    "```"
   ]
  },
  {
   "cell_type": "code",
   "execution_count": 28,
   "metadata": {
    "deletable": false,
    "editable": false,
    "tags": []
   },
   "outputs": [],
   "source": [
    "import sympy as sp"
   ]
  },
  {
   "cell_type": "code",
   "execution_count": 29,
   "metadata": {
    "tags": []
   },
   "outputs": [
    {
     "data": {
      "application/vnd.jupyter.widget-view+json": {
       "model_id": "70248649092a4641b8cf64457fef38f3",
       "version_major": 2,
       "version_minor": 0
      },
      "image/png": "[encoded data removed]",
      "text/html": [
       "\n",
       "            <div style=\"display: inline-block;\">\n",
       "                <div class=\"jupyter-widgets widget-label\" style=\"text-align: center;\">\n",
       "                    Figure\n",
       "                </div>\n",
       "                <img src='data:image/png;base64,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' width=640.0/>\n",
       "            </div>\n",
       "        "
      ],
      "text/plain": [
       "Canvas(toolbar=Toolbar(toolitems=[('Home', 'Reset original view', 'home', 'home'), ('Back', 'Back to previous …"
      ]
     },
     "metadata": {},
     "output_type": "display_data"
    }
   ],
   "source": [
    "x = sp.symbols(\"x\")\n",
    "f = 1 / sp.sqrt(1 - x ** sp.S(2))\n",
    "g = sp.integrate(f)\n",
    "p = sp.plot(f, g, (x, -sp.S(4) / 5, sp.S(4) / 5), ylabel = \"y\", legend = True)"
   ]
  },
  {
   "cell_type": "markdown",
   "metadata": {},
   "source": [
    "The following test should plot your expression `f` in SymPy."
   ]
  },
  {
   "cell_type": "code",
   "execution_count": 30,
   "metadata": {
    "deletable": false,
    "editable": false
   },
   "outputs": [
    {
     "data": {
      "text/html": [
       "<p><strong><pre style='display: inline;'>sympy</pre></strong> passed!</p>"
      ],
      "text/plain": [
       "sympy results: All test cases passed!"
      ]
     },
     "execution_count": 30,
     "metadata": {},
     "output_type": "execute_result"
    }
   ],
   "source": [
    "grader.check(\"sympy\")"
   ]
  },
  {
   "cell_type": "markdown",
   "metadata": {
    "editable": false,
    "tags": [
     "remove-cell"
    ]
   },
   "source": [
    "## Submission\n",
    "\n",
    "Make sure you have run all cells in your notebook in order before running the cell below, so that all images/graphs appear in the output. The cell below will generate a zip file for you to submit. **Please save before exporting!**"
   ]
  },
  {
   "cell_type": "code",
   "execution_count": 31,
   "metadata": {
    "editable": true,
    "tags": []
   },
   "outputs": [],
   "source": [
    "# extra files to submit\n",
    "extra_files = [\"jsxgraphs.py\", \"images/byte-to-decimal.dio.svg\",\n",
    "                    \"images/decimal-to-byte.dio.svg\", \"images/pythagoras.dio.svg\",\n",
    "                    \"images/quadratic.dio.svg\"]"
   ]
  },
  {
   "cell_type": "code",
   "execution_count": 32,
   "metadata": {
    "editable": false,
    "tags": []
   },
   "outputs": [],
   "source": [
    "# Generate the source main.py necessary for grading and similarity check.\n",
    "jupytext.write(jupytext.read(\"main.ipynb\"), \"main.py\", fmt=\"py:percent\")"
   ]
  },
  {
   "cell_type": "code",
   "execution_count": 33,
   "metadata": {
    "editable": true,
    "tags": []
   },
   "outputs": [
    {
     "data": {
      "text/html": [
       "\n",
       "            <p>Your submission has been exported. Click <a href=\"main_2022_09_12T23_58_53_538571.zip\" download=\"main_2022_09_12T23_58_53_538571.zip\" target=\"_blank\">here</a>\n",
       "            to download the zip file.</p>\n",
       "            "
      ],
      "text/plain": [
       "<IPython.core.display.HTML object>"
      ]
     },
     "metadata": {},
     "output_type": "display_data"
    }
   ],
   "source": [
    "# Generate the zip file to submit.\n",
    "grader.export(pdf=False, run_tests=False, files=[\"main.py\", *extra_files])"
   ]
  },
  {
   "cell_type": "code",
   "execution_count": null,
   "metadata": {},
   "outputs": [],
   "source": []
  }
 ],
 "metadata": {
  "celltoolbar": "Create Assignment",
  "kernelspec": {
   "display_name": "Python 3 (ipykernel)",
   "language": "python",
   "name": "python3"
  },
  "language_info": {
   "codemirror_mode": {
    "name": "ipython",
    "version": 3
   },
   "file_extension": ".py",
   "mimetype": "text/x-python",
   "name": "python",
   "nbconvert_exporter": "python",
   "pygments_lexer": "ipython3",
   "version": "3.10.6"
  },
  "latex_envs": {
   "LaTeX_envs_menu_present": true,
   "autoclose": false,
   "autocomplete": true,
   "bibliofile": "biblio.bib",
   "cite_by": "apalike",
   "current_citInitial": 1,
   "eqLabelWithNumbers": true,
   "eqNumInitial": 1,
   "hotkeys": {
    "equation": "Ctrl-E",
    "itemize": "Ctrl-I"
   },
   "labels_anchors": false,
   "latex_user_defs": false,
   "report_style_numbering": false,
   "user_envs_cfg": false
  },
  "otter": {
   "OK_FORMAT": true,
   "tests": {
    "byte_to_decimal": {
     "name": "byte_to_decimal",
     "points": null,
     "suites": [
      {
       "cases": [
        {
         "code": ">>> def test_byte_to_decimal(decimal, b7, b6, b5, b4, b3, b2, b1, b0):\n...     decimal_ = byte_to_decimal(b7, b6, b5, b4, b3, b2, b1, b0)\n...     assert decimal == decimal_ and isinstance(decimal_, int)\n>>> \n>>> \n>>> test_byte_to_decimal(38, \"0\", \"0\", \"1\", \"0\", \"0\", \"1\", \"1\", \"0\")\n>>> test_byte_to_decimal(20, \"0\", \"0\", \"0\", \"1\", \"0\", \"1\", \"0\", \"0\")\n>>> test_byte_to_decimal(22, \"0\", \"0\", \"0\", \"1\", \"0\", \"1\", \"1\", \"0\")\n",
         "hidden": false,
         "locked": false
        }
       ],
       "scored": true,
       "setup": "",
       "teardown": "",
       "type": "doctest"
      }
     ]
    },
    "decimal_to_byte": {
     "name": "decimal_to_byte",
     "points": null,
     "suites": [
      {
       "cases": [
        {
         "code": ">>> def test_decimal_to_byte(byte, decimal):\n...     byte_ = decimal_to_byte(decimal)\n...     assert byte == byte_ and isinstance(byte, str) and len(byte) == 8\n>>> \n>>> \n>>> test_decimal_to_byte(\"01100111\", 103)\n>>> test_decimal_to_byte(\"00000011\", 3)\n>>> test_decimal_to_byte(\"00011100\", 28)\n",
         "hidden": false,
         "locked": false
        }
       ],
       "scored": true,
       "setup": "",
       "teardown": "",
       "type": "doctest"
      }
     ]
    },
    "length_of_hypotenuse": {
     "name": "length_of_hypotenuse",
     "points": null,
     "suites": [
      {
       "cases": [
        {
         "code": ">>> import numpy as np\n>>> \n>>> assert np.isclose(length_of_hypotenuse(0, 0), 0)\n>>> assert np.isclose(length_of_hypotenuse(3, 4), 5)\n",
         "hidden": false,
         "locked": false
        }
       ],
       "scored": true,
       "setup": "",
       "teardown": "",
       "type": "doctest"
      }
     ]
    },
    "parabola": {
     "name": "parabola",
     "points": null,
     "suites": [
      {
       "cases": [
        {
         "code": ">>> import numpy as np\n>>> \n>>> assert np.isclose(get_y(0, 0, 0, 0), 0)\n>>> assert np.isclose(get_y(0, 1, 2, 1), 1)\n",
         "hidden": false,
         "locked": false
        }
       ],
       "scored": true,
       "setup": "",
       "teardown": "",
       "type": "doctest"
      }
     ]
    },
    "roots": {
     "name": "roots",
     "points": null,
     "suites": [
      {
       "cases": [
        {
         "code": ">>> import numpy as np\n>>> \n>>> assert np.isclose(get_roots(1, 1, 0), (-1.0, 0.0)).all()\n>>> assert np.isclose(get_roots(1, 2, 1), (-1.0, -1.0)).all()\n>>> assert np.isclose(get_roots(2, 2, 1), (-0.5 - 0.5j, -0.5 + 0.5j)).all()\n",
         "hidden": false,
         "locked": false
        }
       ],
       "scored": true,
       "setup": "",
       "teardown": "",
       "type": "doctest"
      }
     ]
    },
    "sympy": {
     "name": "sympy",
     "points": null,
     "suites": [
      {
       "cases": [
        {
         "code": ">>> import sympy as sp\n>>> \n>>> assert sp.simplify(f.subs(x, 0) - 1) == 0\n>>> assert sp.simplify(f.subs(x, sp.S(1)/2) - sp.sqrt(3)*2/3) == 0\n",
         "hidden": false,
         "locked": false
        }
       ],
       "scored": true,
       "setup": "",
       "teardown": "",
       "type": "doctest"
      }
     ]
    }
   }
  },
  "rise": {
   "enable_chalkboard": true,
   "scroll": true,
   "theme": "white"
  },
  "toc": {
   "base_numbering": 1,
   "nav_menu": {
    "height": "195px",
    "width": "330px"
   },
   "number_sections": true,
   "sideBar": true,
   "skip_h1_title": true,
   "title_cell": "Table of Contents",
   "title_sidebar": "Contents",
   "toc_cell": false,
   "toc_position": {
    "height": "454.418px",
    "left": "1533px",
    "top": "110.284px",
    "width": "435.327px"
   },
   "toc_section_display": true,
   "toc_window_display": false
  },
  "widgets": {
   "application/vnd.jupyter.widget-state+json": {
    "state": {
     "1f994a1a31284685903bda75afd750ff": {
      "model_module": "jupyter-divewidgets",
      "model_module_version": "^0.1.5",
      "model_name": "JSWidgetModel",
      "state": {
       "_model_module_version": "^0.1.5",
       "_view_module_version": "^0.1.5",
       "html": "<!DOCTYPE html>\n<html>\n    <head>\n    <style>\n    html, body {\n        height: 100%;\n    }\n    body {\n        width: 100%;\n        display: flex;\n        padding: 0;\n        margin: 0;\n    }\n    .jxgbox {\n        width:100%; \n        flex-grow: 1;\n    }\n    </style>\n    <link rel=\"stylesheet\" type=\"text/css\" href=\"https://jsxgraph.org/distrib/jsxgraph.css\" />\n    <script type=\"text/javascript\" src=\"https://cdn.jsdelivr.net/npm/jsxgraph/distrib/jsxgraphcore.js\"></script>\n    <script type=\"text/javascript\" src=\"https://cdn.jsdelivr.net/npm/mathjax@3/es5/tex-chtml.js\"></script>\n    </head>\n<body>\n<div id=\"box\" class=\"jxgbox\"></div>\n</body>\n</html>",
       "js": "\nJXG.Options.text.useMathJax = true;\nvar board = JXG.JSXGraph.initBoard('box', {boundingbox: [-1, 13, 15, -3], axis:true, showCopyright:false});\nvar a = board.create('slider', [[1, -1], [5,-1], [2, 6, 7]], {name:'a', snapWidth: 0.1});\nvar b = board.create('slider', [[8, -1], [12,-1], [2, 3, 7]], {name:'b', snapWidth: 0.1});\nvar m = board.create('slider', [[1, -2], [12,-2], [0, 0, 2]], {name:'move', snapWidth: 0.1, withLabel:false});\nboard.create('text',[1+m.point2.X(),m.point2.Y(),\"move\"],{fixed: true, anchorX: 'middle'});\nvar s = board.create('point', [1,1],{face:\"\", withLabel:false});\nvar right_ab = board.create('transform', [()=>a.Value()+b.Value(),0], {type:'translate'});\nvar right_a = board.create('transform', [()=>a.Value(),0], {type:'translate'});\nvar right_b = board.create('transform', [()=>b.Value(),0], {type:'translate'});\nvar left_a = board.create('transform', [()=> -a.Value(),0], {type:'translate'});\nvar left_b = board.create('transform', [()=> -b.Value(),0], {type:'translate'});\nvar up_ab = board.create('transform', [0,()=>a.Value()+b.Value()], {type:'translate'});\nvar up_a = board.create('transform', [0,()=>a.Value()], {type:'translate'});\nvar up_b = board.create('transform', [0,()=>b.Value()], {type:'translate'});\nvar down_a = board.create('transform', [0,()=> -a.Value()], {type:'translate'});\nvar down_b = board.create('transform', [0,()=> -b.Value()], {type:'translate'});\nvar no_move = board.create('transform', [0,0], {type:'translate'});\n\n\nvar r2 = board.create('point', [s,right_ab], {visible: false});\nvar po0 =  board.create('regularpolygon',[s,r2,4], \n                        {withLines: true, fillColor:'none', highlightFillColor:'none',\n                         vertices:{face:'', withLabel: false},\n                         borders: {strokeWidth:1, strokeColor:'black'}});\n\nvar tri1 = [];\ntri1[0] = board.create('point', [s, up_b], {visible: false});\ntri1[1] = board.create('point', [tri1[0], down_b], {visible: false});\ntri1[2] = board.create('point', [tri1[0], [down_b,right_a]], {visible: false});\nvar po1 = board.create('polygon',[tri1[0],tri1[1],tri1[2]], \n                        {withLines: true, fillColor:'red', highlightFillColor:'none',\n                         vertices:{face:'', withLabel: false},\n                         borders: {strokeWidth:1, strokeColor:'black'}});\n\nboard.create('segment',[tri1[0],tri1[1]],{strokeWidth:0, withLabel: true, name:'b', label:{offset:[-10, b.Value()/2]}});\nboard.create('segment',[tri1[1],tri1[2]],{strokeWidth:0, withLabel: true, name:'a', label:{offset:[a.Value()/2, -10]}});\nboard.create('segment',[tri1[2],tri1[0]],{strokeWidth:0, withLabel: true, name:'c', label:{offset:[a.Value()/2-10, b.Value()/2-10]}});\n\nvar move_tri2 = board.create('transform', [()=>a.Value(), 0], {type:'translate'});\nvar tri2 = [];\ntri2[0] = board.create('point', [s, move_tri2], {visible: false});\ntri2[1] = board.create('point', [tri2[0], right_b], {visible: false});\ntri2[2] = board.create('point', [tri2[0], [right_b,up_a]], {visible: false});\nvar po2 = board.create('polygon',[tri2[0],tri2[1],tri2[2]], \n                        {withLines: true, fillColor:'green', highlightFillColor:'none',\n                         vertices:{face:'', withLabel: false},\n                         borders: {strokeWidth:1, strokeColor:'black'}});\n\n//anchor of tri3 should be changed\n/*\nvar move_tri3 = board.create('transform', [()=>a.Value()+b.Value(), ()=>a.Value()], {type:'translate'});\nvar tri3 = [];\ntri3[0] = board.create('point', [s, move_tri3], {visible: false});\ntri3[1] = board.create('point', [tri3[0], up_b], {visible: false});\ntri3[2] = board.create('point', [tri3[0], [up_b,left_a]], {visible: false});\nvar po3 = board.create('polygon',[tri3[0],tri3[1],tri3[2]], \n                        {withLines: true, fillColor:'blue', highlightFillColor:'none',\n                         vertices:{face:'', withLabel: false},\n                         borders: {strokeWidth:1, strokeColor:'black'}});\n*/\n\nvar move_tri3_2 = board.create('transform', [()=>b.Value(), ()=>a.Value()+b.Value()], {type:'translate'});\nvar tri3_2 = [];\ntri3_2[0] = board.create('point', [s, move_tri3_2], {visible: false});\ntri3_2[1] = board.create('point', [tri3_2[0], right_a], {visible: false});\ntri3_2[2] = board.create('point', [tri3_2[0], [right_a, down_b]], {visible: false});\nvar po3 = board.create('polygon',[tri3_2[0],tri3_2[1],tri3_2[2]], \n                        {withLines: true, fillColor:'blue', highlightFillColor:'none',\n                         vertices:{face:'', withLabel: false},\n                         borders: {strokeWidth:1, strokeColor:'black'}});\n\nvar move_tri4 = board.create('transform', [()=>b.Value(), ()=>a.Value()+b.Value()], {type:'translate'});\nvar tri4 = [];\ntri4[0] = board.create('point', [s, move_tri4], {visible: false});\ntri4[1] = board.create('point', [tri4[0], left_b], {visible: false});\ntri4[2] = board.create('point', [tri4[0], [left_b,down_a]], {visible: false});\nvar po4 = board.create('polygon',[tri4[0],tri4[1],tri4[2]], \n                        {withLines: true, fillColor:'yellow', highlightFillColor:'none',\n                         vertices:{face:'', withLabel: false},\n                         borders: {strokeWidth:1, strokeColor:'black'}});\n\nvar rot_tri2 = board.create('transform', [function(){return m.Value()*Math.PI/4;}, tri2[0]], {type:'rotate'});\nrot_tri2.bindTo([tri2[1],tri2[2]]);\n\nvar rot_tri3 = board.create('transform', [function(){return - m.Value()*Math.PI/4;}, tri3_2[0]], {type:'rotate'});\nrot_tri3.bindTo([tri3_2[1],tri3_2[2]]);\n\nboard.create('segment',[tri2[1], board.create('point', [tri2[1], right_b], {visible: false})],{visible:()=>(m.Value()>=1.99),strokeWidth:1, dash:2});\n\n\nboard.create('text',[()=>s.X()+a.Value()*1/2+b.Value(),()=>s.Y()+b.Value()+1/2*a.Value(),function(){\n        return '\\\\[ a^2 \\\\]';\n    }],{visible: ()=> {return (m.Value()>=1.99);}, anchorX: 'middle', anchorY: 'auto'});\n\nboard.create('text',[()=>s.X()+a.Value()+1/2*b.Value(),()=>s.Y()+1/2*b.Value(),function(){\n    return '\\\\[b^2\\\\]';\n    }],{visible: ()=> {return (m.Value()>=1.99);}, anchorX: 'middle', anchorY: 'auto'});\n\nboard.create('text',[()=>s.X()+1/2*(a.Value()+b.Value()),()=>s.Y()+1/2*(a.Value()+b.Value()),function(){\n    return '\\\\[c^2\\\\]';\n    }],{visible: ()=> {return (m.Value()<0.4);}, anchorX: 'middle', anchorY: 'auto'});\n",
       "layout": "IPY_MODEL_590bf3d74084479b932091f38b9a282e"
      }
     },
     "2540a1155f7845eea86950bfc48c4a73": {
      "model_module": "jupyter-divewidgets",
      "model_module_version": "^0.1.5",
      "model_name": "JSWidgetModel",
      "state": {
       "_model_module_version": "^0.1.5",
       "_view_module_version": "^0.1.5",
       "html": "<!DOCTYPE html>\n<html>\n    <head>\n    <style>\n    html, body {\n        height: 100%;\n    }\n    body {\n        width: 100%;\n        display: flex;\n        padding: 0;\n        margin: 0;\n    }\n    .jxgbox {\n        width:100%; \n        flex-grow: 1;\n    }\n    </style>\n    <link rel=\"stylesheet\" type=\"text/css\" href=\"https://jsxgraph.org/distrib/jsxgraph.css\" />\n    <script type=\"text/javascript\" src=\"https://cdn.jsdelivr.net/npm/jsxgraph/distrib/jsxgraphcore.js\"></script>\n    <script type=\"text/javascript\" src=\"https://cdn.jsdelivr.net/npm/mathjax@3/es5/tex-chtml.js\"></script>\n    </head>\n<body>\n<div id=\"box\" class=\"jxgbox\"></div>\n</body>\n</html>",
       "js": "\nJXG.Options.text.useMathJax = true;\nvar board = JXG.JSXGraph.initBoard('box', {boundingbox: [-1, 13, 15, -3], axis:true, showCopyright:false});\nvar a = board.create('slider', [[1, -1], [5,-1], [2, 6, 7]], {name:'a', snapWidth: 0.1});\nvar b = board.create('slider', [[8, -1], [12,-1], [2, 3, 7]], {name:'b', snapWidth: 0.1});\nvar m = board.create('slider', [[1, -2], [12,-2], [0, 0, 2]], {name:'move', snapWidth: 0.1, withLabel:false});\nboard.create('text',[1+m.point2.X(),m.point2.Y(),\"move\"],{fixed: true, anchorX: 'middle'});\nvar s = board.create('point', [1,1],{face:\"\", withLabel:false});\nvar right_ab = board.create('transform', [()=>a.Value()+b.Value(),0], {type:'translate'});\nvar right_a = board.create('transform', [()=>a.Value(),0], {type:'translate'});\nvar right_b = board.create('transform', [()=>b.Value(),0], {type:'translate'});\nvar left_a = board.create('transform', [()=> -a.Value(),0], {type:'translate'});\nvar left_b = board.create('transform', [()=> -b.Value(),0], {type:'translate'});\nvar up_ab = board.create('transform', [0,()=>a.Value()+b.Value()], {type:'translate'});\nvar up_a = board.create('transform', [0,()=>a.Value()], {type:'translate'});\nvar up_b = board.create('transform', [0,()=>b.Value()], {type:'translate'});\nvar down_a = board.create('transform', [0,()=> -a.Value()], {type:'translate'});\nvar down_b = board.create('transform', [0,()=> -b.Value()], {type:'translate'});\nvar no_move = board.create('transform', [0,0], {type:'translate'});\n\n\nvar r2 = board.create('point', [s,right_ab], {visible: false});\nvar po0 =  board.create('regularpolygon',[s,r2,4], \n                        {withLines: true, fillColor:'none', highlightFillColor:'none',\n                         vertices:{face:'', withLabel: false},\n                         borders: {strokeWidth:1, strokeColor:'black'}});\n\nvar tri1 = [];\ntri1[0] = board.create('point', [s, up_b], {visible: false});\ntri1[1] = board.create('point', [tri1[0], down_b], {visible: false});\ntri1[2] = board.create('point', [tri1[0], [down_b,right_a]], {visible: false});\nvar po1 = board.create('polygon',[tri1[0],tri1[1],tri1[2]], \n                        {withLines: true, fillColor:'red', highlightFillColor:'none',\n                         vertices:{face:'', withLabel: false},\n                         borders: {strokeWidth:1, strokeColor:'black'}});\n\nboard.create('segment',[tri1[0],tri1[1]],{strokeWidth:0, withLabel: true, name:'b', label:{offset:[-10, b.Value()/2]}});\nboard.create('segment',[tri1[1],tri1[2]],{strokeWidth:0, withLabel: true, name:'a', label:{offset:[a.Value()/2, -10]}});\nboard.create('segment',[tri1[2],tri1[0]],{strokeWidth:0, withLabel: true, name:'c', label:{offset:[a.Value()/2-10, b.Value()/2-10]}});\n\nvar move_tri2 = board.create('transform', [()=>a.Value(), ()=>b.Value()*(1-Math.min(m.Value(),1))], {type:'translate'});\nvar tri2 = [];\ntri2[0] = board.create('point', [s, move_tri2], {visible: false});\ntri2[1] = board.create('point', [tri2[0], right_b], {visible: false});\ntri2[2] = board.create('point', [tri2[0], [right_b,up_a]], {visible: false});\nvar po2 = board.create('polygon',[tri2[0],tri2[1],tri2[2]], \n                        {withLines: true, fillColor:'green', highlightFillColor:'none',\n                         vertices:{face:'', withLabel: false},\n                         borders: {strokeWidth:1, strokeColor:'black'}});\n\nvar move_tri3 = board.create('transform', [()=>a.Value()+b.Value()*(Math.max(m.Value(),1)-1), ()=>a.Value()*(Math.max(m.Value(),1)-1)], {type:'translate'});\nvar tri3 = [];\ntri3[0] = board.create('point', [s, move_tri3], {visible: false});\ntri3[1] = board.create('point', [tri3[0], up_b], {visible: false});\ntri3[2] = board.create('point', [tri3[0], [up_b,left_a]], {visible: false});\nvar po3 = board.create('polygon',[tri3[0],tri3[1],tri3[2]], \n                        {withLines: true, fillColor:'blue', highlightFillColor:'none',\n                         vertices:{face:'', withLabel: false},\n                         borders: {strokeWidth:1, strokeColor:'black'}});\n\n\nvar move_tri4 = board.create('transform', [()=>b.Value()+a.Value()*(1-Math.min(m.Value(),1)), ()=>a.Value()+b.Value()], {type:'translate'});\nvar tri4 = [];\ntri4[0] = board.create('point', [s, move_tri4], {visible: false});\ntri4[1] = board.create('point', [tri4[0], left_b], {visible: false});\ntri4[2] = board.create('point', [tri4[0], [left_b,down_a]], {visible: false});\nvar po4 = board.create('polygon',[tri4[0],tri4[1],tri4[2]], \n                        {withLines: true, fillColor:'yellow', highlightFillColor:'none',\n                         vertices:{face:'', withLabel: false},\n                         borders: {strokeWidth:1, strokeColor:'black'}});\n\nboard.create('text',[()=>s.X()+1/2*a.Value(),()=>s.Y()+b.Value()+1/2*a.Value(),function(){\n        return '\\\\[ a^2 \\\\]';\n    }],{visible: ()=> {return (m.Value()<0.3);}, anchorX: 'middle', anchorY: 'auto'});\n\nboard.create('text',[()=>s.X()+a.Value()+1/2*b.Value(),()=>s.Y()+1/2*b.Value(),function(){\n    return '\\\\[b^2\\\\]';\n    }],{visible: ()=> {return (m.Value()<0.3);}, anchorX: 'middle', anchorY: 'auto'});\n\nboard.create('text',[()=>s.X()+1/2*(a.Value()+b.Value()),()=>s.Y()+1/2*(a.Value()+b.Value()),function(){\n    return '\\\\[c^2\\\\]';\n    }],{visible: ()=> {return (m.Value()>1.9);}, anchorX: 'middle', anchorY: 'auto'});\n",
       "layout": "IPY_MODEL_9cb187f08795405ba3195afcdd0d7e66"
      }
     },
     "40709b1df6bf4ca0858edda9da191bd1": {
      "model_module": "@jupyter-widgets/base",
      "model_module_version": "1.2.0",
      "model_name": "LayoutModel",
      "state": {}
     },
     "590bf3d74084479b932091f38b9a282e": {
      "model_module": "@jupyter-widgets/base",
      "model_module_version": "1.2.0",
      "model_name": "LayoutModel",
      "state": {}
     },
     "731ea75ee10d4edc9bc7ebd7893afca0": {
      "model_module": "@jupyter-widgets/output",
      "model_module_version": "1.0.0",
      "model_name": "OutputModel",
      "state": {
       "layout": "IPY_MODEL_40709b1df6bf4ca0858edda9da191bd1",
       "outputs": [
        {
         "name": "stdout",
         "output_type": "stream",
         "text": "c: 5.00\n"
        }
       ]
      }
     },
     "9b65e569047245fc8d4f4b124cbbd624": {
      "model_module": "@jupyter-widgets/controls",
      "model_module_version": "1.5.0",
      "model_name": "SliderStyleModel",
      "state": {
       "description_width": ""
      }
     },
     "9cb187f08795405ba3195afcdd0d7e66": {
      "model_module": "@jupyter-widgets/base",
      "model_module_version": "1.2.0",
      "model_name": "LayoutModel",
      "state": {}
     },
     "9ce9c8ef63cd451195f4caae415b50e9": {
      "model_module": "@jupyter-widgets/base",
      "model_module_version": "1.2.0",
      "model_name": "LayoutModel",
      "state": {}
     },
     "a2379efb2507446f860afce3a0224b79": {
      "model_module": "@jupyter-widgets/base",
      "model_module_version": "1.2.0",
      "model_name": "LayoutModel",
      "state": {}
     },
     "ac2f71361ed44ae7a2a436c6d2a91885": {
      "model_module": "@jupyter-widgets/controls",
      "model_module_version": "1.5.0",
      "model_name": "IntSliderModel",
      "state": {
       "description": "b",
       "layout": "IPY_MODEL_fba04bc6f4314165b4a895e48c5304cf",
       "max": 10,
       "style": "IPY_MODEL_9b65e569047245fc8d4f4b124cbbd624",
       "value": 4
      }
     },
     "bbb153b060a240bb808134703d2c8b38": {
      "model_module": "@jupyter-widgets/base",
      "model_module_version": "1.2.0",
      "model_name": "LayoutModel",
      "state": {}
     },
     "c5806e5ae6df498c82dfb3b8a7cff32f": {
      "model_module": "@jupyter-widgets/controls",
      "model_module_version": "1.5.0",
      "model_name": "SliderStyleModel",
      "state": {
       "description_width": ""
      }
     },
     "ce337e91c6fc4fd38a124ee4f9f33e4b": {
      "model_module": "@jupyter-widgets/base",
      "model_module_version": "1.2.0",
      "model_name": "LayoutModel",
      "state": {}
     },
     "d80e2701e16e4b41b3f21958b1e74cef": {
      "model_module": "@jupyter-widgets/controls",
      "model_module_version": "1.5.0",
      "model_name": "IntSliderModel",
      "state": {
       "description": "a",
       "layout": "IPY_MODEL_a2379efb2507446f860afce3a0224b79",
       "max": 10,
       "style": "IPY_MODEL_c5806e5ae6df498c82dfb3b8a7cff32f",
       "value": 3
      }
     },
     "e0128bac388b43d39d4674ca1f37ac14": {
      "model_module": "jupyter-divewidgets",
      "model_module_version": "^0.1.5",
      "model_name": "JSWidgetModel",
      "state": {
       "_model_module_version": "^0.1.5",
       "_view_module_version": "^0.1.5",
       "html": "<!DOCTYPE html>\n<html>\n    <head>\n    <style>\n    html, body {\n        height: 100%;\n    }\n    body {\n        width: 100%;\n        display: flex;\n        padding: 0;\n        margin: 0;\n    }\n    .jxgbox {\n        width:100%; \n        flex-grow: 1;\n    }\n    </style>\n    <link rel=\"stylesheet\" type=\"text/css\" href=\"https://jsxgraph.org/distrib/jsxgraph.css\" />\n    <script type=\"text/javascript\" src=\"https://cdn.jsdelivr.net/npm/jsxgraph/distrib/jsxgraphcore.js\"></script>\n    <script type=\"text/javascript\" src=\"https://cdn.jsdelivr.net/npm/mathjax@3/es5/tex-chtml.js\"></script>\n    </head>\n<body>\n<div id=\"box\" class=\"jxgbox\"></div>\n</body>\n</html>",
       "js": "\nJXG.Options.text.useMathJax = true;\nvar brd = JXG.JSXGraph.initBoard('box', {boundingbox: [-8, 8, 8, -8], axis:true,  showCopyright:false});\nvar a = brd.create('slider', [[3, -3], [6,-3], [-3, 1, 3]], {name:'a', snapWidth: 0.1});\nvar b = brd.create('slider', [[3, -4], [6,-4], [-3, 0, 3]], {name:'b', snapWidth: 0.1});\nvar c = brd.create('slider', [[3, -5], [6,-5], [-3, 0, 3]], {name:'c', snapWidth: 0.1});\nvar graph1 = brd.create('functiongraph', [function(x){return a.Value()*x*x + b.Value()*x + c.Value();}, -10, 10]);\nvar text1 = brd.create('text',[-6,2,function(){return '\\\\[y=ax^2+bx+c\\\\]';}]);\n",
       "layout": "IPY_MODEL_bbb153b060a240bb808134703d2c8b38"
      }
     },
     "e453d56026254e4f94d1ebaf1a1c7595": {
      "model_module": "jupyter-divewidgets",
      "model_module_version": "^0.1.5",
      "model_name": "JSWidgetModel",
      "state": {
       "_model_module_version": "^0.1.5",
       "_view_module_version": "^0.1.5",
       "html": "<!DOCTYPE html>\n<html>\n    <head>\n    <style>\n    html, body {\n        height: 100%;\n    }\n    body {\n        width: 100%;\n        display: flex;\n        padding: 0;\n        margin: 0;\n    }\n    .jxgbox {\n        width:100%; \n        flex-grow: 1;\n    }\n    </style>\n    <link rel=\"stylesheet\" type=\"text/css\" href=\"https://jsxgraph.org/distrib/jsxgraph.css\" />\n    <script type=\"text/javascript\" src=\"https://cdn.jsdelivr.net/npm/jsxgraph/distrib/jsxgraphcore.js\"></script>\n    <script type=\"text/javascript\" src=\"https://cdn.jsdelivr.net/npm/mathjax@3/es5/tex-chtml.js\"></script>\n    </head>\n<body>\n<div id=\"box\" class=\"jxgbox\"></div>\n</body>\n</html>",
       "js": "\nJXG.Options.text.useMathJax = true;\nvar brd = JXG.JSXGraph.initBoard('box', {boundingbox: [-10, 10, 10, -10], axis:true,  showCopyright:false});\nvar a = brd.create('slider', [[3, -3], [6,-3], [-5, 1, 5]], {name:'a', snapWidth: 0.1});\nvar b = brd.create('slider', [[3, -4], [6,-4], [-5, 0, 5]], {name:'b', snapWidth: 0.1});\nvar c = brd.create('slider', [[3, -5], [6,-5], [-5, 0, 5]], {name:'c', snapWidth: 0.1});\nvar graph1 = brd.create('functiongraph', [function(x){return a.Value()*x*x + b.Value()*x + c.Value();}, -10, 10]);\nvar line1 = brd.create('line',[[-10,0],[10,0]], {visible: false});\nvar inter1 = brd.create('intersection',[graph1, line1, 0],{name:\"\\\\[x_1\\\\]\"});\nvar inter2 = brd.create('intersection',[graph1, line1, 1],{name:\"\\\\[x_2\\\\]\"});\nvar get_roots = function(a, b, c){\nd=Math.sqrt(b*b-4*a*c);\n\nreturn -b}\n\nvar text1 = brd.create('text',[-8,-6,function(){return '\\\\[y=ax^2+bx+c\\\\]';}]);\nvar text2 = brd.create('text',[3,-6,function(){return '\\\\[b^2-4ac='+(b.Value()*b.Value() - 4*a.Value()*c.Value()).toFixed(2)+'\\\\]'}])\nvar text3 = \n",
       "layout": "IPY_MODEL_e8aaeab5b36b417992819b441e7d1d82"
      }
     },
     "e8aaeab5b36b417992819b441e7d1d82": {
      "model_module": "@jupyter-widgets/base",
      "model_module_version": "1.2.0",
      "model_name": "LayoutModel",
      "state": {}
     },
     "e90198296b9d44d4be12a21ad820fbdf": {
      "model_module": "@jupyter-widgets/controls",
      "model_module_version": "1.5.0",
      "model_name": "VBoxModel",
      "state": {
       "_dom_classes": [
        "widget-interact"
       ],
       "children": [
        "IPY_MODEL_d80e2701e16e4b41b3f21958b1e74cef",
        "IPY_MODEL_ac2f71361ed44ae7a2a436c6d2a91885",
        "IPY_MODEL_731ea75ee10d4edc9bc7ebd7893afca0"
       ],
       "layout": "IPY_MODEL_9ce9c8ef63cd451195f4caae415b50e9"
      }
     },
     "f32d98e9ce9c45688969215915b07e33": {
      "model_module": "jupyter-divewidgets",
      "model_module_version": "^0.1.5",
      "model_name": "JSWidgetModel",
      "state": {
       "_model_module_version": "^0.1.5",
       "_view_module_version": "^0.1.5",
       "html": "<!DOCTYPE html>\n<html>\n    <head>\n    <style>\n    html, body {\n        height: 100%;\n    }\n    body {\n        width: 100%;\n        display: flex;\n        padding: 0;\n        margin: 0;\n    }\n    .jxgbox {\n        width:100%; \n        flex-grow: 1;\n    }\n    </style>\n    <link rel=\"stylesheet\" type=\"text/css\" href=\"https://jsxgraph.org/distrib/jsxgraph.css\" />\n    <script type=\"text/javascript\" src=\"https://cdn.jsdelivr.net/npm/jsxgraph/distrib/jsxgraphcore.js\"></script>\n    <script type=\"text/javascript\" src=\"https://cdn.jsdelivr.net/npm/mathjax@3/es5/tex-chtml.js\"></script>\n    </head>\n<body>\n<div id=\"box\" class=\"jxgbox\"></div>\n</body>\n</html>",
       "js": "\nJXG.Options.text.useMathJax = true;\nvar board = JXG.JSXGraph.initBoard('box', {boundingbox: [-1, 15, 17, -3], axis:true, grid:true, showCopyright:false});\nvar a = board.create('slider', [[1, -1], [5,-1], [2, 4, 7]], {name:'a', snapWidth: 0.1});\nvar b = board.create('slider', [[8, -1], [12,-1], [2, 3, 7]], {name:'b', snapWidth: 0.1});\n\nvar s = board.create('point', [6,6],{face:\"\", withLabel:false});\nvar right_ab = board.create('transform', [()=>a.Value()+b.Value(),0], {type:'translate'});\nvar right_a = board.create('transform', [()=>a.Value(),0], {type:'translate'});\nvar right_b = board.create('transform', [()=>b.Value(),0], {type:'translate'});\nvar left_a = board.create('transform', [()=> -a.Value(),0], {type:'translate'});\nvar left_b = board.create('transform', [()=> -b.Value(),0], {type:'translate'});\nvar up_ab = board.create('transform', [0,()=>a.Value()+b.Value()], {type:'translate'});\nvar up_a = board.create('transform', [0,()=>a.Value()], {type:'translate'});\nvar up_b = board.create('transform', [0,()=>b.Value()], {type:'translate'});\nvar down_a = board.create('transform', [0,()=> -a.Value()], {type:'translate'});\nvar down_b = board.create('transform', [0,()=> -b.Value()], {type:'translate'});\nvar no_move = board.create('transform', [0,0], {type:'translate'});\n\n\nvar tri1 = [];\ntri1[0] = board.create('point', [s, up_b], {visible: true, size:2, name:'A', label:{offset:[-10,10]}});\ntri1[1] = board.create('point', [tri1[0], down_b], {visible: true, size:2, name:'C', label:{offset:[-10,-10]}});\ntri1[2] = board.create('point', [tri1[0], [down_b,right_a]], {visible: true, size:2, name:'B', label:{offset:[10,0]}});\nvar po1 = board.create('polygon',[tri1[0], tri1[1],tri1[2]], \n                        {withLines: true, fillColor:'none', highlightFillColor:'none',\n                         vertices:{face:'', withLabel: false},\n                         borders: {strokeWidth:1, strokeColor:'black'}});\n\nboard.create('segment',[tri1[0],tri1[1]],{strokeWidth:0, withLabel: true, name:'b', label:{offset:[-10, b.Value()/2]}});\nboard.create('segment',[tri1[1],tri1[2]],{strokeWidth:0, withLabel: true, name:'a', label:{offset:[a.Value()/2, -10]}});\nboard.create('segment',[tri1[2],tri1[0]],{strokeWidth:0, withLabel: true, name:'c', label:{offset:[a.Value()/2-10, b.Value()/2-10]}});\n\n\nvar po_a = board.create('regularpolygon',[tri1[1],tri1[0],4], \n                        {withLines: true, fillColor:'red', highlightFillColor:'none',\n                         vertices:{face:'', withLabel: false},\n                         borders: {strokeWidth:1, strokeColor:'black'}});\n\nvar po_b = board.create('regularpolygon',[tri1[2],tri1[1],4], \n                        {withLines: true, fillColor:'green', highlightFillColor:'none',\n                         vertices:{face:'', withLabel: false},\n                         borders: {strokeWidth:1, strokeColor:'black'}});\n\nvar po_c = board.create('regularpolygon',[tri1[0],tri1[2],4], \n                        {withLines: true, fillColor:'yellow', highlightFillColor:'none',\n                         vertices:{face:'', withLabel: false},\n                         borders: {strokeWidth:1, strokeColor:'black'}});\n\n\nboard.create('text',[()=>s.X()+a.Value()/2,()=>s.Y()-a.Value()/2,function(){\n        return (po_b.Area()).toFixed(2);\n    }],{anchorX: 'middle', anchorY: 'auto'});\n\nboard.create('text',[()=>s.X()-b.Value()/2,()=>s.Y()+b.Value()/2,function(){\n        return (po_a.Area()).toFixed(2);\n    }],{anchorX: 'middle', anchorY: 'auto'});\n    \nboard.create('text',[()=>s.X()+a.Value(),()=>s.Y()+b.Value(),function(){\n        return (po_c.Area()).toFixed(2);\n    }],{anchorX: 'middle', anchorY: 'auto'});\n",
       "layout": "IPY_MODEL_ce337e91c6fc4fd38a124ee4f9f33e4b"
      }
     },
     "fba04bc6f4314165b4a895e48c5304cf": {
      "model_module": "@jupyter-widgets/base",
      "model_module_version": "1.2.0",
      "model_name": "LayoutModel",
      "state": {}
     }
    },
    "version_major": 2,
    "version_minor": 0
   }
  }
 },
 "nbformat": 4,
 "nbformat_minor": 4
}
