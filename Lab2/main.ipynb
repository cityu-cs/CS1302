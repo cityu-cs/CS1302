{
 "cells": [
  {
   "cell_type": "code",
   "execution_count": 1,
   "metadata": {
    "deletable": false,
    "editable": false,
    "tags": [
     "remove-cell"
    ]
   },
   "outputs": [],
   "source": [
    "# Initialization cell\n",
    "try:  # for CS1302 JupyterLite pyodide kernel\n",
    "    import piplite\n",
    "\n",
    "    with open(\"requirements.txt\") as f:\n",
    "        for package in f:\n",
    "            package = package.strip()\n",
    "            print(\"Installing\", package)\n",
    "            await piplite.install(package)\n",
    "except ModuleNotFoundError:\n",
    "    pass\n",
    "\n",
    "import math\n",
    "from math import cos, exp, log, pi, sin, tan\n",
    "\n",
    "import jsxgraphs\n",
    "import jupytext\n",
    "import matplotlib.pyplot as plt\n",
    "import numpy as np\n",
    "import otter\n",
    "import sympy as sp\n",
    "from ipywidgets import interact\n",
    "\n",
    "grader = otter.Notebook(\"main.ipynb\")\n",
    "# interactive plot with ipympl\n",
    "%matplotlib widget"
   ]
  },
  {
   "cell_type": "markdown",
   "metadata": {
    "slideshow": {
     "slide_type": "slide"
    }
   },
   "source": [
    "# Lab 2"
   ]
  },
  {
   "cell_type": "markdown",
   "metadata": {
    "slideshow": {
     "slide_type": "-"
    },
    "tags": [
     "remove-cell"
    ]
   },
   "source": [
    "**CS1302 Introduction to Computer Programming**\n",
    "___"
   ]
  },
  {
   "cell_type": "markdown",
   "metadata": {
    "slideshow": {
     "slide_type": "fragment"
    }
   },
   "source": [
    "For this lab, you will create different calculators. We will first show you a demo. Then, it will be your turn to create the calculators."
   ]
  },
  {
   "cell_type": "markdown",
   "metadata": {
    "slideshow": {
     "slide_type": "slide"
    }
   },
   "source": [
    "## Hypotenuse Calculator"
   ]
  },
  {
   "cell_type": "markdown",
   "metadata": {
    "slideshow": {
     "slide_type": "fragment"
    }
   },
   "source": [
    "---\n",
    "\n",
    "**Proposition** \n",
    "\n",
    "By the Pythagoras theorem, given a right-angled triangle,\n",
    "\n",
    "![Right-angled triangle](images/pythagoras.dio.svg)\n",
    "\n",
    "the length of the hypotenuse is\n",
    "\n",
    "$$\n",
    "c = \\sqrt{a^2 + b^2}\n",
    "$$ (hypotenuse)\n",
    "\n",
    "where $a$ and $b$ are the lengths of the other sides of the triangle.\n",
    "\n",
    "---"
   ]
  },
  {
   "cell_type": "markdown",
   "metadata": {},
   "source": [
    "You can verify the theorem using the JSXGraph app below:"
   ]
  },
  {
   "cell_type": "code",
   "execution_count": 2,
   "metadata": {},
   "outputs": [
    {
     "data": {
      "application/vnd.jupyter.widget-view+json": {
       "model_id": "818a02ed2f474276bb1ddae9ae0e92f4",
       "version_major": 2,
       "version_minor": 0
      },
      "text/plain": [
       "JSWidget(value=None, height=600, html='<!DOCTYPE html>\\n<html>\\n    <head>\\n    <style>\\n    html, body {\\n   …"
      ]
     },
     "metadata": {},
     "output_type": "display_data"
    }
   ],
   "source": [
    "jsxgraphs.pythagorean1"
   ]
  },
  {
   "cell_type": "markdown",
   "metadata": {},
   "source": [
    "```{seealso}\n",
    "We developed `divewidgets` to run the Javascript library [JSXGraph](https://jsxgraph.uni-bayreuth.de/). You can click the button `scratch` to show and edit the Javascript code. Other mathematical illustrations created using `divewidgets` can be found [here](https://dive4dec.github.io/lab/?path=divemath%2Fdivemath.ipynb) and will be presented in an upcoming [JSXGraph conference open to the public](https://jsxgraph.uni-bayreuth.de/conf2022/registration/).\n",
    "```"
   ]
  },
  {
   "cell_type": "markdown",
   "metadata": {},
   "source": [
    "The following is an interactive graphical proof:"
   ]
  },
  {
   "cell_type": "code",
   "execution_count": 3,
   "metadata": {},
   "outputs": [
    {
     "data": {
      "application/vnd.jupyter.widget-view+json": {
       "model_id": "afd5c6a549ac451da63206797cb8accb",
       "version_major": 2,
       "version_minor": 0
      },
      "text/plain": [
       "JSWidget(value=None, height=600, html='<!DOCTYPE html>\\n<html>\\n    <head>\\n    <style>\\n    html, body {\\n   …"
      ]
     },
     "metadata": {},
     "output_type": "display_data"
    }
   ],
   "source": [
    "jsxgraphs.pythagorean2"
   ]
  },
  {
   "cell_type": "markdown",
   "metadata": {},
   "source": [
    "Another interactive proof is as follows:"
   ]
  },
  {
   "cell_type": "code",
   "execution_count": 4,
   "metadata": {},
   "outputs": [
    {
     "data": {
      "application/vnd.jupyter.widget-view+json": {
       "model_id": "764e4e2f5a86423aa0f88eec0196f753",
       "version_major": 2,
       "version_minor": 0
      },
      "text/plain": [
       "JSWidget(value=None, height=600, html='<!DOCTYPE html>\\n<html>\\n    <head>\\n    <style>\\n    html, body {\\n   …"
      ]
     },
     "metadata": {},
     "output_type": "display_data"
    }
   ],
   "source": [
    "jsxgraphs.pythagorean3"
   ]
  },
  {
   "cell_type": "markdown",
   "metadata": {},
   "source": [
    "We can define the following function to calculate the length `c` of the hypotenuse when given the lengths `a` and `b` of the other sides: "
   ]
  },
  {
   "cell_type": "code",
   "execution_count": 5,
   "metadata": {
    "ExecuteTime": {
     "end_time": "2021-03-20T14:24:41.414382Z",
     "start_time": "2021-03-20T14:24:41.412057Z"
    },
    "slideshow": {
     "slide_type": "fragment"
    }
   },
   "outputs": [],
   "source": [
    "def length_of_hypotenuse(a, b):\n",
    "    c = (a**2 + b**2) ** (0.5)  # Pythagoras\n",
    "    return c"
   ]
  },
  {
   "cell_type": "markdown",
   "metadata": {
    "slideshow": {
     "slide_type": "fragment"
    }
   },
   "source": [
    "```{note}\n",
    "\n",
    "In the above code,\n",
    "- the formula {eq}`hypotenuse` is written as a python expression using the exponentiation operator `**`, and\n",
    "- the variable `c` is assigned to the value of the expression using the assignment operator `=`.\n",
    "\n",
    "```"
   ]
  },
  {
   "cell_type": "markdown",
   "metadata": {
    "slideshow": {
     "slide_type": "subslide"
    }
   },
   "source": [
    "For example, you may be asked to write Line 2, while Line 1 and 3 are given to you:"
   ]
  },
  {
   "cell_type": "markdown",
   "metadata": {
    "slideshow": {
     "slide_type": "fragment"
    }
   },
   "source": [
    "**Exercise** \n",
    "\n",
    "Complete the function below to return the length `c` of the hypotenuse given the lengths `a` and `b`.\n",
    "\n",
    "```{caution}\n",
    "\n",
    "- You should still complete this exercise to get the credit even though the answer was already revealed as a demo. Instead of copy-and-paste the answer, type it yourself.\n",
    "- Note that indentation affects the execution of python code. In particular, the assignment statement must be indented to indicate that it is part of the *body* of the function. \n",
    "```"
   ]
  },
  {
   "cell_type": "code",
   "execution_count": 6,
   "metadata": {
    "ExecuteTime": {
     "end_time": "2021-03-20T14:24:42.977375Z",
     "start_time": "2021-03-20T14:24:42.976117Z"
    },
    "nbgrader": {
     "grade": false,
     "grade_id": "length_of_hypotenuse",
     "locked": false,
     "schema_version": 3,
     "solution": true,
     "task": false
    },
    "slideshow": {
     "slide_type": "-"
    },
    "tags": [
     "remove-output"
    ]
   },
   "outputs": [],
   "source": [
    "def length_of_hypotenuse(a, b):\n",
    "    # c = math.sqrt(a ** 2 + b ** 2)\n",
    "    c = (a ** 2 + b ** 2) ** (0.5)\n",
    "    return c"
   ]
  },
  {
   "cell_type": "code",
   "execution_count": 7,
   "metadata": {
    "deletable": false,
    "editable": false
   },
   "outputs": [
    {
     "data": {
      "text/html": [
       "<p><strong><pre style='display: inline;'>length_of_hypotenuse</pre></strong> passed!</p>"
      ],
      "text/plain": [
       "length_of_hypotenuse results: All test cases passed!"
      ]
     },
     "execution_count": 7,
     "metadata": {},
     "output_type": "execute_result"
    }
   ],
   "source": [
    "grader.check(\"length_of_hypotenuse\")"
   ]
  },
  {
   "cell_type": "markdown",
   "metadata": {
    "slideshow": {
     "slide_type": "subslide"
    }
   },
   "source": [
    "We will use `ipywidgets` to let user interact with the calculator more easily:\n",
    "\n",
    "- After running the cell, move the sliders to change the values of `a` and `b`. \n",
    "- Observer that the value of `c` is updated immediately."
   ]
  },
  {
   "cell_type": "code",
   "execution_count": 8,
   "metadata": {
    "ExecuteTime": {
     "end_time": "2021-03-20T14:24:46.386473Z",
     "start_time": "2021-03-20T14:24:46.340180Z"
    },
    "code_folding": [],
    "slideshow": {
     "slide_type": "-"
    },
    "tags": [
     "remove-output"
    ]
   },
   "outputs": [
    {
     "data": {
      "application/vnd.jupyter.widget-view+json": {
       "model_id": "747071d7adea4b0a8fb07cc3176762af",
       "version_major": 2,
       "version_minor": 0
      },
      "text/plain": [
       "interactive(children=(IntSlider(value=3, description='a', max=10), IntSlider(value=4, description='b', max=10)…"
      ]
     },
     "metadata": {},
     "output_type": "display_data"
    }
   ],
   "source": [
    "# hypotenuse calculator\n",
    "@interact(a=(0, 10, 1), b=(0, 10, 1))\n",
    "def calculate_hypotenuse(a=3, b=4):\n",
    "    print(\"c: {:.2f}\".format(length_of_hypotenuse(a, b)))"
   ]
  },
  {
   "cell_type": "markdown",
   "metadata": {
    "slideshow": {
     "slide_type": "fragment"
    }
   },
   "source": [
    "```{note}\n",
    "\n",
    "The hypotenuse is printed up to 2 decimal places using the format specification `{:.2f}`.\n",
    "\n",
    "```"
   ]
  },
  {
   "cell_type": "markdown",
   "metadata": {
    "slideshow": {
     "slide_type": "subslide"
    }
   },
   "source": [
    "You can check your code with a few cases listed in the test cell below."
   ]
  },
  {
   "cell_type": "markdown",
   "metadata": {
    "slideshow": {
     "slide_type": "slide"
    },
    "tags": []
   },
   "source": [
    "## Quadratic equation"
   ]
  },
  {
   "cell_type": "markdown",
   "metadata": {
    "slideshow": {
     "slide_type": "subslide"
    }
   },
   "source": [
    "### Graphical calculator for parabola"
   ]
  },
  {
   "cell_type": "markdown",
   "metadata": {
    "slideshow": {
     "slide_type": "subslide"
    }
   },
   "source": [
    "---\n",
    "\n",
    "**Definition** Parabola\n",
    "\n",
    "\n",
    "The collection of points $(x,y)$ satisfying the following equation forms a *parabola*:\n",
    "\n",
    "$$\n",
    "y=ax^2+bx+c\n",
    "$$ (parabola)\n",
    "\n",
    "where $a$, $b$, and $c$ are real numbers called the *coefficients*.\n",
    "\n",
    "---"
   ]
  },
  {
   "cell_type": "markdown",
   "metadata": {},
   "source": [
    "The following plots the parabola with difference choices of coefficients. "
   ]
  },
  {
   "cell_type": "code",
   "execution_count": 9,
   "metadata": {},
   "outputs": [
    {
     "data": {
      "application/vnd.jupyter.widget-view+json": {
       "model_id": "744f619d8b3f44768cede1d0c6fb7bcb",
       "version_major": 2,
       "version_minor": 0
      },
      "text/plain": [
       "JSWidget(value=None, height=600, html='<!DOCTYPE html>\\n<html>\\n    <head>\\n    <style>\\n    html, body {\\n   …"
      ]
     },
     "metadata": {},
     "output_type": "display_data"
    }
   ],
   "source": [
    "jsxgraphs.parabola"
   ]
  },
  {
   "cell_type": "markdown",
   "metadata": {
    "slideshow": {
     "slide_type": "fragment"
    }
   },
   "source": [
    "**Exercise** \n",
    "\n",
    "Given the variables `x`, `a`, `b`, and `c` store the $x$-coordinate and the coefficients $a$, $b$, and $c$ respectively, assign `y` the corresponding $y$-coordinate of the parabola {eq}`parabola`."
   ]
  },
  {
   "cell_type": "code",
   "execution_count": 10,
   "metadata": {
    "ExecuteTime": {
     "end_time": "2021-03-20T14:24:54.263505Z",
     "start_time": "2021-03-20T14:24:54.261046Z"
    },
    "nbgrader": {
     "grade": false,
     "grade_id": "get_y",
     "locked": false,
     "schema_version": 3,
     "solution": true,
     "task": false
    },
    "slideshow": {
     "slide_type": "-"
    },
    "tags": [
     "remove-output"
    ]
   },
   "outputs": [],
   "source": [
    "def get_y(x, a, b, c):\n",
    "    y = a * (x ** 2) + b * x + c\n",
    "    return y"
   ]
  },
  {
   "cell_type": "markdown",
   "metadata": {},
   "source": [
    "To test your code:"
   ]
  },
  {
   "cell_type": "code",
   "execution_count": 11,
   "metadata": {
    "deletable": false,
    "editable": false
   },
   "outputs": [
    {
     "data": {
      "text/html": [
       "<p><strong><pre style='display: inline;'>parabola</pre></strong> passed!</p>"
      ],
      "text/plain": [
       "parabola results: All test cases passed!"
      ]
     },
     "execution_count": 11,
     "metadata": {},
     "output_type": "execute_result"
    }
   ],
   "source": [
    "grader.check(\"parabola\")"
   ]
  },
  {
   "cell_type": "markdown",
   "metadata": {},
   "source": [
    "To run the graphical calculator:"
   ]
  },
  {
   "cell_type": "code",
   "execution_count": 12,
   "metadata": {
    "ExecuteTime": {
     "end_time": "2021-03-02T13:26:34.128830Z",
     "start_time": "2021-03-02T13:26:33.719638Z"
    },
    "code_folding": [],
    "slideshow": {
     "slide_type": "subslide"
    },
    "tags": [
     "remove-output"
    ]
   },
   "outputs": [
    {
     "data": {
      "application/vnd.jupyter.widget-view+json": {
       "model_id": "d75f5d8d92634eb29b675d6975ff63d6",
       "version_major": 2,
       "version_minor": 0
      },
      "text/plain": [
       "interactive(children=(IntSlider(value=0, description='a', max=10, min=-10), IntSlider(value=0, description='b'…"
      ]
     },
     "metadata": {},
     "output_type": "display_data"
    },
    {
     "data": {
      "application/vnd.jupyter.widget-view+json": {
       "model_id": "6240e8a6fbeb493fa4263782085e775f",
       "version_major": 2,
       "version_minor": 0
      },
      "image/png": "[encoded data removed]",
      "text/html": [
       "\n",
       "            <div style=\"display: inline-block;\">\n",
       "                <div class=\"jupyter-widgets widget-label\" style=\"text-align: center;\">\n",
       "                    Figure\n",
       "                </div>\n",
       "                <img src='data:image/png;base64,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' width=640.0/>\n",
       "            </div>\n",
       "        "
      ],
      "text/plain": [
       "Canvas(toolbar=Toolbar(toolitems=[('Home', 'Reset original view', 'home', 'home'), ('Back', 'Back to previous …"
      ]
     },
     "metadata": {},
     "output_type": "display_data"
    }
   ],
   "source": [
    "# graphical calculator for parabola\n",
    "fig, ax = plt.subplots()\n",
    "xmin, xmax, ymin, ymax, resolution = -10, 10, -10, 10, 50\n",
    "x = np.linspace(xmin, xmax, resolution)\n",
    "ax.set_title(r\"$y=ax^2+bx+c$\")\n",
    "ax.set_xlabel(r\"$x$\")\n",
    "ax.set_ylabel(r\"$y$\")\n",
    "ax.set_xlim([xmin, xmax])\n",
    "ax.set_ylim([ymin, ymax])\n",
    "ax.grid()\n",
    "(p,) = ax.plot(x, get_y(x, 0, 0, 0))\n",
    "\n",
    "\n",
    "@interact(a=(-10, 10, 1), b=(-10, 10, 1), c=(-10, 10, 1))\n",
    "def plot_parabola(a, b, c):\n",
    "    p.set_ydata(get_y(x, a, b, c))"
   ]
  },
  {
   "cell_type": "markdown",
   "metadata": {
    "slideshow": {
     "slide_type": "slide"
    },
    "tags": []
   },
   "source": [
    "### Quadratic equation solver"
   ]
  },
  {
   "cell_type": "markdown",
   "metadata": {},
   "source": [
    "![quadratic-equation-solver](images/quadratic.dio.svg)"
   ]
  },
  {
   "cell_type": "markdown",
   "metadata": {
    "slideshow": {
     "slide_type": "subslide"
    }
   },
   "source": [
    "---\n",
    "\n",
    "**Proposition**\n",
    "\n",
    "For the quadratic equation\n",
    "\n",
    "$$\n",
    "ax^2+bx+c=0,\n",
    "$$ (quadratic)\n",
    "the *roots* (solutions for $x$) are give by\n",
    "\n",
    "$$\n",
    "\\frac{-b-\\sqrt{b^2-4ac}}{2a},\\frac{-b+\\sqrt{b^2-4ac}}{2a}.\n",
    "$$ (quadratic_roots)\n",
    "\n",
    "---"
   ]
  },
  {
   "cell_type": "markdown",
   "metadata": {
    "slideshow": {
     "slide_type": "fragment"
    }
   },
   "source": [
    "**Exercise** \n",
    "\n",
    "Assign to `root1` and `root2` the values of the first and second roots above respectively."
   ]
  },
  {
   "cell_type": "code",
   "execution_count": 13,
   "metadata": {
    "ExecuteTime": {
     "end_time": "2021-03-20T14:25:25.676812Z",
     "start_time": "2021-03-20T14:25:25.673522Z"
    },
    "nbgrader": {
     "grade": false,
     "grade_id": "get_roots",
     "locked": false,
     "schema_version": 3,
     "solution": true,
     "task": false
    },
    "slideshow": {
     "slide_type": "fragment"
    },
    "tags": [
     "remove-output"
    ]
   },
   "outputs": [],
   "source": [
    "def get_roots(a, b, c):\n",
    "    Delta = b ** 2 - 4 * a * c\n",
    "    # if Delta < 0:\n",
    "    #     return\n",
    "    root1 = (- b - Delta ** 0.5) / (2 * a)\n",
    "    root2 = (- b + Delta ** 0.5) / (2 * a)\n",
    "    return root1, root2"
   ]
  },
  {
   "cell_type": "markdown",
   "metadata": {},
   "source": [
    "To test your code:"
   ]
  },
  {
   "cell_type": "code",
   "execution_count": 14,
   "metadata": {
    "deletable": false,
    "editable": false
   },
   "outputs": [
    {
     "data": {
      "text/html": [
       "<p><strong><pre style='display: inline;'>roots</pre></strong> passed!</p>"
      ],
      "text/plain": [
       "roots results: All test cases passed!"
      ]
     },
     "execution_count": 14,
     "metadata": {},
     "output_type": "execute_result"
    }
   ],
   "source": [
    "grader.check(\"roots\")"
   ]
  },
  {
   "cell_type": "markdown",
   "metadata": {},
   "source": [
    "To run the calculator:"
   ]
  },
  {
   "cell_type": "code",
   "execution_count": 15,
   "metadata": {
    "ExecuteTime": {
     "end_time": "2021-03-20T14:25:30.720050Z",
     "start_time": "2021-03-20T14:25:30.689142Z"
    },
    "code_folding": [
     0
    ],
    "slideshow": {
     "slide_type": "fragment"
    },
    "tags": [
     "remove-output"
    ]
   },
   "outputs": [
    {
     "data": {
      "application/vnd.jupyter.widget-view+json": {
       "model_id": "a0e0ad7a446548038318b66ca12ec847",
       "version_major": 2,
       "version_minor": 0
      },
      "text/plain": [
       "interactive(children=(IntSlider(value=1, description='a', max=10, min=-10), IntSlider(value=2, description='b'…"
      ]
     },
     "metadata": {},
     "output_type": "display_data"
    }
   ],
   "source": [
    "# quadratic equations solver\n",
    "@interact(a=(-10, 10, 1), b=(-10, 10, 1), c=(-10, 10, 1))\n",
    "def quadratic_equation_solver(a=1, b=2, c=1):\n",
    "    print(\"Roots: {}, {}\".format(*get_roots(a, b, c)))"
   ]
  },
  {
   "cell_type": "markdown",
   "metadata": {
    "slideshow": {
     "slide_type": "slide"
    },
    "tags": []
   },
   "source": [
    "## Number conversion"
   ]
  },
  {
   "cell_type": "markdown",
   "metadata": {
    "slideshow": {
     "slide_type": "subslide"
    }
   },
   "source": [
    "### Byte-to-Decimal calculator"
   ]
  },
  {
   "cell_type": "markdown",
   "metadata": {
    "slideshow": {
     "slide_type": "-"
    }
   },
   "source": [
    "![byte-to-decimal](images/byte-to-decimal.dio.svg)"
   ]
  },
  {
   "cell_type": "markdown",
   "metadata": {
    "slideshow": {
     "slide_type": "subslide"
    }
   },
   "source": [
    "Denote a binary number stored in a byte ($8$ bits) as\n",
    "\n",
    "$$ \n",
    "b_7\\circ b_6\\circ b_5\\circ b_4\\circ b_3\\circ b_2\\circ b_1\\circ b_0, \n",
    "$$\n",
    "where $\\circ$ concatenates $b_i$'s together into a binary string."
   ]
  },
  {
   "cell_type": "markdown",
   "metadata": {
    "slideshow": {
     "slide_type": "fragment"
    }
   },
   "source": [
    "The binary string can be converted to a decimal number by the formula\n",
    "\n",
    "$$ \n",
    "b_7\\cdot 2^7 + b_6\\cdot 2^6 + b_5\\cdot 2^5 + b_4\\cdot 2^4 + b_3\\cdot 2^3 + b_2\\cdot 2^2 + b_1\\cdot 2^1 + b_0\\cdot 2^0. \n",
    "$$"
   ]
  },
  {
   "cell_type": "markdown",
   "metadata": {
    "slideshow": {
     "slide_type": "fragment"
    }
   },
   "source": [
    "E.g., the binary string `'11111111'` is the largest integer represented by a byte:\n",
    "\n",
    "$$\n",
    "2^7+2^6+2^5+2^4+2^3+2^2+2^1+2^0=255=2^8-1.\n",
    "$$"
   ]
  },
  {
   "cell_type": "markdown",
   "metadata": {
    "slideshow": {
     "slide_type": "fragment"
    }
   },
   "source": [
    "**Exercise** \n",
    "\n",
    "Assign to `decimal` the *integer* value represented by the binary sequence `b7,b6,b5,b4,b3,b2,b1,b0` of *characters* `'0'` or `'1'`."
   ]
  },
  {
   "cell_type": "code",
   "execution_count": 16,
   "metadata": {
    "ExecuteTime": {
     "end_time": "2021-03-20T14:25:34.448688Z",
     "start_time": "2021-03-20T14:25:34.444753Z"
    },
    "nbgrader": {
     "grade": false,
     "grade_id": "byte_to_decimal",
     "locked": false,
     "schema_version": 3,
     "solution": true,
     "task": false
    },
    "slideshow": {
     "slide_type": "fragment"
    },
    "tags": [
     "remove-output"
    ]
   },
   "outputs": [],
   "source": [
    "def byte_to_decimal(b7, b6, b5, b4, b3, b2, b1, b0):\n",
    "    \"\"\"\n",
    "    Parameters\n",
    "    ----------\n",
    "    b7, ..., b0: single characters either '0' or '1'.\n",
    "    \"\"\"\n",
    "    o = lambda b: ord(b) - 48\n",
    "    decimal = (o(b7) << 7) + (o(b6) << 6) + (o(b5) << 5) + (o(b4) << 4) + \\\n",
    "        (o(b3) << 3) + (o(b2) << 2) + (o(b1) << 1) + o(b0)\n",
    "    return decimal"
   ]
  },
  {
   "cell_type": "markdown",
   "metadata": {},
   "source": [
    "To test your code:"
   ]
  },
  {
   "cell_type": "code",
   "execution_count": 17,
   "metadata": {
    "deletable": false,
    "editable": false
   },
   "outputs": [
    {
     "data": {
      "text/html": [
       "<p><strong><pre style='display: inline;'>byte_to_decimal</pre></strong> passed!</p>"
      ],
      "text/plain": [
       "byte_to_decimal results: All test cases passed!"
      ]
     },
     "execution_count": 17,
     "metadata": {},
     "output_type": "execute_result"
    }
   ],
   "source": [
    "grader.check(\"byte_to_decimal\")"
   ]
  },
  {
   "cell_type": "markdown",
   "metadata": {},
   "source": [
    "To run the calculator:"
   ]
  },
  {
   "cell_type": "code",
   "execution_count": 18,
   "metadata": {
    "ExecuteTime": {
     "end_time": "2021-03-20T14:25:36.463010Z",
     "start_time": "2021-03-20T14:25:36.3364Z"
    },
    "code_folding": [
     0
    ],
    "tags": [
     "remove-output"
    ]
   },
   "outputs": [
    {
     "data": {
      "application/vnd.jupyter.widget-view+json": {
       "model_id": "1146cb69d3d34c99a9c1ce2fbecc99e6",
       "version_major": 2,
       "version_minor": 0
      },
      "text/plain": [
       "interactive(children=(Dropdown(description='b7', options=('0', '1'), value='0'), Dropdown(description='b6', op…"
      ]
     },
     "metadata": {},
     "output_type": "display_data"
    }
   ],
   "source": [
    "# byte-to-decimal calculator\n",
    "bit = [\"0\", \"1\"]\n",
    "\n",
    "\n",
    "@interact(b7=bit, b6=bit, b5=bit, b4=bit, b3=bit, b2=bit, b1=bit, b0=bit)\n",
    "def convert_byte_to_decimal(b7, b6, b5, b4, b3, b2, b1, b0):\n",
    "    print(\"decimal:\", byte_to_decimal(b7, b6, b5, b4, b3, b2, b1, b0))"
   ]
  },
  {
   "cell_type": "markdown",
   "metadata": {
    "slideshow": {
     "slide_type": "subslide"
    }
   },
   "source": [
    "### Decimal-to-Byte calculator"
   ]
  },
  {
   "cell_type": "markdown",
   "metadata": {
    "slideshow": {
     "slide_type": "-"
    }
   },
   "source": [
    "![decimal-to-byte](images/decimal-to-byte.dio.svg)"
   ]
  },
  {
   "cell_type": "markdown",
   "metadata": {
    "slideshow": {
     "slide_type": "subslide"
    }
   },
   "source": [
    "**Exercise** Assign to `byte` a *string of 8 bits* that represents the value of `decimal`, a non-negative decimal integer from $0$ to $2^8-1=255$.  \n",
    "\n",
    "```{hint}\n",
    "\n",
    "Use the operators `//` and `%`.\n",
    "\n",
    "```"
   ]
  },
  {
   "cell_type": "code",
   "execution_count": 19,
   "metadata": {
    "ExecuteTime": {
     "end_time": "2021-03-20T14:25:40.354594Z",
     "start_time": "2021-03-20T14:25:40.350920Z"
    },
    "nbgrader": {
     "grade": false,
     "grade_id": "decimal_to_byte",
     "locked": false,
     "schema_version": 3,
     "solution": true,
     "task": false
    },
    "slideshow": {
     "slide_type": "-"
    },
    "tags": [
     "remove-output"
    ]
   },
   "outputs": [],
   "source": [
    "def decimal_to_byte(decimal):\n",
    "    byte = \"\"\n",
    "    for i in range(8):\n",
    "        byte = chr((decimal & 1) + 48) + byte\n",
    "        decimal >>= 1\n",
    "    return byte"
   ]
  },
  {
   "cell_type": "markdown",
   "metadata": {},
   "source": [
    "To test your code:"
   ]
  },
  {
   "cell_type": "code",
   "execution_count": 20,
   "metadata": {
    "deletable": false,
    "editable": false
   },
   "outputs": [
    {
     "data": {
      "text/html": [
       "<p><strong><pre style='display: inline;'>decimal_to_byte</pre></strong> passed!</p>"
      ],
      "text/plain": [
       "decimal_to_byte results: All test cases passed!"
      ]
     },
     "execution_count": 20,
     "metadata": {},
     "output_type": "execute_result"
    }
   ],
   "source": [
    "grader.check(\"decimal_to_byte\")"
   ]
  },
  {
   "cell_type": "markdown",
   "metadata": {},
   "source": [
    "To run the calculator:"
   ]
  },
  {
   "cell_type": "code",
   "execution_count": 21,
   "metadata": {
    "ExecuteTime": {
     "end_time": "2021-03-20T14:25:41.519031Z",
     "start_time": "2021-03-20T14:25:41.500298Z"
    },
    "code_folding": [
     0
    ],
    "slideshow": {
     "slide_type": "fragment"
    },
    "tags": [
     "remove-output"
    ]
   },
   "outputs": [
    {
     "data": {
      "application/vnd.jupyter.widget-view+json": {
       "model_id": "e11cf1c98d50403f88b5b44fddeb1c4d",
       "version_major": 2,
       "version_minor": 0
      },
      "text/plain": [
       "interactive(children=(IntSlider(value=0, description='decimal', max=255), Output()), _dom_classes=('widget-int…"
      ]
     },
     "metadata": {},
     "output_type": "display_data"
    }
   ],
   "source": [
    "# decimal-to-byte calculator\n",
    "@interact(decimal=(0, 255, 1))\n",
    "def convert_decimal_to_byte(decimal=0):\n",
    "    print(\"byte:\", decimal_to_byte(decimal))"
   ]
  },
  {
   "cell_type": "markdown",
   "metadata": {
    "tags": []
   },
   "source": [
    "## Symbolic calculators"
   ]
  },
  {
   "cell_type": "markdown",
   "metadata": {},
   "source": [
    "Can we do complicated arithmetics with python. What about Calculus?  "
   ]
  },
  {
   "cell_type": "markdown",
   "metadata": {},
   "source": [
    "$$\n",
    "\\int \\tan(x)\\, dx = \\color{red}{?}\n",
    "$$"
   ]
  },
  {
   "cell_type": "markdown",
   "metadata": {},
   "source": [
    "Try [SymPy Gamma](https://gamma.sympy.org/input/?i=integrate%28tan%28x%29%29) or [SymPy Beta](https://sympy-beta.vercel.app/input/integrate%28tan%28x%29%29)."
   ]
  },
  {
   "cell_type": "markdown",
   "metadata": {},
   "source": [
    "```{tip}\n",
    "\n",
    "- Take a look at the different panels to learn about the solution: `Steps`, `Plot`, and `Derivative`.\n",
    "- Try different [random examples](https://gamma.sympy.org/).\n",
    "\n",
    "```"
   ]
  },
  {
   "cell_type": "markdown",
   "metadata": {},
   "source": [
    "**How does SymPy Gamma work?**"
   ]
  },
  {
   "cell_type": "markdown",
   "metadata": {},
   "source": [
    "- [SymPy Gamma](https://gamma.sympy.org/) is a web application running [SymPy](https://docs.sympy.org/latest/index.html), which is a python library for symbolic computation.\n",
    "- [SymPy Beta](https://github.com/eagleoflqj/sympy_beta) is a fork of SymPy Gamma that can run totally in the browser."
   ]
  },
  {
   "cell_type": "markdown",
   "metadata": {},
   "source": [
    "**How to use SymPy?**"
   ]
  },
  {
   "cell_type": "markdown",
   "metadata": {},
   "source": [
    "The following line in the initialization cell imports the library:\n",
    "\n",
    "```python\n",
    "import sympy as sp\n",
    "```"
   ]
  },
  {
   "cell_type": "markdown",
   "metadata": {},
   "source": [
    "We need to define a symbolic variable and assign it to a python variable."
   ]
  },
  {
   "cell_type": "code",
   "execution_count": 22,
   "metadata": {},
   "outputs": [
    {
     "data": {
      "text/latex": [
       "$\\displaystyle x$"
      ],
      "text/plain": [
       "x"
      ]
     },
     "execution_count": 22,
     "metadata": {},
     "output_type": "execute_result"
    }
   ],
   "source": [
    "x = sp.symbols(\"x\")\n",
    "x"
   ]
  },
  {
   "cell_type": "markdown",
   "metadata": {},
   "source": [
    "The SymPy expression for $\\tan(x)$ is:"
   ]
  },
  {
   "cell_type": "code",
   "execution_count": 23,
   "metadata": {},
   "outputs": [
    {
     "data": {
      "text/latex": [
       "$\\displaystyle \\tan{\\left(x \\right)}$"
      ],
      "text/plain": [
       "tan(x)"
      ]
     },
     "execution_count": 23,
     "metadata": {},
     "output_type": "execute_result"
    }
   ],
   "source": [
    "f = sp.tan(x)\n",
    "f"
   ]
  },
  {
   "cell_type": "markdown",
   "metadata": {},
   "source": [
    "To compute the integration:\n",
    "\n",
    "$$\n",
    "\\int f(x) dx\n",
    "$$"
   ]
  },
  {
   "cell_type": "code",
   "execution_count": 24,
   "metadata": {},
   "outputs": [
    {
     "data": {
      "text/latex": [
       "$\\displaystyle - \\log{\\left(\\cos{\\left(x \\right)} \\right)}$"
      ],
      "text/plain": [
       "-log(cos(x))"
      ]
     },
     "execution_count": 24,
     "metadata": {},
     "output_type": "execute_result"
    }
   ],
   "source": [
    "g = sp.integrate(f)\n",
    "g"
   ]
  },
  {
   "cell_type": "markdown",
   "metadata": {},
   "source": [
    "To compute the derivative:\n",
    "\n",
    "$$\n",
    "\\frac{d}{dx}g(x)\n",
    "$$"
   ]
  },
  {
   "cell_type": "code",
   "execution_count": 25,
   "metadata": {},
   "outputs": [
    {
     "data": {
      "text/latex": [
       "$\\displaystyle \\frac{\\sin{\\left(x \\right)}}{\\cos{\\left(x \\right)}}$"
      ],
      "text/plain": [
       "sin(x)/cos(x)"
      ]
     },
     "execution_count": 25,
     "metadata": {},
     "output_type": "execute_result"
    }
   ],
   "source": [
    "diff_g = sp.diff(g)\n",
    "diff_g"
   ]
  },
  {
   "cell_type": "markdown",
   "metadata": {},
   "source": [
    "The answer can be simplified as expected:"
   ]
  },
  {
   "cell_type": "code",
   "execution_count": 26,
   "metadata": {},
   "outputs": [
    {
     "data": {
      "text/latex": [
       "$\\displaystyle \\tan{\\left(x \\right)}$"
      ],
      "text/plain": [
       "tan(x)"
      ]
     },
     "execution_count": 26,
     "metadata": {},
     "output_type": "execute_result"
    }
   ],
   "source": [
    "diff_g.simplify()"
   ]
  },
  {
   "cell_type": "markdown",
   "metadata": {},
   "source": [
    "To plot the functions:"
   ]
  },
  {
   "cell_type": "code",
   "execution_count": 27,
   "metadata": {},
   "outputs": [
    {
     "data": {
      "application/vnd.jupyter.widget-view+json": {
       "model_id": "8568c8517bb7480cb9abf6bc49b1b35e",
       "version_major": 2,
       "version_minor": 0
      },
      "image/png": "[encoded data removed]",
      "text/html": [
       "\n",
       "            <div style=\"display: inline-block;\">\n",
       "                <div class=\"jupyter-widgets widget-label\" style=\"text-align: center;\">\n",
       "                    Figure\n",
       "                </div>\n",
       "                <img src='data:image/png;base64,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' width=640.0/>\n",
       "            </div>\n",
       "        "
      ],
      "text/plain": [
       "Canvas(toolbar=Toolbar(toolitems=[('Home', 'Reset original view', 'home', 'home'), ('Back', 'Back to previous …"
      ]
     },
     "metadata": {},
     "output_type": "display_data"
    }
   ],
   "source": [
    "p = sp.plot(f, g, (x, -2 * sp.pi / 5, 2 * sp.pi / 5), ylabel=\"y\", legend=True)"
   ]
  },
  {
   "cell_type": "markdown",
   "metadata": {},
   "source": [
    "**Exercise**\n",
    "\n",
    "Using SymPy expressions\n",
    "\n",
    "- assign to `x` a SymPy variable named `\"x\"`,\n",
    "- assign to `f` the expression $\\frac{1}{\\sqrt{1 - x^2}}$ in terms of `x`,\n",
    "- assign to `g` the result of $\\int \\frac{1}{\\sqrt{1 - x^2}} dx$, and\n",
    "- *optionally*, plot `f` and `g` for $x\\in \\left[-\\frac45, \\frac45\\right]$.\n",
    "\n",
    "```{caution}\n",
    "\n",
    "Use `sp.sqrt` or `**(sp.S(1)/2)` for square root instead of `**0.5`. See [SymPy gotchas](https://docs.sympy.org/latest/gotchas.html).\n",
    "\n",
    "```"
   ]
  },
  {
   "cell_type": "code",
   "execution_count": 28,
   "metadata": {
    "deletable": false,
    "editable": false,
    "tags": []
   },
   "outputs": [],
   "source": [
    "import sympy as sp"
   ]
  },
  {
   "cell_type": "code",
   "execution_count": 29,
   "metadata": {
    "tags": []
   },
   "outputs": [
    {
     "data": {
      "application/vnd.jupyter.widget-view+json": {
       "model_id": "e6a8746fc6c74439b1864f255b4eb88c",
       "version_major": 2,
       "version_minor": 0
      },
      "image/png": "[encoded data removed]",
      "text/html": [
       "\n",
       "            <div style=\"display: inline-block;\">\n",
       "                <div class=\"jupyter-widgets widget-label\" style=\"text-align: center;\">\n",
       "                    Figure\n",
       "                </div>\n",
       "                <img src='data:image/png;base64,iVBORw0KGgoAAAANSUhEUgAAAoAAAAHgCAYAAAA10dzkAAAAOXRFWHRTb2Z0d2FyZQBNYXRwbG90bGliIHZlcnNpb24zLjUuMywgaHR0cHM6Ly9tYXRwbG90bGliLm9yZy/NK7nSAAAACXBIWXMAAA9hAAAPYQGoP6dpAABoCklEQVR4nO3dd3gU1f7H8fdm0zskhIQWqnRC7wgigqggVmwodkVUwPJDseH1igUVGwoW7OWq4EUBRa703ltoQkIoCSGk97Lz+2MgECmSkGSy2c/refZJ5uzs7neHJfnkzJxzbIZhGIiIiIiIy3CzugARERERqVwKgCIiIiIuRgFQRERExMUoAIqIiIi4GAVAERERERejACgiIiLiYhQARURERFyMAqCIiIiIi1EAFBEREXExCoAiIiIiLkYBUERERMTFKACKiIiIuBgFQBEREREXowAoIi7JMAzS09MxDMPqUkREKp0CoIi4pIyMDIKCgsjIyLC6FBGRSqcAKCIiIuJiFABFREREXIwCoIiIiIiLUQAUERERcTEKgCIiIiIuRgFQRERExMUoAIqIiIi4GAVAERERERejACgiIiLiYhQARURERFyMAqCIiIiIi1EAFBEREXExCoAiIiIiLkYBUERERMTFKACKiIiIuBgFQBEREREXowAoIiIi4mKcJgAahoFhGFaXISIiInIaZ8spThEAE9JyufeLdfyw/qDVpYiIiIic5od1B7n3i3UcSc+1upTz4hQB8Ncth1mwI5F//RrtNAdWREREXENCWi7/mhPNgh2J/LL5sNXlnBenCIAjezYkql4QGbmFTJi11am6WEVERKT6MgyDCbO2kpFbSFT9YO7s1cjqks6LUwRAd7sbr10fhYfdxoIdicx2knQtIiIi1dvszYf5385EPOw2Xr++HXY3m9UlnRenCIAAzcMDeLh/MwCen72doxl5FlckIiIiruxoRh7Pz94OwCP9m3FR7QCLKzp/ThMAAR7s14RWEYGkZhfwwvEDLiIiImKFF2ZvJzW7gFYRgTzQr4nV5ZSKUwVAD7sbrx3vXp2zNZ55W+OtLklERERc0Lyt8czZGo/dzcZr17fDw+5Ukcq5AiBAm7pBPNjXTNnP/nc7KVn5FlckIiIiriQlK59n/2ueiXywbxPa1A2yuKLSc7oACPDwpU1pGuZPUmYeL/4abXU5IiIi4kL+9Ws0SZl5NA3z5+FLm1pdTpk4ZQD0crfz+vXtcLPBrI2H+N+OI1aXJCIiIi7gz51HmLnxEG42eP36dni5260uqUycMgACdGhQg3v6NAbg6VlbScspsLgiERERqc7Scwt4euY2AO7u3YgODWpYXFHZOW0ABBh32UU0CvXjSHoek+busLocERERqcYmzd1BQnouDUN8GXdZc6vLuSBOHQC9Pey8el07AL5be4Cle45aXJGIiIhUR8v2JPHtmgMAvHpdO3w8nfPU7wlOHQABujaqyR09IgEY/9NWsvIKLa5IREREqpOsvELGz9wCwO09IunWOMTiii6c0wdAgCcvb0G9Gj4cSs3hlXk7rS5HREREqpFX5u3kYEoOdYN9ePLyFlaXUy6qRQD083IvPhX85ar9/KK1gkVERKQczNp4kC9X7Qfgleva4u/lbnFF5aNaBECAXk1DeeD4BNFP/riFHfHpFlckIiIizmzrwTTG/7QVgNGXNKVPs1oWV1R+qk0ABHhiUHP6NAslp6CI+79cT2q2VgkRERGR0kvKzOP+L9eRV+igf4swxl52kdUllatqFQDtbjbevbkD9Wv6EJeczSPfbaLIYVhdloiIiDiRgiIHD329gcNpuTQO9eOt4e2xu9msLqtcVasACBDs68m02zrj7eHGkt1HeWP+LqtLEhERESfy7zk7WB2TjL+XO9Nv70SQj4fVJZW7ahcAAVrVCSweFDJ10V7mbY23uCIRERFxBv9Zd4DPVsQC8Nbw9jQNC7C2oApSLQMgwNXt63JP70YAPPbDZnYfybC4IhEREanKNsal8Mwsc6m3MQOacVmr2hZXVHGqbQAEGD+4BT2bhJCdbw4K0XrBIiIiciaJGbk88NV68oscXNaqNo/0b2Z1SRWqWgdAd7sb797cgbrBPsQkZTH2+004NChEpMpZsmQJQ4YMoU6dOthsNn7++edz7r9o0SJsNttpt507NRG8iJRefqGDB7/awJH0PJqG+fPmjVG4VbNBH39XrQMgQIi/F9NGdMLL3Y0/dyYy5X97rC5JRP4mKyuLqKgo3nvvvVI9bteuXcTHxxffmjWr3n+xi0jFeOGX7azfn0KAtzvTR3QiwLv6Dfr4u+oxnfU/aFM3iEnXtmXcfzbzzv/20KZOIANbh1tdlogcN3jwYAYPHlzqx4WFhREcHFz+BYmIy/hmdRzfrI7DZoN3bupA41r+VpdUKap9D+AJ13asx8ieDQEY95/N/JWYaW1BInLBOnToQEREBJdeeikLFy60uhwRcTLr9yfz/Gxz0MfjA5tzSYswiyuqPC4TAAEmXNmSro1qkplXyB2fruFgSrbVJYlIGURERDB9+nR++uknZs6cSfPmzbn00ktZsmTJWR+Tl5dHenp6iZuIuK6EtFwe+GoDBUUGV7QNZ1S/JlaXVKlshmG41KiIY5l53DBtJfuOZhEZ4st/7u9B7UBvq8sSkeNsNhuzZs1i2LBhpXrckCFDsNlszJ49+4z3v/DCC0ycOPG09rS0NAIDA8tSqog4qbScAm75aBXbD6fTvHYAM0f1xM/LJa6KK+ZSPYBgDgr55p7u1K/pw/5j2dz68WqOZeZZXZaIXKDu3buzZ8/ZB3k99dRTpKWlFd8OHDhQidWJSFWRkVvA7Z+uYfvhdEL9PZl+eyeXC3/gggEQIDzIm2/u6U5EkDd/JWYy4pM1pGVrjkARZ7Zx40YiIiLOer+XlxeBgYElbiLiWrLyCrlzxlo2H0ilhq8HX93TjcgQP6vLsoRLBkCA+jV9+eqeboT6exIdn84dM9aQmVdodVkiLikzM5NNmzaxadMmAGJiYti0aRNxcXGA2Xt3++23F+8/ZcoUfv75Z/bs2cP27dt56qmn+Omnnxg9erQV5YuIE8jJL+Luz9eybn8Kgd7ufHl3N1qEu+4fgi4bAAGa1PLnq3u6EezrwaYDqdz12Vpy8ousLkvE5axbt44OHTrQoUMHAMaNG0eHDh147rnnAIiPjy8OgwD5+fk8/vjjtGvXjj59+rBs2TLmzJnDtddea0n9IlK15RYUcd+X61i1Lxl/L3e+uLsbbeoGWV2WpVxuEMiZbD2Yxi0frSIjr5A+zUL5+I7OeLnbrS5LRCpQeno6QUFBGgQiUs3lFzp44Kv1/LkzEV9PO1/c1ZXODWtaXZblXLoH8IS29YKYcWcXfDzsLN2TxOhvNlJQ5LC6LBEREbkABUUOHv52A3/uTMTbw41P7uii8HecAuBxnRvW5OM7OuPp7sYf0UcY+/0mirRusIiIiFMqchiM+89mft9+BE93Nz66vTM9moRYXVaVoQB4il5NQ5l2Wyc87DZ+3RLP+J+24FAIFBERcSoOh8ETP27ml82H8bDb+PC2jvRpVsvqsqoUBcC/uaRFGO/c1AE3G/yw/iDPzd6mECgiIuIkHA6Dp2dtZeaGQ9jdbLx7c0f6t6htdVlVjgLgGQxuG8EbN0Zhs8FXq+IY/e0Gcgs0OlhERKQqyyssYux/NvHd2gO42WDK8PZc3ibc6rKqJAXAs7imQz2mDG+Ph93G3K0J3PbxalKy8q0uS0RERM4gNTufER+v4b+bDuPuZuPNG9szJKqO1WVVWQqA53B1+7p8cVc3ArzdWbc/hes+WEHcsWyryxIREZFTxB3L5toPVrAmNpkAL3c+v6srwzrUtbqsKk0B8B/0aBLCTw/2pE6QN/uSsrj2g+VsPpBqdVkiIiICbIhL4Zqpy9l3NIu6wT78+GBPejUNtbqsKk8B8DxcVDuAWQ/1olVEIEmZ+dw0fRULoo9YXZaIiIhL+21bPDdPX8WxrHza1A1k1qieNA8PsLosp6AAeJ5qB3rznwd6cPFFtcg5vqTMl6v2W12WiIiIyzEMg4+X7uPBrzeQV+igf4swvr+vB2GB3laX5jQUAEvB38udT+7ozPDO9XEY8OzP25g0b4emiREREakkRQ6Dib9E89KcHRgG3Na9AdNHdMLPy93q0pyK1gIuA8MweO/Pv3jjj90ADImqw+Qb2mn9YBEnorWARZxPdn4hj3y7kQU7EgGYcEVL7unTCJvNZnFlzkcB8AL8tP4g//fTFgodBl0b1eTD2zpR08/T6rJE5DwoAIo4l8SMXO7+bB1bD6Xh5e7GW8Pbc0XbCKvLcloKgBdo+V9JPPDlejLyCokI8ubdmztooWkRJ6AAKOI8th5M44Gv1nMoNYeafp58dHtnOkXWsLosp6YAWA52JWTw4Nfr2Xc0C7ubjScHNefePo1xc1OXtEhVpQAoUvUZhsEXK/fz7zk7yC9y0CjUj8/u7EJkiJ/VpTk9BcBykplXyNMztzJ782EALm0Rxhs3RhHsq1PCIlWRAqBI1ZaWU8D//biF37YnADCwVW1evz6KIF8PiyurHhQAy5FhGHyzJo6Jv0STX+igbrAP793SgQ4N1E0tUtUoAIpUXZsPpDL62w0cSM7Bw27j6StaMrJnQw32KEcKgBVg26E0Rn+zgdhj2XjYbYwf3JK7eumDK1KVKACKVD2GYTBjeSyT5u2goMigfk0f3ru5I1H1g60urdpRAKwgGbkFjP9pK3O2xgMwqHVtXrs+iiAfdV2LVAUKgCJVS1p2AU/8uJn5x1faGtwmnFeua6ffmxVEAbACGYbBl6v289Kv5sWr9Wv68NaN7TVKWKQKUAAUqTrW70/mkW83cSg1B0+7G89c1ZIR3SN15qwCKQBWgi0HU3noG/NaBpsN7urViMcHNsfHUxNHi1hFAVDEetn5hUz+fTczVsRgGNCgpi/v39KRtvWCrC6t2lMArCRpOQW89Gs0P6w/CECjUD9eu74dXdQbKGIJBUARa634K4nxM7cSl5wNwHUd6/H80FYEeuuUb2VQAKxkC3cm8tTMrSSk52KzwZ09G/HEIPUGilQ2BUARa2TkFjBp3k6+WR0HQJ0gb16+ti39modZXJlrUQC0QFpOAf+eE81/1pm9gQ1DfHnt+ii6NlJvoEhlUQAUqXwLdyXy9MytxKflAnBb9wb83+UtCFCvX6VTALTQol1mb2B8mtkbOLJnQ54Y1BxfT3erSxOp9hQARSpPanY+L/4azcwNhwDzWr9Xr2tHjyYhFlfmuhQALZaea14beKI3sG6wDxOubMngNuEa/SRSgRQARSrHb9vieebn7SRl5hUPhHxs4EXq7LCYAmAVsWhXIhNmbeNQag4AvZqG8MKQ1jSrHWBxZSLVkwKgSMWKTcripTk7WLDDnNevSS0/Xrs+ik6RWh2rKlAArEJy8ov4YPFePly8l/xCB+5uNkb2bMijA5rp+giRcqYAKFIxMnILeG/hX3y6LIaCIgO7m40H+jbm4f7N8PbQgMeqQgGwCoo7ls2Lv0YX/9UU6u/FU4NbcE2Huri56bSwSHlQABQpXw6HwY/rD/La77tIyswDoE+zUJ67qpXOZlVBCoBV2KJdiUz8JZqYpCwAOjYI5sWr29CmribIFLlQCoAi5WddbDITf4lm66E0wJzr9pkrW9K/RZiuZ6+iFACruLzCIj5dFsu7f+4hO78Imw2Gta/L2AEX0SDE1+ryRJyWAqDIhTucmsMr83Yye/NhAAK83Hnk0mbc0bMhnu5uFlcn56IA6CQS0nKZNG8H/91k/ifzsNu4qUsDHu7flLBAb4urE3E+CoAiZXcsM48PFu3ly1X7ySt0YLPB8M71eWxgc2oFeFldnpwHBUAns/VgGq/9vpOle5IA8PZw465ejbj/4iYE+WqgiMj5UgAUKb20nAI+XrqPT5fFkJVfBEDXhjV5bkgrXZ7kZBQAndTKvcd47fedbIxLBSDQ250H+jXhzp6NtKycyHlQABQ5f1l5hXy2IpZpi/eSnlsIQNu6QTw28CL6XlRL1/k5IQVAJ2YYBn9EH2Hy/F3sPpIJQK0ALx7u35QbO9fXcHuRc1AAFPlnuQVFfL06jg8W/UVSZj4AzcL8eWzgRQxqrQULnJkCYDVQ5DD476ZDvPnHbg6mmBNJ1wrw4p7ejbi1eyT+XpptXeTvFABFzi4zr5Dv1sTx0dJ9HEk3p3SJDPFlzIBmDI2qi11Tkjk9BcBqJL/Qwfdr4/hg0V4OH19oO9DbnZE9GzKyVyNq+nlaXKFI1aEAKHK6Y5l5fL4ils9X7ictpwCAiCBvHrm0Gdd3qoeHXSN7qwsFwGoov9DBfzcd4oPFe9l31JxD0MfDzs1dG3DvxY2ICPKxuEIR6ykAipx0KDWHj5bs47u1ceQWOABoHOrH/X0bM6xDXbzcdUlRdaMAWI0VOQx+357A1EV/se1QOmBOH3N1+7rc2ashretoxJa4LgVAEdiVkMH0Jfv476ZDFDrMONC2bhAP9mvCoNbhOtVbjSkAugDDMFiyJ4n3F/7Fmpjk4vbujWtyZ69GDGhZW//JxeUoAIqrKixysGBHIp+tiGHVvpO/E3o2CWFUv6b0ahqiwR0uQAHQxWyIS+HTZTHM25ZA0fG/9urX9OGOHg25sUt9Ar01l6C4BgVAcTUpWfl8v+4AX67cz6FUc8Cg3c3GwFa1ub9vE9rXD7a2QKlUCoAu6nBqDl+u2s83q+OKL/T187QztH1dbunagLb1dHpYqjcFQHEV0YfT+XxFLD9vOkReoXl9Xw1fD27u2oDbukdSJ1jXhbsiBUAXl5NfxKyNh5ixPIY9iZnF7W3qBnJTlwZc3b4OAeoVlGpIAVCqs8y8QuZsOcz3aw+w4fiCAQCtIgIZ2ashQ6PqaK5YF6cAKIB5neDqmGS+XRPHvK0J5BeZfyX6eNgZGlWHm7rWp339YF0XItWGAqBUN4ZhsCEuhe/XHuDXLfFkH1+qze5m4/LW4Yzs1ZDOkTX0c1wABUA5g5SsfH7acJDv1h7gr1N6BVuEB3BTl/oMbV9XcwqK01MAlOoiKTOPmRsO8v3aA+w9PvUXmNO43NilPtd2rEtYgLeFFUpVpAAoZ2UYBuv2p/Dt6jjmbI0vvnbE3c1Gv+a1GNahLgNa1tZpBHFKCoDizHILivhzZyL/3XSI/+1ILJ7CxcfDzhVtIxjepT5dGqq3T85OAVDOS1p2AbM2HuSnDYfYeiituD3Ay53BbcMZ1qEu3RuF4KbpZMRJKACKsykocrDsryR+2XSY+dFHyMwrLL4vqn4wwzvXZ0hUhK7blvOiACiltudIBj9vOsTPGw8XTyUA5nJBV7WLYHDbCNrXC1YYlCpNAVCcgcNhnon576ZDzNuWQHJWfvF9dYN9uCoqgms61KVFuD7DUjoKgFJmDofB2thkft50iF+3xJORe/Kv0Yggby5vE87gNhF0iqyhiaalylEAlKrKMAy2HUrnly2H+WXzYeKPr+0OEOLnyZXtIhgaVYeODWroD20pMwVAKRe5BUUs2pXI3K0J/LkzscSpiVoBXlzeOpzBbcPp2rAm7lpMXKoABUCpSgqLHKyJTWb+9iPM357A4VNCX4CXOwNbhzO0fR16NQnRz1ApFwqAUu5yC4pYtieJudvi+SP6SImewRA/Twa2rk3/FrXp1TQEX093CysVV6YAKFbLyS9iyZ6jzN9+hP/tPEJqdkHxfT4edi5pUYuhUXXo1zxMg+2k3CkASoXKL3SwYm8S87Ym8Ht0QokfcJ7ubnRvHEL/5rW4pEUYkSF+FlYqrkYBUKxwODWHRbuOsnBXIkv3HCW3wFF8Xw1fDwa0rM2g1uH0bhaq0CcVSgFQKk1BkYPV+5L5IzqBP3clciA5p8T9jWv50b95GP1bhNG5YU083XWaQyqOAqBUhoIiB+v3p7BwVyKLdh5l15GMEvfXDfZhUOtwBrauTefIGjq9K5VGAVAsYRgGe49m8ufORP7cmci62JTieawA/L3c6d00lF7NQundNJSGIb6az0rKlQKgVATDMIhLzmbZX0ks22PeMk65JtrNBh0a1OCS42c+WkUE6mebWEIBUKqE9NwClu5O4s+diSzalcixU6Y6AKgT5E2vpqH0bhZKjyYhmtVeLpgCoJSXY5l5rNh7jOV/JbHsryQOppQ8u1HTz5N+F9WiX4swLm4WSrCvVlIS6ykASpXjcBhsOZTG0t1HWb43iQ37U4vXJj6hee0AejUNpXvjmnRpWJMaWppOSkkBUMoqOSufNTHHWLUvmdUxyeyITy9xv4fdRocGNejdNJQ+zUJpVy9YU2FJlaMAKFVeTn4Ra2OTi/+6jo5P5++f2ua1A+jSqAZdG4XQtWFNwoPUQyjnpgAo5ysxPZfVMcmsjjnG6n3J7DlljfQTWoQHFF+20rVhTfy8NMOBVG0KgOJ0krPyWbn3GMv3JrEmJpm/zvDDuEFNX7o0rEmnyBp0iqxBszB/TZgqJSgAypkUFjnYmZDBxrgUNsSlsiEuhf3Hsk/b76La/nRrFELXRjXp3jiEWgFeFlQrUnYKgOL0jmXmsTY2hTUxyayNTWb74TQcf/tUB3i5075BMB0a1KBDg2Ci6gVTU6eNXZoCoID5B6UZ9lJYvz+FLQfTyM4vKrGPzQatIgLp2qhmcejTzw9xdgqAUu1k5BawIS6VtTHJbIhLYfOBVLL+9gMdoF4NH6LqBRNVP4h29YJpUzcIf522cRkKgK4nLbuArYfS2HoojW3Hv8Yln967F+DtTvv6wXRsYJ5BiKofTJCPhwUVi1QcBUCp9oocBrsSMthw/K/8TQdS2Xc067T9bDZoHOpH6zpBtKkbSOs6QbSuE6gRe9WUAmD1lpqdz7ZD6f8Y9gCahvnTsYEZ+DpG1qBpLV0yItWfAqC4pLScArYdSmPzwVS2HEhjy8HUEmtvnqpusA+t6gTSKiKQFuEBNA8PIDLET6P6nJwCYPVQWOQg9lg2OxPS2Rmfwc6EDHYmpJ82FcsJDWr60rZeEG3rmrc2dYII8lXvnrgeBUCR4xIzctl+OJ3ow+lsP5zG9sPpZ7z4G8Dbw41mYQHFgbBZ7QCahfkTEeStSV2dhAKgczEMg/i0XP5KzGT3kZNBb/eRTPILHWd8TGSIL23qKuyJnIkCoMg5pOcWsONwOtsPp7MjPp1dRzLYfSSjxPqdp/LztNM0zJ+mYQE0DfOnWZg/TcL8qVfDBw8t8VSlKABWTQVFDvYfy+KvxEz2HjW/mt9nnjY44wQfDzvNwwNoGRFA89oBtIgIpGV4oMKeyDkoAIqUUpHDYP+xLHYlmL0QuxIy+OtoJrFJWSWWszuVu5uNBjV9aRTqR8NQPxqF+tE41I9GtfyoHeCt640soABonSKHQXxaDvuPZRN7LIvYpCxij2Wz92gmcceyz/n/KDLE1+x9jwigRbh5WUaDmr76PyRSSgqAIuXkRM/FniNmj8We47eYpMyz9hgCeLm7Ub+mLw2O30p+74Ovp0YmVwQFwIqVmVfIwZRsDiTncCA5mwMp2RxIziYmKYsDyTmnre5zKj9PO03C/Glay+xBb1LLn6Zh/kSG+KonXaScKACKVDCHw+BIRi4xR7PYl5RFzPFbbFIWccln7+04IcTPk7o1fKgb7EOdYPPrie2IIG9q+nnqusMyUAAsO4fDICkrj/jUXOLTcjiUmkt8ag7xabnFQS8lu+Ccz+Fht1G/pi+NQvyIDPGjYajZQ940zJ/wQF1LK1LRFABFLFRQ5CA+NZe45Ozi24FTvk/LOfcvUQBPuxthgV6EB3pTO8ib8EDv076vFeCFj6e9Et6R81AAPLOsvEISM/I4kp5LYkYeice/HknPJSEtl/g08+u5evBOCPb1oF4NH+rXMHu269fwoWGoHw1D/KgT7KOR9CIWUgAUqcLSsgs4mJrNoZQcDqfmcKj4lsuhlBySMvPO+7n8vdwJ9fekVoAXof7m7eT3noQGeFHD15Oavp4EeLtX6jVVS5Ys4fXXX2f9+vXEx8cza9Yshg0bds7HLF68mHHjxrF9+3bq1KnDk08+yQMPPHDer+kqAdAwDDLyCknOzCcpM4+kzHyOZeVxLDOfY5l5JGXlk5SRx9HMPBLT88jMKzyv53WzQViANxHB3tQJ8qFOsDcRQT7Uq+FDvRrm5QsB3hqEIVJV6eIikSosyNeDIN8gWtcJOuP9eYVFJKYf75053kNjfp/HkbTjbem55Bc6yMwrJDOvkNizTG1zKrubjWAfD2r4mYGwhp8HNXw9zXp8Tt4CvU/53scDfy93PN1Lf41WVlYWUVFR3HnnnVx33XX/uH9MTAxXXHEF9957L1999RXLly9n1KhR1KpV67we72wMwyC3wEFGbgHpuYVk5BaQkVtIem4B6TmFpGTnk5ZTQEpWPinZBaRm55Oac/xrdsE/Xmbwd76edmoHehMW4EVYoDe1A7zM7UAv6hy/9KB2oLeuxxNxYgqAIk7My91unlqr6XvWfU70ACVl5HE0w+wBMnuCTmzncTQzn+SsPFKyCsjMK6TIYXAsK59jWfllqMmNAG93/L3c8T/x1csdX093/Lzs+Hgc/+ppx8/THR9PO951orj45g54e9jxqteauEwbu49k4O1ux9vDDU93Nzzs5ld3NxsffvghDRo0YMqUKQC0bNmSdevWMXnyZEsCoGEY5Bc5yCt0kF946tci8goc5n0FDnIKisjOLyQ7v4js/CJy8gvJyi8iJ99sP/X7zLxCMnJP3AooKLqwkzV+nnZC/L0I8fckxM/s9T3xfcjxnuHagWaw05KIItWfTgGLSAl5hUWkZheQkp1PclY+KVkFJGfnk5Jl9jKdeks/fkvLKTjjessVwWYDo6gQdxsE+Plgd3PD7gb5ubkcTTxCk8aNcbfbsLvZcLPZzO9tNmyAwzh53VpBTha//d8VXDn5dzx8/IrbHYY5yKHQYVDkcFDkMCgq3jZO284vcpx1IuLy5mYzT+UHeHsQ4O1OoI8Hgd7uBPt6UsPXg2BfT4J9zd7aYF8Pgn1O9t56e+gaUBE5SX/miUgJXu52ageapwBLo7DIQVZ+ERm5Zi9iZm4hGcd7sTJzC8nOLyQnv+h4L9fJ3q6s/EJyC4rILXCQW1DE1uid1Aqvg83d02wrLOLUP1MNA3BzpxD+NtLUhntwOPvPst7r3znyzP22HEzDzeufB9uUhqe7G152N7w83PByt+Pp7oan3Q1vTzt+nnZ8Pe34eLrj52n2hPp62vH1dD/+1bzP38tOoLdHcdgL8HbHz7Nyr80UkepLPYAiUqXYbLbTBoEUFjkoKDLILzRPp/bs3YfrbhjOXffeV9wjt3HTJu65735m//IrwcE1zHbD7KlzOAxy8/MpLDg5wCE7M4NbLoli1uo9+PkHnHx9wG634e5m9hza3cxeRDebDXc3txLbdjebGfbc3U5+tbtpChMRqfLUAygiVZ673Q13O8VT2UQEeZNzNI6Lap8MbnvWJONI3Ev/tpF4ePzz6NP09HQA+rcIq9ajgEVEzkRDuETE6fTo0YM//vijRNv8+fPp3LnzeYU/ERFXpwAoIpbLzMxk06ZNbNq0CTCnedm0aRNxcXEAPPXUU9x+++3F+z/wwAPs37+fcePGsWPHDj799FM++eQTHn/8cSvKFxFxOjoFLCKWW7duHZdccknx9rhx4wC44447+Oyzz4iPjy8OgwCNGjVi7ty5jB07lvfff586derwzjvvVMs5AEVEKoIGgYiIS3KVlUBERM5Ep4BFREREXIwCoIiIiIiLUQAUERERcTEKgCIiIiIXKiMBlkwGJxlaoVHAIiIiIhdizwKYdT9kJ4FvTeh8l9UV/SMFQBEREZGyKCqAP/8Fy982t2u3gcje1tZ0nhQARUREREorJRZ+vBsOrTO3u9wLA18CD29LyzpfCoAiIiIipbF9Fsx+BPLSwTsIhr4HrYZaXVWpKACKiIiInI+CHPjtKVg/w9yu1xWu/wSCG1hbVxkoAIqIiIj8k8Sd8OOdkBgN2KD3WLjkabB7WF1ZmSgAioiIiJyNYcCGL2De/0FhDviFwbXToEl/qyu7IAqAIiIiImeSeRR+eRR2zTG3m/SHa6aBf5i1dZUDBUARERGRv9s1D2Y/DFlHwc0DLn0WejwMbtVjDQ0FQBEREZET8jLh96dhw+fmdlgruHY6hLe1tq5ypgAoIiIiAhC3GmbdZ87xhw16PAT9n3Wauf1KQwFQREREXFthPix+FZa9CYYDAuvBNR9Ao4utrqzCKACKiIiI6zq6C2beC/Gbze12N8HgV8En2NKyKpoCoIiIiLgehwPWTIcFz0NhLvjUgKvegtbXWF1ZpVAAFBEREdeSst8c4Ruz2Nxu0h+ungqBEdbWVYkUAEVERMQ1OBzmMm5/PAf5meDuAwP/BV3uAZvN6uoqlQKgiIiIVH8pscd7/ZaY2/W7w7CpENLE0rKsogAoIiIi1ZfDAes+gT+eh4Iss9dvwPPQ9T5ws1tdnWUUAEVERKR6So4xe/1il5rbDXrC1e+5bK/fqRQARUREpHpxOGDtx+YI34Js8PCFAS9Al3urzVJuF0oBUERERKqPxJ3wyyNwYLW5Hdkbrn4Xaja2tq4qRgFQREREnF9hHix9E5a+AY4C8PQ3e/06361evzNQABQRERHnFrcKZj8CSbvM7YsuhyvfgKB61tZVhSkAioiIiHPKTYf/TTSv9wPwq2Uu49b6Wpeb16+0FABFRETE+eycC3Meg4zD5nb728xJnX1rWluXk1AAFBEREeeRcQTmPQnRP5vbNRrBkCnQuJ+FRTkfBUARERGp+k4s4/a/iZCbBjY79BwNfceDp6/V1TkdBUARERGp2hK2wi9j4NA6czsiCoa+a36VMlEAFBERkaopLwMWvQKrPgCjCDwDoP8z0OUesCvCXAgdPREREalaDAN2/grz/g/SD5ltrYbB5ZMgsI6lpVUXCoAiIiJSdaTsNwd57P7N3A6ONOf0a3aZtXVVMwqAIiIiYr3CPFjxDix5AwpzwM0Dej0KFz8OHj5WV1ftKACKiIiItf5aAHOfhOS95nZkb7jqTajV3Nq6qjEFQBEREbFG6gH4/SnY8Yu57V8bBv4b2l6vlTwqmAKgiIiIVK7CPFj5HiyZDAXZ5px+3R6AfuPBO9Dq6lyCAqCIiIhUnj1/mKN7T5zubdATrpwMtVtbW5eLUQAUERGRindsL/z+9MnRvX5h5tq97YbrdK8FFABFRESk4uRlwtI3zFO+Rfng5m6e7u37JHgHWV2dy1IAFBERkfJnGLDtJ5j/LGQcNtua9IfLX4VaF1lbmygAioiISDmL32JO5hy30twOjjRX8Wh+hU73VhEKgCIiIlI+spJg4b9h/WdgOMDdB/o8Bj0fBg9vq6uTUygAioiIyIUpzIc102Hxa5CXZra1vtYc5BFUz9ra5IwUAEVERKRsDAN2zYP5EyB5n9kW3g4ufwUa9rK2NjknBUAREREpvSPR5ioe+xaZ235hcOlz0P4WcLNbWpr8MwVAEREROX9Zx45f5zfDvM7P7gk9HoLe47SKhxNRABQREZF/VpgHqz+EJW+cvM6v5VC47EWo2cja2qTUFABFRETk7AwDts+EBS9AapzZFt4WBk2CRn0sLU3KTgFQREREzixutTnA4+BaczsgAvo/C1E36To/J6cAKCIiIiUl74MFEyH6Z3Pbww96PQo9R4Onn6WlSflQABQRERFTTgosmQyrp4GjALBBh9ug/zMQEG51dVKOFABFRERcXWE+rPsEFr9qhkCAxpfAwJcgvI21tUmFUAAUERFxVYZhnub934snJ3Ku1cIMfk0HaN3eakwBUERExBXFLoM/noND681tv1pwydPQ4XawKx5Ud/oXFhERcSWJO8wpXXb/Zm57+EHPh80BHl4BlpYmlUcBUERExBWkHzZX8Nj0jbmCh80One6AvuMhoLbV1UklUwAUERGpznLTYNkUWPUBFOaYbS2HwKXPQ2gzS0sT6ygAioiIVEeFebDuU1j8GuQkm231u5tLtzXoZm1tYjkFQBERkerEUQRbvoeFL0PaAbMtpBlcNhGaX6GRvQIoAIqIiFQPhgG75plTuhzdYbYFREDf/4MOIzSyV0rQp0FERMTZ7V9pjuw9sMrc9g6C3uOg633g6WtpaVI1KQCKiIg4q4RtZo/fnt/NbXcf6P6AuW6vTw1ra5MqTQFQRETE2RzbC4tega0/AIY5pUvH283TvYERVlcnTkABUERExFmkHzZH9W78EhyFZlurYdD/WQhtamlp4lzcrC5ARARg6tSpNGrUCG9vbzp16sTSpUvPuu+iRYuw2Wyn3Xbu3FmJFYtUoqxj8PsEeKcDrJ9hhr+ml8F9i+HGzxX+pNTUAygilvv+++8ZM2YMU6dOpVevXkybNo3BgwcTHR1NgwYNzvq4Xbt2ERgYWLxdq1atyihXpPLkpsOqqbDiPcjPMNsa9IBLn4PIntbWJk7NZhiGYXURIuLaunXrRseOHfnggw+K21q2bMmwYcOYNGnSafsvWrSISy65hJSUFIKDg8v0munp6QQFBZGWllYiRIpUCQU5sPZjWPrmyUmcw9uZwa/pAM3lJxdMp4BFxFL5+fmsX7+egQMHlmgfOHAgK1asOOdjO3ToQEREBJdeeikLFy6syDJFKkdhPqz5yDzVO/8ZM/yFNIMbPjNP9za7TOFPyoVOAYuIpZKSkigqKqJ27ZKL0deuXZuEhIQzPiYiIoLp06fTqVMn8vLy+PLLL7n00ktZtGgRF1988Rkfk5eXR15eXvF2enp6+b0JkQtVVAibvzUHeKTFmW1B9aHfeGh3kyZxlnKnT5SIVAm2v/VqGIZxWtsJzZs3p3nz5sXbPXr04MCBA0yePPmsAXDSpElMnDix/AoWKQ+OItg2ExZNguS9Zpt/OFz8uDmti7uXtfVJtaVTwCJiqdDQUOx2+2m9fYmJiaf1Cp5L9+7d2bNnz1nvf+qpp0hLSyu+HThwoMw1i1www4Do2fBBL5h5jxn+fENg4L/h0U3Q9V6FP6lQ6gEUEUt5enrSqVMn/vjjD6655pri9j/++IOrr776vJ9n48aNREScfQJcLy8vvLz0C1UsZhiw+zdY+DIkbDHbvIOg5yPQ7X7wCrC2PnEZCoAiYrlx48YxYsQIOnfuTI8ePZg+fTpxcXE88MADgNl7d+jQIb744gsApkyZQsOGDWndujX5+fl89dVX/PTTT/z0009Wvg2RszMM+GsBLPw3HN5otnn6Q/cHocdo8Am2tDxxPQqAImK54cOHc+zYMV588UXi4+Np06YNc+fOJTIyEoD4+Hji4uKK98/Pz+fxxx/n0KFD+Pj40Lp1a+bMmcMVV1xh1VsQOTPDgH0LzR6/g2vNNg9f6Hqf2evnF2JtfeKyNA+giLgkzQMoFS5mqRn84o5PZ+TuDV3ugV5jwF+Tlou11AMoIiJSnvavMINf7PHlDO1e0PlO6D0WAsKtrU3kOAVAERGR8rB/JSx6GWKWmNtuHtDpDug9DoLqWlubyN8oAIqIiFyI/SvNefxiFpvbbu7Q4Tbo8xgEn30taxErKQCKiIiURdwqM/jtW2RuK/iJE1EAFBERKY241ceD3/H1p08Ev97joEaktbWJnCcFQBERkfMRtwoWvaLgJ9WCAqCIiMi5xC6Dxa+eMrjDHdrfap7qVfATJ6UAKCIi8neGYU7jsuhV2L/MbHPzgA63qsdPqgUFQBERkRMMwxzUsfhViFtpttk9ocMIcx6/4PqWlidSXhQARUREDAP2/g8WvwYHVpttdi9zHr9eYzSPn1Q7CoAiIuK6DAN2/2YGv8MbzDZ3b+h0J/R6FAIjrK1PpIIoAIqIiOtxOGDnL7DkdUjYara5+0Dnu6DXI1qyTao9BUARAWDkyJHcddddXHzxxVaXIlJxHEWwfRYsmQxHd5htnv7Q5R7oMRr8a1lbn0glUQAUEQAyMjIYOHAg9evX58477+SOO+6gbl1d9yTVRFEhbP0PLH0Djv1ltnkFQbf7ofuD4FvT2vpEKpnNMAzD6iJEpGo4duwYX331FZ999hnbtm1jwIAB3H333Vx99dV4eHhYXV65Sk9PJygoiLS0NAIDA60uRypKYR5s/haWvQUpsWabTw3oPgq63gc+wVZWJ2IZBUAROaONGzfy6aef8vHHH+Pv789tt93GqFGjaNasmdWllQsFwGquIAc2fAHL34b0Q2abbyj0HG2e7vUKsLY+EYvpFLCInCY+Pp758+czf/587HY7V1xxBdu3b6dVq1a89tprjB071uoSRc4sLwPWfgIr34Oso2abf7g5sKPTSPD0s7Q8kapCPYAiAkBBQQGzZ89mxowZzJ8/n3bt2nHPPfdw6623EhBg9pZ89913PPjgg6SkpFhc7YVTD2A1k5MCq6fDqqmQm2q2BTWA3mPMZds8vK2sTqTKUQ+giAAQERGBw+Hg5ptvZs2aNbRv3/60fQYNGkRwcHCl1yZyVplHYdX7sOZjyM8w20Kamuv0tr0B7NXr2lWR8qIeQBEB4Msvv+SGG27A29s1ekrUA+jk0g7Cindh/edQmGO2hbWGix+DVsPAzW5peSJVnQKgiLgkBUAndWyvOaJ383fgKDDb6nSEi5+Aiy4HNzdr6xNxEjoFLCIiVV/CNlj2pjmJs+Ew2xr2MU/1Nu4HNpul5Yk4GwVAERGpug6shaWTzfV6T2g2yAx+DbpZV5eIk1MAFBGRqsUwYN9CWPomxC493miD1sOg9ziIaGdldSLVggKgiIhUDQ4H7JpjLtd2eKPZ5uYOUTdBr7EQ2tTa+kSqEQVAERGxVlEBbP0Blk2BpF1mm7sPdLoDeoyG4PqWlidSHSkAioiINQpyYONX5nJtaQfMNq8g6HovdH8Q/EKtrU+kGlMAFBGRypWTCms/hlUfQHaS2eZXC3o8BJ3vAu8gS8sTcQUKgCIiUjkyjpirdqz99OSqHUENzHV6O9wGHj7W1ifiQhQARUSkYiXHwIp3YOPXUJRnttVqCb3HQptrtVybiAUUAEVEpGIkbIPlU2DbTycnb67XxZzKRat2iFhKAVBERMqPYUDcSnO5tj3zT7Y3uRT6jIPIXlq1Q6QKUAAUEZEL53DAnt/N4Hdgtdlmc4NWV0OvMVCnvZXVicjfKACKiEjZFRXA1h/NU71Hd5ptdk9ofyv0fBhCmlhanoicmQKgiIiUXn4WbPgSVr53yhx+geY0Lt0fhIBwa+sTkXNSABQRkfOXdQzWTIc10yAnxWzzCzNDX5e7NYefiJNQABQRkX+WGgcr3oMNX0BhjtlWo5F5mrf9LZrDT8TJKACKiMjZHdluLtW29Ucwisy2iChzYEerq8HNbml5IlI2CoAiIlKSYcD+FebAjlOncmnU15y8uXE/TeUi4uQUAEVExORwwK45Zo/fwbVmm80NWg6F3mOgTgdLyxOR8qMAKCLi6grzYPN35nJtx/4y2+xe0P5m6PmIpnIRqYYUAEVEXFVuGqz7FFZ9AJlHzDbvIOhyD3S9HwJqW1ufiFQYBUAREVeTHg+rpsK6GZCfYbYF1oXuo6DTHeAVYG19IlLhFABFRFzF0V3mad7N34OjwGyr1QJ6PQptrgd3T2vrE5FKowAoIlLdxa0yB3bsmnuyrUFPM/g1GwhubtbVJiKWUAAUEamOHA4z8C1/Gw6uOd5ogxZXmsGvfldLyxMRaykAiohUJwW5sOX7v43o9YSom81VO0KbWVufiFQJCoAiItVBTsrxEb0fQlai2aYRvSJyFgqAIiLOLPWAOY3Lhs8hP9NsC6wLPR6CjrdrRK+InJECoIiIM0rYCivehW0/gaPQbAtrDb0egTbXgd3D2vpEpEpTABQRcRaGAfsWmdf37f3zZHvDPtBrDDS9VGv0ish5UQAUEanqigoh+mdzRG/CFrPN5gathpk9flqjV0RKSQFQRKSqysuEjV/CyqmQFme2efhChxHQYxTUaGhpeSLivBQARUSqmowjsGYarP0EclPNNt9Q6Ha/OarXt6al5YmI81MAFBGpKo7uNq/v2/I9FOWbbTUbQ4/R0P4W8PCxtj4RqTYUAEVErGQYELcSlr8Du+edbK/X1by+r/kV4Ga3rj4RqZYUAEVErOAogp2/mlO5HFx7vNFmBr5ej0CD7paWJyLVmwKgiEhlys+GTV/DyvchJcZss3tB1E1aqk1EKo0CoIhIZchKgjUfwdqPIPuY2eYdfHyptvu0VJuIVCoFQBGRinRsL6x8DzZ9A4W5ZltwpDmwo8Ot4OlnbX0i4pIUAEVEKkLcanNE7845gGG21eloXt/XYgjY9eNXRKyjn0AiIuXFUQS75poDOw6sPtnebJAZ/CJ7aak2EakSFABFRC5UQY55infl+5C812yze0K74eap3rAW1tYnIvI3CoAiImWVdcwc1LHmI8hOMtu8g6HL3ccHdoRbWp6IyNkoAIqIlNaxvWZv36ZvoDDHbAtuAN0fgg63gZe/tfWJiPwDBUARkfN1YI05sGPHrxQP7Ihob17f1/JqDewQEaehn1YiIufiKIJd88zgp4EdIlJNKACKiJyJBnaISDXmZnUBIiIAU6dOpVGjRnh7e9OpUyeWLl16zv0XL15Mp06d8Pb2pnHjxnz44YflU0hWEix6Bd5qDXPGmeHPOwj6PAZjtsLV7yn8iYjTUw+giFju+++/Z8yYMUydOpVevXoxbdo0Bg8eTHR0NA0aNDht/5iYGK644gruvfdevvrqK5YvX86oUaOoVasW1113XdmKSPoLVr3/txU7Gpi9fe1v1cAOEalWbIZhGFYXISKurVu3bnTs2JEPPviguK1ly5YMGzaMSZMmnbb///3f/zF79mx27NhR3PbAAw+wefNmVq5ceV6vmZ6eTlBQEGnbFhC49dO/rdjRAXo+Ai2HamCHiFRL+skmIpbKz89n/fr1jB8/vkT7wIEDWbFixRkfs3LlSgYOHFiibdCgQXzyyScUFBTg4eFx7hd1FMHOueb3X10DXscHcVx0OfR8WAM7RKTaK3MANAyDjIyM8qxFRFxQfHw8RUVF+Pv7k56eXtweFBTEoUOHSrSdcOjQIfr161fiPn9/fwoLC4mJiSE8/PQJmPPy8sjLSsNjx0y8Nn1O5tE4ANIL3KHd9dDtfghtZu6sn20i4iQCAgKwleEP1jKfAj5x+kRERERErJGWlkZgYGCpH1fmAFjZPYDp6enUr1+fAwcOlOmNVkc6JqfTMTmzqnxc8vPzqV27Nl988QVDhgwpbn/yySfZunUr8+bNO+0xl19+Oe3ateO1114rbvvll1+44447OHLkyMlTwMf2wpppsOVHcOQD4AisR17USA4Ed6dLr75ER0dTt27din2TTqIqf06spONyOh2T01l1TMraA1jmU8A2m82Sf/TAwEB92P5Gx+R0OiZnVlWPS+fOnVm+fDm33nprcduSJUu4+uqrz1hvnz59+OWXX0rct2zZMrp06UJIzZoQtxJWvAu7jl/n5wHU7Xx8YMcQcLNTcPAgYP7wrIrHxEpV9XNiNR2X0+mYnM5ZjokGgYiI5caNG8eIESPo3LkzPXr0YPr06cTFxfHAAw8A8NRTT3Ho0CG++OILwBzx+9577zFu3DjuvfdeVq5cyYxPP2HRB4/BxwPg0LqTT978CnMql8ieGtghInKcAqCIWG748OEcO3aMF198kfj4eNq0acPcuXOJjIwEzIEicXFxxfs3atSIuXPnMnbsWGZMf5+He9fkyDN1CYqbau5g94Kom8zgV+siK96SiEiV5jQB0MvLi+effx4vLy+rS6kydExOp2NyZs5wXEaNGsWoUaPOeN9nn312WlvfTi3ZMPlaWJsMOSlQlA0+NaDLvdD1XvAPO+frnTgWVfmYVDZn+JxYQcfldDomp3O2Y6KJoEXEuRzdDSvfg83fQVGe2Vaj4fEVO24BT7/zepriiaDLOIJORMSZOU0PoIi4MMMwB3Ysfwd2nzIquG6nEgM7RETk/CgAikjV5SiCHb/Ainfg0PqT7c2vMINfg+4a2CEiUgYKgCJS9eRnwaZvzFO9KbFmm90L2t9snuo9sWKHiIiUiZvVBZxNSkoKI0aMICgoiKCgIEaMGEFqauo5H5OZmcno0aOpV68ePj4+tGzZssTi8tVBWY4LwI4dOxg6dChBQUEEBATQvXv3EqMqnVlZj8kJ999/PzabjSlTplRYjZWttMekoKCA//u//6Nt27b4+flRp04dbr/9dg4fPlx5RQNkHoU//w1vtYa5j5vhz6cGXPwkjN0GQ94uVfibOnUqjRo1wtvbm06dOrF06dJz7r948WI6deqEt7c3jRs35sMPP7zAN1T1lOaYzJw5k8suu4xatWoRGBhIjx49+P333yux2spR2s/JCcuXL8fd3Z327dtXbIEWKe1xycvLY8KECURGRuLl5UWTJk349NNPK6naylHaY/L1118TFRWFr68vERER3HnnnRw7dqySqv0HRhV1+eWXG23atDFWrFhhrFixwmjTpo1x1VVXnfMx99xzj9GkSRNj4cKFRkxMjDFt2jTDbrcbP//8cyVVXfHKclz++usvo2bNmsYTTzxhbNiwwdi7d6/x66+/GkeOHKmkqitWWY7JCbNmzTKioqKMOnXqGG+99VbFFlqJSntMUlNTjQEDBhjff/+9sXPnTmPlypVGt27djE6dOlVOwUf3GMbsRwzjxVqG8XygeZvSzjBWTzeMvMwyPeV3331neHh4GB999JERHR1tPProo4afn5+xf/9+wzAMIy0tzQCMtLQ0wzAMY9++fYavr6/x6KOPGtHR0cZHH31keHh4GD/++GO5vU2r/dMx+btHH33UePXVV401a9YYu3fvNp566inDw8PD2LBhQyVXXnFKe0xOSE1NNRo3bmwMHDjQiIqKqpxiK1FZjsvQoUONbt26GX/88YcRExNjrF692li+fHklVl2xSntMli5dari5uRlvv/22sW/fPmPp0qVG69atjWHDhlVy5WdWJQNgdHS0ARirVq0qblu5cqUBGDt37jzr41q3bm28+OKLJdo6duxoPPPMMxVWa2Uq63EZPny4cdttt1VGiZWurMfEMAzj4MGDRt26dY1t27YZkZGR1SYAXsgxOdWaNWsM4B9/EV6Q/SsN45ubDeP5oJPBb/olhrFtlmEUFV7QU3ft2tV44IEHSrS1aNHCGD9+vGEYpwfAJ5980mjRokWJ/e+//36je/fuF1RHVfJPx+R8tGrVypg4cWJ5l2aZsh6T4cOHG88884zx/PPPV8sAWNrjMm/ePCMoKMg4duxYZZRnidIek9dff91o3LhxibZ33nnHqFevXoXVWBpV8hTwypUrCQoKolu3bsVt3bt3JygoiBUrVpz1cb1792b27NkcOnQIwzBYuHAhu3fvZtCgQZVRdoUry3FxOBzMmTOHiy66iEGDBhEWFka3bt34+eefK6nqilXWz4rD4WDEiBE88cQTtG7dujJKrTRlPSZ/l5aWhs1mIzg4uHwLPDGw4+PL4NNBsGsOYMBFg+HOeXDP/6D1sAsa1Zufn8/69esZOHBgifaBAwee9RisXLnytP0HDRrEunXrKCgoKHMtVUVZjsnfORwOMjIyqFmzZkWUWOnKekxmzJjB3r17ef755yu6REuU5bjMnj2bzp0789prr1G3bl0uuugiHn/8cXJyciqj5ApXlmPSs2dPDh48yNy5czEMgyNHjvDjjz9y5ZVXVkbJ/6hKDgJJSEggLOz0SVzDwsJISEg46+Peeecd7r33XurVq4e7uztubm58/PHH9O7duyLLrTRlOS6JiYlkZmbyyiuv8NJLL/Hqq6/y22+/ce2117Jw4UL69u1b0WVXqLJ+Vl599VXc3d155JFHKrI8S5T1mJwqNzeX8ePHc8stt5TfHHkFOccHdrwPyXvNNrvnKSt2NC+f1wGSkpIoKiqidu3aJdpr16591mOQkJBwxv0LCwtJSkoiIiKi3OqzQlmOyd+98cYbZGVlceONN1ZEiZWuLMdkz549jB8/nqVLl+LuXiV/hV6wshyXffv2sWzZMry9vZk1axZJSUmMGjWK5OTkanEdYFmOSc+ePfn6668ZPnw4ubm5FBYWMnToUN59993KKPkfVWoP4AsvvIDNZjvnbd06cw1P2xmmdjAM44ztJ7zzzjusWrWK2bNns379et544w1GjRrFggULKuw9lYeKPC4OhwOAq6++mrFjx9K+fXvGjx/PVVddVaUvcK/IY7J+/XrefvttPvvss3N+nqqaiv7/c0JBQQE33XQTDoeDqVOnXnjhWcdg0avwVhuYM84Mf97B0OdxGLMNhr5bruHvVH9/v/90DM60/5nanVlpj8kJ3377LS+88ALff//9Gf/AcGbne0yKioq45ZZbmDhxIhddVP2XGCzNZ8XhcGCz2fj666/p2rUrV1xxBW+++SafffZZtekFhNIdk+joaB555BGee+451q9fz2+//UZMTEzxGudWq9Q/X0aPHs1NN910zn0aNmzIli1bOHLkyGn3HT169LT0fUJOTg5PP/00s2bNKu5ebdeuHZs2bWLy5MkMGDDgwt9ABanI4xIaGoq7uzutWrUq0d6yZUuWLVtW9qIrWEUek6VLl5KYmEiDBg2K24qKinjssceYMmUKsbGxF1R7RanIY3JCQUEBN954IzExMfz5558X1vuXvM/s7dv4NRQe/wUQ3AC6PwQdbgMv/7I/9z8IDQ3Fbref9pd5YmLiWY9BeHj4Gfd3d3cnJCSkwmqtLGU5Jid8//333H333fzwww9V+mdpaZX2mGRkZLBu3To2btzI6NGjATP4GIaBu7s78+fPp3///pVSe0Uqy2clIiKCunXrEhQUVNzWsmVLDMPg4MGDNGvm3FM3leWYTJo0iV69evHEE08AZibx8/OjT58+vPTSS5afVajUABgaGkpoaOg/7tejRw/S0tJYs2YNXbt2BWD16tWkpaXRs2fPMz6moKCAgoIC3NxKdmra7fbiXrCqqiKPi6enJ126dGHXrl0l2nfv3k1kZOSFF19BKvKYjBgx4rRfYoMGDWLEiBHceeedF158BanIYwInw9+ePXtYuHBh2UPPwfWw4m3zOj/j+P+9iChz4uZWw8Be8T92PD096dSpE3/88QfXXHNNcfsff/zB1VdffcbH9OjRg19++aVE2/z58+ncuTMeHh4VWm9lKMsxAbPn76677uLbb7+tMtculZfSHpPAwEC2bt1aom3q1Kn8+eef/PjjjzRq1KjCa64MZfms9OrVix9++IHMzEz8/c0/7nbv3o2bmxv16tWrlLorUlmOSXZ29mmXCdjt5rXNRlVYhdeCgSfn5fLLLzfatWtnrFy50li5cqXRtm3b06axaN68uTFz5szi7b59+xqtW7c2Fi5caOzbt8+YMWOG4e3tbUydOrWyy68wZTkuM2fONDw8PIzp06cbe/bsMd59913DbrcbS5curezyK0RZjsnfVadRwIZR+mNSUFBgDB061KhXr56xadMmIz4+vviWl5f3zy9YVGQYO+cZxqeDT47mfT7QML68zjD2LTYMh6Mi3uY5nZiy4ZNPPjGio6ONMWPGGH5+fkZsbKxhGIYxduzYM04DM3bsWCM6Otr45JNPqu00MGc7JuPHjzdGjBhRvP8333xjuLu7G++//36Jz0RqaqpVb6HclfaY/F11HQVc2uOSkZFh1KtXz7j++uuN7du3G4sXLzaaNWtm3HPPPVa9hXJX2mMyY8YMw93d3Zg6daqxd+9eY9myZUbnzp2Nrl27WvUWSqiyAfDYsWPGrbfeagQEBBgBAQHGrbfeaqSkpJTYBzBmzJhRvB0fH2+MHDnSqFOnjuHt7W00b97ceOONNwyHBb98KkpZjothGMYnn3xiNG3a1PD29jaioqKq1dyIZT0mp6puAbC0xyQmJsYAznhbuHDh2V+oINcw1n9hGO92ORn6JoYYxswHDCNhe4W9v/P1/vvvG5GRkYanp6fRsWNHY/HixcX33XzzzSUCoGEYxqJFi4wOHToYnp6eRsOGDY0PPvjAirIr1LmOyR133GH07du3eLtv375n/EzccccdlV94BSrNMfm76hoADaP0x2XHjh3GgAEDDB8fH6NevXrGuHHjjOzs7EquumKV9pi88847RqtWrQwfHx8jIiLCuPXWW42DBw9WctVnZjOMqtAPKSJOJScV1s+AVR9C5vFrYrwCodNI6P4gBNaxsrrzkp6eTlBQEGlpaeU30llExElUzzHsIlIx0g7Bqqmw/nPIzzDbAiLM0NdpJHgHnfPhIiJSNSgAisg/OxINK96BrT+Ao9Bsq9USej0Cba4Hd09r6xMRkVJRABSRMzMM2L8clr8Ne+afbI/sDb0ehWaXQTWaH09ExJUoAIpISSeWalv+NhzeYLbZ3KDlEOj5KNTrZG19IiJywRQARcR0Yqm2Fe9CSozZ5u4N7W+FHg9BSBNr6xMRkXKjACji6rKTYe0nsPpDyE4y23xqQNf7oMu94F/L2vpERKTcKQCKuKrUAydH9BZkmW1BDczevo4jwNPP2vpERKTCKACKuJqEbcdH9P4IRpHZVrst9B5TaUu1iYiItfSTXsQVGAbELoPlU+CvBSfbG/U1R/Q26a8RvSIiLkQBUKQ6cxTBzl9h2ZSSI3pbDTPn8KvTwcrqRETEIgqAItVRQS5s/tYc0Zu812xz94YOt5nX+NVsbG19IiJiKTerCxCRcpSTCkvfgClt4dcxZvjzDoaLn4Ax2+DKN1w6/B09epTw8HBefvnl4rZ169bh6enJ/Pnzz/FIEZHqxWYYhmF1ESJygdIPmyN61312co3ewHrHR/TeDl7+lpZXlcydO5dhw4Yxf/58LrnkEho3bsyQIUOYMmWK1aWJiFQaBUARZ5a0x1yxY/N34Cgw22q1NAd2tL0e7B7W1ldFPfTQQ/z+++/s3buXli1bsmHDBry9va0uS0Sk0igAijijg+th+Vuw41fg+H/hBj2g1xhoNhDcdHXHueTk5NCqVStiY2NZvnw5PXv2tLokEZFKpUEgIs7CMGDvn7DsLYhderK9+RVm8GvQzbLSnM2+ffuIj48H4MCBAxZXIyJS+dQDKFLVOYog+mdzKpeELWabmzu0vdGcyiWspZXVOZ38/Hy6du1Kq1at+PbbbwkJCWH79u3Url3b6tJERCqNAqBIVVWQC5u/geXvQEqM2ebhCx3vMAd3BNe3tj4n9cQTT/Djjz+ydOlS6tevT8+ePalRowa//vqr1aWJiFQaBUCRqiY3HdZ9ao7qzTxitvnUhG73Q9f7wLemtfU5sUWLFnHZZZexcOFC2rVrR1BQENu2baNXr15MmjSJBx980OoSRUQqhQKgSFWRmQirPoC1n0BemtkWWA96PgwdR4Cnn7X1VTPp6ekEBQWRlpZGYGCg1eWIiFQqDQIRsVpKrLlix8avoDDXbAttDr3HQJvrwd3TyupERKQaUgAUscqRaHNE77afwCgy2+p2hj7j4KLBmspFREQqjAKgSGU7sNZcrm33vJNtTfpD73HQsDfYbNbVJiIiLkEBUKQynHEOPxu0Ggq9x0KdDpaWJyIirkUBUKQiORyw8xdY+ibEbzLb3Nyh3U3mNX6hzaysTkREXJQCoEhFKCqALf8xe/yO7THb3H2g00joORqC6llanoiIuDYFQJHyVJBjjuZd/jakHV9izDvInL+v2wPgF2ptfSIiIigAipSP3HRY9wmsfB+yjpptfmHmih2d7wJvzTMnIiJVhwKgyIXIOgarP4Q10yD3+OTNQQ3MNXo73AYePtbWJyIicgYKgCJlkR4PK98zl2wryDbbQpqZc/i1vQHsHtbWJyIicg4KgCKlkRILy6bApq+hKN9sC28HFz8OLa4CN7uV1YmIiJwXBUCR83F0Nyx70xzZe2LVjgY9oM/j0PRSTd4sIiJORQFQ5Fzit5irdkT/FzDMtib9zeDXsJelpYmIiJSVAqDImRxcB0teh92/nWxrfiVc/BjU7WRdXSIiIuVAAVDkVLHLzeC3b+HxBhu0uRb6PAa1W1tamoiISHlRABQxDDPwLX4d4laYbTY7RN0EvcdBaFNr6xMRESlnCoDiugwDdv9u9vgdWme22T3N+ft6jYEakZaWJyIiUlEUAMX1OByw81dY8hokbDXb3L2h053Q82EIqmttfSIiIhVMAVBch6MIon+GJZMhMdps8/CDrvdAj9HgH2ZpeSIiIpVFAVCqv6JC2D7TPNWbtNts8wqErvdB91HgF2JtfSIiIpVMAVCqr6IC2PqD2eOXvNds8w4yQ1+3+8GnhrX1iYiIWEQBUKqfwnzY/K05gXPqfrPNp4Z5mrfrvWYIFBERcWEKgFJ9FOaba/QufRPS4sw231BzYEeXu8ErwNr6REREqggFQHF+hfmw6avjwe+A2eYXBr0egc53gaeftfWJiIhUMQqA4rwK82Dj8eCXftBs869tzuHXaSR4+lpZnYiISJWlACjOpzAPNn55PPgdMtv8w6H3GDP4efhYWZ2IiEiVpwAozuNMwS8gAnqPhY63K/iJiIicJwVAqfpOXOO35I2Tp3oD6pwS/LytrU9ERMTJKABK1VU8qveNk4M7AiKg9zgFPxERkQugAChVT1EBbPoGlk6G1OPTufiHmz1+nUYq+ImIiFwgBUCpOooKYcv3sPjVkxM4+9c+JfjpGj8REZHyoAAo1nMUwbafYNErJ5ds86tlBr/Odyn4iYiIlDMFQLGOwwHRP5vBL2mX2eYbYs7j1+VuTeAsIiJSQdysLkBckGHAjl/gw97w451m+PMOhkufg0e3mCt4KPy5jJSUFEaMGEFQUBBBQUGMGDGC1NTUcz5m5MiR2Gy2Erfu3btXTsEiItWAegCl8hgG/LUA/vwXxG8227yCoOdo6PYAeAdaW59Y4pZbbuHgwYP89ttvANx3332MGDGCX3755ZyPu/zyy5kxY0bxtqenZ4XWKSJSnSgASuWIWQJ/vgQHVpvbnv7Q/UHo8RD41LC2NrHMjh07+O2331i1ahXdunUD4KOPPqJHjx7s2rWL5s2bn/WxXl5ehIeHV1apIiLVigKgVKy41bDwJTMAArj7QNd7zev8/EIsLU2st3LlSoKCgorDH0D37t0JCgpixYoV5wyAixYtIiwsjODgYPr27cu///1vwsLCzrp/Xl4eeXl5xdvp6enl8yZERJyQAqBUjPjNZo/fnvnmtpsHdL4T+jwGAeq1EVNCQsIZQ1tYWBgJCQlnfdzgwYO54YYbiIyMJCYmhmeffZb+/fuzfv16vLy8zviYSZMmMXHixHKrXUTEmWkQiJSvo7vhP3fAtIvN8Gezm6t2PLIBrnhd4c9FvPDCC6cN0vj7bd26dQDYbLbTHm8YxhnbTxg+fDhXXnklbdq0YciQIcybN4/du3czZ86csz7mqaeeIi0trfh24MCBC3+jIiJOSj2AUj5S42DRq7D5GzAcgA3aXg/9noKQJlZXJ5Vs9OjR3HTTTefcp2HDhmzZsoUjR46cdt/Ro0epXbv2eb9eREQEkZGR7Nmz56z7eHl5nbV3UETE1SgAyoXJOGKu1bvuU3AUmG3Nr4T+E6B2a2trE8uEhoYSGhr6j/v16NGDtLQ01qxZQ9euXQFYvXo1aWlp9OzZ87xf79ixYxw4cICIiIgy1ywi4kpshmEYVhchTignFZa/Das/hIJss61RX3Muv3qdLS1NnMvgwYM5fPgw06ZNA8xpYCIjI0tMA9OiRQsmTZrENddcQ2ZmJi+88ALXXXcdERERxMbG8vTTTxMXF8eOHTsICAg4r9dNT08nKCiItLQ0AgM1BZGIuBb1AErp5GfDmumw7C3ITTXb6naGS5+Fxv2srEyc1Ndff80jjzzCwIEDARg6dCjvvfdeiX127dpFWloaAHa7na1bt/LFF1+QmppKREQEl1xyCd9///15hz8REVenHkA5P0UFsPErWPwqZMSbbbVamD1+za+Ac1ywL1IVqQdQRFyZegDl3E6s1/vnS5C812wLagCXPAXthoOb3dLyREREpPQUAOXMDAP2/gn/m3hy2TbfULj4CXM+P3eNphQREXFWCoByusMb4Y/nIWaxue0ZAL0eMZdu89I1ViIiIs5OAVBOSt5nnurd9pO5bfeELvdAn8e1bJuIiEg1ogAokHkUlrx+ylx+NvP6vkuehhqRVlcnIiIi5UwB0JXlZcLK92HFO5CfabY1HQADXoDwtpaWJiIiIhVHAdAVFRXChs9h0SuQlWi2RbSHy16Exn0tLU1EREQqngKgKzEM2DUPFjwPSbvNthqNzLn8Wg0DNzdLyxMREZHKoQDoKg6th/nPwv7l5rZPTeg3HjrdCe6e1tYmIiIilUoBsLpLiYX/vXhyZK+7tzmdS++x4B1kaWkiIiJiDQXA6ionBZZMNtftLcoHbBB1E/R/BoLqWV2diIiIWEgBsLopKoC1n8DiV8wQCNC4H1z2L4hoZ2lpIiIiUjUoAFYXhgG75prX+Z1Ys7dWSxj4EjS9FGw2a+sTERGRKkMBsDo4vAl+nwD7l5nbfrXgkgnQYQTY9U8sIiIiJSkdOLP0eHOAx+ZvAcMc4NHjIeg1BrwDra5OREREqigFQGdUkAMr34Olb0FBltnW9kZzPr/g+tbWJiIiIlWeAqAzMQyI/hnmPwdpcWZbvS5w+StQr7OlpYmIiIjzUAB0FvGbYd54iFthbgfWhQEToe31GuAhIiIipaIAWNVlHIE/X4SNX2Ne5+cDvR6FXo+Ap5/V1YmIiIgTUgCsqgrzYNVUWPIG5GeYbW1vgAEvaCJnERERuSAKgFXRrt/gt/GQEmNu1+kIg1+F+l2trUtERESqBQXAquTYXjP47ZlvbvuHmz1+7YaDm5ulpYmIiEj1oQBYFeRlwtLJsPJ9c91eNw/oMQoufgK8AqyuTkRERKoZBUArGQZs+8lcvi3jsNnWdIA5rUtoM2trExERkWpLAdAqCVth3v/B/uXmdnCkGfyaD9a0LiIiIlKhFAArW04qLPw3rP0YDIc5rUufx6Dnw+DhbXV1IiIi4gIUACuLYcCW72H+M5B11GxrNQwGvqTl20RERKRSKQBWhiPRMPfxk6d7Q5rBlZOhcT9LyxIRkQtTVFREQUGB1WVINeTh4YHdbq+w51cArEh5mbD4FVj1ATgKzdO9fZ+AHg+Du6fV1YmISBkZhkFCQgKpqalWlyLVWHBwMOHh4dgqYGyAAmBFMAyI/i/89tTJ0b0troLLJ0FwA2trExGRC3Yi/IWFheHr61shv6DFdRmGQXZ2NomJiQBERESU+2soAJa35H0w53HY+z9zu0ZDGPw6XDTQ0rJERKR8FBUVFYe/kJAQq8uRasrHxweAxMREwsLCyv10sAJgeSnMh5XvwuLXoDAX7F7Qeyz0HgMePlZXJyIi5eTENX++vr4WVyLV3YnPWEFBgQJglRS3Cn4ZA0d3mNuN+sJVb0FIE0vLEhGRiqPTvlLRKvIzpgVmL0ROCsx+BD4dZIY/31C49iO4/b8KfyIiImXw559/0qJFCxwOh9WlVKguXbowc+ZMy15fAbAsDAO2/ADvdYENn5ttHW+H0Wuh3Y1ayUNERKqcJUuWMGTIEOrUqYPNZuPnn38+6779+vXjww8/rLBaXnjhBdq3b3/G+5588kkmTJiAm5sZUeLj47nlllto3rw5bm5ujBkzpsLqOpt+/fqV6r5JkybRpUsXAgICCAsLY9iwYezatavEPs8++yzjx4+3LOgqAJZWyn746lqYeY85oXNoc7hzHgx9F3xrWl2diIjIGWVlZREVFcV77713zv2Sk5NZsWIFQ4YMKfcaDMOgsLDwrPevWLGCPXv2cMMNNxS35eXlUatWLSZMmEBUVFS513Q2y5cvZ8GCBSXaFixYwPLly895H8DixYt56KGHWLVqFX/88QeFhYUMHDiQrKys4v2vvPJK0tLS+P333yv+zZyBAuD5chTByqkwtTvs/dMc5NH/GXhgGUT2tLo6ERGRcxo8eDAvvfQS11577Tn3mzNnDlFRUdStW5eUlBRuvfVWatWqhY+PD82aNWPGjBnF+65Zs4YOHTrg7e1N586dmTVrFjabjU2bNgGwaNEibDYbv//+O507d8bLy4svv/ySiRMnsnnzZmw2Gzabjc8++wyA7777joEDB+LtfXJp1IYNG/L2229z++23ExQUVG7HY9GiRXh6erJ06dLitjfeeIPQ0FDi4+Np0KAB06ZNY9SoUWRkZDBq1Cg+/vhjGjZseM77AH777TdGjhxJ69atiYqKYsaMGcTFxbF+/fri17Lb7VxxxRV8++235faeSkMB8Hwk7oBPBsLvT0FBNkT2hlEr4eInNKGziIhUK7Nnz+bqq68GzNOU0dHRzJs3jx07dvDBBx8QGhoKmD2KV111Fc2bN2f9+vW88MILPP7442d8zieffJJJkyaxY8cOBg4cyGOPPUbr1q2Jj48nPj6e4cOHA+Zp6s6dO1fK++zXrx9jxoxhxIgRpKWlsXnzZiZMmMBHH31EREQE9evX54cffiAoKIgNGzYQHBzMd999R926dc9535mkpaUBULNmyTOFXbt2LRFAK5NGAZ9LYT4sexOWTAZHAXgFwmUvQsc7wE3ZWUREzNOaOQVFlry2j4e9XEeK5uXl8fvvv/Pcc88BEBcXR4cOHYpD2YkeLoCvv/6aoqIiPv30U3x9fWndujUHDx7kwQcfPO15X3zxRS677LLibX9/f9zd3QkPDy+xX2xsLHXq1Cm39/NPXnrpJRYsWMB9993H9u3bGTFiBNdccw0Ahw4d4rHHHqNGjRp07NiRlJQUbrrpJt544w2As9739xBoGAbjxo2jd+/etGnTpsR9devWJS4uDofDUXzNY2VRADybA2th9sMnp3ZpfgVc+QYEVt4HU0REqr6cgiJaPWfNdVzRLw7C17P8fpX/+eefhISE0LZtWwAefPBBrrvuOjZs2MDAgQMZNmwYPXualz3t2LGDqKioEvMh9ujR44zPe769ejk5OSVO/5ZV69at2b9/PwB9+vRh3rx5Z9zP09OTr776inbt2hEZGcmUKVOK74uNjeWee+5hwIAB9OvXjw8++IAFCxYQGxsLcNb7/h4AR48ezZYtW1i2bNlpr+/j44PD4SAvL6944ufKogD4d3mZ8OdLsPpDwAC/WjD4NWh9jUb3iohItXbq6V8wrxvcv38/c+bMYcGCBVx66aU89NBDTJ48GcMwzvt5/fz8zmu/0NBQUlJSSl33382dO7d4wu5/ClYrVqwAzMEvycnJxbX26tXrtH0HDBhw1uc5030PP/wws2fPZsmSJdSrV++0+5OTk/H19a308AcKgCXFLIX/PgSp5l8NRN0Mg17W6F4RETkrHw870S8Osuy1y4thGPzyyy988cUXJdpr1arFyJEjGTlyJH369OGJJ55g8uTJtGrVii+//JKcnJziALNq1arzei1PT0+Kik4/bd6hQweio6Mv+L1ERkae13579+5l7NixfPTRR/znP//h9ttv53//+99pp2MXLVp01uc4032GYfDwww8za9YsFi1aRKNGjc742G3bttGxY8fzqrW8KQAC5GfBgomwZpq5HVQfhkyBpmdP+iIiImCu1lCep2ErSmZmJn/99VfxdkxMDJs2baJmzZo0aNCA9evXk5WVxcUXX1y8z3PPPUenTp1o3bo1eXl5/Prrr7Rs2RKAW265hQkTJnD33XfzzDPPEBsby+TJk8+rloYNGxa/fr169QgICMDLy4tBgwbx+eefn7b/iVHFmZmZHD16lE2bNuHp6UmrVq3KfDyKiooYMWIEAwcO5M4772Tw4MG0bduWN954gyeeeKLMzwvw0EMP8c033/Df//6XgIAAEhISAAgKCirR27d06VIGDhx4Qa9VZoari11uGFOiDOP5QPP2yxjDyE23uioRqWBpaWkGYKSlpVldijiZnJwcIzo62sjJybG6lFJZuHChAZx2u+OOOwzDMIxnnnnGuPXWW0s85l//+pfRsmVLw8fHx6hZs6Zx9dVXG/v27Su+f+XKlUZUVJTh6elptG/f3vjpp58MwNi4cWOJ10xJSSnxvLm5ucZ1111nBAcHG4AxY8YMwzAMIzk52fDx8TF27txZYv8z1R0ZGXlBx2PixIlGRESEkZSUVNz2888/G56ensX1l9WZ6j31fRqGYRw8eNDw8PAwDhw4cNbnqcjPmu14oa4nPxv+/Bes+gAwILAeXP0uNOlvdWUiUgnS09MJCgoiLS2NwMBAq8sRJ5Kbm0tMTAyNGjUqlwELVUW7du145plnuPHGG8v8HLGxsTRq1IiNGzeedaWPf/Lkk0+SlpbGtGnTylyHM3jiiSdIS0tj+vTpZ92nIj9rrjmXSdxq+LA3rJoKGOYybqNWKPyJiIhLys/P57rrrmPw4MFWl8KECROIjIw84zWC1UlYWBj/+te/LHt91+oBLMiBhf+GFe8BBgTUgaHvQLPL/vGhIlK9qAdQyqq69gCWh/LoAZSTKvKzVvWvWi0vhzfBzPsg6fhizO1vNUf4+gRbWZWIiEi10bBhw1JNDyPWqf4B0FEEy6fAwpfBUQj+tWHI29Dc+m5uEREREStU7wCYEguzHoC4leZ2yyEw5B3N6yciIiIurXoGQMOAzd/C3CchPwM8A2Dwq9D+Fq3mISIiIi6v+gXA7GT4dQxE/9fcrt8drp0GNRpaWZWIiIhIlVG9AuDeP+HnUZARD27u0O8p6D0W3MpvqRwRERERZ1c9AmBRgTmp8/K3ze2QZnDdR1Cng7V1iYiIiFRBzh8AU2Lhx7vh0Dpzu/PdMPAl8PS1tCwRERGRqsq5VwLZ/jN8eLEZ/ryD4MYv4ao3Ff5ERETKmc1m4+effy7140aMGMHLL7983vs//vjjPPLII6V+HSkd51wJpCAHfn8a1n1qbtfrCtd9DDUira1LRJyGVgKRsnLVlUASEhKoUaMGXl5e5/2YLVu20K9fP/bv309AQMB5PSYxMZEmTZqwZcsWGjVqVNZyqwWtBXyqxJ3wUf/j4c8GvcfBnXMV/kRERCpQeHh4qcIfwHvvvccNN9xw3uEPzDVyBw4cyIcffljaEqUUnCcAGgZs+AKm94PEaPALgxEzYcDzYPewujoREZEq77fffqN3794EBwcTEhLCVVddxd69ewHIz89n9OjRRERE4O3tTcOGDZk0aVLxY089BRwbG4vNZmPmzJlccskl+Pr6EhUVxcqVK4v3dzgc/PDDDwwdOrS4befOnfj6+vLNN98Ut82cORNvb2+2bt1a3DZ06FC+/fbbijoMgrMMAslNN+f22/aTud2kP1wzDfzDLC1LREQEw4CCbGte28O3VAscZGVlMW7cONq2bUtWVhbPPfcc11xzDZs2beKdd95h9uzZ/Oc//6FBgwYcOHCAAwcOnPP5JkyYwOTJk2nWrBkTJkzg5ptv5q+//sLd3Z0tW7aQmppK586di/dv0aIFkydPZtSoUfTq1QsPDw/uvfdeXnnlFdq2bVu8X9euXTlw4AD79+8nMlJn+CqCcwTA1dPM8Gezw6XPQs9Hwc15Oi9FRKQaK8iGl+tY89pPHwZPv/Pe/brrriux/cknnxAWFkZ0dDRxcXE0a9aM3r17Y7PZzit4Pf7441x55ZUATJw4kdatW/PXX3/RokULYmNjsdvthIWV7KwZNWoUc+fOZcSIEXh6etKpUyceffTREvvUrVsXMHsaFQArhnMEwF6PQsIW6Pkw1O9qdTUiIiJOae/evTz77LOsWrWKpKQkHA4HAHFxcYwcOZLLLruM5s2bc/nll3PVVVcxcODAcz5fu3btir+PiIgAzEEcLVq0ICcnBy8vL2xn6KH89NNPueiii3Bzc2Pbtm2n7ePj4wNAdrZFPasuwDkCoLsnDP/S6ipERERO5+Fr9sRZ9dqlMGTIEOrXr89HH31EnTp1cDgctGnThvz8fDp27EhMTAzz5s1jwYIF3HjjjQwYMIAff/zx7C/vcfIa/BMh7kSoDA0NJTs7m/z8fDw9PUs8bvPmzWRlZeHm5kZCQgJ16pTsQU1OTgagVq1apXp/cv6cIwCKiIhUVTZbqU7DWuXYsWPs2LGDadOm0adPHwCWLVtWYp/AwECGDx/O8OHDuf7667n88stJTk6mZs2apX699u3bAxAdHV38PZjhbuTIkUyYMIGEhARuvfVWNmzYUNzrB7Bt2zY8PDxo3bp16d+onBcFQBERERdQo0YNQkJCmD59OhEREcTFxTF+/Pji+9966y0iIiJo3749bm5u/PDDD4SHhxMcHFym16tVqxYdO3Zk2bJlJQLgAw88QP369XnmmWeKex4ff/xx3n///eJ9li5dSp8+fUqEQilfGkkhIiLiAtzc3Pjuu+9Yv349bdq0YezYsbz++uvF9/v7+/Pqq6/SuXNnunTpQmxsLHPnzsXtAgZd3nfffXz99dfF21988QVz587lyy+/xN3dHV9fX77++ms+/vhj5s6dW7zft99+y7333lvm15V/5pwrgYiIXCCtBCJl5aorgZRFbm4uzZs357vvvqNHjx7n9Zg5c+bwxBNPsGXLFtzdXftEpVYCEZFq69///jc9e/bE19f3vE81GYbBCy+8QJ06dfDx8aFfv35s3769YgsVkVLz9vbmiy++ICkp6bwfk5WVxYwZM1w+/FU0BUARsVR+fj433HADDz744Hk/5rXXXuPNN9/kvffeY+3atYSHh3PZZZeRkZFRgZWKSFn07duXIUOGnPf+N954I926davAigQUAEXEYhMnTmTs2LElVgE4F8MwmDJlChMmTODaa6+lTZs2fP7552RnZ5dYXkpERM5OAVBEnEpMTAwJCQklJqj18vKib9++rFixwsLKRESch06wi4hTSUhIAKB27dol2mvXrs3+/fvP+ri8vDzy8vKKt9PT0yumQHEZGkMpFa0iP2PqARSRcvfCCy9gs9nOeVu3bt0Fvcbfl44yDOOMS06dMGnSJIKCgopv9evXv6DXF9d1YvULLVMmFe3EZ+zUFVfKi3oARaTcjR49mptuuumc+zRs2LBMzx0eHg6YPYEn1h4Fc/3Rv/cKnuqpp55i3Lhxxdvp6ekKgVImdrud4OBgEhMTAfD19T3nHx8ipWUYBtnZ2SQmJhIcHIzdbi/311AAFJFyFxoaSmhoaIU8d6NGjQgPD+ePP/6gQ4cOgDmSePHixbz66qtnfZyXlxdeXl4VUpO4nhN/iJwIgSIVITg4uPizVt4UAEXEUnFxcSQnJxMXF0dRURGbNm0CoGnTpvj7+wPQokULJk2axDXXXIPNZmPMmDG8/PLLNGvWjGbNmvHyyy/j6+vLLbfcYuE7EVdis9mIiIggLCyMgoICq8uRasjDw6NCev5OUAAUEUs999xzfP7558XbJ3r1Fi5cSL9+/QDYtWsXaWlpxfs8+eST5OTkMGrUKFJSUujWrRvz588nICCgUmsXsdvtFfpLWqSiaCk4EXFJWgpORFyZRgGLiIiIuBgFQBEREREXowAoIiIi4mIUAEVERERcjAaBiIhLMgyDjIwMAgICNImviLgcBUARERERF6NTwCIiIiIuRgFQRERExMUoAIqIiIi4GAVAERERERejACgiIiLiYhQARURERFyMAqCIiIiIi1EAFBEREXExCoAiIiIiLkYBUERERMTFKACKiIiIuBgFQBEREREXowAoIiIi4mL+H5dnYySkdOF3AAAAAElFTkSuQmCC' width=640.0/>\n",
       "            </div>\n",
       "        "
      ],
      "text/plain": [
       "Canvas(toolbar=Toolbar(toolitems=[('Home', 'Reset original view', 'home', 'home'), ('Back', 'Back to previous …"
      ]
     },
     "metadata": {},
     "output_type": "display_data"
    }
   ],
   "source": [
    "x = sp.symbols(\"x\")\n",
    "f = 1 / sp.sqrt(1 - x ** sp.S(2))\n",
    "g = sp.integrate(f)\n",
    "p = sp.plot(f, g, (x, -sp.S(4) / 5, sp.S(4) / 5), ylabel = \"y\", legend = True)"
   ]
  },
  {
   "cell_type": "markdown",
   "metadata": {},
   "source": [
    "The following test should plot your expression `f` in SymPy."
   ]
  },
  {
   "cell_type": "code",
   "execution_count": 30,
   "metadata": {
    "deletable": false,
    "editable": false
   },
   "outputs": [
    {
     "data": {
      "text/html": [
       "<p><strong><pre style='display: inline;'>sympy</pre></strong> passed!</p>"
      ],
      "text/plain": [
       "sympy results: All test cases passed!"
      ]
     },
     "execution_count": 30,
     "metadata": {},
     "output_type": "execute_result"
    }
   ],
   "source": [
    "grader.check(\"sympy\")"
   ]
  },
  {
   "cell_type": "markdown",
   "metadata": {
    "editable": false,
    "tags": [
     "remove-cell"
    ]
   },
   "source": [
    "## Submission\n",
    "\n",
    "Make sure you have run all cells in your notebook in order before running the cell below, so that all images/graphs appear in the output. The cell below will generate a zip file for you to submit. **Please save before exporting!**"
   ]
  },
  {
   "cell_type": "code",
   "execution_count": 31,
   "metadata": {
    "editable": true,
    "tags": []
   },
   "outputs": [],
   "source": [
    "# extra files to submit\n",
    "extra_files = [\"jsxgraphs.py\", \"images/byte-to-decimal.dio.svg\",\n",
    "                    \"images/decimal-to-byte.dio.svg\", \"images/pythagoras.dio.svg\",\n",
    "                    \"images/quadratic.dio.svg\"]"
   ]
  },
  {
   "cell_type": "code",
   "execution_count": 32,
   "metadata": {
    "editable": false,
    "tags": []
   },
   "outputs": [],
   "source": [
    "# Generate the source main.py necessary for grading and similarity check.\n",
    "jupytext.write(jupytext.read(\"main.ipynb\"), \"main.py\", fmt=\"py:percent\")"
   ]
  },
  {
   "cell_type": "code",
   "execution_count": 33,
   "metadata": {
    "editable": true,
    "tags": []
   },
   "outputs": [
    {
     "data": {
      "text/html": [
       "\n",
       "            <p>Your submission has been exported. Click <a href=\"main_2022_09_17T11_19_59_055668.zip\" download=\"main_2022_09_17T11_19_59_055668.zip\" target=\"_blank\">here</a>\n",
       "            to download the zip file.</p>\n",
       "            "
      ],
      "text/plain": [
       "<IPython.core.display.HTML object>"
      ]
     },
     "metadata": {},
     "output_type": "display_data"
    }
   ],
   "source": [
    "# Generate the zip file to submit.\n",
    "grader.export(pdf=False, run_tests=False, files=[\"main.py\", *extra_files])"
   ]
  },
  {
   "cell_type": "code",
   "execution_count": null,
   "metadata": {},
   "outputs": [],
   "source": []
  }
 ],
 "metadata": {
  "celltoolbar": "Create Assignment",
  "kernelspec": {
   "display_name": "Python 3 (ipykernel)",
   "language": "python",
   "name": "python3"
  },
  "language_info": {
   "codemirror_mode": {
    "name": "ipython",
    "version": 3
   },
   "file_extension": ".py",
   "mimetype": "text/x-python",
   "name": "python",
   "nbconvert_exporter": "python",
   "pygments_lexer": "ipython3",
   "version": "3.10.6"
  },
  "latex_envs": {
   "LaTeX_envs_menu_present": true,
   "autoclose": false,
   "autocomplete": true,
   "bibliofile": "biblio.bib",
   "cite_by": "apalike",
   "current_citInitial": 1,
   "eqLabelWithNumbers": true,
   "eqNumInitial": 1,
   "hotkeys": {
    "equation": "Ctrl-E",
    "itemize": "Ctrl-I"
   },
   "labels_anchors": false,
   "latex_user_defs": false,
   "report_style_numbering": false,
   "user_envs_cfg": false
  },
  "otter": {
   "OK_FORMAT": true,
   "tests": {
    "byte_to_decimal": {
     "name": "byte_to_decimal",
     "points": null,
     "suites": [
      {
       "cases": [
        {
         "code": ">>> def test_byte_to_decimal(decimal, b7, b6, b5, b4, b3, b2, b1, b0):\n...     decimal_ = byte_to_decimal(b7, b6, b5, b4, b3, b2, b1, b0)\n...     assert decimal == decimal_ and isinstance(decimal_, int)\n>>> \n>>> \n>>> test_byte_to_decimal(38, \"0\", \"0\", \"1\", \"0\", \"0\", \"1\", \"1\", \"0\")\n>>> test_byte_to_decimal(20, \"0\", \"0\", \"0\", \"1\", \"0\", \"1\", \"0\", \"0\")\n>>> test_byte_to_decimal(22, \"0\", \"0\", \"0\", \"1\", \"0\", \"1\", \"1\", \"0\")\n",
         "hidden": false,
         "locked": false
        }
       ],
       "scored": true,
       "setup": "",
       "teardown": "",
       "type": "doctest"
      }
     ]
    },
    "decimal_to_byte": {
     "name": "decimal_to_byte",
     "points": null,
     "suites": [
      {
       "cases": [
        {
         "code": ">>> def test_decimal_to_byte(byte, decimal):\n...     byte_ = decimal_to_byte(decimal)\n...     assert byte == byte_ and isinstance(byte, str) and len(byte) == 8\n>>> \n>>> \n>>> test_decimal_to_byte(\"01100111\", 103)\n>>> test_decimal_to_byte(\"00000011\", 3)\n>>> test_decimal_to_byte(\"00011100\", 28)\n",
         "hidden": false,
         "locked": false
        }
       ],
       "scored": true,
       "setup": "",
       "teardown": "",
       "type": "doctest"
      }
     ]
    },
    "length_of_hypotenuse": {
     "name": "length_of_hypotenuse",
     "points": null,
     "suites": [
      {
       "cases": [
        {
         "code": ">>> import numpy as np\n>>> \n>>> assert np.isclose(length_of_hypotenuse(0, 0), 0)\n>>> assert np.isclose(length_of_hypotenuse(3, 4), 5)\n",
         "hidden": false,
         "locked": false
        }
       ],
       "scored": true,
       "setup": "",
       "teardown": "",
       "type": "doctest"
      }
     ]
    },
    "parabola": {
     "name": "parabola",
     "points": null,
     "suites": [
      {
       "cases": [
        {
         "code": ">>> import numpy as np\n>>> \n>>> assert np.isclose(get_y(0, 0, 0, 0), 0)\n>>> assert np.isclose(get_y(0, 1, 2, 1), 1)\n",
         "hidden": false,
         "locked": false
        }
       ],
       "scored": true,
       "setup": "",
       "teardown": "",
       "type": "doctest"
      }
     ]
    },
    "roots": {
     "name": "roots",
     "points": null,
     "suites": [
      {
       "cases": [
        {
         "code": ">>> import numpy as np\n>>> \n>>> assert np.isclose(get_roots(1, 1, 0), (-1.0, 0.0)).all()\n>>> assert np.isclose(get_roots(1, 2, 1), (-1.0, -1.0)).all()\n>>> assert np.isclose(get_roots(2, 2, 1), (-0.5 - 0.5j, -0.5 + 0.5j)).all()\n",
         "hidden": false,
         "locked": false
        }
       ],
       "scored": true,
       "setup": "",
       "teardown": "",
       "type": "doctest"
      }
     ]
    },
    "sympy": {
     "name": "sympy",
     "points": null,
     "suites": [
      {
       "cases": [
        {
         "code": ">>> import sympy as sp\n>>> \n>>> assert sp.simplify(f.subs(x, 0) - 1) == 0\n>>> assert sp.simplify(f.subs(x, sp.S(1)/2) - sp.sqrt(3)*2/3) == 0\n",
         "hidden": false,
         "locked": false
        }
       ],
       "scored": true,
       "setup": "",
       "teardown": "",
       "type": "doctest"
      }
     ]
    }
   }
  },
  "rise": {
   "enable_chalkboard": true,
   "scroll": true,
   "theme": "white"
  },
  "toc": {
   "base_numbering": 1,
   "nav_menu": {
    "height": "195px",
    "width": "330px"
   },
   "number_sections": true,
   "sideBar": true,
   "skip_h1_title": true,
   "title_cell": "Table of Contents",
   "title_sidebar": "Contents",
   "toc_cell": false,
   "toc_position": {
    "height": "454.418px",
    "left": "1533px",
    "top": "110.284px",
    "width": "435.327px"
   },
   "toc_section_display": true,
   "toc_window_display": false
  },
  "widgets": {
   "application/vnd.jupyter.widget-state+json": {
    "state": {
     "119b9787dbc64d7bb2ff9a013e40a421": {
      "model_module": "@jupyter-widgets/base",
      "model_module_version": "1.2.0",
      "model_name": "LayoutModel",
      "state": {}
     },
     "14fbe446f73544bf881adcf72e270053": {
      "model_module": "@jupyter-widgets/base",
      "model_module_version": "1.2.0",
      "model_name": "LayoutModel",
      "state": {}
     },
     "20d8495afa4e4472a7bebb8b949a2807": {
      "model_module": "@jupyter-widgets/controls",
      "model_module_version": "1.5.0",
      "model_name": "VBoxModel",
      "state": {
       "_dom_classes": [
        "widget-interact"
       ],
       "children": [
        "IPY_MODEL_af6993f9b9204e62b8c4e74d1919d4a9",
        "IPY_MODEL_24fd65a00436498e86dd425f40274f49",
        "IPY_MODEL_885a32e18d6e4f16ac1c5560a59d8f40"
       ],
       "layout": "IPY_MODEL_326682f357cd40378a50704ea03cb4e9"
      }
     },
     "24fd65a00436498e86dd425f40274f49": {
      "model_module": "@jupyter-widgets/controls",
      "model_module_version": "1.5.0",
      "model_name": "IntSliderModel",
      "state": {
       "description": "b",
       "layout": "IPY_MODEL_77a717d246504189b10e51c4e3470817",
       "max": 10,
       "style": "IPY_MODEL_ea6aa16cee0d46e4a1e928d90b7d67ac",
       "value": 4
      }
     },
     "326682f357cd40378a50704ea03cb4e9": {
      "model_module": "@jupyter-widgets/base",
      "model_module_version": "1.2.0",
      "model_name": "LayoutModel",
      "state": {}
     },
     "32f0ed74bfe947a1aa2095b8a0bb53f2": {
      "model_module": "jupyter-divewidgets",
      "model_module_version": "^0.1.5",
      "model_name": "JSWidgetModel",
      "state": {
       "_model_module_version": "^0.1.5",
       "_view_module_version": "^0.1.5",
       "html": "<!DOCTYPE html>\n<html>\n    <head>\n    <style>\n    html, body {\n        height: 100%;\n    }\n    body {\n        width: 100%;\n        display: flex;\n        padding: 0;\n        margin: 0;\n    }\n    .jxgbox {\n        width:100%; \n        flex-grow: 1;\n    }\n    </style>\n    <link rel=\"stylesheet\" type=\"text/css\" href=\"https://jsxgraph.org/distrib/jsxgraph.css\" />\n    <script type=\"text/javascript\" src=\"https://cdn.jsdelivr.net/npm/jsxgraph/distrib/jsxgraphcore.js\"></script>\n    <script type=\"text/javascript\" src=\"https://cdn.jsdelivr.net/npm/mathjax@3/es5/tex-chtml.js\"></script>\n    </head>\n<body>\n<div id=\"box\" class=\"jxgbox\"></div>\n</body>\n</html>",
       "js": "\nJXG.Options.text.useMathJax = true;\nvar brd = JXG.JSXGraph.initBoard('box', {boundingbox: [-8, 8, 8, -8], axis:true,  showCopyright:false});\nvar a = brd.create('slider', [[3, -3], [6,-3], [-3, 1, 3]], {name:'a', snapWidth: 0.1});\nvar b = brd.create('slider', [[3, -4], [6,-4], [-3, 0, 3]], {name:'b', snapWidth: 0.1});\nvar c = brd.create('slider', [[3, -5], [6,-5], [-3, 0, 3]], {name:'c', snapWidth: 0.1});\nvar graph1 = brd.create('functiongraph', [function(x){return a.Value()*x*x + b.Value()*x + c.Value();}, -10, 10]);\nvar text1 = brd.create('text',[-6,2,function(){return '\\\\[y=ax^2+bx+c\\\\]';}]);\n",
       "layout": "IPY_MODEL_119b9787dbc64d7bb2ff9a013e40a421"
      }
     },
     "40177fdf3ab341269c894cf72b73d4e7": {
      "model_module": "@jupyter-widgets/base",
      "model_module_version": "1.2.0",
      "model_name": "LayoutModel",
      "state": {}
     },
     "441ef9c0ca5a4f4d89895294c98b96ac": {
      "model_module": "@jupyter-widgets/base",
      "model_module_version": "1.2.0",
      "model_name": "LayoutModel",
      "state": {}
     },
     "51493d2a443847d8bf7ae130711f4ede": {
      "model_module": "jupyter-divewidgets",
      "model_module_version": "^0.1.5",
      "model_name": "JSWidgetModel",
      "state": {
       "_model_module_version": "^0.1.5",
       "_view_module_version": "^0.1.5",
       "html": "<!DOCTYPE html>\n<html>\n    <head>\n    <style>\n    html, body {\n        height: 100%;\n    }\n    body {\n        width: 100%;\n        display: flex;\n        padding: 0;\n        margin: 0;\n    }\n    .jxgbox {\n        width:100%; \n        flex-grow: 1;\n    }\n    </style>\n    <link rel=\"stylesheet\" type=\"text/css\" href=\"https://jsxgraph.org/distrib/jsxgraph.css\" />\n    <script type=\"text/javascript\" src=\"https://cdn.jsdelivr.net/npm/jsxgraph/distrib/jsxgraphcore.js\"></script>\n    <script type=\"text/javascript\" src=\"https://cdn.jsdelivr.net/npm/mathjax@3/es5/tex-chtml.js\"></script>\n    </head>\n<body>\n<div id=\"box\" class=\"jxgbox\"></div>\n</body>\n</html>",
       "js": "\nJXG.Options.text.useMathJax = true;\nvar board = JXG.JSXGraph.initBoard('box', {boundingbox: [-1, 15, 17, -3], axis:true, grid:true, showCopyright:false});\nvar a = board.create('slider', [[1, -1], [5,-1], [2, 4, 7]], {name:'a', snapWidth: 0.1});\nvar b = board.create('slider', [[8, -1], [12,-1], [2, 3, 7]], {name:'b', snapWidth: 0.1});\n\nvar s = board.create('point', [6,6],{face:\"\", withLabel:false});\nvar right_ab = board.create('transform', [()=>a.Value()+b.Value(),0], {type:'translate'});\nvar right_a = board.create('transform', [()=>a.Value(),0], {type:'translate'});\nvar right_b = board.create('transform', [()=>b.Value(),0], {type:'translate'});\nvar left_a = board.create('transform', [()=> -a.Value(),0], {type:'translate'});\nvar left_b = board.create('transform', [()=> -b.Value(),0], {type:'translate'});\nvar up_ab = board.create('transform', [0,()=>a.Value()+b.Value()], {type:'translate'});\nvar up_a = board.create('transform', [0,()=>a.Value()], {type:'translate'});\nvar up_b = board.create('transform', [0,()=>b.Value()], {type:'translate'});\nvar down_a = board.create('transform', [0,()=> -a.Value()], {type:'translate'});\nvar down_b = board.create('transform', [0,()=> -b.Value()], {type:'translate'});\nvar no_move = board.create('transform', [0,0], {type:'translate'});\n\n\nvar tri1 = [];\ntri1[0] = board.create('point', [s, up_b], {visible: true, size:2, name:'A', label:{offset:[-10,10]}});\ntri1[1] = board.create('point', [tri1[0], down_b], {visible: true, size:2, name:'C', label:{offset:[-10,-10]}});\ntri1[2] = board.create('point', [tri1[0], [down_b,right_a]], {visible: true, size:2, name:'B', label:{offset:[10,0]}});\nvar po1 = board.create('polygon',[tri1[0], tri1[1],tri1[2]], \n                        {withLines: true, fillColor:'none', highlightFillColor:'none',\n                         vertices:{face:'', withLabel: false},\n                         borders: {strokeWidth:1, strokeColor:'black'}});\n\nboard.create('segment',[tri1[0],tri1[1]],{strokeWidth:0, withLabel: true, name:'b', label:{offset:[-10, b.Value()/2]}});\nboard.create('segment',[tri1[1],tri1[2]],{strokeWidth:0, withLabel: true, name:'a', label:{offset:[a.Value()/2, -10]}});\nboard.create('segment',[tri1[2],tri1[0]],{strokeWidth:0, withLabel: true, name:'c', label:{offset:[a.Value()/2-10, b.Value()/2-10]}});\n\n\nvar po_a = board.create('regularpolygon',[tri1[1],tri1[0],4], \n                        {withLines: true, fillColor:'red', highlightFillColor:'none',\n                         vertices:{face:'', withLabel: false},\n                         borders: {strokeWidth:1, strokeColor:'black'}});\n\nvar po_b = board.create('regularpolygon',[tri1[2],tri1[1],4], \n                        {withLines: true, fillColor:'green', highlightFillColor:'none',\n                         vertices:{face:'', withLabel: false},\n                         borders: {strokeWidth:1, strokeColor:'black'}});\n\nvar po_c = board.create('regularpolygon',[tri1[0],tri1[2],4], \n                        {withLines: true, fillColor:'yellow', highlightFillColor:'none',\n                         vertices:{face:'', withLabel: false},\n                         borders: {strokeWidth:1, strokeColor:'black'}});\n\n\nboard.create('text',[()=>s.X()+a.Value()/2,()=>s.Y()-a.Value()/2,function(){\n        return (po_b.Area()).toFixed(2);\n    }],{anchorX: 'middle', anchorY: 'auto'});\n\nboard.create('text',[()=>s.X()-b.Value()/2,()=>s.Y()+b.Value()/2,function(){\n        return (po_a.Area()).toFixed(2);\n    }],{anchorX: 'middle', anchorY: 'auto'});\n    \nboard.create('text',[()=>s.X()+a.Value(),()=>s.Y()+b.Value(),function(){\n        return (po_c.Area()).toFixed(2);\n    }],{anchorX: 'middle', anchorY: 'auto'});\n",
       "layout": "IPY_MODEL_441ef9c0ca5a4f4d89895294c98b96ac"
      }
     },
     "535a18823d064ae789b10fad7252862e": {
      "model_module": "jupyter-divewidgets",
      "model_module_version": "^0.1.5",
      "model_name": "JSWidgetModel",
      "state": {
       "_model_module_version": "^0.1.5",
       "_view_module_version": "^0.1.5",
       "html": "<!DOCTYPE html>\n<html>\n    <head>\n    <style>\n    html, body {\n        height: 100%;\n    }\n    body {\n        width: 100%;\n        display: flex;\n        padding: 0;\n        margin: 0;\n    }\n    .jxgbox {\n        width:100%; \n        flex-grow: 1;\n    }\n    </style>\n    <link rel=\"stylesheet\" type=\"text/css\" href=\"https://jsxgraph.org/distrib/jsxgraph.css\" />\n    <script type=\"text/javascript\" src=\"https://cdn.jsdelivr.net/npm/jsxgraph/distrib/jsxgraphcore.js\"></script>\n    <script type=\"text/javascript\" src=\"https://cdn.jsdelivr.net/npm/mathjax@3/es5/tex-chtml.js\"></script>\n    </head>\n<body>\n<div id=\"box\" class=\"jxgbox\"></div>\n</body>\n</html>",
       "js": "\nJXG.Options.text.useMathJax = true;\nvar brd = JXG.JSXGraph.initBoard('box', {boundingbox: [-10, 10, 10, -10], axis:true,  showCopyright:false});\nvar a = brd.create('slider', [[3, -3], [6,-3], [-5, 1, 5]], {name:'a', snapWidth: 0.1});\nvar b = brd.create('slider', [[3, -4], [6,-4], [-5, 0, 5]], {name:'b', snapWidth: 0.1});\nvar c = brd.create('slider', [[3, -5], [6,-5], [-5, 0, 5]], {name:'c', snapWidth: 0.1});\nvar graph1 = brd.create('functiongraph', [function(x){return a.Value()*x*x + b.Value()*x + c.Value();}, -10, 10]);\nvar line1 = brd.create('line',[[-10,0],[10,0]], {visible: false});\nvar inter1 = brd.create('intersection',[graph1, line1, 0],{name:\"\\\\[x_1\\\\]\"});\nvar inter2 = brd.create('intersection',[graph1, line1, 1],{name:\"\\\\[x_2\\\\]\"});\nvar get_roots = function(a, b, c){\nd=Math.sqrt(b*b-4*a*c);\n\nreturn -b}\n\nvar text1 = brd.create('text',[-8,-6,function(){return '\\\\[y=ax^2+bx+c\\\\]';}]);\nvar text2 = brd.create('text',[3,-6,function(){return '\\\\[b^2-4ac='+(b.Value()*b.Value() - 4*a.Value()*c.Value()).toFixed(2)+'\\\\]'}])\nvar text3 = \n",
       "layout": "IPY_MODEL_58ead89607d54320a85596f54d071ad0"
      }
     },
     "58ead89607d54320a85596f54d071ad0": {
      "model_module": "@jupyter-widgets/base",
      "model_module_version": "1.2.0",
      "model_name": "LayoutModel",
      "state": {}
     },
     "77a717d246504189b10e51c4e3470817": {
      "model_module": "@jupyter-widgets/base",
      "model_module_version": "1.2.0",
      "model_name": "LayoutModel",
      "state": {}
     },
     "885a32e18d6e4f16ac1c5560a59d8f40": {
      "model_module": "@jupyter-widgets/output",
      "model_module_version": "1.0.0",
      "model_name": "OutputModel",
      "state": {
       "layout": "IPY_MODEL_40177fdf3ab341269c894cf72b73d4e7",
       "outputs": [
        {
         "name": "stdout",
         "output_type": "stream",
         "text": "c: 5.00\n"
        }
       ]
      }
     },
     "a01cab22658344ad8fc249cb6bd5232a": {
      "model_module": "@jupyter-widgets/controls",
      "model_module_version": "1.5.0",
      "model_name": "SliderStyleModel",
      "state": {
       "description_width": ""
      }
     },
     "a2593b41cc1342d684c8254f483e32f8": {
      "model_module": "@jupyter-widgets/base",
      "model_module_version": "1.2.0",
      "model_name": "LayoutModel",
      "state": {}
     },
     "a2a38e17c8744b43a422fca4addf6e22": {
      "model_module": "@jupyter-widgets/base",
      "model_module_version": "1.2.0",
      "model_name": "LayoutModel",
      "state": {}
     },
     "af6993f9b9204e62b8c4e74d1919d4a9": {
      "model_module": "@jupyter-widgets/controls",
      "model_module_version": "1.5.0",
      "model_name": "IntSliderModel",
      "state": {
       "description": "a",
       "layout": "IPY_MODEL_14fbe446f73544bf881adcf72e270053",
       "max": 10,
       "style": "IPY_MODEL_a01cab22658344ad8fc249cb6bd5232a",
       "value": 3
      }
     },
     "bfc305e51af745d9b25ed6008e2dde52": {
      "model_module": "jupyter-divewidgets",
      "model_module_version": "^0.1.5",
      "model_name": "JSWidgetModel",
      "state": {
       "_model_module_version": "^0.1.5",
       "_view_module_version": "^0.1.5",
       "html": "<!DOCTYPE html>\n<html>\n    <head>\n    <style>\n    html, body {\n        height: 100%;\n    }\n    body {\n        width: 100%;\n        display: flex;\n        padding: 0;\n        margin: 0;\n    }\n    .jxgbox {\n        width:100%; \n        flex-grow: 1;\n    }\n    </style>\n    <link rel=\"stylesheet\" type=\"text/css\" href=\"https://jsxgraph.org/distrib/jsxgraph.css\" />\n    <script type=\"text/javascript\" src=\"https://cdn.jsdelivr.net/npm/jsxgraph/distrib/jsxgraphcore.js\"></script>\n    <script type=\"text/javascript\" src=\"https://cdn.jsdelivr.net/npm/mathjax@3/es5/tex-chtml.js\"></script>\n    </head>\n<body>\n<div id=\"box\" class=\"jxgbox\"></div>\n</body>\n</html>",
       "js": "\nJXG.Options.text.useMathJax = true;\nvar board = JXG.JSXGraph.initBoard('box', {boundingbox: [-1, 13, 15, -3], axis:true, showCopyright:false});\nvar a = board.create('slider', [[1, -1], [5,-1], [2, 6, 7]], {name:'a', snapWidth: 0.1});\nvar b = board.create('slider', [[8, -1], [12,-1], [2, 3, 7]], {name:'b', snapWidth: 0.1});\nvar m = board.create('slider', [[1, -2], [12,-2], [0, 0, 2]], {name:'move', snapWidth: 0.1, withLabel:false});\nboard.create('text',[1+m.point2.X(),m.point2.Y(),\"move\"],{fixed: true, anchorX: 'middle'});\nvar s = board.create('point', [1,1],{face:\"\", withLabel:false});\nvar right_ab = board.create('transform', [()=>a.Value()+b.Value(),0], {type:'translate'});\nvar right_a = board.create('transform', [()=>a.Value(),0], {type:'translate'});\nvar right_b = board.create('transform', [()=>b.Value(),0], {type:'translate'});\nvar left_a = board.create('transform', [()=> -a.Value(),0], {type:'translate'});\nvar left_b = board.create('transform', [()=> -b.Value(),0], {type:'translate'});\nvar up_ab = board.create('transform', [0,()=>a.Value()+b.Value()], {type:'translate'});\nvar up_a = board.create('transform', [0,()=>a.Value()], {type:'translate'});\nvar up_b = board.create('transform', [0,()=>b.Value()], {type:'translate'});\nvar down_a = board.create('transform', [0,()=> -a.Value()], {type:'translate'});\nvar down_b = board.create('transform', [0,()=> -b.Value()], {type:'translate'});\nvar no_move = board.create('transform', [0,0], {type:'translate'});\n\n\nvar r2 = board.create('point', [s,right_ab], {visible: false});\nvar po0 =  board.create('regularpolygon',[s,r2,4], \n                        {withLines: true, fillColor:'none', highlightFillColor:'none',\n                         vertices:{face:'', withLabel: false},\n                         borders: {strokeWidth:1, strokeColor:'black'}});\n\nvar tri1 = [];\ntri1[0] = board.create('point', [s, up_b], {visible: false});\ntri1[1] = board.create('point', [tri1[0], down_b], {visible: false});\ntri1[2] = board.create('point', [tri1[0], [down_b,right_a]], {visible: false});\nvar po1 = board.create('polygon',[tri1[0],tri1[1],tri1[2]], \n                        {withLines: true, fillColor:'red', highlightFillColor:'none',\n                         vertices:{face:'', withLabel: false},\n                         borders: {strokeWidth:1, strokeColor:'black'}});\n\nboard.create('segment',[tri1[0],tri1[1]],{strokeWidth:0, withLabel: true, name:'b', label:{offset:[-10, b.Value()/2]}});\nboard.create('segment',[tri1[1],tri1[2]],{strokeWidth:0, withLabel: true, name:'a', label:{offset:[a.Value()/2, -10]}});\nboard.create('segment',[tri1[2],tri1[0]],{strokeWidth:0, withLabel: true, name:'c', label:{offset:[a.Value()/2-10, b.Value()/2-10]}});\n\nvar move_tri2 = board.create('transform', [()=>a.Value(), 0], {type:'translate'});\nvar tri2 = [];\ntri2[0] = board.create('point', [s, move_tri2], {visible: false});\ntri2[1] = board.create('point', [tri2[0], right_b], {visible: false});\ntri2[2] = board.create('point', [tri2[0], [right_b,up_a]], {visible: false});\nvar po2 = board.create('polygon',[tri2[0],tri2[1],tri2[2]], \n                        {withLines: true, fillColor:'green', highlightFillColor:'none',\n                         vertices:{face:'', withLabel: false},\n                         borders: {strokeWidth:1, strokeColor:'black'}});\n\n//anchor of tri3 should be changed\n/*\nvar move_tri3 = board.create('transform', [()=>a.Value()+b.Value(), ()=>a.Value()], {type:'translate'});\nvar tri3 = [];\ntri3[0] = board.create('point', [s, move_tri3], {visible: false});\ntri3[1] = board.create('point', [tri3[0], up_b], {visible: false});\ntri3[2] = board.create('point', [tri3[0], [up_b,left_a]], {visible: false});\nvar po3 = board.create('polygon',[tri3[0],tri3[1],tri3[2]], \n                        {withLines: true, fillColor:'blue', highlightFillColor:'none',\n                         vertices:{face:'', withLabel: false},\n                         borders: {strokeWidth:1, strokeColor:'black'}});\n*/\n\nvar move_tri3_2 = board.create('transform', [()=>b.Value(), ()=>a.Value()+b.Value()], {type:'translate'});\nvar tri3_2 = [];\ntri3_2[0] = board.create('point', [s, move_tri3_2], {visible: false});\ntri3_2[1] = board.create('point', [tri3_2[0], right_a], {visible: false});\ntri3_2[2] = board.create('point', [tri3_2[0], [right_a, down_b]], {visible: false});\nvar po3 = board.create('polygon',[tri3_2[0],tri3_2[1],tri3_2[2]], \n                        {withLines: true, fillColor:'blue', highlightFillColor:'none',\n                         vertices:{face:'', withLabel: false},\n                         borders: {strokeWidth:1, strokeColor:'black'}});\n\nvar move_tri4 = board.create('transform', [()=>b.Value(), ()=>a.Value()+b.Value()], {type:'translate'});\nvar tri4 = [];\ntri4[0] = board.create('point', [s, move_tri4], {visible: false});\ntri4[1] = board.create('point', [tri4[0], left_b], {visible: false});\ntri4[2] = board.create('point', [tri4[0], [left_b,down_a]], {visible: false});\nvar po4 = board.create('polygon',[tri4[0],tri4[1],tri4[2]], \n                        {withLines: true, fillColor:'yellow', highlightFillColor:'none',\n                         vertices:{face:'', withLabel: false},\n                         borders: {strokeWidth:1, strokeColor:'black'}});\n\nvar rot_tri2 = board.create('transform', [function(){return m.Value()*Math.PI/4;}, tri2[0]], {type:'rotate'});\nrot_tri2.bindTo([tri2[1],tri2[2]]);\n\nvar rot_tri3 = board.create('transform', [function(){return - m.Value()*Math.PI/4;}, tri3_2[0]], {type:'rotate'});\nrot_tri3.bindTo([tri3_2[1],tri3_2[2]]);\n\nboard.create('segment',[tri2[1], board.create('point', [tri2[1], right_b], {visible: false})],{visible:()=>(m.Value()>=1.99),strokeWidth:1, dash:2});\n\n\nboard.create('text',[()=>s.X()+a.Value()*1/2+b.Value(),()=>s.Y()+b.Value()+1/2*a.Value(),function(){\n        return '\\\\[ a^2 \\\\]';\n    }],{visible: ()=> {return (m.Value()>=1.99);}, anchorX: 'middle', anchorY: 'auto'});\n\nboard.create('text',[()=>s.X()+a.Value()+1/2*b.Value(),()=>s.Y()+1/2*b.Value(),function(){\n    return '\\\\[b^2\\\\]';\n    }],{visible: ()=> {return (m.Value()>=1.99);}, anchorX: 'middle', anchorY: 'auto'});\n\nboard.create('text',[()=>s.X()+1/2*(a.Value()+b.Value()),()=>s.Y()+1/2*(a.Value()+b.Value()),function(){\n    return '\\\\[c^2\\\\]';\n    }],{visible: ()=> {return (m.Value()<0.4);}, anchorX: 'middle', anchorY: 'auto'});\n",
       "layout": "IPY_MODEL_a2a38e17c8744b43a422fca4addf6e22"
      }
     },
     "d88ff1db07614b5584a001599755f559": {
      "model_module": "jupyter-divewidgets",
      "model_module_version": "^0.1.5",
      "model_name": "JSWidgetModel",
      "state": {
       "_model_module_version": "^0.1.5",
       "_view_module_version": "^0.1.5",
       "html": "<!DOCTYPE html>\n<html>\n    <head>\n    <style>\n    html, body {\n        height: 100%;\n    }\n    body {\n        width: 100%;\n        display: flex;\n        padding: 0;\n        margin: 0;\n    }\n    .jxgbox {\n        width:100%; \n        flex-grow: 1;\n    }\n    </style>\n    <link rel=\"stylesheet\" type=\"text/css\" href=\"https://jsxgraph.org/distrib/jsxgraph.css\" />\n    <script type=\"text/javascript\" src=\"https://cdn.jsdelivr.net/npm/jsxgraph/distrib/jsxgraphcore.js\"></script>\n    <script type=\"text/javascript\" src=\"https://cdn.jsdelivr.net/npm/mathjax@3/es5/tex-chtml.js\"></script>\n    </head>\n<body>\n<div id=\"box\" class=\"jxgbox\"></div>\n</body>\n</html>",
       "js": "\nJXG.Options.text.useMathJax = true;\nvar board = JXG.JSXGraph.initBoard('box', {boundingbox: [-1, 13, 15, -3], axis:true, showCopyright:false});\nvar a = board.create('slider', [[1, -1], [5,-1], [2, 6, 7]], {name:'a', snapWidth: 0.1});\nvar b = board.create('slider', [[8, -1], [12,-1], [2, 3, 7]], {name:'b', snapWidth: 0.1});\nvar m = board.create('slider', [[1, -2], [12,-2], [0, 0, 2]], {name:'move', snapWidth: 0.1, withLabel:false});\nboard.create('text',[1+m.point2.X(),m.point2.Y(),\"move\"],{fixed: true, anchorX: 'middle'});\nvar s = board.create('point', [1,1],{face:\"\", withLabel:false});\nvar right_ab = board.create('transform', [()=>a.Value()+b.Value(),0], {type:'translate'});\nvar right_a = board.create('transform', [()=>a.Value(),0], {type:'translate'});\nvar right_b = board.create('transform', [()=>b.Value(),0], {type:'translate'});\nvar left_a = board.create('transform', [()=> -a.Value(),0], {type:'translate'});\nvar left_b = board.create('transform', [()=> -b.Value(),0], {type:'translate'});\nvar up_ab = board.create('transform', [0,()=>a.Value()+b.Value()], {type:'translate'});\nvar up_a = board.create('transform', [0,()=>a.Value()], {type:'translate'});\nvar up_b = board.create('transform', [0,()=>b.Value()], {type:'translate'});\nvar down_a = board.create('transform', [0,()=> -a.Value()], {type:'translate'});\nvar down_b = board.create('transform', [0,()=> -b.Value()], {type:'translate'});\nvar no_move = board.create('transform', [0,0], {type:'translate'});\n\n\nvar r2 = board.create('point', [s,right_ab], {visible: false});\nvar po0 =  board.create('regularpolygon',[s,r2,4], \n                        {withLines: true, fillColor:'none', highlightFillColor:'none',\n                         vertices:{face:'', withLabel: false},\n                         borders: {strokeWidth:1, strokeColor:'black'}});\n\nvar tri1 = [];\ntri1[0] = board.create('point', [s, up_b], {visible: false});\ntri1[1] = board.create('point', [tri1[0], down_b], {visible: false});\ntri1[2] = board.create('point', [tri1[0], [down_b,right_a]], {visible: false});\nvar po1 = board.create('polygon',[tri1[0],tri1[1],tri1[2]], \n                        {withLines: true, fillColor:'red', highlightFillColor:'none',\n                         vertices:{face:'', withLabel: false},\n                         borders: {strokeWidth:1, strokeColor:'black'}});\n\nboard.create('segment',[tri1[0],tri1[1]],{strokeWidth:0, withLabel: true, name:'b', label:{offset:[-10, b.Value()/2]}});\nboard.create('segment',[tri1[1],tri1[2]],{strokeWidth:0, withLabel: true, name:'a', label:{offset:[a.Value()/2, -10]}});\nboard.create('segment',[tri1[2],tri1[0]],{strokeWidth:0, withLabel: true, name:'c', label:{offset:[a.Value()/2-10, b.Value()/2-10]}});\n\nvar move_tri2 = board.create('transform', [()=>a.Value(), ()=>b.Value()*(1-Math.min(m.Value(),1))], {type:'translate'});\nvar tri2 = [];\ntri2[0] = board.create('point', [s, move_tri2], {visible: false});\ntri2[1] = board.create('point', [tri2[0], right_b], {visible: false});\ntri2[2] = board.create('point', [tri2[0], [right_b,up_a]], {visible: false});\nvar po2 = board.create('polygon',[tri2[0],tri2[1],tri2[2]], \n                        {withLines: true, fillColor:'green', highlightFillColor:'none',\n                         vertices:{face:'', withLabel: false},\n                         borders: {strokeWidth:1, strokeColor:'black'}});\n\nvar move_tri3 = board.create('transform', [()=>a.Value()+b.Value()*(Math.max(m.Value(),1)-1), ()=>a.Value()*(Math.max(m.Value(),1)-1)], {type:'translate'});\nvar tri3 = [];\ntri3[0] = board.create('point', [s, move_tri3], {visible: false});\ntri3[1] = board.create('point', [tri3[0], up_b], {visible: false});\ntri3[2] = board.create('point', [tri3[0], [up_b,left_a]], {visible: false});\nvar po3 = board.create('polygon',[tri3[0],tri3[1],tri3[2]], \n                        {withLines: true, fillColor:'blue', highlightFillColor:'none',\n                         vertices:{face:'', withLabel: false},\n                         borders: {strokeWidth:1, strokeColor:'black'}});\n\n\nvar move_tri4 = board.create('transform', [()=>b.Value()+a.Value()*(1-Math.min(m.Value(),1)), ()=>a.Value()+b.Value()], {type:'translate'});\nvar tri4 = [];\ntri4[0] = board.create('point', [s, move_tri4], {visible: false});\ntri4[1] = board.create('point', [tri4[0], left_b], {visible: false});\ntri4[2] = board.create('point', [tri4[0], [left_b,down_a]], {visible: false});\nvar po4 = board.create('polygon',[tri4[0],tri4[1],tri4[2]], \n                        {withLines: true, fillColor:'yellow', highlightFillColor:'none',\n                         vertices:{face:'', withLabel: false},\n                         borders: {strokeWidth:1, strokeColor:'black'}});\n\nboard.create('text',[()=>s.X()+1/2*a.Value(),()=>s.Y()+b.Value()+1/2*a.Value(),function(){\n        return '\\\\[ a^2 \\\\]';\n    }],{visible: ()=> {return (m.Value()<0.3);}, anchorX: 'middle', anchorY: 'auto'});\n\nboard.create('text',[()=>s.X()+a.Value()+1/2*b.Value(),()=>s.Y()+1/2*b.Value(),function(){\n    return '\\\\[b^2\\\\]';\n    }],{visible: ()=> {return (m.Value()<0.3);}, anchorX: 'middle', anchorY: 'auto'});\n\nboard.create('text',[()=>s.X()+1/2*(a.Value()+b.Value()),()=>s.Y()+1/2*(a.Value()+b.Value()),function(){\n    return '\\\\[c^2\\\\]';\n    }],{visible: ()=> {return (m.Value()>1.9);}, anchorX: 'middle', anchorY: 'auto'});\n",
       "layout": "IPY_MODEL_a2593b41cc1342d684c8254f483e32f8"
      }
     },
     "ea6aa16cee0d46e4a1e928d90b7d67ac": {
      "model_module": "@jupyter-widgets/controls",
      "model_module_version": "1.5.0",
      "model_name": "SliderStyleModel",
      "state": {
       "description_width": ""
      }
     }
    },
    "version_major": 2,
    "version_minor": 0
   }
  }
 },
 "nbformat": 4,
 "nbformat_minor": 4
}
