{
 "cells": [
  {
   "cell_type": "code",
   "execution_count": 1,
   "metadata": {
    "deletable": false,
    "editable": false,
    "tags": [
     "remove-cell"
    ]
   },
   "outputs": [],
   "source": [
    "# Initialization cell\n",
    "try:  # for CS1302 JupyterLite pyodide kernel\n",
    "    import piplite\n",
    "\n",
    "    with open(\"requirements.txt\") as f:\n",
    "        for package in f:\n",
    "            package = package.strip()\n",
    "            print(\"Installing\", package)\n",
    "            await piplite.install(package)\n",
    "except ModuleNotFoundError:\n",
    "    pass\n",
    "\n",
    "import math\n",
    "from math import cos, exp, log, pi, sin, tan\n",
    "\n",
    "import jsxgraphs\n",
    "import jupytext\n",
    "import matplotlib.pyplot as plt\n",
    "import numpy as np\n",
    "import otter\n",
    "import sympy as sp\n",
    "from ipywidgets import interact\n",
    "\n",
    "grader = otter.Notebook(\"main.ipynb\")\n",
    "# interactive plot with ipympl\n",
    "%matplotlib widget"
   ]
  },
  {
   "cell_type": "markdown",
   "metadata": {
    "slideshow": {
     "slide_type": "slide"
    }
   },
   "source": [
    "# Lab 2"
   ]
  },
  {
   "cell_type": "markdown",
   "metadata": {
    "slideshow": {
     "slide_type": "-"
    },
    "tags": [
     "remove-cell"
    ]
   },
   "source": [
    "**CS1302 Introduction to Computer Programming**\n",
    "___"
   ]
  },
  {
   "cell_type": "markdown",
   "metadata": {
    "slideshow": {
     "slide_type": "fragment"
    }
   },
   "source": [
    "For this lab, you will create different calculators. We will first show you a demo. Then, it will be your turn to create the calculators."
   ]
  },
  {
   "cell_type": "markdown",
   "metadata": {
    "slideshow": {
     "slide_type": "slide"
    }
   },
   "source": [
    "## Hypotenuse Calculator"
   ]
  },
  {
   "cell_type": "markdown",
   "metadata": {
    "slideshow": {
     "slide_type": "fragment"
    }
   },
   "source": [
    "---\n",
    "\n",
    "**Proposition** \n",
    "\n",
    "By the Pythagoras theorem, given a right-angled triangle,\n",
    "\n",
    "![Right-angled triangle](images/pythagoras.dio.svg)\n",
    "\n",
    "the length of the hypotenuse is\n",
    "\n",
    "$$\n",
    "c = \\sqrt{a^2 + b^2}\n",
    "$$ (hypotenuse)\n",
    "\n",
    "where $a$ and $b$ are the lengths of the other sides of the triangle.\n",
    "\n",
    "---"
   ]
  },
  {
   "cell_type": "markdown",
   "metadata": {},
   "source": [
    "You can verify the theorem using the JSXGraph app below:"
   ]
  },
  {
   "cell_type": "code",
   "execution_count": 2,
   "metadata": {},
   "outputs": [
    {
     "data": {
      "application/vnd.jupyter.widget-view+json": {
       "model_id": "20ba2ea5464a4b82911aa2a2466b2c80",
       "version_major": 2,
       "version_minor": 0
      },
      "text/plain": [
       "JSWidget(value=None, height=600, html='<!DOCTYPE html>\\n<html>\\n    <head>\\n    <style>\\n    html, body {\\n   …"
      ]
     },
     "metadata": {},
     "output_type": "display_data"
    }
   ],
   "source": [
    "jsxgraphs.pythagorean1"
   ]
  },
  {
   "cell_type": "markdown",
   "metadata": {},
   "source": [
    "```{seealso}\n",
    "We developed `divewidgets` to run the Javascript library [JSXGraph](https://jsxgraph.uni-bayreuth.de/). You can click the button `scratch` to show and edit the Javascript code. Other mathematical illustrations created using `divewidgets` can be found [here](https://dive4dec.github.io/lab/?path=divemath%2Fdivemath.ipynb) and will be presented in an upcoming [JSXGraph conference open to the public](https://jsxgraph.uni-bayreuth.de/conf2022/registration/).\n",
    "```"
   ]
  },
  {
   "cell_type": "markdown",
   "metadata": {},
   "source": [
    "The following is an interactive graphical proof:"
   ]
  },
  {
   "cell_type": "code",
   "execution_count": 3,
   "metadata": {},
   "outputs": [
    {
     "data": {
      "application/vnd.jupyter.widget-view+json": {
       "model_id": "ce6f82e6036d4befa63dd1709bf390d0",
       "version_major": 2,
       "version_minor": 0
      },
      "text/plain": [
       "JSWidget(value=None, height=600, html='<!DOCTYPE html>\\n<html>\\n    <head>\\n    <style>\\n    html, body {\\n   …"
      ]
     },
     "metadata": {},
     "output_type": "display_data"
    }
   ],
   "source": [
    "jsxgraphs.pythagorean2"
   ]
  },
  {
   "cell_type": "markdown",
   "metadata": {},
   "source": [
    "Another interactive proof is as follows:"
   ]
  },
  {
   "cell_type": "code",
   "execution_count": 4,
   "metadata": {},
   "outputs": [
    {
     "data": {
      "application/vnd.jupyter.widget-view+json": {
       "model_id": "9cb338b141ee4b24ba96bb46fc6174d1",
       "version_major": 2,
       "version_minor": 0
      },
      "text/plain": [
       "JSWidget(value=None, height=600, html='<!DOCTYPE html>\\n<html>\\n    <head>\\n    <style>\\n    html, body {\\n   …"
      ]
     },
     "metadata": {},
     "output_type": "display_data"
    }
   ],
   "source": [
    "jsxgraphs.pythagorean3"
   ]
  },
  {
   "cell_type": "markdown",
   "metadata": {},
   "source": [
    "We can define the following function to calculate the length `c` of the hypotenuse when given the lengths `a` and `b` of the other sides: "
   ]
  },
  {
   "cell_type": "code",
   "execution_count": 5,
   "metadata": {
    "ExecuteTime": {
     "end_time": "2021-03-20T14:24:41.414382Z",
     "start_time": "2021-03-20T14:24:41.412057Z"
    },
    "slideshow": {
     "slide_type": "fragment"
    }
   },
   "outputs": [],
   "source": [
    "def length_of_hypotenuse(a, b):\n",
    "    c = (a**2 + b**2) ** (0.5)  # Pythagoras\n",
    "    return c"
   ]
  },
  {
   "cell_type": "markdown",
   "metadata": {
    "slideshow": {
     "slide_type": "fragment"
    }
   },
   "source": [
    "```{note}\n",
    "\n",
    "In the above code,\n",
    "- the formula {eq}`hypotenuse` is written as a python expression using the exponentiation operator `**`, and\n",
    "- the variable `c` is assigned to the value of the expression using the assignment operator `=`.\n",
    "\n",
    "```"
   ]
  },
  {
   "cell_type": "markdown",
   "metadata": {
    "slideshow": {
     "slide_type": "subslide"
    }
   },
   "source": [
    "For example, you may be asked to write Line 2, while Line 1 and 3 are given to you:"
   ]
  },
  {
   "cell_type": "markdown",
   "metadata": {
    "slideshow": {
     "slide_type": "fragment"
    }
   },
   "source": [
    "**Exercise** \n",
    "\n",
    "Complete the function below to return the length `c` of the hypotenuse given the lengths `a` and `b`.\n",
    "\n",
    "```{caution}\n",
    "\n",
    "- You should still complete this exercise to get the credit even though the answer was already revealed as a demo. Instead of copy-and-paste the answer, type it yourself.\n",
    "- Note that indentation affects the execution of python code. In particular, the assignment statement must be indented to indicate that it is part of the *body* of the function. \n",
    "```"
   ]
  },
  {
   "cell_type": "code",
   "execution_count": 6,
   "metadata": {
    "ExecuteTime": {
     "end_time": "2021-03-20T14:24:42.977375Z",
     "start_time": "2021-03-20T14:24:42.976117Z"
    },
    "nbgrader": {
     "grade": false,
     "grade_id": "length_of_hypotenuse",
     "locked": false,
     "schema_version": 3,
     "solution": true,
     "task": false
    },
    "slideshow": {
     "slide_type": "-"
    },
    "tags": [
     "remove-output"
    ]
   },
   "outputs": [],
   "source": [
    "def length_of_hypotenuse(a, b):\n",
    "    # math.sqrt fail public test\n",
    "    c = (a ** 2 + b ** 2) ** 0.5\n",
    "    return c"
   ]
  },
  {
   "cell_type": "code",
   "execution_count": 7,
   "metadata": {
    "deletable": false,
    "editable": false
   },
   "outputs": [
    {
     "data": {
      "text/html": [
       "<p><strong><pre style='display: inline;'>length_of_hypotenuse</pre></strong> passed!</p>"
      ],
      "text/plain": [
       "length_of_hypotenuse results: All test cases passed!"
      ]
     },
     "execution_count": 7,
     "metadata": {},
     "output_type": "execute_result"
    }
   ],
   "source": [
    "grader.check(\"length_of_hypotenuse\")"
   ]
  },
  {
   "cell_type": "markdown",
   "metadata": {
    "slideshow": {
     "slide_type": "subslide"
    }
   },
   "source": [
    "We will use `ipywidgets` to let user interact with the calculator more easily:\n",
    "\n",
    "- After running the cell, move the sliders to change the values of `a` and `b`. \n",
    "- Observer that the value of `c` is updated immediately."
   ]
  },
  {
   "cell_type": "code",
   "execution_count": 8,
   "metadata": {
    "ExecuteTime": {
     "end_time": "2021-03-20T14:24:46.386473Z",
     "start_time": "2021-03-20T14:24:46.340180Z"
    },
    "code_folding": [],
    "slideshow": {
     "slide_type": "-"
    },
    "tags": [
     "remove-output"
    ]
   },
   "outputs": [
    {
     "data": {
      "application/vnd.jupyter.widget-view+json": {
       "model_id": "e231ae75ce074c1b87fc93bfa5a7d27c",
       "version_major": 2,
       "version_minor": 0
      },
      "text/plain": [
       "interactive(children=(IntSlider(value=3, description='a', max=10), IntSlider(value=4, description='b', max=10)…"
      ]
     },
     "metadata": {},
     "output_type": "display_data"
    }
   ],
   "source": [
    "# hypotenuse calculator\n",
    "@interact(a=(0, 10, 1), b=(0, 10, 1))\n",
    "def calculate_hypotenuse(a=3, b=4):\n",
    "    print(\"c: {:.2f}\".format(length_of_hypotenuse(a, b)))"
   ]
  },
  {
   "cell_type": "markdown",
   "metadata": {
    "slideshow": {
     "slide_type": "fragment"
    }
   },
   "source": [
    "```{note}\n",
    "\n",
    "The hypotenuse is printed up to 2 decimal places using the format specification `{:.2f}`.\n",
    "\n",
    "```"
   ]
  },
  {
   "cell_type": "markdown",
   "metadata": {
    "slideshow": {
     "slide_type": "subslide"
    }
   },
   "source": [
    "You can check your code with a few cases listed in the test cell below."
   ]
  },
  {
   "cell_type": "markdown",
   "metadata": {
    "slideshow": {
     "slide_type": "slide"
    },
    "tags": []
   },
   "source": [
    "## Quadratic equation"
   ]
  },
  {
   "cell_type": "markdown",
   "metadata": {
    "slideshow": {
     "slide_type": "subslide"
    }
   },
   "source": [
    "### Graphical calculator for parabola"
   ]
  },
  {
   "cell_type": "markdown",
   "metadata": {
    "slideshow": {
     "slide_type": "subslide"
    }
   },
   "source": [
    "---\n",
    "\n",
    "**Definition** Parabola\n",
    "\n",
    "\n",
    "The collection of points $(x,y)$ satisfying the following equation forms a *parabola*:\n",
    "\n",
    "$$\n",
    "y=ax^2+bx+c\n",
    "$$ (parabola)\n",
    "\n",
    "where $a$, $b$, and $c$ are real numbers called the *coefficients*.\n",
    "\n",
    "---"
   ]
  },
  {
   "cell_type": "markdown",
   "metadata": {},
   "source": [
    "The following plots the parabola with difference choices of coefficients. "
   ]
  },
  {
   "cell_type": "code",
   "execution_count": 9,
   "metadata": {},
   "outputs": [
    {
     "data": {
      "application/vnd.jupyter.widget-view+json": {
       "model_id": "41b4c3f6c32443cebdce60f0d6ed489e",
       "version_major": 2,
       "version_minor": 0
      },
      "text/plain": [
       "JSWidget(value=None, height=600, html='<!DOCTYPE html>\\n<html>\\n    <head>\\n    <style>\\n    html, body {\\n   …"
      ]
     },
     "metadata": {},
     "output_type": "display_data"
    }
   ],
   "source": [
    "jsxgraphs.parabola"
   ]
  },
  {
   "cell_type": "markdown",
   "metadata": {
    "slideshow": {
     "slide_type": "fragment"
    }
   },
   "source": [
    "**Exercise** \n",
    "\n",
    "Given the variables `x`, `a`, `b`, and `c` store the $x$-coordinate and the coefficients $a$, $b$, and $c$ respectively, assign `y` the corresponding $y$-coordinate of the parabola {eq}`parabola`."
   ]
  },
  {
   "cell_type": "code",
   "execution_count": 10,
   "metadata": {
    "ExecuteTime": {
     "end_time": "2021-03-20T14:24:54.263505Z",
     "start_time": "2021-03-20T14:24:54.261046Z"
    },
    "nbgrader": {
     "grade": false,
     "grade_id": "get_y",
     "locked": false,
     "schema_version": 3,
     "solution": true,
     "task": false
    },
    "slideshow": {
     "slide_type": "-"
    },
    "tags": [
     "remove-output"
    ]
   },
   "outputs": [],
   "source": [
    "def get_y(x, a, b, c):\n",
    "    y = a * (x ** 2) + b * x + c\n",
    "    return y"
   ]
  },
  {
   "cell_type": "markdown",
   "metadata": {},
   "source": [
    "To test your code:"
   ]
  },
  {
   "cell_type": "code",
   "execution_count": 11,
   "metadata": {
    "deletable": false,
    "editable": false
   },
   "outputs": [
    {
     "data": {
      "text/html": [
       "<p><strong><pre style='display: inline;'>parabola</pre></strong> passed!</p>"
      ],
      "text/plain": [
       "parabola results: All test cases passed!"
      ]
     },
     "execution_count": 11,
     "metadata": {},
     "output_type": "execute_result"
    }
   ],
   "source": [
    "grader.check(\"parabola\")"
   ]
  },
  {
   "cell_type": "markdown",
   "metadata": {},
   "source": [
    "To run the graphical calculator:"
   ]
  },
  {
   "cell_type": "code",
   "execution_count": 12,
   "metadata": {
    "ExecuteTime": {
     "end_time": "2021-03-02T13:26:34.128830Z",
     "start_time": "2021-03-02T13:26:33.719638Z"
    },
    "code_folding": [],
    "slideshow": {
     "slide_type": "subslide"
    },
    "tags": [
     "remove-output"
    ]
   },
   "outputs": [
    {
     "data": {
      "application/vnd.jupyter.widget-view+json": {
       "model_id": "92f7ef2a96e54be4b85686f1dfd788f9",
       "version_major": 2,
       "version_minor": 0
      },
      "text/plain": [
       "interactive(children=(IntSlider(value=0, description='a', max=10, min=-10), IntSlider(value=0, description='b'…"
      ]
     },
     "metadata": {},
     "output_type": "display_data"
    },
    {
     "data": {
      "application/vnd.jupyter.widget-view+json": {
       "model_id": "400a2041fe464dfca957dc22cb366eed",
       "version_major": 2,
       "version_minor": 0
      },
      "image/png": "[encoded data removed]",
      "text/html": [
       "\n",
       "            <div style=\"display: inline-block;\">\n",
       "                <div class=\"jupyter-widgets widget-label\" style=\"text-align: center;\">\n",
       "                    Figure\n",
       "                </div>\n",
       "                <img src='data:image/png;base64,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' width=640.0/>\n",
       "            </div>\n",
       "        "
      ],
      "text/plain": [
       "Canvas(toolbar=Toolbar(toolitems=[('Home', 'Reset original view', 'home', 'home'), ('Back', 'Back to previous …"
      ]
     },
     "metadata": {},
     "output_type": "display_data"
    }
   ],
   "source": [
    "# graphical calculator for parabola\n",
    "fig, ax = plt.subplots()\n",
    "xmin, xmax, ymin, ymax, resolution = -10, 10, -10, 10, 50\n",
    "x = np.linspace(xmin, xmax, resolution)\n",
    "ax.set_title(r\"$y=ax^2+bx+c$\")\n",
    "ax.set_xlabel(r\"$x$\")\n",
    "ax.set_ylabel(r\"$y$\")\n",
    "ax.set_xlim([xmin, xmax])\n",
    "ax.set_ylim([ymin, ymax])\n",
    "ax.grid()\n",
    "(p,) = ax.plot(x, get_y(x, 0, 0, 0))\n",
    "\n",
    "\n",
    "@interact(a=(-10, 10, 1), b=(-10, 10, 1), c=(-10, 10, 1))\n",
    "def plot_parabola(a, b, c):\n",
    "    p.set_ydata(get_y(x, a, b, c))"
   ]
  },
  {
   "cell_type": "markdown",
   "metadata": {
    "slideshow": {
     "slide_type": "slide"
    },
    "tags": []
   },
   "source": [
    "### Quadratic equation solver"
   ]
  },
  {
   "cell_type": "markdown",
   "metadata": {},
   "source": [
    "![quadratic-equation-solver](images/quadratic.dio.svg)"
   ]
  },
  {
   "cell_type": "markdown",
   "metadata": {
    "slideshow": {
     "slide_type": "subslide"
    }
   },
   "source": [
    "---\n",
    "\n",
    "**Proposition**\n",
    "\n",
    "For the quadratic equation\n",
    "\n",
    "$$\n",
    "ax^2+bx+c=0,\n",
    "$$ (quadratic)\n",
    "the *roots* (solutions for $x$) are give by\n",
    "\n",
    "$$\n",
    "\\frac{-b-\\sqrt{b^2-4ac}}{2a},\\frac{-b+\\sqrt{b^2-4ac}}{2a}.\n",
    "$$ (quadratic_roots)\n",
    "\n",
    "---"
   ]
  },
  {
   "cell_type": "markdown",
   "metadata": {
    "slideshow": {
     "slide_type": "fragment"
    }
   },
   "source": [
    "**Exercise** \n",
    "\n",
    "Assign to `root1` and `root2` the values of the first and second roots above respectively."
   ]
  },
  {
   "cell_type": "code",
   "execution_count": 13,
   "metadata": {
    "ExecuteTime": {
     "end_time": "2021-03-20T14:25:25.676812Z",
     "start_time": "2021-03-20T14:25:25.673522Z"
    },
    "nbgrader": {
     "grade": false,
     "grade_id": "get_roots",
     "locked": false,
     "schema_version": 3,
     "solution": true,
     "task": false
    },
    "slideshow": {
     "slide_type": "fragment"
    },
    "tags": [
     "remove-output"
    ]
   },
   "outputs": [],
   "source": [
    "def get_roots(a, b, c):\n",
    "    delta = b ** 2 - 4 * a * c\n",
    "    root1 = (-b - delta ** 0.5) / (2 * a)\n",
    "    root2 = (-b + delta ** 0.5) / (2 * a)\n",
    "    return root1, root2"
   ]
  },
  {
   "cell_type": "markdown",
   "metadata": {},
   "source": [
    "To test your code:"
   ]
  },
  {
   "cell_type": "code",
   "execution_count": 14,
   "metadata": {
    "deletable": false,
    "editable": false
   },
   "outputs": [
    {
     "data": {
      "text/html": [
       "<p><strong><pre style='display: inline;'>roots</pre></strong> passed!</p>"
      ],
      "text/plain": [
       "roots results: All test cases passed!"
      ]
     },
     "execution_count": 14,
     "metadata": {},
     "output_type": "execute_result"
    }
   ],
   "source": [
    "grader.check(\"roots\")"
   ]
  },
  {
   "cell_type": "markdown",
   "metadata": {},
   "source": [
    "To run the calculator:"
   ]
  },
  {
   "cell_type": "code",
   "execution_count": 15,
   "metadata": {
    "ExecuteTime": {
     "end_time": "2021-03-20T14:25:30.720050Z",
     "start_time": "2021-03-20T14:25:30.689142Z"
    },
    "code_folding": [
     0
    ],
    "slideshow": {
     "slide_type": "fragment"
    },
    "tags": [
     "remove-output"
    ]
   },
   "outputs": [
    {
     "data": {
      "application/vnd.jupyter.widget-view+json": {
       "model_id": "39ff0948d5b941a5905811066c821e85",
       "version_major": 2,
       "version_minor": 0
      },
      "text/plain": [
       "interactive(children=(IntSlider(value=1, description='a', max=10, min=-10), IntSlider(value=2, description='b'…"
      ]
     },
     "metadata": {},
     "output_type": "display_data"
    }
   ],
   "source": [
    "# quadratic equations solver\n",
    "@interact(a=(-10, 10, 1), b=(-10, 10, 1), c=(-10, 10, 1))\n",
    "def quadratic_equation_solver(a=1, b=2, c=1):\n",
    "    print(\"Roots: {}, {}\".format(*get_roots(a, b, c)))"
   ]
  },
  {
   "cell_type": "markdown",
   "metadata": {
    "slideshow": {
     "slide_type": "slide"
    },
    "tags": []
   },
   "source": [
    "## Number conversion"
   ]
  },
  {
   "cell_type": "markdown",
   "metadata": {
    "slideshow": {
     "slide_type": "subslide"
    }
   },
   "source": [
    "### Byte-to-Decimal calculator"
   ]
  },
  {
   "cell_type": "markdown",
   "metadata": {
    "slideshow": {
     "slide_type": "-"
    }
   },
   "source": [
    "![byte-to-decimal](images/byte-to-decimal.dio.svg)"
   ]
  },
  {
   "cell_type": "markdown",
   "metadata": {
    "slideshow": {
     "slide_type": "subslide"
    }
   },
   "source": [
    "Denote a binary number stored in a byte ($8$ bits) as\n",
    "\n",
    "$$ \n",
    "b_7\\circ b_6\\circ b_5\\circ b_4\\circ b_3\\circ b_2\\circ b_1\\circ b_0, \n",
    "$$\n",
    "where $\\circ$ concatenates $b_i$'s together into a binary string."
   ]
  },
  {
   "cell_type": "markdown",
   "metadata": {
    "slideshow": {
     "slide_type": "fragment"
    }
   },
   "source": [
    "The binary string can be converted to a decimal number by the formula\n",
    "\n",
    "$$ \n",
    "b_7\\cdot 2^7 + b_6\\cdot 2^6 + b_5\\cdot 2^5 + b_4\\cdot 2^4 + b_3\\cdot 2^3 + b_2\\cdot 2^2 + b_1\\cdot 2^1 + b_0\\cdot 2^0. \n",
    "$$"
   ]
  },
  {
   "cell_type": "markdown",
   "metadata": {
    "slideshow": {
     "slide_type": "fragment"
    }
   },
   "source": [
    "E.g., the binary string `'11111111'` is the largest integer represented by a byte:\n",
    "\n",
    "$$\n",
    "2^7+2^6+2^5+2^4+2^3+2^2+2^1+2^0=255=2^8-1.\n",
    "$$"
   ]
  },
  {
   "cell_type": "markdown",
   "metadata": {
    "slideshow": {
     "slide_type": "fragment"
    }
   },
   "source": [
    "**Exercise** \n",
    "\n",
    "Assign to `decimal` the *integer* value represented by the binary sequence `b7,b6,b5,b4,b3,b2,b1,b0` of *characters* `'0'` or `'1'`."
   ]
  },
  {
   "cell_type": "code",
   "execution_count": 16,
   "metadata": {
    "ExecuteTime": {
     "end_time": "2021-03-20T14:25:34.448688Z",
     "start_time": "2021-03-20T14:25:34.444753Z"
    },
    "nbgrader": {
     "grade": false,
     "grade_id": "byte_to_decimal",
     "locked": false,
     "schema_version": 3,
     "solution": true,
     "task": false
    },
    "slideshow": {
     "slide_type": "fragment"
    },
    "tags": [
     "remove-output"
    ]
   },
   "outputs": [],
   "source": [
    "def byte_to_decimal(b7, b6, b5, b4, b3, b2, b1, b0):\n",
    "    \"\"\"\n",
    "    Parameters\n",
    "    ----------\n",
    "    b7, ..., b0: single characters either '0' or '1'.\n",
    "    \"\"\"\n",
    "    o = lambda b: ord(b) - 48\n",
    "    decimal = (o(b7) << 7) + (o(b6) << 6) + (o(b5) << 5) + (o(b4) << 4) + \\\n",
    "        (o(b3) << 3) + (o(b2) << 2) + (o(b1) << 1) + o(b0)\n",
    "    return decimal"
   ]
  },
  {
   "cell_type": "markdown",
   "metadata": {},
   "source": [
    "To test your code:"
   ]
  },
  {
   "cell_type": "code",
   "execution_count": 17,
   "metadata": {
    "deletable": false,
    "editable": false
   },
   "outputs": [
    {
     "data": {
      "text/html": [
       "<p><strong><pre style='display: inline;'>byte_to_decimal</pre></strong> passed!</p>"
      ],
      "text/plain": [
       "byte_to_decimal results: All test cases passed!"
      ]
     },
     "execution_count": 17,
     "metadata": {},
     "output_type": "execute_result"
    }
   ],
   "source": [
    "grader.check(\"byte_to_decimal\")"
   ]
  },
  {
   "cell_type": "markdown",
   "metadata": {},
   "source": [
    "To run the calculator:"
   ]
  },
  {
   "cell_type": "code",
   "execution_count": 18,
   "metadata": {
    "ExecuteTime": {
     "end_time": "2021-03-20T14:25:36.463010Z",
     "start_time": "2021-03-20T14:25:36.3364Z"
    },
    "code_folding": [
     0
    ],
    "tags": [
     "remove-output"
    ]
   },
   "outputs": [
    {
     "data": {
      "application/vnd.jupyter.widget-view+json": {
       "model_id": "45ed18868b4f46e59791ac760d042f5c",
       "version_major": 2,
       "version_minor": 0
      },
      "text/plain": [
       "interactive(children=(Dropdown(description='b7', options=('0', '1'), value='0'), Dropdown(description='b6', op…"
      ]
     },
     "metadata": {},
     "output_type": "display_data"
    }
   ],
   "source": [
    "# byte-to-decimal calculator\n",
    "bit = [\"0\", \"1\"]\n",
    "\n",
    "\n",
    "@interact(b7=bit, b6=bit, b5=bit, b4=bit, b3=bit, b2=bit, b1=bit, b0=bit)\n",
    "def convert_byte_to_decimal(b7, b6, b5, b4, b3, b2, b1, b0):\n",
    "    print(\"decimal:\", byte_to_decimal(b7, b6, b5, b4, b3, b2, b1, b0))"
   ]
  },
  {
   "cell_type": "markdown",
   "metadata": {
    "slideshow": {
     "slide_type": "subslide"
    }
   },
   "source": [
    "### Decimal-to-Byte calculator"
   ]
  },
  {
   "cell_type": "markdown",
   "metadata": {
    "slideshow": {
     "slide_type": "-"
    }
   },
   "source": [
    "![decimal-to-byte](images/decimal-to-byte.dio.svg)"
   ]
  },
  {
   "cell_type": "markdown",
   "metadata": {
    "slideshow": {
     "slide_type": "subslide"
    }
   },
   "source": [
    "**Exercise** Assign to `byte` a *string of 8 bits* that represents the value of `decimal`, a non-negative decimal integer from $0$ to $2^8-1=255$.  \n",
    "\n",
    "```{hint}\n",
    "\n",
    "Use the operators `//` and `%`.\n",
    "\n",
    "```"
   ]
  },
  {
   "cell_type": "code",
   "execution_count": 19,
   "metadata": {
    "ExecuteTime": {
     "end_time": "2021-03-20T14:25:40.354594Z",
     "start_time": "2021-03-20T14:25:40.350920Z"
    },
    "nbgrader": {
     "grade": false,
     "grade_id": "decimal_to_byte",
     "locked": false,
     "schema_version": 3,
     "solution": true,
     "task": false
    },
    "slideshow": {
     "slide_type": "-"
    },
    "tags": [
     "remove-output"
    ]
   },
   "outputs": [],
   "source": [
    "def decimal_to_byte(decimal):\n",
    "    byte = \"\"\n",
    "    for i in range(8):\n",
    "        byte = chr((decimal & 1) + 48) + byte\n",
    "        decimal >>= 1\n",
    "    return byte"
   ]
  },
  {
   "cell_type": "markdown",
   "metadata": {},
   "source": [
    "To test your code:"
   ]
  },
  {
   "cell_type": "code",
   "execution_count": 20,
   "metadata": {
    "deletable": false,
    "editable": false
   },
   "outputs": [
    {
     "data": {
      "text/html": [
       "<p><strong><pre style='display: inline;'>decimal_to_byte</pre></strong> passed!</p>"
      ],
      "text/plain": [
       "decimal_to_byte results: All test cases passed!"
      ]
     },
     "execution_count": 20,
     "metadata": {},
     "output_type": "execute_result"
    }
   ],
   "source": [
    "grader.check(\"decimal_to_byte\")"
   ]
  },
  {
   "cell_type": "markdown",
   "metadata": {},
   "source": [
    "To run the calculator:"
   ]
  },
  {
   "cell_type": "code",
   "execution_count": 21,
   "metadata": {
    "ExecuteTime": {
     "end_time": "2021-03-20T14:25:41.519031Z",
     "start_time": "2021-03-20T14:25:41.500298Z"
    },
    "code_folding": [
     0
    ],
    "slideshow": {
     "slide_type": "fragment"
    },
    "tags": [
     "remove-output"
    ]
   },
   "outputs": [
    {
     "data": {
      "application/vnd.jupyter.widget-view+json": {
       "model_id": "e065aacf15f247c2b68cebdc3c6bccf7",
       "version_major": 2,
       "version_minor": 0
      },
      "text/plain": [
       "interactive(children=(IntSlider(value=0, description='decimal', max=255), Output()), _dom_classes=('widget-int…"
      ]
     },
     "metadata": {},
     "output_type": "display_data"
    }
   ],
   "source": [
    "# decimal-to-byte calculator\n",
    "@interact(decimal=(0, 255, 1))\n",
    "def convert_decimal_to_byte(decimal=0):\n",
    "    print(\"byte:\", decimal_to_byte(decimal))"
   ]
  },
  {
   "cell_type": "markdown",
   "metadata": {
    "tags": []
   },
   "source": [
    "## Symbolic calculators"
   ]
  },
  {
   "cell_type": "markdown",
   "metadata": {},
   "source": [
    "Can we do complicated arithmetics with python. What about Calculus?  "
   ]
  },
  {
   "cell_type": "markdown",
   "metadata": {},
   "source": [
    "$$\n",
    "\\int \\tan(x)\\, dx = \\color{red}{?}\n",
    "$$"
   ]
  },
  {
   "cell_type": "markdown",
   "metadata": {},
   "source": [
    "Try [SymPy Gamma](https://gamma.sympy.org/input/?i=integrate%28tan%28x%29%29) or [SymPy Beta](https://sympy-beta.vercel.app/input/integrate%28tan%28x%29%29)."
   ]
  },
  {
   "cell_type": "markdown",
   "metadata": {},
   "source": [
    "```{tip}\n",
    "\n",
    "- Take a look at the different panels to learn about the solution: `Steps`, `Plot`, and `Derivative`.\n",
    "- Try different [random examples](https://gamma.sympy.org/).\n",
    "\n",
    "```"
   ]
  },
  {
   "cell_type": "markdown",
   "metadata": {},
   "source": [
    "**How does SymPy Gamma work?**"
   ]
  },
  {
   "cell_type": "markdown",
   "metadata": {},
   "source": [
    "- [SymPy Gamma](https://gamma.sympy.org/) is a web application running [SymPy](https://docs.sympy.org/latest/index.html), which is a python library for symbolic computation.\n",
    "- [SymPy Beta](https://github.com/eagleoflqj/sympy_beta) is a fork of SymPy Gamma that can run totally in the browser."
   ]
  },
  {
   "cell_type": "markdown",
   "metadata": {},
   "source": [
    "**How to use SymPy?**"
   ]
  },
  {
   "cell_type": "markdown",
   "metadata": {},
   "source": [
    "The following line in the initialization cell imports the library:\n",
    "\n",
    "```python\n",
    "import sympy as sp\n",
    "```"
   ]
  },
  {
   "cell_type": "markdown",
   "metadata": {},
   "source": [
    "We need to define a symbolic variable and assign it to a python variable."
   ]
  },
  {
   "cell_type": "code",
   "execution_count": 22,
   "metadata": {},
   "outputs": [
    {
     "data": {
      "text/latex": [
       "$\\displaystyle x$"
      ],
      "text/plain": [
       "x"
      ]
     },
     "execution_count": 22,
     "metadata": {},
     "output_type": "execute_result"
    }
   ],
   "source": [
    "x = sp.symbols(\"x\")\n",
    "x"
   ]
  },
  {
   "cell_type": "markdown",
   "metadata": {},
   "source": [
    "The SymPy expression for $\\tan(x)$ is:"
   ]
  },
  {
   "cell_type": "code",
   "execution_count": 23,
   "metadata": {},
   "outputs": [
    {
     "data": {
      "text/latex": [
       "$\\displaystyle \\tan{\\left(x \\right)}$"
      ],
      "text/plain": [
       "tan(x)"
      ]
     },
     "execution_count": 23,
     "metadata": {},
     "output_type": "execute_result"
    }
   ],
   "source": [
    "f = sp.tan(x)\n",
    "f"
   ]
  },
  {
   "cell_type": "markdown",
   "metadata": {},
   "source": [
    "To compute the integration:\n",
    "\n",
    "$$\n",
    "\\int f(x) dx\n",
    "$$"
   ]
  },
  {
   "cell_type": "code",
   "execution_count": 24,
   "metadata": {},
   "outputs": [
    {
     "data": {
      "text/latex": [
       "$\\displaystyle - \\log{\\left(\\cos{\\left(x \\right)} \\right)}$"
      ],
      "text/plain": [
       "-log(cos(x))"
      ]
     },
     "execution_count": 24,
     "metadata": {},
     "output_type": "execute_result"
    }
   ],
   "source": [
    "g = sp.integrate(f)\n",
    "g"
   ]
  },
  {
   "cell_type": "markdown",
   "metadata": {},
   "source": [
    "To compute the derivative:\n",
    "\n",
    "$$\n",
    "\\frac{d}{dx}g(x)\n",
    "$$"
   ]
  },
  {
   "cell_type": "code",
   "execution_count": 25,
   "metadata": {},
   "outputs": [
    {
     "data": {
      "text/latex": [
       "$\\displaystyle \\frac{\\sin{\\left(x \\right)}}{\\cos{\\left(x \\right)}}$"
      ],
      "text/plain": [
       "sin(x)/cos(x)"
      ]
     },
     "execution_count": 25,
     "metadata": {},
     "output_type": "execute_result"
    }
   ],
   "source": [
    "diff_g = sp.diff(g)\n",
    "diff_g"
   ]
  },
  {
   "cell_type": "markdown",
   "metadata": {},
   "source": [
    "The answer can be simplified as expected:"
   ]
  },
  {
   "cell_type": "code",
   "execution_count": 26,
   "metadata": {},
   "outputs": [
    {
     "data": {
      "text/latex": [
       "$\\displaystyle \\tan{\\left(x \\right)}$"
      ],
      "text/plain": [
       "tan(x)"
      ]
     },
     "execution_count": 26,
     "metadata": {},
     "output_type": "execute_result"
    }
   ],
   "source": [
    "diff_g.simplify()"
   ]
  },
  {
   "cell_type": "markdown",
   "metadata": {},
   "source": [
    "To plot the functions:"
   ]
  },
  {
   "cell_type": "code",
   "execution_count": 27,
   "metadata": {},
   "outputs": [
    {
     "data": {
      "application/vnd.jupyter.widget-view+json": {
       "model_id": "bb12caaebd904e3facbaa162fdcc1b5f",
       "version_major": 2,
       "version_minor": 0
      },
      "image/png": "[encoded data removed]",
      "text/html": [
       "\n",
       "            <div style=\"display: inline-block;\">\n",
       "                <div class=\"jupyter-widgets widget-label\" style=\"text-align: center;\">\n",
       "                    Figure\n",
       "                </div>\n",
       "                <img src='data:image/png;base64,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' width=640.0/>\n",
       "            </div>\n",
       "        "
      ],
      "text/plain": [
       "Canvas(toolbar=Toolbar(toolitems=[('Home', 'Reset original view', 'home', 'home'), ('Back', 'Back to previous …"
      ]
     },
     "metadata": {},
     "output_type": "display_data"
    }
   ],
   "source": [
    "p = sp.plot(f, g, (x, -2 * sp.pi / 5, 2 * sp.pi / 5), ylabel=\"y\", legend=True)"
   ]
  },
  {
   "cell_type": "markdown",
   "metadata": {},
   "source": [
    "**Exercise**\n",
    "\n",
    "Using SymPy expressions\n",
    "\n",
    "- assign to `x` a SymPy variable named `\"x\"`,\n",
    "- assign to `f` the expression $\\frac{1}{\\sqrt{1 - x^2}}$ in terms of `x`,\n",
    "- assign to `g` the result of $\\int \\frac{1}{\\sqrt{1 - x^2}} dx$, and\n",
    "- *optionally*, plot `f` and `g` for $x\\in \\left[-\\frac45, \\frac45\\right]$.\n",
    "\n",
    "```{caution}\n",
    "\n",
    "Use `sp.sqrt` or `**(sp.S(1)/2)` for square root instead of `**0.5`. See [SymPy gotchas](https://docs.sympy.org/latest/gotchas.html).\n",
    "\n",
    "```"
   ]
  },
  {
   "cell_type": "code",
   "execution_count": 28,
   "metadata": {
    "deletable": false,
    "editable": false,
    "tags": []
   },
   "outputs": [],
   "source": [
    "import sympy as sp"
   ]
  },
  {
   "cell_type": "code",
   "execution_count": 29,
   "metadata": {
    "tags": []
   },
   "outputs": [
    {
     "data": {
      "application/vnd.jupyter.widget-view+json": {
       "model_id": "f33dc60207194cf8b4aef1aea3f4071d",
       "version_major": 2,
       "version_minor": 0
      },
      "image/png": "[encoded data removed]",
      "text/html": [
       "\n",
       "            <div style=\"display: inline-block;\">\n",
       "                <div class=\"jupyter-widgets widget-label\" style=\"text-align: center;\">\n",
       "                    Figure\n",
       "                </div>\n",
       "                <img src='data:image/png;base64,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' width=640.0/>\n",
       "            </div>\n",
       "        "
      ],
      "text/plain": [
       "Canvas(toolbar=Toolbar(toolitems=[('Home', 'Reset original view', 'home', 'home'), ('Back', 'Back to previous …"
      ]
     },
     "metadata": {},
     "output_type": "display_data"
    }
   ],
   "source": [
    "x = sp.symbols(\"x\")\n",
    "f = 1 / sp.sqrt(1 - x ** sp.S(2))\n",
    "g = sp.integrate(f)\n",
    "p = sp.plot(f, g, (x, -sp.S(4) / 5, sp.S(4) / 5), ylabel=\"y\", legend=True)"
   ]
  },
  {
   "cell_type": "markdown",
   "metadata": {},
   "source": [
    "The following test should plot your expression `f` in SymPy."
   ]
  },
  {
   "cell_type": "code",
   "execution_count": 30,
   "metadata": {
    "deletable": false,
    "editable": false
   },
   "outputs": [
    {
     "data": {
      "text/html": [
       "<p><strong><pre style='display: inline;'>sympy</pre></strong> passed!</p>"
      ],
      "text/plain": [
       "sympy results: All test cases passed!"
      ]
     },
     "execution_count": 30,
     "metadata": {},
     "output_type": "execute_result"
    }
   ],
   "source": [
    "grader.check(\"sympy\")"
   ]
  },
  {
   "cell_type": "markdown",
   "metadata": {
    "editable": false,
    "tags": [
     "remove-cell"
    ]
   },
   "source": [
    "## Submission\n",
    "\n",
    "Make sure you have run all cells in your notebook in order before running the cell below, so that all images/graphs appear in the output. The cell below will generate a zip file for you to submit. **Please save before exporting!**"
   ]
  },
  {
   "cell_type": "code",
   "execution_count": 31,
   "metadata": {
    "editable": true,
    "tags": []
   },
   "outputs": [],
   "source": [
    "# extra files to submit\n",
    "extra_files = [\"jsxgraphs.py\", \"images/byte-to-decimal.dio.svg\",\n",
    "                    \"images/decimal-to-byte.dio.svg\", \"images/pythagoras.dio.svg\",\n",
    "                    \"images/quadratic.dio.svg\"]"
   ]
  },
  {
   "cell_type": "code",
   "execution_count": 32,
   "metadata": {
    "editable": false,
    "tags": []
   },
   "outputs": [],
   "source": [
    "# Generate the source main.py necessary for grading and similarity check.\n",
    "jupytext.write(jupytext.read(\"main.ipynb\"), \"main.py\", fmt=\"py:percent\")"
   ]
  },
  {
   "cell_type": "code",
   "execution_count": 33,
   "metadata": {
    "editable": true,
    "tags": []
   },
   "outputs": [
    {
     "data": {
      "text/html": [
       "\n",
       "            <p>Your submission has been exported. Click <a href=\"main_2022_09_19T12_26_06_007597.zip\" download=\"main_2022_09_19T12_26_06_007597.zip\" target=\"_blank\">here</a>\n",
       "            to download the zip file.</p>\n",
       "            "
      ],
      "text/plain": [
       "<IPython.core.display.HTML object>"
      ]
     },
     "metadata": {},
     "output_type": "display_data"
    }
   ],
   "source": [
    "# Generate the zip file to submit.\n",
    "grader.export(pdf=False, run_tests=False, files=[\"main.py\", *extra_files])"
   ]
  },
  {
   "cell_type": "code",
   "execution_count": null,
   "metadata": {},
   "outputs": [],
   "source": []
  }
 ],
 "metadata": {
  "celltoolbar": "Create Assignment",
  "kernelspec": {
   "display_name": "Python 3 (ipykernel)",
   "language": "python",
   "name": "python3"
  },
  "language_info": {
   "codemirror_mode": {
    "name": "ipython",
    "version": 3
   },
   "file_extension": ".py",
   "mimetype": "text/x-python",
   "name": "python",
   "nbconvert_exporter": "python",
   "pygments_lexer": "ipython3",
   "version": "3.10.6"
  },
  "latex_envs": {
   "LaTeX_envs_menu_present": true,
   "autoclose": false,
   "autocomplete": true,
   "bibliofile": "biblio.bib",
   "cite_by": "apalike",
   "current_citInitial": 1,
   "eqLabelWithNumbers": true,
   "eqNumInitial": 1,
   "hotkeys": {
    "equation": "Ctrl-E",
    "itemize": "Ctrl-I"
   },
   "labels_anchors": false,
   "latex_user_defs": false,
   "report_style_numbering": false,
   "user_envs_cfg": false
  },
  "otter": {
   "OK_FORMAT": true,
   "tests": {
    "byte_to_decimal": {
     "name": "byte_to_decimal",
     "points": null,
     "suites": [
      {
       "cases": [
        {
         "code": ">>> def test_byte_to_decimal(decimal, b7, b6, b5, b4, b3, b2, b1, b0):\n...     decimal_ = byte_to_decimal(b7, b6, b5, b4, b3, b2, b1, b0)\n...     assert decimal == decimal_ and isinstance(decimal_, int)\n>>> \n>>> \n>>> test_byte_to_decimal(38, \"0\", \"0\", \"1\", \"0\", \"0\", \"1\", \"1\", \"0\")\n>>> test_byte_to_decimal(20, \"0\", \"0\", \"0\", \"1\", \"0\", \"1\", \"0\", \"0\")\n>>> test_byte_to_decimal(22, \"0\", \"0\", \"0\", \"1\", \"0\", \"1\", \"1\", \"0\")\n",
         "hidden": false,
         "locked": false
        }
       ],
       "scored": true,
       "setup": "",
       "teardown": "",
       "type": "doctest"
      }
     ]
    },
    "decimal_to_byte": {
     "name": "decimal_to_byte",
     "points": null,
     "suites": [
      {
       "cases": [
        {
         "code": ">>> def test_decimal_to_byte(byte, decimal):\n...     byte_ = decimal_to_byte(decimal)\n...     assert byte == byte_ and isinstance(byte, str) and len(byte) == 8\n>>> \n>>> \n>>> test_decimal_to_byte(\"01100111\", 103)\n>>> test_decimal_to_byte(\"00000011\", 3)\n>>> test_decimal_to_byte(\"00011100\", 28)\n",
         "hidden": false,
         "locked": false
        }
       ],
       "scored": true,
       "setup": "",
       "teardown": "",
       "type": "doctest"
      }
     ]
    },
    "length_of_hypotenuse": {
     "name": "length_of_hypotenuse",
     "points": null,
     "suites": [
      {
       "cases": [
        {
         "code": ">>> import numpy as np\n>>> \n>>> assert np.isclose(length_of_hypotenuse(0, 0), 0)\n>>> assert np.isclose(length_of_hypotenuse(3, 4), 5)\n",
         "hidden": false,
         "locked": false
        }
       ],
       "scored": true,
       "setup": "",
       "teardown": "",
       "type": "doctest"
      }
     ]
    },
    "parabola": {
     "name": "parabola",
     "points": null,
     "suites": [
      {
       "cases": [
        {
         "code": ">>> import numpy as np\n>>> \n>>> assert np.isclose(get_y(0, 0, 0, 0), 0)\n>>> assert np.isclose(get_y(0, 1, 2, 1), 1)\n",
         "hidden": false,
         "locked": false
        }
       ],
       "scored": true,
       "setup": "",
       "teardown": "",
       "type": "doctest"
      }
     ]
    },
    "roots": {
     "name": "roots",
     "points": null,
     "suites": [
      {
       "cases": [
        {
         "code": ">>> import numpy as np\n>>> \n>>> assert np.isclose(get_roots(1, 1, 0), (-1.0, 0.0)).all()\n>>> assert np.isclose(get_roots(1, 2, 1), (-1.0, -1.0)).all()\n>>> assert np.isclose(get_roots(2, 2, 1), (-0.5 - 0.5j, -0.5 + 0.5j)).all()\n",
         "hidden": false,
         "locked": false
        }
       ],
       "scored": true,
       "setup": "",
       "teardown": "",
       "type": "doctest"
      }
     ]
    },
    "sympy": {
     "name": "sympy",
     "points": null,
     "suites": [
      {
       "cases": [
        {
         "code": ">>> import sympy as sp\n>>> \n>>> assert sp.simplify(f.subs(x, 0) - 1) == 0\n>>> assert sp.simplify(f.subs(x, sp.S(1)/2) - sp.sqrt(3)*2/3) == 0\n",
         "hidden": false,
         "locked": false
        }
       ],
       "scored": true,
       "setup": "",
       "teardown": "",
       "type": "doctest"
      }
     ]
    }
   }
  },
  "rise": {
   "enable_chalkboard": true,
   "scroll": true,
   "theme": "white"
  },
  "toc": {
   "base_numbering": 1,
   "nav_menu": {
    "height": "195px",
    "width": "330px"
   },
   "number_sections": true,
   "sideBar": true,
   "skip_h1_title": true,
   "title_cell": "Table of Contents",
   "title_sidebar": "Contents",
   "toc_cell": false,
   "toc_position": {
    "height": "454.418px",
    "left": "1533px",
    "top": "110.284px",
    "width": "435.327px"
   },
   "toc_section_display": true,
   "toc_window_display": false
  },
  "widgets": {
   "application/vnd.jupyter.widget-state+json": {
    "state": {},
    "version_major": 2,
    "version_minor": 0
   }
  }
 },
 "nbformat": 4,
 "nbformat_minor": 4
}
