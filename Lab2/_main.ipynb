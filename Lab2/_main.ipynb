{
 "cells": [
  {
   "cell_type": "code",
   "execution_count": 1,
   "metadata": {
    "deletable": false,
    "editable": false,
    "tags": [
     "remove-cell"
    ]
   },
   "outputs": [],
   "source": [
    "# Initialization cell\n",
    "try:  # for CS1302 JupyterLite pyodide kernel\n",
    "    import piplite\n",
    "\n",
    "    with open(\"requirements.txt\") as f:\n",
    "        for package in f:\n",
    "            package = package.strip()\n",
    "            print(\"Installing\", package)\n",
    "            await piplite.install(package)\n",
    "except ModuleNotFoundError:\n",
    "    pass\n",
    "\n",
    "import math\n",
    "from math import cos, exp, log, pi, sin, tan\n",
    "\n",
    "import jsxgraphs\n",
    "import jupytext\n",
    "import matplotlib.pyplot as plt\n",
    "import numpy as np\n",
    "import otter\n",
    "import sympy as sp\n",
    "from ipywidgets import interact\n",
    "\n",
    "grader = otter.Notebook(\"main.ipynb\")\n",
    "# interactive plot with ipympl\n",
    "%matplotlib widget"
   ]
  },
  {
   "cell_type": "markdown",
   "metadata": {
    "slideshow": {
     "slide_type": "slide"
    }
   },
   "source": [
    "# Lab 2"
   ]
  },
  {
   "cell_type": "markdown",
   "metadata": {
    "slideshow": {
     "slide_type": "-"
    },
    "tags": [
     "remove-cell"
    ]
   },
   "source": [
    "**CS1302 Introduction to Computer Programming**\n",
    "___"
   ]
  },
  {
   "cell_type": "markdown",
   "metadata": {
    "slideshow": {
     "slide_type": "fragment"
    }
   },
   "source": [
    "For this lab, you will create different calculators. We will first show you a demo. Then, it will be your turn to create the calculators."
   ]
  },
  {
   "cell_type": "markdown",
   "metadata": {
    "slideshow": {
     "slide_type": "slide"
    }
   },
   "source": [
    "## Hypotenuse Calculator"
   ]
  },
  {
   "cell_type": "markdown",
   "metadata": {
    "slideshow": {
     "slide_type": "fragment"
    }
   },
   "source": [
    "---\n",
    "\n",
    "**Proposition** \n",
    "\n",
    "By the Pythagoras theorem, given a right-angled triangle,\n",
    "\n",
    "![Right-angled triangle](images/pythagoras.dio.svg)\n",
    "\n",
    "the length of the hypotenuse is\n",
    "\n",
    "$$\n",
    "c = \\sqrt{a^2 + b^2}\n",
    "$$ (hypotenuse)\n",
    "\n",
    "where $a$ and $b$ are the lengths of the other sides of the triangle.\n",
    "\n",
    "---"
   ]
  },
  {
   "cell_type": "markdown",
   "metadata": {},
   "source": [
    "You can verify the theorem using the JSXGraph app below:"
   ]
  },
  {
   "cell_type": "code",
   "execution_count": 2,
   "metadata": {},
   "outputs": [
    {
     "data": {
      "application/vnd.jupyter.widget-view+json": {
       "model_id": "387ca6c48dcd4b409188dc9e901239fb",
       "version_major": 2,
       "version_minor": 0
      },
      "text/plain": [
       "JSWidget(value=None, height=600, html='<!DOCTYPE html>\\n<html>\\n    <head>\\n    <style>\\n    html, body {\\n   …"
      ]
     },
     "metadata": {},
     "output_type": "display_data"
    }
   ],
   "source": [
    "jsxgraphs.pythagorean1"
   ]
  },
  {
   "cell_type": "markdown",
   "metadata": {},
   "source": [
    "```{seealso}\n",
    "We developed `divewidgets` to run the Javascript library [JSXGraph](https://jsxgraph.uni-bayreuth.de/). You can click the button `scratch` to show and edit the Javascript code. Other mathematical illustrations created using `divewidgets` can be found [here](https://dive4dec.github.io/lab/?path=divemath%2Fdivemath.ipynb) and will be presented in an upcoming [JSXGraph conference open to the public](https://jsxgraph.uni-bayreuth.de/conf2022/registration/).\n",
    "```"
   ]
  },
  {
   "cell_type": "markdown",
   "metadata": {},
   "source": [
    "The following is an interactive graphical proof:"
   ]
  },
  {
   "cell_type": "code",
   "execution_count": 3,
   "metadata": {},
   "outputs": [
    {
     "data": {
      "application/vnd.jupyter.widget-view+json": {
       "model_id": "32b85f5513214b3990edb0fd9cb730e4",
       "version_major": 2,
       "version_minor": 0
      },
      "text/plain": [
       "JSWidget(value=None, height=600, html='<!DOCTYPE html>\\n<html>\\n    <head>\\n    <style>\\n    html, body {\\n   …"
      ]
     },
     "metadata": {},
     "output_type": "display_data"
    }
   ],
   "source": [
    "jsxgraphs.pythagorean2"
   ]
  },
  {
   "cell_type": "markdown",
   "metadata": {},
   "source": [
    "Another interactive proof is as follows:"
   ]
  },
  {
   "cell_type": "code",
   "execution_count": 4,
   "metadata": {},
   "outputs": [
    {
     "data": {
      "application/vnd.jupyter.widget-view+json": {
       "model_id": "b32094e416ae4f8c8fea1ace11d62ab2",
       "version_major": 2,
       "version_minor": 0
      },
      "text/plain": [
       "JSWidget(value=None, height=600, html='<!DOCTYPE html>\\n<html>\\n    <head>\\n    <style>\\n    html, body {\\n   …"
      ]
     },
     "metadata": {},
     "output_type": "display_data"
    }
   ],
   "source": [
    "jsxgraphs.pythagorean3"
   ]
  },
  {
   "cell_type": "markdown",
   "metadata": {},
   "source": [
    "We can define the following function to calculate the length `c` of the hypotenuse when given the lengths `a` and `b` of the other sides: "
   ]
  },
  {
   "cell_type": "code",
   "execution_count": 5,
   "metadata": {
    "ExecuteTime": {
     "end_time": "2021-03-20T14:24:41.414382Z",
     "start_time": "2021-03-20T14:24:41.412057Z"
    },
    "slideshow": {
     "slide_type": "fragment"
    }
   },
   "outputs": [],
   "source": [
    "def length_of_hypotenuse(a, b):\n",
    "    c = (a**2 + b**2) ** (0.5)  # Pythagoras\n",
    "    return c"
   ]
  },
  {
   "cell_type": "markdown",
   "metadata": {
    "slideshow": {
     "slide_type": "fragment"
    }
   },
   "source": [
    "```{note}\n",
    "\n",
    "In the above code,\n",
    "- the formula {eq}`hypotenuse` is written as a python expression using the exponentiation operator `**`, and\n",
    "- the variable `c` is assigned to the value of the expression using the assignment operator `=`.\n",
    "\n",
    "```"
   ]
  },
  {
   "cell_type": "markdown",
   "metadata": {
    "slideshow": {
     "slide_type": "subslide"
    }
   },
   "source": [
    "For example, you may be asked to write Line 2, while Line 1 and 3 are given to you:"
   ]
  },
  {
   "cell_type": "markdown",
   "metadata": {
    "slideshow": {
     "slide_type": "fragment"
    }
   },
   "source": [
    "**Exercise** (length-of-hypotenuse)\n",
    "\n",
    "Complete the function below to return the length `c` of the hypotenuse given the lengths `a` and `b`.\n",
    "\n",
    "```{caution}\n",
    "\n",
    "- You should still complete this exercise to get the credit even though the answer was already revealed as a demo. Instead of copy-and-paste the answer, type it yourself.\n",
    "- Note that indentation affects the execution of python code. In particular, the assignment statement must be indented to indicate that it is part of the *body* of the function. \n",
    "```"
   ]
  },
  {
   "cell_type": "code",
   "execution_count": 6,
   "metadata": {
    "ExecuteTime": {
     "end_time": "2021-03-20T14:24:42.977375Z",
     "start_time": "2021-03-20T14:24:42.976117Z"
    },
    "nbgrader": {
     "grade": false,
     "grade_id": "length_of_hypotenuse",
     "locked": false,
     "schema_version": 3,
     "solution": true,
     "task": false
    },
    "slideshow": {
     "slide_type": "-"
    },
    "tags": [
     "remove-output"
    ]
   },
   "outputs": [],
   "source": [
    "def length_of_hypotenuse(a, b):\n",
    "    # math.sqrt fail public test\n",
    "    c = (a ** 2 + b ** 2) ** 0.5\n",
    "    return c"
   ]
  },
  {
   "cell_type": "code",
   "execution_count": 7,
   "metadata": {
    "deletable": false,
    "editable": false
   },
   "outputs": [
    {
     "data": {
      "text/html": [
       "<p><strong><pre style='display: inline;'>length_of_hypotenuse</pre></strong> passed!</p>"
      ],
      "text/plain": [
       "length_of_hypotenuse results: All test cases passed!"
      ]
     },
     "execution_count": 7,
     "metadata": {},
     "output_type": "execute_result"
    }
   ],
   "source": [
    "grader.check(\"length_of_hypotenuse\")"
   ]
  },
  {
   "cell_type": "markdown",
   "metadata": {
    "slideshow": {
     "slide_type": "subslide"
    }
   },
   "source": [
    "We will use `ipywidgets` to let user interact with the calculator more easily:\n",
    "\n",
    "- After running the cell, move the sliders to change the values of `a` and `b`. \n",
    "- Observer that the value of `c` is updated immediately."
   ]
  },
  {
   "cell_type": "code",
   "execution_count": 8,
   "metadata": {
    "ExecuteTime": {
     "end_time": "2021-03-20T14:24:46.386473Z",
     "start_time": "2021-03-20T14:24:46.340180Z"
    },
    "code_folding": [],
    "slideshow": {
     "slide_type": "-"
    },
    "tags": [
     "remove-output"
    ]
   },
   "outputs": [
    {
     "data": {
      "application/vnd.jupyter.widget-view+json": {
       "model_id": "1508c3587e274ab782121ceaec62f551",
       "version_major": 2,
       "version_minor": 0
      },
      "text/plain": [
       "interactive(children=(IntSlider(value=3, description='a', max=10), IntSlider(value=4, description='b', max=10)…"
      ]
     },
     "metadata": {},
     "output_type": "display_data"
    }
   ],
   "source": [
    "# hypotenuse calculator\n",
    "@interact(a=(0, 10, 1), b=(0, 10, 1))\n",
    "def calculate_hypotenuse(a=3, b=4):\n",
    "    print(\"c: {:.2f}\".format(length_of_hypotenuse(a, b)))"
   ]
  },
  {
   "cell_type": "markdown",
   "metadata": {
    "slideshow": {
     "slide_type": "fragment"
    }
   },
   "source": [
    "```{note}\n",
    "\n",
    "The hypotenuse is printed up to 2 decimal places using the format specification `{:.2f}`.\n",
    "\n",
    "```"
   ]
  },
  {
   "cell_type": "markdown",
   "metadata": {
    "slideshow": {
     "slide_type": "subslide"
    }
   },
   "source": [
    "You can check your code with a few cases listed in the test cell below."
   ]
  },
  {
   "cell_type": "markdown",
   "metadata": {
    "slideshow": {
     "slide_type": "slide"
    },
    "tags": []
   },
   "source": [
    "## Quadratic equation"
   ]
  },
  {
   "cell_type": "markdown",
   "metadata": {
    "slideshow": {
     "slide_type": "subslide"
    }
   },
   "source": [
    "### Graphical calculator for parabola"
   ]
  },
  {
   "cell_type": "markdown",
   "metadata": {
    "slideshow": {
     "slide_type": "subslide"
    }
   },
   "source": [
    "---\n",
    "\n",
    "**Definition** Parabola\n",
    "\n",
    "\n",
    "The collection of points $(x,y)$ satisfying the following equation forms a *parabola*:\n",
    "\n",
    "$$\n",
    "y=ax^2+bx+c\n",
    "$$ (parabola)\n",
    "\n",
    "where $a$, $b$, and $c$ are real numbers called the *coefficients*.\n",
    "\n",
    "---"
   ]
  },
  {
   "cell_type": "markdown",
   "metadata": {},
   "source": [
    "The following plots the parabola with difference choices of coefficients. "
   ]
  },
  {
   "cell_type": "code",
   "execution_count": 9,
   "metadata": {},
   "outputs": [
    {
     "data": {
      "application/vnd.jupyter.widget-view+json": {
       "model_id": "5ce329afe4ae4c99b5acc73e6bce37d0",
       "version_major": 2,
       "version_minor": 0
      },
      "text/plain": [
       "JSWidget(value=None, height=600, html='<!DOCTYPE html>\\n<html>\\n    <head>\\n    <style>\\n    html, body {\\n   …"
      ]
     },
     "metadata": {},
     "output_type": "display_data"
    }
   ],
   "source": [
    "jsxgraphs.parabola"
   ]
  },
  {
   "cell_type": "markdown",
   "metadata": {
    "slideshow": {
     "slide_type": "fragment"
    }
   },
   "source": [
    "**Exercise** (parabola)\n",
    "\n",
    "Given the variables `x`, `a`, `b`, and `c` store the $x$-coordinate and the coefficients $a$, $b$, and $c$ respectively, assign `y` the corresponding $y$-coordinate of the parabola {eq}`parabola`."
   ]
  },
  {
   "cell_type": "code",
   "execution_count": 10,
   "metadata": {
    "ExecuteTime": {
     "end_time": "2021-03-20T14:24:54.263505Z",
     "start_time": "2021-03-20T14:24:54.261046Z"
    },
    "nbgrader": {
     "grade": false,
     "grade_id": "get_y",
     "locked": false,
     "schema_version": 3,
     "solution": true,
     "task": false
    },
    "slideshow": {
     "slide_type": "-"
    },
    "tags": [
     "remove-output"
    ]
   },
   "outputs": [],
   "source": [
    "def get_y(x, a, b, c):\n",
    "    y = a * (x ** 2) + b * x + c\n",
    "    return y"
   ]
  },
  {
   "cell_type": "markdown",
   "metadata": {},
   "source": [
    "To test your code:"
   ]
  },
  {
   "cell_type": "code",
   "execution_count": 11,
   "metadata": {
    "deletable": false,
    "editable": false
   },
   "outputs": [
    {
     "data": {
      "text/html": [
       "<p><strong><pre style='display: inline;'>parabola</pre></strong> passed!</p>"
      ],
      "text/plain": [
       "parabola results: All test cases passed!"
      ]
     },
     "execution_count": 11,
     "metadata": {},
     "output_type": "execute_result"
    }
   ],
   "source": [
    "grader.check(\"parabola\")"
   ]
  },
  {
   "cell_type": "markdown",
   "metadata": {},
   "source": [
    "To run the graphical calculator:"
   ]
  },
  {
   "cell_type": "code",
   "execution_count": 12,
   "metadata": {
    "ExecuteTime": {
     "end_time": "2021-03-02T13:26:34.128830Z",
     "start_time": "2021-03-02T13:26:33.719638Z"
    },
    "code_folding": [],
    "slideshow": {
     "slide_type": "subslide"
    },
    "tags": [
     "remove-output"
    ]
   },
   "outputs": [
    {
     "data": {
      "application/vnd.jupyter.widget-view+json": {
       "model_id": "99cb9ef6131e4190979e55d01de39d8e",
       "version_major": 2,
       "version_minor": 0
      },
      "text/plain": [
       "interactive(children=(IntSlider(value=0, description='a', max=10, min=-10), IntSlider(value=0, description='b'…"
      ]
     },
     "metadata": {},
     "output_type": "display_data"
    },
    {
     "data": {
      "application/vnd.jupyter.widget-view+json": {
       "model_id": "89e5452b3594497bb6229a66d093d448",
       "version_major": 2,
       "version_minor": 0
      },
      "image/png": "[encoded data removed]",
      "text/html": [
       "\n",
       "            <div style=\"display: inline-block;\">\n",
       "                <div class=\"jupyter-widgets widget-label\" style=\"text-align: center;\">\n",
       "                    Figure\n",
       "                </div>\n",
       "                <img src='data:image/png;base64,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' width=640.0/>\n",
       "            </div>\n",
       "        "
      ],
      "text/plain": [
       "Canvas(toolbar=Toolbar(toolitems=[('Home', 'Reset original view', 'home', 'home'), ('Back', 'Back to previous …"
      ]
     },
     "metadata": {},
     "output_type": "display_data"
    }
   ],
   "source": [
    "# graphical calculator for parabola\n",
    "fig, ax = plt.subplots()\n",
    "xmin, xmax, ymin, ymax, resolution = -10, 10, -10, 10, 50\n",
    "x = np.linspace(xmin, xmax, resolution)\n",
    "ax.set_title(r\"$y=ax^2+bx+c$\")\n",
    "ax.set_xlabel(r\"$x$\")\n",
    "ax.set_ylabel(r\"$y$\")\n",
    "ax.set_xlim([xmin, xmax])\n",
    "ax.set_ylim([ymin, ymax])\n",
    "ax.grid()\n",
    "(p,) = ax.plot(x, get_y(x, 0, 0, 0))\n",
    "\n",
    "\n",
    "@interact(a=(-10, 10, 1), b=(-10, 10, 1), c=(-10, 10, 1))\n",
    "def plot_parabola(a, b, c):\n",
    "    p.set_ydata(get_y(x, a, b, c))"
   ]
  },
  {
   "cell_type": "markdown",
   "metadata": {
    "slideshow": {
     "slide_type": "slide"
    },
    "tags": []
   },
   "source": [
    "### Quadratic equation solver"
   ]
  },
  {
   "cell_type": "markdown",
   "metadata": {},
   "source": [
    "![quadratic-equation-solver](images/quadratic.dio.svg)"
   ]
  },
  {
   "cell_type": "markdown",
   "metadata": {
    "slideshow": {
     "slide_type": "subslide"
    }
   },
   "source": [
    "---\n",
    "\n",
    "**Proposition**\n",
    "\n",
    "For the quadratic equation\n",
    "\n",
    "$$\n",
    "ax^2+bx+c=0,\n",
    "$$ (quadratic)\n",
    "the *roots* (solutions for $x$) are give by\n",
    "\n",
    "$$\n",
    "\\frac{-b-\\sqrt{b^2-4ac}}{2a},\\frac{-b+\\sqrt{b^2-4ac}}{2a}.\n",
    "$$ (quadratic_roots)\n",
    "\n",
    "---"
   ]
  },
  {
   "cell_type": "markdown",
   "metadata": {
    "slideshow": {
     "slide_type": "fragment"
    }
   },
   "source": [
    "**Exercise** (roots)\n",
    "\n",
    "Assign to `root1` and `root2` the values of the first and second roots above respectively."
   ]
  },
  {
   "cell_type": "code",
   "execution_count": 13,
   "metadata": {
    "ExecuteTime": {
     "end_time": "2021-03-20T14:25:25.676812Z",
     "start_time": "2021-03-20T14:25:25.673522Z"
    },
    "nbgrader": {
     "grade": false,
     "grade_id": "get_roots",
     "locked": false,
     "schema_version": 3,
     "solution": true,
     "task": false
    },
    "slideshow": {
     "slide_type": "fragment"
    },
    "tags": [
     "remove-output"
    ]
   },
   "outputs": [],
   "source": [
    "def get_roots(a, b, c):\n",
    "    d = b ** 2 - 4 * a * c\n",
    "    root1, root2 = (-b - d ** 0.5) / (2 * a), (-b + d ** 0.5) / (2 * a)\n",
    "    return root1, root2"
   ]
  },
  {
   "cell_type": "markdown",
   "metadata": {},
   "source": [
    "To test your code:"
   ]
  },
  {
   "cell_type": "code",
   "execution_count": 14,
   "metadata": {
    "deletable": false,
    "editable": false
   },
   "outputs": [
    {
     "data": {
      "text/html": [
       "<p><strong><pre style='display: inline;'>roots</pre></strong> passed!</p>"
      ],
      "text/plain": [
       "roots results: All test cases passed!"
      ]
     },
     "execution_count": 14,
     "metadata": {},
     "output_type": "execute_result"
    }
   ],
   "source": [
    "grader.check(\"roots\")"
   ]
  },
  {
   "cell_type": "markdown",
   "metadata": {},
   "source": [
    "To run the calculator:"
   ]
  },
  {
   "cell_type": "code",
   "execution_count": 15,
   "metadata": {
    "ExecuteTime": {
     "end_time": "2021-03-20T14:25:30.720050Z",
     "start_time": "2021-03-20T14:25:30.689142Z"
    },
    "code_folding": [
     0
    ],
    "slideshow": {
     "slide_type": "fragment"
    },
    "tags": [
     "remove-output"
    ]
   },
   "outputs": [
    {
     "data": {
      "application/vnd.jupyter.widget-view+json": {
       "model_id": "a9f6105799f24148a03d98723b371a3f",
       "version_major": 2,
       "version_minor": 0
      },
      "text/plain": [
       "interactive(children=(IntSlider(value=1, description='a', max=10, min=-10), IntSlider(value=2, description='b'…"
      ]
     },
     "metadata": {},
     "output_type": "display_data"
    }
   ],
   "source": [
    "# quadratic equations solver\n",
    "@interact(a=(-10, 10, 1), b=(-10, 10, 1), c=(-10, 10, 1))\n",
    "def quadratic_equation_solver(a=1, b=2, c=1):\n",
    "    print(\"Roots: {}, {}\".format(*get_roots(a, b, c)))"
   ]
  },
  {
   "cell_type": "markdown",
   "metadata": {
    "slideshow": {
     "slide_type": "slide"
    },
    "tags": []
   },
   "source": [
    "## Number conversion"
   ]
  },
  {
   "cell_type": "markdown",
   "metadata": {
    "slideshow": {
     "slide_type": "subslide"
    }
   },
   "source": [
    "### Byte-to-Decimal calculator"
   ]
  },
  {
   "cell_type": "markdown",
   "metadata": {
    "slideshow": {
     "slide_type": "-"
    }
   },
   "source": [
    "![byte-to-decimal](images/byte-to-decimal.dio.svg)"
   ]
  },
  {
   "cell_type": "markdown",
   "metadata": {
    "slideshow": {
     "slide_type": "subslide"
    }
   },
   "source": [
    "Denote a binary number stored in a byte ($8$ bits) as\n",
    "\n",
    "$$ \n",
    "b_7\\circ b_6\\circ b_5\\circ b_4\\circ b_3\\circ b_2\\circ b_1\\circ b_0, \n",
    "$$\n",
    "where $\\circ$ concatenates $b_i$'s together into a binary string."
   ]
  },
  {
   "cell_type": "markdown",
   "metadata": {
    "slideshow": {
     "slide_type": "fragment"
    }
   },
   "source": [
    "The binary string can be converted to a decimal number by the formula\n",
    "\n",
    "$$ \n",
    "b_7\\cdot 2^7 + b_6\\cdot 2^6 + b_5\\cdot 2^5 + b_4\\cdot 2^4 + b_3\\cdot 2^3 + b_2\\cdot 2^2 + b_1\\cdot 2^1 + b_0\\cdot 2^0. \n",
    "$$"
   ]
  },
  {
   "cell_type": "markdown",
   "metadata": {
    "slideshow": {
     "slide_type": "fragment"
    }
   },
   "source": [
    "E.g., the binary string `'11111111'` is the largest integer represented by a byte:\n",
    "\n",
    "$$\n",
    "2^7+2^6+2^5+2^4+2^3+2^2+2^1+2^0=255=2^8-1.\n",
    "$$"
   ]
  },
  {
   "cell_type": "markdown",
   "metadata": {
    "slideshow": {
     "slide_type": "fragment"
    }
   },
   "source": [
    "**Exercise** (byte-to-decimal)\n",
    "\n",
    "Assign to `decimal` the *integer* value represented by the binary sequence `b7,b6,b5,b4,b3,b2,b1,b0` of *characters* `'0'` or `'1'`."
   ]
  },
  {
   "cell_type": "code",
   "execution_count": 16,
   "metadata": {
    "ExecuteTime": {
     "end_time": "2021-03-20T14:25:34.448688Z",
     "start_time": "2021-03-20T14:25:34.444753Z"
    },
    "nbgrader": {
     "grade": false,
     "grade_id": "byte_to_decimal",
     "locked": false,
     "schema_version": 3,
     "solution": true,
     "task": false
    },
    "slideshow": {
     "slide_type": "fragment"
    },
    "tags": [
     "remove-output"
    ]
   },
   "outputs": [],
   "source": [
    "def byte_to_decimal(b7, b6, b5, b4, b3, b2, b1, b0):\n",
    "    \"\"\"\n",
    "    Parameters\n",
    "    ----------\n",
    "    b7, ..., b0: single characters either '0' or '1'.\n",
    "    \"\"\"\n",
    "    o = lambda b: ord(b) - 48\n",
    "    decimal = (o(b7) << 7) + (o(b6) << 6) + (o(b5) << 5) + (o(b4) << 4) + \\\n",
    "        (o(b3) << 3) + (o(b2) << 2) + (o(b1) << 1) + o(b0)\n",
    "    return decimal"
   ]
  },
  {
   "cell_type": "markdown",
   "metadata": {},
   "source": [
    "To test your code:"
   ]
  },
  {
   "cell_type": "code",
   "execution_count": 17,
   "metadata": {
    "deletable": false,
    "editable": false
   },
   "outputs": [
    {
     "data": {
      "text/html": [
       "<p><strong><pre style='display: inline;'>byte_to_decimal</pre></strong> passed!</p>"
      ],
      "text/plain": [
       "byte_to_decimal results: All test cases passed!"
      ]
     },
     "execution_count": 17,
     "metadata": {},
     "output_type": "execute_result"
    }
   ],
   "source": [
    "grader.check(\"byte_to_decimal\")"
   ]
  },
  {
   "cell_type": "markdown",
   "metadata": {},
   "source": [
    "To run the calculator:"
   ]
  },
  {
   "cell_type": "code",
   "execution_count": 18,
   "metadata": {
    "ExecuteTime": {
     "end_time": "2021-03-20T14:25:36.463010Z",
     "start_time": "2021-03-20T14:25:36.3364Z"
    },
    "code_folding": [
     0
    ],
    "tags": [
     "remove-output"
    ]
   },
   "outputs": [
    {
     "data": {
      "application/vnd.jupyter.widget-view+json": {
       "model_id": "a017cbb19cac48dfb2ca7ff68979f398",
       "version_major": 2,
       "version_minor": 0
      },
      "text/plain": [
       "interactive(children=(Dropdown(description='b7', options=('0', '1'), value='0'), Dropdown(description='b6', op…"
      ]
     },
     "metadata": {},
     "output_type": "display_data"
    }
   ],
   "source": [
    "# byte-to-decimal calculator\n",
    "bit = [\"0\", \"1\"]\n",
    "\n",
    "\n",
    "@interact(b7=bit, b6=bit, b5=bit, b4=bit, b3=bit, b2=bit, b1=bit, b0=bit)\n",
    "def convert_byte_to_decimal(b7, b6, b5, b4, b3, b2, b1, b0):\n",
    "    print(\"decimal:\", byte_to_decimal(b7, b6, b5, b4, b3, b2, b1, b0))"
   ]
  },
  {
   "cell_type": "markdown",
   "metadata": {
    "slideshow": {
     "slide_type": "subslide"
    }
   },
   "source": [
    "### Decimal-to-Byte calculator"
   ]
  },
  {
   "cell_type": "markdown",
   "metadata": {
    "slideshow": {
     "slide_type": "-"
    }
   },
   "source": [
    "![decimal-to-byte](images/decimal-to-byte.dio.svg)"
   ]
  },
  {
   "cell_type": "markdown",
   "metadata": {
    "slideshow": {
     "slide_type": "subslide"
    }
   },
   "source": [
    "**Exercise** (decimal-to-byte)\n",
    "\n",
    "Assign to `byte` a *string of 8 bits* that represents the value of `decimal`, a non-negative decimal integer from $0$ to $2^8-1=255$.  \n",
    "\n",
    "```{hint}\n",
    "\n",
    "Use the operators `//` and `%`.\n",
    "\n",
    "```"
   ]
  },
  {
   "cell_type": "code",
   "execution_count": 19,
   "metadata": {
    "ExecuteTime": {
     "end_time": "2021-03-20T14:25:40.354594Z",
     "start_time": "2021-03-20T14:25:40.350920Z"
    },
    "nbgrader": {
     "grade": false,
     "grade_id": "decimal_to_byte",
     "locked": false,
     "schema_version": 3,
     "solution": true,
     "task": false
    },
    "slideshow": {
     "slide_type": "-"
    },
    "tags": [
     "remove-output"
    ]
   },
   "outputs": [],
   "source": [
    "def decimal_to_byte(decimal):\n",
    "    byte = \"\"\n",
    "    for i in range(8):\n",
    "        byte = chr((decimal & 1) + 48) + byte\n",
    "        decimal >>= 1\n",
    "    return byte"
   ]
  },
  {
   "cell_type": "markdown",
   "metadata": {},
   "source": [
    "To test your code:"
   ]
  },
  {
   "cell_type": "code",
   "execution_count": 20,
   "metadata": {
    "deletable": false,
    "editable": false
   },
   "outputs": [
    {
     "data": {
      "text/html": [
       "<p><strong><pre style='display: inline;'>decimal_to_byte</pre></strong> passed!</p>"
      ],
      "text/plain": [
       "decimal_to_byte results: All test cases passed!"
      ]
     },
     "execution_count": 20,
     "metadata": {},
     "output_type": "execute_result"
    }
   ],
   "source": [
    "grader.check(\"decimal_to_byte\")"
   ]
  },
  {
   "cell_type": "markdown",
   "metadata": {},
   "source": [
    "To run the calculator:"
   ]
  },
  {
   "cell_type": "code",
   "execution_count": 21,
   "metadata": {
    "ExecuteTime": {
     "end_time": "2021-03-20T14:25:41.519031Z",
     "start_time": "2021-03-20T14:25:41.500298Z"
    },
    "code_folding": [
     0
    ],
    "slideshow": {
     "slide_type": "fragment"
    },
    "tags": [
     "remove-output"
    ]
   },
   "outputs": [
    {
     "data": {
      "application/vnd.jupyter.widget-view+json": {
       "model_id": "c431f75520654dc48767632f17bd085c",
       "version_major": 2,
       "version_minor": 0
      },
      "text/plain": [
       "interactive(children=(IntSlider(value=0, description='decimal', max=255), Output()), _dom_classes=('widget-int…"
      ]
     },
     "metadata": {},
     "output_type": "display_data"
    }
   ],
   "source": [
    "# decimal-to-byte calculator\n",
    "@interact(decimal=(0, 255, 1))\n",
    "def convert_decimal_to_byte(decimal=0):\n",
    "    print(\"byte:\", decimal_to_byte(decimal))"
   ]
  },
  {
   "cell_type": "markdown",
   "metadata": {
    "tags": []
   },
   "source": [
    "## Symbolic calculators"
   ]
  },
  {
   "cell_type": "markdown",
   "metadata": {},
   "source": [
    "Can we do complicated arithmetics with python. What about Calculus?  "
   ]
  },
  {
   "cell_type": "markdown",
   "metadata": {},
   "source": [
    "$$\n",
    "\\int \\tan(x)\\, dx = \\color{red}{?}\n",
    "$$"
   ]
  },
  {
   "cell_type": "markdown",
   "metadata": {},
   "source": [
    "Try [SymPy Gamma](https://gamma.sympy.org/input/?i=integrate%28tan%28x%29%29) or [SymPy Beta](https://sympy-beta.vercel.app/input/integrate%28tan%28x%29%29)."
   ]
  },
  {
   "cell_type": "markdown",
   "metadata": {},
   "source": [
    "```{tip}\n",
    "\n",
    "- Take a look at the different panels to learn about the solution: `Steps`, `Plot`, and `Derivative`.\n",
    "- Try different [random examples](https://gamma.sympy.org/).\n",
    "\n",
    "```"
   ]
  },
  {
   "cell_type": "markdown",
   "metadata": {},
   "source": [
    "**How does SymPy Gamma work?**"
   ]
  },
  {
   "cell_type": "markdown",
   "metadata": {},
   "source": [
    "- [SymPy Gamma](https://gamma.sympy.org/) is a web application running [SymPy](https://docs.sympy.org/latest/index.html), which is a python library for symbolic computation.\n",
    "- [SymPy Beta](https://github.com/eagleoflqj/sympy_beta) is a fork of SymPy Gamma that can run totally in the browser."
   ]
  },
  {
   "cell_type": "markdown",
   "metadata": {},
   "source": [
    "**How to use SymPy?**"
   ]
  },
  {
   "cell_type": "markdown",
   "metadata": {},
   "source": [
    "The following line in the initialization cell imports the library:\n",
    "\n",
    "```python\n",
    "import sympy as sp\n",
    "```"
   ]
  },
  {
   "cell_type": "markdown",
   "metadata": {},
   "source": [
    "We need to define a symbolic variable and assign it to a python variable."
   ]
  },
  {
   "cell_type": "code",
   "execution_count": 22,
   "metadata": {},
   "outputs": [
    {
     "data": {
      "text/latex": [
       "$\\displaystyle x$"
      ],
      "text/plain": [
       "x"
      ]
     },
     "execution_count": 22,
     "metadata": {},
     "output_type": "execute_result"
    }
   ],
   "source": [
    "x = sp.symbols(\"x\")\n",
    "x"
   ]
  },
  {
   "cell_type": "markdown",
   "metadata": {},
   "source": [
    "The SymPy expression for $\\tan(x)$ is:"
   ]
  },
  {
   "cell_type": "code",
   "execution_count": 23,
   "metadata": {},
   "outputs": [
    {
     "data": {
      "text/latex": [
       "$\\displaystyle \\tan{\\left(x \\right)}$"
      ],
      "text/plain": [
       "tan(x)"
      ]
     },
     "execution_count": 23,
     "metadata": {},
     "output_type": "execute_result"
    }
   ],
   "source": [
    "f = sp.tan(x)\n",
    "f"
   ]
  },
  {
   "cell_type": "markdown",
   "metadata": {},
   "source": [
    "To compute the integration:\n",
    "\n",
    "$$\n",
    "\\int f(x) dx\n",
    "$$"
   ]
  },
  {
   "cell_type": "code",
   "execution_count": 24,
   "metadata": {},
   "outputs": [
    {
     "data": {
      "text/latex": [
       "$\\displaystyle - \\log{\\left(\\cos{\\left(x \\right)} \\right)}$"
      ],
      "text/plain": [
       "-log(cos(x))"
      ]
     },
     "execution_count": 24,
     "metadata": {},
     "output_type": "execute_result"
    }
   ],
   "source": [
    "g = sp.integrate(f)\n",
    "g"
   ]
  },
  {
   "cell_type": "markdown",
   "metadata": {},
   "source": [
    "To compute the derivative:\n",
    "\n",
    "$$\n",
    "\\frac{d}{dx}g(x)\n",
    "$$"
   ]
  },
  {
   "cell_type": "code",
   "execution_count": 25,
   "metadata": {},
   "outputs": [
    {
     "data": {
      "text/latex": [
       "$\\displaystyle \\frac{\\sin{\\left(x \\right)}}{\\cos{\\left(x \\right)}}$"
      ],
      "text/plain": [
       "sin(x)/cos(x)"
      ]
     },
     "execution_count": 25,
     "metadata": {},
     "output_type": "execute_result"
    }
   ],
   "source": [
    "diff_g = sp.diff(g)\n",
    "diff_g"
   ]
  },
  {
   "cell_type": "markdown",
   "metadata": {},
   "source": [
    "The answer can be simplified as expected:"
   ]
  },
  {
   "cell_type": "code",
   "execution_count": 26,
   "metadata": {},
   "outputs": [
    {
     "data": {
      "text/latex": [
       "$\\displaystyle \\tan{\\left(x \\right)}$"
      ],
      "text/plain": [
       "tan(x)"
      ]
     },
     "execution_count": 26,
     "metadata": {},
     "output_type": "execute_result"
    }
   ],
   "source": [
    "diff_g.simplify()"
   ]
  },
  {
   "cell_type": "markdown",
   "metadata": {},
   "source": [
    "To plot the functions:"
   ]
  },
  {
   "cell_type": "code",
   "execution_count": 27,
   "metadata": {},
   "outputs": [
    {
     "data": {
      "application/vnd.jupyter.widget-view+json": {
       "model_id": "aaae445398b8407595e765d9defb8054",
       "version_major": 2,
       "version_minor": 0
      },
      "image/png": "[encoded data removed]",
      "text/html": [
       "\n",
       "            <div style=\"display: inline-block;\">\n",
       "                <div class=\"jupyter-widgets widget-label\" style=\"text-align: center;\">\n",
       "                    Figure\n",
       "                </div>\n",
       "                <img src='data:image/png;base64,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' width=640.0/>\n",
       "            </div>\n",
       "        "
      ],
      "text/plain": [
       "Canvas(toolbar=Toolbar(toolitems=[('Home', 'Reset original view', 'home', 'home'), ('Back', 'Back to previous …"
      ]
     },
     "metadata": {},
     "output_type": "display_data"
    }
   ],
   "source": [
    "p = sp.plot(f, g, (x, -2 * sp.pi / 5, 2 * sp.pi / 5), ylabel=\"y\", legend=True)"
   ]
  },
  {
   "cell_type": "markdown",
   "metadata": {},
   "source": [
    "**Exercise** (sympy)\n",
    "\n",
    "Using SymPy expressions\n",
    "\n",
    "- assign to `x` a SymPy variable named `\"x\"`,\n",
    "- assign to `f` the expression $\\frac{1}{\\sqrt{1 - x^2}}$ in terms of `x`,\n",
    "- assign to `g` the result of $\\int \\frac{1}{\\sqrt{1 - x^2}} dx$, and\n",
    "- *optionally*, plot `f` and `g` for $x\\in \\left[-\\frac45, \\frac45\\right]$.\n",
    "\n",
    "```{caution}\n",
    "\n",
    "Use `sp.sqrt` or `**(sp.S(1)/2)` for square root instead of `**0.5`. See [SymPy gotchas](https://docs.sympy.org/latest/gotchas.html).\n",
    "\n",
    "```"
   ]
  },
  {
   "cell_type": "code",
   "execution_count": 28,
   "metadata": {
    "deletable": false,
    "editable": false,
    "tags": []
   },
   "outputs": [],
   "source": [
    "import sympy as sp"
   ]
  },
  {
   "cell_type": "code",
   "execution_count": 29,
   "metadata": {
    "tags": []
   },
   "outputs": [
    {
     "data": {
      "application/vnd.jupyter.widget-view+json": {
       "model_id": "5307bf3bbec74e05ba1b3ea4e21e2dfd",
       "version_major": 2,
       "version_minor": 0
      },
      "image/png": "[encoded data removed]",
      "text/html": [
       "\n",
       "            <div style=\"display: inline-block;\">\n",
       "                <div class=\"jupyter-widgets widget-label\" style=\"text-align: center;\">\n",
       "                    Figure\n",
       "                </div>\n",
       "                <img src='data:image/png;base64,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' width=640.0/>\n",
       "            </div>\n",
       "        "
      ],
      "text/plain": [
       "Canvas(toolbar=Toolbar(toolitems=[('Home', 'Reset original view', 'home', 'home'), ('Back', 'Back to previous …"
      ]
     },
     "metadata": {},
     "output_type": "display_data"
    }
   ],
   "source": [
    "x = sp.symbols(\"x\")\n",
    "f = 1 / sp.sqrt(1 - x ** sp.S(2))\n",
    "g = sp.integrate(f)\n",
    "p = sp.plot(f, g, (x, -sp.S(4) / 5, sp.S(4) / 5), ylabel=\"y\", legend=True)"
   ]
  },
  {
   "cell_type": "markdown",
   "metadata": {},
   "source": [
    "The following test should plot your expression `f` in SymPy."
   ]
  },
  {
   "cell_type": "code",
   "execution_count": 30,
   "metadata": {
    "deletable": false,
    "editable": false
   },
   "outputs": [
    {
     "data": {
      "text/html": [
       "<p><strong><pre style='display: inline;'>sympy</pre></strong> passed!</p>"
      ],
      "text/plain": [
       "sympy results: All test cases passed!"
      ]
     },
     "execution_count": 30,
     "metadata": {},
     "output_type": "execute_result"
    }
   ],
   "source": [
    "grader.check(\"sympy\")"
   ]
  },
  {
   "cell_type": "markdown",
   "metadata": {
    "editable": false,
    "tags": [
     "remove-cell"
    ]
   },
   "source": [
    "## Submission\n",
    "\n",
    "Make sure you have run all cells in your notebook in order before running the cell below, so that all images/graphs appear in the output. The cell below will generate a zip file for you to submit. **Please save before exporting!**"
   ]
  },
  {
   "cell_type": "code",
   "execution_count": 31,
   "metadata": {
    "editable": true,
    "tags": []
   },
   "outputs": [],
   "source": [
    "# extra files to submit\n",
    "extra_files = [\"jsxgraphs.py\"]"
   ]
  },
  {
   "cell_type": "code",
   "execution_count": 32,
   "metadata": {
    "editable": false,
    "tags": []
   },
   "outputs": [],
   "source": [
    "# Generate the source main.py necessary for grading and similarity check.\n",
    "jupytext.write(jupytext.read(\"main.ipynb\"), \"main.py\", fmt=\"py:percent\")"
   ]
  },
  {
   "cell_type": "code",
   "execution_count": 33,
   "metadata": {
    "editable": true,
    "tags": []
   },
   "outputs": [
    {
     "data": {
      "text/html": [
       "\n",
       "            <p>Your submission has been exported. Click <a href=\"main_2022_09_26T18_05_57_806888.zip\" download=\"main_2022_09_26T18_05_57_806888.zip\" target=\"_blank\">here</a>\n",
       "            to download the zip file.</p>\n",
       "            "
      ],
      "text/plain": [
       "<IPython.core.display.HTML object>"
      ]
     },
     "metadata": {},
     "output_type": "display_data"
    }
   ],
   "source": [
    "# Generate the zip file to submit.\n",
    "grader.export(pdf=False, run_tests=False, files=[\"main.py\", *extra_files])"
   ]
  },
  {
   "cell_type": "code",
   "execution_count": null,
   "metadata": {},
   "outputs": [],
   "source": []
  }
 ],
 "metadata": {
  "celltoolbar": "Create Assignment",
  "kernelspec": {
   "display_name": "Python 3 (ipykernel)",
   "language": "python",
   "name": "python3"
  },
  "language_info": {
   "codemirror_mode": {
    "name": "ipython",
    "version": 3
   },
   "file_extension": ".py",
   "mimetype": "text/x-python",
   "name": "python",
   "nbconvert_exporter": "python",
   "pygments_lexer": "ipython3",
   "version": "3.10.6"
  },
  "latex_envs": {
   "LaTeX_envs_menu_present": true,
   "autoclose": false,
   "autocomplete": true,
   "bibliofile": "biblio.bib",
   "cite_by": "apalike",
   "current_citInitial": 1,
   "eqLabelWithNumbers": true,
   "eqNumInitial": 1,
   "hotkeys": {
    "equation": "Ctrl-E",
    "itemize": "Ctrl-I"
   },
   "labels_anchors": false,
   "latex_user_defs": false,
   "report_style_numbering": false,
   "user_envs_cfg": false
  },
  "otter": {
   "OK_FORMAT": true,
   "tests": {
    "byte_to_decimal": {
     "name": "byte_to_decimal",
     "points": null,
     "suites": [
      {
       "cases": [
        {
         "code": ">>> def test_byte_to_decimal(decimal, b7, b6, b5, b4, b3, b2, b1, b0):\n...     decimal_ = byte_to_decimal(b7, b6, b5, b4, b3, b2, b1, b0)\n...     assert decimal == decimal_ and isinstance(decimal_, int)\n>>> \n>>> \n>>> test_byte_to_decimal(38, \"0\", \"0\", \"1\", \"0\", \"0\", \"1\", \"1\", \"0\")\n>>> test_byte_to_decimal(20, \"0\", \"0\", \"0\", \"1\", \"0\", \"1\", \"0\", \"0\")\n>>> test_byte_to_decimal(22, \"0\", \"0\", \"0\", \"1\", \"0\", \"1\", \"1\", \"0\")\n",
         "hidden": false,
         "locked": false
        }
       ],
       "scored": true,
       "setup": "",
       "teardown": "",
       "type": "doctest"
      }
     ]
    },
    "decimal_to_byte": {
     "name": "decimal_to_byte",
     "points": null,
     "suites": [
      {
       "cases": [
        {
         "code": ">>> def test_decimal_to_byte(byte, decimal):\n...     byte_ = decimal_to_byte(decimal)\n...     assert byte == byte_ and isinstance(byte, str) and len(byte) == 8\n>>> \n>>> \n>>> test_decimal_to_byte(\"01100111\", 103)\n>>> test_decimal_to_byte(\"00000011\", 3)\n>>> test_decimal_to_byte(\"00011100\", 28)\n",
         "hidden": false,
         "locked": false
        }
       ],
       "scored": true,
       "setup": "",
       "teardown": "",
       "type": "doctest"
      }
     ]
    },
    "length_of_hypotenuse": {
     "name": "length_of_hypotenuse",
     "points": null,
     "suites": [
      {
       "cases": [
        {
         "code": ">>> import numpy as np\n>>> \n>>> assert np.isclose(length_of_hypotenuse(0, 0), 0)\n>>> assert np.isclose(length_of_hypotenuse(3, 4), 5)\n",
         "hidden": false,
         "locked": false
        }
       ],
       "scored": true,
       "setup": "",
       "teardown": "",
       "type": "doctest"
      }
     ]
    },
    "parabola": {
     "name": "parabola",
     "points": null,
     "suites": [
      {
       "cases": [
        {
         "code": ">>> import numpy as np\n>>> \n>>> assert np.isclose(get_y(0, 0, 0, 0), 0)\n>>> assert np.isclose(get_y(0, 1, 2, 1), 1)\n",
         "hidden": false,
         "locked": false
        }
       ],
       "scored": true,
       "setup": "",
       "teardown": "",
       "type": "doctest"
      }
     ]
    },
    "roots": {
     "name": "roots",
     "points": null,
     "suites": [
      {
       "cases": [
        {
         "code": ">>> import numpy as np\n>>> \n>>> assert np.isclose(get_roots(1, 1, 0), (-1.0, 0.0)).all()\n>>> assert np.isclose(get_roots(1, 2, 1), (-1.0, -1.0)).all()\n>>> assert np.isclose(get_roots(2, 2, 1), (-0.5 - 0.5j, -0.5 + 0.5j)).all()\n",
         "hidden": false,
         "locked": false
        }
       ],
       "scored": true,
       "setup": "",
       "teardown": "",
       "type": "doctest"
      }
     ]
    },
    "sympy": {
     "name": "sympy",
     "points": null,
     "suites": [
      {
       "cases": [
        {
         "code": ">>> import sympy as sp\n>>> \n>>> assert sp.simplify(f.subs(x, 0) - 1) == 0\n>>> assert sp.simplify(f.subs(x, sp.S(1)/2) - sp.sqrt(3)*2/3) == 0\n",
         "hidden": false,
         "locked": false
        }
       ],
       "scored": true,
       "setup": "",
       "teardown": "",
       "type": "doctest"
      }
     ]
    }
   }
  },
  "rise": {
   "enable_chalkboard": true,
   "scroll": true,
   "theme": "white"
  },
  "toc": {
   "base_numbering": 1,
   "nav_menu": {
    "height": "195px",
    "width": "330px"
   },
   "number_sections": true,
   "sideBar": true,
   "skip_h1_title": true,
   "title_cell": "Table of Contents",
   "title_sidebar": "Contents",
   "toc_cell": false,
   "toc_position": {
    "height": "454.418px",
    "left": "1533px",
    "top": "110.284px",
    "width": "435.327px"
   },
   "toc_section_display": true,
   "toc_window_display": false
  },
  "widgets": {
   "application/vnd.jupyter.widget-state+json": {
    "state": {},
    "version_major": 2,
    "version_minor": 0
   }
  }
 },
 "nbformat": 4,
 "nbformat_minor": 4
}
