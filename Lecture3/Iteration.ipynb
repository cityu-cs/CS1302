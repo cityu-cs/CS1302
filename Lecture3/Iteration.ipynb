{
    "cells": [
     {
      "cell_type": "code",
      "execution_count": null,
      "metadata": {},
      "outputs": [],
      "source": [
       "# Initialization cell\n",
       "try:  # for CS1302 JupyterLite pyodide kernel\n",
       "    import piplite\n",
       "\n",
       "    with open(\"requirements.txt\") as f:\n",
       "        for package in f:\n",
       "            package = package.strip()\n",
       "            print(\"Installing\", package)\n",
       "            await piplite.install(package)\n",
       "except ModuleNotFoundError:\n",
       "    pass"
      ]
     },
     {
      "cell_type": "markdown",
      "metadata": {
       "slideshow": {
        "slide_type": "slide"
       }
      },
      "source": [
       "# Iteration"
      ]
     },
     {
      "cell_type": "markdown",
      "metadata": {
       "slideshow": {
        "slide_type": "-"
       },
       "tags": [
        "remove-cell"
       ]
      },
      "source": [
       "**CS1302 Introduction to Computer Programming**\n",
       "___"
      ]
     },
     {
      "cell_type": "code",
      "execution_count": null,
      "metadata": {
       "ExecuteTime": {
        "end_time": "2020-11-27T11:20:04.656873Z",
        "start_time": "2020-11-27T11:20:04.651575Z"
       },
       "slideshow": {
        "slide_type": "fragment"
       },
       "tags": [
        "remove-cell"
       ]
      },
      "outputs": [],
      "source": [
       "%reload_ext divewidgets\n",
       "\n",
       "from ipywidgets import interact"
      ]
     },
     {
      "cell_type": "markdown",
      "metadata": {
       "slideshow": {
        "slide_type": "slide"
       }
      },
      "source": [
       "## Motivation"
      ]
     },
     {
      "cell_type": "markdown",
      "metadata": {
       "slideshow": {
        "slide_type": "fragment"
       }
      },
      "source": [
       "Many tasks are repetitive:\n",
       "- To print from 1 up to a user-specified number *arbitrarily large*.\n",
       "- To compute the maximum of a sequence of numbers *arbitrarily long*.\n",
       "- To get user input *repeatedly until* it is within a certain range."
      ]
     },
     {
      "cell_type": "markdown",
      "metadata": {
       "slideshow": {
        "slide_type": "subslide"
       }
      },
      "source": [
       "**How to write code to perform repetitive tasks?**"
      ]
     },
     {
      "cell_type": "markdown",
      "metadata": {
       "slideshow": {
        "slide_type": "fragment"
       }
      },
      "source": [
       "E.g., can you complete the following code to print from 1 up to a user-specified number?"
      ]
     },
     {
      "cell_type": "markdown",
      "metadata": {},
      "source": [
       "```python\n",
       "num = int(input(\">\"))\n",
       "if 1 <= num:\n",
       "    print(1)\n",
       "if 2 <= num:\n",
       "    print(2)\n",
       "if 3 <= num:\n",
       "    print(3)\n",
       "# YOUR CODE HERE\n",
       "```"
      ]
     },
     {
      "cell_type": "markdown",
      "metadata": {
       "slideshow": {
        "slide_type": "subslide"
       }
      },
      "source": [
       "```{important}\n",
       "\n",
       "*Code duplication* is a bad practice because:  \n",
       "- Duplicate code is hard to read/write/maintain.  \n",
       "  (Imagine what you need to do to change some code.)\n",
       "- The number of repetitions may not be known before runtime.\n",
       "\n",
       "Instead, programmers write a *loop* which specifies a piece of code to be executed iteratively.\n",
       "```"
      ]
     },
     {
      "cell_type": "markdown",
      "metadata": {
       "slideshow": {
        "slide_type": "slide"
       }
      },
      "source": [
       "## For Loop"
      ]
     },
     {
      "cell_type": "markdown",
      "metadata": {
       "slideshow": {
        "slide_type": "subslide"
       }
      },
      "source": [
       "### Iterate over a sequence"
      ]
     },
     {
      "cell_type": "markdown",
      "metadata": {
       "slideshow": {
        "slide_type": "fragment"
       }
      },
      "source": [
       "**How to print from 1 up to 4?**"
      ]
     },
     {
      "cell_type": "markdown",
      "metadata": {
       "slideshow": {
        "slide_type": "fragment"
       }
      },
      "source": [
       "We can use a [`for` loop](https://docs.python.org/3.3/tutorial/controlflow.html#for-statements) as follows:"
      ]
     },
     {
      "cell_type": "code",
      "execution_count": null,
      "metadata": {
       "ExecuteTime": {
        "end_time": "2020-09-21T14:40:09.733612Z",
        "start_time": "2020-09-21T14:40:09.713133Z"
       },
       "slideshow": {
        "slide_type": "-"
       }
      },
      "outputs": [],
      "source": [
       "%%optlite -h 300\n",
       "for i in 1, 2, 3, 4:\n",
       "    print(i)"
      ]
     },
     {
      "cell_type": "markdown",
      "metadata": {
       "slideshow": {
        "slide_type": "fragment"
       }
      },
      "source": [
       "- `i` is automatically assigned to each element in the sequence `1, 2, 3, 4` one-by-one from left to right.\n",
       "- After each assignment, the body `print(i)` is executed. \n",
       "\n",
       "N.b., if `i` is defined before the for loop, its value will be overwritten.  "
      ]
     },
     {
      "cell_type": "markdown",
      "metadata": {
       "slideshow": {
        "slide_type": "subslide"
       }
      },
      "source": [
       "`for` loop can also use tuple assignment to iterate over different objects:"
      ]
     },
     {
      "cell_type": "code",
      "execution_count": null,
      "metadata": {
       "ExecuteTime": {
        "end_time": "2020-09-21T14:41:01.344433Z",
        "start_time": "2020-09-21T14:41:01.333522Z"
       },
       "slideshow": {
        "slide_type": "-"
       },
       "tags": []
      },
      "outputs": [],
      "source": [
       "tuples = (0, \"l\"), (1, \"o\"), (2, \"o\"), (3, \"p\")\n",
       "for i, c in tuples:\n",
       "    print(i, c)"
      ]
     },
     {
      "cell_type": "markdown",
      "metadata": {
       "slideshow": {
        "slide_type": "fragment"
       }
      },
      "source": [
       "With [iterable object](https://docs.python.org/3.3/glossary.html#term-iterable), one can write short and easily understandable code:"
      ]
     },
     {
      "cell_type": "code",
      "execution_count": null,
      "metadata": {
       "ExecuteTime": {
        "end_time": "2020-09-21T14:41:08.799668Z",
        "start_time": "2020-09-21T14:41:08.790110Z"
       },
       "slideshow": {
        "slide_type": "-"
       }
      },
      "outputs": [],
      "source": [
       "for i, c in enumerate(\"loop\"):\n",
       "    print(i, c)"
      ]
     },
     {
      "cell_type": "markdown",
      "metadata": {
       "slideshow": {
        "slide_type": "subslide"
       }
      },
      "source": [
       "### Iterate over a range"
      ]
     },
     {
      "cell_type": "markdown",
      "metadata": {
       "slideshow": {
        "slide_type": "fragment"
       }
      },
      "source": [
       "**How to print up to a user-specified number?**"
      ]
     },
     {
      "cell_type": "markdown",
      "metadata": {
       "slideshow": {
        "slide_type": "fragment"
       }
      },
      "source": [
       "One way is to use [`range`](https://docs.python.org/3/library/stdtypes.html#range):"
      ]
     },
     {
      "cell_type": "code",
      "execution_count": null,
      "metadata": {
       "ExecuteTime": {
        "end_time": "2020-09-12T02:15:06.124643Z",
        "start_time": "2020-09-12T02:15:03.879119Z"
       },
       "slideshow": {
        "slide_type": "-"
       },
       "tags": [
        "remove-output"
       ]
      },
      "outputs": [],
      "source": [
       "stop = int(input(\">\")) + 1\n",
       "for i in range(stop):\n",
       "    print(i)"
      ]
     },
     {
      "cell_type": "markdown",
      "metadata": {
       "slideshow": {
        "slide_type": "fragment"
       }
      },
      "source": [
       "```{attention}\n",
       "\n",
       "Why add 1 to the user input number?\n",
       "\n",
       "`range(stop)` generates a sequence of integers from `0` up to *but excluding* `stop`.\n",
       "```"
      ]
     },
     {
      "cell_type": "markdown",
      "metadata": {
       "slideshow": {
        "slide_type": "fragment"
       }
      },
      "source": [
       "**How to start from a number different from `0`?**"
      ]
     },
     {
      "cell_type": "code",
      "execution_count": null,
      "metadata": {
       "ExecuteTime": {
        "end_time": "2020-09-12T02:16:04.698262Z",
        "start_time": "2020-09-12T02:16:04.691449Z"
       },
       "slideshow": {
        "slide_type": "fragment"
       }
      },
      "outputs": [],
      "source": [
       "for i in range(1, 5):\n",
       "    print(i)"
      ]
     },
     {
      "cell_type": "markdown",
      "metadata": {
       "slideshow": {
        "slide_type": "fragment"
       }
      },
      "source": [
       "**What about a step size different from `1`?**"
      ]
     },
     {
      "cell_type": "code",
      "execution_count": null,
      "metadata": {
       "ExecuteTime": {
        "end_time": "2020-09-12T02:16:11.858443Z",
        "start_time": "2020-09-12T02:16:11.852378Z"
       },
       "slideshow": {
        "slide_type": "fragment"
       }
      },
      "outputs": [],
      "source": [
       "for i in range(0, 5, 2): print(i)  # starting number must also be specified. Why?"
      ]
     },
     {
      "cell_type": "markdown",
      "metadata": {
       "slideshow": {
        "slide_type": "subslide"
       }
      },
      "source": [
       "**Exercise** \n",
       "\n",
       "How to count down from 4 to 0? Try doing it without addition or subtraction."
      ]
     },
     {
      "cell_type": "code",
      "execution_count": null,
      "metadata": {
       "ExecuteTime": {
        "end_time": "2020-09-12T02:16:21.291051Z",
        "start_time": "2020-09-12T02:16:21.284902Z"
       },
       "deletable": false,
       "nbgrader": {
        "cell_type": "code",
        "checksum": "3861b010bfb19f925f4df5359f8e0dee",
        "grade": false,
        "grade_id": "count-down",
        "locked": false,
        "schema_version": 3,
        "solution": true,
        "task": false
       },
       "slideshow": {
        "slide_type": "-"
       }
      },
      "outputs": [],
      "source": [
       "# YOUR CODE HERE\n",
       "raise NotImplementedError()"
      ]
     },
     {
      "cell_type": "markdown",
      "metadata": {
       "slideshow": {
        "slide_type": "subslide"
       }
      },
      "source": [
       "**Exercise** \n",
       "\n",
       "Print from `0` to a user-specified number but in steps of `0.5`.  \n",
       "E.g., if the user inputs `2`, the program should print:\n",
       "```\n",
       "0.0\n",
       "0.5\n",
       "1.0\n",
       "1.5\n",
       "2.0\n",
       "```\n",
       "\n",
       "```{caution}\n",
       "`range` only accepts integer arguments.\n",
       "```"
      ]
     },
     {
      "cell_type": "code",
      "execution_count": null,
      "metadata": {
       "ExecuteTime": {
        "end_time": "2020-09-12T02:16:56.696693Z",
        "start_time": "2020-09-12T02:16:53.508468Z"
       },
       "deletable": false,
       "nbgrader": {
        "cell_type": "code",
        "checksum": "6af0218e335363884fa7e8f8471b07c3",
        "grade": false,
        "grade_id": "fractional-step",
        "locked": false,
        "schema_version": 3,
        "solution": true,
        "task": false
       },
       "slideshow": {
        "slide_type": "-"
       },
       "tags": []
      },
      "outputs": [],
      "source": [
       "num = int(input(\">\"))\n",
       "# YOUR CODE HERE\n",
       "raise NotImplementedError()"
      ]
     },
     {
      "cell_type": "markdown",
      "metadata": {
       "slideshow": {
        "slide_type": "subslide"
       },
       "tags": []
      },
      "source": [
       "**Exercise** \n",
       "\n",
       "How to print the character `'*'` repeatedly for `m` rows and `n` columns? \n",
       "\n",
       "```{hint}\n",
       "Try using a *nested for loop*, i.e., a for loop (*inner loop*) inside the body of another for loop (*outer loop*).\n",
       "```"
      ]
     },
     {
      "cell_type": "code",
      "execution_count": null,
      "metadata": {
       "ExecuteTime": {
        "end_time": "2020-09-12T02:17:26.930731Z",
        "start_time": "2020-09-12T02:17:26.882085Z"
       },
       "deletable": false,
       "nbgrader": {
        "cell_type": "code",
        "checksum": "ba57fbf849ea3640ee1655b679c3cf9d",
        "grade": false,
        "grade_id": "nested-loop",
        "locked": false,
        "schema_version": 3,
        "solution": true,
        "task": false
       },
       "slideshow": {
        "slide_type": "-"
       }
      },
      "outputs": [],
      "source": [
       "@interact(m=(0, 10), n=(0, 10))\n",
       "def draw_rectangle(m=5, n=5):\n",
       "    # YOUR CODE HERE\n",
       "    raise NotImplementedError()"
      ]
     },
     {
      "cell_type": "markdown",
      "metadata": {
       "slideshow": {
        "slide_type": "slide"
       }
      },
      "source": [
       "### Iterate over a string"
      ]
     },
     {
      "cell_type": "markdown",
      "metadata": {
       "slideshow": {
        "slide_type": "subslide"
       }
      },
      "source": [
       "**What does the following do?**"
      ]
     },
     {
      "cell_type": "code",
      "execution_count": null,
      "metadata": {
       "ExecuteTime": {
        "end_time": "2020-09-21T14:44:52.568078Z",
        "start_time": "2020-09-21T14:44:52.560424Z"
       },
       "slideshow": {
        "slide_type": "-"
       }
      },
      "outputs": [],
      "source": [
       "%%optlite -h 300\n",
       "for character in \"loop\":\n",
       "    print(character)"
      ]
     },
     {
      "cell_type": "markdown",
      "metadata": {
       "slideshow": {
        "slide_type": "fragment"
       }
      },
      "source": [
       "```{important}\n",
       "\n",
       "In python, `str` regarded as a [sequence type](https://docs.python.org/3/library/stdtypes.html#textseq), namely, a sequence of characters.\n",
       "- The function [`len`](https://docs.python.org/3/library/functions.html#len) can return the length of a string.\n",
       "- The indexing operator `[]` can return the character of a string at a specified location.\n",
       "```"
      ]
     },
     {
      "cell_type": "code",
      "execution_count": null,
      "metadata": {
       "ExecuteTime": {
        "end_time": "2020-09-12T02:19:37.057820Z",
        "start_time": "2020-09-12T02:19:37.050524Z"
       },
       "slideshow": {
        "slide_type": "-"
       }
      },
      "outputs": [],
      "source": [
       "message = \"loop\"\n",
       "print(\"length:\", len(message))\n",
       "print(\"characters:\", message[0], message[1], message[2], message[3])"
      ]
     },
     {
      "cell_type": "markdown",
      "metadata": {
       "slideshow": {
        "slide_type": "fragment"
       }
      },
      "source": [
       "We can also iterate over a string as follows although it is less elegant:"
      ]
     },
     {
      "cell_type": "code",
      "execution_count": null,
      "metadata": {
       "ExecuteTime": {
        "end_time": "2020-09-12T02:20:05.326619Z",
        "start_time": "2020-09-12T02:20:05.320063Z"
       },
       "slideshow": {
        "slide_type": "-"
       }
      },
      "outputs": [],
      "source": [
       "for i in range(len(\"loop\")):\n",
       "    print(\"loop\"[i])"
      ]
     },
     {
      "cell_type": "markdown",
      "metadata": {
       "slideshow": {
        "slide_type": "subslide"
       }
      },
      "source": [
       "**Exercise**\n",
       "\n",
       "Print a string assigned to `message` in reverse.  \n",
       "E.g., `'loop'` should be printed as `'pool'`. Try using the for loop and indexing operator."
      ]
     },
     {
      "cell_type": "code",
      "execution_count": null,
      "metadata": {
       "ExecuteTime": {
        "end_time": "2020-09-12T02:20:21.886787Z",
        "start_time": "2020-09-12T02:20:21.855189Z"
       },
       "deletable": false,
       "nbgrader": {
        "cell_type": "code",
        "checksum": "b708a603bdf84e20ba7aa11072f3fdd2",
        "grade": false,
        "grade_id": "reverse-string",
        "locked": false,
        "schema_version": 3,
        "solution": true,
        "task": false
       },
       "slideshow": {
        "slide_type": "-"
       }
      },
      "outputs": [],
      "source": [
       "@interact(message=\"loop\")\n",
       "def reverse_print(message):\n",
       "    # YOUR CODE HERE\n",
       "    raise NotImplementedError()"
      ]
     },
     {
      "cell_type": "markdown",
      "metadata": {
       "slideshow": {
        "slide_type": "slide"
       }
      },
      "source": [
       "## While Loop"
      ]
     },
     {
      "cell_type": "markdown",
      "metadata": {
       "slideshow": {
        "slide_type": "subslide"
       }
      },
      "source": [
       "**How to ensure user input is non-empty?**"
      ]
     },
     {
      "cell_type": "markdown",
      "metadata": {
       "slideshow": {
        "slide_type": "fragment"
       }
      },
      "source": [
       "Python provides the [`while` statement](https://docs.python.org/3/reference/compound_stmts.html#while) to loop until a specified condition is false."
      ]
     },
     {
      "cell_type": "code",
      "execution_count": null,
      "metadata": {
       "ExecuteTime": {
        "end_time": "2020-09-12T02:21:16.272650Z",
        "start_time": "2020-09-12T02:21:10.921514Z"
       },
       "slideshow": {
        "slide_type": "-"
       },
       "tags": [
        "remove-output"
       ]
      },
      "outputs": [],
      "source": [
       "while not input(\"Input something please:\"):\n",
       "    pass"
      ]
     },
     {
      "cell_type": "markdown",
      "metadata": {
       "slideshow": {
        "slide_type": "fragment"
       }
      },
      "source": [
       "As long as the condition after `while` is true, the body gets executed repeatedly. In the above example,\n",
       "- if user inputs nothing, \n",
       "- `input` returns an empty string `''`, which is [regarded as `False`](https://docs.python.org/3/reference/expressions.html#booleans), and so\n",
       "- the looping condition `not input('...')` is `True`."
      ]
     },
     {
      "cell_type": "markdown",
      "metadata": {
       "slideshow": {
        "slide_type": "subslide"
       }
      },
      "source": [
       "**Is it possible to use a for loop instead of a while loop?**"
      ]
     },
     {
      "cell_type": "markdown",
      "metadata": {},
      "source": [
       "```{important}\n",
       "-  `for` loop is a *definite loop* which has a definite number of iterations before the execution of the loop.\n",
       "- `while` statement is useful for an *indefinite loop* where the number of iterations is unknown before the execution of the loop.\n",
       "```"
      ]
     },
     {
      "cell_type": "markdown",
      "metadata": {
       "slideshow": {
        "slide_type": "fragment"
       }
      },
      "source": [
       "It is possible to replace a `for` loop by a `while` loop.  \n",
       "E.g., the following code prints from 0 to 4 using a while loop instead of a for loop."
      ]
     },
     {
      "cell_type": "code",
      "execution_count": null,
      "metadata": {
       "ExecuteTime": {
        "end_time": "2020-09-12T02:23:02.642597Z",
        "start_time": "2020-09-12T02:23:02.636660Z"
       },
       "slideshow": {
        "slide_type": "fragment"
       }
      },
      "outputs": [],
      "source": [
       "i = 0\n",
       "while i <= 4:\n",
       "    print(i)\n",
       "    i += 1"
      ]
     },
     {
      "cell_type": "markdown",
      "metadata": {
       "slideshow": {
        "slide_type": "fragment"
       }
      },
      "source": [
       "A while loop may not be as elegant, c.f.,  \n",
       "```Python\n",
       "for i in range(5): print(i)\n",
       "```\n",
       "but it can be as efficient."
      ]
     },
     {
      "cell_type": "markdown",
      "metadata": {
       "slideshow": {
        "slide_type": "subslide"
       }
      },
      "source": [
       "**Should we just use while loop?**"
      ]
     },
     {
      "cell_type": "markdown",
      "metadata": {
       "slideshow": {
        "slide_type": "fragment"
       }
      },
      "source": [
       "Consider using the following while loop to print from `0` to a user-specified value."
      ]
     },
     {
      "cell_type": "code",
      "execution_count": null,
      "metadata": {
       "ExecuteTime": {
        "end_time": "2020-09-12T02:28:59.075109Z",
        "start_time": "2020-09-12T02:28:51.272451Z"
       },
       "slideshow": {
        "slide_type": "-"
       },
       "tags": []
      },
      "outputs": [],
      "source": [
       "num = int(input(\">\"))\n",
       "i = 0\n",
       "while i != num + 1:\n",
       "    print(i)\n",
       "    i += 1"
      ]
     },
     {
      "cell_type": "markdown",
      "metadata": {
       "slideshow": {
        "slide_type": "fragment"
       }
      },
      "source": [
       "**Exercise** \n",
       "\n",
       "Is the above while loop doing the same thing as the for loop below?"
      ]
     },
     {
      "cell_type": "code",
      "execution_count": null,
      "metadata": {
       "ExecuteTime": {
        "end_time": "2020-09-12T02:24:58.735012Z",
        "start_time": "2020-09-12T02:24:55.351536Z"
       },
       "slideshow": {
        "slide_type": "-"
       },
       "tags": []
      },
      "outputs": [],
      "source": [
       "for i in range(int(input(\">\")) + 1):\n",
       "    print(i)"
      ]
     },
     {
      "cell_type": "markdown",
      "metadata": {
       "deletable": false,
       "nbgrader": {
        "cell_type": "markdown",
        "checksum": "d6045e273e15283312425d929acb66ab",
        "grade": true,
        "grade_id": "infinite-loop",
        "locked": false,
        "points": 0,
        "schema_version": 3,
        "solution": true,
        "task": false
       },
       "slideshow": {
        "slide_type": "-"
       }
      },
      "source": [
       "YOUR ANSWER HERE"
      ]
     },
     {
      "cell_type": "markdown",
      "metadata": {
       "slideshow": {
        "slide_type": "fragment"
       }
      },
      "source": [
       "```{important}\n",
       "\n",
       "We have to be careful not to create unintended *infinite loops*.  \n",
       "The computer can't always detect whether there is an infinite loop. ([Why not?](https://en.wikipedia.org/wiki/Halting_problem))\n",
       "```"
      ]
     },
     {
      "cell_type": "markdown",
      "metadata": {
       "slideshow": {
        "slide_type": "slide"
       }
      },
      "source": [
       "## Break/Continue/Else Constructs of a Loop"
      ]
     },
     {
      "cell_type": "markdown",
      "metadata": {
       "slideshow": {
        "slide_type": "subslide"
       }
      },
      "source": [
       "### Breaking out of a loop"
      ]
     },
     {
      "cell_type": "markdown",
      "metadata": {
       "slideshow": {
        "slide_type": "fragment"
       }
      },
      "source": [
       "**Is the following an infinite loop?**"
      ]
     },
     {
      "cell_type": "code",
      "execution_count": null,
      "metadata": {
       "ExecuteTime": {
        "end_time": "2020-09-12T02:31:40.571589Z",
        "start_time": "2020-09-12T02:31:34.464485Z"
       },
       "slideshow": {
        "slide_type": "-"
       }
      },
      "outputs": [],
      "source": [
       "while True:\n",
       "    message = input(\"Input something please:\")\n",
       "    if message:\n",
       "        break\n",
       "print(\"You entered:\", message)"
      ]
     },
     {
      "cell_type": "markdown",
      "metadata": {
       "slideshow": {
        "slide_type": "fragment"
       }
      },
      "source": [
       "The loop is terminated by the [`break` statement](https://docs.python.org/3/tutorial/controlflow.html#break-and-continue-statements-and-else-clauses-on-loops) when user input is non-empty."
      ]
     },
     {
      "cell_type": "markdown",
      "metadata": {
       "slideshow": {
        "slide_type": "subslide"
       }
      },
      "source": [
       "**Why is the `break` statement useful?**"
      ]
     },
     {
      "cell_type": "markdown",
      "metadata": {
       "slideshow": {
        "slide_type": "fragment"
       }
      },
      "source": [
       " Recall the earlier `while` loop:"
      ]
     },
     {
      "cell_type": "code",
      "execution_count": null,
      "metadata": {
       "ExecuteTime": {
        "end_time": "2020-09-12T02:32:29.802277Z",
        "start_time": "2020-09-12T02:32:24.259120Z"
       },
       "slideshow": {
        "slide_type": "-"
       }
      },
      "outputs": [],
      "source": [
       "while not input(\"Input something please:\"):\n",
       "    pass"
      ]
     },
     {
      "cell_type": "markdown",
      "metadata": {
       "slideshow": {
        "slide_type": "fragment"
       }
      },
      "source": [
       "This while loop is not useful because it does not store the user input."
      ]
     },
     {
      "cell_type": "markdown",
      "metadata": {
       "slideshow": {
        "slide_type": "subslide"
       }
      },
      "source": [
       "**Is the `break` statement strictly necessary?** "
      ]
     },
     {
      "cell_type": "markdown",
      "metadata": {
       "slideshow": {
        "slide_type": "fragment"
       }
      },
      "source": [
       "- We can use the assignment expression but it is not supported by Python version <3.8."
      ]
     },
     {
      "cell_type": "markdown",
      "metadata": {
       "slideshow": {
        "slide_type": "fragment"
       }
      },
      "source": [
       "- We can avoid `break` statement by using *flags*, which are boolean variables for flow control:"
      ]
     },
     {
      "cell_type": "code",
      "execution_count": null,
      "metadata": {
       "ExecuteTime": {
        "end_time": "2020-09-12T02:33:25.270345Z",
        "start_time": "2020-09-12T02:33:20.380440Z"
       },
       "slideshow": {
        "slide_type": "fragment"
       }
      },
      "outputs": [],
      "source": [
       "has_no_input = True\n",
       "while has_no_input:\n",
       "    message = input(\"Input something please:\")\n",
       "    if message:\n",
       "        has_no_input = False\n",
       "print(\"You entered:\", message)"
      ]
     },
     {
      "cell_type": "markdown",
      "metadata": {
       "slideshow": {
        "slide_type": "fragment"
       }
      },
      "source": [
       "```{note}\n",
       "\n",
       "Using flags sometimes makes the program more readable, and we can use multiple flags for more complicated behavior.  \n",
       "The variable names for flags are often `is_...`, `has_...`, etc.\n",
       "```"
      ]
     },
     {
      "cell_type": "markdown",
      "metadata": {
       "slideshow": {
        "slide_type": "slide"
       }
      },
      "source": [
       "### Continue to Next Iteration"
      ]
     },
     {
      "cell_type": "markdown",
      "metadata": {
       "slideshow": {
        "slide_type": "subslide"
       }
      },
      "source": [
       "**What does the following program do?  \n",
       "Is it an infinite loop?**"
      ]
     },
     {
      "cell_type": "markdown",
      "metadata": {},
      "source": [
       "```python\n",
       "while True:\n",
       "    message = input(\"Input something please:\")\n",
       "    if not message:\n",
       "        continue\n",
       "    print(\"You entered:\", message)\n",
       "```"
      ]
     },
     {
      "cell_type": "code",
      "execution_count": null,
      "metadata": {},
      "outputs": [],
      "source": [
       "while True:\n",
       "    message = input(\"Input something please:\")\n",
       "    if not message:\n",
       "        continue\n",
       "    print(\"You entered:\", message)"
      ]
     },
     {
      "cell_type": "markdown",
      "metadata": {
       "slideshow": {
        "slide_type": "fragment"
       }
      },
      "source": [
       "- The program repeatedly asks the user for input.\n",
       "- If the input is empty, the `continue` statement will skip to the next iteration.\n",
       "- The loop can only be terminated by interrupting the kernel.\n",
       "- Such an infinite loop can be useful. E.g., your computer clock continuously updates the current time."
      ]
     },
     {
      "cell_type": "markdown",
      "metadata": {
       "slideshow": {
        "slide_type": "fragment"
       }
      },
      "source": [
       "**Exercise** \n",
       "\n",
       "Is the `continue` statement strictly necessary? Can you rewrite the above program without the `continue` statement? "
      ]
     },
     {
      "cell_type": "code",
      "execution_count": null,
      "metadata": {
       "ExecuteTime": {
        "end_time": "2020-09-12T02:37:39.345421Z",
        "start_time": "2020-09-12T02:37:32.939865Z"
       },
       "deletable": false,
       "nbgrader": {
        "cell_type": "code",
        "checksum": "3535ae103e4d200d73083a00a35a07fb",
        "grade": false,
        "grade_id": "avoid-continue",
        "locked": false,
        "schema_version": 3,
        "solution": true,
        "task": false
       },
       "slideshow": {
        "slide_type": "-"
       }
      },
      "outputs": [],
      "source": [
       "while True:\n",
       "    message = input(\"Input something please:\")\n",
       "    # YOUR CODE HERE\n",
       "    raise NotImplementedError()"
      ]
     },
     {
      "cell_type": "markdown",
      "metadata": {
       "slideshow": {
        "slide_type": "subslide"
       }
      },
      "source": [
       "### Else construct for a loop"
      ]
     },
     {
      "cell_type": "markdown",
      "metadata": {
       "slideshow": {
        "slide_type": "fragment"
       }
      },
      "source": [
       "The following program checks whether a number is composite, namely,  \n",
       "- a positive integer that is\n",
       "- a product of two strictly smaller positive integers."
      ]
     },
     {
      "cell_type": "code",
      "execution_count": null,
      "metadata": {
       "ExecuteTime": {
        "end_time": "2020-09-21T14:53:16.423937Z",
        "start_time": "2020-09-21T14:53:16.388975Z"
       },
       "slideshow": {
        "slide_type": "-"
       }
      },
      "outputs": [],
      "source": [
       "@interact(num=\"1\")\n",
       "def check_composite(num):\n",
       "    if num.isdigit():\n",
       "        num = int(num)\n",
       "        for divisor in range(2, num): # why starts from 2 instead of 1\n",
       "            if num % divisor:\n",
       "                continue  # where will this go?\n",
       "            else:\n",
       "                print(\"It is composite.\")\n",
       "                break  # where will this go?\n",
       "        else:\n",
       "            print(\"It is not composite.\")  # how to get here?\n",
       "    else:\n",
       "        print(\"Not a positive integer.\")  # how to get here?"
      ]
     },
     {
      "cell_type": "markdown",
      "metadata": {
       "slideshow": {
        "slide_type": "fragment"
       }
      },
      "source": [
       "**Exercise** \n",
       "\n",
       "There are three else claues in the earlier code. Which one is for the loop?"
      ]
     },
     {
      "cell_type": "markdown",
      "metadata": {
       "slideshow": {
        "slide_type": "-"
       }
      },
      "source": [
       "```{admonition} Solution\n",
       ":class: dropdown\n",
       "\n",
       "- The second else clause that `print('It is not composite.')`.\n",
       "- The clause is called when there is no divisor found in the range from `2` to `num`.\n",
       "```"
      ]
     },
     {
      "cell_type": "markdown",
      "metadata": {
       "slideshow": {
        "slide_type": "subslide"
       }
      },
      "source": [
       "If program flow is confusing, try stepping through executation:"
      ]
     },
     {
      "cell_type": "code",
      "execution_count": null,
      "metadata": {
       "slideshow": {
        "slide_type": "fragment"
       }
      },
      "outputs": [],
      "source": [
       "%%optlite -h 650\n",
       "def check_composite(num):\n",
       "    if num.isdigit():\n",
       "        num = int(num)\n",
       "        for divisor in range(2, num):\n",
       "            if num % divisor:\n",
       "                continue\n",
       "            else:\n",
       "                print(\"It is composite.\")\n",
       "                break\n",
       "        else:\n",
       "            print(\"It is not composite.\")\n",
       "    else:\n",
       "        print(\"Not a positive integer.\")\n",
       "\n",
       "\n",
       "check_composite(\"1\")\n",
       "check_composite(\"2\")\n",
       "check_composite(\"3\")\n",
       "check_composite(\"4\")"
      ]
     },
     {
      "cell_type": "markdown",
      "metadata": {
       "slideshow": {
        "slide_type": "fragment"
       }
      },
      "source": [
       "In addition to using `continue` and `break` in an elegant way,  the code also uses an else clause that is executed only when the [loop terminates *normally* not by `break`](https://docs.python.org/3/reference/compound_stmts.html#the-for-statement)."
      ]
     },
     {
      "cell_type": "markdown",
      "metadata": {
       "slideshow": {
        "slide_type": "subslide"
       }
      },
      "source": [
       "**Exercise** \n",
       "\n",
       "Convert the for loop to a while loop. Try to make the code as efficient as possible with less computation and storage."
      ]
     },
     {
      "cell_type": "code",
      "execution_count": null,
      "metadata": {
       "ExecuteTime": {
        "end_time": "2020-09-27T08:55:33.231171Z",
        "start_time": "2020-09-27T08:55:33.193049Z"
       },
       "deletable": false,
       "nbgrader": {
        "cell_type": "code",
        "checksum": "013b1e373367d2b9e6d4dfc596d0f505",
        "grade": false,
        "grade_id": "for-to-while",
        "locked": false,
        "schema_version": 3,
        "solution": true,
        "task": false
       },
       "slideshow": {
        "slide_type": "-"
       }
      },
      "outputs": [],
      "source": [
       "@interact(num=\"1\")\n",
       "def check_composite(num):\n",
       "    if num.isdigit():\n",
       "        num = int(num)\n",
       "        # YOUR CODE HERE\n",
       "        raise NotImplementedError()\n",
       "    else:\n",
       "        print(\"Not a positive integer.\")"
      ]
     }
    ],
    "metadata": {
     "kernelspec": {
      "display_name": "Python 3 (ipykernel)",
      "language": "python",
      "name": "python3"
     },
     "language_info": {
      "codemirror_mode": {
       "name": "ipython",
       "version": 3
      },
      "file_extension": ".py",
      "mimetype": "text/x-python",
      "name": "python",
      "nbconvert_exporter": "python",
      "pygments_lexer": "ipython3",
      "version": "3.10.6"
     },
     "latex_envs": {
      "LaTeX_envs_menu_present": true,
      "autoclose": false,
      "autocomplete": true,
      "bibliofile": "biblio.bib",
      "cite_by": "apalike",
      "current_citInitial": 1,
      "eqLabelWithNumbers": true,
      "eqNumInitial": 1,
      "hotkeys": {
       "equation": "Ctrl-E",
       "itemize": "Ctrl-I"
      },
      "labels_anchors": false,
      "latex_user_defs": false,
      "report_style_numbering": false,
      "user_envs_cfg": false
     },
     "rise": {
      "enable_chalkboard": true,
      "scroll": true,
      "theme": "white"
     },
     "toc": {
      "base_numbering": 1,
      "nav_menu": {
       "height": "195px",
       "width": "330px"
      },
      "number_sections": true,
      "sideBar": true,
      "skip_h1_title": true,
      "title_cell": "Table of Contents",
      "title_sidebar": "Contents",
      "toc_cell": false,
      "toc_position": {
       "height": "454.418px",
       "left": "1533px",
       "top": "110.284px",
       "width": "435.327px"
      },
      "toc_section_display": true,
      "toc_window_display": false
     },
     "widgets": {
      "application/vnd.jupyter.widget-state+json": {
       "state": {
        "021de60eb2f144a2a60ee15efc9ba0ee": {
         "model_module": "@jupyter-widgets/base",
         "model_module_version": "1.2.0",
         "model_name": "LayoutModel",
         "state": {}
        },
        "08b68ed5377645e4b4cfbdd868093377": {
         "model_module": "@jupyter-widgets/base",
         "model_module_version": "1.2.0",
         "model_name": "LayoutModel",
         "state": {}
        },
        "0a97dbeba2fc40519e7f54be19080d26": {
         "model_module": "@jupyter-widgets/controls",
         "model_module_version": "1.5.0",
         "model_name": "VBoxModel",
         "state": {
          "_dom_classes": [
           "widget-interact"
          ],
          "children": [
           "IPY_MODEL_85678b7648f5422bbb7c9b7830d0204a",
           "IPY_MODEL_afcd081cdfeb4bac89b1d4d0dbc858b1"
          ],
          "layout": "IPY_MODEL_25b889229df349f9b13b59b2c51a6391"
         }
        },
        "0b378297eb8941fb9d0737fe9a2c6970": {
         "model_module": "@jupyter-widgets/controls",
         "model_module_version": "1.5.0",
         "model_name": "IntSliderModel",
         "state": {
          "description": "m",
          "layout": "IPY_MODEL_5915411b07d14a669541960fc1a33a93",
          "max": 10,
          "style": "IPY_MODEL_2fa7064085754a75bf9050f77b505148",
          "value": 5
         }
        },
        "0cddd9decb5b494e97a582d009e4fdb7": {
         "model_module": "@jupyter-widgets/controls",
         "model_module_version": "1.5.0",
         "model_name": "IntSliderModel",
         "state": {
          "description": "n",
          "layout": "IPY_MODEL_fb7d03fbaaaa47959ff59ef5d5c081aa",
          "max": 10,
          "style": "IPY_MODEL_36045cb6037d4c7a9d29475c9704ce84",
          "value": 5
         }
        },
        "1c9aa9f661fd4510a87ae3fbfa9b5ca3": {
         "model_module": "@jupyter-widgets/controls",
         "model_module_version": "1.5.0",
         "model_name": "TextModel",
         "state": {
          "description": "message",
          "layout": "IPY_MODEL_8067010d35ca46eeaaf0bdfd17918cdf",
          "style": "IPY_MODEL_951f3d2de3fc4f78b4b2abf37eec3e10",
          "value": "loop"
         }
        },
        "1fbd8c5a61724e76a1011c46ca6408b2": {
         "model_module": "jupyter-divewidgets",
         "model_module_version": "^0.1.5",
         "model_name": "OPTWidgetModel",
         "state": {
          "_model_module_version": "^0.1.5",
          "_model_name": "OPTWidgetModel",
          "_view_module_version": "^0.1.5",
          "_view_name": "OPTWidgetView",
          "height": 300,
          "layout": "IPY_MODEL_cf663738f84648529d32315b72a2360a",
          "script": "for i in 1, 2, 3, 4:\n    print(i)\n",
          "srcprefix": "https://dive4dec.github.io/optlite/#mode=display&code=",
          "width": 1100
         }
        },
        "1fd2d7a61a6a42368d2b79c6ec124a91": {
         "model_module": "@jupyter-widgets/output",
         "model_module_version": "1.0.0",
         "model_name": "OutputModel",
         "state": {
          "layout": "IPY_MODEL_30da8941f0b44780b1f5908b4dc6cdd4",
          "outputs": [
           {
            "name": "stdout",
            "output_type": "stream",
            "text": "pool\n"
           }
          ]
         }
        },
        "25b889229df349f9b13b59b2c51a6391": {
         "model_module": "@jupyter-widgets/base",
         "model_module_version": "1.2.0",
         "model_name": "LayoutModel",
         "state": {}
        },
        "28190d13dab845b1aa2af29be7749a37": {
         "model_module": "@jupyter-widgets/controls",
         "model_module_version": "1.5.0",
         "model_name": "DescriptionStyleModel",
         "state": {
          "description_width": ""
         }
        },
        "2833dbf6e0424067818fde8a55f5f653": {
         "model_module": "@jupyter-widgets/controls",
         "model_module_version": "1.5.0",
         "model_name": "DescriptionStyleModel",
         "state": {
          "description_width": ""
         }
        },
        "2c51a74d4f5e43ef80b6f22955ab8a0e": {
         "model_module": "@jupyter-widgets/controls",
         "model_module_version": "1.5.0",
         "model_name": "VBoxModel",
         "state": {
          "_dom_classes": [
           "widget-interact"
          ],
          "children": [
           "IPY_MODEL_3cb4f9ad5c174c2ea4bcc914b3852e33",
           "IPY_MODEL_954db9f935754e58b8c2e399e408ab6c"
          ],
          "layout": "IPY_MODEL_ced69de71c294a13ad289ab3dfc01c02"
         }
        },
        "2cb77a96cb0a4ea991ad09a4f707c7d0": {
         "model_module": "@jupyter-widgets/controls",
         "model_module_version": "1.5.0",
         "model_name": "VBoxModel",
         "state": {
          "_dom_classes": [
           "widget-interact"
          ],
          "children": [
           "IPY_MODEL_0b378297eb8941fb9d0737fe9a2c6970",
           "IPY_MODEL_0cddd9decb5b494e97a582d009e4fdb7",
           "IPY_MODEL_ae63ee5769b64f90ab2d2932109c93ac"
          ],
          "layout": "IPY_MODEL_c67fa4bf441b49b5befc819c5731714d"
         }
        },
        "2fa7064085754a75bf9050f77b505148": {
         "model_module": "@jupyter-widgets/controls",
         "model_module_version": "1.5.0",
         "model_name": "SliderStyleModel",
         "state": {
          "description_width": ""
         }
        },
        "30da8941f0b44780b1f5908b4dc6cdd4": {
         "model_module": "@jupyter-widgets/base",
         "model_module_version": "1.2.0",
         "model_name": "LayoutModel",
         "state": {}
        },
        "321a38b91dc84d26b763809d449b2977": {
         "model_module": "@jupyter-widgets/base",
         "model_module_version": "1.2.0",
         "model_name": "LayoutModel",
         "state": {}
        },
        "36045cb6037d4c7a9d29475c9704ce84": {
         "model_module": "@jupyter-widgets/controls",
         "model_module_version": "1.5.0",
         "model_name": "SliderStyleModel",
         "state": {
          "description_width": ""
         }
        },
        "3cb4f9ad5c174c2ea4bcc914b3852e33": {
         "model_module": "@jupyter-widgets/controls",
         "model_module_version": "1.5.0",
         "model_name": "TextModel",
         "state": {
          "description": "num",
          "layout": "IPY_MODEL_e566bade08cc45bcb582b5cae9f9d65b",
          "style": "IPY_MODEL_2833dbf6e0424067818fde8a55f5f653",
          "value": "1"
         }
        },
        "52ded841efe2488c905e8fac7b1bb8d4": {
         "model_module": "jupyter-divewidgets",
         "model_module_version": "^0.1.5",
         "model_name": "OPTWidgetModel",
         "state": {
          "_model_module_version": "^0.1.5",
          "_model_name": "OPTWidgetModel",
          "_view_module_version": "^0.1.5",
          "_view_name": "OPTWidgetView",
          "height": 350,
          "layout": "IPY_MODEL_021de60eb2f144a2a60ee15efc9ba0ee",
          "script": "num = int(input(\">\"))\n### BEGIN SOLUTION\nfor i in range(0, 2 * num + 1, 1):\n    print(i / 2)\n### END SOLUTION\n",
          "srcprefix": "https://dive4dec.github.io/optlite/#mode=display&code=",
          "width": 1100
         }
        },
        "5915411b07d14a669541960fc1a33a93": {
         "model_module": "@jupyter-widgets/base",
         "model_module_version": "1.2.0",
         "model_name": "LayoutModel",
         "state": {}
        },
        "68860936ad364ef7ab5299fa1ef8cdaa": {
         "model_module": "@jupyter-widgets/base",
         "model_module_version": "1.2.0",
         "model_name": "LayoutModel",
         "state": {}
        },
        "743370861f184a19b64566ba7cc68a51": {
         "model_module": "@jupyter-widgets/controls",
         "model_module_version": "1.5.0",
         "model_name": "VBoxModel",
         "state": {
          "_dom_classes": [
           "widget-interact"
          ],
          "children": [
           "IPY_MODEL_f9845554bd94403bab8ca42e95a18a9a",
           "IPY_MODEL_784151679d20427281925eaebdc8fa46"
          ],
          "layout": "IPY_MODEL_321a38b91dc84d26b763809d449b2977"
         }
        },
        "784151679d20427281925eaebdc8fa46": {
         "model_module": "@jupyter-widgets/output",
         "model_module_version": "1.0.0",
         "model_name": "OutputModel",
         "state": {
          "layout": "IPY_MODEL_b6a5a5d926364f16aa3b24e038121725",
          "outputs": [
           {
            "name": "stdout",
            "output_type": "stream",
            "text": "It is composite.\n"
           }
          ]
         }
        },
        "7a86e976e5b84ec097ad448d02716c20": {
         "model_module": "@jupyter-widgets/base",
         "model_module_version": "1.2.0",
         "model_name": "LayoutModel",
         "state": {}
        },
        "8067010d35ca46eeaaf0bdfd17918cdf": {
         "model_module": "@jupyter-widgets/base",
         "model_module_version": "1.2.0",
         "model_name": "LayoutModel",
         "state": {}
        },
        "85678b7648f5422bbb7c9b7830d0204a": {
         "model_module": "@jupyter-widgets/controls",
         "model_module_version": "1.5.0",
         "model_name": "TextModel",
         "state": {
          "description": "num",
          "layout": "IPY_MODEL_a9a4f97a9b7846adb6e0864e3bf78082",
          "style": "IPY_MODEL_be0b9739c2fa4da6bf4c18b85708a17e",
          "value": "1"
         }
        },
        "951f3d2de3fc4f78b4b2abf37eec3e10": {
         "model_module": "@jupyter-widgets/controls",
         "model_module_version": "1.5.0",
         "model_name": "DescriptionStyleModel",
         "state": {
          "description_width": ""
         }
        },
        "954db9f935754e58b8c2e399e408ab6c": {
         "model_module": "@jupyter-widgets/output",
         "model_module_version": "1.0.0",
         "model_name": "OutputModel",
         "state": {
          "layout": "IPY_MODEL_af64eca28e30410ea4b3dac770823709",
          "outputs": [
           {
            "name": "stdout",
            "output_type": "stream",
            "text": "It is not composite.\n"
           }
          ]
         }
        },
        "a9a4f97a9b7846adb6e0864e3bf78082": {
         "model_module": "@jupyter-widgets/base",
         "model_module_version": "1.2.0",
         "model_name": "LayoutModel",
         "state": {}
        },
        "ae63ee5769b64f90ab2d2932109c93ac": {
         "model_module": "@jupyter-widgets/output",
         "model_module_version": "1.0.0",
         "model_name": "OutputModel",
         "state": {
          "layout": "IPY_MODEL_08b68ed5377645e4b4cfbdd868093377",
          "outputs": [
           {
            "name": "stdout",
            "output_type": "stream",
            "text": "*****\n*****\n*****\n*****\n*****\n"
           }
          ]
         }
        },
        "af64eca28e30410ea4b3dac770823709": {
         "model_module": "@jupyter-widgets/base",
         "model_module_version": "1.2.0",
         "model_name": "LayoutModel",
         "state": {}
        },
        "afcd081cdfeb4bac89b1d4d0dbc858b1": {
         "model_module": "@jupyter-widgets/output",
         "model_module_version": "1.0.0",
         "model_name": "OutputModel",
         "state": {
          "layout": "IPY_MODEL_7a86e976e5b84ec097ad448d02716c20",
          "outputs": [
           {
            "name": "stdout",
            "output_type": "stream",
            "text": "It is not composite.\n"
           }
          ]
         }
        },
        "b6a5a5d926364f16aa3b24e038121725": {
         "model_module": "@jupyter-widgets/base",
         "model_module_version": "1.2.0",
         "model_name": "LayoutModel",
         "state": {}
        },
        "be0b9739c2fa4da6bf4c18b85708a17e": {
         "model_module": "@jupyter-widgets/controls",
         "model_module_version": "1.5.0",
         "model_name": "DescriptionStyleModel",
         "state": {
          "description_width": ""
         }
        },
        "c1a088a09939422d89bbc4830e2d244a": {
         "model_module": "jupyter-divewidgets",
         "model_module_version": "^0.1.5",
         "model_name": "OPTWidgetModel",
         "state": {
          "_model_module_version": "^0.1.5",
          "_model_name": "OPTWidgetModel",
          "_view_module_version": "^0.1.5",
          "_view_name": "OPTWidgetView",
          "height": 650,
          "layout": "IPY_MODEL_e06bca94f5b44688bd129655ab73e01b",
          "script": "def check_composite(num):\n    if num.isdigit():\n        num = int(num)\n        for divisor in range(2, num):\n            if num % divisor:\n                continue\n            else:\n                print(\"It is composite.\")\n                break\n        else:\n            print(\"It is not composite.\")\n    else:\n        print(\"Not a positive integer.\")\n\n\ncheck_composite(\"1\")\ncheck_composite(\"2\")\ncheck_composite(\"3\")\ncheck_composite(\"4\")\n",
          "srcprefix": "https://dive4dec.github.io/optlite/#mode=display&code=",
          "width": 1100
         }
        },
        "c67fa4bf441b49b5befc819c5731714d": {
         "model_module": "@jupyter-widgets/base",
         "model_module_version": "1.2.0",
         "model_name": "LayoutModel",
         "state": {}
        },
        "ced69de71c294a13ad289ab3dfc01c02": {
         "model_module": "@jupyter-widgets/base",
         "model_module_version": "1.2.0",
         "model_name": "LayoutModel",
         "state": {}
        },
        "cf663738f84648529d32315b72a2360a": {
         "model_module": "@jupyter-widgets/base",
         "model_module_version": "1.2.0",
         "model_name": "LayoutModel",
         "state": {}
        },
        "d5b915b180d74559b807af2017e6ff79": {
         "model_module": "@jupyter-widgets/base",
         "model_module_version": "1.2.0",
         "model_name": "LayoutModel",
         "state": {}
        },
        "e06bca94f5b44688bd129655ab73e01b": {
         "model_module": "@jupyter-widgets/base",
         "model_module_version": "1.2.0",
         "model_name": "LayoutModel",
         "state": {}
        },
        "e566bade08cc45bcb582b5cae9f9d65b": {
         "model_module": "@jupyter-widgets/base",
         "model_module_version": "1.2.0",
         "model_name": "LayoutModel",
         "state": {}
        },
        "e787a29be6954eeaba2bbd1f3eadb8e9": {
         "model_module": "@jupyter-widgets/controls",
         "model_module_version": "1.5.0",
         "model_name": "VBoxModel",
         "state": {
          "_dom_classes": [
           "widget-interact"
          ],
          "children": [
           "IPY_MODEL_1c9aa9f661fd4510a87ae3fbfa9b5ca3",
           "IPY_MODEL_1fd2d7a61a6a42368d2b79c6ec124a91"
          ],
          "layout": "IPY_MODEL_d5b915b180d74559b807af2017e6ff79"
         }
        },
        "ebe9c9f389ab4a86a07478f8b8d534e9": {
         "model_module": "jupyter-divewidgets",
         "model_module_version": "^0.1.5",
         "model_name": "OPTWidgetModel",
         "state": {
          "_model_module_version": "^0.1.5",
          "_model_name": "OPTWidgetModel",
          "_view_module_version": "^0.1.5",
          "_view_name": "OPTWidgetView",
          "height": 300,
          "layout": "IPY_MODEL_68860936ad364ef7ab5299fa1ef8cdaa",
          "script": "for character in \"loop\":\n    print(character)\n",
          "srcprefix": "https://dive4dec.github.io/optlite/#mode=display&code=",
          "width": 1100
         }
        },
        "f9845554bd94403bab8ca42e95a18a9a": {
         "model_module": "@jupyter-widgets/controls",
         "model_module_version": "1.5.0",
         "model_name": "TextModel",
         "state": {
          "description": "num",
          "layout": "IPY_MODEL_fce9ef4585884c3594b077784000202c",
          "style": "IPY_MODEL_28190d13dab845b1aa2af29be7749a37",
          "value": "4"
         }
        },
        "fb7d03fbaaaa47959ff59ef5d5c081aa": {
         "model_module": "@jupyter-widgets/base",
         "model_module_version": "1.2.0",
         "model_name": "LayoutModel",
         "state": {}
        },
        "fce9ef4585884c3594b077784000202c": {
         "model_module": "@jupyter-widgets/base",
         "model_module_version": "1.2.0",
         "model_name": "LayoutModel",
         "state": {}
        }
       },
       "version_major": 2,
       "version_minor": 0
      }
     }
    },
    "nbformat": 4,
    "nbformat_minor": 4
   }