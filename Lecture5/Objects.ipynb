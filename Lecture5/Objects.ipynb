{
 "cells": [
  {
   "cell_type": "code",
   "execution_count": null,
   "metadata": {},
   "outputs": [],
   "source": [
    "# Initialization cell\n",
    "try:  # for CS1302 JupyterLite pyodide kernel\n",
    "    import piplite\n",
    "\n",
    "    with open(\"requirements.txt\") as f:\n",
    "        for package in f:\n",
    "            package = package.strip()\n",
    "            print(\"Installing\", package)\n",
    "            await piplite.install(package)\n",
    "except ModuleNotFoundError:\n",
    "    pass"
   ]
  },
  {
   "cell_type": "markdown",
   "metadata": {
    "cell_style": "center",
    "slideshow": {
     "slide_type": "slide"
    }
   },
   "source": [
    "# Objects"
   ]
  },
  {
   "cell_type": "markdown",
   "metadata": {
    "slideshow": {
     "slide_type": "-"
    },
    "tags": [
     "remove-cell"
    ]
   },
   "source": [
    "**CS1302 Introduction to Computer Programming**\n",
    "___"
   ]
  },
  {
   "cell_type": "code",
   "execution_count": null,
   "metadata": {
    "ExecuteTime": {
     "end_time": "2020-11-27T11:20:04.656873Z",
     "start_time": "2020-11-27T11:20:04.651575Z"
    },
    "slideshow": {
     "slide_type": "fragment"
    },
    "tags": [
     "remove-cell"
    ]
   },
   "outputs": [],
   "source": [
    "from manim import *\n",
    "\n",
    "%reload_ext divewidgets"
   ]
  },
  {
   "cell_type": "markdown",
   "metadata": {},
   "source": [
    "## Definitions"
   ]
  },
  {
   "cell_type": "markdown",
   "metadata": {
    "slideshow": {
     "slide_type": "subslide"
    }
   },
   "source": [
    "```{important}\n",
    "\n",
    "Python is a [*class-based* object-oriented programming (OOP)](https://en.wikipedia.org/wiki/Object-oriented_programming#Class-based_vs_prototype-based) language:  \n",
    "- Each object is an instance of a *class/type*, which can be a *subclass* of one or more *base classes*.\n",
    "- An object is a collection of *members/attributes*, each of which is an object.\n",
    "```"
   ]
  },
  {
   "cell_type": "markdown",
   "metadata": {
    "slideshow": {
     "slide_type": "fragment"
    }
   },
   "source": [
    "**Why object-oriented programming?**"
   ]
  },
  {
   "cell_type": "markdown",
   "metadata": {},
   "source": [
    "Let's write the Hello-World program with OOP:"
   ]
  },
  {
   "cell_type": "code",
   "execution_count": null,
   "metadata": {},
   "outputs": [],
   "source": [
    "%%manim -ql --progress_bar=none --disable_caching --flush_cache -v ERROR HelloWorld\n",
    "class HelloWorld(Scene):\n",
    "    def construct(self):\n",
    "        self.play(Write(Text(\"Hello, World!\")))"
   ]
  },
  {
   "cell_type": "markdown",
   "metadata": {},
   "source": [
    "The above code creates a video by simply defining\n",
    " - a `Scene` called `HelloWorld` \n",
    " - `construct`ed by `play`ing an animation that\n",
    " - `Write`s the `Text` message `'Hello, World!'`. "
   ]
  },
  {
   "cell_type": "markdown",
   "metadata": {
    "slideshow": {
     "slide_type": "fragment"
    }
   },
   "source": [
    "Complicated animations can be created without too many lines of code:"
   ]
  },
  {
   "cell_type": "code",
   "execution_count": null,
   "metadata": {
    "ExecuteTime": {
     "end_time": "2020-09-27T11:30:40.028382Z",
     "start_time": "2020-09-27T11:30:40.020250Z"
    },
    "code_folding": [
     0
    ],
    "slideshow": {
     "slide_type": "-"
    },
    "tags": []
   },
   "outputs": [],
   "source": [
    "%%html\n",
    "<iframe width=\"800\" height=\"450\" src=\"https://www.youtube.com/embed/ENMyFGmq5OA\" frameborder=\"0\" allow=\"accelerometer; autoplay; clipboard-write; encrypted-media; gyroscope; picture-in-picture\" allowfullscreen></iframe>"
   ]
  },
  {
   "cell_type": "markdown",
   "metadata": {
    "slideshow": {
     "slide_type": "fragment"
    }
   },
   "source": [
    "**Exercise** Define \n",
    "\n",
    "- a `Scene` called `Test`\n",
    "- `construct`ed by `play`ing an animation that\n",
    "- `FadeIn` a `Square()` and then\n",
    "- `play`ing another animation that\n",
    "- shows a `Circle` that `GrowFromCenter`.\n",
    "\n",
    "```{hint}\n",
    "See the [documentation](https://docs.manim.community/) and [tutorial](https://talkingphysics.wordpress.com/2019/01/08/getting-started-animating-with-manim-and-python-3-7/).\n",
    "```"
   ]
  },
  {
   "cell_type": "code",
   "execution_count": null,
   "metadata": {
    "ExecuteTime": {
     "end_time": "2020-09-28T11:37:13.912284Z",
     "start_time": "2020-09-28T11:37:13.903693Z"
    },
    "deletable": false,
    "nbgrader": {
     "cell_type": "code",
     "checksum": "45c9f9a611362d84e0b30eda3562ab18",
     "grade": false,
     "grade_id": "manim",
     "locked": false,
     "schema_version": 3,
     "solution": true,
     "task": false
    },
    "slideshow": {
     "slide_type": "-"
    },
    "tags": []
   },
   "outputs": [],
   "source": [
    "%%manim -ql --progress_bar=none --disable_caching --flush_cache -v ERROR Test\n",
    "class Test(Scene):\n",
    "    def construct(self):\n",
    "        # YOUR CODE HERE\n",
    "        raise NotImplementedError()"
   ]
  },
  {
   "cell_type": "markdown",
   "metadata": {},
   "source": [
    "```{important}\n",
    "\n",
    "- OOP *encapsulates* implementation details while\n",
    "- making programming *expressive*.\n",
    "```"
   ]
  },
  {
   "cell_type": "markdown",
   "metadata": {
    "slideshow": {
     "slide_type": "subslide"
    }
   },
   "source": [
    "**What is an object?**"
   ]
  },
  {
   "cell_type": "markdown",
   "metadata": {},
   "source": [
    "`object` is a class/type like `int`, `float`, `str`, and `bool`."
   ]
  },
  {
   "cell_type": "code",
   "execution_count": null,
   "metadata": {},
   "outputs": [],
   "source": [
    "isinstance(object, type)"
   ]
  },
  {
   "cell_type": "markdown",
   "metadata": {
    "slideshow": {
     "slide_type": "fragment"
    }
   },
   "source": [
    "Almost everything in Python is an object, or more precisely, an instance of type [`object`](https://docs.python.org/3/library/functions.html?highlight=object#object)."
   ]
  },
  {
   "cell_type": "code",
   "execution_count": null,
   "metadata": {
    "ExecuteTime": {
     "end_time": "2020-10-09T11:55:23.765015Z",
     "start_time": "2020-10-09T11:55:23.702114Z"
    },
    "slideshow": {
     "slide_type": "-"
    }
   },
   "outputs": [],
   "source": [
    "(\n",
    "    isinstance(1, object)\n",
    "    and isinstance(1.0, object)\n",
    "    and isinstance(\"1\", object)\n",
    "    and isinstance(True, object)\n",
    "    and isinstance(None, object)\n",
    "    and isinstance(__builtin__, object)\n",
    "    and isinstance(object, object)\n",
    ")"
   ]
  },
  {
   "cell_type": "markdown",
   "metadata": {
    "slideshow": {
     "slide_type": "fragment"
    }
   },
   "source": [
    "A function is also a object."
   ]
  },
  {
   "cell_type": "code",
   "execution_count": null,
   "metadata": {
    "ExecuteTime": {
     "end_time": "2020-09-26T14:12:33.321836Z",
     "start_time": "2020-09-26T14:12:33.315596Z"
    },
    "slideshow": {
     "slide_type": "-"
    }
   },
   "outputs": [],
   "source": [
    "isinstance(print, object) and isinstance(range, object)"
   ]
  },
  {
   "cell_type": "markdown",
   "metadata": {},
   "source": [
    "```{note}\n",
    "\n",
    "Python treats functions as [first-class](https://en.wikipedia.org/wiki/First-class_function) objects that can be\n",
    "- passed as arguments to other functions,\n",
    "- assigned to variables, and\n",
    "- returned as values.\n",
    "```"
   ]
  },
  {
   "cell_type": "markdown",
   "metadata": {},
   "source": [
    "A simple illustration is as follows."
   ]
  },
  {
   "cell_type": "code",
   "execution_count": null,
   "metadata": {},
   "outputs": [],
   "source": [
    "%%optlite -h 300\n",
    "def f(f):\n",
    "    return f\n",
    "\n",
    "\n",
    "f = f(f)"
   ]
  },
  {
   "cell_type": "markdown",
   "metadata": {},
   "source": [
    "A non-trivial illustration is decorator to be explained in a subsequent lecture. "
   ]
  },
  {
   "cell_type": "markdown",
   "metadata": {},
   "source": [
    "**Exercise**\n",
    "\n",
    "While an object is a type, is a type an object? Check using `isinstance`."
   ]
  },
  {
   "cell_type": "code",
   "execution_count": null,
   "metadata": {
    "ExecuteTime": {
     "end_time": "2020-09-28T11:37:13.912284Z",
     "start_time": "2020-09-28T11:37:13.903693Z"
    },
    "deletable": false,
    "nbgrader": {
     "cell_type": "code",
     "checksum": "309fe5bf896d8e9b7ea88921166f95b1",
     "grade": false,
     "grade_id": "chicken_and_egg",
     "locked": false,
     "schema_version": 3,
     "solution": true,
     "task": false
    },
    "slideshow": {
     "slide_type": "-"
    },
    "tags": []
   },
   "outputs": [],
   "source": [
    "# YOUR CODE HERE\n",
    "raise NotImplementedError()"
   ]
  },
  {
   "cell_type": "markdown",
   "metadata": {},
   "source": [
    "**Can an object has multiple types?**"
   ]
  },
  {
   "cell_type": "markdown",
   "metadata": {},
   "source": [
    "```{important}\n",
    "An object can be an instance of more than one types.\n",
    "```"
   ]
  },
  {
   "cell_type": "markdown",
   "metadata": {},
   "source": [
    "For instance, `True` is an instance of `bool`, `int`, and `object`:"
   ]
  },
  {
   "cell_type": "code",
   "execution_count": null,
   "metadata": {},
   "outputs": [],
   "source": [
    "isinstance(True, bool) and isinstance(True, int) and isinstance(True, object)"
   ]
  },
  {
   "cell_type": "markdown",
   "metadata": {},
   "source": [
    "As proposed in [PEP 285](https://peps.python.org/pep-0285/#abstract),\n",
    "\n",
    "\n",
    "$$\n",
    "\\begin{CD}\n",
    "\\text{bool} @>{\\text{subclass}}>> \\text{int} @>{\\text{subclass}}>> \\text{object}\n",
    "\\end{CD}\n",
    "$$\n",
    "\n",
    "- `bool` is a subclass of `int`, and \n",
    "- `int` is a subclass of `object`. "
   ]
  },
  {
   "cell_type": "code",
   "execution_count": null,
   "metadata": {},
   "outputs": [],
   "source": [
    "issubclass(bool, int) and issubclass(int, object)"
   ]
  },
  {
   "cell_type": "markdown",
   "metadata": {},
   "source": [
    "- `type(True)` returns the immediate type of an object.\n",
    "- The sequences of base classes can be returned by `mro` (method resolution order)."
   ]
  },
  {
   "cell_type": "code",
   "execution_count": null,
   "metadata": {},
   "outputs": [],
   "source": [
    "print('type of True:',type(True))\n",
    "print('MRO of True:', type(True).mro())"
   ]
  },
  {
   "cell_type": "markdown",
   "metadata": {},
   "source": [
    "**Exercise**\n",
    "\n",
    "Check whether `type` is a subclass of `object` and vice versa. (Is the result reasonable?)"
   ]
  },
  {
   "cell_type": "code",
   "execution_count": null,
   "metadata": {
    "ExecuteTime": {
     "end_time": "2020-09-28T11:37:13.912284Z",
     "start_time": "2020-09-28T11:37:13.903693Z"
    },
    "deletable": false,
    "nbgrader": {
     "cell_type": "code",
     "checksum": "462c03f5d1d1f4c9587492f302528d5b",
     "grade": false,
     "grade_id": "subclass",
     "locked": false,
     "schema_version": 3,
     "solution": true,
     "task": false
    },
    "slideshow": {
     "slide_type": "-"
    },
    "tags": []
   },
   "outputs": [],
   "source": [
    "# YOUR CODE HERE\n",
    "raise NotImplementedError()"
   ]
  },
  {
   "cell_type": "markdown",
   "metadata": {},
   "source": [
    "**What is an attribute?**"
   ]
  },
  {
   "cell_type": "markdown",
   "metadata": {
    "slideshow": {
     "slide_type": "fragment"
    }
   },
   "source": [
    "```{important}\n",
    "\n",
    "The structure and behavior of an object is governed by its attributes.\n",
    "```"
   ]
  },
  {
   "cell_type": "markdown",
   "metadata": {},
   "source": [
    "To check if an object has a particular attribute:"
   ]
  },
  {
   "cell_type": "code",
   "execution_count": null,
   "metadata": {},
   "outputs": [],
   "source": [
    "complex(\"1+j\")"
   ]
  },
  {
   "cell_type": "code",
   "execution_count": null,
   "metadata": {},
   "outputs": [],
   "source": [
    "hasattr(complex(\"1+j\"), \"imag\"), hasattr(\"1+j\", \"imag\")"
   ]
  },
  {
   "cell_type": "markdown",
   "metadata": {},
   "source": [
    "To list all attributes of an object:"
   ]
  },
  {
   "cell_type": "code",
   "execution_count": null,
   "metadata": {
    "tags": []
   },
   "outputs": [],
   "source": [
    "dir(complex(\"1+j\"))"
   ]
  },
  {
   "cell_type": "markdown",
   "metadata": {},
   "source": [
    "Different objects of a class have the *same set of attributes* as that of the class."
   ]
  },
  {
   "cell_type": "code",
   "execution_count": null,
   "metadata": {},
   "outputs": [],
   "source": [
    "dir(complex(\"1+j\")) == dir(complex(1)) == dir(complex)"
   ]
  },
  {
   "cell_type": "markdown",
   "metadata": {},
   "source": [
    "A subclass also inherits the attributes of its base classes."
   ]
  },
  {
   "cell_type": "code",
   "execution_count": null,
   "metadata": {},
   "outputs": [],
   "source": [
    "dir(bool) == dir(int)  # subset relation in general"
   ]
  },
  {
   "cell_type": "markdown",
   "metadata": {},
   "source": [
    "Different objects of the same class can still behave differently because their attribute *values can be different*."
   ]
  },
  {
   "cell_type": "code",
   "execution_count": null,
   "metadata": {},
   "outputs": [],
   "source": [
    "complex(\"1+j\").imag == complex(1).imag"
   ]
  },
  {
   "cell_type": "markdown",
   "metadata": {
    "slideshow": {
     "slide_type": "fragment"
    }
   },
   "source": [
    "An attribute can also be a function, which is called a *method* or *member function*."
   ]
  },
  {
   "cell_type": "code",
   "execution_count": null,
   "metadata": {
    "ExecuteTime": {
     "end_time": "2020-10-09T11:57:39.967209Z",
     "start_time": "2020-10-09T11:57:39.960448Z"
    },
    "slideshow": {
     "slide_type": "fragment"
    }
   },
   "outputs": [],
   "source": [
    "complex.conjugate(complex(1, 2)), type(complex.conjugate)"
   ]
  },
  {
   "cell_type": "markdown",
   "metadata": {
    "slideshow": {
     "slide_type": "fragment"
    }
   },
   "source": [
    "A [method](https://docs.python.org/3/tutorial/classes.html#method-objects) can be accessed by objects of the class:"
   ]
  },
  {
   "cell_type": "code",
   "execution_count": null,
   "metadata": {
    "ExecuteTime": {
     "end_time": "2020-09-26T15:27:25.840387Z",
     "start_time": "2020-09-26T15:27:25.833835Z"
    },
    "slideshow": {
     "slide_type": "-"
    }
   },
   "outputs": [],
   "source": [
    "complex(1, 2).conjugate(), type(complex(1, 2).conjugate)"
   ]
  },
  {
   "cell_type": "markdown",
   "metadata": {
    "slideshow": {
     "slide_type": "fragment"
    }
   },
   "source": [
    "`complex(1,2).conjugate` is a *callable* object:\n",
    "- Its attribute `__self__` is assigned to `complex(1,2)`.\n",
    "- When called, it passes `__self__` as the first argument to `complex.conjugate`."
   ]
  },
  {
   "cell_type": "code",
   "execution_count": null,
   "metadata": {
    "ExecuteTime": {
     "end_time": "2020-09-27T11:48:08.273598Z",
     "start_time": "2020-09-27T11:48:08.265782Z"
    },
    "slideshow": {
     "slide_type": "-"
    }
   },
   "outputs": [],
   "source": [
    "callable(complex(1, 2).conjugate), complex(1, 2).conjugate.__self__"
   ]
  },
  {
   "cell_type": "markdown",
   "metadata": {
    "slideshow": {
     "slide_type": "slide"
    }
   },
   "source": [
    "## Object Aliasing"
   ]
  },
  {
   "cell_type": "markdown",
   "metadata": {
    "slideshow": {
     "slide_type": "subslide"
    }
   },
   "source": [
    "**When are two objects identical?**"
   ]
  },
  {
   "cell_type": "markdown",
   "metadata": {
    "slideshow": {
     "slide_type": "fragment"
    }
   },
   "source": [
    "The keyword `is` checks whether two objects are the same object:"
   ]
  },
  {
   "cell_type": "code",
   "execution_count": null,
   "metadata": {},
   "outputs": [],
   "source": [
    "def f(f):\n",
    "    return f\n",
    "\n",
    "\n",
    "f(f) is f"
   ]
  },
  {
   "cell_type": "markdown",
   "metadata": {
    "slideshow": {
     "slide_type": "fragment"
    }
   },
   "source": [
    "**Is `is` the same as `==`?**"
   ]
  },
  {
   "cell_type": "markdown",
   "metadata": {
    "slideshow": {
     "slide_type": "fragment"
    }
   },
   "source": [
    "`is` is slightly faster because:\n",
    "\n",
    "- `is` simply checks whether two objects occupy the same memory, but \n",
    "- `==` calls the method (`__eq__`) of the operands to checks the equality in value."
   ]
  },
  {
   "cell_type": "markdown",
   "metadata": {
    "slideshow": {
     "slide_type": "fragment"
    }
   },
   "source": [
    "To see this, we can use the function `id` which returns an id number for an object based on its memory location."
   ]
  },
  {
   "cell_type": "code",
   "execution_count": null,
   "metadata": {},
   "outputs": [],
   "source": [
    "%%optlite -h 400\n",
    "x = y = complex(1, 0)\n",
    "z = complex(1, 0)\n",
    "print(x == y == z == 1.0)\n",
    "x_id = id(x)\n",
    "y_id = id(y)\n",
    "z_id = id(z)\n",
    "print(x is y)  # id(x) == id(y)\n",
    "print(x is not z)  # id(x) != id(z)"
   ]
  },
  {
   "cell_type": "markdown",
   "metadata": {
    "slideshow": {
     "slide_type": "fragment"
    }
   },
   "source": [
    "As the box-pointer diagram shows:\n",
    "- `x` is `y` because the assignment `x = y` binds `y` to the same memory location `x` points to.  \n",
    "    `y` is said to be an *alias* (another name) of `x`. \n",
    "- `x` is not `z` because they point to objects at different memory locations,  \n",
    "  even though the objects have the same type and value."
   ]
  },
  {
   "cell_type": "markdown",
   "metadata": {
    "slideshow": {
     "slide_type": "subslide"
    }
   },
   "source": [
    "**Can we use `is` instead of `==` to compare integers/strings?**"
   ]
  },
  {
   "cell_type": "code",
   "execution_count": null,
   "metadata": {
    "ExecuteTime": {
     "end_time": "2020-10-09T12:22:51.388017Z",
     "start_time": "2020-10-09T12:22:51.384450Z"
    },
    "slideshow": {
     "slide_type": "-"
    }
   },
   "outputs": [],
   "source": [
    "%%optlite -h 350\n",
    "print(10**10 is 10**10)\n",
    "print(10**100 is 10**100)"
   ]
  },
  {
   "cell_type": "code",
   "execution_count": null,
   "metadata": {
    "slideshow": {
     "slide_type": "-"
    }
   },
   "outputs": [],
   "source": [
    "%%optlite -h 350\n",
    "x = y = \"abc\"\n",
    "print(x is y)\n",
    "print(y is \"abc\")\n",
    "print(x + y is x + \"abc\")"
   ]
  },
  {
   "cell_type": "markdown",
   "metadata": {},
   "source": [
    "Indeed, we normally gets a `SyntaxWarning` when using `is` with a literal."
   ]
  },
  {
   "cell_type": "code",
   "execution_count": null,
   "metadata": {},
   "outputs": [],
   "source": [
    "10 is 10, \"abc\" is \"abc\""
   ]
  },
  {
   "cell_type": "markdown",
   "metadata": {
    "slideshow": {
     "slide_type": "fragment"
    }
   },
   "source": [
    "```{caution}\n",
    "\n",
    "When using `is` with a literal, the behavior is not entirely predictable because  \n",
    "- python tries to avoid storing the same value at different locations by [*interning*](https://www.codesansar.com/python-programming/integer-interning.htm) but\n",
    "- interning is not always possible/practical, especially when the same value is obtain in different ways.\n",
    "\n",
    "Hence, `is` should only be used for [built-in constants](https://docs.python.org/3/library/constants.html#built-in-constants) such as `None` because there can only be one instance of each of them.\n",
    "```"
   ]
  },
  {
   "cell_type": "markdown",
   "metadata": {
    "slideshow": {
     "slide_type": "slide"
    }
   },
   "source": [
    "## File Objects"
   ]
  },
  {
   "cell_type": "markdown",
   "metadata": {
    "ExecuteTime": {
     "end_time": "2020-07-25T05:29:37.415351Z",
     "start_time": "2020-07-25T05:29:37.409512Z"
    },
    "slideshow": {
     "slide_type": "subslide"
    }
   },
   "source": [
    "**How to read a text file?**"
   ]
  },
  {
   "cell_type": "markdown",
   "metadata": {
    "slideshow": {
     "slide_type": "fragment"
    }
   },
   "source": [
    "Consider reading a csv (comma separated value) file:"
   ]
  },
  {
   "cell_type": "code",
   "execution_count": null,
   "metadata": {
    "ExecuteTime": {
     "end_time": "2020-10-09T11:58:17.840881Z",
     "start_time": "2020-10-09T11:58:17.700467Z"
    },
    "slideshow": {
     "slide_type": "-"
    }
   },
   "outputs": [],
   "source": [
    "!more 'contact.csv'"
   ]
  },
  {
   "cell_type": "markdown",
   "metadata": {
    "slideshow": {
     "slide_type": "fragment"
    }
   },
   "source": [
    "To read the file by a Python program:"
   ]
  },
  {
   "cell_type": "code",
   "execution_count": null,
   "metadata": {
    "ExecuteTime": {
     "end_time": "2020-09-27T14:34:46.544864Z",
     "start_time": "2020-09-27T14:34:46.538505Z"
    },
    "slideshow": {
     "slide_type": "-"
    },
    "tags": []
   },
   "outputs": [],
   "source": [
    "f = open(\"contact.csv\")  # create a file object for reading\n",
    "print(f.read())  # return the entire content\n",
    "f.close()  # close the file"
   ]
  },
  {
   "cell_type": "markdown",
   "metadata": {
    "slideshow": {
     "slide_type": "fragment"
    }
   },
   "source": [
    "1. [`open`](https://docs.python.org/3/library/functions.html?highlight=open#open) is a function that creates a file object and assigns it to `f`.\n",
    "1. Associated with the file object:  \n",
    "  - [`read`](https://docs.python.org/3/library/io.html#io.TextIOBase.read) returns the entire content of the file as a string.\n",
    "  - [`close`](https://docs.python.org/3/library/io.html#io.IOBase.close) flushes and closes the file."
   ]
  },
  {
   "cell_type": "markdown",
   "metadata": {
    "slideshow": {
     "slide_type": "subslide"
    }
   },
   "source": [
    "**Why close a file?**"
   ]
  },
  {
   "cell_type": "markdown",
   "metadata": {
    "slideshow": {
     "slide_type": "fragment"
    }
   },
   "source": [
    "If not, depending on the operating system,\n",
    "- other programs may not be able to access the file, and\n",
    "- changes may not be written to the file."
   ]
  },
  {
   "cell_type": "markdown",
   "metadata": {
    "slideshow": {
     "slide_type": "subslide"
    }
   },
   "source": [
    "To ensure a file is closed properly, we can use the [`with` statement](https://docs.python.org/3/reference/compound_stmts.html#with):"
   ]
  },
  {
   "cell_type": "code",
   "execution_count": null,
   "metadata": {
    "ExecuteTime": {
     "end_time": "2020-09-27T14:34:53.564370Z",
     "start_time": "2020-09-27T14:34:53.556338Z"
    },
    "slideshow": {
     "slide_type": "fragment"
    }
   },
   "outputs": [],
   "source": [
    "with open(\"contact.csv\") as f:\n",
    "    print(f.read())"
   ]
  },
  {
   "cell_type": "markdown",
   "metadata": {
    "slideshow": {
     "slide_type": "subslide"
    }
   },
   "source": [
    "The `with` statement applies to any [context manager](https://docs.python.org/3/reference/datamodel.html#context-managers) that provides the methods\n",
    "- `__enter__` for initialization, and\n",
    "- `__exit__` for finalization."
   ]
  },
  {
   "cell_type": "code",
   "execution_count": null,
   "metadata": {
    "ExecuteTime": {
     "end_time": "2020-10-09T11:59:52.848341Z",
     "start_time": "2020-10-09T11:59:52.844168Z"
    },
    "slideshow": {
     "slide_type": "fragment"
    }
   },
   "outputs": [],
   "source": [
    "with open(\"contact.csv\") as f:\n",
    "    print(f, hasattr(f, \"__enter__\"), hasattr(f, \"__exit__\"), sep=\"\\n\")"
   ]
  },
  {
   "cell_type": "markdown",
   "metadata": {
    "slideshow": {
     "slide_type": "fragment"
    }
   },
   "source": [
    "- `f.__enter__` is called after the file object is successfully created and assigned to `f`, and\n",
    "- `f.__exit__` is called at the end, which closes the file.\n",
    "- `f.closed` indicates whether the file is closed."
   ]
  },
  {
   "cell_type": "code",
   "execution_count": null,
   "metadata": {
    "ExecuteTime": {
     "end_time": "2020-09-27T11:53:59.538208Z",
     "start_time": "2020-09-27T11:53:59.532644Z"
    },
    "slideshow": {
     "slide_type": "fragment"
    }
   },
   "outputs": [],
   "source": [
    "f.closed"
   ]
  },
  {
   "cell_type": "markdown",
   "metadata": {
    "slideshow": {
     "slide_type": "fragment"
    }
   },
   "source": [
    "We can iterate a file object in a for loop,  \n",
    "which implicitly call the method `__iter__` to read a file line by line."
   ]
  },
  {
   "cell_type": "code",
   "execution_count": null,
   "metadata": {
    "ExecuteTime": {
     "end_time": "2020-10-09T12:00:38.536083Z",
     "start_time": "2020-10-09T12:00:38.529215Z"
    },
    "slideshow": {
     "slide_type": "fragment"
    },
    "tags": []
   },
   "outputs": [],
   "source": [
    "with open(\"contact.csv\") as f:\n",
    "    for line in f:\n",
    "        print(line, end=\"\")\n",
    "\n",
    "hasattr(f, \"__iter__\")"
   ]
  },
  {
   "cell_type": "markdown",
   "metadata": {
    "slideshow": {
     "slide_type": "subslide"
    }
   },
   "source": [
    "**Exercise** Print only the first 5 lines of the file `contact.csv`."
   ]
  },
  {
   "cell_type": "code",
   "execution_count": null,
   "metadata": {
    "ExecuteTime": {
     "end_time": "2020-09-28T11:37:13.912284Z",
     "start_time": "2020-09-28T11:37:13.903693Z"
    },
    "deletable": false,
    "nbgrader": {
     "cell_type": "code",
     "checksum": "484ee06e7a39a307fd057628f40d2113",
     "grade": false,
     "grade_id": "read-head",
     "locked": false,
     "schema_version": 3,
     "solution": true,
     "task": false
    },
    "slideshow": {
     "slide_type": "-"
    }
   },
   "outputs": [],
   "source": [
    "with open(\"contact.csv\") as f:\n",
    "    # YOUR CODE HERE\n",
    "    raise NotImplementedError()"
   ]
  },
  {
   "cell_type": "markdown",
   "metadata": {
    "slideshow": {
     "slide_type": "subslide"
    }
   },
   "source": [
    "**How to write to a text file?**"
   ]
  },
  {
   "cell_type": "markdown",
   "metadata": {
    "slideshow": {
     "slide_type": "fragment"
    }
   },
   "source": [
    "Consider backing up `contact.csv` to a new file:"
   ]
  },
  {
   "cell_type": "code",
   "execution_count": null,
   "metadata": {
    "ExecuteTime": {
     "end_time": "2020-10-09T12:02:09.880084Z",
     "start_time": "2020-10-09T12:02:09.875981Z"
    },
    "slideshow": {
     "slide_type": "-"
    }
   },
   "outputs": [],
   "source": [
    "destination = \"private/new_contact.csv\""
   ]
  },
  {
   "cell_type": "markdown",
   "metadata": {
    "slideshow": {
     "slide_type": "fragment"
    }
   },
   "source": [
    "The directory has to be created first if it does not exist:"
   ]
  },
  {
   "cell_type": "code",
   "execution_count": null,
   "metadata": {
    "ExecuteTime": {
     "end_time": "2020-10-09T12:03:03.653606Z",
     "start_time": "2020-10-09T12:03:03.650581Z"
    },
    "slideshow": {
     "slide_type": "-"
    }
   },
   "outputs": [],
   "source": [
    "import os\n",
    "\n",
    "os.makedirs(os.path.dirname(destination), exist_ok=True)"
   ]
  },
  {
   "cell_type": "code",
   "execution_count": null,
   "metadata": {
    "ExecuteTime": {
     "end_time": "2020-10-09T12:03:04.900902Z",
     "start_time": "2020-10-09T12:03:04.766245Z"
    },
    "slideshow": {
     "slide_type": "-"
    }
   },
   "outputs": [],
   "source": [
    "os.makedirs?\n",
    "!ls"
   ]
  },
  {
   "cell_type": "markdown",
   "metadata": {
    "slideshow": {
     "slide_type": "fragment"
    }
   },
   "source": [
    "To write to the destination file:"
   ]
  },
  {
   "cell_type": "code",
   "execution_count": null,
   "metadata": {
    "ExecuteTime": {
     "end_time": "2020-10-09T12:03:22.588529Z",
     "start_time": "2020-10-09T12:03:22.581131Z"
    },
    "code_folding": [],
    "slideshow": {
     "slide_type": "-"
    }
   },
   "outputs": [],
   "source": [
    "with open(\"contact.csv\") as source_file:\n",
    "    with open(destination, \"w\") as destination_file:\n",
    "        destination_file.write(source_file.read())"
   ]
  },
  {
   "cell_type": "code",
   "execution_count": null,
   "metadata": {
    "ExecuteTime": {
     "end_time": "2020-10-09T12:03:46.868953Z",
     "start_time": "2020-10-09T12:03:46.730249Z"
    },
    "slideshow": {
     "slide_type": "-"
    }
   },
   "outputs": [],
   "source": [
    "destination_file.write?\n",
    "!more {destination}"
   ]
  },
  {
   "cell_type": "markdown",
   "metadata": {
    "slideshow": {
     "slide_type": "fragment"
    }
   },
   "source": [
    "- The argument `'w'` for `open` sets the file object to write mode.\n",
    "- The method `write` writes the input strings to the file."
   ]
  },
  {
   "cell_type": "markdown",
   "metadata": {
    "slideshow": {
     "slide_type": "subslide"
    }
   },
   "source": [
    "**Exercise** We can also use `a` mode to *append* new content to a file.   \n",
    "Complete the following code to append `new_data` to the file `destination`."
   ]
  },
  {
   "cell_type": "code",
   "execution_count": null,
   "metadata": {
    "ExecuteTime": {
     "end_time": "2020-09-28T11:40:49.059943Z",
     "start_time": "2020-09-28T11:40:48.929588Z"
    },
    "deletable": false,
    "nbgrader": {
     "cell_type": "code",
     "checksum": "57ff4870e8750ee5331f28704e69da5b",
     "grade": false,
     "grade_id": "append",
     "locked": false,
     "schema_version": 3,
     "solution": true,
     "task": false
    },
    "slideshow": {
     "slide_type": "-"
    }
   },
   "outputs": [],
   "source": [
    "new_data = \"Effie, Douglas,galnec@naowdu.tc, (888) 311-9512\"\n",
    "with open(destination, \"a\") as f:\n",
    "    # YOUR CODE HERE\n",
    "    raise NotImplementedError()\n",
    "!more {destination}"
   ]
  },
  {
   "cell_type": "markdown",
   "metadata": {
    "ExecuteTime": {
     "end_time": "2020-07-27T09:38:13.743387Z",
     "start_time": "2020-07-27T09:38:13.731593Z"
    },
    "slideshow": {
     "slide_type": "subslide"
    }
   },
   "source": [
    "**How to delete a file?**"
   ]
  },
  {
   "cell_type": "markdown",
   "metadata": {
    "slideshow": {
     "slide_type": "fragment"
    }
   },
   "source": [
    "Note that the file object does not provide any method to delete the file.  \n",
    "Instead, we should use the function `remove` of the `os` module."
   ]
  },
  {
   "cell_type": "code",
   "execution_count": null,
   "metadata": {
    "ExecuteTime": {
     "end_time": "2020-10-09T12:04:23.600006Z",
     "start_time": "2020-10-09T12:04:23.593802Z"
    },
    "slideshow": {
     "slide_type": "fragment"
    }
   },
   "outputs": [],
   "source": [
    "if os.path.exists(destination):\n",
    "    os.remove(destination)\n",
    "!ls {destination}"
   ]
  },
  {
   "cell_type": "markdown",
   "metadata": {
    "slideshow": {
     "slide_type": "slide"
    }
   },
   "source": [
    "## String Objects"
   ]
  },
  {
   "cell_type": "markdown",
   "metadata": {
    "slideshow": {
     "slide_type": "subslide"
    }
   },
   "source": [
    "**How to search for a substring in a string?**"
   ]
  },
  {
   "cell_type": "markdown",
   "metadata": {
    "slideshow": {
     "slide_type": "fragment"
    }
   },
   "source": [
    "A string object has the method `find` to search for a substring.  \n",
    "E.g., to find the contact information of Tai Ming:"
   ]
  },
  {
   "cell_type": "code",
   "execution_count": null,
   "metadata": {
    "ExecuteTime": {
     "end_time": "2020-10-09T12:04:47.021066Z",
     "start_time": "2020-10-09T12:04:46.994141Z"
    },
    "slideshow": {
     "slide_type": "fragment"
    }
   },
   "outputs": [],
   "source": [
    "str.find?\n",
    "with open(\"contact.csv\") as f:\n",
    "    for line in f:\n",
    "        if line.find(\"Tai Ming\") != -1:\n",
    "            record = line\n",
    "            print(record)\n",
    "            break"
   ]
  },
  {
   "cell_type": "markdown",
   "metadata": {
    "slideshow": {
     "slide_type": "subslide"
    }
   },
   "source": [
    "**How to split and join strings?**"
   ]
  },
  {
   "cell_type": "markdown",
   "metadata": {
    "slideshow": {
     "slide_type": "fragment"
    }
   },
   "source": [
    "A string can be split according to a delimiter using the `split` method."
   ]
  },
  {
   "cell_type": "code",
   "execution_count": null,
   "metadata": {
    "ExecuteTime": {
     "end_time": "2020-10-09T12:05:14.298300Z",
     "start_time": "2020-10-09T12:05:14.291773Z"
    },
    "slideshow": {
     "slide_type": "-"
    }
   },
   "outputs": [],
   "source": [
    "record.split(\",\")"
   ]
  },
  {
   "cell_type": "markdown",
   "metadata": {
    "slideshow": {
     "slide_type": "fragment"
    }
   },
   "source": [
    "The list of substrings can be joined back together using the `join` methods."
   ]
  },
  {
   "cell_type": "code",
   "execution_count": null,
   "metadata": {
    "ExecuteTime": {
     "end_time": "2020-10-09T12:05:24.735761Z",
     "start_time": "2020-10-09T12:05:24.732828Z"
    },
    "slideshow": {
     "slide_type": "-"
    }
   },
   "outputs": [],
   "source": [
    "print(\"\\n\".join(record.split(\",\")))"
   ]
  },
  {
   "cell_type": "markdown",
   "metadata": {
    "slideshow": {
     "slide_type": "subslide"
    }
   },
   "source": [
    "**Exercise** Print only the phone number (last item) in `record`. Use the method `rstrip` or  `strip` to remove unnecessary white spaces at the end."
   ]
  },
  {
   "cell_type": "code",
   "execution_count": null,
   "metadata": {
    "ExecuteTime": {
     "end_time": "2020-10-09T12:05:53.950678Z",
     "start_time": "2020-10-09T12:05:53.939647Z"
    },
    "deletable": false,
    "nbgrader": {
     "cell_type": "code",
     "checksum": "58a4fa1d2dc8687eede742a0ac3cc60b",
     "grade": false,
     "grade_id": "strip",
     "locked": false,
     "schema_version": 3,
     "solution": true,
     "task": false
    },
    "slideshow": {
     "slide_type": "-"
    }
   },
   "outputs": [],
   "source": [
    "str.rstrip?\n",
    "# YOUR CODE HERE\n",
    "raise NotImplementedError()"
   ]
  },
  {
   "cell_type": "markdown",
   "metadata": {
    "slideshow": {
     "slide_type": "fragment"
    }
   },
   "source": [
    "**Exercise** Print only the name (first item) in `record` but with\n",
    "- surname printed first with all letters in upper case \n",
    "- followed by a comma, a space, and\n",
    "- the first name as it is in `record`.\n",
    "\n",
    "E.g., `Tai Ming Chan` should be printed as `CHAN, Tai Ming`.  \n",
    "\n",
    "*Hint*: Use the methods `upper` and `rsplit` (with the parameter `maxsplit=1`)."
   ]
  },
  {
   "cell_type": "code",
   "execution_count": null,
   "metadata": {
    "ExecuteTime": {
     "end_time": "2020-09-28T11:43:20.143981Z",
     "start_time": "2020-09-28T11:43:20.136233Z"
    },
    "deletable": false,
    "nbgrader": {
     "cell_type": "code",
     "checksum": "0d20ad9121f6e12c225da56bba6233a0",
     "grade": false,
     "grade_id": "process-name",
     "locked": false,
     "schema_version": 3,
     "solution": true,
     "task": false
    },
    "slideshow": {
     "slide_type": "-"
    }
   },
   "outputs": [],
   "source": [
    "str.rsplit?\n",
    "# YOUR CODE HERE\n",
    "raise NotImplementedError()"
   ]
  },
  {
   "cell_type": "markdown",
   "metadata": {
    "slideshow": {
     "slide_type": "slide"
    }
   },
   "source": [
    "## Operator Overloading"
   ]
  },
  {
   "cell_type": "markdown",
   "metadata": {},
   "source": [
    "Recall that adding `str` to `int` raises a type error. The following code circumvented this by OOP."
   ]
  },
  {
   "cell_type": "code",
   "execution_count": null,
   "metadata": {},
   "outputs": [],
   "source": [
    "%%optlite -l -h 400\n",
    "class MyStr(str):\n",
    "    def __add__(self, a):\n",
    "        return MyStr(str.__add__(self, str(a)))\n",
    "\n",
    "    def __radd__(self, a):\n",
    "        return MyStr(str.__add__(str(a), self))\n",
    "\n",
    "\n",
    "print(MyStr(1) + 2, 2 + MyStr(1))"
   ]
  },
  {
   "cell_type": "markdown",
   "metadata": {},
   "source": [
    "How does the above code re-implements `+`?"
   ]
  },
  {
   "cell_type": "markdown",
   "metadata": {
    "slideshow": {
     "slide_type": "subslide"
    }
   },
   "source": [
    "### What is overloading?"
   ]
  },
  {
   "cell_type": "markdown",
   "metadata": {
    "slideshow": {
     "slide_type": "fragment"
    }
   },
   "source": [
    "Recall that the addition operation `+` behaves differently for different types."
   ]
  },
  {
   "cell_type": "code",
   "execution_count": null,
   "metadata": {
    "ExecuteTime": {
     "end_time": "2020-10-09T12:07:04.432674Z",
     "start_time": "2020-10-09T12:07:04.415150Z"
    },
    "slideshow": {
     "slide_type": "fragment"
    }
   },
   "outputs": [],
   "source": [
    "%%optlite -h 300\n",
    "for x, y in (1, 1), (\"1\", \"1\"), (1, \"1\"):\n",
    "    print(f\"{x!r:^5} + {y!r:^5} = {x+y!r}\")"
   ]
  },
  {
   "cell_type": "markdown",
   "metadata": {},
   "source": [
    "- Having an operator perform differently based on its argument types is called [operator *overloading*](https://en.wikipedia.org/wiki/Operator_overloading).\n",
    "- `+` is called a *generic* operator.\n",
    "- We can also have function overloading to create generic functions."
   ]
  },
  {
   "cell_type": "markdown",
   "metadata": {
    "slideshow": {
     "slide_type": "subslide"
    },
    "tags": []
   },
   "source": [
    "### Dispatch on type"
   ]
  },
  {
   "cell_type": "markdown",
   "metadata": {
    "slideshow": {
     "slide_type": "fragment"
    }
   },
   "source": [
    "The strategy of checking the type for the appropriate implementation is called *dispatching on type*."
   ]
  },
  {
   "cell_type": "markdown",
   "metadata": {
    "slideshow": {
     "slide_type": "fragment"
    }
   },
   "source": [
    "A naive idea is to put all the different implementations together:\n",
    "\n",
    "```python\n",
    "def add_case_by_case(x, y):\n",
    "    if isinstance(x, int) and isinstance(y, int):\n",
    "        # integer summation\n",
    "        ...\n",
    "    elif isinstance(x, str) and isinstance(y, str):\n",
    "        # string concatenation...\n",
    "        ...\n",
    "    else:\n",
    "        # Return a TypeError\n",
    "        ...\n",
    "```"
   ]
  },
  {
   "cell_type": "code",
   "execution_count": null,
   "metadata": {
    "ExecuteTime": {
     "end_time": "2020-10-09T12:07:42.828229Z",
     "start_time": "2020-10-09T12:07:42.810588Z"
    },
    "slideshow": {
     "slide_type": "-"
    },
    "tags": []
   },
   "outputs": [],
   "source": [
    "%%optlite -h 500\n",
    "def add_case_by_case(x, y):\n",
    "    if isinstance(x, int) and isinstance(y, int):\n",
    "        print(\"Do integer summation...\")\n",
    "    elif isinstance(x, str) and isinstance(y, str):\n",
    "        print(\"Do string concatenation...\")\n",
    "    else:\n",
    "        print(\"Return a TypeError...\")\n",
    "    return x + y  # replaced by internal implementations\n",
    "\n",
    "\n",
    "for x, y in (1, 1), (\"1\", \"1\"), (1, \"1\"):\n",
    "    print(f\"{x!r:^10} + {y!r:^10} = {add_case_by_case(x,y)!r}\")"
   ]
  },
  {
   "cell_type": "markdown",
   "metadata": {
    "slideshow": {
     "slide_type": "subslide"
    }
   },
   "source": [
    "It can get quite messy with all possible types and combinations."
   ]
  },
  {
   "cell_type": "code",
   "execution_count": null,
   "metadata": {
    "ExecuteTime": {
     "end_time": "2020-10-09T12:09:16.114595Z",
     "start_time": "2020-10-09T12:09:16.107719Z"
    },
    "slideshow": {
     "slide_type": "-"
    }
   },
   "outputs": [],
   "source": [
    "for x, y in ((1, 1.1), (1, complex(1, 2)), ((1, 2), (1, 2))):\n",
    "    print(f\"{x!r:^10} + {y!r:^10} = {x+y!r}\")"
   ]
  },
  {
   "cell_type": "markdown",
   "metadata": {
    "slideshow": {
     "slide_type": "subslide"
    }
   },
   "source": [
    "**What about new data types?**"
   ]
  },
  {
   "cell_type": "code",
   "execution_count": null,
   "metadata": {
    "ExecuteTime": {
     "end_time": "2020-10-09T12:09:46.300495Z",
     "start_time": "2020-10-09T12:09:46.290011Z"
    },
    "slideshow": {
     "slide_type": "-"
    }
   },
   "outputs": [],
   "source": [
    "from fractions import Fraction  # non-built-in type for fractions\n",
    "\n",
    "for x, y in ((Fraction(1, 2), 1), (1, Fraction(1, 2))):\n",
    "    print(f\"{x} + {y} = {x+y}\")"
   ]
  },
  {
   "cell_type": "markdown",
   "metadata": {
    "slideshow": {
     "slide_type": "fragment"
    }
   },
   "source": [
    "```{caution}\n",
    "\n",
    "Weaknesses of the naive approach:\n",
    "1. New data types require rewriting the addition operation.\n",
    "1. A programmer may not know all other types and combinations to rewrite the code properly.\n",
    "```"
   ]
  },
  {
   "cell_type": "markdown",
   "metadata": {
    "slideshow": {
     "slide_type": "subslide"
    },
    "tags": []
   },
   "source": [
    "### Data-directed programming"
   ]
  },
  {
   "cell_type": "markdown",
   "metadata": {
    "slideshow": {
     "slide_type": "fragment"
    }
   },
   "source": [
    "The idea is to treat an implementation as a datum that can be returned by the operand types."
   ]
  },
  {
   "cell_type": "markdown",
   "metadata": {
    "slideshow": {
     "slide_type": "fragment"
    }
   },
   "source": [
    "```{important}\n",
    "\n",
    "- `x + y` is a [*syntactic sugar*](https://en.wikipedia.org/wiki/Syntactic_sugar) that\n",
    "- invokes the method `type(x).__add__(x,y)` of `type(x)` to do the addition.\n",
    "```"
   ]
  },
  {
   "cell_type": "code",
   "execution_count": null,
   "metadata": {
    "ExecuteTime": {
     "end_time": "2020-10-09T12:10:46.316918Z",
     "start_time": "2020-10-09T12:10:46.313007Z"
    },
    "slideshow": {
     "slide_type": "subslide"
    }
   },
   "outputs": [],
   "source": [
    "for x, y in (Fraction(1, 2), 1), (1, Fraction(1, 2)):\n",
    "    print(f\"{x} + {y} = {type(x).__add__(x,y)}\")  # instead of x + y"
   ]
  },
  {
   "cell_type": "markdown",
   "metadata": {
    "slideshow": {
     "slide_type": "fragment"
    }
   },
   "source": [
    "- The first case calls `Fraction.__add__`, which provides a way to add `int` to `Fraction`.\n",
    "- The second case calls `int.__add__`, which cannot provide any way of adding `Fraction` to `int`. (Why not?)"
   ]
  },
  {
   "cell_type": "markdown",
   "metadata": {
    "slideshow": {
     "slide_type": "fragment"
    }
   },
   "source": [
    "**Why does python return a [`NotImplemented` object](https://docs.python.org/3.6/library/constants.html#NotImplemented) instead of raising an error/exception?**"
   ]
  },
  {
   "cell_type": "markdown",
   "metadata": {
    "slideshow": {
     "slide_type": "fragment"
    }
   },
   "source": [
    "- This allows `+` to continue to handle the addition by\n",
    "- dispatching on `Fraction` to call its reverse addition method [`__radd__`](https://docs.python.org/3.6/library/numbers.html#implementing-the-arithmetic-operations)."
   ]
  },
  {
   "cell_type": "code",
   "execution_count": null,
   "metadata": {
    "ExecuteTime": {
     "end_time": "2020-10-09T12:17:26.210151Z",
     "start_time": "2020-10-09T12:17:26.206468Z"
    },
    "code_folding": [],
    "slideshow": {
     "slide_type": "fragment"
    }
   },
   "outputs": [],
   "source": [
    "%%optlite -h 500\n",
    "from fractions import Fraction\n",
    "\n",
    "\n",
    "def add(x, y):\n",
    "    \"\"\"Simulate the + operator.\"\"\"\n",
    "    sum = x.__add__(y)\n",
    "    if sum is NotImplemented:\n",
    "        sum = y.__radd__(x)\n",
    "    return sum\n",
    "\n",
    "\n",
    "for x, y in (Fraction(1, 2), 1), (1, Fraction(1, 2)):\n",
    "    print(f\"{x} + {y} = {add(x,y)}\")"
   ]
  },
  {
   "cell_type": "markdown",
   "metadata": {
    "slideshow": {
     "slide_type": "subslide"
    }
   },
   "source": [
    "```{important}\n",
    "\n",
    "The OOP techniques involved are formally called:\n",
    "- [*Polymorphism*](https://en.wikipedia.org/wiki/Polymorphism_(computer_science)): Different types can have different implementations of the same method such as `__add__`.  \n",
    "- [*Single dispatch*](https://en.wikipedia.org/wiki/Dynamic_dispatch): The implementation is chosen based on one single type at a time. `+` calls `__add__` of the first operand, and if not properly implemented for the second operand type, `__radd__` of the second operand. \n",
    "```"
   ]
  },
  {
   "cell_type": "markdown",
   "metadata": {
    "slideshow": {
     "slide_type": "fragment"
    }
   },
   "source": [
    "```{note}\n",
    "\n",
    "- A method with *starting and trailing double underscores* in its name is called a [*dunder method*](https://dbader.org/blog/meaning-of-underscores-in-python).  \n",
    "- Dunder methods are not intended to be called directly. E.g., we normally use `+` instead of `__add__`.\n",
    "- [Other operators](https://docs.python.org/3/library/operator.html?highlight=operator) have their corresponding dunder methods that overloads the operator.\n",
    "```"
   ]
  },
  {
   "cell_type": "markdown",
   "metadata": {},
   "source": [
    "**Exercise**\n",
    "\n",
    "Explain how the addition operation for the class `MyStr` behaves differently as compared to that of `str`."
   ]
  },
  {
   "cell_type": "code",
   "execution_count": null,
   "metadata": {},
   "outputs": [],
   "source": [
    "class MyStr(str):\n",
    "    def __add__(self, a):\n",
    "        return MyStr(str.__add__(self, str(a)))\n",
    "\n",
    "    def __radd__(self, a):\n",
    "        return MyStr(str.__add__(str(a), self))\n",
    "\n",
    "\n",
    "MyStr(1) + 2, 2 + MyStr(1)"
   ]
  },
  {
   "cell_type": "markdown",
   "metadata": {
    "deletable": false,
    "nbgrader": {
     "cell_type": "markdown",
     "checksum": "d32fdd668a59edffe7649c719393ea59",
     "grade": true,
     "grade_id": "MyStr",
     "locked": false,
     "points": 0,
     "schema_version": 3,
     "solution": true,
     "task": false
    },
    "slideshow": {
     "slide_type": "-"
    },
    "tags": []
   },
   "source": [
    "YOUR ANSWER HERE"
   ]
  }
 ],
 "metadata": {
  "kernelspec": {
   "display_name": "Python 3 (ipykernel)",
   "language": "python",
   "name": "python3"
  },
  "language_info": {
   "codemirror_mode": {
    "name": "ipython",
    "version": 3
   },
   "file_extension": ".py",
   "mimetype": "text/x-python",
   "name": "python",
   "nbconvert_exporter": "python",
   "pygments_lexer": "ipython3",
   "version": "3.10.6"
  },
  "latex_envs": {
   "LaTeX_envs_menu_present": true,
   "autoclose": false,
   "autocomplete": true,
   "bibliofile": "biblio.bib",
   "cite_by": "apalike",
   "current_citInitial": 1,
   "eqLabelWithNumbers": true,
   "eqNumInitial": 1,
   "hotkeys": {
    "equation": "Ctrl-E",
    "itemize": "Ctrl-I"
   },
   "labels_anchors": false,
   "latex_user_defs": false,
   "report_style_numbering": false,
   "user_envs_cfg": false
  },
  "rise": {
   "enable_chalkboard": true,
   "scroll": true,
   "theme": "white"
  },
  "toc": {
   "base_numbering": 1,
   "nav_menu": {
    "height": "195px",
    "width": "330px"
   },
   "number_sections": true,
   "sideBar": true,
   "skip_h1_title": true,
   "title_cell": "Table of Contents",
   "title_sidebar": "Contents",
   "toc_cell": false,
   "toc_position": {
    "height": "582.599px",
    "left": "657.989px",
    "top": "287px",
    "width": "182.844px"
   },
   "toc_section_display": true,
   "toc_window_display": false
  },
  "widgets": {
   "application/vnd.jupyter.widget-state+json": {
    "state": {
     "0d25a5daed7a4a1ea26d16580068c22d": {
      "model_module": "jupyter-divewidgets",
      "model_module_version": "^0.1.5",
      "model_name": "OPTWidgetModel",
      "state": {
       "_model_module_version": "^0.1.5",
       "_model_name": "OPTWidgetModel",
       "_view_module_version": "^0.1.5",
       "_view_name": "OPTWidgetView",
       "height": 300,
       "layout": "IPY_MODEL_fd51a4104b1e4a848efcb34cd5474a03",
       "script": "def f(f):\n    return f\n\n\nf = f(f)\n",
       "srcprefix": "https://dive4dec.github.io/optlite/#mode=display&code=",
       "width": 1100
      }
     },
     "133bb5811fdb4d80a2e44ec38c1e2e78": {
      "model_module": "jupyter-divewidgets",
      "model_module_version": "^0.1.5",
      "model_name": "OPTWidgetModel",
      "state": {
       "_model_module_version": "^0.1.5",
       "_model_name": "OPTWidgetModel",
       "_view_module_version": "^0.1.5",
       "_view_name": "OPTWidgetView",
       "height": 400,
       "layout": "IPY_MODEL_775e5bda79aa42fba24489da93dba14a",
       "script": "x = y = complex(1, 0)\nz = complex(1, 0)\nprint(x == y == z == 1.0)\nx_id = id(x)\ny_id = id(y)\nz_id = id(z)\nprint(x is y)  # id(x) == id(y)\nprint(x is not z)  # id(x) != id(z)\n",
       "srcprefix": "https://dive4dec.github.io/optlite/#mode=display&code=",
       "width": 1100
      }
     },
     "1eede4cf97a6497cb93da82547ebf5c0": {
      "model_module": "@jupyter-widgets/base",
      "model_module_version": "1.2.0",
      "model_name": "LayoutModel",
      "state": {}
     },
     "33adbc32db0b4f2c953828baf8959ef8": {
      "model_module": "@jupyter-widgets/base",
      "model_module_version": "1.2.0",
      "model_name": "LayoutModel",
      "state": {}
     },
     "3b16cd396de84fa89e81a6c10fb3d388": {
      "model_module": "@jupyter-widgets/base",
      "model_module_version": "1.2.0",
      "model_name": "LayoutModel",
      "state": {}
     },
     "447f1dccc13e4a5fbc1581f33b134dd7": {
      "model_module": "jupyter-divewidgets",
      "model_module_version": "^0.1.5",
      "model_name": "OPTWidgetModel",
      "state": {
       "_model_module_version": "^0.1.5",
       "_model_name": "OPTWidgetModel",
       "_view_module_version": "^0.1.5",
       "_view_name": "OPTWidgetView",
       "height": 400,
       "layout": "IPY_MODEL_8e6bca33575e416d9e9f2c353eedd912",
       "script": "class MyStr(str):\n    def __add__(self, a):\n        return MyStr(str.__add__(self, str(a)))\n\n    def __radd__(self, a):\n        return MyStr(str.__add__(str(a), self))\n\n\nprint(MyStr(1) + 2, 2 + MyStr(1))\n",
       "srcprefix": "https://dive4dec.github.io/optlite/live.html#code=",
       "width": 1100
      }
     },
     "473019ab8e02448da34a6acd3be63c0b": {
      "model_module": "jupyter-divewidgets",
      "model_module_version": "^0.1.5",
      "model_name": "OPTWidgetModel",
      "state": {
       "_model_module_version": "^0.1.5",
       "_model_name": "OPTWidgetModel",
       "_view_module_version": "^0.1.5",
       "_view_name": "OPTWidgetView",
       "height": 400,
       "layout": "IPY_MODEL_a2784cedf5d3489ea786b39a236ae36a",
       "script": "class MyStr(str):\n    def __add__(self, a):\n        return MyStr(str.__add__(self, str(a)))\n\n    def __radd__(self, a):\n        return MyStr(str.__add__(str(a), self))\n\n\nprint(MyStr(1) + 2, 2 + MyStr(1))\n",
       "srcprefix": "https://dive4dec.github.io/optlite/live.html#code=",
       "width": 1100
      }
     },
     "579b43c082554ceb8cb2cccaf9f6ab1a": {
      "model_module": "jupyter-divewidgets",
      "model_module_version": "^0.1.5",
      "model_name": "OPTWidgetModel",
      "state": {
       "_model_module_version": "^0.1.5",
       "_model_name": "OPTWidgetModel",
       "_view_module_version": "^0.1.5",
       "_view_name": "OPTWidgetView",
       "height": 350,
       "layout": "IPY_MODEL_1eede4cf97a6497cb93da82547ebf5c0",
       "script": "x = y = \"abc\"\nprint(x is y)\nprint(y is \"abc\")\nprint(x + y is x + \"abc\")\n",
       "srcprefix": "https://dive4dec.github.io/optlite/#mode=display&code=",
       "width": 1100
      }
     },
     "58bc4405e3694de18f7d3287c71446fb": {
      "model_module": "@jupyter-widgets/base",
      "model_module_version": "1.2.0",
      "model_name": "LayoutModel",
      "state": {}
     },
     "6e1b61773a944e88876cd03ccafcd4c2": {
      "model_module": "jupyter-divewidgets",
      "model_module_version": "^0.1.5",
      "model_name": "OPTWidgetModel",
      "state": {
       "_model_module_version": "^0.1.5",
       "_model_name": "OPTWidgetModel",
       "_view_module_version": "^0.1.5",
       "_view_name": "OPTWidgetView",
       "height": 300,
       "layout": "IPY_MODEL_8a4f579df0ce41a98f25272ffdb58804",
       "script": "for x, y in (1, 1), (\"1\", \"1\"), (1, \"1\"):\n    print(f\"{x!r:^5} + {y!r:^5} = {x+y!r}\")\n",
       "srcprefix": "https://dive4dec.github.io/optlite/#mode=display&code=",
       "width": 1100
      }
     },
     "775e5bda79aa42fba24489da93dba14a": {
      "model_module": "@jupyter-widgets/base",
      "model_module_version": "1.2.0",
      "model_name": "LayoutModel",
      "state": {}
     },
     "8a4f579df0ce41a98f25272ffdb58804": {
      "model_module": "@jupyter-widgets/base",
      "model_module_version": "1.2.0",
      "model_name": "LayoutModel",
      "state": {}
     },
     "8e6bca33575e416d9e9f2c353eedd912": {
      "model_module": "@jupyter-widgets/base",
      "model_module_version": "1.2.0",
      "model_name": "LayoutModel",
      "state": {}
     },
     "921f0f4899ec4bbf8eab39e44a3529d6": {
      "model_module": "jupyter-divewidgets",
      "model_module_version": "^0.1.5",
      "model_name": "OPTWidgetModel",
      "state": {
       "_model_module_version": "^0.1.5",
       "_model_name": "OPTWidgetModel",
       "_view_module_version": "^0.1.5",
       "_view_name": "OPTWidgetView",
       "height": 500,
       "layout": "IPY_MODEL_33adbc32db0b4f2c953828baf8959ef8",
       "script": "def add_case_by_case(x, y):\n    if isinstance(x, int) and isinstance(y, int):\n        print(\"Do integer summation...\")\n    elif isinstance(x, str) and isinstance(y, str):\n        print(\"Do string concatenation...\")\n    else:\n        print(\"Return a TypeError...\")\n    return x + y  # replaced by internal implementations\n\n\nfor x, y in (1, 1), (\"1\", \"1\"), (1, \"1\"):\n    print(f\"{x!r:^10} + {y!r:^10} = {add_case_by_case(x,y)!r}\")\n",
       "srcprefix": "https://dive4dec.github.io/optlite/#mode=display&code=",
       "width": 1100
      }
     },
     "a2784cedf5d3489ea786b39a236ae36a": {
      "model_module": "@jupyter-widgets/base",
      "model_module_version": "1.2.0",
      "model_name": "LayoutModel",
      "state": {}
     },
     "b7674147576d44c0a4b61bddc6fee79d": {
      "model_module": "jupyter-divewidgets",
      "model_module_version": "^0.1.5",
      "model_name": "OPTWidgetModel",
      "state": {
       "_model_module_version": "^0.1.5",
       "_model_name": "OPTWidgetModel",
       "_view_module_version": "^0.1.5",
       "_view_name": "OPTWidgetView",
       "height": 500,
       "layout": "IPY_MODEL_3b16cd396de84fa89e81a6c10fb3d388",
       "script": "from fractions import Fraction\n\n\ndef add(x, y):\n    \"\"\"Simulate the + operator.\"\"\"\n    sum = x.__add__(y)\n    if sum is NotImplemented:\n        sum = y.__radd__(x)\n    return sum\n\n\nfor x, y in (Fraction(1, 2), 1), (1, Fraction(1, 2)):\n    print(f\"{x} + {y} = {add(x,y)}\")\n",
       "srcprefix": "https://dive4dec.github.io/optlite/#mode=display&code=",
       "width": 1100
      }
     },
     "c65aa69e30cd4c03adc6995e843432c6": {
      "model_module": "jupyter-divewidgets",
      "model_module_version": "^0.1.5",
      "model_name": "OPTWidgetModel",
      "state": {
       "_model_module_version": "^0.1.5",
       "_model_name": "OPTWidgetModel",
       "_view_module_version": "^0.1.5",
       "_view_name": "OPTWidgetView",
       "height": 350,
       "layout": "IPY_MODEL_58bc4405e3694de18f7d3287c71446fb",
       "script": "print(10**10 is 10**10)\nprint(10**100 is 10**100)\n",
       "srcprefix": "https://dive4dec.github.io/optlite/#mode=display&code=",
       "width": 1100
      }
     },
     "fd51a4104b1e4a848efcb34cd5474a03": {
      "model_module": "@jupyter-widgets/base",
      "model_module_version": "1.2.0",
      "model_name": "LayoutModel",
      "state": {}
     }
    },
    "version_major": 2,
    "version_minor": 0
   }
  }
 },
 "nbformat": 4,
 "nbformat_minor": 4
}
