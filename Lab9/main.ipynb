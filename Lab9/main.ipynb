{
 "cells": [
  {
   "cell_type": "code",
   "execution_count": null,
   "metadata": {
    "deletable": false,
    "editable": false,
    "tags": []
   },
   "outputs": [],
   "source": [
    "# Initialization cell\n",
    "try:  # for CS1302 JupyterLite pyodide kernel\n",
    "    import piplite\n",
    "\n",
    "    with open(\"requirements.txt\") as f:\n",
    "        for package in f:\n",
    "            package = package.strip()\n",
    "            print(\"Installing\", package)\n",
    "            await piplite.install(package)\n",
    "except ModuleNotFoundError:\n",
    "    pass\n",
    "\n",
    "import random\n",
    "import jupytext\n",
    "import otter\n",
    "from ipywidgets import interact\n",
    "\n",
    "grader = otter.Notebook(\"main.ipynb\")\n",
    "%reload_ext divewidgets"
   ]
  },
  {
   "cell_type": "markdown",
   "metadata": {
    "slideshow": {
     "slide_type": "slide"
    }
   },
   "source": [
    "# Monte Carlo and Root Finding"
   ]
  },
  {
   "cell_type": "markdown",
   "metadata": {
    "slideshow": {
     "slide_type": "-"
    },
    "tags": [
     "remove-cell"
    ]
   },
   "source": [
    "**CS1302 Introduction to Computer Programming**\n",
    "___"
   ]
  },
  {
   "cell_type": "markdown",
   "metadata": {
    "slideshow": {
     "slide_type": "subslide"
    },
    "tags": []
   },
   "source": [
    "## The Monty-Hall Game"
   ]
  },
  {
   "cell_type": "code",
   "execution_count": null,
   "metadata": {
    "ExecuteTime": {
     "end_time": "2021-03-20T14:34:32.757241Z",
     "start_time": "2021-03-20T14:34:32.749359Z"
    },
    "slideshow": {
     "slide_type": "-"
    },
    "tags": [
     "hide-input"
    ]
   },
   "outputs": [],
   "source": [
    "%%html\n",
    "<iframe width=\"800\" height=\"450\" src=\"https://www.youtube.com/embed/rn1y-HrmA5c?end=23\" frameborder=\"0\" allow=\"accelerometer; autoplay; clipboard-write; encrypted-media; gyroscope; picture-in-picture\" allowfullscreen></iframe>"
   ]
  },
  {
   "cell_type": "markdown",
   "metadata": {
    "slideshow": {
     "slide_type": "subslide"
    }
   },
   "source": [
    "**Is it better to change the initial pick? What is the chance of winning if we change?**"
   ]
  },
  {
   "cell_type": "markdown",
   "metadata": {
    "slideshow": {
     "slide_type": "fragment"
    }
   },
   "source": [
    "```{hint} \n",
    "There are two doors to choose from, and only one of the doors has treasure behind it.\n",
    "```"
   ]
  },
  {
   "cell_type": "markdown",
   "metadata": {
    "slideshow": {
     "slide_type": "fragment"
    }
   },
   "source": [
    "Let's use the following program to play the game a couple of times."
   ]
  },
  {
   "cell_type": "code",
   "execution_count": null,
   "metadata": {
    "ExecuteTime": {
     "end_time": "2021-03-20T14:35:16.953731Z",
     "start_time": "2021-03-20T14:35:16.949245Z"
    },
    "code_folding": [],
    "slideshow": {
     "slide_type": "-"
    }
   },
   "outputs": [],
   "source": [
    "import random\n",
    "\n",
    "\n",
    "def play_monty_hall(num_of_doors=3):\n",
    "    \"\"\"Main function to run the Monty Hall game.\"\"\"\n",
    "    doors = {str(i) for i in range(num_of_doors)}\n",
    "    door_with_treasure = random.sample(doors, 1)[0]\n",
    "\n",
    "    # Input the initial pick of the door.\n",
    "    while True:\n",
    "        initial_pick = input(f'Pick a door from {\", \".join(sorted(doors))}: ')\n",
    "        if initial_pick in doors:\n",
    "            break\n",
    "\n",
    "    # Open all but one other door. The opened door must have nothing.\n",
    "    doors_to_open = doors - {initial_pick, door_with_treasure}\n",
    "    other_door = (\n",
    "        door_with_treasure\n",
    "        if initial_pick != door_with_treasure\n",
    "        else doors_to_open.pop()\n",
    "    )\n",
    "    print(\"Door(s) with nothing behind:\", *doors_to_open)\n",
    "\n",
    "    # Allow the player to change the initial pick to the other (unopened) door.\n",
    "    change_pick = (\n",
    "        input(f\"Would you like to change your choice to {other_door}? [y/N] \").lower()\n",
    "        == \"y\"\n",
    "    )\n",
    "\n",
    "    # Check and record winning.\n",
    "    if not change_pick:\n",
    "        mh_stats[\"# no change\"] += 1\n",
    "        if door_with_treasure == initial_pick:\n",
    "            mh_stats[\"# win without changing\"] += 1\n",
    "            return print(\"You won!\")\n",
    "    else:\n",
    "        mh_stats[\"# change\"] += 1\n",
    "        if door_with_treasure == other_door:\n",
    "            mh_stats[\"# win by changing\"] += 1\n",
    "            return print(\"You won!\")\n",
    "    print(f\"You lost. The door with treasure is {door_with_treasure}.\")\n",
    "\n",
    "\n",
    "mh_stats = dict.fromkeys(\n",
    "    (\"# win by changing\", \"# win without changing\", \"# change\", \"# no change\"), 0\n",
    ")\n",
    "\n",
    "\n",
    "def monty_hall_statistics():\n",
    "    \"\"\"Print the statistics of the Monty Hall games.\"\"\"\n",
    "    print(\"-\" * 30, \"Statistics\", \"-\" * 30)\n",
    "    if mh_stats[\"# change\"]:\n",
    "        print(\n",
    "            f\"% win by changing: \\\n",
    "        {mh_stats['# win by changing'] / mh_stats['# change']:.0%}\"\n",
    "        )\n",
    "    if mh_stats[\"# no change\"]:\n",
    "        print(\n",
    "            f\"% win without changing: \\\n",
    "        {mh_stats['# win without changing']/mh_stats['# no change']:.0%}\"\n",
    "        )"
   ]
  },
  {
   "cell_type": "code",
   "execution_count": null,
   "metadata": {
    "ExecuteTime": {
     "end_time": "2020-11-25T01:23:30.120232Z",
     "start_time": "2020-11-25T01:23:24.086494Z"
    },
    "slideshow": {
     "slide_type": "subslide"
    },
    "tags": [
     "remove-output"
    ]
   },
   "outputs": [],
   "source": [
    "play_monty_hall()\n",
    "monty_hall_statistics()"
   ]
  },
  {
   "cell_type": "markdown",
   "metadata": {
    "slideshow": {
     "slide_type": "fragment"
    }
   },
   "source": [
    "You may also [play the game online](https://math.ucsd.edu/~crypto/Monty/monty.html)."
   ]
  },
  {
   "cell_type": "markdown",
   "metadata": {
    "slideshow": {
     "slide_type": "subslide"
    }
   },
   "source": [
    "To get a good estimate of the chance of winning, we need to play the game many times.  \n",
    "We can write a Monty-Carlo simulation instead."
   ]
  },
  {
   "cell_type": "code",
   "execution_count": null,
   "metadata": {
    "ExecuteTime": {
     "end_time": "2021-03-20T14:35:37.198841Z",
     "start_time": "2021-03-20T14:35:35.984213Z"
    },
    "deletable": false,
    "editable": false,
    "nbgrader": {
     "grade": false,
     "grade_id": "monty-hall",
     "locked": true,
     "schema_version": 3,
     "solution": false,
     "task": false
    },
    "slideshow": {
     "slide_type": "-"
    },
    "tags": []
   },
   "outputs": [],
   "source": [
    "# Do not change any variables defined here, or some tests may fail.\n",
    "import numpy as np\n",
    "\n",
    "np.random.seed(0)  # for reproducible result\n",
    "num_of_games = int(10e7)\n",
    "door_with_treasure = np.random.randint(1, 4, num_of_games, dtype=np.uint8)\n",
    "initial_pick = np.random.randint(1, 4, num_of_games, dtype=np.uint8)\n",
    "\n",
    "print(f\"{'Door with treasure:':>19}\", *door_with_treasure[:10], \"...\")\n",
    "print(f\"{'Initial pick:':>19}\", *initial_pick[:10], \"...\")"
   ]
  },
  {
   "cell_type": "markdown",
   "metadata": {
    "slideshow": {
     "slide_type": "fragment"
    }
   },
   "source": [
    "- `door_with_treasure` stores as 8-bit unsigned integers `uint8` the door numbers randomly chosen from $\\{1, 2, 3\\}$ as the doors with treasure behind for a number `num_of_games` of Monty-Hall games.\n",
    "- `initial_pick` stores the initial choices for the different games."
   ]
  },
  {
   "cell_type": "markdown",
   "metadata": {
    "slideshow": {
     "slide_type": "fragment"
    }
   },
   "source": [
    "If players do not change their initial pick, the chance of winning can be estimated as follows:"
   ]
  },
  {
   "cell_type": "code",
   "execution_count": null,
   "metadata": {
    "ExecuteTime": {
     "end_time": "2021-03-20T14:35:41.361942Z",
     "start_time": "2021-03-20T14:35:41.152117Z"
    },
    "code_folding": []
   },
   "outputs": [],
   "source": [
    "def estimate_chance_of_winning_without_change(door_with_treasure, initial_pick):\n",
    "    \"\"\"Estimate the chance of winning the Monty Hall game without changing\n",
    "    the initial pick using the Monte Carlo simulation of door_with_treasure\n",
    "    and initial_pick.\"\"\"\n",
    "    count_of_win = 0\n",
    "    for x, y in zip(door_with_treasure, initial_pick):\n",
    "        if x == y:\n",
    "            count_of_win += 1\n",
    "    return count_of_win / n\n",
    "\n",
    "\n",
    "n = num_of_games // 100\n",
    "estimate_chance_of_winning_without_change(door_with_treasure[:n], initial_pick[:n])"
   ]
  },
  {
   "cell_type": "markdown",
   "metadata": {},
   "source": [
    "However, the above code is inefficient and takes a long time to run. You may try running it on the entire sequences of `door_with_treasure` and `initial_pick` but **DO NOT** put the code in your notebook, as the server refuses to auto-grade notebooks that take too much time or memory to run."
   ]
  },
  {
   "cell_type": "markdown",
   "metadata": {
    "slideshow": {
     "slide_type": "fragment"
    }
   },
   "source": [
    "A simpler and also more efficient solution with well over 100 times speed up is as follows:"
   ]
  },
  {
   "cell_type": "code",
   "execution_count": null,
   "metadata": {
    "ExecuteTime": {
     "end_time": "2021-03-20T14:35:44.710183Z",
     "start_time": "2021-03-20T14:35:44.591395Z"
    },
    "slideshow": {
     "slide_type": "-"
    }
   },
   "outputs": [],
   "source": [
    "def estimate_chance_of_winning_without_change(door_with_treasure, initial_pick):\n",
    "    \"\"\"Estimate the chance of winning the Monty Hall game without changing\n",
    "    the initial pick using the Monte Carlo simulation of door_with_treasure\n",
    "    and initial_pick.\"\"\"\n",
    "    return (door_with_treasure == initial_pick).mean()\n",
    "\n",
    "\n",
    "estimate_chance_of_winning_without_change(door_with_treasure, initial_pick)"
   ]
  },
  {
   "cell_type": "markdown",
   "metadata": {
    "slideshow": {
     "slide_type": "fragment"
    }
   },
   "source": [
    "The code uses the method `mean` of `ndarray` that computes the mean of the `numpy` array.  \n",
    "In computing the mean, `True` and `False` are regarded as `1` and `0`, respectively, as illustrated below."
   ]
  },
  {
   "cell_type": "code",
   "execution_count": null,
   "metadata": {
    "ExecuteTime": {
     "end_time": "2020-11-25T01:27:50.981923Z",
     "start_time": "2020-11-25T01:27:50.976334Z"
    },
    "slideshow": {
     "slide_type": "-"
    }
   },
   "outputs": [],
   "source": [
    "for i in True, False:\n",
    "    for j in True, False:\n",
    "        print(f\"{i} + {j} == {i + j}\")"
   ]
  },
  {
   "cell_type": "markdown",
   "metadata": {
    "slideshow": {
     "slide_type": "subslide"
    }
   },
   "source": [
    "**Exercise** (winning-by-change)\n",
    "\n",
    "Define the function `estimate_chance_of_winning_by_change` same as `estimate_chance_of_winning_without_change` above but returns the estimate of the chance of winning by changing the initial choice instead. Again, *implement efficiently, or jupyterhub may refuse to auto-grade your entire notebook*.\n",
    "\n",
    "```{hint}\n",
    "Since there are only two unopened doors at the end of each game, a player will win by changing the initial pick if the initially picked door is not the door with treasure behind.\n",
    "```"
   ]
  },
  {
   "cell_type": "code",
   "execution_count": null,
   "metadata": {
    "ExecuteTime": {
     "end_time": "2021-03-20T14:35:47.652739Z",
     "start_time": "2021-03-20T14:35:47.650310Z"
    },
    "nbgrader": {
     "grade": false,
     "grade_id": "switch",
     "locked": false,
     "schema_version": 3,
     "solution": true,
     "task": false
    },
    "slideshow": {
     "slide_type": "-"
    },
    "tags": [
     "remove-output"
    ]
   },
   "outputs": [],
   "source": [
    "def estimate_chance_of_winning_by_change(door_with_treasure, initial_pick):\n",
    "    \"\"\"Estimate the chance of winning the Monty Hall game by changing\n",
    "    the initial pick using the Monte Carlo simulation of door_with_treasure\n",
    "    and initial_pick.\"\"\"\n",
    "    ..."
   ]
  },
  {
   "cell_type": "code",
   "execution_count": null,
   "metadata": {
    "deletable": false,
    "editable": false
   },
   "outputs": [],
   "source": [
    "grader.check(\"winning-by-change\")"
   ]
  },
  {
   "cell_type": "markdown",
   "metadata": {
    "slideshow": {
     "slide_type": "subslide"
    }
   },
   "source": [
    "## Solving non-linear equations"
   ]
  },
  {
   "cell_type": "markdown",
   "metadata": {
    "slideshow": {
     "slide_type": "fragment"
    }
   },
   "source": [
    "Suppose we want to solve:\n",
    "\n",
    "$$\n",
    "f(x) = 0\n",
    "$$\n",
    "for some possibly non-linear real-valued function $f(x)$ in one real-valued variable $x$. A quadratic equation with an $x^2$ term is an example. The following is another example."
   ]
  },
  {
   "cell_type": "code",
   "execution_count": null,
   "metadata": {
    "ExecuteTime": {
     "end_time": "2020-11-22T12:56:34.352408Z",
     "start_time": "2020-11-22T12:56:33.751918Z"
    },
    "slideshow": {
     "slide_type": "-"
    }
   },
   "outputs": [],
   "source": [
    "%matplotlib inline\n",
    "import matplotlib.pyplot as plt\n",
    "import numpy as np\n",
    "\n",
    "f = lambda x: x * (x - 1) * (x - 2)\n",
    "x = np.linspace(-0.5, 2.5)\n",
    "plt.plot(x, f(x))\n",
    "plt.axhline(color=\"gray\", linestyle=\":\")\n",
    "plt.xlabel(r\"$x$\")\n",
    "plt.title(r\"Plot of $f(x)=x(x-1)(x-2)$\")\n",
    "plt.show()"
   ]
  },
  {
   "cell_type": "markdown",
   "metadata": {
    "slideshow": {
     "slide_type": "fragment"
    }
   },
   "source": [
    "While it is clear that the above function has three roots, namely, $x=0, 1, 2$, can we write a program to compute a root of any given continuous function $f$?"
   ]
  },
  {
   "cell_type": "code",
   "execution_count": null,
   "metadata": {
    "ExecuteTime": {
     "end_time": "2020-11-22T12:56:34.358746Z",
     "start_time": "2020-11-22T12:56:34.354260Z"
    },
    "slideshow": {
     "slide_type": "subslide"
    }
   },
   "outputs": [],
   "source": [
    "%%html\n",
    "<iframe width=\"800\" height=\"450\" src=\"https://www.youtube.com/embed/PXSLcEGkXkU\" frameborder=\"0\" allow=\"accelerometer; autoplay; clipboard-write; encrypted-media; gyroscope; picture-in-picture\" allowfullscreen></iframe>"
   ]
  },
  {
   "cell_type": "markdown",
   "metadata": {
    "slideshow": {
     "slide_type": "subslide"
    }
   },
   "source": [
    "The following function `bisection` \n",
    "- takes as arguments \n",
    "  - a continuous function `f`,\n",
    "  - two real values `a` and `b`, \n",
    "  - a positive integer `n` indicating the maximum depth of the recursion, and\n",
    "- returns a list `[xstart, xstop]` if the bisection succeeds in capturing a root in the interval `[xstart, xstop]` bounded by `a` and `b`, or else, returns an empty list `[]`."
   ]
  },
  {
   "cell_type": "code",
   "execution_count": null,
   "metadata": {
    "ExecuteTime": {
     "end_time": "2020-11-22T12:56:34.594223Z",
     "start_time": "2020-11-22T12:56:34.360732Z"
    },
    "code_folding": [
     13
    ],
    "slideshow": {
     "slide_type": "-"
    }
   },
   "outputs": [],
   "source": [
    "def bisection(f, a, b, n=10):\n",
    "    if f(a) * f(b) > 0:\n",
    "        return []  # because f(x) may not have a root between x=a and x=b\n",
    "    elif n <= 0:  # base case when recursion cannot go any deeper\n",
    "        return [a, b] if a <= b else [b, a]\n",
    "    else:\n",
    "        c = (a + b) / 2  # bisect the interval between a and b\n",
    "        return bisection(f, a, c, n - 1) or bisection(f, c, b, n - 1)  # recursion\n",
    "\n",
    "\n",
    "# bisection solver\n",
    "import ipywidgets as widgets\n",
    "\n",
    "\n",
    "@widgets.interact(a=(-0.5, 2.5, 0.5), b=(-0.5, 2.5, 0.5), n=(0, 10, 1))\n",
    "def bisection_solver(a=-0.5, b=0.5, n=0):\n",
    "    x = np.linspace(-0.5, 2.5)\n",
    "    plt.plot(x, f(x))\n",
    "    plt.axhline(color=\"gray\", linestyle=\":\")\n",
    "    plt.xlabel(r\"$x$\")\n",
    "    plt.title(r\"Bisection on $f(x)$\")\n",
    "    [xstart, xstop] = bisection(f, a, b, n)\n",
    "    plt.plot([xstart, xstop], [0, 0], \"r|-\")\n",
    "    print(\"Interval: \", [xstart, xstop])"
   ]
  },
  {
   "cell_type": "markdown",
   "metadata": {
    "slideshow": {
     "slide_type": "fragment"
    }
   },
   "source": [
    "Try setting the values of $a$ and $b$ as follows and change $n$ to see the change of the interval step-by-step."
   ]
  },
  {
   "cell_type": "code",
   "execution_count": null,
   "metadata": {
    "ExecuteTime": {
     "end_time": "2020-11-22T12:56:34.601549Z",
     "start_time": "2020-11-22T12:56:34.596170Z"
    },
    "slideshow": {
     "slide_type": "-"
    }
   },
   "outputs": [],
   "source": [
    "bisection(f, -0.5, 0.5), bisection(f, 1.5, 0.5), bisection(f, -0.1, 2.5)"
   ]
  },
  {
   "cell_type": "markdown",
   "metadata": {
    "slideshow": {
     "slide_type": "subslide"
    }
   },
   "source": [
    "**Exercise** (bisection)\n",
    "\n",
    "Modify the function `bisection` to \n",
    "- take the floating point parameter `tol` instead of `n`, and\n",
    "- return the interval from the bisection method represented by a list `[xstart,xstop]`, but as soon as the gap `xstop - xstart` is $\\leq$ `tol`."
   ]
  },
  {
   "cell_type": "code",
   "execution_count": null,
   "metadata": {
    "ExecuteTime": {
     "end_time": "2020-11-22T12:56:34.612478Z",
     "start_time": "2020-11-22T12:56:34.603264Z"
    },
    "nbgrader": {
     "grade": false,
     "grade_id": "bisection",
     "locked": false,
     "schema_version": 3,
     "solution": true,
     "task": false
    },
    "slideshow": {
     "slide_type": "-"
    },
    "tags": [
     "remove-output"
    ]
   },
   "outputs": [],
   "source": [
    "def bisection(f, a, b, tol=1e-9):\n",
    "    ..."
   ]
  },
  {
   "cell_type": "code",
   "execution_count": null,
   "metadata": {
    "deletable": false,
    "editable": false
   },
   "outputs": [],
   "source": [
    "grader.check(\"bisection\")"
   ]
  },
  {
   "cell_type": "markdown",
   "metadata": {
    "editable": false,
    "tags": [
     "remove-cell"
    ]
   },
   "source": [
    "## Submission\n",
    "\n",
    "Make sure you have run all cells in your notebook in order before running the cell below, so that all images/graphs appear in the output. The cell below will generate a zip file for you to submit. **Please save before exporting!**"
   ]
  },
  {
   "cell_type": "code",
   "execution_count": null,
   "metadata": {
    "deletable": false,
    "editable": true,
    "tags": []
   },
   "outputs": [],
   "source": [
    "# extra files to submit\n",
    "extra_files = []"
   ]
  },
  {
   "cell_type": "code",
   "execution_count": null,
   "metadata": {
    "deletable": false,
    "editable": false,
    "tags": []
   },
   "outputs": [],
   "source": [
    "# Generate the source main.py necessary for grading and similarity check.\n",
    "jupytext.write(jupytext.read(\"main.ipynb\"), \"main.py\", fmt=\"py:percent\")"
   ]
  },
  {
   "cell_type": "code",
   "execution_count": null,
   "metadata": {
    "deletable": false,
    "editable": false,
    "tags": []
   },
   "outputs": [],
   "source": [
    "# Generate the zip file to submit.\n",
    "grader.export(pdf=False, run_tests=False, files=[\"main.py\", *extra_files])"
   ]
  }
 ],
 "metadata": {
  "celltoolbar": "Create Assignment",
  "kernelspec": {
   "display_name": "Python 3 (ipykernel)",
   "language": "python",
   "name": "python3"
  },
  "language_info": {
   "codemirror_mode": {
    "name": "ipython",
    "version": 3
   },
   "file_extension": ".py",
   "mimetype": "text/x-python",
   "name": "python",
   "nbconvert_exporter": "python",
   "pygments_lexer": "ipython3",
   "version": "3.10.6"
  },
  "latex_envs": {
   "LaTeX_envs_menu_present": true,
   "autoclose": false,
   "autocomplete": true,
   "bibliofile": "biblio.bib",
   "cite_by": "apalike",
   "current_citInitial": 1,
   "eqLabelWithNumbers": true,
   "eqNumInitial": 1,
   "hotkeys": {
    "equation": "Ctrl-E",
    "itemize": "Ctrl-I"
   },
   "labels_anchors": false,
   "latex_user_defs": false,
   "report_style_numbering": false,
   "user_envs_cfg": false
  },
  "otter": {
   "OK_FORMAT": true,
   "tests": {
    "bisection": {
     "name": "bisection",
     "points": null,
     "suites": [
      {
       "cases": [
        {
         "code": ">>> # tests\n>>> import numpy as np\n>>> \n>>> f = lambda x: x * (x - 1) * (x - 2)\n>>> assert np.isclose(bisection(f, -0.5, 0.5), [-9.313225746154785e-10, 0.0]).all()\n>>> _ = bisection(f, 1.5, 0.5, 1e-2)\n>>> assert np.isclose(_, [1.0, 1.0078125]).all() or np.isclose(_, [0.9921875, 1.0]).all()\n>>> assert np.isclose(\n...     bisection(f, -0.1, 2.5, 1e-3), [1.9998046875000002, 2.0004394531250003]).all()\n",
         "hidden": false,
         "locked": false
        }
       ],
       "scored": true,
       "setup": "",
       "teardown": "",
       "type": "doctest"
      }
     ]
    },
    "winning-by-change": {
     "name": "winning-by-change",
     "points": null,
     "suites": [
      {
       "cases": [
        {
         "code": ">>> # tests\n>>> assert np.isclose(\n...     estimate_chance_of_winning_by_change(door_with_treasure[:10], initial_pick[:10]),\n...     0.7)\n",
         "hidden": false,
         "locked": false
        }
       ],
       "scored": true,
       "setup": "",
       "teardown": "",
       "type": "doctest"
      }
     ]
    }
   }
  },
  "rise": {
   "enable_chalkboard": true,
   "scroll": true,
   "theme": "white"
  },
  "toc": {
   "base_numbering": 1,
   "nav_menu": {
    "height": "195px",
    "width": "330px"
   },
   "number_sections": true,
   "sideBar": true,
   "skip_h1_title": true,
   "title_cell": "Table of Contents",
   "title_sidebar": "Contents",
   "toc_cell": false,
   "toc_position": {
    "height": "454.418px",
    "left": "1533px",
    "top": "110.284px",
    "width": "261px"
   },
   "toc_section_display": true,
   "toc_window_display": false
  },
  "widgets": {
   "application/vnd.jupyter.widget-state+json": {
    "state": {
     "08a1fdea9c294ec8a67f9f151a3c5e8c": {
      "model_module": "@jupyter-widgets/base",
      "model_module_version": "1.2.0",
      "model_name": "LayoutModel",
      "state": {}
     },
     "5a7846b8d09942e1a99ecd5fbbc2d49b": {
      "model_module": "jupyter-divewidgets",
      "model_module_version": "^0.1.5",
      "model_name": "OPTWidgetModel",
      "state": {
       "_model_module_version": "^0.1.5",
       "_model_name": "OPTWidgetModel",
       "_view_module_version": "^0.1.5",
       "_view_name": "OPTWidgetView",
       "height": 500,
       "layout": "IPY_MODEL_08a1fdea9c294ec8a67f9f151a3c5e8c",
       "script": "import numpy as np\n# Case without a solution\nA = np.array([[2.0, 2], [2, 2]])\nb = np.array([1.0, 0])\nx = np.linalg.solve(A, b)\n",
       "srcprefix": "https://dive4dec.github.io/optlite/live.html#code=",
       "width": 1100
      }
     },
     "6dcb727a5776422e818ce21a0ba83345": {
      "model_module": "jupyter-divewidgets",
      "model_module_version": "^0.1.5",
      "model_name": "OPTWidgetModel",
      "state": {
       "_model_module_version": "^0.1.5",
       "_model_name": "OPTWidgetModel",
       "_view_module_version": "^0.1.5",
       "_view_name": "OPTWidgetView",
       "height": 500,
       "layout": "IPY_MODEL_f764aaeaacbc419bac9d71665190bc54",
       "script": "import numpy as np\n# Case with infinitely many solutions\nA = np.array([[2.0, 2], [2, 2]])\nb = np.array([1.0, 1])\nx = np.linalg.solve(A, b)\n",
       "srcprefix": "https://dive4dec.github.io/optlite/live.html#code=",
       "width": 1100
      }
     },
     "f764aaeaacbc419bac9d71665190bc54": {
      "model_module": "@jupyter-widgets/base",
      "model_module_version": "1.2.0",
      "model_name": "LayoutModel",
      "state": {}
     }
    },
    "version_major": 2,
    "version_minor": 0
   }
  }
 },
 "nbformat": 4,
 "nbformat_minor": 4
}
