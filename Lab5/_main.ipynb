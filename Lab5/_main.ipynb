{
 "cells": [
  {
   "cell_type": "code",
   "execution_count": 1,
   "metadata": {
    "deletable": false,
    "editable": false,
    "tags": []
   },
   "outputs": [],
   "source": [
    "# Initialization cell\n",
    "try:  # for CS1302 JupyterLite pyodide kernel\n",
    "    import piplite\n",
    "\n",
    "    with open(\"requirements.txt\") as f:\n",
    "        for package in f:\n",
    "            package = package.strip()\n",
    "            print(\"Installing\", package)\n",
    "            await piplite.install(package)\n",
    "except ModuleNotFoundError:\n",
    "    pass\n",
    "\n",
    "import random\n",
    "import jupytext\n",
    "import otter\n",
    "from ipywidgets import interact\n",
    "\n",
    "grader = otter.Notebook(\"main.ipynb\")\n",
    "%reload_ext divewidgets"
   ]
  },
  {
   "cell_type": "markdown",
   "metadata": {
    "slideshow": {
     "slide_type": "slide"
    }
   },
   "source": [
    "# Pandas"
   ]
  },
  {
   "cell_type": "markdown",
   "metadata": {
    "slideshow": {
     "slide_type": "-"
    },
    "tags": [
     "remove-cell"
    ]
   },
   "source": [
    "**CS1302 Introduction to Computer Programming**\n",
    "___"
   ]
  },
  {
   "cell_type": "markdown",
   "metadata": {
    "slideshow": {
     "slide_type": "subslide"
    }
   },
   "source": [
    "In this lab, we will analyze COVID19 data using a powerful package called [`pandas`](https://pandas.pydata.org/docs/user_guide/index.html).  \n",
    "The package name comes from *panel data* and *Python for data analysis*."
   ]
  },
  {
   "cell_type": "markdown",
   "metadata": {
    "slideshow": {
     "slide_type": "slide"
    }
   },
   "source": [
    "## Loading CSV Files with Pandas "
   ]
  },
  {
   "cell_type": "markdown",
   "metadata": {
    "ExecuteTime": {
     "end_time": "2020-08-02T14:42:45.348931Z",
     "start_time": "2020-08-02T14:42:45.344578Z"
    },
    "slideshow": {
     "slide_type": "fragment"
    }
   },
   "source": [
    "[DATA.GOV.HK](https://data.gov.hk/en-data/dataset/hk-dh-chpsebcddr-novel-infectious-agent) provides an [API](https://data.gov.hk/en/help/api-spec#historicalAPI) to retrieve historical data on COVID-19 cases in Hong Kong."
   ]
  },
  {
   "cell_type": "markdown",
   "metadata": {
    "slideshow": {
     "slide_type": "fragment"
    }
   },
   "source": [
    "The following uses the `urlencode` function to create the url that links to a csv file containing probable and confirmed cases of COVID-19 by Aug 1st, 2020."
   ]
  },
  {
   "cell_type": "code",
   "execution_count": 2,
   "metadata": {
    "ExecuteTime": {
     "end_time": "2021-03-20T14:30:24.706313Z",
     "start_time": "2021-03-20T14:30:24.702072Z"
    },
    "slideshow": {
     "slide_type": "-"
    }
   },
   "outputs": [
    {
     "name": "stdout",
     "output_type": "stream",
     "text": [
      "https://api.data.gov.hk/v1/historical-archive/get-file?url=http%3A%2F%2Fwww.chp.gov.hk%2Ffiles%2Fmisc%2Fenhanced_sur_covid_19_eng.csv&time=20200801-1204\n"
     ]
    }
   ],
   "source": [
    "from urllib.parse import urlencode\n",
    "\n",
    "url_data_gov_hk_get = \"https://api.data.gov.hk/v1/historical-archive/get-file\"\n",
    "url_covid_csv = \"http://www.chp.gov.hk/files/misc/enhanced_sur_covid_19_eng.csv\"\n",
    "time = \"20200801-1204\"\n",
    "url_covid = url_data_gov_hk_get + \"?\" + urlencode({\"url\": url_covid_csv, \"time\": time})\n",
    "\n",
    "print(url_covid)"
   ]
  },
  {
   "cell_type": "markdown",
   "metadata": {
    "slideshow": {
     "slide_type": "fragment"
    }
   },
   "source": [
    "```{note}\n",
    "\n",
    "`urlencode` creates a string `'url=<...>&time=<...>'` with some [special symbols encoded](https://www.w3schools.com/tags/ref_urlencode.ASP), e.g.:\n",
    "- `:` is replaced by `%3A`, and\n",
    "- `/` is replaced by `%2F`.\n",
    "\n",
    "```"
   ]
  },
  {
   "cell_type": "markdown",
   "metadata": {
    "slideshow": {
     "slide_type": "subslide"
    }
   },
   "source": [
    "**Exercise** (simple-encode)\n",
    "\n",
    "Write a function `simple_encode` that takes in a string and return a string with `:` and `/` encoded as described above."
   ]
  },
  {
   "cell_type": "markdown",
   "metadata": {},
   "source": [
    "```{hint}\n",
    "\n",
    "Use the `replace` method of `str`.\n",
    "\n",
    "```"
   ]
  },
  {
   "cell_type": "code",
   "execution_count": 3,
   "metadata": {
    "ExecuteTime": {
     "end_time": "2021-03-20T14:30:28.731091Z",
     "start_time": "2021-03-20T14:30:28.728221Z"
    },
    "nbgrader": {
     "grade": false,
     "grade_id": "simple_encode",
     "locked": false,
     "schema_version": 3,
     "solution": true,
     "task": false
    },
    "slideshow": {
     "slide_type": "-"
    },
    "tags": [
     "remove-output"
    ]
   },
   "outputs": [],
   "source": [
    "def simple_encode(string):\n",
    "    return string.replace(\":\", \"%3A\").replace(\"/\", \"%2F\")"
   ]
  },
  {
   "cell_type": "code",
   "execution_count": 4,
   "metadata": {
    "deletable": false,
    "editable": false
   },
   "outputs": [
    {
     "data": {
      "text/html": [
       "<p><strong><pre style='display: inline;'>simple-encode</pre></strong> passed!</p>"
      ],
      "text/plain": [
       "simple-encode results: All test cases passed!"
      ]
     },
     "execution_count": 4,
     "metadata": {},
     "output_type": "execute_result"
    }
   ],
   "source": [
    "grader.check(\"simple-encode\")"
   ]
  },
  {
   "cell_type": "markdown",
   "metadata": {
    "slideshow": {
     "slide_type": "subslide"
    }
   },
   "source": [
    "Like the function `open` that loads a file into memory, `pandas` has a function `read_csv` that loads a csv file. The csv file can even reside on the web:"
   ]
  },
  {
   "cell_type": "code",
   "execution_count": 5,
   "metadata": {
    "ExecuteTime": {
     "end_time": "2021-03-20T14:30:32.819492Z",
     "start_time": "2021-03-20T14:30:31.557982Z"
    },
    "slideshow": {
     "slide_type": "fragment"
    }
   },
   "outputs": [
    {
     "name": "stdout",
     "output_type": "stream",
     "text": [
      "<class 'pandas.core.frame.DataFrame'>\n"
     ]
    },
    {
     "data": {
      "text/html": [
       "<div>\n",
       "<style scoped>\n",
       "    .dataframe tbody tr th:only-of-type {\n",
       "        vertical-align: middle;\n",
       "    }\n",
       "\n",
       "    .dataframe tbody tr th {\n",
       "        vertical-align: top;\n",
       "    }\n",
       "\n",
       "    .dataframe thead th {\n",
       "        text-align: right;\n",
       "    }\n",
       "</style>\n",
       "<table border=\"1\" class=\"dataframe\">\n",
       "  <thead>\n",
       "    <tr style=\"text-align: right;\">\n",
       "      <th></th>\n",
       "      <th>Case no.</th>\n",
       "      <th>Report date</th>\n",
       "      <th>Date of onset</th>\n",
       "      <th>Gender</th>\n",
       "      <th>Age</th>\n",
       "      <th>Name of hospital admitted</th>\n",
       "      <th>Hospitalised/Discharged/Deceased</th>\n",
       "      <th>HK/Non-HK resident</th>\n",
       "      <th>Case classification*</th>\n",
       "      <th>Confirmed/probable</th>\n",
       "    </tr>\n",
       "  </thead>\n",
       "  <tbody>\n",
       "    <tr>\n",
       "      <th>0</th>\n",
       "      <td>1</td>\n",
       "      <td>23/01/2020</td>\n",
       "      <td>21/01/2020</td>\n",
       "      <td>M</td>\n",
       "      <td>39</td>\n",
       "      <td>NaN</td>\n",
       "      <td>Discharged</td>\n",
       "      <td>Non-HK resident</td>\n",
       "      <td>Imported case</td>\n",
       "      <td>Confirmed</td>\n",
       "    </tr>\n",
       "    <tr>\n",
       "      <th>1</th>\n",
       "      <td>2</td>\n",
       "      <td>23/01/2020</td>\n",
       "      <td>18/01/2020</td>\n",
       "      <td>M</td>\n",
       "      <td>56</td>\n",
       "      <td>NaN</td>\n",
       "      <td>Discharged</td>\n",
       "      <td>HK resident</td>\n",
       "      <td>Imported case</td>\n",
       "      <td>Confirmed</td>\n",
       "    </tr>\n",
       "    <tr>\n",
       "      <th>2</th>\n",
       "      <td>3</td>\n",
       "      <td>24/01/2020</td>\n",
       "      <td>20/01/2020</td>\n",
       "      <td>F</td>\n",
       "      <td>62</td>\n",
       "      <td>NaN</td>\n",
       "      <td>Discharged</td>\n",
       "      <td>Non-HK resident</td>\n",
       "      <td>Imported case</td>\n",
       "      <td>Confirmed</td>\n",
       "    </tr>\n",
       "    <tr>\n",
       "      <th>3</th>\n",
       "      <td>4</td>\n",
       "      <td>24/01/2020</td>\n",
       "      <td>23/01/2020</td>\n",
       "      <td>F</td>\n",
       "      <td>62</td>\n",
       "      <td>NaN</td>\n",
       "      <td>Discharged</td>\n",
       "      <td>Non-HK resident</td>\n",
       "      <td>Imported case</td>\n",
       "      <td>Confirmed</td>\n",
       "    </tr>\n",
       "    <tr>\n",
       "      <th>4</th>\n",
       "      <td>5</td>\n",
       "      <td>24/01/2020</td>\n",
       "      <td>23/01/2020</td>\n",
       "      <td>M</td>\n",
       "      <td>63</td>\n",
       "      <td>NaN</td>\n",
       "      <td>Discharged</td>\n",
       "      <td>Non-HK resident</td>\n",
       "      <td>Imported case</td>\n",
       "      <td>Confirmed</td>\n",
       "    </tr>\n",
       "    <tr>\n",
       "      <th>...</th>\n",
       "      <td>...</td>\n",
       "      <td>...</td>\n",
       "      <td>...</td>\n",
       "      <td>...</td>\n",
       "      <td>...</td>\n",
       "      <td>...</td>\n",
       "      <td>...</td>\n",
       "      <td>...</td>\n",
       "      <td>...</td>\n",
       "      <td>...</td>\n",
       "    </tr>\n",
       "    <tr>\n",
       "      <th>3268</th>\n",
       "      <td>3269</td>\n",
       "      <td>31/07/2020</td>\n",
       "      <td>26/07/2020</td>\n",
       "      <td>M</td>\n",
       "      <td>22</td>\n",
       "      <td>NaN</td>\n",
       "      <td>To be provided</td>\n",
       "      <td>HK Resident</td>\n",
       "      <td>Local case</td>\n",
       "      <td>Confirmed</td>\n",
       "    </tr>\n",
       "    <tr>\n",
       "      <th>3269</th>\n",
       "      <td>3270</td>\n",
       "      <td>31/07/2020</td>\n",
       "      <td>28/07/2020</td>\n",
       "      <td>F</td>\n",
       "      <td>31</td>\n",
       "      <td>NaN</td>\n",
       "      <td>To be provided</td>\n",
       "      <td>HK Resident</td>\n",
       "      <td>Epidemiologically linked with local case</td>\n",
       "      <td>Confirmed</td>\n",
       "    </tr>\n",
       "    <tr>\n",
       "      <th>3270</th>\n",
       "      <td>3271</td>\n",
       "      <td>31/07/2020</td>\n",
       "      <td>Asymptomatic</td>\n",
       "      <td>F</td>\n",
       "      <td>36</td>\n",
       "      <td>NaN</td>\n",
       "      <td>To be provided</td>\n",
       "      <td>HK Resident</td>\n",
       "      <td>Epidemiologically linked with local case</td>\n",
       "      <td>Confirmed</td>\n",
       "    </tr>\n",
       "    <tr>\n",
       "      <th>3271</th>\n",
       "      <td>3272</td>\n",
       "      <td>31/07/2020</td>\n",
       "      <td>Pending</td>\n",
       "      <td>F</td>\n",
       "      <td>22</td>\n",
       "      <td>NaN</td>\n",
       "      <td>To be provided</td>\n",
       "      <td>HK Resident</td>\n",
       "      <td>Local case</td>\n",
       "      <td>Confirmed</td>\n",
       "    </tr>\n",
       "    <tr>\n",
       "      <th>3272</th>\n",
       "      <td>3273</td>\n",
       "      <td>31/07/2020</td>\n",
       "      <td>28/07/2020</td>\n",
       "      <td>M</td>\n",
       "      <td>68</td>\n",
       "      <td>NaN</td>\n",
       "      <td>To be provided</td>\n",
       "      <td>HK Resident</td>\n",
       "      <td>Epidemiologically linked with local case</td>\n",
       "      <td>Confirmed</td>\n",
       "    </tr>\n",
       "  </tbody>\n",
       "</table>\n",
       "<p>3273 rows × 10 columns</p>\n",
       "</div>"
      ],
      "text/plain": [
       "      Case no. Report date Date of onset Gender  Age  \\\n",
       "0            1  23/01/2020    21/01/2020      M   39   \n",
       "1            2  23/01/2020    18/01/2020      M   56   \n",
       "2            3  24/01/2020    20/01/2020      F   62   \n",
       "3            4  24/01/2020    23/01/2020      F   62   \n",
       "4            5  24/01/2020    23/01/2020      M   63   \n",
       "...        ...         ...           ...    ...  ...   \n",
       "3268      3269  31/07/2020    26/07/2020      M   22   \n",
       "3269      3270  31/07/2020    28/07/2020      F   31   \n",
       "3270      3271  31/07/2020  Asymptomatic      F   36   \n",
       "3271      3272  31/07/2020       Pending      F   22   \n",
       "3272      3273  31/07/2020    28/07/2020      M   68   \n",
       "\n",
       "      Name of hospital admitted Hospitalised/Discharged/Deceased  \\\n",
       "0                           NaN                       Discharged   \n",
       "1                           NaN                       Discharged   \n",
       "2                           NaN                       Discharged   \n",
       "3                           NaN                       Discharged   \n",
       "4                           NaN                       Discharged   \n",
       "...                         ...                              ...   \n",
       "3268                        NaN                   To be provided   \n",
       "3269                        NaN                   To be provided   \n",
       "3270                        NaN                   To be provided   \n",
       "3271                        NaN                   To be provided   \n",
       "3272                        NaN                   To be provided   \n",
       "\n",
       "     HK/Non-HK resident                      Case classification*  \\\n",
       "0       Non-HK resident                             Imported case   \n",
       "1           HK resident                             Imported case   \n",
       "2       Non-HK resident                             Imported case   \n",
       "3       Non-HK resident                             Imported case   \n",
       "4       Non-HK resident                             Imported case   \n",
       "...                 ...                                       ...   \n",
       "3268        HK Resident                                Local case   \n",
       "3269        HK Resident  Epidemiologically linked with local case   \n",
       "3270        HK Resident  Epidemiologically linked with local case   \n",
       "3271        HK Resident                                Local case   \n",
       "3272        HK Resident  Epidemiologically linked with local case   \n",
       "\n",
       "     Confirmed/probable  \n",
       "0             Confirmed  \n",
       "1             Confirmed  \n",
       "2             Confirmed  \n",
       "3             Confirmed  \n",
       "4             Confirmed  \n",
       "...                 ...  \n",
       "3268          Confirmed  \n",
       "3269          Confirmed  \n",
       "3270          Confirmed  \n",
       "3271          Confirmed  \n",
       "3272          Confirmed  \n",
       "\n",
       "[3273 rows x 10 columns]"
      ]
     },
     "execution_count": 5,
     "metadata": {},
     "output_type": "execute_result"
    }
   ],
   "source": [
    "import pandas as pd\n",
    "\n",
    "df_covid = pd.read_csv(url_covid)\n",
    "\n",
    "print(type(df_covid))\n",
    "df_covid"
   ]
  },
  {
   "cell_type": "markdown",
   "metadata": {
    "slideshow": {
     "slide_type": "fragment"
    }
   },
   "source": [
    "```{note}\n",
    "\n",
    "The above creates a [`DataFrame` object](https://pandas.pydata.org/docs/reference/api/pandas.DataFrame.html?highlight=dataframe#pandas.DataFrame):  \n",
    "- The content of the csv file is displayed as an HTML table conveniently.   \n",
    "- We can control how much information to show by setting the [display options](https://pandas.pydata.org/pandas-docs/stable/user_guide/options.html).)\n",
    "\n",
    "```"
   ]
  },
  {
   "cell_type": "markdown",
   "metadata": {
    "slideshow": {
     "slide_type": "subslide"
    }
   },
   "source": [
    "**Exercise** (building)\n",
    "\n",
    "Using the function `pd.read_csv`, load `building_list_eng.csv` as `df_building` from the url `url_building`.  "
   ]
  },
  {
   "cell_type": "code",
   "execution_count": 6,
   "metadata": {
    "ExecuteTime": {
     "end_time": "2021-03-20T14:30:37.306139Z",
     "start_time": "2021-03-20T14:30:36.576399Z"
    },
    "nbgrader": {
     "grade": false,
     "grade_id": "df_building",
     "locked": false,
     "schema_version": 3,
     "solution": true,
     "task": false
    },
    "slideshow": {
     "slide_type": "-"
    },
    "tags": [
     "remove-output"
    ]
   },
   "outputs": [
    {
     "data": {
      "text/html": [
       "<div>\n",
       "<style scoped>\n",
       "    .dataframe tbody tr th:only-of-type {\n",
       "        vertical-align: middle;\n",
       "    }\n",
       "\n",
       "    .dataframe tbody tr th {\n",
       "        vertical-align: top;\n",
       "    }\n",
       "\n",
       "    .dataframe thead th {\n",
       "        text-align: right;\n",
       "    }\n",
       "</style>\n",
       "<table border=\"1\" class=\"dataframe\">\n",
       "  <thead>\n",
       "    <tr style=\"text-align: right;\">\n",
       "      <th></th>\n",
       "      <th>District</th>\n",
       "      <th>Building name</th>\n",
       "      <th>Last date of residence of the case(s)</th>\n",
       "      <th>Related probable/confirmed cases</th>\n",
       "    </tr>\n",
       "  </thead>\n",
       "  <tbody>\n",
       "    <tr>\n",
       "      <th>0</th>\n",
       "      <td>Yau Tsim Mong</td>\n",
       "      <td>David Mansion</td>\n",
       "      <td>NaN</td>\n",
       "      <td>1657</td>\n",
       "    </tr>\n",
       "    <tr>\n",
       "      <th>1</th>\n",
       "      <td>Yau Tsim Mong</td>\n",
       "      <td>Kimberley Mansion</td>\n",
       "      <td>NaN</td>\n",
       "      <td>1658</td>\n",
       "    </tr>\n",
       "    <tr>\n",
       "      <th>2</th>\n",
       "      <td>Wong Tai Sin</td>\n",
       "      <td>Gomme House</td>\n",
       "      <td>NaN</td>\n",
       "      <td>1659</td>\n",
       "    </tr>\n",
       "    <tr>\n",
       "      <th>3</th>\n",
       "      <td>North</td>\n",
       "      <td>Yung Sui House, Yung Shing Court</td>\n",
       "      <td>NaN</td>\n",
       "      <td>1660</td>\n",
       "    </tr>\n",
       "    <tr>\n",
       "      <th>4</th>\n",
       "      <td>Sham Shui Po</td>\n",
       "      <td>Shun King Court</td>\n",
       "      <td>NaN</td>\n",
       "      <td>1661</td>\n",
       "    </tr>\n",
       "    <tr>\n",
       "      <th>...</th>\n",
       "      <td>...</td>\n",
       "      <td>...</td>\n",
       "      <td>...</td>\n",
       "      <td>...</td>\n",
       "    </tr>\n",
       "    <tr>\n",
       "      <th>2160</th>\n",
       "      <td>Sha Tin</td>\n",
       "      <td>MOSTown (Phase 4) (non-residential)</td>\n",
       "      <td>29/07/2020</td>\n",
       "      <td>3067</td>\n",
       "    </tr>\n",
       "    <tr>\n",
       "      <th>2161</th>\n",
       "      <td>Tuen Mun</td>\n",
       "      <td>San Hui Market (non-residential)</td>\n",
       "      <td>29/07/2020</td>\n",
       "      <td>1471, 1561, 1907,1931, 2154, 2381, 2458, 2598,...</td>\n",
       "    </tr>\n",
       "    <tr>\n",
       "      <th>2162</th>\n",
       "      <td>Sham Shui Po</td>\n",
       "      <td>Shek Kip Mei Estate Commercial Centre (non-res...</td>\n",
       "      <td>29/07/2020</td>\n",
       "      <td>1813, 1881, 1927, 2067, 2418, 2688, 3038</td>\n",
       "    </tr>\n",
       "    <tr>\n",
       "      <th>2163</th>\n",
       "      <td>Central &amp; Western</td>\n",
       "      <td>Federate Building Fairwood (non-residential)</td>\n",
       "      <td>30/07/2020</td>\n",
       "      <td>3158</td>\n",
       "    </tr>\n",
       "    <tr>\n",
       "      <th>2164</th>\n",
       "      <td>Central &amp; Western</td>\n",
       "      <td>Pacific Place (non-residential)</td>\n",
       "      <td>30/07/2020</td>\n",
       "      <td>3158</td>\n",
       "    </tr>\n",
       "  </tbody>\n",
       "</table>\n",
       "<p>2165 rows × 4 columns</p>\n",
       "</div>"
      ],
      "text/plain": [
       "               District                                      Building name  \\\n",
       "0         Yau Tsim Mong                                      David Mansion   \n",
       "1         Yau Tsim Mong                                  Kimberley Mansion   \n",
       "2          Wong Tai Sin                                        Gomme House   \n",
       "3                 North                   Yung Sui House, Yung Shing Court   \n",
       "4          Sham Shui Po                                    Shun King Court   \n",
       "...                 ...                                                ...   \n",
       "2160            Sha Tin                MOSTown (Phase 4) (non-residential)   \n",
       "2161           Tuen Mun                   San Hui Market (non-residential)   \n",
       "2162       Sham Shui Po  Shek Kip Mei Estate Commercial Centre (non-res...   \n",
       "2163  Central & Western       Federate Building Fairwood (non-residential)   \n",
       "2164  Central & Western                    Pacific Place (non-residential)   \n",
       "\n",
       "     Last date of residence of the case(s)  \\\n",
       "0                                      NaN   \n",
       "1                                      NaN   \n",
       "2                                      NaN   \n",
       "3                                      NaN   \n",
       "4                                      NaN   \n",
       "...                                    ...   \n",
       "2160                            29/07/2020   \n",
       "2161                            29/07/2020   \n",
       "2162                            29/07/2020   \n",
       "2163                            30/07/2020   \n",
       "2164                            30/07/2020   \n",
       "\n",
       "                       Related probable/confirmed cases  \n",
       "0                                                  1657  \n",
       "1                                                  1658  \n",
       "2                                                  1659  \n",
       "3                                                  1660  \n",
       "4                                                  1661  \n",
       "...                                                 ...  \n",
       "2160                                               3067  \n",
       "2161  1471, 1561, 1907,1931, 2154, 2381, 2458, 2598,...  \n",
       "2162           1813, 1881, 1927, 2067, 2418, 2688, 3038  \n",
       "2163                                               3158  \n",
       "2164                                               3158  \n",
       "\n",
       "[2165 rows x 4 columns]"
      ]
     },
     "execution_count": 6,
     "metadata": {},
     "output_type": "execute_result"
    }
   ],
   "source": [
    "url_building_csv = \"http://www.chp.gov.hk/files/misc/building_list_eng.csv\"\n",
    "time = \"20200801-1203\"\n",
    "url_building = (\n",
    "    url_data_gov_hk_get + \"?\" + urlencode({\"url\": url_building_csv, \"time\": time})\n",
    ")\n",
    "df_building = pd.read_csv(url_building)\n",
    "df_building"
   ]
  },
  {
   "cell_type": "code",
   "execution_count": 7,
   "metadata": {
    "deletable": false,
    "editable": false
   },
   "outputs": [
    {
     "data": {
      "text/html": [
       "<p><strong><pre style='display: inline;'>building</pre></strong> passed!</p>"
      ],
      "text/plain": [
       "building results: All test cases passed!"
      ]
     },
     "execution_count": 7,
     "metadata": {},
     "output_type": "execute_result"
    }
   ],
   "source": [
    "grader.check(\"building\")"
   ]
  },
  {
   "cell_type": "markdown",
   "metadata": {
    "slideshow": {
     "slide_type": "subslide"
    }
   },
   "source": [
    "## Selecting and Removing columns"
   ]
  },
  {
   "cell_type": "markdown",
   "metadata": {
    "slideshow": {
     "slide_type": "fragment"
    }
   },
   "source": [
    "We can obtain the column labels of a `Dataframe` using its `columns` attribute."
   ]
  },
  {
   "cell_type": "code",
   "execution_count": 8,
   "metadata": {
    "ExecuteTime": {
     "end_time": "2021-03-20T14:30:42.767773Z",
     "start_time": "2021-03-20T14:30:42.763390Z"
    },
    "slideshow": {
     "slide_type": "-"
    },
    "tags": []
   },
   "outputs": [
    {
     "data": {
      "text/plain": [
       "Index(['Case no.', 'Report date', 'Date of onset', 'Gender', 'Age',\n",
       "       'Name of hospital admitted', 'Hospitalised/Discharged/Deceased',\n",
       "       'HK/Non-HK resident', 'Case classification*', 'Confirmed/probable'],\n",
       "      dtype='object')"
      ]
     },
     "execution_count": 8,
     "metadata": {},
     "output_type": "execute_result"
    }
   ],
   "source": [
    "df_covid.columns"
   ]
  },
  {
   "cell_type": "markdown",
   "metadata": {
    "slideshow": {
     "slide_type": "fragment"
    }
   },
   "source": [
    "Using the indexing operator `[]`, a column of a `DataFrame` can be returned as a [`Series` object](https://pandas.pydata.org/pandas-docs/stable/reference/api/pandas.Series.html), which is essentially a named array.   \n",
    "We can further use the method `value_counts` to return the counts of different values in another `Series` object."
   ]
  },
  {
   "cell_type": "code",
   "execution_count": 9,
   "metadata": {
    "ExecuteTime": {
     "end_time": "2021-03-20T14:30:43.892303Z",
     "start_time": "2021-03-20T14:30:43.884207Z"
    },
    "slideshow": {
     "slide_type": "-"
    }
   },
   "outputs": [
    {
     "name": "stdout",
     "output_type": "stream",
     "text": [
      "<class 'pandas.core.series.Series'>\n"
     ]
    },
    {
     "data": {
      "text/plain": [
       "F    1648\n",
       "M    1625\n",
       "Name: Gender, dtype: int64"
      ]
     },
     "execution_count": 9,
     "metadata": {},
     "output_type": "execute_result"
    }
   ],
   "source": [
    "series_gender_counts = df_covid[\n",
    "    \"Gender\"\n",
    "].value_counts()  # return the number of male and female cases\n",
    "\n",
    "print(type(series_gender_counts))\n",
    "series_gender_counts"
   ]
  },
  {
   "cell_type": "markdown",
   "metadata": {
    "slideshow": {
     "slide_type": "subslide"
    }
   },
   "source": [
    "**Exercise** (district)\n",
    "\n",
    "For `df_building`, use the operator `[]` and method `value_counts` to assign `series_district_counts` to a `Series` object that stores the counts of buildings in different district."
   ]
  },
  {
   "cell_type": "code",
   "execution_count": 10,
   "metadata": {
    "ExecuteTime": {
     "end_time": "2021-03-20T14:30:47.583871Z",
     "start_time": "2021-03-20T14:30:47.579795Z"
    },
    "code_folding": [],
    "nbgrader": {
     "grade": false,
     "grade_id": "series_district_counts",
     "locked": false,
     "schema_version": 3,
     "solution": true,
     "task": false
    },
    "slideshow": {
     "slide_type": "-"
    },
    "tags": [
     "remove-output"
    ]
   },
   "outputs": [],
   "source": [
    "series_district_counts = df_building[\"District\"].value_counts()"
   ]
  },
  {
   "cell_type": "code",
   "execution_count": 11,
   "metadata": {
    "deletable": false,
    "editable": false
   },
   "outputs": [
    {
     "data": {
      "text/html": [
       "<p><strong><pre style='display: inline;'>district</pre></strong> passed!</p>"
      ],
      "text/plain": [
       "district results: All test cases passed!"
      ]
     },
     "execution_count": 11,
     "metadata": {},
     "output_type": "execute_result"
    }
   ],
   "source": [
    "grader.check(\"district\")"
   ]
  },
  {
   "cell_type": "markdown",
   "metadata": {
    "slideshow": {
     "slide_type": "subslide"
    }
   },
   "source": [
    "In `df_covid`, it appears that the column `Name of hospital admitted` contains no information. We can confirm this by\n",
    "1. returning the column as a `Series` with `df_covid_cases['Name of hospital admitted']`, and\n",
    "1. printing an array of unique column values using the method `unique`."
   ]
  },
  {
   "cell_type": "code",
   "execution_count": 12,
   "metadata": {
    "ExecuteTime": {
     "end_time": "2021-03-20T14:31:02.738601Z",
     "start_time": "2021-03-20T14:31:02.734433Z"
    },
    "slideshow": {
     "slide_type": "-"
    }
   },
   "outputs": [
    {
     "data": {
      "text/plain": [
       "array([nan])"
      ]
     },
     "execution_count": 12,
     "metadata": {},
     "output_type": "execute_result"
    }
   ],
   "source": [
    "df_covid[\"Name of hospital admitted\"].unique()"
   ]
  },
  {
   "cell_type": "markdown",
   "metadata": {
    "slideshow": {
     "slide_type": "subslide"
    }
   },
   "source": [
    "**Exercise** (drop)\n",
    "\n",
    "Drop the column `Name of hospital admitted` from `df_covid` using the `drop` method of the DataFrame. "
   ]
  },
  {
   "cell_type": "markdown",
   "metadata": {},
   "source": [
    "```{hint}\n",
    "\n",
    "Consider reading the documentation of the `drop` method for  \n",
    "- mutating `df_covid` in place instead of creating a copy of the DataFrame with the column dropped, but\n",
    "- suppressing error when dropping a column that does not exist or has already been dropped.\n",
    "\n",
    "```"
   ]
  },
  {
   "cell_type": "code",
   "execution_count": 13,
   "metadata": {
    "ExecuteTime": {
     "end_time": "2021-03-20T14:31:05.646113Z",
     "start_time": "2021-03-20T14:31:05.625285Z"
    },
    "nbgrader": {
     "grade": false,
     "grade_id": "drop",
     "locked": false,
     "schema_version": 3,
     "solution": true,
     "task": false
    },
    "slideshow": {
     "slide_type": "-"
    },
    "tags": [
     "remove-output"
    ]
   },
   "outputs": [],
   "source": [
    "df_covid.drop(columns=\"Name of hospital admitted\", inplace=True)"
   ]
  },
  {
   "cell_type": "code",
   "execution_count": 14,
   "metadata": {
    "deletable": false,
    "editable": false
   },
   "outputs": [
    {
     "data": {
      "text/html": [
       "<p><strong><pre style='display: inline;'>drop</pre></strong> passed!</p>"
      ],
      "text/plain": [
       "drop results: All test cases passed!"
      ]
     },
     "execution_count": 14,
     "metadata": {},
     "output_type": "execute_result"
    }
   ],
   "source": [
    "grader.check(\"drop\")"
   ]
  },
  {
   "cell_type": "markdown",
   "metadata": {
    "slideshow": {
     "slide_type": "slide"
    }
   },
   "source": [
    "## Selecting Rows of DataFrame"
   ]
  },
  {
   "cell_type": "markdown",
   "metadata": {
    "slideshow": {
     "slide_type": "fragment"
    }
   },
   "source": [
    "We can select the confirmed male cases using the attribute [`loc`](https://pandas.pydata.org/pandas-docs/stable/reference/api/pandas.DataFrame.loc.html) and the indexing operator `[]`."
   ]
  },
  {
   "cell_type": "code",
   "execution_count": 15,
   "metadata": {
    "ExecuteTime": {
     "end_time": "2021-03-20T14:31:17.856838Z",
     "start_time": "2021-03-20T14:31:17.833503Z"
    },
    "slideshow": {
     "slide_type": "-"
    }
   },
   "outputs": [
    {
     "name": "stdout",
     "output_type": "stream",
     "text": [
      "<class 'pandas.core.indexing._LocIndexer'>\n"
     ]
    },
    {
     "data": {
      "text/html": [
       "<div>\n",
       "<style scoped>\n",
       "    .dataframe tbody tr th:only-of-type {\n",
       "        vertical-align: middle;\n",
       "    }\n",
       "\n",
       "    .dataframe tbody tr th {\n",
       "        vertical-align: top;\n",
       "    }\n",
       "\n",
       "    .dataframe thead th {\n",
       "        text-align: right;\n",
       "    }\n",
       "</style>\n",
       "<table border=\"1\" class=\"dataframe\">\n",
       "  <thead>\n",
       "    <tr style=\"text-align: right;\">\n",
       "      <th></th>\n",
       "      <th>Case no.</th>\n",
       "      <th>Report date</th>\n",
       "      <th>Date of onset</th>\n",
       "      <th>Gender</th>\n",
       "      <th>Age</th>\n",
       "      <th>Hospitalised/Discharged/Deceased</th>\n",
       "      <th>HK/Non-HK resident</th>\n",
       "      <th>Case classification*</th>\n",
       "      <th>Confirmed/probable</th>\n",
       "    </tr>\n",
       "  </thead>\n",
       "  <tbody>\n",
       "    <tr>\n",
       "      <th>0</th>\n",
       "      <td>1</td>\n",
       "      <td>23/01/2020</td>\n",
       "      <td>21/01/2020</td>\n",
       "      <td>M</td>\n",
       "      <td>39</td>\n",
       "      <td>Discharged</td>\n",
       "      <td>Non-HK resident</td>\n",
       "      <td>Imported case</td>\n",
       "      <td>Confirmed</td>\n",
       "    </tr>\n",
       "    <tr>\n",
       "      <th>1</th>\n",
       "      <td>2</td>\n",
       "      <td>23/01/2020</td>\n",
       "      <td>18/01/2020</td>\n",
       "      <td>M</td>\n",
       "      <td>56</td>\n",
       "      <td>Discharged</td>\n",
       "      <td>HK resident</td>\n",
       "      <td>Imported case</td>\n",
       "      <td>Confirmed</td>\n",
       "    </tr>\n",
       "    <tr>\n",
       "      <th>4</th>\n",
       "      <td>5</td>\n",
       "      <td>24/01/2020</td>\n",
       "      <td>23/01/2020</td>\n",
       "      <td>M</td>\n",
       "      <td>63</td>\n",
       "      <td>Discharged</td>\n",
       "      <td>Non-HK resident</td>\n",
       "      <td>Imported case</td>\n",
       "      <td>Confirmed</td>\n",
       "    </tr>\n",
       "    <tr>\n",
       "      <th>5</th>\n",
       "      <td>6</td>\n",
       "      <td>26/01/2020</td>\n",
       "      <td>21/01/2020</td>\n",
       "      <td>M</td>\n",
       "      <td>47</td>\n",
       "      <td>Discharged</td>\n",
       "      <td>HK resident</td>\n",
       "      <td>Imported case</td>\n",
       "      <td>Confirmed</td>\n",
       "    </tr>\n",
       "    <tr>\n",
       "      <th>7</th>\n",
       "      <td>8</td>\n",
       "      <td>26/01/2020</td>\n",
       "      <td>25/01/2020</td>\n",
       "      <td>M</td>\n",
       "      <td>64</td>\n",
       "      <td>Discharged</td>\n",
       "      <td>Non-HK resident</td>\n",
       "      <td>Imported case</td>\n",
       "      <td>Confirmed</td>\n",
       "    </tr>\n",
       "    <tr>\n",
       "      <th>...</th>\n",
       "      <td>...</td>\n",
       "      <td>...</td>\n",
       "      <td>...</td>\n",
       "      <td>...</td>\n",
       "      <td>...</td>\n",
       "      <td>...</td>\n",
       "      <td>...</td>\n",
       "      <td>...</td>\n",
       "      <td>...</td>\n",
       "    </tr>\n",
       "    <tr>\n",
       "      <th>3264</th>\n",
       "      <td>3265</td>\n",
       "      <td>31/07/2020</td>\n",
       "      <td>25/07/2020</td>\n",
       "      <td>M</td>\n",
       "      <td>54</td>\n",
       "      <td>To be provided</td>\n",
       "      <td>HK Resident</td>\n",
       "      <td>Local case</td>\n",
       "      <td>Confirmed</td>\n",
       "    </tr>\n",
       "    <tr>\n",
       "      <th>3265</th>\n",
       "      <td>3266</td>\n",
       "      <td>31/07/2020</td>\n",
       "      <td>30/07/2020</td>\n",
       "      <td>M</td>\n",
       "      <td>69</td>\n",
       "      <td>To be provided</td>\n",
       "      <td>HK Resident</td>\n",
       "      <td>Epidemiologically linked with local case</td>\n",
       "      <td>Confirmed</td>\n",
       "    </tr>\n",
       "    <tr>\n",
       "      <th>3267</th>\n",
       "      <td>3268</td>\n",
       "      <td>31/07/2020</td>\n",
       "      <td>23/07/2020</td>\n",
       "      <td>M</td>\n",
       "      <td>61</td>\n",
       "      <td>To be provided</td>\n",
       "      <td>HK Resident</td>\n",
       "      <td>Epidemiologically linked with local case</td>\n",
       "      <td>Confirmed</td>\n",
       "    </tr>\n",
       "    <tr>\n",
       "      <th>3268</th>\n",
       "      <td>3269</td>\n",
       "      <td>31/07/2020</td>\n",
       "      <td>26/07/2020</td>\n",
       "      <td>M</td>\n",
       "      <td>22</td>\n",
       "      <td>To be provided</td>\n",
       "      <td>HK Resident</td>\n",
       "      <td>Local case</td>\n",
       "      <td>Confirmed</td>\n",
       "    </tr>\n",
       "    <tr>\n",
       "      <th>3272</th>\n",
       "      <td>3273</td>\n",
       "      <td>31/07/2020</td>\n",
       "      <td>28/07/2020</td>\n",
       "      <td>M</td>\n",
       "      <td>68</td>\n",
       "      <td>To be provided</td>\n",
       "      <td>HK Resident</td>\n",
       "      <td>Epidemiologically linked with local case</td>\n",
       "      <td>Confirmed</td>\n",
       "    </tr>\n",
       "  </tbody>\n",
       "</table>\n",
       "<p>1624 rows × 9 columns</p>\n",
       "</div>"
      ],
      "text/plain": [
       "      Case no. Report date Date of onset Gender  Age  \\\n",
       "0            1  23/01/2020    21/01/2020      M   39   \n",
       "1            2  23/01/2020    18/01/2020      M   56   \n",
       "4            5  24/01/2020    23/01/2020      M   63   \n",
       "5            6  26/01/2020    21/01/2020      M   47   \n",
       "7            8  26/01/2020    25/01/2020      M   64   \n",
       "...        ...         ...           ...    ...  ...   \n",
       "3264      3265  31/07/2020    25/07/2020      M   54   \n",
       "3265      3266  31/07/2020    30/07/2020      M   69   \n",
       "3267      3268  31/07/2020    23/07/2020      M   61   \n",
       "3268      3269  31/07/2020    26/07/2020      M   22   \n",
       "3272      3273  31/07/2020    28/07/2020      M   68   \n",
       "\n",
       "     Hospitalised/Discharged/Deceased HK/Non-HK resident  \\\n",
       "0                          Discharged    Non-HK resident   \n",
       "1                          Discharged        HK resident   \n",
       "4                          Discharged    Non-HK resident   \n",
       "5                          Discharged        HK resident   \n",
       "7                          Discharged    Non-HK resident   \n",
       "...                               ...                ...   \n",
       "3264                   To be provided        HK Resident   \n",
       "3265                   To be provided        HK Resident   \n",
       "3267                   To be provided        HK Resident   \n",
       "3268                   To be provided        HK Resident   \n",
       "3272                   To be provided        HK Resident   \n",
       "\n",
       "                          Case classification* Confirmed/probable  \n",
       "0                                Imported case          Confirmed  \n",
       "1                                Imported case          Confirmed  \n",
       "4                                Imported case          Confirmed  \n",
       "5                                Imported case          Confirmed  \n",
       "7                                Imported case          Confirmed  \n",
       "...                                        ...                ...  \n",
       "3264                                Local case          Confirmed  \n",
       "3265  Epidemiologically linked with local case          Confirmed  \n",
       "3267  Epidemiologically linked with local case          Confirmed  \n",
       "3268                                Local case          Confirmed  \n",
       "3272  Epidemiologically linked with local case          Confirmed  \n",
       "\n",
       "[1624 rows x 9 columns]"
      ]
     },
     "execution_count": 15,
     "metadata": {},
     "output_type": "execute_result"
    }
   ],
   "source": [
    "df_confirmed_male = df_covid.loc[\n",
    "    (df_covid[\"Confirmed/probable\"] == \"Confirmed\") & (df_covid[\"Gender\"] == \"M\")\n",
    "]\n",
    "print(type(df_covid.loc))\n",
    "df_confirmed_male"
   ]
  },
  {
   "cell_type": "markdown",
   "metadata": {},
   "source": [
    "```{note}\n",
    "\n",
    "`loc` essentially returns an object that implements the [advanced indexing method](https://numpy.org/doc/stable/user/basics.indexing.html#advanced-indexing) for `__getitem__`. In particular, the above uses [boolean indexing](https://numpy.org/doc/stable/user/basics.indexing.html#boolean-array-indexing).\n",
    "```"
   ]
  },
  {
   "cell_type": "markdown",
   "metadata": {
    "slideshow": {
     "slide_type": "subslide"
    }
   },
   "source": [
    "**Exercise** (local)\n",
    "\n",
    "Assign `df_confirmed_local` to a `DataFrame` of confirmed cases that are local or epidemiologically linked with a local case."
   ]
  },
  {
   "cell_type": "code",
   "execution_count": 16,
   "metadata": {
    "ExecuteTime": {
     "end_time": "2021-03-20T14:31:20.747891Z",
     "start_time": "2021-03-20T14:31:20.724014Z"
    },
    "nbgrader": {
     "grade": false,
     "grade_id": "df_confirmed_local",
     "locked": false,
     "schema_version": 3,
     "solution": true,
     "task": false
    },
    "slideshow": {
     "slide_type": "-"
    },
    "tags": [
     "remove-output"
    ]
   },
   "outputs": [
    {
     "data": {
      "text/html": [
       "<div>\n",
       "<style scoped>\n",
       "    .dataframe tbody tr th:only-of-type {\n",
       "        vertical-align: middle;\n",
       "    }\n",
       "\n",
       "    .dataframe tbody tr th {\n",
       "        vertical-align: top;\n",
       "    }\n",
       "\n",
       "    .dataframe thead th {\n",
       "        text-align: right;\n",
       "    }\n",
       "</style>\n",
       "<table border=\"1\" class=\"dataframe\">\n",
       "  <thead>\n",
       "    <tr style=\"text-align: right;\">\n",
       "      <th></th>\n",
       "      <th>Case no.</th>\n",
       "      <th>Report date</th>\n",
       "      <th>Date of onset</th>\n",
       "      <th>Gender</th>\n",
       "      <th>Age</th>\n",
       "      <th>Hospitalised/Discharged/Deceased</th>\n",
       "      <th>HK/Non-HK resident</th>\n",
       "      <th>Case classification*</th>\n",
       "      <th>Confirmed/probable</th>\n",
       "    </tr>\n",
       "  </thead>\n",
       "  <tbody>\n",
       "    <tr>\n",
       "      <th>15</th>\n",
       "      <td>16</td>\n",
       "      <td>04/02/2020</td>\n",
       "      <td>23/01/2020</td>\n",
       "      <td>F</td>\n",
       "      <td>64</td>\n",
       "      <td>Discharged</td>\n",
       "      <td>HK resident</td>\n",
       "      <td>Local case</td>\n",
       "      <td>Confirmed</td>\n",
       "    </tr>\n",
       "    <tr>\n",
       "      <th>16</th>\n",
       "      <td>17</td>\n",
       "      <td>04/02/2020</td>\n",
       "      <td>22/01/2020</td>\n",
       "      <td>M</td>\n",
       "      <td>60</td>\n",
       "      <td>Discharged</td>\n",
       "      <td>HK resident</td>\n",
       "      <td>Local case</td>\n",
       "      <td>Confirmed</td>\n",
       "    </tr>\n",
       "    <tr>\n",
       "      <th>17</th>\n",
       "      <td>18</td>\n",
       "      <td>04/02/2020</td>\n",
       "      <td>28/01/2020</td>\n",
       "      <td>M</td>\n",
       "      <td>25</td>\n",
       "      <td>Discharged</td>\n",
       "      <td>HK resident</td>\n",
       "      <td>Local case</td>\n",
       "      <td>Confirmed</td>\n",
       "    </tr>\n",
       "    <tr>\n",
       "      <th>18</th>\n",
       "      <td>19</td>\n",
       "      <td>05/02/2020</td>\n",
       "      <td>30/01/2020</td>\n",
       "      <td>F</td>\n",
       "      <td>28</td>\n",
       "      <td>Discharged</td>\n",
       "      <td>HK resident</td>\n",
       "      <td>Epidemiologically linked with local case</td>\n",
       "      <td>Confirmed</td>\n",
       "    </tr>\n",
       "    <tr>\n",
       "      <th>19</th>\n",
       "      <td>20</td>\n",
       "      <td>05/02/2020</td>\n",
       "      <td>04/02/2020</td>\n",
       "      <td>F</td>\n",
       "      <td>56</td>\n",
       "      <td>Discharged</td>\n",
       "      <td>HK resident</td>\n",
       "      <td>Epidemiologically linked with local case</td>\n",
       "      <td>Confirmed</td>\n",
       "    </tr>\n",
       "    <tr>\n",
       "      <th>...</th>\n",
       "      <td>...</td>\n",
       "      <td>...</td>\n",
       "      <td>...</td>\n",
       "      <td>...</td>\n",
       "      <td>...</td>\n",
       "      <td>...</td>\n",
       "      <td>...</td>\n",
       "      <td>...</td>\n",
       "      <td>...</td>\n",
       "    </tr>\n",
       "    <tr>\n",
       "      <th>3268</th>\n",
       "      <td>3269</td>\n",
       "      <td>31/07/2020</td>\n",
       "      <td>26/07/2020</td>\n",
       "      <td>M</td>\n",
       "      <td>22</td>\n",
       "      <td>To be provided</td>\n",
       "      <td>HK Resident</td>\n",
       "      <td>Local case</td>\n",
       "      <td>Confirmed</td>\n",
       "    </tr>\n",
       "    <tr>\n",
       "      <th>3269</th>\n",
       "      <td>3270</td>\n",
       "      <td>31/07/2020</td>\n",
       "      <td>28/07/2020</td>\n",
       "      <td>F</td>\n",
       "      <td>31</td>\n",
       "      <td>To be provided</td>\n",
       "      <td>HK Resident</td>\n",
       "      <td>Epidemiologically linked with local case</td>\n",
       "      <td>Confirmed</td>\n",
       "    </tr>\n",
       "    <tr>\n",
       "      <th>3270</th>\n",
       "      <td>3271</td>\n",
       "      <td>31/07/2020</td>\n",
       "      <td>Asymptomatic</td>\n",
       "      <td>F</td>\n",
       "      <td>36</td>\n",
       "      <td>To be provided</td>\n",
       "      <td>HK Resident</td>\n",
       "      <td>Epidemiologically linked with local case</td>\n",
       "      <td>Confirmed</td>\n",
       "    </tr>\n",
       "    <tr>\n",
       "      <th>3271</th>\n",
       "      <td>3272</td>\n",
       "      <td>31/07/2020</td>\n",
       "      <td>Pending</td>\n",
       "      <td>F</td>\n",
       "      <td>22</td>\n",
       "      <td>To be provided</td>\n",
       "      <td>HK Resident</td>\n",
       "      <td>Local case</td>\n",
       "      <td>Confirmed</td>\n",
       "    </tr>\n",
       "    <tr>\n",
       "      <th>3272</th>\n",
       "      <td>3273</td>\n",
       "      <td>31/07/2020</td>\n",
       "      <td>28/07/2020</td>\n",
       "      <td>M</td>\n",
       "      <td>68</td>\n",
       "      <td>To be provided</td>\n",
       "      <td>HK Resident</td>\n",
       "      <td>Epidemiologically linked with local case</td>\n",
       "      <td>Confirmed</td>\n",
       "    </tr>\n",
       "  </tbody>\n",
       "</table>\n",
       "<p>2034 rows × 9 columns</p>\n",
       "</div>"
      ],
      "text/plain": [
       "      Case no. Report date Date of onset Gender  Age  \\\n",
       "15          16  04/02/2020    23/01/2020      F   64   \n",
       "16          17  04/02/2020    22/01/2020      M   60   \n",
       "17          18  04/02/2020    28/01/2020      M   25   \n",
       "18          19  05/02/2020    30/01/2020      F   28   \n",
       "19          20  05/02/2020    04/02/2020      F   56   \n",
       "...        ...         ...           ...    ...  ...   \n",
       "3268      3269  31/07/2020    26/07/2020      M   22   \n",
       "3269      3270  31/07/2020    28/07/2020      F   31   \n",
       "3270      3271  31/07/2020  Asymptomatic      F   36   \n",
       "3271      3272  31/07/2020       Pending      F   22   \n",
       "3272      3273  31/07/2020    28/07/2020      M   68   \n",
       "\n",
       "     Hospitalised/Discharged/Deceased HK/Non-HK resident  \\\n",
       "15                         Discharged        HK resident   \n",
       "16                         Discharged        HK resident   \n",
       "17                         Discharged        HK resident   \n",
       "18                         Discharged        HK resident   \n",
       "19                         Discharged        HK resident   \n",
       "...                               ...                ...   \n",
       "3268                   To be provided        HK Resident   \n",
       "3269                   To be provided        HK Resident   \n",
       "3270                   To be provided        HK Resident   \n",
       "3271                   To be provided        HK Resident   \n",
       "3272                   To be provided        HK Resident   \n",
       "\n",
       "                          Case classification* Confirmed/probable  \n",
       "15                                  Local case          Confirmed  \n",
       "16                                  Local case          Confirmed  \n",
       "17                                  Local case          Confirmed  \n",
       "18    Epidemiologically linked with local case          Confirmed  \n",
       "19    Epidemiologically linked with local case          Confirmed  \n",
       "...                                        ...                ...  \n",
       "3268                                Local case          Confirmed  \n",
       "3269  Epidemiologically linked with local case          Confirmed  \n",
       "3270  Epidemiologically linked with local case          Confirmed  \n",
       "3271                                Local case          Confirmed  \n",
       "3272  Epidemiologically linked with local case          Confirmed  \n",
       "\n",
       "[2034 rows x 9 columns]"
      ]
     },
     "execution_count": 16,
     "metadata": {},
     "output_type": "execute_result"
    }
   ],
   "source": [
    "df_confirmed_local = df_covid.loc[\n",
    "    (df_covid[\"Confirmed/probable\"] == \"Confirmed\") &\n",
    "    ((df_covid[\"Case classification*\"] == \"Local case\") |\n",
    "        (df_covid[\"Case classification*\"] == \"Epidemiologically linked with local case\"))\n",
    "]\n",
    "df_confirmed_local"
   ]
  },
  {
   "cell_type": "code",
   "execution_count": 17,
   "metadata": {
    "deletable": false,
    "editable": false
   },
   "outputs": [
    {
     "data": {
      "text/html": [
       "<p><strong><pre style='display: inline;'>local</pre></strong> passed!</p>"
      ],
      "text/plain": [
       "local results: All test cases passed!"
      ]
     },
     "execution_count": 17,
     "metadata": {},
     "output_type": "execute_result"
    }
   ],
   "source": [
    "grader.check(\"local\")"
   ]
  },
  {
   "cell_type": "markdown",
   "metadata": {
    "slideshow": {
     "slide_type": "fragment"
    }
   },
   "source": [
    "**Exercise** (case-counts)\n",
    "\n",
    "Write a function `case_counts` that \n",
    "- takes an argument `district`, and\n",
    "- returns the number of cases in `district`. "
   ]
  },
  {
   "cell_type": "markdown",
   "metadata": {},
   "source": [
    "```{hint}\n",
    "\n",
    "Be careful that there can be more than one case for each building and there may be multiple buildings associated with one case. You may want to use the `split` and `strip` methods of `str` to obtain a list of cases from the `Dataframe`.\n",
    "\n",
    "```"
   ]
  },
  {
   "cell_type": "code",
   "execution_count": 18,
   "metadata": {
    "ExecuteTime": {
     "end_time": "2021-03-20T14:31:26.111424Z",
     "start_time": "2021-03-20T14:31:26.109676Z"
    },
    "nbgrader": {
     "grade": false,
     "grade_id": "case_counts",
     "locked": false,
     "schema_version": 3,
     "solution": true,
     "task": false
    },
    "slideshow": {
     "slide_type": "-"
    },
    "tags": [
     "remove-output"
    ]
   },
   "outputs": [],
   "source": [
    "def case_counts(district):\n",
    "    # print(df_building[\"District\"].value_counts())\n",
    "    df_district_list = df_building.loc[\n",
    "        df_building[\"District\"] == district\n",
    "    ]\n",
    "    # print(df_district_list)\n",
    "    # df_cases_set = df_district_list[\"Related probable/confirmed cases\"]\n",
    "    cases_set = set()\n",
    "    for cases in df_district_list[\"Related probable/confirmed cases\"]:\n",
    "        # print(cases.split(\",\"))\n",
    "        for case in cases.split(\",\"):\n",
    "            cases_set.add(case.strip())\n",
    "    return len(cases_set)\n",
    "# case_counts(\"Central & Western\")"
   ]
  },
  {
   "cell_type": "code",
   "execution_count": 19,
   "metadata": {
    "deletable": false,
    "editable": false
   },
   "outputs": [
    {
     "data": {
      "text/html": [
       "<p><strong><pre style='display: inline;'>case-counts</pre></strong> passed!</p>"
      ],
      "text/plain": [
       "case-counts results: All test cases passed!"
      ]
     },
     "execution_count": 19,
     "metadata": {},
     "output_type": "execute_result"
    }
   ],
   "source": [
    "grader.check(\"case-counts\")"
   ]
  },
  {
   "cell_type": "markdown",
   "metadata": {
    "editable": false,
    "tags": [
     "remove-cell"
    ]
   },
   "source": [
    "## Submission\n",
    "\n",
    "Make sure you have run all cells in your notebook in order before running the cell below, so that all images/graphs appear in the output. The cell below will generate a zip file for you to submit. **Please save before exporting!**"
   ]
  },
  {
   "cell_type": "code",
   "execution_count": 20,
   "metadata": {
    "deletable": false,
    "editable": true,
    "tags": []
   },
   "outputs": [],
   "source": [
    "# extra files to submit\n",
    "extra_files = []"
   ]
  },
  {
   "cell_type": "code",
   "execution_count": 21,
   "metadata": {
    "deletable": false,
    "editable": false,
    "tags": []
   },
   "outputs": [],
   "source": [
    "# Generate the source main.py necessary for grading and similarity check.\n",
    "jupytext.write(jupytext.read(\"main.ipynb\"), \"main.py\", fmt=\"py:percent\")"
   ]
  },
  {
   "cell_type": "code",
   "execution_count": 22,
   "metadata": {
    "deletable": false,
    "editable": false,
    "tags": []
   },
   "outputs": [
    {
     "data": {
      "text/html": [
       "\n",
       "            <p>Your submission has been exported. Click <a href=\"main_2022_10_24T18_27_49_090143.zip\" download=\"main_2022_10_24T18_27_49_090143.zip\" target=\"_blank\">here</a>\n",
       "            to download the zip file.</p>\n",
       "            "
      ],
      "text/plain": [
       "<IPython.core.display.HTML object>"
      ]
     },
     "metadata": {},
     "output_type": "display_data"
    }
   ],
   "source": [
    "# Generate the zip file to submit.\n",
    "grader.export(pdf=False, run_tests=False, files=[\"main.py\", *extra_files])"
   ]
  },
  {
   "cell_type": "code",
   "execution_count": null,
   "metadata": {},
   "outputs": [],
   "source": []
  }
 ],
 "metadata": {
  "celltoolbar": "Create Assignment",
  "kernelspec": {
   "display_name": "Python 3 (ipykernel)",
   "language": "python",
   "name": "python3"
  },
  "language_info": {
   "codemirror_mode": {
    "name": "ipython",
    "version": 3
   },
   "file_extension": ".py",
   "mimetype": "text/x-python",
   "name": "python",
   "nbconvert_exporter": "python",
   "pygments_lexer": "ipython3",
   "version": "3.10.6"
  },
  "latex_envs": {
   "LaTeX_envs_menu_present": true,
   "autoclose": false,
   "autocomplete": true,
   "bibliofile": "biblio.bib",
   "cite_by": "apalike",
   "current_citInitial": 1,
   "eqLabelWithNumbers": true,
   "eqNumInitial": 1,
   "hotkeys": {
    "equation": "Ctrl-E",
    "itemize": "Ctrl-I"
   },
   "labels_anchors": false,
   "latex_user_defs": false,
   "report_style_numbering": false,
   "user_envs_cfg": false
  },
  "otter": {
   "OK_FORMAT": true,
   "tests": {
    "building": {
     "name": "building",
     "points": null,
     "suites": [
      {
       "cases": [
        {
         "code": ">>> # tests\n>>> assert all(df_building.columns == [\n...     \"District\",\n...     \"Building name\",\n...     \"Last date of residence of the case(s)\",\n...     \"Related probable/confirmed cases\"])  # check column names\n",
         "hidden": false,
         "locked": false
        }
       ],
       "scored": true,
       "setup": "",
       "teardown": "",
       "type": "doctest"
      }
     ]
    },
    "case-counts": {
     "name": "case-counts",
     "points": null,
     "suites": [
      {
       "cases": [
        {
         "code": ">>> # tests\n>>> assert case_counts(\"Kwai Tsing\") == 109\n",
         "hidden": false,
         "locked": false
        }
       ],
       "scored": true,
       "setup": "",
       "teardown": "",
       "type": "doctest"
      }
     ]
    },
    "district": {
     "name": "district",
     "points": null,
     "suites": [
      {
       "cases": [
        {
         "code": ">>> # tests\n>>> assert all(series_district_counts[[\"Wong Tai Sin\", \"Kwun Tong\"]] == [313, 212])\n",
         "hidden": false,
         "locked": false
        }
       ],
       "scored": true,
       "setup": "",
       "teardown": "",
       "type": "doctest"
      }
     ]
    },
    "drop": {
     "name": "drop",
     "points": null,
     "suites": [
      {
       "cases": [
        {
         "code": ">>> # tests\n>>> assert all(df_covid.columns == [\n...         \"Case no.\",\n...         \"Report date\",\n...         \"Date of onset\",\n...         \"Gender\",\n...         \"Age\",\n...         \"Hospitalised/Discharged/Deceased\",\n...         \"HK/Non-HK resident\",\n...         \"Case classification*\",\n...         \"Confirmed/probable\"])\n",
         "hidden": false,
         "locked": false
        }
       ],
       "scored": true,
       "setup": "",
       "teardown": "",
       "type": "doctest"
      }
     ]
    },
    "local": {
     "name": "local",
     "points": null,
     "suites": [
      {
       "cases": [
        {
         "code": ">>> # tests\n>>> assert set(df_confirmed_local[\"Case classification*\"].unique()) == {\n...     \"Epidemiologically linked with local case\",\n...     \"Local case\"}\n",
         "hidden": false,
         "locked": false
        }
       ],
       "scored": true,
       "setup": "",
       "teardown": "",
       "type": "doctest"
      }
     ]
    },
    "simple-encode": {
     "name": "simple-encode",
     "points": null,
     "suites": [
      {
       "cases": [
        {
         "code": ">>> # tests\n>>> assert simple_encode(\"http://www.chp.gov.hk/files/misc/enhanced_sur_covid_19_eng.csv\") == \"http%3A%2F%2Fwww.chp.gov.hk%2Ffiles%2Fmisc%2Fenhanced_sur_covid_19_eng.csv\"\n",
         "hidden": false,
         "locked": false
        }
       ],
       "scored": true,
       "setup": "",
       "teardown": "",
       "type": "doctest"
      }
     ]
    }
   }
  },
  "rise": {
   "enable_chalkboard": true,
   "scroll": true,
   "theme": "white"
  },
  "toc": {
   "base_numbering": 1,
   "nav_menu": {
    "height": "195px",
    "width": "330px"
   },
   "number_sections": true,
   "sideBar": true,
   "skip_h1_title": true,
   "title_cell": "Table of Contents",
   "title_sidebar": "Contents",
   "toc_cell": false,
   "toc_position": {
    "height": "454.418px",
    "left": "1533px",
    "top": "110.284px",
    "width": "435.327px"
   },
   "toc_section_display": true,
   "toc_window_display": false
  },
  "widgets": {
   "application/vnd.jupyter.widget-state+json": {
    "state": {},
    "version_major": 2,
    "version_minor": 0
   }
  }
 },
 "nbformat": 4,
 "nbformat_minor": 4
}
