{
 "cells": [
  {
   "cell_type": "code",
   "execution_count": null,
   "metadata": {},
   "outputs": [],
   "source": [
    "# Initialization cell\n",
    "try:  # for CS1302 JupyterLite pyodide kernel\n",
    "    import piplite\n",
    "\n",
    "    with open(\"requirements.txt\") as f:\n",
    "        for package in f:\n",
    "            package = package.strip()\n",
    "            print(\"Installing\", package)\n",
    "            await piplite.install(package)\n",
    "except ModuleNotFoundError:\n",
    "    pass"
   ]
  },
  {
   "cell_type": "markdown",
   "metadata": {
    "slideshow": {
     "slide_type": "slide"
    },
    "tags": []
   },
   "source": [
    "# Monte Carlo Simulation and Linear Algebra"
   ]
  },
  {
   "cell_type": "markdown",
   "metadata": {
    "slideshow": {
     "slide_type": "-"
    },
    "tags": [
     "remove-cell"
    ]
   },
   "source": [
    "**CS1302 Introduction to Computer Programming**\n",
    "___"
   ]
  },
  {
   "cell_type": "code",
   "execution_count": null,
   "metadata": {
    "ExecuteTime": {
     "end_time": "2020-11-27T11:20:04.656873Z",
     "start_time": "2020-11-27T11:20:04.651575Z"
    },
    "slideshow": {
     "slide_type": "fragment"
    },
    "tags": [
     "remove-cell"
    ]
   },
   "outputs": [],
   "source": [
    "import math\n",
    "import random\n",
    "import numpy as np\n",
    "import ipywidgets as widgets\n",
    "%reload_ext divewidgets"
   ]
  },
  {
   "cell_type": "markdown",
   "metadata": {
    "slideshow": {
     "slide_type": "subslide"
    },
    "tags": []
   },
   "source": [
    "## Monte Carlo simulation"
   ]
  },
  {
   "cell_type": "markdown",
   "metadata": {
    "slideshow": {
     "slide_type": "subslide"
    }
   },
   "source": [
    "**What is Monte Carlo simulation?**"
   ]
  },
  {
   "cell_type": "markdown",
   "metadata": {
    "slideshow": {
     "slide_type": "fragment"
    }
   },
   "source": [
    " > The name Monte Carlo refers to the [Monte Carlo Casino in Monaco](https://en.wikipedia.org/wiki/Monte_Carlo_Casino) where Ulam's uncle would borrow money from relatives to gamble."
   ]
  },
  {
   "cell_type": "markdown",
   "metadata": {
    "slideshow": {
     "slide_type": "fragment"
    }
   },
   "source": [
    "It would be nice to simulate the casino so Ulam's uncle did not need to borrow money to play in the casino.  \n",
    "Actually...,\n",
    "- Monte Carlo is the code name of the secret project for creating the [hydrogen bomb](https://en.wikipedia.org/wiki/Monte_Carlo_method). \n",
    "- [Ulam](https://en.wikipedia.org/wiki/Stanislaw_Ulam) worked with [John von Neumann](https://en.wikipedia.org/wiki/John_von_Neumann) to program the first electronic computer ENIAC to simulate a computational model of a thermonuclear reaction.\n",
    "\n",
    "(See also [The Beginning of the Monte Carlo Method](https://permalink.lanl.gov/object/tr?what=info:lanl-repo/lareport/LA-UR-88-9067) for a more detailed account.)"
   ]
  },
  {
   "cell_type": "markdown",
   "metadata": {
    "slideshow": {
     "slide_type": "subslide"
    }
   },
   "source": [
    "**How to compute the value of $\\pi$**?"
   ]
  },
  {
   "cell_type": "markdown",
   "metadata": {
    "slideshow": {
     "slide_type": "fragment"
    }
   },
   "source": [
    "An application of Monte Carlo simulation is to approximate $\\pi$ using \n",
    "the [Buffon's needle](https://en.wikipedia.org/wiki/Buffon%27s_needle_problem).  \n",
    "There is [a program](https://www.khanacademy.org/computer-programming/pi-by-buffons-needle/6695500989890560) written in javascript to do this."
   ]
  },
  {
   "cell_type": "markdown",
   "metadata": {
    "slideshow": {
     "slide_type": "fragment"
    }
   },
   "source": [
    "The javascript program is long, so we will use an alternative simulation that is easier to understand/program."
   ]
  },
  {
   "cell_type": "markdown",
   "metadata": {
    "slideshow": {
     "slide_type": "subslide"
    }
   },
   "source": [
    "If we uniformly randomly pick a point in a square. What is the chance the point is inside the inscribed circle, i.e., the biggest circle inside the square?"
   ]
  },
  {
   "cell_type": "markdown",
   "metadata": {
    "slideshow": {
     "slide_type": "-"
    }
   },
   "source": [
    "The chance is the circle's area divided by the square's area. Suppose the square has length $\\ell$, then the chance is\n",
    "\n",
    "$$ \\frac{\\pi (\\ell /2)^2}{ (\\ell)^2 } = \\frac{\\pi}4 $$\n",
    "independent of the length $\\ell$."
   ]
  },
  {
   "cell_type": "markdown",
   "metadata": {
    "slideshow": {
     "slide_type": "subslide"
    }
   },
   "source": [
    "**Exercise** Complete the following function to return an approximation of $\\pi$ as follows:\n",
    "1. Simulate the random process of picking a point from a square repeatedly `n` times by  \n",
    "  generating the $x$ and $y$ coordinates uniformly randomly from a unit interval $[0,1)$.\n",
    "2. Compute the fraction of times the point is in the first quadrant of the inscribed circle, as shown in the figure below.\n",
    "3. Return $4$ times the fraction as the approximation.\n",
    "<p><a href=\"https://commons.wikimedia.org/wiki/File:Pi_30K.gif#/media/File:Pi_30K.gif\"><img src=\"https://upload.wikimedia.org/wikipedia/commons/8/84/Pi_30K.gif\" alt=\"Pi 30K.gif\"></a></p>"
   ]
  },
  {
   "cell_type": "code",
   "execution_count": null,
   "metadata": {
    "ExecuteTime": {
     "end_time": "2020-11-17T05:05:07.672010Z",
     "start_time": "2020-11-17T05:05:04.428686Z"
    },
    "deletable": false,
    "nbgrader": {
     "cell_type": "code",
     "checksum": "bdfa2c8933a6f4cd99844178a10fad66",
     "grade": false,
     "grade_id": "approximate_pi",
     "locked": false,
     "schema_version": 3,
     "solution": true,
     "task": false
    },
    "slideshow": {
     "slide_type": "-"
    }
   },
   "outputs": [],
   "source": [
    "%%timeit -n 1 -r 1\n",
    "def approximate_pi(n):\n",
    "    # YOUR CODE HERE\n",
    "    raise NotImplementedError()\n",
    "print(f\"Approximate: {approximate_pi(int(1e7))}\\nGround truth: {math.pi}\")"
   ]
  },
  {
   "cell_type": "markdown",
   "metadata": {
    "slideshow": {
     "slide_type": "subslide"
    }
   },
   "source": [
    "**How accurate is the approximation?**"
   ]
  },
  {
   "cell_type": "markdown",
   "metadata": {
    "slideshow": {
     "slide_type": "fragment"
    }
   },
   "source": [
    "The following uses a powerful library `numpy` for computing to return a [$95\\%$-confidence interval](http://onlinestatbook.com/2/estimation/mean.html#:~:text=To%20compute%20the%2095%25%20confidence,be%20between%20the%20cutoff%20points.)."
   ]
  },
  {
   "cell_type": "code",
   "execution_count": null,
   "metadata": {
    "ExecuteTime": {
     "end_time": "2020-11-17T05:05:08.218178Z",
     "start_time": "2020-11-17T05:05:07.673752Z"
    },
    "slideshow": {
     "slide_type": "-"
    }
   },
   "outputs": [],
   "source": [
    "%%timeit -n 1 -r 1\n",
    "import numpy as np\n",
    "\n",
    "\n",
    "def np_approximate_pi(n):\n",
    "    in_circle = (np.random.random((n, 2)) ** 2).sum(axis=-1) < 1\n",
    "    mean = 4 * in_circle.mean()\n",
    "    std = 4 * in_circle.std() / n ** 0.5\n",
    "    return np.array([mean - 2 * std, mean + 2 * std])\n",
    "\n",
    "\n",
    "interval = np_approximate_pi(int(1e7))\n",
    "print(\n",
    "    f\"\"\"95%-confidence interval: {interval}\n",
    "Estimate: {interval.mean():.4f} ± {(interval[1]-interval[0])/2:.4f}\n",
    "Ground truth: {math.pi}\"\"\"\n",
    ")"
   ]
  },
  {
   "cell_type": "markdown",
   "metadata": {
    "slideshow": {
     "slide_type": "fragment"
    }
   },
   "source": [
    "```{note}\n",
    "\n",
    "The computation done using `numpy` is over $5$ times faster despite the additional computation of the standard deviation.\n",
    "```"
   ]
  },
  {
   "cell_type": "markdown",
   "metadata": {
    "slideshow": {
     "slide_type": "subslide"
    }
   },
   "source": [
    "```{seealso}\n",
    "\n",
    "There are faster methods to approximate $\\pi$, such as the [Chudnovsky_algorithm](https://en.wikipedia.org/wiki/Chudnovsky_algorithm), but the Monte-Carlo method is helpful in complicated situations.   \n",
    "E.g., see the Monte Carlo simulation of a [real-life situation](https://www.youtube.com/watch?v=-fCVxTTAtFQ) in playing basketball:\n",
    "> \"When down by three and left with only 30 seconds, is it better to attempt a hard 3-point shot or an easy 2-point shot and get another possession?\"   --LeBron James\n",
    "```"
   ]
  },
  {
   "cell_type": "markdown",
   "metadata": {
    "slideshow": {
     "slide_type": "slide"
    },
    "tags": []
   },
   "source": [
    "## Linear Algebra"
   ]
  },
  {
   "cell_type": "markdown",
   "metadata": {
    "slideshow": {
     "slide_type": "subslide"
    }
   },
   "source": [
    "**How to solve a linear equation?**"
   ]
  },
  {
   "cell_type": "markdown",
   "metadata": {
    "slideshow": {
     "slide_type": "fragment"
    }
   },
   "source": [
    "Given the following linear equation in variable $x$ with real-valued coefficient $a$ and $b$,\n",
    "\n",
    "$$ a x = b,$$\n",
    "what is the value of $x$ that satisfies the equation?"
   ]
  },
  {
   "cell_type": "markdown",
   "metadata": {
    "slideshow": {
     "slide_type": "subslide"
    }
   },
   "source": [
    "**Exercise** Complete the following function to return either the unique solution of $x$ or `None` if a unique solution does not exist."
   ]
  },
  {
   "cell_type": "code",
   "execution_count": null,
   "metadata": {
    "ExecuteTime": {
     "end_time": "2020-11-17T05:05:08.250889Z",
     "start_time": "2020-11-17T05:05:08.220095Z"
    },
    "deletable": false,
    "nbgrader": {
     "cell_type": "code",
     "checksum": "7243c5495ca33864ba0a19aee281a633",
     "grade": false,
     "grade_id": "solve_linear_equation",
     "locked": false,
     "schema_version": 3,
     "solution": true,
     "task": false
    },
    "slideshow": {
     "slide_type": "-"
    }
   },
   "outputs": [],
   "source": [
    "def solve_linear_equation(a, b):\n",
    "    # YOUR CODE HERE\n",
    "    raise NotImplementedError()\n",
    "\n",
    "\n",
    "@widgets.interact(a=(0, 5, 1), b=(0, 5, 1))\n",
    "def linear_equation_solver(a=2, b=3):\n",
    "    print(\n",
    "        f\"\"\"linear equation: {a}x = {b}\n",
    "       solution: x = {solve_linear_equation(a,b)}\"\"\"\n",
    "    )"
   ]
  },
  {
   "cell_type": "markdown",
   "metadata": {
    "slideshow": {
     "slide_type": "subslide"
    }
   },
   "source": [
    "**How to solve multiple linear equations?**"
   ]
  },
  {
   "cell_type": "markdown",
   "metadata": {
    "slideshow": {
     "slide_type": "fragment"
    }
   },
   "source": [
    "In the general case, we have a system of $m$ linear equations and $n$ variables:\n",
    "\n",
    "$$ \\begin{aligned}\n",
    "a_{00} x_0 + a_{01} x_1 + \\dots + a_{0(n-1)} x_{n-1} &= b_0\\\\\n",
    "a_{10} x_0 + a_{11} x_1 + \\dots + a_{1(n-1)} x_{n-1} &= b_1\\\\\n",
    " & \\vdots\\\\\n",
    "a_{(m-1)0} x_0 + a_{(m-1)1} x_1 + \\dots + a_{(m-1)(n-1)} x_{n-1} &= b_{m-1}\\\\\n",
    "\\end{aligned}\n",
    "$$\n",
    "where\n",
    "- $x_j$ for $j\\in \\{0,\\dots,n-1\\}$ are the variables, and\n",
    "- $a_{ij}$ and $b_j$ for $i\\in \\{0,\\dots,m-1\\}$ and $j\\in \\{0,\\dots,n-1\\}$ are the coefficients.\n",
    "\n",
    "A fundamental problem in linear algebra is to compute the unique solution to the system if it exists."
   ]
  },
  {
   "cell_type": "markdown",
   "metadata": {
    "slideshow": {
     "slide_type": "fragment"
    }
   },
   "source": [
    "We will consider the simpler 2-by-2 system with 2 variables and 2 equations:\n",
    "\n",
    "$$ \\begin{aligned}\n",
    "a_{00} x_0 + a_{01} x_1 &= b_0\\\\\n",
    "a_{10} x_0 + a_{11} x_1 &= b_1.\n",
    "\\end{aligned}\n",
    "$$"
   ]
  },
  {
   "cell_type": "markdown",
   "metadata": {
    "slideshow": {
     "slide_type": "subslide"
    }
   },
   "source": [
    "To get an idea of the solution, suppose \n",
    "\n",
    "$$a_{00}=a_{11}=1, a_{01} = a_{10} = 0.$$\n",
    "The system of equations becomes\n",
    "\n",
    "$$ \\begin{aligned}\n",
    "x_0 \\hphantom{+ x_1} &= b_0\\\\\n",
    "\\hphantom{x_0 +}  x_1 &= b_1,\n",
    "\\end{aligned}\n",
    "$$\n",
    "which gives the solution directly."
   ]
  },
  {
   "cell_type": "markdown",
   "metadata": {
    "slideshow": {
     "slide_type": "fragment"
    }
   },
   "source": [
    "What about $a_{00}=a_{11}=2$ instead?\n",
    "\n",
    "$$ \\begin{aligned}\n",
    "2x_0 \\hphantom{+ x_1} &= b_0\\\\\n",
    "\\hphantom{2x_0 +}  2x_1 &= b_1,\n",
    "\\end{aligned}$$"
   ]
  },
  {
   "cell_type": "markdown",
   "metadata": {
    "slideshow": {
     "slide_type": "fragment"
    }
   },
   "source": [
    "To obtain the solution, we divide both equations by 2:\n",
    "\n",
    "$$ \\begin{aligned}\n",
    "x_0 \\hphantom{+ x_1} &= \\frac{b_0}2\\\\\n",
    "\\hphantom{x_0 +}  x_1 &= \\frac{b_1}2.\n",
    "\\end{aligned}\n",
    "$$"
   ]
  },
  {
   "cell_type": "markdown",
   "metadata": {
    "slideshow": {
     "slide_type": "fragment"
    }
   },
   "source": [
    "What if $a_{01}=2$ instead?\n",
    "\n",
    "$$ \\begin{aligned}\n",
    "2x_0 + 2x_1 &= b_0\\\\\n",
    "\\hphantom{2x_0 +}  2x_1 &= b_1\\\\\n",
    "\\end{aligned}\n",
    "$$"
   ]
  },
  {
   "cell_type": "markdown",
   "metadata": {
    "slideshow": {
     "slide_type": "fragment"
    }
   },
   "source": [
    "The second equation gives the solution of $x_1$, and we can use the solution in the first equation to solve for $x_0$. More precisely:\n",
    "- Subtract the second equation from the first one:\n",
    "\n",
    "$$ \\begin{aligned}\n",
    "2x_0 \\hphantom{+2x_1} &= b_0 - b_1\\\\\n",
    "\\hphantom{2x_0 +}  2x_1 &= b_1\\\\\n",
    "\\end{aligned}\n",
    "$$\n",
    "- Divide both equations by 2:\n",
    "\n",
    "$$ \\begin{aligned}\n",
    "x_0 \\hphantom{+ x_1} &= \\frac{b_0 - b_1}2\\\\\n",
    "\\hphantom{x_0 +}  x_1 &= \\frac{b_1}2\\\\\n",
    "\\end{aligned}\n",
    "$$"
   ]
  },
  {
   "cell_type": "markdown",
   "metadata": {
    "slideshow": {
     "slide_type": "subslide"
    }
   },
   "source": [
    "```{important}\n",
    "\n",
    "The above operations are called *row operations* in linear algebra: each row is an equation.  \n",
    "A system of linear equations can be solved by the linear operations of \n",
    "1. multiplying an equation by a constant, and\n",
    "2. subtracting one equation from another.\n",
    "```"
   ]
  },
  {
   "cell_type": "markdown",
   "metadata": {
    "slideshow": {
     "slide_type": "fragment"
    }
   },
   "source": [
    "How to write a program to solve a general 2-by-2 system? We will use the `numpy` library."
   ]
  },
  {
   "cell_type": "markdown",
   "metadata": {
    "slideshow": {
     "slide_type": "subslide"
    }
   },
   "source": [
    "### Creating `numpy` arrays"
   ]
  },
  {
   "cell_type": "markdown",
   "metadata": {
    "slideshow": {
     "slide_type": "subslide"
    }
   },
   "source": [
    "**How to store the coefficients?**"
   ]
  },
  {
   "cell_type": "markdown",
   "metadata": {
    "slideshow": {
     "slide_type": "fragment"
    }
   },
   "source": [
    "In linear algebra, a system of equations such as\n",
    "\n",
    "$$ \\begin{aligned}\n",
    "a_{00} x_0 + a_{01} x_1 &= b_0\\\\\n",
    "a_{10} x_0 + a_{11} x_1 &= b_1\n",
    "\\end{aligned}\n",
    "$$\n",
    "is written concisely in *matrix* form as $ \\mathbf{A} \\mathbf{x} = \\mathbf{b} $:\n",
    "\n",
    "$$\\overbrace{\\begin{bmatrix}\n",
    "a_{00} & a_{01}\\\\\n",
    "a_{10} & a_{11}\n",
    "\\end{bmatrix}}^{\\mathbf{A}}\n",
    "\\overbrace{\n",
    "\\begin{bmatrix}\n",
    "x_0\\\\\n",
    "x_1\n",
    "\\end{bmatrix}}\n",
    "^{\\mathbf{x}}\n",
    "= \\overbrace{\\begin{bmatrix}\n",
    "b_0\\\\\n",
    "b_1\n",
    "\\end{bmatrix}}^{\\mathbf{b}},\n",
    "$$\n",
    "where\n",
    "$ \\mathbf{A} \\mathbf{x}$ is the *matrix multiplication*\n",
    "\n",
    "$$ \\mathbf{A} \\mathbf{x} = \\begin{bmatrix}\n",
    "a_{00} x_0 + a_{01} x_1\\\\\n",
    "a_{10} x_0 + a_{11} x_1\n",
    "\\end{bmatrix}.\n",
    "$$"
   ]
  },
  {
   "cell_type": "markdown",
   "metadata": {
    "slideshow": {
     "slide_type": "fragment"
    }
   },
   "source": [
    "We say that $\\mathbf{A}$ is a [*matrix*](https://en.wikipedia.org/wiki/Matrix_(mathematics)) and its dimension/shape is $2$-by-$2$:\n",
    "- The first dimension/axis has size $2$. We also say that the matrix has $2$ rows.\n",
    "- The second dimension/axis has size $2$. We also say that the matrix has $2$ columns.\n",
    "$\\mathbf{x}$ and $\\mathbf{b}$ are called column vectors, which are matrices with one column."
   ]
  },
  {
   "cell_type": "markdown",
   "metadata": {
    "slideshow": {
     "slide_type": "subslide"
    }
   },
   "source": [
    "Consider the example\n",
    "\n",
    "$$ \\begin{aligned}\n",
    "2x_0 + 2x_1 &= 1\\\\\n",
    "\\hphantom{2x_0 +}  2x_1 &= 1,\n",
    "\\end{aligned}$$\n",
    "\n",
    "or in matrix form with\n",
    "\n",
    "$$ \\begin{aligned}\n",
    "\\mathbf{A}&=\\begin{bmatrix}\n",
    "a_{00} & a_{01} \\\\\n",
    "a_{10} & a_{11} \n",
    "\\end{bmatrix} \n",
    "= \\begin{bmatrix}\n",
    "2 & 2 \\\\\n",
    "0 & 2 \n",
    "\\end{bmatrix}\\\\\n",
    "\\mathbf{b}&=\\begin{bmatrix}\n",
    "b_0\\\\\n",
    "b_1\n",
    "\\end{bmatrix} = \\begin{bmatrix}\n",
    "1\\\\\n",
    "1\n",
    "\\end{bmatrix}\\end{aligned}$$"
   ]
  },
  {
   "cell_type": "markdown",
   "metadata": {
    "slideshow": {
     "slide_type": "fragment"
    }
   },
   "source": [
    "Instead of using `list` to store the matrix, we will use a `numpy` array."
   ]
  },
  {
   "cell_type": "code",
   "execution_count": null,
   "metadata": {
    "ExecuteTime": {
     "end_time": "2020-11-17T05:05:08.258666Z",
     "start_time": "2020-11-17T05:05:08.252256Z"
    },
    "slideshow": {
     "slide_type": "-"
    }
   },
   "outputs": [],
   "source": [
    "A = np.array([[2.0, 2], [0, 2]])\n",
    "b = np.array([1.0, 1])\n",
    "A, b"
   ]
  },
  {
   "cell_type": "markdown",
   "metadata": {
    "slideshow": {
     "slide_type": "subslide"
    }
   },
   "source": [
    "Compared to `list`, `numpy` array is often more efficient and has more attributes."
   ]
  },
  {
   "cell_type": "code",
   "execution_count": null,
   "metadata": {
    "ExecuteTime": {
     "end_time": "2020-11-17T05:05:08.277037Z",
     "start_time": "2020-11-17T05:05:08.259940Z"
    },
    "slideshow": {
     "slide_type": "-"
    }
   },
   "outputs": [],
   "source": [
    "array_attributes = set(attr for attr in dir(np.array([])) if attr[0] != \"_\")\n",
    "list_attributes = set(attr for attr in dir(list) if attr[0] != \"_\")\n",
    "print(\"\\nCommon attributes:\\n\", *(array_attributes & list_attributes))\n",
    "print(\"\\nArray-specific attributes:\\n\", *(array_attributes - list_attributes))\n",
    "print(\"\\nList-specific attributes:\\n\", *(list_attributes - array_attributes))"
   ]
  },
  {
   "cell_type": "markdown",
   "metadata": {
    "slideshow": {
     "slide_type": "subslide"
    }
   },
   "source": [
    "The following attributes give the dimension/shape, number of dimensions, size, and data type."
   ]
  },
  {
   "cell_type": "code",
   "execution_count": null,
   "metadata": {
    "ExecuteTime": {
     "end_time": "2020-11-17T05:05:08.284772Z",
     "start_time": "2020-11-17T05:05:08.278614Z"
    },
    "slideshow": {
     "slide_type": "-"
    }
   },
   "outputs": [],
   "source": [
    "for array in A, b:\n",
    "    print(\n",
    "        f\"\"\"{array}\n",
    "    shape: {array.shape}\n",
    "    ndim: {array.ndim}\n",
    "    size: {array.size}\n",
    "    dtype: {array.dtype}\n",
    "    \"\"\"\n",
    "    )"
   ]
  },
  {
   "cell_type": "markdown",
   "metadata": {
    "slideshow": {
     "slide_type": "fragment"
    }
   },
   "source": [
    "Note that the function `len` only returns the size of the first dimension:"
   ]
  },
  {
   "cell_type": "code",
   "execution_count": null,
   "metadata": {
    "ExecuteTime": {
     "end_time": "2020-11-17T05:05:08.316025Z",
     "start_time": "2020-11-17T05:05:08.310303Z"
    },
    "slideshow": {
     "slide_type": "-"
    }
   },
   "outputs": [],
   "source": [
    "assert A.shape[0] == len(A)\n",
    "len(A)"
   ]
  },
  {
   "cell_type": "markdown",
   "metadata": {
    "slideshow": {
     "slide_type": "subslide"
    }
   },
   "source": [
    "Unlike `list`, every `numpy` array has a data type. For efficient computation/storage, numpy implements different data types with different storage sizes:\n",
    "* integer: `int8`, `int16`, `int32`, `int64`, `uint8`, ...\n",
    "* float: `float16`, `float32`, `float64`, ...\n",
    "* complex: `complex64`, `complex128`, ...\n",
    "* boolean: `bool8`\n",
    "* Unicode: `string`\n",
    "* Object: `object`"
   ]
  },
  {
   "cell_type": "markdown",
   "metadata": {
    "slideshow": {
     "slide_type": "fragment"
    }
   },
   "source": [
    "E.g., `int64` is the 64-bit integer. Unlike `int`, `int64` has a range."
   ]
  },
  {
   "cell_type": "code",
   "execution_count": null,
   "metadata": {
    "ExecuteTime": {
     "end_time": "2020-11-17T05:05:08.580209Z",
     "start_time": "2020-11-17T05:05:08.528600Z"
    },
    "slideshow": {
     "slide_type": "-"
    }
   },
   "outputs": [],
   "source": [
    "%%optlite -h 400\n",
    "import numpy as np\n",
    "min_int64 = np.int64(-2**63)\n",
    "max_int64 = np.int64(2**63-1)\n",
    "np.int64(2 ** 63)  # overflow error"
   ]
  },
  {
   "cell_type": "markdown",
   "metadata": {
    "slideshow": {
     "slide_type": "subslide"
    }
   },
   "source": [
    "We can use the `astype` method to convert the data type:"
   ]
  },
  {
   "cell_type": "code",
   "execution_count": null,
   "metadata": {
    "ExecuteTime": {
     "end_time": "2020-11-17T05:05:08.690620Z",
     "start_time": "2020-11-17T05:05:08.683292Z"
    },
    "slideshow": {
     "slide_type": "-"
    }
   },
   "outputs": [],
   "source": [
    "A_int64 = A.astype(int)  # converts to int64 by default\n",
    "A_float32 = A.astype(np.float32)  # converts to float32\n",
    "for array in A_int64, A_float32:\n",
    "    print(array, array.dtype)"
   ]
  },
  {
   "cell_type": "markdown",
   "metadata": {
    "slideshow": {
     "slide_type": "fragment"
    }
   },
   "source": [
    "We must be careful about assigning items of different types to an array."
   ]
  },
  {
   "cell_type": "code",
   "execution_count": null,
   "metadata": {
    "ExecuteTime": {
     "end_time": "2020-11-17T05:05:08.757719Z",
     "start_time": "2020-11-17T05:05:08.747989Z"
    },
    "slideshow": {
     "slide_type": "-"
    }
   },
   "outputs": [],
   "source": [
    "A_int64[0, 0] = 1\n",
    "print(A_int64)\n",
    "A_int64[0, 0] = 0.5\n",
    "print(A_int64)  # intended assignment fails\n",
    "np.array([int(1), float(1)])  # will be all floating point numbers"
   ]
  },
  {
   "cell_type": "markdown",
   "metadata": {
    "ExecuteTime": {
     "end_time": "2020-11-12T14:52:46.259630Z",
     "start_time": "2020-11-12T14:52:46.252370Z"
    },
    "slideshow": {
     "slide_type": "subslide"
    }
   },
   "source": [
    "**Exercise** Create a heterogeneous `numpy` array to store both integers and strings:\n",
    "```Python\n",
    "[0, 1, 2, 'a', 'b', 'c']\n",
    "```\n",
    "```{hint}\n",
    "There is an `numpy` data type called `object`.\n",
    "```"
   ]
  },
  {
   "cell_type": "code",
   "execution_count": null,
   "metadata": {
    "ExecuteTime": {
     "end_time": "2020-11-17T05:05:08.771960Z",
     "start_time": "2020-11-17T05:05:08.760396Z"
    },
    "deletable": false,
    "nbgrader": {
     "cell_type": "code",
     "checksum": "8c72e5ed2e1553a047983251d2a8b6d9",
     "grade": false,
     "grade_id": "hetero",
     "locked": false,
     "schema_version": 3,
     "solution": true,
     "task": false
    },
    "slideshow": {
     "slide_type": "-"
    }
   },
   "outputs": [],
   "source": [
    "np.object?\n",
    "# YOUR CODE HERE\n",
    "raise NotImplementedError()\n",
    "heterogeneous_np_array"
   ]
  },
  {
   "cell_type": "markdown",
   "metadata": {
    "slideshow": {
     "slide_type": "fragment"
    }
   },
   "source": [
    "Be careful when creating arrays of `tuple`/`list`:"
   ]
  },
  {
   "cell_type": "code",
   "execution_count": null,
   "metadata": {},
   "outputs": [],
   "source": [
    "%%optlite -h 350\n",
    "import numpy as np\n",
    "a1 = np.array([(1, 2), [3, 4, 5]], dtype=object)\n",
    "print(a1.shape, a1.size)\n",
    "a2 = np.array([(1, 2), [3, 4]], dtype=object)\n",
    "print(a2.shape, a2.size)"
   ]
  },
  {
   "cell_type": "markdown",
   "metadata": {
    "slideshow": {
     "slide_type": "subslide"
    }
   },
   "source": [
    "`numpy` provides many functions to create an array:"
   ]
  },
  {
   "cell_type": "code",
   "execution_count": null,
   "metadata": {
    "tags": []
   },
   "outputs": [],
   "source": [
    "np.zeros?"
   ]
  },
  {
   "cell_type": "code",
   "execution_count": null,
   "metadata": {},
   "outputs": [],
   "source": [
    "%%optlite -h 400 -l\n",
    "import numpy as np\n",
    "a = [np.zeros(0)]\n",
    "a.append(np.zeros(1, dtype=int))\n",
    "a.append(np.zeros((2, 3, 4)))"
   ]
  },
  {
   "cell_type": "code",
   "execution_count": null,
   "metadata": {
    "tags": []
   },
   "outputs": [],
   "source": [
    "np.empty?"
   ]
  },
  {
   "cell_type": "code",
   "execution_count": null,
   "metadata": {},
   "outputs": [],
   "source": [
    "%%optlite -h 400 -l\n",
    "import numpy as np\n",
    "a = [np.empty(2)]\n",
    "a.append(np.empty((2, 3, 4), \n",
    "                  dtype=int))"
   ]
  },
  {
   "cell_type": "code",
   "execution_count": null,
   "metadata": {
    "tags": []
   },
   "outputs": [],
   "source": [
    "np.ones?"
   ]
  },
  {
   "cell_type": "code",
   "execution_count": null,
   "metadata": {},
   "outputs": [],
   "source": [
    "%%optlite -h 400 -l\n",
    "import numpy as np\n",
    "a = [np.ones(2)]\n",
    "a.append(np.ones((2, 3, 4),\n",
    "                dtype=int))"
   ]
  },
  {
   "cell_type": "code",
   "execution_count": null,
   "metadata": {
    "tags": []
   },
   "outputs": [],
   "source": [
    "np.eye?"
   ]
  },
  {
   "cell_type": "code",
   "execution_count": null,
   "metadata": {},
   "outputs": [],
   "source": [
    "%%optlite -l -h 400\n",
    "import numpy as np\n",
    "a = [np.eye(2)]\n",
    "a.append(np.eye(3, dtype=int))"
   ]
  },
  {
   "cell_type": "code",
   "execution_count": null,
   "metadata": {
    "tags": []
   },
   "outputs": [],
   "source": [
    "np.diag?"
   ]
  },
  {
   "cell_type": "code",
   "execution_count": null,
   "metadata": {},
   "outputs": [],
   "source": [
    "%%optlite -l -h 400\n",
    "import numpy as np\n",
    "a = [np.diag(range(1))]\n",
    "a.append(np.diag(range(2)))\n",
    "a.append(np.diag(np.ones(3), k=1))\n",
    "# 1 above main diagonal"
   ]
  },
  {
   "cell_type": "markdown",
   "metadata": {
    "slideshow": {
     "slide_type": "subslide"
    }
   },
   "source": [
    "`numpy` also provides functions to build an array using rules."
   ]
  },
  {
   "cell_type": "code",
   "execution_count": null,
   "metadata": {
    "tags": []
   },
   "outputs": [],
   "source": [
    "np.arange?"
   ]
  },
  {
   "cell_type": "code",
   "execution_count": null,
   "metadata": {},
   "outputs": [],
   "source": [
    "%%optlite -l -h 400\n",
    "import numpy as np\n",
    "a = [np.arange(5)]\n",
    "# like range but allow non-integer parameters\n",
    "a.append(np.arange(2.5, 5, 0.5))"
   ]
  },
  {
   "cell_type": "code",
   "execution_count": null,
   "metadata": {
    "tags": []
   },
   "outputs": [],
   "source": [
    "np.linspace?"
   ]
  },
  {
   "cell_type": "code",
   "execution_count": null,
   "metadata": {},
   "outputs": [],
   "source": [
    "%%optlite -l -h 400\n",
    "import numpy as np\n",
    "# can specify the number of points instead of the step size\n",
    "a = [np.linspace(0, 4, 5)]\n",
    "a.append(np.linspace(2.5, 4.5, 5))"
   ]
  },
  {
   "cell_type": "code",
   "execution_count": null,
   "metadata": {
    "tags": []
   },
   "outputs": [],
   "source": [
    "np.fromfunction?"
   ]
  },
  {
   "cell_type": "code",
   "execution_count": null,
   "metadata": {},
   "outputs": [],
   "source": [
    "%%optlite -l -h 400\n",
    "import numpy as np\n",
    "a = np.fromfunction(lambda i, j: i * j, (3, 4))"
   ]
  },
  {
   "cell_type": "markdown",
   "metadata": {
    "slideshow": {
     "slide_type": "subslide"
    }
   },
   "source": [
    "We can also reshape an array using the `reshape` method/function:"
   ]
  },
  {
   "cell_type": "code",
   "execution_count": null,
   "metadata": {
    "tags": []
   },
   "outputs": [],
   "source": [
    "np.ndarray.reshape?"
   ]
  },
  {
   "cell_type": "code",
   "execution_count": null,
   "metadata": {},
   "outputs": [],
   "source": [
    "%%optlite -l -h 500\n",
    "import numpy as np\n",
    "a = np.arange(2 * 3 * 4)\n",
    "c1 = a.reshape(2, 3, 4)\n",
    "# automatically calculate the size specified as `-1`\n",
    "c2 = a.reshape(2, 3, -1)"
   ]
  },
  {
   "cell_type": "code",
   "execution_count": null,
   "metadata": {},
   "outputs": [],
   "source": [
    "%%optlite -l -h 500\n",
    "import numpy as np\n",
    "a = np.arange(2 * 3 * 4)\n",
    "# default C ordering\n",
    "c = a.reshape((2, 3, -1), order=\"C\")\n",
    "# F ordering\n",
    "f = a.reshape((2, 3, -1), order=\"F\")"
   ]
  },
  {
   "cell_type": "markdown",
   "metadata": {},
   "source": [
    "The C ordering and F ordering can be implemented using list comprehension:"
   ]
  },
  {
   "cell_type": "code",
   "execution_count": null,
   "metadata": {},
   "outputs": [],
   "source": [
    "%%optlite -l -h 500\n",
    "import numpy as np\n",
    "a = np.arange(2 * 3 * 4)\n",
    "# last axis index changes fastest\n",
    "c = np.array(\n",
    "    [[[a[i*3*4+j*4+k] \n",
    "       for k in range(4)]\n",
    "      for j in range(3)]\n",
    "     for i in range(2)])\n",
    "# first axis index changes fastest\n",
    "f = np.array(\n",
    "    [[[a[i+j*2+k*3*2]\n",
    "       for k in range(4)]\n",
    "      for j in range(3)]\n",
    "     for i in range(2)])"
   ]
  },
  {
   "cell_type": "markdown",
   "metadata": {
    "slideshow": {
     "slide_type": "fragment"
    }
   },
   "source": [
    "`ravel` is a particular case of reshaping an array to one dimension.  \n",
    "A similar function `flatten` returns a copy of the array but `ravel` and `reshape` returns a dynamic view whenever possible."
   ]
  },
  {
   "cell_type": "code",
   "execution_count": null,
   "metadata": {
    "ExecuteTime": {
     "end_time": "2020-11-17T05:05:09.335182Z",
     "start_time": "2020-11-17T05:05:09.326890Z"
    },
    "slideshow": {
     "slide_type": "-"
    }
   },
   "outputs": [],
   "source": [
    "array = np.arange(2 * 3 * 4).reshape(2, 3, 4)\n",
    "array, array.ravel(), array.reshape(-1), array.ravel(order=\"F\")"
   ]
  },
  {
   "cell_type": "markdown",
   "metadata": {
    "slideshow": {
     "slide_type": "subslide"
    }
   },
   "source": [
    "**Exercise** Correct the following function to print every element of an array line-by-line.\n",
    "```Python\n",
    "def print_array_entries_line_by_line(array):\n",
    "    for i in array:\n",
    "        print(i)\n",
    "```"
   ]
  },
  {
   "cell_type": "code",
   "execution_count": null,
   "metadata": {
    "ExecuteTime": {
     "end_time": "2020-11-17T05:05:15.307473Z",
     "start_time": "2020-11-17T05:05:15.296495Z"
    },
    "deletable": false,
    "nbgrader": {
     "cell_type": "code",
     "checksum": "894fc43c96b1e65baf7858e5258af3e3",
     "grade": false,
     "grade_id": "flatten",
     "locked": false,
     "schema_version": 3,
     "solution": true,
     "task": false
    },
    "slideshow": {
     "slide_type": "-"
    },
    "tags": [
     "remove-output"
    ]
   },
   "outputs": [],
   "source": [
    "def print_array_entries_line_by_line(array):\n",
    "    # YOUR CODE HERE\n",
    "    raise NotImplementedError()\n",
    "\n",
    "\n",
    "print_array_entries_line_by_line(np.arange(2 * 3 * 4).reshape(2, 3, 4))"
   ]
  },
  {
   "cell_type": "markdown",
   "metadata": {
    "slideshow": {
     "slide_type": "slide"
    }
   },
   "source": [
    "### Operating on `numpy` arrays"
   ]
  },
  {
   "cell_type": "markdown",
   "metadata": {
    "slideshow": {
     "slide_type": "subslide"
    }
   },
   "source": [
    "**How to verify the solution of a system of linear equations?**"
   ]
  },
  {
   "cell_type": "markdown",
   "metadata": {
    "slideshow": {
     "slide_type": "fragment"
    }
   },
   "source": [
    "Before solving the system of linear equations, let us try to verify a solution to the equations:\n",
    "\n",
    "$$ \\begin{aligned}\n",
    "2x_0 + 2x_1 &= 1\\\\\n",
    "\\hphantom{2x_0 +}  2x_1 &= 1\n",
    "\\end{aligned}\n",
    "$$"
   ]
  },
  {
   "cell_type": "markdown",
   "metadata": {
    "slideshow": {
     "slide_type": "fragment"
    }
   },
   "source": [
    "`numpy` provides the function `matmul` and the operator `@` for matrix multiplication."
   ]
  },
  {
   "cell_type": "code",
   "execution_count": null,
   "metadata": {
    "ExecuteTime": {
     "end_time": "2020-11-13T07:30:32.601700Z",
     "start_time": "2020-11-13T07:30:32.592763Z"
    },
    "slideshow": {
     "slide_type": "-"
    }
   },
   "outputs": [],
   "source": [
    "print(np.matmul(A, np.array([0, 0])) == b)\n",
    "print(A @ np.array([0, 0.5]) == b)"
   ]
  },
  {
   "cell_type": "markdown",
   "metadata": {
    "slideshow": {
     "slide_type": "subslide"
    }
   },
   "source": [
    "Note that the comparison on `numpy` arrays returns a boolean array instead of a boolean value, unlike the comparison operations on lists."
   ]
  },
  {
   "cell_type": "markdown",
   "metadata": {
    "slideshow": {
     "slide_type": "fragment"
    }
   },
   "source": [
    "To check whether all items are true, we use the `all` method."
   ]
  },
  {
   "cell_type": "code",
   "execution_count": null,
   "metadata": {
    "ExecuteTime": {
     "end_time": "2020-11-13T07:40:09.717569Z",
     "start_time": "2020-11-13T07:40:09.708770Z"
    },
    "slideshow": {
     "slide_type": "-"
    }
   },
   "outputs": [],
   "source": [
    "print((np.matmul(A, np.array([0, 0])) == b).all())\n",
    "print((A @ np.array([0, 0.5]) == b).all())"
   ]
  },
  {
   "cell_type": "markdown",
   "metadata": {
    "slideshow": {
     "slide_type": "subslide"
    }
   },
   "source": [
    "**How to concatenate arrays?**"
   ]
  },
  {
   "cell_type": "markdown",
   "metadata": {
    "slideshow": {
     "slide_type": "-"
    }
   },
   "source": [
    "We will operate on an augmented matrix of the coefficients:\n",
    "\n",
    "$$ \\begin{aligned} \\mathbf{C} &= \\begin{bmatrix}\n",
    "\\mathbf{A} & \\mathbf{b}\n",
    "\\end{bmatrix}\\\\\n",
    "&= \\begin{bmatrix}\n",
    "a_{00} & a_{01} & b_0 \\\\\n",
    "a_{10} & a_{11} & b_1\n",
    "\\end{bmatrix} \n",
    "\\end{aligned}\n",
    "$$"
   ]
  },
  {
   "cell_type": "markdown",
   "metadata": {
    "slideshow": {
     "slide_type": "fragment"
    }
   },
   "source": [
    "`numpy` provides functions to create block matrices:"
   ]
  },
  {
   "cell_type": "code",
   "execution_count": null,
   "metadata": {
    "ExecuteTime": {
     "end_time": "2020-11-13T05:59:47.144831Z",
     "start_time": "2020-11-13T05:59:47.133871Z"
    },
    "slideshow": {
     "slide_type": "-"
    },
    "tags": []
   },
   "outputs": [],
   "source": [
    "np.block?\n",
    "C = np.block([A, b.reshape(-1, 1)])  # reshape to ensure same ndim\n",
    "C"
   ]
  },
  {
   "cell_type": "markdown",
   "metadata": {
    "slideshow": {
     "slide_type": "fragment"
    }
   },
   "source": [
    "To stack an array along different axes:"
   ]
  },
  {
   "cell_type": "code",
   "execution_count": null,
   "metadata": {
    "ExecuteTime": {
     "end_time": "2020-11-13T05:24:28.765762Z",
     "start_time": "2020-11-13T05:24:28.755161Z"
    },
    "slideshow": {
     "slide_type": "-"
    }
   },
   "outputs": [],
   "source": [
    "array = np.arange(1 * 2 * 3).reshape(1, 2, 3)\n",
    "for concat_array in [\n",
    "    array,\n",
    "    np.hstack((array, array)),  # stack along the first axis\n",
    "    np.vstack((array, array)),  # second axis\n",
    "    np.concatenate((array, array), axis=-1),  # last axis\n",
    "    np.stack((array, array), axis=0),\n",
    "]:  # new axis\n",
    "    print(concat_array, \"\\nshape:\", concat_array.shape)"
   ]
  },
  {
   "cell_type": "markdown",
   "metadata": {
    "slideshow": {
     "slide_type": "subslide"
    }
   },
   "source": [
    "**How to perform arithmetic operations on a `numpy` array?**"
   ]
  },
  {
   "cell_type": "markdown",
   "metadata": {
    "slideshow": {
     "slide_type": "fragment"
    }
   },
   "source": [
    "To divide all the coefficients by $2$, we can write:"
   ]
  },
  {
   "cell_type": "code",
   "execution_count": null,
   "metadata": {
    "ExecuteTime": {
     "end_time": "2020-11-13T06:01:45.331879Z",
     "start_time": "2020-11-13T06:01:45.324345Z"
    },
    "slideshow": {
     "slide_type": "-"
    }
   },
   "outputs": [],
   "source": [
    "D = C / 2\n",
    "D"
   ]
  },
  {
   "cell_type": "markdown",
   "metadata": {
    "slideshow": {
     "slide_type": "fragment"
    }
   },
   "source": [
    "Note that the above does not work for `list`."
   ]
  },
  {
   "cell_type": "code",
   "execution_count": null,
   "metadata": {
    "ExecuteTime": {
     "end_time": "2020-11-13T06:01:49.982673Z",
     "start_time": "2020-11-13T06:01:49.969793Z"
    },
    "slideshow": {
     "slide_type": "-"
    }
   },
   "outputs": [],
   "source": [
    "%%optlite -l -h 500\n",
    "[[2, 2, 1], [0, 2, 1]] / 2"
   ]
  },
  {
   "cell_type": "markdown",
   "metadata": {
    "slideshow": {
     "slide_type": "subslide"
    }
   },
   "source": [
    "Arithmetic operations on `numpy` arrays apply if the arrays have compatible dimensions. Two dimensions are compatible when\n",
    "- they are equal, except for\n",
    "- components equal to 1."
   ]
  },
  {
   "cell_type": "markdown",
   "metadata": {
    "slideshow": {
     "slide_type": "fragment"
    }
   },
   "source": [
    "`numpy` uses [broadcasting rules](https://numpy.org/doc/stable/user/basics.broadcasting.html#general-broadcasting-rules) to stretch the axis of size 1 up to match the corresponding axis in other arrays.  \n",
    "`C / 2` is an example where the second operand $2$ is broadcasted to a $2$-by-$2$ matrix before the elementwise division. Another example is as follows."
   ]
  },
  {
   "cell_type": "code",
   "execution_count": null,
   "metadata": {
    "ExecuteTime": {
     "end_time": "2020-11-13T06:00:08.500533Z",
     "start_time": "2020-11-13T06:00:08.492469Z"
    },
    "slideshow": {
     "slide_type": "-"
    }
   },
   "outputs": [],
   "source": [
    "three_by_one = np.arange(3).reshape(3, 1)\n",
    "one_by_four = np.arange(4).reshape(1, 4)\n",
    "print(\n",
    "    f\"\"\"\n",
    "{three_by_one}\n",
    "*\n",
    "{one_by_four}\n",
    "==\n",
    "{three_by_one * one_by_four}\n",
    "\"\"\"\n",
    ")"
   ]
  },
  {
   "cell_type": "markdown",
   "metadata": {
    "slideshow": {
     "slide_type": "subslide"
    }
   },
   "source": [
    "Next, to subtract the second row of the coefficients from the first row:"
   ]
  },
  {
   "cell_type": "code",
   "execution_count": null,
   "metadata": {
    "ExecuteTime": {
     "end_time": "2020-11-13T06:01:59.606165Z",
     "start_time": "2020-11-13T06:01:59.597364Z"
    },
    "slideshow": {
     "slide_type": "-"
    }
   },
   "outputs": [],
   "source": [
    "D[0, :] = D[0, :] - D[1, :]\n",
    "D"
   ]
  },
  {
   "cell_type": "markdown",
   "metadata": {
    "slideshow": {
     "slide_type": "fragment"
    }
   },
   "source": [
    "Notice the use of commas to index different dimensions instead of using multiple brackets:"
   ]
  },
  {
   "cell_type": "code",
   "execution_count": null,
   "metadata": {
    "ExecuteTime": {
     "end_time": "2020-11-13T07:21:01.471294Z",
     "start_time": "2020-11-13T07:21:01.467371Z"
    },
    "slideshow": {
     "slide_type": "-"
    }
   },
   "outputs": [],
   "source": [
    "assert (D[0][:] == D[0, :]).all()"
   ]
  },
  {
   "cell_type": "markdown",
   "metadata": {
    "slideshow": {
     "slide_type": "subslide"
    }
   },
   "source": [
    "Using this indexing technique, it is easy to extract the last column as the solution to the system of linear equations:"
   ]
  },
  {
   "cell_type": "code",
   "execution_count": null,
   "metadata": {
    "ExecuteTime": {
     "end_time": "2020-11-13T06:02:32.769524Z",
     "start_time": "2020-11-13T06:02:32.762270Z"
    },
    "slideshow": {
     "slide_type": "-"
    }
   },
   "outputs": [],
   "source": [
    "x = D[:, -1]\n",
    "x"
   ]
  },
  {
   "cell_type": "markdown",
   "metadata": {
    "slideshow": {
     "slide_type": "fragment"
    }
   },
   "source": [
    "This gives the desired solution $x_0=0$ and $x_1=0.5$ for\n",
    "\n",
    "$$ \\begin{aligned}\n",
    "2x_0 + 2x_1 &= 1\\\\\n",
    "\\hphantom{2x_0 +}  2x_1 &= 1\\\\\n",
    "\\end{aligned}$$"
   ]
  },
  {
   "cell_type": "markdown",
   "metadata": {
    "slideshow": {
     "slide_type": "subslide"
    }
   },
   "source": [
    "`numpy` provides many [convenient ways](https://numpy.org/doc/stable/reference/arrays.indexing.html#advanced-indexing) to index an array."
   ]
  },
  {
   "cell_type": "code",
   "execution_count": null,
   "metadata": {
    "ExecuteTime": {
     "end_time": "2020-11-14T00:26:10.075502Z",
     "start_time": "2020-11-14T00:26:10.069327Z"
    },
    "slideshow": {
     "slide_type": "-"
    }
   },
   "outputs": [],
   "source": [
    "B = np.arange(2 * 3).reshape(2, 3)\n",
    "B, B[(0, 1), (2, 0)]  # selecting the corners using integer array"
   ]
  },
  {
   "cell_type": "code",
   "execution_count": null,
   "metadata": {
    "ExecuteTime": {
     "end_time": "2020-11-13T06:03:04.487294Z",
     "start_time": "2020-11-13T06:03:04.476670Z"
    },
    "slideshow": {
     "slide_type": "-"
    }
   },
   "outputs": [],
   "source": [
    "B = np.arange(2 * 3 * 4).reshape(2, 3, 4)\n",
    "B, B[0], B[0, (1, 2)], B[0, (1, 2), (2, 3)], B[\n",
    "    :, (1, 2), (2, 3)\n",
    "]  # pay attention to the last two cases"
   ]
  },
  {
   "cell_type": "code",
   "execution_count": null,
   "metadata": {
    "ExecuteTime": {
     "end_time": "2020-11-13T06:03:09.699021Z",
     "start_time": "2020-11-13T06:03:09.690560Z"
    },
    "slideshow": {
     "slide_type": "-"
    }
   },
   "outputs": [],
   "source": [
    "assert (B[..., -1] == B[:, :, -1]).all()\n",
    "B[..., -1]  # ... expands to selecting all elements of all previous dimensions"
   ]
  },
  {
   "cell_type": "code",
   "execution_count": null,
   "metadata": {
    "ExecuteTime": {
     "end_time": "2020-11-13T06:03:10.191541Z",
     "start_time": "2020-11-13T06:03:10.184760Z"
    },
    "slideshow": {
     "slide_type": "-"
    }
   },
   "outputs": [],
   "source": [
    "B[B > 5]  # indexing using boolean array"
   ]
  },
  {
   "cell_type": "markdown",
   "metadata": {
    "slideshow": {
     "slide_type": "subslide"
    }
   },
   "source": [
    "Finally, the following function solves 2 linear equations with 2 variables."
   ]
  },
  {
   "cell_type": "code",
   "execution_count": null,
   "metadata": {
    "ExecuteTime": {
     "end_time": "2020-11-13T13:42:20.247584Z",
     "start_time": "2020-11-13T13:42:20.241223Z"
    },
    "slideshow": {
     "slide_type": "-"
    }
   },
   "outputs": [],
   "source": [
    "def solve_2_by_2_system(A, b):\n",
    "    \"\"\"Returns the unique solution of the linear system, if exists,\n",
    "    else returns None.\"\"\"\n",
    "    C = np.hstack((A, b.reshape(-1, 1)))\n",
    "    if C[0, 0] == 0:\n",
    "        C = C[(1, 0), :]\n",
    "    if C[0, 0] == 0:\n",
    "        return None\n",
    "    C[0, :] = C[0, :] / C[0, 0]\n",
    "    C[1, :] = C[1, :] - C[0, :] * C[1, 0]\n",
    "    if C[1, 1] == 0:\n",
    "        return None\n",
    "    C[1, :] = C[1, :] / C[1, 1]\n",
    "    C[0, :] = C[0, :] - C[1, :] * C[0, 1]\n",
    "    return C[:, -1]"
   ]
  },
  {
   "cell_type": "code",
   "execution_count": null,
   "metadata": {
    "ExecuteTime": {
     "end_time": "2020-11-13T13:44:31.275619Z",
     "start_time": "2020-11-13T13:44:31.267479Z"
    },
    "slideshow": {
     "slide_type": "-"
    }
   },
   "outputs": [],
   "source": [
    "# tests\n",
    "for A in (\n",
    "    np.eye(2),\n",
    "    np.ones((2, 2)),\n",
    "    np.stack((np.ones(2), np.zeros(2))),\n",
    "    np.stack((np.ones(2), np.zeros(2)), axis=1),\n",
    "):\n",
    "    print(f\"A={A}\\nb={b}\\nx={solve_2_by_2_system(A,b)}\\n\")"
   ]
  },
  {
   "cell_type": "markdown",
   "metadata": {},
   "source": [
    "### Universal functions"
   ]
  },
  {
   "cell_type": "markdown",
   "metadata": {
    "slideshow": {
     "slide_type": "subslide"
    }
   },
   "source": [
    "Why does the first line of code below return two arrays but the second code return only one array? Shouldn't the first line of code return the following?\n",
    "```Python\n",
    "array([[(0,1), (0,2), (0,3)],\n",
    "       [(1,1), (1,2), (1,3)]])\n",
    "```"
   ]
  },
  {
   "cell_type": "code",
   "execution_count": null,
   "metadata": {
    "ExecuteTime": {
     "end_time": "2020-11-14T00:34:59.921029Z",
     "start_time": "2020-11-14T00:34:59.914787Z"
    },
    "slideshow": {
     "slide_type": "-"
    }
   },
   "outputs": [],
   "source": [
    "print(np.fromfunction(lambda i, j: (i, j), (2, 3), dtype=int))\n",
    "print(np.fromfunction(lambda i, j: (i * j), (2, 3), dtype=int))"
   ]
  },
  {
   "cell_type": "markdown",
   "metadata": {
    "slideshow": {
     "slide_type": "-"
    }
   },
   "source": [
    "From the documentation, `fromfunction` applies the given function to the two arrays as arguments.\n",
    "- The first line of code returns a tuple of the arrays.\n",
    "- The second line of code multiplies the two arrays to give one array, according to how multiplication works for numpy arrays."
   ]
  },
  {
   "cell_type": "markdown",
   "metadata": {
    "slideshow": {
     "slide_type": "subslide"
    }
   },
   "source": [
    "Indeed, `numpy` implements [universal/vectorized functions/operators](https://numpy.org/doc/stable/reference/ufuncs.html) that take arrays as arguments and perform operations with appropriate broadcasting rules. The following is an example that uses the universal function `np.sin`:"
   ]
  },
  {
   "cell_type": "code",
   "execution_count": null,
   "metadata": {
    "ExecuteTime": {
     "end_time": "2020-11-14T00:46:58.019048Z",
     "start_time": "2020-11-14T00:46:57.697504Z"
    },
    "slideshow": {
     "slide_type": "-"
    }
   },
   "outputs": [],
   "source": [
    "import matplotlib.pyplot as plt\n",
    "\n",
    "\n",
    "@widgets.interact(a=(0, 5, 1), b=(-1, 1, 0.1))\n",
    "def plot_sin(a=1, b=0):\n",
    "    x = np.linspace(0, 2 * math.pi)\n",
    "    plt.plot(x, np.sin(a * x + b * math.pi))  # np.sin, *, + are universal functions\n",
    "    plt.title(r\"$\\sin(ax+b\\pi)$\")\n",
    "    plt.xlabel(r\"$x$ (radian)\")"
   ]
  },
  {
   "cell_type": "markdown",
   "metadata": {
    "slideshow": {
     "slide_type": "subslide"
    }
   },
   "source": [
    "In addition to making the code shorter, universal functions are both efficient and flexible. (Recall the Monte Carlo simulation to approximate $\\pi$.)"
   ]
  },
  {
   "cell_type": "markdown",
   "metadata": {
    "slideshow": {
     "slide_type": "fragment"
    }
   },
   "source": [
    "**Exercise** Explain how the Monte Carlo simulation work using universal functions:\n",
    "```Python\n",
    "def np_approximate_pi(n):\n",
    "    in_circle = (np.random.random((n,2))**2).sum(axis=-1) < 1\n",
    "    mean = 4 * in_circle.mean()\n",
    "    std = 4 * in_circle.std() / n**0.5\n",
    "    return np.array([mean - 2*std, mean + 2*std])\n",
    "```"
   ]
  },
  {
   "cell_type": "markdown",
   "metadata": {
    "deletable": false,
    "nbgrader": {
     "cell_type": "markdown",
     "checksum": "4593e0a5f4715a98778bf469557adae6",
     "grade": true,
     "grade_id": "universal",
     "locked": false,
     "points": 0,
     "schema_version": 3,
     "solution": true,
     "task": false
    }
   },
   "source": [
    "YOUR ANSWER HERE"
   ]
  }
 ],
 "metadata": {
  "kernelspec": {
   "display_name": "Python 3 (ipykernel)",
   "language": "python",
   "name": "python3"
  },
  "language_info": {
   "codemirror_mode": {
    "name": "ipython",
    "version": 3
   },
   "file_extension": ".py",
   "mimetype": "text/x-python",
   "name": "python",
   "nbconvert_exporter": "python",
   "pygments_lexer": "ipython3",
   "version": "3.10.6"
  },
  "latex_envs": {
   "LaTeX_envs_menu_present": true,
   "autoclose": false,
   "autocomplete": true,
   "bibliofile": "biblio.bib",
   "cite_by": "apalike",
   "current_citInitial": 1,
   "eqLabelWithNumbers": true,
   "eqNumInitial": 1,
   "hotkeys": {
    "equation": "Ctrl-E",
    "itemize": "Ctrl-I"
   },
   "labels_anchors": false,
   "latex_user_defs": false,
   "report_style_numbering": false,
   "user_envs_cfg": false
  },
  "rise": {
   "enable_chalkboard": true,
   "scroll": true,
   "theme": "white"
  },
  "toc": {
   "base_numbering": 1,
   "nav_menu": {
    "height": "195px",
    "width": "330px"
   },
   "number_sections": true,
   "sideBar": true,
   "skip_h1_title": true,
   "title_cell": "Table of Contents",
   "title_sidebar": "Contents",
   "toc_cell": false,
   "toc_position": {
    "height": "454.418px",
    "left": "1533px",
    "top": "110.284px",
    "width": "261px"
   },
   "toc_section_display": true,
   "toc_window_display": false
  },
  "widgets": {
   "application/vnd.jupyter.widget-state+json": {
    "state": {},
    "version_major": 2,
    "version_minor": 0
   }
  }
 },
 "nbformat": 4,
 "nbformat_minor": 4
}
