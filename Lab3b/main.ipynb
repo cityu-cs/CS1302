{
 "cells": [
  {
   "cell_type": "code",
   "execution_count": null,
   "metadata": {
    "deletable": false,
    "editable": false,
    "tags": []
   },
   "outputs": [],
   "source": [
    "# Initialization cell\n",
    "try:  # for CS1302 JupyterLite pyodide kernel\n",
    "    import piplite\n",
    "\n",
    "    with open(\"requirements.txt\") as f:\n",
    "        for package in f:\n",
    "            package = package.strip()\n",
    "            print(\"Installing\", package)\n",
    "            await piplite.install(package)\n",
    "except ModuleNotFoundError:\n",
    "    pass\n",
    "\n",
    "from math import floor, log2\n",
    "from inspect import getsource\n",
    "\n",
    "import jupytext\n",
    "import numpy as np\n",
    "import otter\n",
    "from ipywidgets import interact\n",
    "\n",
    "grader = otter.Notebook(\"main.ipynb\")\n",
    "%reload_ext divewidgets"
   ]
  },
  {
   "cell_type": "markdown",
   "metadata": {
    "slideshow": {
     "slide_type": "slide"
    }
   },
   "source": [
    "# Lab 3b"
   ]
  },
  {
   "cell_type": "markdown",
   "metadata": {
    "slideshow": {
     "slide_type": "-"
    },
    "tags": [
     "remove-cell"
    ]
   },
   "source": [
    "**CS1302 Introduction to Computer Programming**\n",
    "___"
   ]
  },
  {
   "cell_type": "markdown",
   "metadata": {
    "ExecuteTime": {
     "end_time": "2020-09-13T01:19:41.712043Z",
     "start_time": "2020-09-13T01:19:41.704733Z"
    },
    "slideshow": {
     "slide_type": "subslide"
    }
   },
   "source": [
    "In this notebook, we will use iterations to convert numbers with arbitrary size."
   ]
  },
  {
   "cell_type": "markdown",
   "metadata": {
    "slideshow": {
     "slide_type": "slide"
    }
   },
   "source": [
    "## Conversion to Decimal"
   ]
  },
  {
   "cell_type": "markdown",
   "metadata": {
    "slideshow": {
     "slide_type": "subslide"
    }
   },
   "source": [
    "### Binary-to-Decimal"
   ]
  },
  {
   "cell_type": "markdown",
   "metadata": {
    "slideshow": {
     "slide_type": "fragment"
    }
   },
   "source": [
    "In a previous lab, we considered converting a byte string to decimal. What about converting a binary string of arbitrary length to decimal?"
   ]
  },
  {
   "cell_type": "markdown",
   "metadata": {},
   "source": [
    "The simplest way is to use `int`:"
   ]
  },
  {
   "cell_type": "code",
   "execution_count": null,
   "metadata": {},
   "outputs": [],
   "source": [
    "int(\"0\" * 4 + \"1\" * 4, base=2)"
   ]
  },
  {
   "cell_type": "markdown",
   "metadata": {},
   "source": [
    "**But how is `int` implemented?**"
   ]
  },
  {
   "cell_type": "markdown",
   "metadata": {
    "slideshow": {
     "slide_type": "subslide"
    }
   },
   "source": [
    "---\n",
    "\n",
    "**Definition** (Binary numbers)\n",
    "\n",
    "Given a binary string of an arbitrarily length $k$,\n",
    "\n",
    "$$ \n",
    "b_{k-1}\\circ \\dots \\circ b_1\\circ b_0,\n",
    "$$\n",
    "the decimal number is given by the formula\n",
    "\n",
    "$$\n",
    "2^0 \\cdot b_0 + 2^1 \\cdot b_1 + \\dots + 2^{k-1} \\cdot b_{k-1}.\n",
    "$$ (b2d:1)\n",
    "\n",
    "---"
   ]
  },
  {
   "cell_type": "markdown",
   "metadata": {
    "slideshow": {
     "slide_type": "fragment"
    }
   },
   "source": [
    "In mathematics, we use the [summation](https://en.wikipedia.org/wiki/Summation) notation to write the above formula {eq}`b2d:1` concisely as\n",
    "\n",
    "$$ \n",
    "\\sum_{i=0}^{k-1} 2^i \\cdot b_i,\n",
    "$$ (b2d:2)\n",
    "\n",
    "i.e., the sum of $2^i \\cdot b_i$ for $i$ taking an integer value from $0$ to $k-1$."
   ]
  },
  {
   "cell_type": "markdown",
   "metadata": {
    "slideshow": {
     "slide_type": "subslide"
    }
   },
   "source": [
    "This can be implemented using a `for` loop:"
   ]
  },
  {
   "cell_type": "code",
   "execution_count": null,
   "metadata": {},
   "outputs": [],
   "source": [
    "def binary_to_decimal_v1(binary_str):\n",
    "    k = len(binary_str)\n",
    "    decimal = 0  # initialization\n",
    "    for i in range(k):  # iteration\n",
    "        decimal += 2**i * (1 if binary_str[(k - 1) - i] == \"1\" else 0)\n",
    "    return decimal\n",
    "\n",
    "\n",
    "binary_to_decimal_v1(\"0\" * 4 + \"1\" * 4)"
   ]
  },
  {
   "cell_type": "markdown",
   "metadata": {},
   "source": [
    "````{attention}\n",
    "In the above implementation, \n",
    "\n",
    "```python\n",
    "1 if binary_str[(k - 1) - i] == \"1\" else 0\n",
    "```\n",
    "\n",
    "is to avoid using `int` as in `int(binary_str[(k - 1) - i])`.\n",
    "````"
   ]
  },
  {
   "cell_type": "markdown",
   "metadata": {
    "slideshow": {
     "slide_type": "fragment"
    }
   },
   "source": [
    "Note that $b_i$ is given by `binary_str[(k-1)-i]` for different index `i` as shown below:\n",
    "\n",
    "$$\n",
    "\\begin{array}{c|c:c:c:c|}\n",
    "\\texttt{binary\\_str} & b_{k-1} & b_{k-2} & \\dots & b_0\\\\ \\text{indexing} & [0] & [1] & \\dots & [k-1] \n",
    "\\end{array}\n",
    "$$"
   ]
  },
  {
   "cell_type": "markdown",
   "metadata": {
    "slideshow": {
     "slide_type": "subslide"
    }
   },
   "source": [
    "The following is another way to write the `for` loop."
   ]
  },
  {
   "cell_type": "code",
   "execution_count": null,
   "metadata": {},
   "outputs": [],
   "source": [
    "def binary_to_decimal_v2(binary_str):\n",
    "    decimal = 0  # initialization\n",
    "    for bit in binary_str:\n",
    "        decimal = decimal * 2 + (1 if bit == \"1\" else 0)  # iteration\n",
    "    return decimal\n",
    "\n",
    "\n",
    "binary_to_decimal_v2(\"0\" * 4 + \"1\" * 4)"
   ]
  },
  {
   "cell_type": "markdown",
   "metadata": {
    "slideshow": {
     "slide_type": "fragment"
    }
   },
   "source": [
    "The algorithm implements the same formula factorized as follows:\n",
    "\n",
    "$$\n",
    "\\begin{aligned} \\sum_{i=0}^{k-1} 2^i \\cdot b_{i} \n",
    "&=  \\left(\\sum_{i=1}^{k-1} 2^i \\cdot b_{i}\\right) + b_0\\\\\n",
    "&=  \\left(\\sum_{i=1}^{k-1} 2^{i-1} \\cdot b_{i}\\right)\\times 2 + b_0 \\\\\n",
    "&=  \\left(\\sum_{j=0}^{k-2} 2^{j} \\cdot b_{j+1}\\right)\\times 2 + b_0 && \\text{with $j=i-1$} \\\\\n",
    "&= \\underbrace{(\\dots (\\underbrace{(\\underbrace{\\overbrace{0}^{\\text{initialization}\\kern-2em}\\times 2 + b_{k-1}}_{\\text{first iteration} }) \\times 2 + b_{k-2}}_{\\text{second iteration} }) \\dots )\\times 2 + b_0}_{\\text{last iteration} }.\\end{aligned}\n",
    "$$ (b2d:3)"
   ]
  },
  {
   "cell_type": "markdown",
   "metadata": {},
   "source": [
    "**Exercise** (efficiency)\n",
    "\n",
    "Explain whether `binary_to_decimal_v1` or `binary_to_decimal_v2` runs faster?"
   ]
  },
  {
   "cell_type": "markdown",
   "metadata": {},
   "source": [
    "_Type your answer here, replacing this text._"
   ]
  },
  {
   "cell_type": "markdown",
   "metadata": {
    "slideshow": {
     "slide_type": "subslide"
    }
   },
   "source": [
    "**Exercise** (binary-to-decimal) \n",
    "\n",
    "Write your own converter `binary_to_decimal` below using a `while` loop instead of a `for` loop. \n",
    "\n",
    "```{important}\n",
    "\n",
    "Your code should contain `while` but NOT `for` nor `int`.\n",
    "```"
   ]
  },
  {
   "cell_type": "code",
   "execution_count": null,
   "metadata": {
    "ExecuteTime": {
     "end_time": "2021-03-20T14:27:04.687310Z",
     "start_time": "2021-03-20T14:27:04.65648Z"
    },
    "nbgrader": {
     "grade": false,
     "grade_id": "binary_to_decimal",
     "locked": false,
     "schema_version": 3,
     "solution": true,
     "task": false
    },
    "slideshow": {
     "slide_type": "-"
    },
    "tags": [
     "remove-output"
    ]
   },
   "outputs": [],
   "source": [
    "def binary_to_decimal(binary_str):\n",
    "    k = len(binary_str)\n",
    "    decimal = 0\n",
    "    ...\n",
    "    return decimal"
   ]
  },
  {
   "cell_type": "code",
   "execution_count": null,
   "metadata": {
    "deletable": false,
    "editable": false,
    "tags": []
   },
   "outputs": [],
   "source": [
    "# test validity\n",
    "assert getsource(binary_to_decimal).find(\"for\") < 0  # no for\n",
    "assert getsource(binary_to_decimal).find(\"int\") < 0  # no int\n",
    "assert getsource(binary_to_decimal).find(\"while\") > 0  # use while"
   ]
  },
  {
   "cell_type": "code",
   "execution_count": null,
   "metadata": {
    "deletable": false,
    "editable": false
   },
   "outputs": [],
   "source": [
    "grader.check(\"binary-to-decimal\")"
   ]
  },
  {
   "cell_type": "code",
   "execution_count": null,
   "metadata": {
    "ExecuteTime": {
     "end_time": "2021-03-20T14:27:05.105584Z",
     "start_time": "2021-03-20T14:27:05.55075Z"
    },
    "code_folding": [
     0
    ],
    "slideshow": {
     "slide_type": "-"
    },
    "tags": [
     "remove-output"
    ]
   },
   "outputs": [],
   "source": [
    "# binary-to-decimal converter\n",
    "from ipywidgets import interact\n",
    "\n",
    "bits = [\"0\", \"1\"]\n",
    "\n",
    "\n",
    "@interact(binary_str=\"1011\")\n",
    "def convert_byte_to_decimal(binary_str):\n",
    "    for bit in binary_str:\n",
    "        if bit not in bits:\n",
    "            print(\"Not a binary string.\")\n",
    "            break\n",
    "    else:\n",
    "        print(\"decimal:\", binary_to_decimal(binary_str))"
   ]
  },
  {
   "cell_type": "markdown",
   "metadata": {
    "slideshow": {
     "slide_type": "slide"
    }
   },
   "source": [
    "### Undecimal-to-Decimal"
   ]
  },
  {
   "cell_type": "markdown",
   "metadata": {
    "slideshow": {
     "slide_type": "fragment"
    }
   },
   "source": [
    "A base-11 number system is called an [undecimal system](https://en.wikipedia.org/wiki/Undecimal). The digits range from 0 to 10 with 10 denoted as X:\n",
    "\n",
    "$$\n",
    "0, 1, 2, 3, 4, 5, 6, 7, 8, 9, X.\n",
    "$$\n",
    "\n",
    "The [International Standard Book Number (ISBN)](https://en.wikipedia.org/wiki/International_Standard_Book_Number) uses an undecimal digit."
   ]
  },
  {
   "cell_type": "markdown",
   "metadata": {
    "slideshow": {
     "slide_type": "subslide"
    }
   },
   "source": [
    "**Exercise** (undecimal-to-decimal)\n",
    "\n",
    "In the following code, assign to `decimal` the integer represented by an undecimal string of arbitrary length.\n",
    "\n",
    "```{important}\n",
    "\n",
    "Your code should NOT contain `int`. You may assume `undecimal_str` is valid undecimal string consisting of characters from \"0123456789X\".\n",
    "```"
   ]
  },
  {
   "cell_type": "code",
   "execution_count": null,
   "metadata": {
    "ExecuteTime": {
     "end_time": "2021-03-20T14:27:07.777733Z",
     "start_time": "2021-03-20T14:27:07.776372Z"
    },
    "nbgrader": {
     "grade": false,
     "grade_id": "undecimal_to_decimal",
     "locked": false,
     "schema_version": 3,
     "solution": true,
     "task": false
    },
    "slideshow": {
     "slide_type": "subslide"
    },
    "tags": [
     "remove-output"
    ]
   },
   "outputs": [],
   "source": [
    "def undecimal_to_decimal(undecimal_str):\n",
    "    ...\n",
    "    return decimal"
   ]
  },
  {
   "cell_type": "code",
   "execution_count": null,
   "metadata": {
    "deletable": false,
    "editable": false,
    "tags": []
   },
   "outputs": [],
   "source": [
    "# test validity\n",
    "assert getsource(undecimal_to_decimal).find(\"int\") < 0  # no int"
   ]
  },
  {
   "cell_type": "code",
   "execution_count": null,
   "metadata": {
    "deletable": false,
    "editable": false
   },
   "outputs": [],
   "source": [
    "grader.check(\"undecimal-to-decimal\")"
   ]
  },
  {
   "cell_type": "code",
   "execution_count": null,
   "metadata": {
    "ExecuteTime": {
     "end_time": "2021-03-20T14:27:10.312470Z",
     "start_time": "2021-03-20T14:27:10.17607Z"
    },
    "code_folding": [
     0
    ],
    "slideshow": {
     "slide_type": "-"
    },
    "tags": [
     "remove-output"
    ]
   },
   "outputs": [],
   "source": [
    "# undecimal-to-decimal calculator\n",
    "from ipywidgets import interact\n",
    "\n",
    "undecimal_digits = [str(i) for i in range(10)] + [\"X\"]\n",
    "\n",
    "\n",
    "@interact(undecimal_str=\"X\")\n",
    "def convert_undecimal_to_decimal(undecimal_str):\n",
    "    for digit in undecimal_str:\n",
    "        if digit not in undecimal_digits:\n",
    "            print(\"Not an undecimal string.\")\n",
    "            break\n",
    "    else:\n",
    "        print(\"decimal:\", undecimal_to_decimal(undecimal_str))"
   ]
  },
  {
   "cell_type": "markdown",
   "metadata": {
    "slideshow": {
     "slide_type": "slide"
    }
   },
   "source": [
    "## Conversion from Decimal"
   ]
  },
  {
   "cell_type": "markdown",
   "metadata": {
    "ExecuteTime": {
     "end_time": "2020-09-12T12:03:49.420749Z",
     "start_time": "2020-09-12T12:03:49.413815Z"
    },
    "slideshow": {
     "slide_type": "fragment"
    }
   },
   "source": [
    "Consider the reverse process that converts a non-negative decimal number of arbitrary size to a string representation in another number system."
   ]
  },
  {
   "cell_type": "markdown",
   "metadata": {
    "slideshow": {
     "slide_type": "subslide"
    }
   },
   "source": [
    "### Decimal-to-Binary"
   ]
  },
  {
   "cell_type": "markdown",
   "metadata": {
    "slideshow": {
     "slide_type": "subslide"
    }
   },
   "source": [
    "The following code converts a decimal number to a binary string."
   ]
  },
  {
   "cell_type": "markdown",
   "metadata": {
    "slideshow": {
     "slide_type": "-"
    }
   },
   "source": [
    "```Python\n",
    "def decimal_to_binary(decimal):\n",
    "    binary_str = str(decimal % 2)\n",
    "    while decimal // 2:\n",
    "        decimal //= 2\n",
    "        binary_str = str(decimal % 2) + binary_str\n",
    "    return binary_str\n",
    "```"
   ]
  },
  {
   "cell_type": "markdown",
   "metadata": {
    "slideshow": {
     "slide_type": "fragment"
    }
   },
   "source": [
    "To understand the while loop, consider the same formula {eq}`b2d:3`, where the braces indicate the value of `decimal` at different times:\n",
    "\n",
    "$$\n",
    "\\begin{aligned} \\sum_{i=0}^{k-1} 2^i \\cdot b_{i} &=  \\left(\\sum_{i=0}^{k-2} 2^{i-2} \\cdot b_{i-1}\\right)\\times 2 + b_0 \\\\\n",
    "&= \\underbrace{(\\underbrace{ \\dots (\\underbrace{(0\\times 2 + b_{k-1}) \\times 2 + b_{k-2}}_{\\text{right before the last iteration} }  )\\times 2 \\dots + b_1}_{\\text{right before the second iteration} })\\times 2 + b_0}_{\\text{right before the first iteration} }.\\end{aligned}\n",
    "$$ "
   ]
  },
  {
   "cell_type": "markdown",
   "metadata": {
    "slideshow": {
     "slide_type": "fragment"
    }
   },
   "source": [
    "- $b_0$ is the remainder `decimal % 2` right before the first iteration,\n",
    "- $b_1$ is the remainder `decimal // 2 % 2` right before the second iteration, and\n",
    "- $b_{k-1}$ is the remainder `decimal // 2 % 2` right before the last iteration."
   ]
  },
  {
   "cell_type": "markdown",
   "metadata": {
    "slideshow": {
     "slide_type": "fragment"
    }
   },
   "source": [
    "We can also write a for loop instead of a while loop:"
   ]
  },
  {
   "cell_type": "code",
   "execution_count": null,
   "metadata": {
    "ExecuteTime": {
     "end_time": "2021-03-20T14:27:12.386377Z",
     "start_time": "2021-03-20T14:27:12.382945Z"
    },
    "slideshow": {
     "slide_type": "-"
    }
   },
   "outputs": [],
   "source": [
    "def decimal_to_binary(decimal):\n",
    "    binary_str = \"\"\n",
    "    num_bits = 1 + (decimal and floor(log2(decimal)))\n",
    "    for i in range(num_bits):\n",
    "        binary_str = str(decimal % 2) + binary_str\n",
    "        decimal //= 2\n",
    "    return binary_str"
   ]
  },
  {
   "cell_type": "code",
   "execution_count": null,
   "metadata": {
    "ExecuteTime": {
     "end_time": "2021-03-20T14:27:12.923762Z",
     "start_time": "2021-03-20T14:27:12.905789Z"
    },
    "code_folding": [
     0
    ],
    "slideshow": {
     "slide_type": "-"
    },
    "tags": [
     "remove-output"
    ]
   },
   "outputs": [],
   "source": [
    "# decimal-to-binary calculator\n",
    "@interact(decimal=\"11\")\n",
    "def convert_decimal_to_binary(decimal):\n",
    "    if not decimal.isdigit():\n",
    "        print(\"Not a non-negative integer.\")\n",
    "    else:\n",
    "        print(\"binary:\", decimal_to_binary(int(decimal)))"
   ]
  },
  {
   "cell_type": "markdown",
   "metadata": {
    "slideshow": {
     "slide_type": "subslide"
    }
   },
   "source": [
    "**Exercise** (logical-and)\n",
    "\n",
    "Explain what the expression `1 + (decimal and floor(log2(decimal)))` calculates. In particular, explain the purpose of the logical `and` operation in the expression?\n",
    "\n",
    "```{hint}\n",
    "`floor(log2(decimal))` computes $\\lceil \\log_2 (\\texttt{decimal})\\rceil$, namely, the largest integer no larger than the logarithm base 2 of some number `decimal`.\n",
    "- What happen when you run `floor(log2(decimal))` when `decimal` equals `0`?\n",
    "- How about `(decimal and floor(log2(decimal))` when `decimal` equals `0`? Apply the short-circuit evaluation rule.\n",
    "- What does `1 + (decimal and floor(log2(decimal)))` return when `decimal` is between $2^{\\ell} \\leq \\texttt{decimal} < 2^{\\ell + 1}$?\n",
    "```"
   ]
  },
  {
   "cell_type": "markdown",
   "metadata": {},
   "source": [
    "_Type your answer here, replacing this text._"
   ]
  },
  {
   "cell_type": "markdown",
   "metadata": {
    "slideshow": {
     "slide_type": "slide"
    }
   },
   "source": [
    "### Decimal-to-Undecimal"
   ]
  },
  {
   "cell_type": "markdown",
   "metadata": {
    "slideshow": {
     "slide_type": "subslide"
    }
   },
   "source": [
    "**Exercise** (decimal-to-undecimal)\n",
    "\n",
    "Assign to `undecimal_str` the undecimal string that represents a non-negative integer `decimal` of any size."
   ]
  },
  {
   "cell_type": "code",
   "execution_count": null,
   "metadata": {
    "ExecuteTime": {
     "end_time": "2021-03-20T14:27:15.160449Z",
     "start_time": "2021-03-20T14:27:15.157049Z"
    },
    "code_folding": [],
    "nbgrader": {
     "grade": false,
     "grade_id": "decimal_to_undecimal",
     "locked": false,
     "schema_version": 3,
     "solution": true,
     "task": false
    },
    "slideshow": {
     "slide_type": "-"
    },
    "tags": [
     "remove-output"
    ]
   },
   "outputs": [],
   "source": [
    "def decimal_to_undecimal(decimal):\n",
    "    ...\n",
    "    return undecimal_str"
   ]
  },
  {
   "cell_type": "code",
   "execution_count": null,
   "metadata": {
    "deletable": false,
    "editable": false
   },
   "outputs": [],
   "source": [
    "grader.check(\"decimal-to-undecimal\")"
   ]
  },
  {
   "cell_type": "code",
   "execution_count": null,
   "metadata": {
    "ExecuteTime": {
     "end_time": "2021-03-20T14:27:15.851221Z",
     "start_time": "2021-03-20T14:27:15.830466Z"
    },
    "code_folding": [
     0
    ],
    "slideshow": {
     "slide_type": "-"
    },
    "tags": [
     "remove-output"
    ]
   },
   "outputs": [],
   "source": [
    "# undecimal-to-decimal calculator\n",
    "from ipywidgets import interact\n",
    "\n",
    "\n",
    "@interact(decimal=\"10\")\n",
    "def convert_decimal_to_undecimal(decimal):\n",
    "    if not decimal.isdigit():\n",
    "        print(\"Not a non-negative integer.\")\n",
    "    else:\n",
    "        print(\"undecimal:\", decimal_to_undecimal(int(decimal)))"
   ]
  },
  {
   "cell_type": "markdown",
   "metadata": {
    "editable": false,
    "tags": [
     "remove-cell"
    ]
   },
   "source": [
    "## Submission\n",
    "\n",
    "Make sure you have run all cells in your notebook in order before running the cell below, so that all images/graphs appear in the output. The cell below will generate a zip file for you to submit. **Please save before exporting!**"
   ]
  },
  {
   "cell_type": "code",
   "execution_count": null,
   "metadata": {
    "deletable": false,
    "editable": true,
    "tags": []
   },
   "outputs": [],
   "source": [
    "# extra files to submit\n",
    "extra_files = []"
   ]
  },
  {
   "cell_type": "code",
   "execution_count": null,
   "metadata": {
    "deletable": false,
    "editable": false,
    "tags": []
   },
   "outputs": [],
   "source": [
    "# Generate the source main.py necessary for grading and similarity check.\n",
    "jupytext.write(jupytext.read(\"main.ipynb\"), \"main.py\", fmt=\"py:percent\")"
   ]
  },
  {
   "cell_type": "code",
   "execution_count": null,
   "metadata": {
    "deletable": false,
    "editable": false,
    "tags": []
   },
   "outputs": [],
   "source": [
    "# Generate the zip file to submit.\n",
    "grader.export(pdf=False, run_tests=False, files=[\"main.py\", *extra_files])"
   ]
  }
 ],
 "metadata": {
  "celltoolbar": "Create Assignment",
  "kernelspec": {
   "display_name": "Python 3 (ipykernel)",
   "language": "python",
   "name": "python3"
  },
  "language_info": {
   "codemirror_mode": {
    "name": "ipython",
    "version": 3
   },
   "file_extension": ".py",
   "mimetype": "text/x-python",
   "name": "python",
   "nbconvert_exporter": "python",
   "pygments_lexer": "ipython3",
   "version": "3.10.6"
  },
  "latex_envs": {
   "LaTeX_envs_menu_present": true,
   "autoclose": false,
   "autocomplete": true,
   "bibliofile": "biblio.bib",
   "cite_by": "apalike",
   "current_citInitial": 1,
   "eqLabelWithNumbers": true,
   "eqNumInitial": 1,
   "hotkeys": {
    "equation": "Ctrl-E",
    "itemize": "Ctrl-I"
   },
   "labels_anchors": false,
   "latex_user_defs": false,
   "report_style_numbering": false,
   "user_envs_cfg": false
  },
  "otter": {
   "OK_FORMAT": true,
   "tests": {
    "binary-to-decimal": {
     "name": "binary-to-decimal",
     "points": null,
     "suites": [
      {
       "cases": [
        {
         "code": ">>> # tests\n>>> def test_binary_to_decimal(decimal, binary_str):\n...     decimal_ = binary_to_decimal(binary_str)\n...     correct = isinstance(decimal_, int) and decimal_ == decimal\n...     if not correct:\n...         print(f\"{binary_str} should give {decimal} not {decimal_}.\")\n...     assert correct\n>>> \n>>> \n>>> test_binary_to_decimal(0, \"0\")\n>>> test_binary_to_decimal(255, \"11111111\")\n>>> test_binary_to_decimal(52154, \"1100101110111010\")\n>>> test_binary_to_decimal(3430, \"110101100110\")\n",
         "hidden": false,
         "locked": false
        }
       ],
       "scored": true,
       "setup": "",
       "teardown": "",
       "type": "doctest"
      }
     ]
    },
    "decimal-to-undecimal": {
     "name": "decimal-to-undecimal",
     "points": null,
     "suites": [
      {
       "cases": [
        {
         "code": ">>> # tests\n>>> def test_decimal_to_undecimal(undecimal, decimal):\n...     undecimal_ = decimal_to_undecimal(decimal)\n...     correct = isinstance(undecimal, str) and undecimal == undecimal_\n...     if not correct:\n...         print(\n...             f\"{decimal} should be represented as the undecimal string {undecimal}, not {undecimal_}.\"\n...         )\n...     assert correct\n>>> \n>>> \n>>> test_decimal_to_undecimal(\"X\", 10)\n>>> test_decimal_to_undecimal(\"0\", 0)\n>>> test_decimal_to_undecimal(\"1752572309X478\", 57983478668530)\n",
         "hidden": false,
         "locked": false
        }
       ],
       "scored": true,
       "setup": "",
       "teardown": "",
       "type": "doctest"
      }
     ]
    },
    "undecimal-to-decimal": {
     "name": "undecimal-to-decimal",
     "points": null,
     "suites": [
      {
       "cases": [
        {
         "code": ">>> # tests\n>>> def test_undecimal_to_decimal(decimal, undecimal_str):\n...     decimal_ = undecimal_to_decimal(undecimal_str)\n...     correct = isinstance(decimal_, int) and decimal_ == decimal\n...     if not correct:\n...         print(f\"{undecimal_str} should give {decimal} not {decimal_}.\")\n...     assert correct\n>>> \n>>> \n>>> test_undecimal_to_decimal(27558279079916281, \"6662X0X584839464\")\n>>> test_undecimal_to_decimal(23022771839270, \"73769X2556695\")\n>>> test_undecimal_to_decimal(161804347284488, \"476129248X2067\")\n",
         "hidden": false,
         "locked": false
        }
       ],
       "scored": true,
       "setup": "",
       "teardown": "",
       "type": "doctest"
      }
     ]
    }
   }
  },
  "rise": {
   "enable_chalkboard": true,
   "scroll": true,
   "theme": "white"
  },
  "toc": {
   "base_numbering": 1,
   "nav_menu": {
    "height": "195px",
    "width": "330px"
   },
   "number_sections": true,
   "sideBar": true,
   "skip_h1_title": true,
   "title_cell": "Table of Contents",
   "title_sidebar": "Contents",
   "toc_cell": false,
   "toc_position": {
    "height": "454.418px",
    "left": "1533px",
    "top": "110.284px",
    "width": "435.327px"
   },
   "toc_section_display": true,
   "toc_window_display": false
  },
  "widgets": {
   "application/vnd.jupyter.widget-state+json": {
    "state": {
     "010c2a9796ea46e986958ec4733e029e": {
      "model_module": "@jupyter-widgets/base",
      "model_module_version": "1.2.0",
      "model_name": "LayoutModel",
      "state": {}
     },
     "02a82d6891aa47b6901f7769862e938e": {
      "model_module": "@jupyter-widgets/base",
      "model_module_version": "1.2.0",
      "model_name": "LayoutModel",
      "state": {}
     },
     "05a8413defa9478e825202de229f7c50": {
      "model_module": "@jupyter-widgets/controls",
      "model_module_version": "1.5.0",
      "model_name": "DescriptionStyleModel",
      "state": {
       "description_width": ""
      }
     },
     "05bd7f1eb7c84c4bbe0bbe73f7f42282": {
      "model_module": "@jupyter-widgets/base",
      "model_module_version": "1.2.0",
      "model_name": "LayoutModel",
      "state": {}
     },
     "0a68b022245a44ceaeaa0f7c0578df05": {
      "model_module": "@jupyter-widgets/output",
      "model_module_version": "1.0.0",
      "model_name": "OutputModel",
      "state": {
       "layout": "IPY_MODEL_b56df401c3fb47d08b6c2c715061d5b0",
       "outputs": [
        {
         "name": "stdout",
         "output_type": "stream",
         "text": "undecimal: X\n"
        }
       ]
      }
     },
     "0aed4ae9977e41958df988c974883c4f": {
      "model_module": "@jupyter-widgets/output",
      "model_module_version": "1.0.0",
      "model_name": "OutputModel",
      "state": {
       "layout": "IPY_MODEL_a29afd080eec407a9a723e97b2e822e4",
       "outputs": [
        {
         "name": "stdout",
         "output_type": "stream",
         "text": "decimal: 11\n"
        }
       ]
      }
     },
     "0bfc9a0acdb3488183edc32b501f6108": {
      "model_module": "@jupyter-widgets/output",
      "model_module_version": "1.0.0",
      "model_name": "OutputModel",
      "state": {
       "layout": "IPY_MODEL_ab38714ecbf0423fbbbf0bad32a89765",
       "outputs": [
        {
         "name": "stdout",
         "output_type": "stream",
         "text": "decimal: 111\n"
        }
       ]
      }
     },
     "0c2dfed6ef2d4510b4ff0f1d211b782b": {
      "model_module": "@jupyter-widgets/base",
      "model_module_version": "1.2.0",
      "model_name": "LayoutModel",
      "state": {}
     },
     "0da7f3f0112a4b15a7b88ee1a873edff": {
      "model_module": "jupyter-divewidgets",
      "model_module_version": "^0.1.5",
      "model_name": "OPTWidgetModel",
      "state": {
       "_model_module_version": "^0.1.5",
       "_model_name": "OPTWidgetModel",
       "_view_module_version": "^0.1.5",
       "_view_name": "OPTWidgetView",
       "height": 700,
       "layout": "IPY_MODEL_0c2dfed6ef2d4510b4ff0f1d211b782b",
       "script": "def binary_to_decimal(binary_str):\n    k = len(binary_str)\n    decimal = 0\n    # BEGIN SOLUTION\n    c, i = 1, k\n    while i > 0:\n        i -= 1\n        decimal += c * int(binary_str[(k - 1) - i])\n        c *= 2\n    return decimal\n    # END SOLUTION\n    \n\nbinary_to_decimal(\"1100101110111010\")\n",
       "srcprefix": "https://dive4dec.github.io/optlite/#mode=display&code=",
       "width": 1100
      }
     },
     "0ddb7c0883e44f86911d8f7e7a15a6ff": {
      "model_module": "@jupyter-widgets/base",
      "model_module_version": "1.2.0",
      "model_name": "LayoutModel",
      "state": {}
     },
     "0e1d99e0f4644eb599584fb3441c86a3": {
      "model_module": "@jupyter-widgets/base",
      "model_module_version": "1.2.0",
      "model_name": "LayoutModel",
      "state": {}
     },
     "0e303f57ed25425391b45477efc666a2": {
      "model_module": "@jupyter-widgets/controls",
      "model_module_version": "1.5.0",
      "model_name": "TextModel",
      "state": {
       "description": "binary_str",
       "layout": "IPY_MODEL_84db29c8196649268510183fc3dcde9f",
       "style": "IPY_MODEL_05a8413defa9478e825202de229f7c50",
       "value": "1011"
      }
     },
     "0f6e99a2e27c4073b3202111619be26d": {
      "model_module": "@jupyter-widgets/controls",
      "model_module_version": "1.5.0",
      "model_name": "TextModel",
      "state": {
       "description": "decimal",
       "layout": "IPY_MODEL_4723912253de44b6ab2d12fa4a3a9618",
       "style": "IPY_MODEL_fdf28ae92cf64821861bd066693eaa1c",
       "value": "11"
      }
     },
     "1049e256c66c4f0ea9a5d7fddf13d536": {
      "model_module": "@jupyter-widgets/base",
      "model_module_version": "1.2.0",
      "model_name": "LayoutModel",
      "state": {}
     },
     "1188f28cb82f4c54b9f87d294a855ba4": {
      "model_module": "@jupyter-widgets/controls",
      "model_module_version": "1.5.0",
      "model_name": "TextModel",
      "state": {
       "description": "undecimal_str",
       "layout": "IPY_MODEL_a379a8db04234ae5a809a81ed180f896",
       "style": "IPY_MODEL_3272613a6ddf4dfea9611fd840afb054",
       "value": "X"
      }
     },
     "1344f526336a43f698f45ce3bd292053": {
      "model_module": "@jupyter-widgets/controls",
      "model_module_version": "1.5.0",
      "model_name": "VBoxModel",
      "state": {
       "_dom_classes": [
        "widget-interact"
       ],
       "children": [
        "IPY_MODEL_29d643a527ff4cf59c561c8f9c62c111",
        "IPY_MODEL_0a68b022245a44ceaeaa0f7c0578df05"
       ],
       "layout": "IPY_MODEL_d2ce7d05b8af48b5becd3c7803606cda"
      }
     },
     "144b60d2ffce4fdd8b48ff88b3f2eeb2": {
      "model_module": "@jupyter-widgets/controls",
      "model_module_version": "1.5.0",
      "model_name": "VBoxModel",
      "state": {
       "_dom_classes": [
        "widget-interact"
       ],
       "children": [
        "IPY_MODEL_1188f28cb82f4c54b9f87d294a855ba4",
        "IPY_MODEL_aad85f555939424c881c1124b6a5d925"
       ],
       "layout": "IPY_MODEL_7308efcecb0c439abab661e10ea7b5b3"
      }
     },
     "15d58ddf3be44019ace2a48a11c4e6d9": {
      "model_module": "@jupyter-widgets/controls",
      "model_module_version": "1.5.0",
      "model_name": "DescriptionStyleModel",
      "state": {
       "description_width": ""
      }
     },
     "16e88a8bece84589a7b814ef028e81a9": {
      "model_module": "@jupyter-widgets/controls",
      "model_module_version": "1.5.0",
      "model_name": "VBoxModel",
      "state": {
       "_dom_classes": [
        "widget-interact"
       ],
       "children": [
        "IPY_MODEL_4e9e0713662643caa3737eea66ea0558",
        "IPY_MODEL_0aed4ae9977e41958df988c974883c4f"
       ],
       "layout": "IPY_MODEL_3a10e6f43f294f2084d28fca0ce74736"
      }
     },
     "1f5b336dc56e4413aa23fa74ff873e6c": {
      "model_module": "jupyter-divewidgets",
      "model_module_version": "^0.1.5",
      "model_name": "JSWidgetModel",
      "state": {
       "_model_module_version": "^0.1.5",
       "_view_module_version": "^0.1.5",
       "height": -1,
       "html": "<!DOCTYPE html>\n<html>\n<head>\n  <script src=\"https://cdnjs.cloudflare.com/ajax/libs/raphael/2.3.0/raphael.min.js\"></script>\n  <script src=\"https://cdnjs.cloudflare.com/ajax/libs/flowchart/1.17.1/flowchart.min.js\"></script>\n    <style>\n        body {\n            padding: 0;\n            margin: 0;\n        }\n        #diagram > svg {\n          max-width:100%;\n          height: auto;\n        }\n    </style>\n</head>\n<body>\n    <div id=\"diagram\">\n    </div>\n    <script>\n    var render = (function () {\n      return (code) => {\n        document.getElementById('diagram').innerHTML = '';\n        flowchart.parse(code).drawSVG('diagram');\n      };    \n    })()\n    </script>\n</body>\n</html>",
       "js": "render(`\nst=>start: Start\ncond1=>condition: x\ncond2=>condition: if (y < x)\nsuite1=>inputoutput: print(x, y)\nsuite2=>inputoutput: print(y, x)\ne=>end\n\nst(right)->cond1\ncond1(yes)->suite1(right)->cond2\ncond1(no, right)->cond2\ncond2(yes)->suite2(right)->e\ncond2(no)->e\n`);",
       "layout": "IPY_MODEL_b812fcf366ee4b138d9bb8516254df80",
       "width": -1
      }
     },
     "222a131f60744225ae92b17e80df0c34": {
      "model_module": "@jupyter-widgets/base",
      "model_module_version": "1.2.0",
      "model_name": "LayoutModel",
      "state": {}
     },
     "29aaf150554c414fa9be108f8c5fbfec": {
      "model_module": "@jupyter-widgets/base",
      "model_module_version": "1.2.0",
      "model_name": "LayoutModel",
      "state": {}
     },
     "29d643a527ff4cf59c561c8f9c62c111": {
      "model_module": "@jupyter-widgets/controls",
      "model_module_version": "1.5.0",
      "model_name": "TextModel",
      "state": {
       "description": "decimal",
       "layout": "IPY_MODEL_6c34c71494844a1fb7141e00287823d6",
       "style": "IPY_MODEL_c833977553ee48bd8f073a625fdb54c9",
       "value": "10"
      }
     },
     "307a0c42463a490b81f7b8ebbe4f3afe": {
      "model_module": "@jupyter-widgets/controls",
      "model_module_version": "1.5.0",
      "model_name": "DescriptionStyleModel",
      "state": {
       "description_width": ""
      }
     },
     "3131fa7bc9e847ecbe5fb3639d94d847": {
      "model_module": "@jupyter-widgets/base",
      "model_module_version": "1.2.0",
      "model_name": "LayoutModel",
      "state": {}
     },
     "324350d9782047cd9f4b757c928963d9": {
      "model_module": "@jupyter-widgets/output",
      "model_module_version": "1.0.0",
      "model_name": "OutputModel",
      "state": {
       "layout": "IPY_MODEL_48ebfba7ef7c486c913aac2306dc295c",
       "outputs": [
        {
         "name": "stdout",
         "output_type": "stream",
         "text": "binary: 1011\n"
        }
       ]
      }
     },
     "3272613a6ddf4dfea9611fd840afb054": {
      "model_module": "@jupyter-widgets/controls",
      "model_module_version": "1.5.0",
      "model_name": "DescriptionStyleModel",
      "state": {
       "description_width": ""
      }
     },
     "33b42aa721a4473e9be7ad0456d2d417": {
      "model_module": "@jupyter-widgets/base",
      "model_module_version": "1.2.0",
      "model_name": "LayoutModel",
      "state": {}
     },
     "3794f4e43e844ab29e2eb210e34f5007": {
      "model_module": "@jupyter-widgets/controls",
      "model_module_version": "1.5.0",
      "model_name": "TextModel",
      "state": {
       "description": "undecimal_str",
       "layout": "IPY_MODEL_33b42aa721a4473e9be7ad0456d2d417",
       "style": "IPY_MODEL_feb14f41ba4d47f9ab60a4ca97bcabf7",
       "value": "X1"
      }
     },
     "3a10e6f43f294f2084d28fca0ce74736": {
      "model_module": "@jupyter-widgets/base",
      "model_module_version": "1.2.0",
      "model_name": "LayoutModel",
      "state": {}
     },
     "41bdd2386d1f44dba562bdd65551f846": {
      "model_module": "@jupyter-widgets/controls",
      "model_module_version": "1.5.0",
      "model_name": "VBoxModel",
      "state": {
       "_dom_classes": [
        "widget-interact"
       ],
       "children": [
        "IPY_MODEL_0e303f57ed25425391b45477efc666a2",
        "IPY_MODEL_7ea15ef8bff3482daaf3cfb90382e6e8"
       ],
       "layout": "IPY_MODEL_1049e256c66c4f0ea9a5d7fddf13d536"
      }
     },
     "44dbe9071daf4a7783e2dbad07cbc26f": {
      "model_module": "@jupyter-widgets/base",
      "model_module_version": "1.2.0",
      "model_name": "LayoutModel",
      "state": {}
     },
     "471a7a69fa024143815a4cc13af12083": {
      "model_module": "jupyter-divewidgets",
      "model_module_version": "^0.1.5",
      "model_name": "JSWidgetModel",
      "state": {
       "_model_module_version": "^0.1.5",
       "_view_module_version": "^0.1.5",
       "height": -1,
       "html": "<!DOCTYPE html>\n<html>\n<head>\n  <script src=\"https://cdnjs.cloudflare.com/ajax/libs/raphael/2.3.0/raphael.min.js\"></script>\n  <script src=\"https://cdnjs.cloudflare.com/ajax/libs/flowchart/1.17.1/flowchart.min.js\"></script>\n    <style>\n        body {\n            padding: 0;\n            margin: 0;\n        }\n        #diagram > svg {\n          max-width:100%;\n          height: auto;\n        }\n    </style>\n</head>\n<body>\n    <div id=\"diagram\">\n    </div>\n    <script>\n    var render = (function () {\n      return (code) => {\n        document.getElementById('diagram').innerHTML = '';\n        flowchart.parse(code).drawSVG('diagram');\n      };    \n    })()\n    </script>\n</body>\n</html>",
       "js": "render(`\nst=>start: Start\ncond1=>condition: $x$\ncond2=>condition: if (y < x)\nsuite1=>inputoutput: print(x, y)\nsuite2=>inputoutput: print(y, x)\ne=>end\n\nst(right)->cond1\ncond1(yes)->suite1(right)->cond2\ncond1(no, right)->cond2\ncond2(yes)->suite2(right)->e\ncond2(no)->e\n`);",
       "layout": "IPY_MODEL_7110612f9cd842e997043cfe6f6f6c87",
       "width": -1
      }
     },
     "4723912253de44b6ab2d12fa4a3a9618": {
      "model_module": "@jupyter-widgets/base",
      "model_module_version": "1.2.0",
      "model_name": "LayoutModel",
      "state": {}
     },
     "48ebfba7ef7c486c913aac2306dc295c": {
      "model_module": "@jupyter-widgets/base",
      "model_module_version": "1.2.0",
      "model_name": "LayoutModel",
      "state": {}
     },
     "4c39bb0098f54d0f8deffb9908c9aa1a": {
      "model_module": "@jupyter-widgets/controls",
      "model_module_version": "1.5.0",
      "model_name": "TextModel",
      "state": {
       "description": "decimal",
       "layout": "IPY_MODEL_ecf9ce80cd7c4ec0bb0c0fc091322c9f",
       "style": "IPY_MODEL_bf6bfe7670ef48bc81501275c1c633f5",
       "value": "10"
      }
     },
     "4d44204894f14b9db80599a3fac00f76": {
      "model_module": "@jupyter-widgets/controls",
      "model_module_version": "1.5.0",
      "model_name": "DescriptionStyleModel",
      "state": {
       "description_width": ""
      }
     },
     "4e9e0713662643caa3737eea66ea0558": {
      "model_module": "@jupyter-widgets/controls",
      "model_module_version": "1.5.0",
      "model_name": "TextModel",
      "state": {
       "description": "binary_str",
       "layout": "IPY_MODEL_6eb3c096335549ac8290a770356b8b30",
       "style": "IPY_MODEL_15d58ddf3be44019ace2a48a11c4e6d9",
       "value": "1011"
      }
     },
     "4f999ca7e2ae4a82ab39a5bc5951bf62": {
      "model_module": "@jupyter-widgets/base",
      "model_module_version": "1.2.0",
      "model_name": "LayoutModel",
      "state": {}
     },
     "5e08e800601b4262b8feb2027410323c": {
      "model_module": "@jupyter-widgets/controls",
      "model_module_version": "1.5.0",
      "model_name": "TextModel",
      "state": {
       "description": "undecimal_str",
       "layout": "IPY_MODEL_02a82d6891aa47b6901f7769862e938e",
       "style": "IPY_MODEL_4d44204894f14b9db80599a3fac00f76",
       "value": "X"
      }
     },
     "61b42a37541e4e839c4da5a51bf7343b": {
      "model_module": "@jupyter-widgets/base",
      "model_module_version": "1.2.0",
      "model_name": "LayoutModel",
      "state": {}
     },
     "63eba2f67a0545bb9d9c3ea3578cb8bd": {
      "model_module": "@jupyter-widgets/output",
      "model_module_version": "1.0.0",
      "model_name": "OutputModel",
      "state": {
       "layout": "IPY_MODEL_da67e44261b140db9a487ebeee284089",
       "outputs": [
        {
         "name": "stdout",
         "output_type": "stream",
         "text": "binary: 1011\n"
        }
       ]
      }
     },
     "650cda75af484234a10cf8b5e9857587": {
      "model_module": "@jupyter-widgets/base",
      "model_module_version": "1.2.0",
      "model_name": "LayoutModel",
      "state": {}
     },
     "65daabe8d0c84c718d9af61df17735c1": {
      "model_module": "@jupyter-widgets/controls",
      "model_module_version": "1.5.0",
      "model_name": "VBoxModel",
      "state": {
       "_dom_classes": [
        "widget-interact"
       ],
       "children": [
        "IPY_MODEL_90f44bd30e4a443fb0616de2185c9f5f",
        "IPY_MODEL_63eba2f67a0545bb9d9c3ea3578cb8bd"
       ],
       "layout": "IPY_MODEL_29aaf150554c414fa9be108f8c5fbfec"
      }
     },
     "6c0ca5aada4a4fc2a8b29a7dad37703c": {
      "model_module": "@jupyter-widgets/controls",
      "model_module_version": "1.5.0",
      "model_name": "VBoxModel",
      "state": {
       "_dom_classes": [
        "widget-interact"
       ],
       "children": [
        "IPY_MODEL_a327021db92249678100f18a950fa253",
        "IPY_MODEL_324350d9782047cd9f4b757c928963d9"
       ],
       "layout": "IPY_MODEL_8ee50170fc244cb59982ad11208aeb9c"
      }
     },
     "6c34c71494844a1fb7141e00287823d6": {
      "model_module": "@jupyter-widgets/base",
      "model_module_version": "1.2.0",
      "model_name": "LayoutModel",
      "state": {}
     },
     "6d4bb3cdf1694358b00f5550a7c99c3f": {
      "model_module": "@jupyter-widgets/base",
      "model_module_version": "1.2.0",
      "model_name": "LayoutModel",
      "state": {}
     },
     "6eb3c096335549ac8290a770356b8b30": {
      "model_module": "@jupyter-widgets/base",
      "model_module_version": "1.2.0",
      "model_name": "LayoutModel",
      "state": {}
     },
     "6f74bc0a083a4d4f8d4518cf5013f9b4": {
      "model_module": "@jupyter-widgets/base",
      "model_module_version": "1.2.0",
      "model_name": "LayoutModel",
      "state": {}
     },
     "7110612f9cd842e997043cfe6f6f6c87": {
      "model_module": "@jupyter-widgets/base",
      "model_module_version": "1.2.0",
      "model_name": "LayoutModel",
      "state": {}
     },
     "7308efcecb0c439abab661e10ea7b5b3": {
      "model_module": "@jupyter-widgets/base",
      "model_module_version": "1.2.0",
      "model_name": "LayoutModel",
      "state": {}
     },
     "75d3de0b263045508aa7f6023ad092e8": {
      "model_module": "@jupyter-widgets/output",
      "model_module_version": "1.0.0",
      "model_name": "OutputModel",
      "state": {
       "layout": "IPY_MODEL_c2ca51e97e704f57b6e863f4f1755237",
       "outputs": [
        {
         "name": "stdout",
         "output_type": "stream",
         "text": "decimal: 10\n"
        }
       ]
      }
     },
     "7d6be0e46a234147b047bc7e5355aebb": {
      "model_module": "jupyter-divewidgets",
      "model_module_version": "^0.1.5",
      "model_name": "JSWidgetModel",
      "state": {
       "_model_module_version": "^0.1.5",
       "_view_module_version": "^0.1.5",
       "height": -1,
       "html": "<!DOCTYPE html>\n<html>\n<head>\n  <script src=\"https://cdnjs.cloudflare.com/ajax/libs/raphael/2.3.0/raphael.min.js\"></script>\n  <script src=\"https://cdnjs.cloudflare.com/ajax/libs/flowchart/1.17.1/flowchart.min.js\"></script>\n    <style>\n        body {\n            padding: 0;\n            margin: 0;\n        }\n        #diagram > svg {\n          max-width:100%;\n          height: auto;\n        }\n    </style>\n</head>\n<body>\n    <div id=\"diagram\">\n    </div>\n    <script>\n    var render = (function () {\n      return (code) => {\n        document.getElementById('diagram').innerHTML = '';\n        flowchart.parse(code).drawSVG('diagram');\n      };    \n    })()\n    </script>\n</body>\n</html>",
       "js": "render(`\nst=>start: Start\ncond1=>condition: if (x <= y)\ncond2=>condition: if (y < x)\nsuite1=>inputoutput: print(x, y)\nsuite2=>inputoutput: print(y, x)\ne=>end\n\nst(right)->cond1\ncond1(yes)->suite1(right)->cond2\ncond1(no, right)->cond2\ncond2(yes)->suite2(right)->e\ncond2(no)->e\n`);",
       "layout": "IPY_MODEL_05bd7f1eb7c84c4bbe0bbe73f7f42282",
       "width": -1
      }
     },
     "7ea15ef8bff3482daaf3cfb90382e6e8": {
      "model_module": "@jupyter-widgets/output",
      "model_module_version": "1.0.0",
      "model_name": "OutputModel",
      "state": {
       "layout": "IPY_MODEL_4f999ca7e2ae4a82ab39a5bc5951bf62",
       "outputs": [
        {
         "name": "stdout",
         "output_type": "stream",
         "text": "decimal: 11\n"
        }
       ]
      }
     },
     "7efb4fae9c814323abd96dc8046697ca": {
      "model_module": "@jupyter-widgets/controls",
      "model_module_version": "1.5.0",
      "model_name": "VBoxModel",
      "state": {
       "_dom_classes": [
        "widget-interact"
       ],
       "children": [
        "IPY_MODEL_0f6e99a2e27c4073b3202111619be26d",
        "IPY_MODEL_8809bc95c65f4ebf8c91de00aa6b7cd7"
       ],
       "layout": "IPY_MODEL_ed8dd84d5829400a8fe38670ed6788f0"
      }
     },
     "84db29c8196649268510183fc3dcde9f": {
      "model_module": "@jupyter-widgets/base",
      "model_module_version": "1.2.0",
      "model_name": "LayoutModel",
      "state": {}
     },
     "87b62a6ccac6428eaba0695dc30f8e4b": {
      "model_module": "jupyter-divewidgets",
      "model_module_version": "^0.1.5",
      "model_name": "JSWidgetModel",
      "state": {
       "_model_module_version": "^0.1.5",
       "_view_module_version": "^0.1.5",
       "height": -1,
       "html": "<!DOCTYPE html>\n<html>\n<head>\n  <script src=\"https://cdnjs.cloudflare.com/ajax/libs/raphael/2.3.0/raphael.min.js\"></script>\n  <script src=\"https://cdnjs.cloudflare.com/ajax/libs/flowchart/1.17.1/flowchart.min.js\"></script>\n    <style>\n        body {\n            padding: 0;\n            margin: 0;\n        }\n        #diagram > svg {\n          max-width:100%;\n          height: auto;\n        }\n    </style>\n</head>\n<body>\n    <div id=\"diagram\">\n    </div>\n    <script>\n    var render = (function () {\n      return (code) => {\n        document.getElementById('diagram').innerHTML = '';\n        flowchart.parse(code).drawSVG('diagram');\n      };    \n    })()\n    </script>\n</body>\n</html>",
       "js": "render(`\nst=>start: Start\ncond1=>condition: <code>x</code>\ncond2=>condition: if (y < x)\nsuite1=>inputoutput: print(x, y)\nsuite2=>inputoutput: print(y, x)\ne=>end\n\nst(right)->cond1\ncond1(yes)->suite1(right)->cond2\ncond1(no, right)->cond2\ncond2(yes)->suite2(right)->e\ncond2(no)->e\n`);",
       "layout": "IPY_MODEL_8fef827deff944b8a9d13a2d11df74dc",
       "width": -1
      }
     },
     "8809bc95c65f4ebf8c91de00aa6b7cd7": {
      "model_module": "@jupyter-widgets/output",
      "model_module_version": "1.0.0",
      "model_name": "OutputModel",
      "state": {
       "layout": "IPY_MODEL_0e1d99e0f4644eb599584fb3441c86a3",
       "outputs": [
        {
         "name": "stdout",
         "output_type": "stream",
         "text": "binary: 1011\n"
        }
       ]
      }
     },
     "8c0d9930408f4d5eb62304021610e4b9": {
      "model_module": "@jupyter-widgets/base",
      "model_module_version": "1.2.0",
      "model_name": "LayoutModel",
      "state": {}
     },
     "8c8f4b4d20c743c6944b4fabafc35fd8": {
      "model_module": "jupyter-divewidgets",
      "model_module_version": "^0.1.5",
      "model_name": "JSWidgetModel",
      "state": {
       "_model_module_version": "^0.1.5",
       "_view_module_version": "^0.1.5",
       "height": -1,
       "html": "<!DOCTYPE html>\n<html>\n<head>\n  <script src=\"https://cdnjs.cloudflare.com/ajax/libs/raphael/2.3.0/raphael.min.js\"></script>\n  <script src=\"https://cdnjs.cloudflare.com/ajax/libs/flowchart/1.17.1/flowchart.min.js\"></script>\n    <style>\n        body {\n            padding: 0;\n            margin: 0;\n        }\n        #diagram > svg {\n          max-width:100%;\n          height: auto;\n        }\n    </style>\n</head>\n<body>\n    <div id=\"diagram\">\n    </div>\n    <script>\n    var render = (function () {\n      return (code) => {\n        document.getElementById('diagram').innerHTML = '';\n        flowchart.parse(code).drawSVG('diagram');\n      };    \n    })()\n    </script>\n</body>\n</html>",
       "js": "render(`\nst=>start: Start\ncond1=>condition: `x`\ncond2=>condition: if (y < x)\nsuite1=>inputoutput: print(x, y)\nsuite2=>inputoutput: print(y, x)\ne=>end\n\nst(right)->cond1\ncond1(yes)->suite1(right)->cond2\ncond1(no, right)->cond2\ncond2(yes)->suite2(right)->e\ncond2(no)->e\n`);",
       "layout": "IPY_MODEL_6d4bb3cdf1694358b00f5550a7c99c3f",
       "width": -1
      }
     },
     "8cbec712e18c48c0a42c2edd767c4aa6": {
      "model_module": "@jupyter-widgets/controls",
      "model_module_version": "1.5.0",
      "model_name": "VBoxModel",
      "state": {
       "_dom_classes": [
        "widget-interact"
       ],
       "children": [
        "IPY_MODEL_5e08e800601b4262b8feb2027410323c",
        "IPY_MODEL_75d3de0b263045508aa7f6023ad092e8"
       ],
       "layout": "IPY_MODEL_3131fa7bc9e847ecbe5fb3639d94d847"
      }
     },
     "8ee50170fc244cb59982ad11208aeb9c": {
      "model_module": "@jupyter-widgets/base",
      "model_module_version": "1.2.0",
      "model_name": "LayoutModel",
      "state": {}
     },
     "8fef827deff944b8a9d13a2d11df74dc": {
      "model_module": "@jupyter-widgets/base",
      "model_module_version": "1.2.0",
      "model_name": "LayoutModel",
      "state": {}
     },
     "90f44bd30e4a443fb0616de2185c9f5f": {
      "model_module": "@jupyter-widgets/controls",
      "model_module_version": "1.5.0",
      "model_name": "TextModel",
      "state": {
       "description": "decimal",
       "layout": "IPY_MODEL_f90569fe7c7a4d448ea225894790ad50",
       "style": "IPY_MODEL_d30212c7ab6d402fa48d8235fb35d9f7",
       "value": "11"
      }
     },
     "9cfe6356840a4c95a7a6d25fc0b573bc": {
      "model_module": "jupyter-divewidgets",
      "model_module_version": "^0.1.5",
      "model_name": "JSWidgetModel",
      "state": {
       "_model_module_version": "^0.1.5",
       "_view_module_version": "^0.1.5",
       "height": -1,
       "html": "<!DOCTYPE html>\n<html>\n<head>\n  <script src=\"https://cdnjs.cloudflare.com/ajax/libs/raphael/2.3.0/raphael.min.js\"></script>\n  <script src=\"https://cdnjs.cloudflare.com/ajax/libs/flowchart/1.17.1/flowchart.min.js\"></script>\n    <style>\n        body {\n            padding: 0;\n            margin: 0;\n        }\n        #diagram > svg {\n          max-width:100%;\n          height: auto;\n        }\n    </style>\n</head>\n<body>\n    <div id=\"diagram\">\n    </div>\n    <script>\n    var render = (function () {\n      return (code) => {\n        document.getElementById('diagram').innerHTML = '';\n        flowchart.parse(code).drawSVG('diagram');\n      };    \n    })()\n    </script>\n</body>\n</html>",
       "js": "render(`\nst=>start: Start\ncond1=>condition: if (x <= y)\ncond2=>condition: if (y < x)\nsuite1=>inputoutput: print(x, y)\nsuite2=>inputoutput: print(y, x)\ne=>end\n\nst(right)->cond1\ncond1(yes)->suite1(right)->cond2\ncond1(no, right)->cond2\ncond2(yes)->suite2(right)->e\ncond2(no)->e\n`);",
       "layout": "IPY_MODEL_44dbe9071daf4a7783e2dbad07cbc26f",
       "width": -1
      }
     },
     "9f835db34f7144f79b4ecc7bd6a04ca2": {
      "model_module": "@jupyter-widgets/base",
      "model_module_version": "1.2.0",
      "model_name": "LayoutModel",
      "state": {}
     },
     "a29afd080eec407a9a723e97b2e822e4": {
      "model_module": "@jupyter-widgets/base",
      "model_module_version": "1.2.0",
      "model_name": "LayoutModel",
      "state": {}
     },
     "a327021db92249678100f18a950fa253": {
      "model_module": "@jupyter-widgets/controls",
      "model_module_version": "1.5.0",
      "model_name": "TextModel",
      "state": {
       "description": "decimal",
       "layout": "IPY_MODEL_deff32a0cdeb4d818492994b39f95a43",
       "style": "IPY_MODEL_b8483b9065a146b4b1520a571f152ca8",
       "value": "11"
      }
     },
     "a379a8db04234ae5a809a81ed180f896": {
      "model_module": "@jupyter-widgets/base",
      "model_module_version": "1.2.0",
      "model_name": "LayoutModel",
      "state": {}
     },
     "aad85f555939424c881c1124b6a5d925": {
      "model_module": "@jupyter-widgets/output",
      "model_module_version": "1.0.0",
      "model_name": "OutputModel",
      "state": {
       "layout": "IPY_MODEL_010c2a9796ea46e986958ec4733e029e",
       "outputs": [
        {
         "name": "stdout",
         "output_type": "stream",
         "text": "decimal: 10\n"
        }
       ]
      }
     },
     "ab38714ecbf0423fbbbf0bad32a89765": {
      "model_module": "@jupyter-widgets/base",
      "model_module_version": "1.2.0",
      "model_name": "LayoutModel",
      "state": {}
     },
     "ab537b5b99e5401387ee14c9dca62a36": {
      "model_module": "@jupyter-widgets/controls",
      "model_module_version": "1.5.0",
      "model_name": "VBoxModel",
      "state": {
       "_dom_classes": [
        "widget-interact"
       ],
       "children": [
        "IPY_MODEL_c5feba41966b4c4ebe66855ff45ff8a3",
        "IPY_MODEL_c848db95aaac415f948353848cbfece0"
       ],
       "layout": "IPY_MODEL_8c0d9930408f4d5eb62304021610e4b9"
      }
     },
     "aee51b65571249bfa025c6d2935f6abf": {
      "model_module": "@jupyter-widgets/output",
      "model_module_version": "1.0.0",
      "model_name": "OutputModel",
      "state": {
       "layout": "IPY_MODEL_61b42a37541e4e839c4da5a51bf7343b",
       "outputs": [
        {
         "name": "stdout",
         "output_type": "stream",
         "text": "undecimal: X\n"
        }
       ]
      }
     },
     "af9ba263bb5c4610801b061100cc58ea": {
      "model_module": "@jupyter-widgets/controls",
      "model_module_version": "1.5.0",
      "model_name": "VBoxModel",
      "state": {
       "_dom_classes": [
        "widget-interact"
       ],
       "children": [
        "IPY_MODEL_4c39bb0098f54d0f8deffb9908c9aa1a",
        "IPY_MODEL_aee51b65571249bfa025c6d2935f6abf"
       ],
       "layout": "IPY_MODEL_0ddb7c0883e44f86911d8f7e7a15a6ff"
      }
     },
     "b56df401c3fb47d08b6c2c715061d5b0": {
      "model_module": "@jupyter-widgets/base",
      "model_module_version": "1.2.0",
      "model_name": "LayoutModel",
      "state": {}
     },
     "b812fcf366ee4b138d9bb8516254df80": {
      "model_module": "@jupyter-widgets/base",
      "model_module_version": "1.2.0",
      "model_name": "LayoutModel",
      "state": {}
     },
     "b8483b9065a146b4b1520a571f152ca8": {
      "model_module": "@jupyter-widgets/controls",
      "model_module_version": "1.5.0",
      "model_name": "DescriptionStyleModel",
      "state": {
       "description_width": ""
      }
     },
     "bf6bfe7670ef48bc81501275c1c633f5": {
      "model_module": "@jupyter-widgets/controls",
      "model_module_version": "1.5.0",
      "model_name": "DescriptionStyleModel",
      "state": {
       "description_width": ""
      }
     },
     "c11a52ff371b4b36b550d32634c03c49": {
      "model_module": "jupyter-divewidgets",
      "model_module_version": "^0.1.5",
      "model_name": "JSWidgetModel",
      "state": {
       "_model_module_version": "^0.1.5",
       "_view_module_version": "^0.1.5",
       "height": -1,
       "html": "<!DOCTYPE html>\n<html>\n<head>\n  <script src=\"https://cdnjs.cloudflare.com/ajax/libs/raphael/2.3.0/raphael.min.js\"></script>\n  <script src=\"https://cdnjs.cloudflare.com/ajax/libs/flowchart/1.17.1/flowchart.min.js\"></script>\n    <style>\n        body {\n            padding: 0;\n            margin: 0;\n        }\n        #diagram > svg {\n          max-width:100%;\n          height: auto;\n        }\n    </style>\n</head>\n<body>\n    <div id=\"diagram\">\n    </div>\n    <script>\n    var render = (function () {\n      return (code) => {\n        document.getElementById('diagram').innerHTML = '';\n        flowchart.parse(code).drawSVG('diagram');\n      };    \n    })()\n    </script>\n</body>\n</html>",
       "js": "render(`\nst=>start: Start\ncond1=>condition: k\ncond2=>condition: if (y < x)\nsuite1=>inputoutput: print(x, y)\nsuite2=>inputoutput: print(y, x)\ne=>end\n\nst(right)->cond1\ncond1(yes)->suite1(right)->cond2\ncond1(no, right)->cond2\ncond2(yes)->suite2(right)->e\ncond2(no)->e\n`);",
       "layout": "IPY_MODEL_9f835db34f7144f79b4ecc7bd6a04ca2",
       "width": -1
      }
     },
     "c2ca51e97e704f57b6e863f4f1755237": {
      "model_module": "@jupyter-widgets/base",
      "model_module_version": "1.2.0",
      "model_name": "LayoutModel",
      "state": {}
     },
     "c5feba41966b4c4ebe66855ff45ff8a3": {
      "model_module": "@jupyter-widgets/controls",
      "model_module_version": "1.5.0",
      "model_name": "TextModel",
      "state": {
       "description": "decimal",
       "layout": "IPY_MODEL_222a131f60744225ae92b17e80df0c34",
       "style": "IPY_MODEL_307a0c42463a490b81f7b8ebbe4f3afe",
       "value": "11"
      }
     },
     "c833977553ee48bd8f073a625fdb54c9": {
      "model_module": "@jupyter-widgets/controls",
      "model_module_version": "1.5.0",
      "model_name": "DescriptionStyleModel",
      "state": {
       "description_width": ""
      }
     },
     "c848db95aaac415f948353848cbfece0": {
      "model_module": "@jupyter-widgets/output",
      "model_module_version": "1.0.0",
      "model_name": "OutputModel",
      "state": {
       "layout": "IPY_MODEL_6f74bc0a083a4d4f8d4518cf5013f9b4",
       "outputs": [
        {
         "name": "stdout",
         "output_type": "stream",
         "text": "binary: 1011\n"
        }
       ]
      }
     },
     "cb5586ce64bd4341aecb9f83712a6094": {
      "model_module": "@jupyter-widgets/controls",
      "model_module_version": "1.5.0",
      "model_name": "VBoxModel",
      "state": {
       "_dom_classes": [
        "widget-interact"
       ],
       "children": [
        "IPY_MODEL_3794f4e43e844ab29e2eb210e34f5007",
        "IPY_MODEL_0bfc9a0acdb3488183edc32b501f6108"
       ],
       "layout": "IPY_MODEL_650cda75af484234a10cf8b5e9857587"
      }
     },
     "d2ce7d05b8af48b5becd3c7803606cda": {
      "model_module": "@jupyter-widgets/base",
      "model_module_version": "1.2.0",
      "model_name": "LayoutModel",
      "state": {}
     },
     "d30212c7ab6d402fa48d8235fb35d9f7": {
      "model_module": "@jupyter-widgets/controls",
      "model_module_version": "1.5.0",
      "model_name": "DescriptionStyleModel",
      "state": {
       "description_width": ""
      }
     },
     "da67e44261b140db9a487ebeee284089": {
      "model_module": "@jupyter-widgets/base",
      "model_module_version": "1.2.0",
      "model_name": "LayoutModel",
      "state": {}
     },
     "deff32a0cdeb4d818492994b39f95a43": {
      "model_module": "@jupyter-widgets/base",
      "model_module_version": "1.2.0",
      "model_name": "LayoutModel",
      "state": {}
     },
     "ecf9ce80cd7c4ec0bb0c0fc091322c9f": {
      "model_module": "@jupyter-widgets/base",
      "model_module_version": "1.2.0",
      "model_name": "LayoutModel",
      "state": {}
     },
     "ed8dd84d5829400a8fe38670ed6788f0": {
      "model_module": "@jupyter-widgets/base",
      "model_module_version": "1.2.0",
      "model_name": "LayoutModel",
      "state": {}
     },
     "f90569fe7c7a4d448ea225894790ad50": {
      "model_module": "@jupyter-widgets/base",
      "model_module_version": "1.2.0",
      "model_name": "LayoutModel",
      "state": {}
     },
     "fdf28ae92cf64821861bd066693eaa1c": {
      "model_module": "@jupyter-widgets/controls",
      "model_module_version": "1.5.0",
      "model_name": "DescriptionStyleModel",
      "state": {
       "description_width": ""
      }
     },
     "feb14f41ba4d47f9ab60a4ca97bcabf7": {
      "model_module": "@jupyter-widgets/controls",
      "model_module_version": "1.5.0",
      "model_name": "DescriptionStyleModel",
      "state": {
       "description_width": ""
      }
     }
    },
    "version_major": 2,
    "version_minor": 0
   }
  }
 },
 "nbformat": 4,
 "nbformat_minor": 4
}
