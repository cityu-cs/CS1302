{
 "cells": [
  {
   "cell_type": "raw",
   "metadata": {},
   "source": [
    "# ASSIGNMENT CONFIG\n",
    "requirements: requirements.txt\n",
    "init_cell: false\n",
    "export_cell: false\n",
    "files: [\"requirements.txt\", \"markposition.py\"]\n",
    "generate:\n",
    "    show_hidden: true"
   ]
  },
  {
   "cell_type": "code",
   "execution_count": 1,
   "metadata": {
    "deletable": false,
    "editable": false,
    "tags": []
   },
   "outputs": [],
   "source": [
    "# Initialization cell\n",
    "try:  # for CS1302 JupyterLite pyodide kernel\n",
    "    import piplite\n",
    "\n",
    "    with open(\"requirements.txt\") as f:\n",
    "        for package in f:\n",
    "            package = package.strip()\n",
    "            print(\"Installing\", package)\n",
    "            await piplite.install(package)\n",
    "except ModuleNotFoundError:\n",
    "    pass\n",
    "\n",
    "import random\n",
    "import jupytext\n",
    "import otter\n",
    "from ipywidgets import interact\n",
    "\n",
    "grader = otter.Notebook(\"main.ipynb\")\n",
    "%reload_ext divewidgets"
   ]
  },
  {
   "cell_type": "markdown",
   "metadata": {
    "slideshow": {
     "slide_type": "slide"
    }
   },
   "source": [
    "# Lab 4: Mastermind"
   ]
  },
  {
   "cell_type": "markdown",
   "metadata": {
    "slideshow": {
     "slide_type": "-"
    },
    "tags": [
     "remove-cell"
    ]
   },
   "source": [
    "**CS1302 Introduction to Computer Programming**\n",
    "___"
   ]
  },
  {
   "cell_type": "markdown",
   "metadata": {
    "slideshow": {
     "slide_type": "subslide"
    }
   },
   "source": [
    "In this notebook, you will write a game called [*Mastermind*](https://en.wikipedia.org/wiki/Mastermind_(board_game)). Play the video below to learn about the rule of the game."
   ]
  },
  {
   "cell_type": "code",
   "execution_count": 2,
   "metadata": {
    "ExecuteTime": {
     "end_time": "2021-03-20T14:28:46.995874Z",
     "start_time": "2021-03-20T14:28:46.982289Z"
    },
    "code_folding": [
     0
    ],
    "slideshow": {
     "slide_type": "-"
    },
    "tags": [
     "hide-input"
    ]
   },
   "outputs": [
    {
     "data": {
      "text/html": [
       "<iframe width=\"800\" height=\"415\" src=\"https://www.youtube.com/embed/wsYPsrzCKiA\" frameborder=\"0\" allow=\"accelerometer; autoplay; encrypted-media; gyroscope; picture-in-picture\" allowfullscreen></iframe>\n"
      ],
      "text/plain": [
       "<IPython.core.display.HTML object>"
      ]
     },
     "metadata": {},
     "output_type": "display_data"
    }
   ],
   "source": [
    "%%html\n",
    "<iframe width=\"800\" height=\"415\" src=\"https://www.youtube.com/embed/wsYPsrzCKiA\" frameborder=\"0\" allow=\"accelerometer; autoplay; encrypted-media; gyroscope; picture-in-picture\" allowfullscreen></iframe>"
   ]
  },
  {
   "cell_type": "markdown",
   "metadata": {},
   "source": [
    "1. **Mastermind** first creates a hidden `code` of length `code_length` consisting code pegs with possibly duplicate colors chosen from a sequence of `colors`.\n",
    "1. **Coderbreaker** provides a `guess` of the `code`.\n",
    "1. **Mastermind** generates a `feedback` consisting of key pegs of black and white colors:\n",
    "    - The number of black pegs (`black_key_pegs_count`) is the number of code pegs that are the correct colors in the correct positions. \n",
    "    - The number of white pegs (`white_key_pegs_count`) is the number of code pegs that are the correct colors but in incorrect positions.\n",
    "    - Each code peg should be counted only once, i.e., a code peg cannot be awarded more than one key peg. E.g.,\n",
    "        - If the `code` is `'RBGG'` and `guess` is `'BGGG'`, then \n",
    "        - the feedback should be `'bbw'` with \n",
    "            - `black_key_pegs_count == 2` because of `__GG` in the guess, and\n",
    "            - `white_key_pegs_count == 1` because of `_B__` in the guess. \n",
    "            - `_G__` in the `guess` should not be awarded an additional white peg because `__GG` in the `code` has been counted.\n",
    "1. **Codebreaker** wins if the code is correctly guessed within a certain number (`max_num_guesses`) of guesses."
   ]
  },
  {
   "cell_type": "markdown",
   "metadata": {
    "slideshow": {
     "slide_type": "slide"
    }
   },
   "source": [
    "## Random Code Generation"
   ]
  },
  {
   "cell_type": "markdown",
   "metadata": {},
   "source": [
    "The first exercise is to generate a random hidden code so even one person can play the game as Codebreaker. Watch the following video to understand how computers generate random numbers."
   ]
  },
  {
   "cell_type": "code",
   "execution_count": 3,
   "metadata": {
    "ExecuteTime": {
     "end_time": "2021-03-20T14:28:51.573193Z",
     "start_time": "2021-03-20T14:28:51.569861Z"
    },
    "code_folding": [],
    "tags": [
     "hide-input"
    ]
   },
   "outputs": [
    {
     "data": {
      "text/html": [
       "<iframe width=\"800\" height=\"450\" src=\"https://www.youtube.com/embed/GtOt7EBNEwQ\" frameborder=\"0\" allow=\"accelerometer; autoplay; clipboard-write; encrypted-media; gyroscope; picture-in-picture\" allowfullscreen></iframe>\n"
      ],
      "text/plain": [
       "<IPython.core.display.HTML object>"
      ]
     },
     "metadata": {},
     "output_type": "display_data"
    }
   ],
   "source": [
    "%%html\n",
    "<iframe width=\"800\" height=\"450\" src=\"https://www.youtube.com/embed/GtOt7EBNEwQ\" frameborder=\"0\" allow=\"accelerometer; autoplay; clipboard-write; encrypted-media; gyroscope; picture-in-picture\" allowfullscreen></iframe>\n"
   ]
  },
  {
   "cell_type": "markdown",
   "metadata": {},
   "source": [
    "To generate random content in Python, we can use the `random` module imported at the beginning of the notebook. The module provides some useful functions to generate random objects as follows."
   ]
  },
  {
   "cell_type": "code",
   "execution_count": 4,
   "metadata": {
    "ExecuteTime": {
     "end_time": "2021-03-20T14:29:01.431460Z",
     "start_time": "2021-03-20T14:29:01.41229Z"
    }
   },
   "outputs": [
    {
     "name": "stdout",
     "output_type": "stream",
     "text": [
      "0.9814165383231955\n",
      "0.6421343621322755\n",
      "0.4803084708927421\n",
      "0.2874404379571761\n",
      "0.05798132517544896\n",
      "0.7404045509818223\n",
      "0.2902283873453383\n",
      "0.6777100218479697\n",
      "0.3858629734301441\n",
      "0.23333289073623054\n"
     ]
    }
   ],
   "source": [
    "for i in range(10):\n",
    "    print(random.random())  # random floating point numbers in [0,1)"
   ]
  },
  {
   "cell_type": "code",
   "execution_count": 5,
   "metadata": {
    "ExecuteTime": {
     "end_time": "2021-03-20T14:29:01.649197Z",
     "start_time": "2021-03-20T14:29:01.647208Z"
    }
   },
   "outputs": [
    {
     "name": "stdout",
     "output_type": "stream",
     "text": [
      "10 7 3 10 9 9 8 6 9 5 "
     ]
    }
   ],
   "source": [
    "for i in range(10):\n",
    "    print(random.randint(3, 10), end=\" \")  # random integer in range [3,10]"
   ]
  },
  {
   "cell_type": "code",
   "execution_count": 6,
   "metadata": {
    "ExecuteTime": {
     "end_time": "2021-03-20T14:29:02.316654Z",
     "start_time": "2021-03-20T14:29:02.314428Z"
    }
   },
   "outputs": [
    {
     "name": "stdout",
     "output_type": "stream",
     "text": [
      "GBBGBBGGGR"
     ]
    }
   ],
   "source": [
    "for i in range(10):\n",
    "    print(random.choice(\"RBG\"), end=\"\")  # random element in the sequence 'RBG'"
   ]
  },
  {
   "cell_type": "markdown",
   "metadata": {},
   "source": [
    "We can generate a reproducible *pseudo-random* sequence by specifying the *seed*."
   ]
  },
  {
   "cell_type": "code",
   "execution_count": 7,
   "metadata": {
    "ExecuteTime": {
     "end_time": "2021-03-20T14:29:04.926235Z",
     "start_time": "2021-03-20T14:29:04.923935Z"
    },
    "tags": []
   },
   "outputs": [
    {
     "name": "stdout",
     "output_type": "stream",
     "text": [
      "7 3 5 3 4 3 7 3 4 6 "
     ]
    }
   ],
   "source": [
    "# repeatedly run the cell to see new sequences.\n",
    "random.seed(123456)\n",
    "for i in range(10):\n",
    "    print(random.randint(3, 10), end=\" \")"
   ]
  },
  {
   "cell_type": "markdown",
   "metadata": {},
   "source": [
    "By default `random` uses the system time as the seed. We can call `seed` without any argument to revert to the default behavior."
   ]
  },
  {
   "cell_type": "code",
   "execution_count": 8,
   "metadata": {},
   "outputs": [
    {
     "name": "stdout",
     "output_type": "stream",
     "text": [
      "7 4 4 3 10 4 5 6 3 7 "
     ]
    }
   ],
   "source": [
    "# repeatedly run the cell to see new sequences.\n",
    "random.seed()\n",
    "for i in range(10):\n",
    "    print(random.randint(3, 10), end=\" \")"
   ]
  },
  {
   "cell_type": "raw",
   "metadata": {},
   "source": [
    "# BEGIN QUESTION\n",
    "name: get-code"
   ]
  },
  {
   "cell_type": "markdown",
   "metadata": {},
   "source": [
    "**Exercise** (get-code)\n",
    "\n",
    "Define a function that generates a random `code`. The functions take in\n",
    "- a string `colors` whose characters represent distinct colors to choose from, and\n",
    "- a positive integer `code_length` representing the length of the code.\n",
    "\n",
    "For instance, `get_code('ROYGBP',4)` returns a code of `4` code pegs randomly with colors chosen from \n",
    "- `'R'`ed, \n",
    "- `'O'`range, \n",
    "- `'Y'`ellow, \n",
    "- `'G'`reen, \n",
    "- `'B'`lue, and \n",
    "- `'P'`urple. \n",
    "\n",
    "One possible outcome is `'ROYY'`."
   ]
  },
  {
   "cell_type": "raw",
   "metadata": {},
   "source": [
    "# BEGIN SOLUTION"
   ]
  },
  {
   "cell_type": "code",
   "execution_count": 9,
   "metadata": {
    "deletable": false,
    "editable": false,
    "tags": []
   },
   "outputs": [],
   "source": [
    "import random"
   ]
  },
  {
   "cell_type": "code",
   "execution_count": 10,
   "metadata": {
    "ExecuteTime": {
     "end_time": "2021-03-20T14:29:08.415920Z",
     "start_time": "2021-03-20T14:29:08.39542Z"
    },
    "nbgrader": {
     "grade": false,
     "grade_id": "get_code",
     "locked": false,
     "schema_version": 3,
     "solution": true,
     "task": false
    },
    "tags": [
     "remove-output"
    ]
   },
   "outputs": [],
   "source": [
    "def get_code(colors, code_length):\n",
    "    code = ''\n",
    "    # BEGIN SOLUTION\n",
    "    for i in range(code_length):\n",
    "        code += random.choice(colors)\n",
    "    # END SOLUTION\n",
    "    return code"
   ]
  },
  {
   "cell_type": "raw",
   "metadata": {},
   "source": [
    "# END SOLUTION"
   ]
  },
  {
   "cell_type": "raw",
   "metadata": {},
   "source": [
    "# BEGIN TESTS"
   ]
  },
  {
   "cell_type": "code",
   "execution_count": 11,
   "metadata": {
    "ExecuteTime": {
     "end_time": "2021-03-20T14:29:11.169961Z",
     "start_time": "2021-03-20T14:29:11.165973Z"
    },
    "code_folding": [],
    "nbgrader": {
     "grade": true,
     "grade_id": "test-get_code",
     "locked": true,
     "points": 1,
     "schema_version": 3,
     "solution": false,
     "task": false
    },
    "slideshow": {
     "slide_type": "-"
    },
    "tags": [
     "remove-output",
     "remove-cell"
    ]
   },
   "outputs": [],
   "source": [
    "# tests\n",
    "def test_get_code(colors, code_length):\n",
    "    code = get_code(colors, code_length)\n",
    "    if len(code) != code_length:\n",
    "        return False\n",
    "    for c in code:\n",
    "        if c not in colors:\n",
    "            return False\n",
    "    return True\n",
    "\n",
    "for l in range(10):\n",
    "    assert test_get_code(\"ROY\", l)"
   ]
  },
  {
   "cell_type": "code",
   "execution_count": 12,
   "metadata": {
    "ExecuteTime": {
     "end_time": "2021-03-20T14:29:11.169961Z",
     "start_time": "2021-03-20T14:29:11.165973Z"
    },
    "code_folding": [],
    "nbgrader": {
     "grade": true,
     "grade_id": "test-get_code",
     "locked": true,
     "points": 1,
     "schema_version": 3,
     "solution": false,
     "task": false
    },
    "slideshow": {
     "slide_type": "-"
    },
    "tags": [
     "remove-output",
     "remove-cell"
    ]
   },
   "outputs": [],
   "source": [
    "# HIDDEN\n",
    "### BEGIN HIDDEN TESTS\n",
    "def test_get_code(colors, code_length):\n",
    "    code = get_code(colors, code_length)\n",
    "    if len(code) != code_length:\n",
    "        return False\n",
    "    for c in code:\n",
    "        if c not in colors:\n",
    "            return False\n",
    "    return True\n",
    "\n",
    "\n",
    "# Unused color codes to check whether the function is really reading from input string\n",
    "for l in range(10):\n",
    "    assert test_get_code(\"ACDEFHIJ\", l)\n",
    "### END HIDDEN TESTS"
   ]
  },
  {
   "cell_type": "raw",
   "metadata": {},
   "source": [
    "# END TESTS"
   ]
  },
  {
   "cell_type": "raw",
   "metadata": {},
   "source": [
    "# END QUESTION"
   ]
  },
  {
   "cell_type": "markdown",
   "metadata": {
    "slideshow": {
     "slide_type": "subslide"
    }
   },
   "source": [
    "## Guess Validation"
   ]
  },
  {
   "cell_type": "raw",
   "metadata": {},
   "source": [
    "# BEGIN QUESTION\n",
    "name: valid-code"
   ]
  },
  {
   "cell_type": "markdown",
   "metadata": {
    "slideshow": {
     "slide_type": "fragment"
    }
   },
   "source": [
    "**Exercise** (valid-code)\n",
    "\n",
    "Define a function `valid_code` that \n",
    "- takes `colors`, `code_length`, and `guess` as the first, second, and third arguments respectively, and\n",
    "- returns `True` if `guess` is a valid code, i.e., a string of length `code_length` with characters from those of `colors`, and\n",
    "- `False` otherwise."
   ]
  },
  {
   "cell_type": "raw",
   "metadata": {},
   "source": [
    "# BEGIN SOLUTION"
   ]
  },
  {
   "cell_type": "code",
   "execution_count": 13,
   "metadata": {
    "ExecuteTime": {
     "end_time": "2021-03-20T14:29:19.344721Z",
     "start_time": "2021-03-20T14:29:19.341125Z"
    },
    "nbgrader": {
     "grade": false,
     "grade_id": "valid_code",
     "locked": false,
     "schema_version": 3,
     "solution": true,
     "task": false
    },
    "slideshow": {
     "slide_type": "skip"
    },
    "tags": [
     "remove-output"
    ]
   },
   "outputs": [],
   "source": [
    "# BEGIN SOLUTION NO PROMPT\n",
    "def valid_code(colors, code_length, guess):\n",
    "    if len(guess) != code_length:\n",
    "        is_valid = False\n",
    "    else:\n",
    "        for peg in guess:\n",
    "            for color in colors:\n",
    "                if peg == color:\n",
    "                    break\n",
    "            else:\n",
    "                is_valid = False\n",
    "                break\n",
    "        else:\n",
    "            is_valid = True\n",
    "    return is_valid\n",
    "# END SOLUTION\n",
    "\"\"\" # BEGIN PROMPT\n",
    "def ...(colors, code_length, guess):\n",
    "    if len(guess) ... code_length:\n",
    "        is_valid = ...\n",
    "    else:\n",
    "        for peg in guess:\n",
    "            for color in colors:\n",
    "                if peg == color: ...\n",
    "            else:\n",
    "                is_valid = ...\n",
    "                ...\n",
    "        else:\n",
    "            is_valid = ...\n",
    "    return is_valid\n",
    "\"\"\"; # END PROMPT"
   ]
  },
  {
   "cell_type": "raw",
   "metadata": {},
   "source": [
    "# END SOLUTION"
   ]
  },
  {
   "cell_type": "raw",
   "metadata": {},
   "source": [
    "# BEGIN TESTS"
   ]
  },
  {
   "cell_type": "code",
   "execution_count": 14,
   "metadata": {
    "ExecuteTime": {
     "end_time": "2021-03-20T14:29:26.375619Z",
     "start_time": "2021-03-20T14:29:26.371528Z"
    },
    "code_folding": [
     0
    ],
    "nbgrader": {
     "grade": true,
     "grade_id": "test-valid_code",
     "locked": true,
     "points": 1,
     "schema_version": 3,
     "solution": false,
     "task": false
    },
    "slideshow": {
     "slide_type": "skip"
    },
    "tags": [
     "remove-output",
     "hide-input"
    ]
   },
   "outputs": [],
   "source": [
    "# tests\n",
    "assert valid_code(\"RBG\", 1, \"R\") == True\n",
    "assert valid_code(\"RBG\", 2, \"B\") == False\n",
    "assert valid_code(\"RBG\", 2, \"RP\") == False\n",
    "assert valid_code(\"RBG\", 0, \"\") == True"
   ]
  },
  {
   "cell_type": "code",
   "execution_count": 15,
   "metadata": {
    "nbgrader": {
     "grade": true,
     "grade_id": "hidden_test-valid_code",
     "locked": true,
     "points": 1,
     "schema_version": 3,
     "solution": false,
     "task": false
    },
    "tags": [
     "remove-cell"
    ]
   },
   "outputs": [],
   "source": [
    "# HIDDEN\n",
    "### BEGIN HIDDEN TESTS\n",
    "assert valid_code(\"RBG\", 4, \"RBBG\") == True\n",
    "assert valid_code(\"RBGY\", 2, \"BY\") == True\n",
    "assert valid_code(\"RBGY\", 5, \"RBGY\") == False\n",
    "### END HIDDEN TESTS"
   ]
  },
  {
   "cell_type": "raw",
   "metadata": {},
   "source": [
    "# END TESTS"
   ]
  },
  {
   "cell_type": "raw",
   "metadata": {},
   "source": [
    "# END QUESTION"
   ]
  },
  {
   "cell_type": "markdown",
   "metadata": {
    "slideshow": {
     "slide_type": "subslide"
    }
   },
   "source": [
    "## Feedback Generation"
   ]
  },
  {
   "cell_type": "markdown",
   "metadata": {},
   "source": [
    "According to the rules of Mastermind, double-counting of a single peg (as black and white) is not allowed. To facilitate this check, we have written a new module `markposition` that allows you to mark any non-negative integer position as counted."
   ]
  },
  {
   "cell_type": "raw",
   "metadata": {},
   "source": [
    "# BEGIN QUESTION\n",
    "name: import"
   ]
  },
  {
   "cell_type": "markdown",
   "metadata": {},
   "source": [
    "**Exercise** (import)\n",
    "\n",
    "Write an `import` statement to import from the module `markposition` the functions \n",
    "- `mark_as_counted`\n",
    "- `check_if_counted`, and \n",
    "- `reset_all_to_not_counted`."
   ]
  },
  {
   "cell_type": "raw",
   "metadata": {},
   "source": [
    "# BEGIN SOLUTION"
   ]
  },
  {
   "cell_type": "code",
   "execution_count": 16,
   "metadata": {
    "ExecuteTime": {
     "end_time": "2021-03-20T14:29:28.889312Z",
     "start_time": "2021-03-20T14:29:28.884162Z"
    },
    "nbgrader": {
     "grade": false,
     "grade_id": "markposition",
     "locked": false,
     "schema_version": 3,
     "solution": true,
     "task": false
    },
    "tags": [
     "remove-output"
    ]
   },
   "outputs": [],
   "source": [
    "# BEGIN SOLUTION\n",
    "from markposition import check_if_counted, mark_as_counted, reset_all_to_not_counted\n",
    "# END SOLUTION"
   ]
  },
  {
   "cell_type": "raw",
   "metadata": {},
   "source": [
    "# END SOLUTION"
   ]
  },
  {
   "cell_type": "raw",
   "metadata": {},
   "source": [
    "# BEGIN TESTS"
   ]
  },
  {
   "cell_type": "code",
   "execution_count": 17,
   "metadata": {
    "ExecuteTime": {
     "end_time": "2021-03-20T14:29:29.520629Z",
     "start_time": "2021-03-20T14:29:29.518462Z"
    },
    "code_folding": [
     0
    ],
    "nbgrader": {
     "grade": true,
     "grade_id": "test-markposition",
     "locked": true,
     "points": 1,
     "schema_version": 3,
     "solution": false,
     "task": false
    },
    "tags": [
     "remove-output",
     "hide-input"
    ]
   },
   "outputs": [],
   "source": [
    "# tests\n",
    "reset_all_to_not_counted()\n",
    "mark_as_counted(3)\n",
    "assert check_if_counted(3) and not check_if_counted(0)"
   ]
  },
  {
   "cell_type": "code",
   "execution_count": 18,
   "metadata": {
    "nbgrader": {
     "grade": true,
     "grade_id": "hidden_test-markposition",
     "locked": true,
     "points": 1,
     "schema_version": 3,
     "solution": false,
     "task": false
    },
    "tags": [
     "remove-cell"
    ]
   },
   "outputs": [],
   "source": [
    "# HIDDEN\n",
    "### BEGIN HIDDEN TESTS\n",
    "reset_all_to_not_counted()\n",
    "mark_as_counted(8)\n",
    "assert check_if_counted(8) and not check_if_counted(0)\n",
    "### END HIDDEN TESTS"
   ]
  },
  {
   "cell_type": "raw",
   "metadata": {},
   "source": [
    "# END TESTS"
   ]
  },
  {
   "cell_type": "raw",
   "metadata": {},
   "source": [
    "# END QUESTION"
   ]
  },
  {
   "cell_type": "raw",
   "metadata": {},
   "source": [
    "# BEGIN QUESTION\n",
    "name: markposition"
   ]
  },
  {
   "cell_type": "markdown",
   "metadata": {
    "ExecuteTime": {
     "end_time": "2020-09-22T08:51:35.099297Z",
     "start_time": "2020-09-22T08:51:35.093420Z"
    }
   },
   "source": [
    "**Exercise** (markposition)\n",
    "\n",
    "Using the functions imported from `markposition`, complete the following function to \n",
    "- mark only the positions `0`, `2`, `4`, `6`, `8`, and `10` as counted, and\n",
    "- mark all other positions as not counted.\n",
    "\n",
    "Use `help` to learn how to use the imported functions."
   ]
  },
  {
   "cell_type": "raw",
   "metadata": {},
   "source": [
    "# BEGIN SOLUTION"
   ]
  },
  {
   "cell_type": "code",
   "execution_count": 19,
   "metadata": {
    "ExecuteTime": {
     "end_time": "2021-03-20T14:29:31.784661Z",
     "start_time": "2021-03-20T14:29:31.783472Z"
    },
    "nbgrader": {
     "grade": false,
     "grade_id": "reset_all_to_not_counted",
     "locked": false,
     "schema_version": 3,
     "solution": true,
     "task": false
    },
    "tags": [
     "remove-output"
    ]
   },
   "outputs": [],
   "source": [
    "def markmypositions():\n",
    "    # BEGIN SOLUTION\n",
    "    reset_all_to_not_counted()\n",
    "    for i in range(0, 11, 2):\n",
    "        mark_as_counted(i)\n",
    "    # END SOLUTION"
   ]
  },
  {
   "cell_type": "raw",
   "metadata": {},
   "source": [
    "# END SOLUTION"
   ]
  },
  {
   "cell_type": "raw",
   "metadata": {},
   "source": [
    "# BEGIN TESTS"
   ]
  },
  {
   "cell_type": "code",
   "execution_count": 20,
   "metadata": {
    "ExecuteTime": {
     "end_time": "2021-03-20T14:29:32.194627Z",
     "start_time": "2021-03-20T14:29:32.191156Z"
    },
    "code_folding": [
     0
    ],
    "nbgrader": {
     "grade": true,
     "grade_id": "test-reset_all_to_not_counted",
     "locked": true,
     "points": 1,
     "schema_version": 3,
     "solution": false,
     "task": false
    },
    "tags": [
     "remove-output",
     "hide-input"
    ]
   },
   "outputs": [],
   "source": [
    "# tests\n",
    "markmypositions()\n",
    "for i in range(11):\n",
    "    assert not check_if_counted(i) if i % 2 else check_if_counted(i)"
   ]
  },
  {
   "cell_type": "code",
   "execution_count": 21,
   "metadata": {
    "nbgrader": {
     "grade": true,
     "grade_id": "hidden_test-reset_all_to_not_counted",
     "locked": true,
     "points": 1,
     "schema_version": 3,
     "solution": false,
     "task": false
    },
    "tags": [
     "remove-cell"
    ]
   },
   "outputs": [],
   "source": [
    "# HIDDEN\n",
    "markmypositions()\n",
    "### BEGIN HIDDEN TESTS\n",
    "for i in range(22,33):\n",
    "    assert not check_if_counted(i) if i % 2 or i > 10 or i < 0 else check_if_counted(i)\n",
    "### END HIDDEN TESTS"
   ]
  },
  {
   "cell_type": "raw",
   "metadata": {},
   "source": [
    "# END TESTS"
   ]
  },
  {
   "cell_type": "raw",
   "metadata": {},
   "source": [
    "# END QUESTION"
   ]
  },
  {
   "cell_type": "raw",
   "metadata": {},
   "source": [
    "# BEGIN QUESTION\n",
    "name: get-feedback"
   ]
  },
  {
   "cell_type": "markdown",
   "metadata": {
    "slideshow": {
     "slide_type": "fragment"
    }
   },
   "source": [
    "**Exercise** (get-feedback)\n",
    "\n",
    "Define a function `get_feedback` that \n",
    "- takes `code` and `guess` as the first and second arguments respectively, and\n",
    "- returns a feedback string that starts with the appropriate number of characters `'b'` (for black key pegs) followed by the appropriate number of characters `'w'` (for white key pegs)."
   ]
  },
  {
   "cell_type": "raw",
   "metadata": {},
   "source": [
    "# BEGIN SOLUTION"
   ]
  },
  {
   "cell_type": "code",
   "execution_count": 22,
   "metadata": {
    "ExecuteTime": {
     "end_time": "2021-03-20T14:29:38.698186Z",
     "start_time": "2021-03-20T14:29:38.695773Z"
    },
    "nbgrader": {
     "grade": false,
     "grade_id": "get_feedback",
     "locked": false,
     "schema_version": 3,
     "solution": true,
     "task": false
    },
    "slideshow": {
     "slide_type": "skip"
    },
    "tags": [
     "remove-output"
    ]
   },
   "outputs": [],
   "source": [
    "# BEGIN SOLUTION NO PROMPT\n",
    "def get_feedback(code, guess):\n",
    "    black_key_pegs_count = white_key_pegs_count = counted = 0\n",
    "    reset_all_to_not_counted()\n",
    "    for i in range(len(guess)):\n",
    "        if guess[i] == code[i]:\n",
    "            black_key_pegs_count += 1\n",
    "            mark_as_counted(i)\n",
    "    for i in range(len(guess)):\n",
    "        for j in range(len(code)):\n",
    "            if code[i] != guess[i] == code[j] and not check_if_counted(j):\n",
    "                white_key_pegs_count += 1\n",
    "                mark_as_counted(j)\n",
    "                break\n",
    "    key = \"b\" * black_key_pegs_count + \"w\" * white_key_pegs_count\n",
    "    return key\n",
    "# END SOLUTION\n",
    "\"\"\" # BEGIN PROMPT\n",
    "def get_feedback(code, guess):\n",
    "    black_key_pegs_count = white_key_pegs_count = counted = 0\n",
    "    reset_all_to_not_counted()\n",
    "    for i in ...:\n",
    "        if ...:\n",
    "            black_key_pegs_count += 1\n",
    "            mark_as_counted(i)\n",
    "    for i in range(len(guess)):\n",
    "        for j in range(len(code)):\n",
    "            if  ...:\n",
    "                white_key_pegs_count += 1\n",
    "                mark_as_counted(j)\n",
    "                break\n",
    "    key = 'b' * black_key_pegs_count + 'w' * white_key_pegs_count\n",
    "    return key\n",
    "\"\"\"; # END PROMPT"
   ]
  },
  {
   "cell_type": "raw",
   "metadata": {},
   "source": [
    "# END SOLUTION"
   ]
  },
  {
   "cell_type": "raw",
   "metadata": {},
   "source": [
    "# BEGIN TESTS"
   ]
  },
  {
   "cell_type": "code",
   "execution_count": 23,
   "metadata": {
    "ExecuteTime": {
     "end_time": "2021-03-20T14:29:39.235696Z",
     "start_time": "2021-03-20T14:29:39.224206Z"
    },
    "code_folding": [
     0
    ],
    "nbgrader": {
     "grade": true,
     "grade_id": "test-get_feedback",
     "locked": true,
     "points": 1,
     "schema_version": 3,
     "solution": false,
     "task": false
    },
    "slideshow": {
     "slide_type": "skip"
    },
    "tags": [
     "remove-output",
     "hide-input"
    ]
   },
   "outputs": [],
   "source": [
    "# tests\n",
    "def test_get_feedback(feedback, code, guess):\n",
    "    feedback_ = get_feedback(code, guess)\n",
    "    correct = feedback == feedback_\n",
    "    if not correct:\n",
    "        print(\n",
    "            f'With code=\"{code}\" and guess=\"{guess}\", feedback should be \"{feedback}\", not \"{feedback_}\".'\n",
    "        )\n",
    "    assert correct\n",
    "\n",
    "\n",
    "test_get_feedback(10 * \"b\" + \"w\" * 0, \"RGBRGBRGBY\", \"RGBRGBRGBY\")\n",
    "test_get_feedback(0 * \"b\" + \"w\" * 10, \"RGBRGBRGBY\", \"YRGBRGBRGB\")\n",
    "test_get_feedback(8 * \"b\" + \"w\" * 0, \"RGRGRGRG\", \"RGRGRGRG\")\n",
    "test_get_feedback(0 * \"b\" + \"w\" * 8, \"RGRGRGRG\", \"GRGRGRGR\")\n",
    "test_get_feedback(0 * \"b\" + \"w\" * 6, \"RRRRGGG\", \"GGGGRRR\")\n",
    "test_get_feedback(1 * \"b\" + \"w\" * 6, \"RRRRGGG\", \"GGGRRRR\")\n",
    "test_get_feedback(5 * \"b\" + \"w\" * 2, \"RRRRGGG\", \"RRRGGGR\")\n",
    "test_get_feedback(1 * \"b\" + \"w\" * 0, \"RRRRGGG\", \"RYYPPBB\")\n",
    "test_get_feedback(0 * \"b\" + \"w\" * 1, \"RRRRG\", \"GBBBB\")\n",
    "test_get_feedback(0 * \"b\" + \"w\" * 0, \"RRRRG\", \"YBBBB\")"
   ]
  },
  {
   "cell_type": "code",
   "execution_count": 24,
   "metadata": {
    "nbgrader": {
     "grade": true,
     "grade_id": "hidden_test-get_feedback",
     "locked": true,
     "points": 1,
     "schema_version": 3,
     "solution": false,
     "task": false
    },
    "tags": [
     "remove-cell"
    ]
   },
   "outputs": [],
   "source": [
    "# HIDDEN\n",
    "def test_get_feedback(feedback, code, guess):\n",
    "    feedback_ = get_feedback(code, guess)\n",
    "    correct = feedback == feedback_\n",
    "    if not correct:\n",
    "        print(\n",
    "            f'With code=\"{code}\" and guess=\"{guess}\", feedback should be \"{feedback}\", not \"{feedback_}\".'\n",
    "        )\n",
    "    assert correct\n",
    "\n",
    "### BEGIN HIDDEN TESTS\n",
    "test_get_feedback(1 * \"b\" + \"w\" * 0, \"BBBB\", \"RGBY\")\n",
    "test_get_feedback(1 * \"b\" + \"w\" * 0, \"RGBY\", \"BBBB\")\n",
    "test_get_feedback(4 * \"b\" + \"w\" * 0, \"RGBY\", \"RGBY\")\n",
    "test_get_feedback(0 * \"b\" + \"w\" * 4, \"RGBY\", \"GBYR\")\n",
    "test_get_feedback(0 * \"b\" + \"w\" * 0, \"RRYB\", \"PPPP\")\n",
    "test_get_feedback(1 * \"b\" + \"w\" * 0, \"RRYB\", \"GRPP\")\n",
    "test_get_feedback(0 * \"b\" + \"w\" * 2, \"RGYB\", \"GRPP\")\n",
    "test_get_feedback(1 * \"b\" + \"w\" * 1, \"RGRB\", \"YRRY\")\n",
    "test_get_feedback(1 * \"b\" + \"w\" * 0, \"RGRB\", \"BBBB\")\n",
    "test_get_feedback(1 * \"b\" + \"w\" * 1, \"RGRB\", \"RBYY\")\n",
    "test_get_feedback(2 * \"b\" + \"w\" * 0, \"RGRB\", \"RGYY\")\n",
    "test_get_feedback(2 * \"b\" + \"w\" * 2, \"RGRR\", \"RRGR\")\n",
    "\n",
    "\n",
    "def generate_test_get_feedback(n):\n",
    "    colors = \"ROYGBP\"\n",
    "    code_length = 4\n",
    "    for code, guess in [\n",
    "        [get_code(colors, code_length) for j in range(2)] for i in range(n)\n",
    "    ]:\n",
    "        print(f\"test_get_feedback{(get_feedback(code,guess),code,guess)}\")\n",
    "\n",
    "\n",
    "# generate_test_get_feedback(6)\n",
    "### END HIDDEN TESTS"
   ]
  },
  {
   "cell_type": "raw",
   "metadata": {},
   "source": [
    "# END TESTS"
   ]
  },
  {
   "cell_type": "raw",
   "metadata": {},
   "source": [
    "# END QUESTION"
   ]
  },
  {
   "cell_type": "markdown",
   "metadata": {
    "slideshow": {
     "slide_type": "slide"
    }
   },
   "source": [
    "## Play the Game"
   ]
  },
  {
   "cell_type": "markdown",
   "metadata": {
    "slideshow": {
     "slide_type": "fragment"
    }
   },
   "source": [
    "After finishing the previous exercises, you can play the game as a code breaker against a random mastermind."
   ]
  },
  {
   "cell_type": "code",
   "execution_count": 25,
   "metadata": {
    "ExecuteTime": {
     "end_time": "2021-03-20T14:29:42.723075Z",
     "start_time": "2021-03-20T14:29:42.578697Z"
    }
   },
   "outputs": [
    {
     "data": {
      "application/vnd.jupyter.widget-view+json": {
       "model_id": "25beed6783a943478d8e743cde497444",
       "version_major": 2,
       "version_minor": 0
      },
      "text/plain": [
       "VBox(children=(IntSlider(value=10, description='# guesses:', max=15, min=5), IntSlider(value=4, description='C…"
      ]
     },
     "metadata": {},
     "output_type": "display_data"
    }
   ],
   "source": [
    "# mastermind\n",
    "import ipywidgets as widgets\n",
    "from IPython.display import HTML, display\n",
    "\n",
    "\n",
    "def main():\n",
    "    \"\"\"The main function that runs the mastermind game.\"\"\"\n",
    "    max_num_guesses = code_length = code = num_guesses_left = None\n",
    "    is_game_ended = True\n",
    "    colors = \"ROYGBP\"\n",
    "    color_code = {\n",
    "        \"R\": \"#F88,#F00,#800\",\n",
    "        \"O\": \"#FD8,#F80,#840\",\n",
    "        \"Y\": \"#FF8,#FF0,#AA0\",\n",
    "        \"G\": \"#8F8,#0F0,#080\",\n",
    "        \"B\": \"#88F,#00F,#008\",\n",
    "        \"P\": \"#F8F,#F0F,#808\",\n",
    "        \"b\": \"#888,#000,#000\",\n",
    "        \"w\": \"#FFF,#EEE,#888\",\n",
    "    }\n",
    "\n",
    "    # returns the HTML code for a colored peg.\n",
    "    def getPeg(color, size=30):\n",
    "        return \"\"\"<div style='display:inline-block;\n",
    "                              background-image: radial-gradient(circle, {0}); \n",
    "                              width:{1}px; height:{1}px; border-radius:50%;'>\n",
    "                  </div>\"\"\".format(\n",
    "            color_code[color], size\n",
    "        )\n",
    "\n",
    "    colors_display = widgets.HBox(\n",
    "        [widgets.Label(value=\"Color codes:\")]\n",
    "        + [\n",
    "            widgets.HBox([widgets.Label(value=color), widgets.HTML(getPeg(color))])\n",
    "            for color in colors\n",
    "        ]\n",
    "    )\n",
    "\n",
    "    max_num_guesses_input = widgets.IntSlider(\n",
    "        min=5, max=15, value=10, description=\"# guesses:\"\n",
    "    )\n",
    "    code_length_input = widgets.IntSlider(\n",
    "        min=2, max=10, value=4, description=\"Code length:\"\n",
    "    )\n",
    "    code_input = widgets.Password(description=\"Code:\")\n",
    "    start_new_game_button = widgets.Button(description=\"Start a new game\")\n",
    "\n",
    "    guess_input = widgets.Text(description=\"Guess:\")\n",
    "    submit_guess_button = widgets.Button(description=\"Submit guess\")\n",
    "    board = widgets.Output()\n",
    "    message = widgets.Output()\n",
    "\n",
    "    display(\n",
    "        widgets.VBox(\n",
    "            [\n",
    "                max_num_guesses_input,\n",
    "                code_length_input,\n",
    "                colors_display,\n",
    "                widgets.HBox([code_input, start_new_game_button]),\n",
    "                widgets.HBox([guess_input, submit_guess_button]),\n",
    "                board,\n",
    "                message,\n",
    "            ]\n",
    "        )\n",
    "    )\n",
    "\n",
    "    # A listener that starts a new game\n",
    "    def start_new_game(button):\n",
    "        nonlocal code, num_guesses_left, is_game_ended, max_num_guesses, code_length\n",
    "        max_num_guesses = max_num_guesses_input.value\n",
    "        code_length = code_length_input.value\n",
    "        board.clear_output()\n",
    "        message.clear_output()\n",
    "        code = code_input.value or get_code(colors, code_length)\n",
    "        with message:\n",
    "            if not valid_code(colors, code_length, code):\n",
    "                display(\n",
    "                    HTML(\n",
    "                        \"\"\"<p>The code {} is invalid.<br>\n",
    "                        Leave the code box empty to randomly generated a code.\n",
    "                        </p>\"\"\".format(\n",
    "                            code\n",
    "                        )\n",
    "                    )\n",
    "                )\n",
    "                is_game_ended = True\n",
    "            else:\n",
    "                num_guesses_left = max_num_guesses\n",
    "                is_game_ended = num_guesses_left <= 0\n",
    "                display(\n",
    "                    HTML(\n",
    "                        \"<p>Game started! {} Guesses left.</p>\".format(num_guesses_left)\n",
    "                    )\n",
    "                )\n",
    "\n",
    "    # A listener that submits a guess\n",
    "    def submit_guess(button):\n",
    "        nonlocal num_guesses_left, is_game_ended\n",
    "        guess = guess_input.value\n",
    "        with message:\n",
    "            message.clear_output()\n",
    "            if is_game_ended:\n",
    "                display(\n",
    "                    HTML(\n",
    "                        \"\"\"<p>Game has not started.<br> \n",
    "                        Please start a new game.</p>\"\"\"\n",
    "                    )\n",
    "                )\n",
    "                return\n",
    "            if not valid_code(colors, code_length, guess):\n",
    "                display(HTML(\"<p>Invalid guess.</p>\"))\n",
    "                return\n",
    "        feedback = get_feedback(code, guess)\n",
    "        num_guesses_left -= 1\n",
    "        with board:\n",
    "            content = \"\"\n",
    "            for k in guess:\n",
    "                content += getPeg(k)\n",
    "            content += \"\"\"<div style='display:inline-block; \n",
    "                             margin: 0px 5px 0px 30px; \n",
    "                             position:relative; top:5px;'>Feeback:</div>\n",
    "                          <div style='display:inline-block; \n",
    "                             border: 1px solid; width:120px; height:30px;'>\"\"\"\n",
    "            for k in feedback:\n",
    "                content += getPeg(k, 28)\n",
    "            content += \"</div>\"\n",
    "            display(HTML(content))\n",
    "\n",
    "        with message:\n",
    "            message.clear_output()\n",
    "            if feedback == \"b\" * code_length:\n",
    "                is_game_ended = True\n",
    "                display(\n",
    "                    HTML(\n",
    "                        \"<p>You won with {} guesses left!</p>\".format(num_guesses_left)\n",
    "                    )\n",
    "                )\n",
    "                return\n",
    "            is_game_ended = num_guesses_left <= 0\n",
    "            if is_game_ended:\n",
    "                display(HTML(\"<p>Game over...</p>\"))\n",
    "                return\n",
    "            display(HTML(\"<p>{} Guesses left.</p>\".format(num_guesses_left)))\n",
    "\n",
    "    start_new_game_button.on_click(start_new_game)\n",
    "    submit_guess_button.on_click(submit_guess)\n",
    "\n",
    "\n",
    "main()"
   ]
  },
  {
   "cell_type": "markdown",
   "metadata": {
    "editable": false,
    "tags": [
     "remove-cell"
    ]
   },
   "source": [
    "## Submission\n",
    "\n",
    "Make sure you have run all cells in your notebook in order before running the cell below, so that all images/graphs appear in the output. The cell below will generate a zip file for you to submit. **Please save before exporting!**"
   ]
  },
  {
   "cell_type": "code",
   "execution_count": 26,
   "metadata": {
    "deletable": false,
    "editable": true,
    "tags": []
   },
   "outputs": [],
   "source": [
    "# extra files to submit\n",
    "extra_files = []"
   ]
  },
  {
   "cell_type": "code",
   "execution_count": 27,
   "metadata": {
    "deletable": false,
    "editable": false,
    "tags": []
   },
   "outputs": [],
   "source": [
    "# Generate the source main.py necessary for grading and similarity check.\n",
    "jupytext.write(jupytext.read(\"main.ipynb\"), \"main.py\", fmt=\"py:percent\")"
   ]
  },
  {
   "cell_type": "code",
   "execution_count": 28,
   "metadata": {
    "deletable": false,
    "editable": false,
    "tags": []
   },
   "outputs": [
    {
     "data": {
      "text/html": [
       "\n",
       "            <p>Your submission has been exported. Click <a href=\"main_2022_10_10T15_53_52_906063.zip\" download=\"main_2022_10_10T15_53_52_906063.zip\" target=\"_blank\">here</a>\n",
       "            to download the zip file.</p>\n",
       "            "
      ],
      "text/plain": [
       "<IPython.core.display.HTML object>"
      ]
     },
     "metadata": {},
     "output_type": "display_data"
    }
   ],
   "source": [
    "# Generate the zip file to submit.\n",
    "grader.export(pdf=False, run_tests=False, files=[\"main.py\", \"markposition.py\",  *extra_files])"
   ]
  }
 ],
 "metadata": {
  "celltoolbar": "Create Assignment",
  "kernelspec": {
   "display_name": "Python 3 (ipykernel)",
   "language": "python",
   "name": "python3"
  },
  "language_info": {
   "codemirror_mode": {
    "name": "ipython",
    "version": 3
   },
   "file_extension": ".py",
   "mimetype": "text/x-python",
   "name": "python",
   "nbconvert_exporter": "python",
   "pygments_lexer": "ipython3",
   "version": "3.10.6"
  },
  "latex_envs": {
   "LaTeX_envs_menu_present": true,
   "autoclose": false,
   "autocomplete": true,
   "bibliofile": "biblio.bib",
   "cite_by": "apalike",
   "current_citInitial": 1,
   "eqLabelWithNumbers": true,
   "eqNumInitial": 1,
   "hotkeys": {
    "equation": "Ctrl-E",
    "itemize": "Ctrl-I"
   },
   "labels_anchors": false,
   "latex_user_defs": false,
   "report_style_numbering": false,
   "user_envs_cfg": false
  },
  "rise": {
   "enable_chalkboard": true,
   "scroll": true,
   "theme": "white"
  },
  "toc": {
   "base_numbering": 1,
   "nav_menu": {
    "height": "195px",
    "width": "330px"
   },
   "number_sections": true,
   "sideBar": true,
   "skip_h1_title": true,
   "title_cell": "Table of Contents",
   "title_sidebar": "Contents",
   "toc_cell": false,
   "toc_position": {
    "height": "454.418px",
    "left": "1533px",
    "top": "110.284px",
    "width": "435.327px"
   },
   "toc_section_display": true,
   "toc_window_display": false
  },
  "widgets": {
   "application/vnd.jupyter.widget-state+json": {
    "state": {
     "008135663c4c49d0b6fa44e61983a525": {
      "model_module": "@jupyter-widgets/base",
      "model_module_version": "1.2.0",
      "model_name": "LayoutModel",
      "state": {}
     },
     "00e6ab72ad1c45dd869fafd096f5299c": {
      "model_module": "@jupyter-widgets/controls",
      "model_module_version": "1.5.0",
      "model_name": "HTMLModel",
      "state": {
       "layout": "IPY_MODEL_d658e10bced04e0587e7c0ccaf2a092a",
       "style": "IPY_MODEL_248d482e3d3f47248729cb935295363f",
       "value": "<div style='display:inline-block;\n                              background-image: radial-gradient(circle, #8F8,#0F0,#080); \n                              width:30px; height:30px; border-radius:50%;'>\n                  </div>"
      }
     },
     "0192eb4e8a41439c83bd80905404650d": {
      "model_module": "@jupyter-widgets/controls",
      "model_module_version": "1.5.0",
      "model_name": "LabelModel",
      "state": {
       "layout": "IPY_MODEL_ce6216f8c6f74dc79d9f00274a6b2f1f",
       "style": "IPY_MODEL_3bf74fff14844fe0860bac79a73ab08e",
       "value": "G"
      }
     },
     "05a7acb9cc324457adde17293299a6a3": {
      "model_module": "@jupyter-widgets/controls",
      "model_module_version": "1.5.0",
      "model_name": "DescriptionStyleModel",
      "state": {
       "description_width": ""
      }
     },
     "07a8f50121474b489449de7455981f81": {
      "model_module": "@jupyter-widgets/base",
      "model_module_version": "1.2.0",
      "model_name": "LayoutModel",
      "state": {}
     },
     "0907a0538e8a4f608fca5bf54a617846": {
      "model_module": "@jupyter-widgets/base",
      "model_module_version": "1.2.0",
      "model_name": "LayoutModel",
      "state": {}
     },
     "0d48101ce81b456e96dee6e56e172b10": {
      "model_module": "@jupyter-widgets/controls",
      "model_module_version": "1.5.0",
      "model_name": "DescriptionStyleModel",
      "state": {
       "description_width": ""
      }
     },
     "0de735fae724483588c563c8cf470006": {
      "model_module": "@jupyter-widgets/base",
      "model_module_version": "1.2.0",
      "model_name": "LayoutModel",
      "state": {}
     },
     "18c52566459f4ce589274ab63e5a5ec1": {
      "model_module": "@jupyter-widgets/base",
      "model_module_version": "1.2.0",
      "model_name": "LayoutModel",
      "state": {}
     },
     "248d482e3d3f47248729cb935295363f": {
      "model_module": "@jupyter-widgets/controls",
      "model_module_version": "1.5.0",
      "model_name": "DescriptionStyleModel",
      "state": {
       "description_width": ""
      }
     },
     "25beed6783a943478d8e743cde497444": {
      "model_module": "@jupyter-widgets/controls",
      "model_module_version": "1.5.0",
      "model_name": "VBoxModel",
      "state": {
       "children": [
        "IPY_MODEL_5b0e974da5414394a080d5214bd81578",
        "IPY_MODEL_4e57f1dcc5974b658337646cc32c1ce1",
        "IPY_MODEL_98c14210767847d88fa6e62ff91a5534",
        "IPY_MODEL_ae772ca1f5f048b19a92c1e7c3a1db90",
        "IPY_MODEL_66c5c96a264f42d3803f1e120a398151",
        "IPY_MODEL_3a0488bea4a54cdd92bc5c9835aafbf7",
        "IPY_MODEL_595a4c8dd8d24e59a2398d3f907b7747"
       ],
       "layout": "IPY_MODEL_7d409efc77a247d4a9dc5ff4d7fc46f0"
      }
     },
     "2db8ed187ca3479890fadf23c6a5909e": {
      "model_module": "@jupyter-widgets/base",
      "model_module_version": "1.2.0",
      "model_name": "LayoutModel",
      "state": {}
     },
     "3306783c1ba24eada28b028f6772a621": {
      "model_module": "@jupyter-widgets/controls",
      "model_module_version": "1.5.0",
      "model_name": "LabelModel",
      "state": {
       "layout": "IPY_MODEL_a17a35672421491799137a355bd1cc02",
       "style": "IPY_MODEL_355cc85f0af5442a820ccd49786aca42",
       "value": "O"
      }
     },
     "355cc85f0af5442a820ccd49786aca42": {
      "model_module": "@jupyter-widgets/controls",
      "model_module_version": "1.5.0",
      "model_name": "DescriptionStyleModel",
      "state": {
       "description_width": ""
      }
     },
     "35b560186e744bfa960d6d45c9bda751": {
      "model_module": "@jupyter-widgets/base",
      "model_module_version": "1.2.0",
      "model_name": "LayoutModel",
      "state": {}
     },
     "3815d0ff497b4e4bb8c560f1fcb394cb": {
      "model_module": "@jupyter-widgets/controls",
      "model_module_version": "1.5.0",
      "model_name": "DescriptionStyleModel",
      "state": {
       "description_width": ""
      }
     },
     "39e4869786dd44a0b9bff81897a1b3d0": {
      "model_module": "@jupyter-widgets/base",
      "model_module_version": "1.2.0",
      "model_name": "LayoutModel",
      "state": {}
     },
     "3a0488bea4a54cdd92bc5c9835aafbf7": {
      "model_module": "@jupyter-widgets/output",
      "model_module_version": "1.0.0",
      "model_name": "OutputModel",
      "state": {
       "layout": "IPY_MODEL_53cb77b9e6914672b4ded2677918f245"
      }
     },
     "3bf74fff14844fe0860bac79a73ab08e": {
      "model_module": "@jupyter-widgets/controls",
      "model_module_version": "1.5.0",
      "model_name": "DescriptionStyleModel",
      "state": {
       "description_width": ""
      }
     },
     "3c14621e5cd341eda71a3083c4adf4b4": {
      "model_module": "@jupyter-widgets/controls",
      "model_module_version": "1.5.0",
      "model_name": "HTMLModel",
      "state": {
       "layout": "IPY_MODEL_e4c3a081995f4632b31ab0eb5890f668",
       "style": "IPY_MODEL_51ca3d45a498437f84f91b01518f292c",
       "value": "<div style='display:inline-block;\n                              background-image: radial-gradient(circle, #88F,#00F,#008); \n                              width:30px; height:30px; border-radius:50%;'>\n                  </div>"
      }
     },
     "4061d5c3316e45aa8782c1f32ee2d517": {
      "model_module": "@jupyter-widgets/controls",
      "model_module_version": "1.5.0",
      "model_name": "DescriptionStyleModel",
      "state": {
       "description_width": ""
      }
     },
     "41e657fc6a094f16a238d62a25746a78": {
      "model_module": "@jupyter-widgets/controls",
      "model_module_version": "1.5.0",
      "model_name": "DescriptionStyleModel",
      "state": {
       "description_width": ""
      }
     },
     "4242ed9ddc7c486fad582c96f3b2fc5c": {
      "model_module": "@jupyter-widgets/base",
      "model_module_version": "1.2.0",
      "model_name": "LayoutModel",
      "state": {}
     },
     "4437b60788f3446083c965c3abb844aa": {
      "model_module": "@jupyter-widgets/controls",
      "model_module_version": "1.5.0",
      "model_name": "HBoxModel",
      "state": {
       "children": [
        "IPY_MODEL_efab2722b4684f78badb94c0eeffc479",
        "IPY_MODEL_7492894fbb4f42bc83ee4b25280d0650"
       ],
       "layout": "IPY_MODEL_82483fbd01574e45b639dcfdba6aa684"
      }
     },
     "444535269c174515b067d449fc6933c6": {
      "model_module": "@jupyter-widgets/base",
      "model_module_version": "1.2.0",
      "model_name": "LayoutModel",
      "state": {}
     },
     "499700c5bf22407dad7e2b8cd85c95a2": {
      "model_module": "@jupyter-widgets/controls",
      "model_module_version": "1.5.0",
      "model_name": "HTMLModel",
      "state": {
       "layout": "IPY_MODEL_7e95b9882d7d472e836d0e0c28efa560",
       "style": "IPY_MODEL_41e657fc6a094f16a238d62a25746a78",
       "value": "<div style='display:inline-block;\n                              background-image: radial-gradient(circle, #FF8,#FF0,#AA0); \n                              width:30px; height:30px; border-radius:50%;'>\n                  </div>"
      }
     },
     "4d5f041f93544cd4b1b5d6f58546487b": {
      "model_module": "@jupyter-widgets/controls",
      "model_module_version": "1.5.0",
      "model_name": "SliderStyleModel",
      "state": {
       "description_width": ""
      }
     },
     "4e57f1dcc5974b658337646cc32c1ce1": {
      "model_module": "@jupyter-widgets/controls",
      "model_module_version": "1.5.0",
      "model_name": "IntSliderModel",
      "state": {
       "description": "Code length:",
       "layout": "IPY_MODEL_64c5396d29434746880d9e5af8c61f6d",
       "max": 10,
       "min": 2,
       "style": "IPY_MODEL_f087ca86b76f41ebbc5f90451be1e5b8",
       "value": 4
      }
     },
     "51027ee2b61e4eb99157b6dcfa13dad5": {
      "model_module": "@jupyter-widgets/base",
      "model_module_version": "1.2.0",
      "model_name": "LayoutModel",
      "state": {}
     },
     "51ca3d45a498437f84f91b01518f292c": {
      "model_module": "@jupyter-widgets/controls",
      "model_module_version": "1.5.0",
      "model_name": "DescriptionStyleModel",
      "state": {
       "description_width": ""
      }
     },
     "53cb77b9e6914672b4ded2677918f245": {
      "model_module": "@jupyter-widgets/base",
      "model_module_version": "1.2.0",
      "model_name": "LayoutModel",
      "state": {}
     },
     "55b5f86d7bb94ee4ab3a4d9488dcc342": {
      "model_module": "@jupyter-widgets/base",
      "model_module_version": "1.2.0",
      "model_name": "LayoutModel",
      "state": {}
     },
     "58cc1318d7c14a29a226b52d084fc77f": {
      "model_module": "@jupyter-widgets/base",
      "model_module_version": "1.2.0",
      "model_name": "LayoutModel",
      "state": {}
     },
     "595a4c8dd8d24e59a2398d3f907b7747": {
      "model_module": "@jupyter-widgets/output",
      "model_module_version": "1.0.0",
      "model_name": "OutputModel",
      "state": {
       "layout": "IPY_MODEL_9e13f13714d74cb2b2858b32dbba74fb",
       "outputs": [
        {
         "data": {
          "text/html": "<p>Game started! 10 Guesses left.</p>",
          "text/plain": "<IPython.core.display.HTML object>"
         },
         "metadata": {},
         "output_type": "display_data"
        }
       ]
      }
     },
     "5b0e974da5414394a080d5214bd81578": {
      "model_module": "@jupyter-widgets/controls",
      "model_module_version": "1.5.0",
      "model_name": "IntSliderModel",
      "state": {
       "description": "# guesses:",
       "layout": "IPY_MODEL_18c52566459f4ce589274ab63e5a5ec1",
       "max": 15,
       "min": 5,
       "style": "IPY_MODEL_4d5f041f93544cd4b1b5d6f58546487b",
       "value": 10
      }
     },
     "5bddde4d77c94351b45ecee3c992c8ed": {
      "model_module": "@jupyter-widgets/controls",
      "model_module_version": "1.5.0",
      "model_name": "HBoxModel",
      "state": {
       "children": [
        "IPY_MODEL_0192eb4e8a41439c83bd80905404650d",
        "IPY_MODEL_00e6ab72ad1c45dd869fafd096f5299c"
       ],
       "layout": "IPY_MODEL_8f3ed55246574be18ac62c09607ff31b"
      }
     },
     "5cfc11c5d1994947a201aa3718ea43e2": {
      "model_module": "@jupyter-widgets/controls",
      "model_module_version": "1.5.0",
      "model_name": "PasswordModel",
      "state": {
       "description": "Code:",
       "layout": "IPY_MODEL_7e27a1879f73481bbf9f796f835ee3ce",
       "style": "IPY_MODEL_0d48101ce81b456e96dee6e56e172b10"
      }
     },
     "5eb13bef6536491daf0545d026f646dc": {
      "model_module": "@jupyter-widgets/controls",
      "model_module_version": "1.5.0",
      "model_name": "HBoxModel",
      "state": {
       "children": [
        "IPY_MODEL_3306783c1ba24eada28b028f6772a621",
        "IPY_MODEL_e657f7b80e504955aa63d7d725c0fe94"
       ],
       "layout": "IPY_MODEL_51027ee2b61e4eb99157b6dcfa13dad5"
      }
     },
     "6085c6ed7d6b445eb1abe3bc834c3829": {
      "model_module": "@jupyter-widgets/controls",
      "model_module_version": "1.5.0",
      "model_name": "ButtonStyleModel",
      "state": {}
     },
     "62bfea1cec2142dba6fd051dc6709047": {
      "model_module": "@jupyter-widgets/controls",
      "model_module_version": "1.5.0",
      "model_name": "HBoxModel",
      "state": {
       "children": [
        "IPY_MODEL_c70b1fba8bd544e29b141c94b840fe85",
        "IPY_MODEL_499700c5bf22407dad7e2b8cd85c95a2"
       ],
       "layout": "IPY_MODEL_07a8f50121474b489449de7455981f81"
      }
     },
     "64c5396d29434746880d9e5af8c61f6d": {
      "model_module": "@jupyter-widgets/base",
      "model_module_version": "1.2.0",
      "model_name": "LayoutModel",
      "state": {}
     },
     "66c5c96a264f42d3803f1e120a398151": {
      "model_module": "@jupyter-widgets/controls",
      "model_module_version": "1.5.0",
      "model_name": "HBoxModel",
      "state": {
       "children": [
        "IPY_MODEL_ad11a23113224022910627037291b86f",
        "IPY_MODEL_b953d3092fa84193b29aa0db1278a6bd"
       ],
       "layout": "IPY_MODEL_4242ed9ddc7c486fad582c96f3b2fc5c"
      }
     },
     "6a2d36878921425fa043f269db1789a0": {
      "model_module": "@jupyter-widgets/controls",
      "model_module_version": "1.5.0",
      "model_name": "HBoxModel",
      "state": {
       "children": [
        "IPY_MODEL_c03cfdc1fd95485d9a8434e522640d1c",
        "IPY_MODEL_3c14621e5cd341eda71a3083c4adf4b4"
       ],
       "layout": "IPY_MODEL_444535269c174515b067d449fc6933c6"
      }
     },
     "6e6b0246b6fe467283a7573fd22cfdc6": {
      "model_module": "@jupyter-widgets/controls",
      "model_module_version": "1.5.0",
      "model_name": "DescriptionStyleModel",
      "state": {
       "description_width": ""
      }
     },
     "6f5d7c8a5bc2464b8b52f51e4164da2f": {
      "model_module": "@jupyter-widgets/controls",
      "model_module_version": "1.5.0",
      "model_name": "DescriptionStyleModel",
      "state": {
       "description_width": ""
      }
     },
     "7492894fbb4f42bc83ee4b25280d0650": {
      "model_module": "@jupyter-widgets/controls",
      "model_module_version": "1.5.0",
      "model_name": "HTMLModel",
      "state": {
       "layout": "IPY_MODEL_0de735fae724483588c563c8cf470006",
       "style": "IPY_MODEL_3815d0ff497b4e4bb8c560f1fcb394cb",
       "value": "<div style='display:inline-block;\n                              background-image: radial-gradient(circle, #F88,#F00,#800); \n                              width:30px; height:30px; border-radius:50%;'>\n                  </div>"
      }
     },
     "74e29418997a47ad86149a78bbbab6cb": {
      "model_module": "@jupyter-widgets/base",
      "model_module_version": "1.2.0",
      "model_name": "LayoutModel",
      "state": {}
     },
     "751f0bd7f0944ee689e49bebd11591e8": {
      "model_module": "@jupyter-widgets/base",
      "model_module_version": "1.2.0",
      "model_name": "LayoutModel",
      "state": {}
     },
     "7761a712a0be4dde8aefcea0af8f6719": {
      "model_module": "@jupyter-widgets/base",
      "model_module_version": "1.2.0",
      "model_name": "LayoutModel",
      "state": {}
     },
     "7d409efc77a247d4a9dc5ff4d7fc46f0": {
      "model_module": "@jupyter-widgets/base",
      "model_module_version": "1.2.0",
      "model_name": "LayoutModel",
      "state": {}
     },
     "7e27a1879f73481bbf9f796f835ee3ce": {
      "model_module": "@jupyter-widgets/base",
      "model_module_version": "1.2.0",
      "model_name": "LayoutModel",
      "state": {}
     },
     "7e95b9882d7d472e836d0e0c28efa560": {
      "model_module": "@jupyter-widgets/base",
      "model_module_version": "1.2.0",
      "model_name": "LayoutModel",
      "state": {}
     },
     "8057fef2440c48468ee34ddc44c672dd": {
      "model_module": "@jupyter-widgets/controls",
      "model_module_version": "1.5.0",
      "model_name": "LabelModel",
      "state": {
       "layout": "IPY_MODEL_35b560186e744bfa960d6d45c9bda751",
       "style": "IPY_MODEL_6e6b0246b6fe467283a7573fd22cfdc6",
       "value": "P"
      }
     },
     "82483fbd01574e45b639dcfdba6aa684": {
      "model_module": "@jupyter-widgets/base",
      "model_module_version": "1.2.0",
      "model_name": "LayoutModel",
      "state": {}
     },
     "8c9323540a7748ecb6395ea683a335ea": {
      "model_module": "@jupyter-widgets/controls",
      "model_module_version": "1.5.0",
      "model_name": "HBoxModel",
      "state": {
       "children": [
        "IPY_MODEL_8057fef2440c48468ee34ddc44c672dd",
        "IPY_MODEL_e06a904309b04c44a5472e941487be46"
       ],
       "layout": "IPY_MODEL_abfffd4a40ec4075a06c38c02a91b18c"
      }
     },
     "8f3ed55246574be18ac62c09607ff31b": {
      "model_module": "@jupyter-widgets/base",
      "model_module_version": "1.2.0",
      "model_name": "LayoutModel",
      "state": {}
     },
     "9048b1ef263240499d6919a8437c08fb": {
      "model_module": "@jupyter-widgets/controls",
      "model_module_version": "1.5.0",
      "model_name": "DescriptionStyleModel",
      "state": {
       "description_width": ""
      }
     },
     "98c14210767847d88fa6e62ff91a5534": {
      "model_module": "@jupyter-widgets/controls",
      "model_module_version": "1.5.0",
      "model_name": "HBoxModel",
      "state": {
       "children": [
        "IPY_MODEL_ca08b68afce34e89a6acb13d37bdbacd",
        "IPY_MODEL_4437b60788f3446083c965c3abb844aa",
        "IPY_MODEL_5eb13bef6536491daf0545d026f646dc",
        "IPY_MODEL_62bfea1cec2142dba6fd051dc6709047",
        "IPY_MODEL_5bddde4d77c94351b45ecee3c992c8ed",
        "IPY_MODEL_6a2d36878921425fa043f269db1789a0",
        "IPY_MODEL_8c9323540a7748ecb6395ea683a335ea"
       ],
       "layout": "IPY_MODEL_39e4869786dd44a0b9bff81897a1b3d0"
      }
     },
     "9937a0e18a744b6cb4f3ac2fb835ad50": {
      "model_module": "@jupyter-widgets/controls",
      "model_module_version": "1.5.0",
      "model_name": "DescriptionStyleModel",
      "state": {
       "description_width": ""
      }
     },
     "9e13f13714d74cb2b2858b32dbba74fb": {
      "model_module": "@jupyter-widgets/base",
      "model_module_version": "1.2.0",
      "model_name": "LayoutModel",
      "state": {}
     },
     "9ecea3224daf472ea13be30f4d79b18d": {
      "model_module": "@jupyter-widgets/base",
      "model_module_version": "1.2.0",
      "model_name": "LayoutModel",
      "state": {}
     },
     "a17a35672421491799137a355bd1cc02": {
      "model_module": "@jupyter-widgets/base",
      "model_module_version": "1.2.0",
      "model_name": "LayoutModel",
      "state": {}
     },
     "abfffd4a40ec4075a06c38c02a91b18c": {
      "model_module": "@jupyter-widgets/base",
      "model_module_version": "1.2.0",
      "model_name": "LayoutModel",
      "state": {}
     },
     "ad11a23113224022910627037291b86f": {
      "model_module": "@jupyter-widgets/controls",
      "model_module_version": "1.5.0",
      "model_name": "TextModel",
      "state": {
       "description": "Guess:",
       "layout": "IPY_MODEL_c3a3118e17fb4ab0a73f52b0e92f29a6",
       "style": "IPY_MODEL_05a7acb9cc324457adde17293299a6a3"
      }
     },
     "ae772ca1f5f048b19a92c1e7c3a1db90": {
      "model_module": "@jupyter-widgets/controls",
      "model_module_version": "1.5.0",
      "model_name": "HBoxModel",
      "state": {
       "children": [
        "IPY_MODEL_5cfc11c5d1994947a201aa3718ea43e2",
        "IPY_MODEL_b9522222385b4cca868b004c4a326d02"
       ],
       "layout": "IPY_MODEL_55b5f86d7bb94ee4ab3a4d9488dcc342"
      }
     },
     "b9522222385b4cca868b004c4a326d02": {
      "model_module": "@jupyter-widgets/controls",
      "model_module_version": "1.5.0",
      "model_name": "ButtonModel",
      "state": {
       "description": "Start a new game",
       "layout": "IPY_MODEL_2db8ed187ca3479890fadf23c6a5909e",
       "style": "IPY_MODEL_f6e123e6b17e4117a6bf5230e3517cc9"
      }
     },
     "b953d3092fa84193b29aa0db1278a6bd": {
      "model_module": "@jupyter-widgets/controls",
      "model_module_version": "1.5.0",
      "model_name": "ButtonModel",
      "state": {
       "description": "Submit guess",
       "layout": "IPY_MODEL_008135663c4c49d0b6fa44e61983a525",
       "style": "IPY_MODEL_6085c6ed7d6b445eb1abe3bc834c3829"
      }
     },
     "c03cfdc1fd95485d9a8434e522640d1c": {
      "model_module": "@jupyter-widgets/controls",
      "model_module_version": "1.5.0",
      "model_name": "LabelModel",
      "state": {
       "layout": "IPY_MODEL_751f0bd7f0944ee689e49bebd11591e8",
       "style": "IPY_MODEL_f23d9b1a90be45058da004645d07fc06",
       "value": "B"
      }
     },
     "c3a3118e17fb4ab0a73f52b0e92f29a6": {
      "model_module": "@jupyter-widgets/base",
      "model_module_version": "1.2.0",
      "model_name": "LayoutModel",
      "state": {}
     },
     "c70b1fba8bd544e29b141c94b840fe85": {
      "model_module": "@jupyter-widgets/controls",
      "model_module_version": "1.5.0",
      "model_name": "LabelModel",
      "state": {
       "layout": "IPY_MODEL_58cc1318d7c14a29a226b52d084fc77f",
       "style": "IPY_MODEL_6f5d7c8a5bc2464b8b52f51e4164da2f",
       "value": "Y"
      }
     },
     "ca08b68afce34e89a6acb13d37bdbacd": {
      "model_module": "@jupyter-widgets/controls",
      "model_module_version": "1.5.0",
      "model_name": "LabelModel",
      "state": {
       "layout": "IPY_MODEL_0907a0538e8a4f608fca5bf54a617846",
       "style": "IPY_MODEL_9937a0e18a744b6cb4f3ac2fb835ad50",
       "value": "Color codes:"
      }
     },
     "ce6216f8c6f74dc79d9f00274a6b2f1f": {
      "model_module": "@jupyter-widgets/base",
      "model_module_version": "1.2.0",
      "model_name": "LayoutModel",
      "state": {}
     },
     "d658e10bced04e0587e7c0ccaf2a092a": {
      "model_module": "@jupyter-widgets/base",
      "model_module_version": "1.2.0",
      "model_name": "LayoutModel",
      "state": {}
     },
     "e06a904309b04c44a5472e941487be46": {
      "model_module": "@jupyter-widgets/controls",
      "model_module_version": "1.5.0",
      "model_name": "HTMLModel",
      "state": {
       "layout": "IPY_MODEL_74e29418997a47ad86149a78bbbab6cb",
       "style": "IPY_MODEL_ff4883d3dbab4986a009b2a6c4a85785",
       "value": "<div style='display:inline-block;\n                              background-image: radial-gradient(circle, #F8F,#F0F,#808); \n                              width:30px; height:30px; border-radius:50%;'>\n                  </div>"
      }
     },
     "e4c3a081995f4632b31ab0eb5890f668": {
      "model_module": "@jupyter-widgets/base",
      "model_module_version": "1.2.0",
      "model_name": "LayoutModel",
      "state": {}
     },
     "e657f7b80e504955aa63d7d725c0fe94": {
      "model_module": "@jupyter-widgets/controls",
      "model_module_version": "1.5.0",
      "model_name": "HTMLModel",
      "state": {
       "layout": "IPY_MODEL_9ecea3224daf472ea13be30f4d79b18d",
       "style": "IPY_MODEL_9048b1ef263240499d6919a8437c08fb",
       "value": "<div style='display:inline-block;\n                              background-image: radial-gradient(circle, #FD8,#F80,#840); \n                              width:30px; height:30px; border-radius:50%;'>\n                  </div>"
      }
     },
     "efab2722b4684f78badb94c0eeffc479": {
      "model_module": "@jupyter-widgets/controls",
      "model_module_version": "1.5.0",
      "model_name": "LabelModel",
      "state": {
       "layout": "IPY_MODEL_7761a712a0be4dde8aefcea0af8f6719",
       "style": "IPY_MODEL_4061d5c3316e45aa8782c1f32ee2d517",
       "value": "R"
      }
     },
     "f087ca86b76f41ebbc5f90451be1e5b8": {
      "model_module": "@jupyter-widgets/controls",
      "model_module_version": "1.5.0",
      "model_name": "SliderStyleModel",
      "state": {
       "description_width": ""
      }
     },
     "f23d9b1a90be45058da004645d07fc06": {
      "model_module": "@jupyter-widgets/controls",
      "model_module_version": "1.5.0",
      "model_name": "DescriptionStyleModel",
      "state": {
       "description_width": ""
      }
     },
     "f6e123e6b17e4117a6bf5230e3517cc9": {
      "model_module": "@jupyter-widgets/controls",
      "model_module_version": "1.5.0",
      "model_name": "ButtonStyleModel",
      "state": {}
     },
     "ff4883d3dbab4986a009b2a6c4a85785": {
      "model_module": "@jupyter-widgets/controls",
      "model_module_version": "1.5.0",
      "model_name": "DescriptionStyleModel",
      "state": {
       "description_width": ""
      }
     }
    },
    "version_major": 2,
    "version_minor": 0
   }
  }
 },
 "nbformat": 4,
 "nbformat_minor": 4
}
