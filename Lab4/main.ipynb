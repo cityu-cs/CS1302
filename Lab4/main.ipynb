{
 "cells": [
  {
   "cell_type": "code",
   "execution_count": null,
   "metadata": {
    "deletable": false,
    "editable": false,
    "tags": []
   },
   "outputs": [],
   "source": [
    "# Initialization cell\n",
    "try:  # for CS1302 JupyterLite pyodide kernel\n",
    "    import piplite\n",
    "\n",
    "    with open(\"requirements.txt\") as f:\n",
    "        for package in f:\n",
    "            package = package.strip()\n",
    "            print(\"Installing\", package)\n",
    "            await piplite.install(package)\n",
    "except ModuleNotFoundError:\n",
    "    pass\n",
    "\n",
    "import random\n",
    "import jupytext\n",
    "import otter\n",
    "from ipywidgets import interact\n",
    "\n",
    "grader = otter.Notebook(\"main.ipynb\")\n",
    "%reload_ext divewidgets"
   ]
  },
  {
   "cell_type": "markdown",
   "metadata": {
    "slideshow": {
     "slide_type": "slide"
    }
   },
   "source": [
    "# Lab 4: Mastermind"
   ]
  },
  {
   "cell_type": "markdown",
   "metadata": {
    "slideshow": {
     "slide_type": "-"
    },
    "tags": [
     "remove-cell"
    ]
   },
   "source": [
    "**CS1302 Introduction to Computer Programming**\n",
    "___"
   ]
  },
  {
   "cell_type": "markdown",
   "metadata": {
    "slideshow": {
     "slide_type": "subslide"
    }
   },
   "source": [
    "In this notebook, you will write a game called [*Mastermind*](https://en.wikipedia.org/wiki/Mastermind_(board_game)). Play the video below to learn about the rule of the game."
   ]
  },
  {
   "cell_type": "code",
   "execution_count": null,
   "metadata": {
    "ExecuteTime": {
     "end_time": "2021-03-20T14:28:46.995874Z",
     "start_time": "2021-03-20T14:28:46.982289Z"
    },
    "code_folding": [
     0
    ],
    "slideshow": {
     "slide_type": "-"
    },
    "tags": [
     "hide-input"
    ]
   },
   "outputs": [],
   "source": [
    "%%html\n",
    "<iframe width=\"800\" height=\"415\" src=\"https://www.youtube.com/embed/wsYPsrzCKiA\" frameborder=\"0\" allow=\"accelerometer; autoplay; encrypted-media; gyroscope; picture-in-picture\" allowfullscreen></iframe>"
   ]
  },
  {
   "cell_type": "markdown",
   "metadata": {},
   "source": [
    "1. **Mastermind** first creates a hidden `code` of length `code_length` consisting code pegs with possibly duplicate colors chosen from a sequence of `colors`.\n",
    "1. **Coderbreaker** provides a `guess` of the `code`.\n",
    "1. **Mastermind** generates a `feedback` consisting of key pegs of black and white colors:\n",
    "    - The number of black pegs (`black_key_pegs_count`) is the number of code pegs that are the correct colors in the correct positions. \n",
    "    - The number of white pegs (`white_key_pegs_count`) is the number of code pegs that are the correct colors but in incorrect positions.\n",
    "    - Each code peg should be counted only once, i.e., a code peg cannot be awarded more than one key peg. E.g.,\n",
    "        - If the `code` is `'RBGG'` and `guess` is `'BGGG'`, then \n",
    "        - the feedback should be `'bbw'` with \n",
    "            - `black_key_pegs_count == 2` because of `__GG` in the guess, and\n",
    "            - `white_key_pegs_count == 1` because of `_B__` in the guess. \n",
    "            - `_G__` in the `guess` should not be awarded an additional white peg because `__GG` in the `code` has been counted.\n",
    "1. **Codebreaker** wins if the code is correctly guessed within a certain number (`max_num_guesses`) of guesses."
   ]
  },
  {
   "cell_type": "markdown",
   "metadata": {
    "slideshow": {
     "slide_type": "slide"
    }
   },
   "source": [
    "## Random Code Generation"
   ]
  },
  {
   "cell_type": "markdown",
   "metadata": {},
   "source": [
    "The first exercise is to generate a random hidden code so even one person can play the game as Codebreaker. Watch the following video to understand how computers generate random numbers."
   ]
  },
  {
   "cell_type": "code",
   "execution_count": null,
   "metadata": {
    "ExecuteTime": {
     "end_time": "2021-03-20T14:28:51.573193Z",
     "start_time": "2021-03-20T14:28:51.569861Z"
    },
    "code_folding": [],
    "tags": [
     "hide-input"
    ]
   },
   "outputs": [],
   "source": [
    "%%html\n",
    "<iframe width=\"800\" height=\"450\" src=\"https://www.youtube.com/embed/GtOt7EBNEwQ\" frameborder=\"0\" allow=\"accelerometer; autoplay; clipboard-write; encrypted-media; gyroscope; picture-in-picture\" allowfullscreen></iframe>\n"
   ]
  },
  {
   "cell_type": "markdown",
   "metadata": {},
   "source": [
    "To generate random content in Python, we can use the `random` module imported at the beginning of the notebook. The module provides some useful functions to generate random objects as follows."
   ]
  },
  {
   "cell_type": "code",
   "execution_count": null,
   "metadata": {
    "ExecuteTime": {
     "end_time": "2021-03-20T14:29:01.431460Z",
     "start_time": "2021-03-20T14:29:01.41229Z"
    }
   },
   "outputs": [],
   "source": [
    "for i in range(10):\n",
    "    print(random.random())  # random floating point numbers in [0,1)"
   ]
  },
  {
   "cell_type": "code",
   "execution_count": null,
   "metadata": {
    "ExecuteTime": {
     "end_time": "2021-03-20T14:29:01.649197Z",
     "start_time": "2021-03-20T14:29:01.647208Z"
    }
   },
   "outputs": [],
   "source": [
    "for i in range(10):\n",
    "    print(random.randint(3, 10), end=\" \")  # random integer in range [3,10]"
   ]
  },
  {
   "cell_type": "code",
   "execution_count": null,
   "metadata": {
    "ExecuteTime": {
     "end_time": "2021-03-20T14:29:02.316654Z",
     "start_time": "2021-03-20T14:29:02.314428Z"
    }
   },
   "outputs": [],
   "source": [
    "for i in range(10):\n",
    "    print(random.choice(\"RBG\"), end=\"\")  # random element in the sequence 'RBG'"
   ]
  },
  {
   "cell_type": "markdown",
   "metadata": {},
   "source": [
    "We can generate a reproducible *pseudo-random* sequence by specifying the *seed*."
   ]
  },
  {
   "cell_type": "code",
   "execution_count": null,
   "metadata": {
    "ExecuteTime": {
     "end_time": "2021-03-20T14:29:04.926235Z",
     "start_time": "2021-03-20T14:29:04.923935Z"
    },
    "tags": []
   },
   "outputs": [],
   "source": [
    "# repeatedly run the cell to see new sequences.\n",
    "random.seed(123456)\n",
    "for i in range(10):\n",
    "    print(random.randint(3, 10), end=\" \")"
   ]
  },
  {
   "cell_type": "markdown",
   "metadata": {},
   "source": [
    "By default `random` uses the system time as the seed. We can call `seed` without any argument to revert to the default behavior."
   ]
  },
  {
   "cell_type": "code",
   "execution_count": null,
   "metadata": {},
   "outputs": [],
   "source": [
    "# repeatedly run the cell to see new sequences.\n",
    "random.seed()\n",
    "for i in range(10):\n",
    "    print(random.randint(3, 10), end=\" \")"
   ]
  },
  {
   "cell_type": "markdown",
   "metadata": {},
   "source": [
    "**Exercise** (get-code)\n",
    "\n",
    "Define a function that generates a random `code`. The functions take in\n",
    "- a string `colors` whose characters represent distinct colors to choose from, and\n",
    "- a positive integer `code_length` representing the length of the code.\n",
    "\n",
    "For instance, `get_code('ROYGBP',4)` returns a code of `4` code pegs randomly with colors chosen from \n",
    "- `'R'`ed, \n",
    "- `'O'`range, \n",
    "- `'Y'`ellow, \n",
    "- `'G'`reen, \n",
    "- `'B'`lue, and \n",
    "- `'P'`urple. \n",
    "\n",
    "One possible outcome is `'ROYY'`."
   ]
  },
  {
   "cell_type": "code",
   "execution_count": null,
   "metadata": {
    "deletable": false,
    "editable": false,
    "tags": []
   },
   "outputs": [],
   "source": [
    "import random"
   ]
  },
  {
   "cell_type": "code",
   "execution_count": null,
   "metadata": {
    "ExecuteTime": {
     "end_time": "2021-03-20T14:29:08.415920Z",
     "start_time": "2021-03-20T14:29:08.39542Z"
    },
    "nbgrader": {
     "grade": false,
     "grade_id": "get_code",
     "locked": false,
     "schema_version": 3,
     "solution": true,
     "task": false
    },
    "tags": [
     "remove-output"
    ]
   },
   "outputs": [],
   "source": [
    "def get_code(colors, code_length):\n",
    "    code = ''\n",
    "    ...\n",
    "    return code"
   ]
  },
  {
   "cell_type": "code",
   "execution_count": null,
   "metadata": {
    "deletable": false,
    "editable": false
   },
   "outputs": [],
   "source": [
    "grader.check(\"get-code\")"
   ]
  },
  {
   "cell_type": "markdown",
   "metadata": {
    "slideshow": {
     "slide_type": "subslide"
    }
   },
   "source": [
    "## Guess Validation"
   ]
  },
  {
   "cell_type": "markdown",
   "metadata": {
    "slideshow": {
     "slide_type": "fragment"
    }
   },
   "source": [
    "**Exercise** (valid-code)\n",
    "\n",
    "Define a function `valid_code` that \n",
    "- takes `colors`, `code_length`, and `guess` as the first, second, and third arguments respectively, and\n",
    "- returns `True` if `guess` is a valid code, i.e., a string of length `code_length` with characters from those of `colors`, and\n",
    "- `False` otherwise."
   ]
  },
  {
   "cell_type": "code",
   "execution_count": null,
   "metadata": {
    "ExecuteTime": {
     "end_time": "2021-03-20T14:29:19.344721Z",
     "start_time": "2021-03-20T14:29:19.341125Z"
    },
    "nbgrader": {
     "grade": false,
     "grade_id": "valid_code",
     "locked": false,
     "schema_version": 3,
     "solution": true,
     "task": false
    },
    "slideshow": {
     "slide_type": "skip"
    },
    "tags": [
     "remove-output"
    ]
   },
   "outputs": [],
   "source": [
    "def ...(colors, code_length, guess):\n",
    "    if len(guess) ... code_length:\n",
    "        is_valid = ...\n",
    "    else:\n",
    "        for peg in guess:\n",
    "            for color in colors:\n",
    "                if peg == color: ...\n",
    "            else:\n",
    "                is_valid = ...\n",
    "                ...\n",
    "        else:\n",
    "            is_valid = ...\n",
    "    return is_valid"
   ]
  },
  {
   "cell_type": "code",
   "execution_count": null,
   "metadata": {
    "deletable": false,
    "editable": false
   },
   "outputs": [],
   "source": [
    "grader.check(\"valid-code\")"
   ]
  },
  {
   "cell_type": "markdown",
   "metadata": {
    "slideshow": {
     "slide_type": "subslide"
    }
   },
   "source": [
    "## Feedback Generation"
   ]
  },
  {
   "cell_type": "markdown",
   "metadata": {},
   "source": [
    "According to the rules of Mastermind, double-counting of a single peg (as black and white) is not allowed. To facilitate this check, we have written a new module `markposition` that allows you to mark any non-negative integer position as counted."
   ]
  },
  {
   "cell_type": "markdown",
   "metadata": {},
   "source": [
    "**Exercise** (import)\n",
    "\n",
    "Write an `import` statement to import from the module `markposition` the functions \n",
    "- `mark_as_counted`\n",
    "- `check_if_counted`, and \n",
    "- `reset_all_to_not_counted`."
   ]
  },
  {
   "cell_type": "code",
   "execution_count": null,
   "metadata": {
    "ExecuteTime": {
     "end_time": "2021-03-20T14:29:28.889312Z",
     "start_time": "2021-03-20T14:29:28.884162Z"
    },
    "nbgrader": {
     "grade": false,
     "grade_id": "markposition",
     "locked": false,
     "schema_version": 3,
     "solution": true,
     "task": false
    },
    "tags": [
     "remove-output"
    ]
   },
   "outputs": [],
   "source": [
    "..."
   ]
  },
  {
   "cell_type": "code",
   "execution_count": null,
   "metadata": {
    "deletable": false,
    "editable": false
   },
   "outputs": [],
   "source": [
    "grader.check(\"import\")"
   ]
  },
  {
   "cell_type": "markdown",
   "metadata": {
    "ExecuteTime": {
     "end_time": "2020-09-22T08:51:35.099297Z",
     "start_time": "2020-09-22T08:51:35.093420Z"
    }
   },
   "source": [
    "**Exercise** (markposition)\n",
    "\n",
    "Using the functions imported from `markposition`, complete the following function to \n",
    "- mark only the positions `0`, `2`, `4`, `6`, `8`, and `10` as counted, and\n",
    "- mark all other positions as not counted.\n",
    "\n",
    "Use `help` to learn how to use the imported functions."
   ]
  },
  {
   "cell_type": "code",
   "execution_count": null,
   "metadata": {
    "ExecuteTime": {
     "end_time": "2021-03-20T14:29:31.784661Z",
     "start_time": "2021-03-20T14:29:31.783472Z"
    },
    "nbgrader": {
     "grade": false,
     "grade_id": "reset_all_to_not_counted",
     "locked": false,
     "schema_version": 3,
     "solution": true,
     "task": false
    },
    "tags": [
     "remove-output"
    ]
   },
   "outputs": [],
   "source": [
    "def markmypositions():\n",
    "    ..."
   ]
  },
  {
   "cell_type": "code",
   "execution_count": null,
   "metadata": {
    "deletable": false,
    "editable": false
   },
   "outputs": [],
   "source": [
    "grader.check(\"markposition\")"
   ]
  },
  {
   "cell_type": "markdown",
   "metadata": {
    "slideshow": {
     "slide_type": "fragment"
    }
   },
   "source": [
    "**Exercise** (get-feedback)\n",
    "\n",
    "Define a function `get_feedback` that \n",
    "- takes `code` and `guess` as the first and second arguments respectively, and\n",
    "- returns a feedback string that starts with the appropriate number of characters `'b'` (for black key pegs) followed by the appropriate number of characters `'w'` (for white key pegs)."
   ]
  },
  {
   "cell_type": "code",
   "execution_count": null,
   "metadata": {
    "ExecuteTime": {
     "end_time": "2021-03-20T14:29:38.698186Z",
     "start_time": "2021-03-20T14:29:38.695773Z"
    },
    "nbgrader": {
     "grade": false,
     "grade_id": "get_feedback",
     "locked": false,
     "schema_version": 3,
     "solution": true,
     "task": false
    },
    "slideshow": {
     "slide_type": "skip"
    },
    "tags": [
     "remove-output"
    ]
   },
   "outputs": [],
   "source": [
    "def get_feedback(code, guess):\n",
    "    black_key_pegs_count = white_key_pegs_count = counted = 0\n",
    "    reset_all_to_not_counted()\n",
    "    for i in ...:\n",
    "        if ...:\n",
    "            black_key_pegs_count += 1\n",
    "            mark_as_counted(i)\n",
    "    for i in range(len(guess)):\n",
    "        for j in range(len(code)):\n",
    "            if  ...:\n",
    "                white_key_pegs_count += 1\n",
    "                mark_as_counted(j)\n",
    "                break\n",
    "    key = 'b' * black_key_pegs_count + 'w' * white_key_pegs_count\n",
    "    return key"
   ]
  },
  {
   "cell_type": "code",
   "execution_count": null,
   "metadata": {
    "deletable": false,
    "editable": false
   },
   "outputs": [],
   "source": [
    "grader.check(\"get-feedback\")"
   ]
  },
  {
   "cell_type": "markdown",
   "metadata": {
    "slideshow": {
     "slide_type": "slide"
    }
   },
   "source": [
    "## Play the Game"
   ]
  },
  {
   "cell_type": "markdown",
   "metadata": {
    "slideshow": {
     "slide_type": "fragment"
    }
   },
   "source": [
    "After finishing the previous exercises, you can play the game as a code breaker against a random mastermind."
   ]
  },
  {
   "cell_type": "code",
   "execution_count": null,
   "metadata": {
    "ExecuteTime": {
     "end_time": "2021-03-20T14:29:42.723075Z",
     "start_time": "2021-03-20T14:29:42.578697Z"
    }
   },
   "outputs": [],
   "source": [
    "# mastermind\n",
    "import ipywidgets as widgets\n",
    "from IPython.display import HTML, display\n",
    "\n",
    "\n",
    "def main():\n",
    "    \"\"\"The main function that runs the mastermind game.\"\"\"\n",
    "    max_num_guesses = code_length = code = num_guesses_left = None\n",
    "    is_game_ended = True\n",
    "    colors = \"ROYGBP\"\n",
    "    color_code = {\n",
    "        \"R\": \"#F88,#F00,#800\",\n",
    "        \"O\": \"#FD8,#F80,#840\",\n",
    "        \"Y\": \"#FF8,#FF0,#AA0\",\n",
    "        \"G\": \"#8F8,#0F0,#080\",\n",
    "        \"B\": \"#88F,#00F,#008\",\n",
    "        \"P\": \"#F8F,#F0F,#808\",\n",
    "        \"b\": \"#888,#000,#000\",\n",
    "        \"w\": \"#FFF,#EEE,#888\",\n",
    "    }\n",
    "\n",
    "    # returns the HTML code for a colored peg.\n",
    "    def getPeg(color, size=30):\n",
    "        return \"\"\"<div style='display:inline-block;\n",
    "                              background-image: radial-gradient(circle, {0}); \n",
    "                              width:{1}px; height:{1}px; border-radius:50%;'>\n",
    "                  </div>\"\"\".format(\n",
    "            color_code[color], size\n",
    "        )\n",
    "\n",
    "    colors_display = widgets.HBox(\n",
    "        [widgets.Label(value=\"Color codes:\")]\n",
    "        + [\n",
    "            widgets.HBox([widgets.Label(value=color), widgets.HTML(getPeg(color))])\n",
    "            for color in colors\n",
    "        ]\n",
    "    )\n",
    "\n",
    "    max_num_guesses_input = widgets.IntSlider(\n",
    "        min=5, max=15, value=10, description=\"# guesses:\"\n",
    "    )\n",
    "    code_length_input = widgets.IntSlider(\n",
    "        min=2, max=10, value=4, description=\"Code length:\"\n",
    "    )\n",
    "    code_input = widgets.Password(description=\"Code:\")\n",
    "    start_new_game_button = widgets.Button(description=\"Start a new game\")\n",
    "\n",
    "    guess_input = widgets.Text(description=\"Guess:\")\n",
    "    submit_guess_button = widgets.Button(description=\"Submit guess\")\n",
    "    board = widgets.Output()\n",
    "    message = widgets.Output()\n",
    "\n",
    "    display(\n",
    "        widgets.VBox(\n",
    "            [\n",
    "                max_num_guesses_input,\n",
    "                code_length_input,\n",
    "                colors_display,\n",
    "                widgets.HBox([code_input, start_new_game_button]),\n",
    "                widgets.HBox([guess_input, submit_guess_button]),\n",
    "                board,\n",
    "                message,\n",
    "            ]\n",
    "        )\n",
    "    )\n",
    "\n",
    "    # A listener that starts a new game\n",
    "    def start_new_game(button):\n",
    "        nonlocal code, num_guesses_left, is_game_ended, max_num_guesses, code_length\n",
    "        max_num_guesses = max_num_guesses_input.value\n",
    "        code_length = code_length_input.value\n",
    "        board.clear_output()\n",
    "        message.clear_output()\n",
    "        code = code_input.value or get_code(colors, code_length)\n",
    "        with message:\n",
    "            if not valid_code(colors, code_length, code):\n",
    "                display(\n",
    "                    HTML(\n",
    "                        \"\"\"<p>The code {} is invalid.<br>\n",
    "                        Leave the code box empty to randomly generated a code.\n",
    "                        </p>\"\"\".format(\n",
    "                            code\n",
    "                        )\n",
    "                    )\n",
    "                )\n",
    "                is_game_ended = True\n",
    "            else:\n",
    "                num_guesses_left = max_num_guesses\n",
    "                is_game_ended = num_guesses_left <= 0\n",
    "                display(\n",
    "                    HTML(\n",
    "                        \"<p>Game started! {} Guesses left.</p>\".format(num_guesses_left)\n",
    "                    )\n",
    "                )\n",
    "\n",
    "    # A listener that submits a guess\n",
    "    def submit_guess(button):\n",
    "        nonlocal num_guesses_left, is_game_ended\n",
    "        guess = guess_input.value\n",
    "        with message:\n",
    "            message.clear_output()\n",
    "            if is_game_ended:\n",
    "                display(\n",
    "                    HTML(\n",
    "                        \"\"\"<p>Game has not started.<br> \n",
    "                        Please start a new game.</p>\"\"\"\n",
    "                    )\n",
    "                )\n",
    "                return\n",
    "            if not valid_code(colors, code_length, guess):\n",
    "                display(HTML(\"<p>Invalid guess.</p>\"))\n",
    "                return\n",
    "        feedback = get_feedback(code, guess)\n",
    "        num_guesses_left -= 1\n",
    "        with board:\n",
    "            content = \"\"\n",
    "            for k in guess:\n",
    "                content += getPeg(k)\n",
    "            content += \"\"\"<div style='display:inline-block; \n",
    "                             margin: 0px 5px 0px 30px; \n",
    "                             position:relative; top:5px;'>Feeback:</div>\n",
    "                          <div style='display:inline-block; \n",
    "                             border: 1px solid; width:120px; height:30px;'>\"\"\"\n",
    "            for k in feedback:\n",
    "                content += getPeg(k, 28)\n",
    "            content += \"</div>\"\n",
    "            display(HTML(content))\n",
    "\n",
    "        with message:\n",
    "            message.clear_output()\n",
    "            if feedback == \"b\" * code_length:\n",
    "                is_game_ended = True\n",
    "                display(\n",
    "                    HTML(\n",
    "                        \"<p>You won with {} guesses left!</p>\".format(num_guesses_left)\n",
    "                    )\n",
    "                )\n",
    "                return\n",
    "            is_game_ended = num_guesses_left <= 0\n",
    "            if is_game_ended:\n",
    "                display(HTML(\"<p>Game over...</p>\"))\n",
    "                return\n",
    "            display(HTML(\"<p>{} Guesses left.</p>\".format(num_guesses_left)))\n",
    "\n",
    "    start_new_game_button.on_click(start_new_game)\n",
    "    submit_guess_button.on_click(submit_guess)\n",
    "\n",
    "\n",
    "main()"
   ]
  },
  {
   "cell_type": "markdown",
   "metadata": {
    "editable": false,
    "tags": [
     "remove-cell"
    ]
   },
   "source": [
    "## Submission\n",
    "\n",
    "Make sure you have run all cells in your notebook in order before running the cell below, so that all images/graphs appear in the output. The cell below will generate a zip file for you to submit. **Please save before exporting!**"
   ]
  },
  {
   "cell_type": "code",
   "execution_count": null,
   "metadata": {
    "deletable": false,
    "editable": true,
    "tags": []
   },
   "outputs": [],
   "source": [
    "# extra files to submit\n",
    "extra_files = []"
   ]
  },
  {
   "cell_type": "code",
   "execution_count": null,
   "metadata": {
    "deletable": false,
    "editable": false,
    "tags": []
   },
   "outputs": [],
   "source": [
    "# Generate the source main.py necessary for grading and similarity check.\n",
    "jupytext.write(jupytext.read(\"main.ipynb\"), \"main.py\", fmt=\"py:percent\")"
   ]
  },
  {
   "cell_type": "code",
   "execution_count": null,
   "metadata": {
    "deletable": false,
    "editable": false,
    "tags": []
   },
   "outputs": [],
   "source": [
    "# Generate the zip file to submit.\n",
    "grader.export(pdf=False, run_tests=False, files=[\"main.py\", \"markposition.py\",  *extra_files])"
   ]
  }
 ],
 "metadata": {
  "celltoolbar": "Create Assignment",
  "kernelspec": {
   "display_name": "Python 3 (ipykernel)",
   "language": "python",
   "name": "python3"
  },
  "language_info": {
   "codemirror_mode": {
    "name": "ipython",
    "version": 3
   },
   "file_extension": ".py",
   "mimetype": "text/x-python",
   "name": "python",
   "nbconvert_exporter": "python",
   "pygments_lexer": "ipython3",
   "version": "3.10.6"
  },
  "latex_envs": {
   "LaTeX_envs_menu_present": true,
   "autoclose": false,
   "autocomplete": true,
   "bibliofile": "biblio.bib",
   "cite_by": "apalike",
   "current_citInitial": 1,
   "eqLabelWithNumbers": true,
   "eqNumInitial": 1,
   "hotkeys": {
    "equation": "Ctrl-E",
    "itemize": "Ctrl-I"
   },
   "labels_anchors": false,
   "latex_user_defs": false,
   "report_style_numbering": false,
   "user_envs_cfg": false
  },
  "otter": {
   "OK_FORMAT": true,
   "tests": {
    "get-code": {
     "name": "get-code",
     "points": null,
     "suites": [
      {
       "cases": [
        {
         "code": ">>> # tests\n>>> def test_get_code(colors, code_length):\n...     code = get_code(colors, code_length)\n...     if len(code) != code_length:\n...         return False\n...     for c in code:\n...         if c not in colors:\n...             return False\n...     return True\n>>> \n>>> for l in range(10):\n...     assert test_get_code(\"ROY\", l)\n",
         "hidden": false,
         "locked": false
        }
       ],
       "scored": true,
       "setup": "",
       "teardown": "",
       "type": "doctest"
      }
     ]
    },
    "get-feedback": {
     "name": "get-feedback",
     "points": null,
     "suites": [
      {
       "cases": [
        {
         "code": ">>> # tests\n>>> def test_get_feedback(feedback, code, guess):\n...     feedback_ = get_feedback(code, guess)\n...     correct = feedback == feedback_\n...     if not correct:\n...         print(\n...             f'With code=\"{code}\" and guess=\"{guess}\", feedback should be \"{feedback}\", not \"{feedback_}\".'\n...         )\n...     assert correct\n>>> \n>>> \n>>> test_get_feedback(10 * \"b\" + \"w\" * 0, \"RGBRGBRGBY\", \"RGBRGBRGBY\")\n>>> test_get_feedback(0 * \"b\" + \"w\" * 10, \"RGBRGBRGBY\", \"YRGBRGBRGB\")\n>>> test_get_feedback(8 * \"b\" + \"w\" * 0, \"RGRGRGRG\", \"RGRGRGRG\")\n>>> test_get_feedback(0 * \"b\" + \"w\" * 8, \"RGRGRGRG\", \"GRGRGRGR\")\n>>> test_get_feedback(0 * \"b\" + \"w\" * 6, \"RRRRGGG\", \"GGGGRRR\")\n>>> test_get_feedback(1 * \"b\" + \"w\" * 6, \"RRRRGGG\", \"GGGRRRR\")\n>>> test_get_feedback(5 * \"b\" + \"w\" * 2, \"RRRRGGG\", \"RRRGGGR\")\n>>> test_get_feedback(1 * \"b\" + \"w\" * 0, \"RRRRGGG\", \"RYYPPBB\")\n>>> test_get_feedback(0 * \"b\" + \"w\" * 1, \"RRRRG\", \"GBBBB\")\n>>> test_get_feedback(0 * \"b\" + \"w\" * 0, \"RRRRG\", \"YBBBB\")\n",
         "hidden": false,
         "locked": false
        }
       ],
       "scored": true,
       "setup": "",
       "teardown": "",
       "type": "doctest"
      }
     ]
    },
    "import": {
     "name": "import",
     "points": null,
     "suites": [
      {
       "cases": [
        {
         "code": ">>> # tests\n>>> reset_all_to_not_counted()\n>>> mark_as_counted(3)\n>>> assert check_if_counted(3) and not check_if_counted(0)\n",
         "hidden": false,
         "locked": false
        }
       ],
       "scored": true,
       "setup": "",
       "teardown": "",
       "type": "doctest"
      }
     ]
    },
    "markposition": {
     "name": "markposition",
     "points": null,
     "suites": [
      {
       "cases": [
        {
         "code": ">>> # tests\n>>> markmypositions()\n>>> for i in range(11):\n...     assert not check_if_counted(i) if i % 2 else check_if_counted(i)\n",
         "hidden": false,
         "locked": false
        }
       ],
       "scored": true,
       "setup": "",
       "teardown": "",
       "type": "doctest"
      }
     ]
    },
    "valid-code": {
     "name": "valid-code",
     "points": null,
     "suites": [
      {
       "cases": [
        {
         "code": ">>> # tests\n>>> assert valid_code(\"RBG\", 1, \"R\") == True\n>>> assert valid_code(\"RBG\", 2, \"B\") == False\n>>> assert valid_code(\"RBG\", 2, \"RP\") == False\n>>> assert valid_code(\"RBG\", 0, \"\") == True\n",
         "hidden": false,
         "locked": false
        }
       ],
       "scored": true,
       "setup": "",
       "teardown": "",
       "type": "doctest"
      }
     ]
    }
   }
  },
  "rise": {
   "enable_chalkboard": true,
   "scroll": true,
   "theme": "white"
  },
  "toc": {
   "base_numbering": 1,
   "nav_menu": {
    "height": "195px",
    "width": "330px"
   },
   "number_sections": true,
   "sideBar": true,
   "skip_h1_title": true,
   "title_cell": "Table of Contents",
   "title_sidebar": "Contents",
   "toc_cell": false,
   "toc_position": {
    "height": "454.418px",
    "left": "1533px",
    "top": "110.284px",
    "width": "435.327px"
   },
   "toc_section_display": true,
   "toc_window_display": false
  },
  "widgets": {
   "application/vnd.jupyter.widget-state+json": {
    "state": {
     "05c012941d8947b389f052085deb4635": {
      "model_module": "@jupyter-widgets/controls",
      "model_module_version": "1.5.0",
      "model_name": "LabelModel",
      "state": {
       "layout": "IPY_MODEL_29ba801d4a354a3b9dda802ceca39f6e",
       "style": "IPY_MODEL_d6d6521752744f1aa887e6c99c70b33a",
       "value": "Color codes:"
      }
     },
     "0815a72cc78f486982dcef8c84de891a": {
      "model_module": "@jupyter-widgets/base",
      "model_module_version": "1.2.0",
      "model_name": "LayoutModel",
      "state": {}
     },
     "0b73725011d642aabe92386500f2e94a": {
      "model_module": "@jupyter-widgets/base",
      "model_module_version": "1.2.0",
      "model_name": "LayoutModel",
      "state": {}
     },
     "0f308b801c5b402c80ea33542a40a117": {
      "model_module": "@jupyter-widgets/base",
      "model_module_version": "1.2.0",
      "model_name": "LayoutModel",
      "state": {}
     },
     "13d2df122f354ef3be8b976bd9329c7d": {
      "model_module": "@jupyter-widgets/base",
      "model_module_version": "1.2.0",
      "model_name": "LayoutModel",
      "state": {}
     },
     "14d38ea054f943ecb92542a5363666ae": {
      "model_module": "@jupyter-widgets/controls",
      "model_module_version": "1.5.0",
      "model_name": "ButtonModel",
      "state": {
       "description": "Submit guess",
       "layout": "IPY_MODEL_acb490ec5c944c3b88d84ab01e20c4f4",
       "style": "IPY_MODEL_a6b78c733b0b47868ec5572c6d9a442c"
      }
     },
     "1550af4affb04195b6096e1e2b703c83": {
      "model_module": "@jupyter-widgets/controls",
      "model_module_version": "1.5.0",
      "model_name": "DescriptionStyleModel",
      "state": {
       "description_width": ""
      }
     },
     "190cdbaab95b48dc925bf754478501c3": {
      "model_module": "@jupyter-widgets/controls",
      "model_module_version": "1.5.0",
      "model_name": "SliderStyleModel",
      "state": {
       "description_width": ""
      }
     },
     "1aef1f8bfad948e69c752cb4c5d9f83c": {
      "model_module": "@jupyter-widgets/controls",
      "model_module_version": "1.5.0",
      "model_name": "LabelModel",
      "state": {
       "layout": "IPY_MODEL_5caf30bef0b242e0a0f366889b73864f",
       "style": "IPY_MODEL_bb26e32f208d407d80edf4292cac0ee3",
       "value": "Y"
      }
     },
     "1c15aa33a0c14e4cba08fbd983440d6a": {
      "model_module": "@jupyter-widgets/controls",
      "model_module_version": "1.5.0",
      "model_name": "HBoxModel",
      "state": {
       "children": [
        "IPY_MODEL_a54fed7b0bec4ae7b2a76bd610f5efbc",
        "IPY_MODEL_6ff33a4a80064ce2ad012a3cfb6a42cf"
       ],
       "layout": "IPY_MODEL_6c365356cb5e416395de499963addfbe"
      }
     },
     "2150c512e2014250815938bea8767661": {
      "model_module": "@jupyter-widgets/controls",
      "model_module_version": "1.5.0",
      "model_name": "DescriptionStyleModel",
      "state": {
       "description_width": ""
      }
     },
     "226ccf6d27484efc874ffdb2812946f6": {
      "model_module": "@jupyter-widgets/output",
      "model_module_version": "1.0.0",
      "model_name": "OutputModel",
      "state": {
       "layout": "IPY_MODEL_aed4ecf725414c84b59fa2a82e006632",
       "outputs": [
        {
         "data": {
          "text/html": "<div style='display:inline-block;\n                              background-image: radial-gradient(circle, #F88,#F00,#800); \n                              width:30px; height:30px; border-radius:50%;'>\n                  </div><div style='display:inline-block;\n                              background-image: radial-gradient(circle, #F88,#F00,#800); \n                              width:30px; height:30px; border-radius:50%;'>\n                  </div><div style='display:inline-block;\n                              background-image: radial-gradient(circle, #FD8,#F80,#840); \n                              width:30px; height:30px; border-radius:50%;'>\n                  </div><div style='display:inline-block;\n                              background-image: radial-gradient(circle, #FD8,#F80,#840); \n                              width:30px; height:30px; border-radius:50%;'>\n                  </div><div style='display:inline-block; \n                             margin: 0px 5px 0px 30px; \n                             position:relative; top:5px;'>Feeback:</div>\n                          <div style='display:inline-block; \n                             border: 1px solid; width:120px; height:30px;'><div style='display:inline-block;\n                              background-image: radial-gradient(circle, #888,#000,#000); \n                              width:28px; height:28px; border-radius:50%;'>\n                  </div><div style='display:inline-block;\n                              background-image: radial-gradient(circle, #888,#000,#000); \n                              width:28px; height:28px; border-radius:50%;'>\n                  </div></div>",
          "text/plain": "<IPython.core.display.HTML object>"
         },
         "metadata": {},
         "output_type": "display_data"
        },
        {
         "data": {
          "text/html": "<div style='display:inline-block;\n                              background-image: radial-gradient(circle, #F88,#F00,#800); \n                              width:30px; height:30px; border-radius:50%;'>\n                  </div><div style='display:inline-block;\n                              background-image: radial-gradient(circle, #F88,#F00,#800); \n                              width:30px; height:30px; border-radius:50%;'>\n                  </div><div style='display:inline-block;\n                              background-image: radial-gradient(circle, #F88,#F00,#800); \n                              width:30px; height:30px; border-radius:50%;'>\n                  </div><div style='display:inline-block;\n                              background-image: radial-gradient(circle, #F88,#F00,#800); \n                              width:30px; height:30px; border-radius:50%;'>\n                  </div><div style='display:inline-block; \n                             margin: 0px 5px 0px 30px; \n                             position:relative; top:5px;'>Feeback:</div>\n                          <div style='display:inline-block; \n                             border: 1px solid; width:120px; height:30px;'><div style='display:inline-block;\n                              background-image: radial-gradient(circle, #888,#000,#000); \n                              width:28px; height:28px; border-radius:50%;'>\n                  </div><div style='display:inline-block;\n                              background-image: radial-gradient(circle, #888,#000,#000); \n                              width:28px; height:28px; border-radius:50%;'>\n                  </div><div style='display:inline-block;\n                              background-image: radial-gradient(circle, #888,#000,#000); \n                              width:28px; height:28px; border-radius:50%;'>\n                  </div><div style='display:inline-block;\n                              background-image: radial-gradient(circle, #888,#000,#000); \n                              width:28px; height:28px; border-radius:50%;'>\n                  </div></div>",
          "text/plain": "<IPython.core.display.HTML object>"
         },
         "metadata": {},
         "output_type": "display_data"
        }
       ]
      }
     },
     "27ef9ad8723f455596587cebc1b71d54": {
      "model_module": "@jupyter-widgets/controls",
      "model_module_version": "1.5.0",
      "model_name": "HBoxModel",
      "state": {
       "children": [
        "IPY_MODEL_9956753418ed4862b8345354eca768b2",
        "IPY_MODEL_811351fd83c7489094d7a305cdab0946"
       ],
       "layout": "IPY_MODEL_0f308b801c5b402c80ea33542a40a117"
      }
     },
     "29ba801d4a354a3b9dda802ceca39f6e": {
      "model_module": "@jupyter-widgets/base",
      "model_module_version": "1.2.0",
      "model_name": "LayoutModel",
      "state": {}
     },
     "2cff8e87a6ba46ff8cebf50a33a51ff7": {
      "model_module": "@jupyter-widgets/controls",
      "model_module_version": "1.5.0",
      "model_name": "DescriptionStyleModel",
      "state": {
       "description_width": ""
      }
     },
     "3187fa0353fe4ad985f60a78aa8e58f4": {
      "model_module": "@jupyter-widgets/controls",
      "model_module_version": "1.5.0",
      "model_name": "DescriptionStyleModel",
      "state": {
       "description_width": ""
      }
     },
     "34d047d77915434f862459b551b5b21a": {
      "model_module": "@jupyter-widgets/controls",
      "model_module_version": "1.5.0",
      "model_name": "IntSliderModel",
      "state": {
       "description": "Code length:",
       "layout": "IPY_MODEL_79ffb89ae25b407985a4081def5d8f37",
       "max": 10,
       "min": 2,
       "style": "IPY_MODEL_190cdbaab95b48dc925bf754478501c3",
       "value": 4
      }
     },
     "40abd18ae30442f28e0b409a50179358": {
      "model_module": "@jupyter-widgets/base",
      "model_module_version": "1.2.0",
      "model_name": "LayoutModel",
      "state": {}
     },
     "4206ced651a6467f9e7c4a2b3a891e6f": {
      "model_module": "@jupyter-widgets/base",
      "model_module_version": "1.2.0",
      "model_name": "LayoutModel",
      "state": {}
     },
     "4b446cc1eb624c5ba9fee73c7cad9bcd": {
      "model_module": "@jupyter-widgets/controls",
      "model_module_version": "1.5.0",
      "model_name": "HTMLModel",
      "state": {
       "layout": "IPY_MODEL_bfbbee5e45a243ec9d71d5554a79f10b",
       "style": "IPY_MODEL_2150c512e2014250815938bea8767661",
       "value": "<div style='display:inline-block;\n                              background-image: radial-gradient(circle, #F88,#F00,#800); \n                              width:30px; height:30px; border-radius:50%;'>\n                  </div>"
      }
     },
     "50b24e30ac15437398e6997ac63ac71f": {
      "model_module": "@jupyter-widgets/controls",
      "model_module_version": "1.5.0",
      "model_name": "HBoxModel",
      "state": {
       "children": [
        "IPY_MODEL_ad6247fa4dfd45389e4494fc9e7339a7",
        "IPY_MODEL_4b446cc1eb624c5ba9fee73c7cad9bcd"
       ],
       "layout": "IPY_MODEL_d23778fdbd524de0a7ec3cdec5551bb9"
      }
     },
     "580da4efda4a47b49c449cdb9bd49b21": {
      "model_module": "@jupyter-widgets/base",
      "model_module_version": "1.2.0",
      "model_name": "LayoutModel",
      "state": {}
     },
     "586c671a5c264e8080cb9cf3338c7bb1": {
      "model_module": "@jupyter-widgets/base",
      "model_module_version": "1.2.0",
      "model_name": "LayoutModel",
      "state": {}
     },
     "58cfd69696cc4a559fc10bbe6b598989": {
      "model_module": "@jupyter-widgets/controls",
      "model_module_version": "1.5.0",
      "model_name": "SliderStyleModel",
      "state": {
       "description_width": ""
      }
     },
     "5918e7f441114c61af2c5e713fd2f6de": {
      "model_module": "@jupyter-widgets/controls",
      "model_module_version": "1.5.0",
      "model_name": "HBoxModel",
      "state": {
       "children": [
        "IPY_MODEL_a8d8921d030a411c85f5d65803b8d427",
        "IPY_MODEL_8ff93368c5304bde9d3fdc71730c6e54"
       ],
       "layout": "IPY_MODEL_8c75c4e154d94116bc22430ca00ece3f"
      }
     },
     "5caf30bef0b242e0a0f366889b73864f": {
      "model_module": "@jupyter-widgets/base",
      "model_module_version": "1.2.0",
      "model_name": "LayoutModel",
      "state": {}
     },
     "5d77d0f646414be0b8bb9ce2fa1e0b19": {
      "model_module": "@jupyter-widgets/controls",
      "model_module_version": "1.5.0",
      "model_name": "DescriptionStyleModel",
      "state": {
       "description_width": ""
      }
     },
     "645daada4c3640fdb0591d8539c32480": {
      "model_module": "@jupyter-widgets/controls",
      "model_module_version": "1.5.0",
      "model_name": "DescriptionStyleModel",
      "state": {
       "description_width": ""
      }
     },
     "64fa39de3e2e40a98280787c68c29ccc": {
      "model_module": "@jupyter-widgets/base",
      "model_module_version": "1.2.0",
      "model_name": "LayoutModel",
      "state": {}
     },
     "6c365356cb5e416395de499963addfbe": {
      "model_module": "@jupyter-widgets/base",
      "model_module_version": "1.2.0",
      "model_name": "LayoutModel",
      "state": {}
     },
     "6dfcaee11e5547e1af90aa762e43a9e2": {
      "model_module": "@jupyter-widgets/base",
      "model_module_version": "1.2.0",
      "model_name": "LayoutModel",
      "state": {}
     },
     "6ff33a4a80064ce2ad012a3cfb6a42cf": {
      "model_module": "@jupyter-widgets/controls",
      "model_module_version": "1.5.0",
      "model_name": "HTMLModel",
      "state": {
       "layout": "IPY_MODEL_cc6ca34ee06b41d0938c7962f487f3ba",
       "style": "IPY_MODEL_645daada4c3640fdb0591d8539c32480",
       "value": "<div style='display:inline-block;\n                              background-image: radial-gradient(circle, #88F,#00F,#008); \n                              width:30px; height:30px; border-radius:50%;'>\n                  </div>"
      }
     },
     "70a7ae1b35044808a2e71e6dac93c15b": {
      "model_module": "@jupyter-widgets/controls",
      "model_module_version": "1.5.0",
      "model_name": "PasswordModel",
      "state": {
       "description": "Code:",
       "layout": "IPY_MODEL_ce934a6a667e446183c55ae33fa18855",
       "style": "IPY_MODEL_e8dd93a7a6fc4c86b46af8c157dec5a1",
       "value": "RRRR"
      }
     },
     "72342feda34c44d5a60677a0755e6263": {
      "model_module": "@jupyter-widgets/output",
      "model_module_version": "1.0.0",
      "model_name": "OutputModel",
      "state": {
       "layout": "IPY_MODEL_64fa39de3e2e40a98280787c68c29ccc",
       "outputs": [
        {
         "data": {
          "text/html": "<p>You won with 8 guesses left!</p>",
          "text/plain": "<IPython.core.display.HTML object>"
         },
         "metadata": {},
         "output_type": "display_data"
        }
       ]
      }
     },
     "7266d5b983874038bc2a61a5a9b236c2": {
      "model_module": "@jupyter-widgets/controls",
      "model_module_version": "1.5.0",
      "model_name": "HBoxModel",
      "state": {
       "children": [
        "IPY_MODEL_fa32d25aa8a4425ba4ab10f52533eb21",
        "IPY_MODEL_14d38ea054f943ecb92542a5363666ae"
       ],
       "layout": "IPY_MODEL_4206ced651a6467f9e7c4a2b3a891e6f"
      }
     },
     "74f4c22a959147e5921ae2970f9ca99f": {
      "model_module": "@jupyter-widgets/controls",
      "model_module_version": "1.5.0",
      "model_name": "DescriptionStyleModel",
      "state": {
       "description_width": ""
      }
     },
     "79ffb89ae25b407985a4081def5d8f37": {
      "model_module": "@jupyter-widgets/base",
      "model_module_version": "1.2.0",
      "model_name": "LayoutModel",
      "state": {}
     },
     "800dae0f37a14bb8aa17849606df7b54": {
      "model_module": "@jupyter-widgets/base",
      "model_module_version": "1.2.0",
      "model_name": "LayoutModel",
      "state": {}
     },
     "811351fd83c7489094d7a305cdab0946": {
      "model_module": "@jupyter-widgets/controls",
      "model_module_version": "1.5.0",
      "model_name": "HTMLModel",
      "state": {
       "layout": "IPY_MODEL_94444d0ea7a74a44bf298c2b0eb25bec",
       "style": "IPY_MODEL_a39e4b96e81b4e2ca18ac1a982edb19b",
       "value": "<div style='display:inline-block;\n                              background-image: radial-gradient(circle, #F8F,#F0F,#808); \n                              width:30px; height:30px; border-radius:50%;'>\n                  </div>"
      }
     },
     "84147f92802443089071ba68be440cea": {
      "model_module": "@jupyter-widgets/controls",
      "model_module_version": "1.5.0",
      "model_name": "LabelModel",
      "state": {
       "layout": "IPY_MODEL_586c671a5c264e8080cb9cf3338c7bb1",
       "style": "IPY_MODEL_74f4c22a959147e5921ae2970f9ca99f",
       "value": "G"
      }
     },
     "850a174301cb4ca194ff40d37af55d90": {
      "model_module": "@jupyter-widgets/base",
      "model_module_version": "1.2.0",
      "model_name": "LayoutModel",
      "state": {}
     },
     "85e1f9bfe212468d88ee49037595d337": {
      "model_module": "@jupyter-widgets/controls",
      "model_module_version": "1.5.0",
      "model_name": "DescriptionStyleModel",
      "state": {
       "description_width": ""
      }
     },
     "8c75c4e154d94116bc22430ca00ece3f": {
      "model_module": "@jupyter-widgets/base",
      "model_module_version": "1.2.0",
      "model_name": "LayoutModel",
      "state": {}
     },
     "8c97cbaebe7e427392a6f4219551a924": {
      "model_module": "@jupyter-widgets/controls",
      "model_module_version": "1.5.0",
      "model_name": "DescriptionStyleModel",
      "state": {
       "description_width": ""
      }
     },
     "8ff93368c5304bde9d3fdc71730c6e54": {
      "model_module": "@jupyter-widgets/controls",
      "model_module_version": "1.5.0",
      "model_name": "HTMLModel",
      "state": {
       "layout": "IPY_MODEL_13d2df122f354ef3be8b976bd9329c7d",
       "style": "IPY_MODEL_3187fa0353fe4ad985f60a78aa8e58f4",
       "value": "<div style='display:inline-block;\n                              background-image: radial-gradient(circle, #FD8,#F80,#840); \n                              width:30px; height:30px; border-radius:50%;'>\n                  </div>"
      }
     },
     "937f55f04d2a4ab3b65a54e72d3cbdb2": {
      "model_module": "@jupyter-widgets/controls",
      "model_module_version": "1.5.0",
      "model_name": "DescriptionStyleModel",
      "state": {
       "description_width": ""
      }
     },
     "94444d0ea7a74a44bf298c2b0eb25bec": {
      "model_module": "@jupyter-widgets/base",
      "model_module_version": "1.2.0",
      "model_name": "LayoutModel",
      "state": {}
     },
     "981cf8e5267f47acb9f4dd99a54d1466": {
      "model_module": "@jupyter-widgets/controls",
      "model_module_version": "1.5.0",
      "model_name": "HBoxModel",
      "state": {
       "children": [
        "IPY_MODEL_70a7ae1b35044808a2e71e6dac93c15b",
        "IPY_MODEL_ef10dba16bb844208cb0b96bd0d19cf2"
       ],
       "layout": "IPY_MODEL_fc3fb1de5e8d4c53bf8b6811ac13baff"
      }
     },
     "9956753418ed4862b8345354eca768b2": {
      "model_module": "@jupyter-widgets/controls",
      "model_module_version": "1.5.0",
      "model_name": "LabelModel",
      "state": {
       "layout": "IPY_MODEL_b5e2efce23624459814a5e67d91a5d98",
       "style": "IPY_MODEL_2cff8e87a6ba46ff8cebf50a33a51ff7",
       "value": "P"
      }
     },
     "9e68a1ea3ef44edba690083e62b4ad12": {
      "model_module": "@jupyter-widgets/base",
      "model_module_version": "1.2.0",
      "model_name": "LayoutModel",
      "state": {}
     },
     "a39e4b96e81b4e2ca18ac1a982edb19b": {
      "model_module": "@jupyter-widgets/controls",
      "model_module_version": "1.5.0",
      "model_name": "DescriptionStyleModel",
      "state": {
       "description_width": ""
      }
     },
     "a4027f9a4b4a434bb6312837b9df6794": {
      "model_module": "@jupyter-widgets/base",
      "model_module_version": "1.2.0",
      "model_name": "LayoutModel",
      "state": {}
     },
     "a54fed7b0bec4ae7b2a76bd610f5efbc": {
      "model_module": "@jupyter-widgets/controls",
      "model_module_version": "1.5.0",
      "model_name": "LabelModel",
      "state": {
       "layout": "IPY_MODEL_a4027f9a4b4a434bb6312837b9df6794",
       "style": "IPY_MODEL_85e1f9bfe212468d88ee49037595d337",
       "value": "B"
      }
     },
     "a58447b6895c4b25bb9a42dd395715f9": {
      "model_module": "@jupyter-widgets/controls",
      "model_module_version": "1.5.0",
      "model_name": "HTMLModel",
      "state": {
       "layout": "IPY_MODEL_6dfcaee11e5547e1af90aa762e43a9e2",
       "style": "IPY_MODEL_1550af4affb04195b6096e1e2b703c83",
       "value": "<div style='display:inline-block;\n                              background-image: radial-gradient(circle, #FF8,#FF0,#AA0); \n                              width:30px; height:30px; border-radius:50%;'>\n                  </div>"
      }
     },
     "a6b78c733b0b47868ec5572c6d9a442c": {
      "model_module": "@jupyter-widgets/controls",
      "model_module_version": "1.5.0",
      "model_name": "ButtonStyleModel",
      "state": {}
     },
     "a8d8921d030a411c85f5d65803b8d427": {
      "model_module": "@jupyter-widgets/controls",
      "model_module_version": "1.5.0",
      "model_name": "LabelModel",
      "state": {
       "layout": "IPY_MODEL_580da4efda4a47b49c449cdb9bd49b21",
       "style": "IPY_MODEL_c174a353272a4f0ba4654aeae2fd6ea7",
       "value": "O"
      }
     },
     "acb490ec5c944c3b88d84ab01e20c4f4": {
      "model_module": "@jupyter-widgets/base",
      "model_module_version": "1.2.0",
      "model_name": "LayoutModel",
      "state": {}
     },
     "ad6247fa4dfd45389e4494fc9e7339a7": {
      "model_module": "@jupyter-widgets/controls",
      "model_module_version": "1.5.0",
      "model_name": "LabelModel",
      "state": {
       "layout": "IPY_MODEL_de0687325a6743eaa0b8f63bcb834253",
       "style": "IPY_MODEL_8c97cbaebe7e427392a6f4219551a924",
       "value": "R"
      }
     },
     "aed4ecf725414c84b59fa2a82e006632": {
      "model_module": "@jupyter-widgets/base",
      "model_module_version": "1.2.0",
      "model_name": "LayoutModel",
      "state": {}
     },
     "b5d8f17c7e074750aec8874270f7e7a8": {
      "model_module": "@jupyter-widgets/controls",
      "model_module_version": "1.5.0",
      "model_name": "VBoxModel",
      "state": {
       "children": [
        "IPY_MODEL_caa1398de16a46a2adc6d7616b830808",
        "IPY_MODEL_34d047d77915434f862459b551b5b21a",
        "IPY_MODEL_c6740cd7181844ffaa77b791f7a4a09d",
        "IPY_MODEL_981cf8e5267f47acb9f4dd99a54d1466",
        "IPY_MODEL_7266d5b983874038bc2a61a5a9b236c2",
        "IPY_MODEL_226ccf6d27484efc874ffdb2812946f6",
        "IPY_MODEL_72342feda34c44d5a60677a0755e6263"
       ],
       "layout": "IPY_MODEL_0b73725011d642aabe92386500f2e94a"
      }
     },
     "b5e2efce23624459814a5e67d91a5d98": {
      "model_module": "@jupyter-widgets/base",
      "model_module_version": "1.2.0",
      "model_name": "LayoutModel",
      "state": {}
     },
     "b845e172d9fe4bbda60ad6befb307f87": {
      "model_module": "@jupyter-widgets/base",
      "model_module_version": "1.2.0",
      "model_name": "LayoutModel",
      "state": {}
     },
     "bb26e32f208d407d80edf4292cac0ee3": {
      "model_module": "@jupyter-widgets/controls",
      "model_module_version": "1.5.0",
      "model_name": "DescriptionStyleModel",
      "state": {
       "description_width": ""
      }
     },
     "bfbbee5e45a243ec9d71d5554a79f10b": {
      "model_module": "@jupyter-widgets/base",
      "model_module_version": "1.2.0",
      "model_name": "LayoutModel",
      "state": {}
     },
     "bfd335ff59994dfba9e53480be45e663": {
      "model_module": "@jupyter-widgets/controls",
      "model_module_version": "1.5.0",
      "model_name": "HBoxModel",
      "state": {
       "children": [
        "IPY_MODEL_1aef1f8bfad948e69c752cb4c5d9f83c",
        "IPY_MODEL_a58447b6895c4b25bb9a42dd395715f9"
       ],
       "layout": "IPY_MODEL_9e68a1ea3ef44edba690083e62b4ad12"
      }
     },
     "c174a353272a4f0ba4654aeae2fd6ea7": {
      "model_module": "@jupyter-widgets/controls",
      "model_module_version": "1.5.0",
      "model_name": "DescriptionStyleModel",
      "state": {
       "description_width": ""
      }
     },
     "c6740cd7181844ffaa77b791f7a4a09d": {
      "model_module": "@jupyter-widgets/controls",
      "model_module_version": "1.5.0",
      "model_name": "HBoxModel",
      "state": {
       "children": [
        "IPY_MODEL_05c012941d8947b389f052085deb4635",
        "IPY_MODEL_50b24e30ac15437398e6997ac63ac71f",
        "IPY_MODEL_5918e7f441114c61af2c5e713fd2f6de",
        "IPY_MODEL_bfd335ff59994dfba9e53480be45e663",
        "IPY_MODEL_d9bcb851d0c54525abd16a994aa34242",
        "IPY_MODEL_1c15aa33a0c14e4cba08fbd983440d6a",
        "IPY_MODEL_27ef9ad8723f455596587cebc1b71d54"
       ],
       "layout": "IPY_MODEL_0815a72cc78f486982dcef8c84de891a"
      }
     },
     "caa1398de16a46a2adc6d7616b830808": {
      "model_module": "@jupyter-widgets/controls",
      "model_module_version": "1.5.0",
      "model_name": "IntSliderModel",
      "state": {
       "description": "# guesses:",
       "layout": "IPY_MODEL_800dae0f37a14bb8aa17849606df7b54",
       "max": 15,
       "min": 5,
       "style": "IPY_MODEL_58cfd69696cc4a559fc10bbe6b598989",
       "value": 10
      }
     },
     "cc6ca34ee06b41d0938c7962f487f3ba": {
      "model_module": "@jupyter-widgets/base",
      "model_module_version": "1.2.0",
      "model_name": "LayoutModel",
      "state": {}
     },
     "ce934a6a667e446183c55ae33fa18855": {
      "model_module": "@jupyter-widgets/base",
      "model_module_version": "1.2.0",
      "model_name": "LayoutModel",
      "state": {}
     },
     "d23778fdbd524de0a7ec3cdec5551bb9": {
      "model_module": "@jupyter-widgets/base",
      "model_module_version": "1.2.0",
      "model_name": "LayoutModel",
      "state": {}
     },
     "d6d6521752744f1aa887e6c99c70b33a": {
      "model_module": "@jupyter-widgets/controls",
      "model_module_version": "1.5.0",
      "model_name": "DescriptionStyleModel",
      "state": {
       "description_width": ""
      }
     },
     "d9bcb851d0c54525abd16a994aa34242": {
      "model_module": "@jupyter-widgets/controls",
      "model_module_version": "1.5.0",
      "model_name": "HBoxModel",
      "state": {
       "children": [
        "IPY_MODEL_84147f92802443089071ba68be440cea",
        "IPY_MODEL_ff95ed88ce0e462784a9986c8c8d605d"
       ],
       "layout": "IPY_MODEL_40abd18ae30442f28e0b409a50179358"
      }
     },
     "de0687325a6743eaa0b8f63bcb834253": {
      "model_module": "@jupyter-widgets/base",
      "model_module_version": "1.2.0",
      "model_name": "LayoutModel",
      "state": {}
     },
     "e325a4f108914428a8621c8fa3554edc": {
      "model_module": "@jupyter-widgets/base",
      "model_module_version": "1.2.0",
      "model_name": "LayoutModel",
      "state": {}
     },
     "e8dd93a7a6fc4c86b46af8c157dec5a1": {
      "model_module": "@jupyter-widgets/controls",
      "model_module_version": "1.5.0",
      "model_name": "DescriptionStyleModel",
      "state": {
       "description_width": ""
      }
     },
     "ef10dba16bb844208cb0b96bd0d19cf2": {
      "model_module": "@jupyter-widgets/controls",
      "model_module_version": "1.5.0",
      "model_name": "ButtonModel",
      "state": {
       "description": "Start a new game",
       "layout": "IPY_MODEL_850a174301cb4ca194ff40d37af55d90",
       "style": "IPY_MODEL_fb57458e45f44d35a980f4371ffd490f"
      }
     },
     "fa32d25aa8a4425ba4ab10f52533eb21": {
      "model_module": "@jupyter-widgets/controls",
      "model_module_version": "1.5.0",
      "model_name": "TextModel",
      "state": {
       "description": "Guess:",
       "layout": "IPY_MODEL_b845e172d9fe4bbda60ad6befb307f87",
       "style": "IPY_MODEL_5d77d0f646414be0b8bb9ce2fa1e0b19",
       "value": "RRRR"
      }
     },
     "fb57458e45f44d35a980f4371ffd490f": {
      "model_module": "@jupyter-widgets/controls",
      "model_module_version": "1.5.0",
      "model_name": "ButtonStyleModel",
      "state": {}
     },
     "fc3fb1de5e8d4c53bf8b6811ac13baff": {
      "model_module": "@jupyter-widgets/base",
      "model_module_version": "1.2.0",
      "model_name": "LayoutModel",
      "state": {}
     },
     "ff95ed88ce0e462784a9986c8c8d605d": {
      "model_module": "@jupyter-widgets/controls",
      "model_module_version": "1.5.0",
      "model_name": "HTMLModel",
      "state": {
       "layout": "IPY_MODEL_e325a4f108914428a8621c8fa3554edc",
       "style": "IPY_MODEL_937f55f04d2a4ab3b65a54e72d3cbdb2",
       "value": "<div style='display:inline-block;\n                              background-image: radial-gradient(circle, #8F8,#0F0,#080); \n                              width:30px; height:30px; border-radius:50%;'>\n                  </div>"
      }
     }
    },
    "version_major": 2,
    "version_minor": 0
   }
  }
 },
 "nbformat": 4,
 "nbformat_minor": 4
}
